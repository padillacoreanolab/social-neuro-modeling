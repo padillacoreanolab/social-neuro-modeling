{
 "cells": [
  {
   "cell_type": "markdown",
   "metadata": {
    "cell_id": "c3a02adc9e884466bc8c79db549cc3d2",
    "deepnote_cell_type": "text-cell-h1",
    "formattedRanges": [
     {
      "fromCodePoint": 0,
      "marks": {
       "bold": true,
       "underline": true
      },
      "toCodePoint": 17,
      "type": "marks"
     }
    ]
   },
   "source": [
    "# SLEAP Distance Calculation"
   ]
  },
  {
   "cell_type": "markdown",
   "metadata": {
    "cell_id": "4546bee655b14a5dbf393161f1228e60",
    "deepnote_cell_type": "text-cell-p",
    "formattedRanges": []
   },
   "source": [
    "Brief 1-2 sentence description of notebook."
   ]
  },
  {
   "cell_type": "code",
   "execution_count": 1,
   "metadata": {
    "tags": []
   },
   "outputs": [],
   "source": [
    "import os\n",
    "import glob\n",
    "import git\n",
    "import sys\n"
   ]
  },
  {
   "cell_type": "code",
   "execution_count": 2,
   "metadata": {
    "cell_id": "03b495cefa6a4798a44c7f2e4c6a3ea7",
    "deepnote_cell_type": "code",
    "deepnote_to_be_reexecuted": false,
    "execution_millis": 21,
    "execution_start": 1691424003626,
    "source_hash": null,
    "tags": []
   },
   "outputs": [],
   "source": [
    "# Imports of all used packages and libraries\n",
    "import numpy as np\n",
    "import pandas as pd\n",
    "# import seaborn as sns\n",
    "import matplotlib as mpl\n",
    "import matplotlib.pyplot as plt\n",
    "import h5py\n",
    "from scipy.interpolate import interp1d\n",
    "from scipy.signal import savgol_filter\n"
   ]
  },
  {
   "cell_type": "code",
   "execution_count": 3,
   "metadata": {
    "tags": []
   },
   "outputs": [],
   "source": [
    "git_repo = git.Repo(\".\", search_parent_directories=True)\n",
    "git_root = git_repo.git.rev_parse(\"--show-toplevel\")"
   ]
  },
  {
   "cell_type": "code",
   "execution_count": 4,
   "metadata": {
    "tags": []
   },
   "outputs": [
    {
     "data": {
      "text/plain": [
       "'/blue/npadillacoreano/ryoi360/projects/reward_comp/repos/reward_competition_extention'"
      ]
     },
     "execution_count": 4,
     "metadata": {},
     "output_type": "execute_result"
    }
   ],
   "source": [
    "git_root"
   ]
  },
  {
   "cell_type": "code",
   "execution_count": 5,
   "metadata": {
    "tags": []
   },
   "outputs": [],
   "source": [
    "sys.path.insert(0, os.path.join(git_root, 'src'))"
   ]
  },
  {
   "cell_type": "code",
   "execution_count": 6,
   "metadata": {
    "tags": []
   },
   "outputs": [],
   "source": [
    "import utilities.helper\n",
    "import sleap.process_pose"
   ]
  },
  {
   "cell_type": "code",
   "execution_count": 7,
   "metadata": {
    "tags": []
   },
   "outputs": [],
   "source": [
    "# sns.set('notebook', 'ticks', font_scale=1.2)\n",
    "mpl.rcParams['figure.figsize'] = [15,6]"
   ]
  },
  {
   "cell_type": "code",
   "execution_count": null,
   "metadata": {},
   "outputs": [],
   "source": []
  },
  {
   "cell_type": "markdown",
   "metadata": {},
   "source": [
    "# Functions"
   ]
  },
  {
   "cell_type": "code",
   "execution_count": 8,
   "metadata": {
    "tags": []
   },
   "outputs": [],
   "source": [
    "def compute_velocity(node_loc, window_size=25, polynomial_order=3):\n",
    "    \"\"\"\n",
    "    Calculate the velocity of tracked nodes from pose data.\n",
    "    \n",
    "    The function utilizes the Savitzky-Golay filter to smooth the data and compute the velocity.\n",
    "    \n",
    "    Parameters:\n",
    "    ----------\n",
    "    node_loc : numpy.ndarray\n",
    "        The location of nodes, represented as an array of shape [frames, 2]. \n",
    "        Each row represents x and y coordinates for a particular frame.\n",
    "        \n",
    "    window_size : int, optional\n",
    "        The size of the window used for the Savitzky-Golay filter. \n",
    "        Represents the number of consecutive data points used when smoothing the data.\n",
    "        Default is 25.\n",
    "        \n",
    "    polynomial_order : int, optional\n",
    "        The order of the polynomial fit to the data within the Savitzky-Golay filter window.\n",
    "        Default is 3.\n",
    "\n",
    "    Returns:\n",
    "    -------\n",
    "    numpy.ndarray\n",
    "        The velocity for each frame, calculated from the smoothed x and y coordinates.\n",
    "    \n",
    "    \"\"\"\n",
    "    node_loc_vel = np.zeros_like(node_loc)\n",
    "    \n",
    "    # For each coordinate (x and y), smooth the data and calculate the derivative (velocity)\n",
    "    for c in range(node_loc.shape[-1]):\n",
    "        node_loc_vel[:, c] = savgol_filter(node_loc[:, c], window_size, polynomial_order, deriv=1)\n",
    "    \n",
    "    # Calculate the magnitude of the velocity vectors for each frame\n",
    "    node_vel = np.linalg.norm(node_loc_vel, axis=1)\n",
    "\n",
    "    return node_vel"
   ]
  },
  {
   "cell_type": "code",
   "execution_count": 9,
   "metadata": {
    "tags": []
   },
   "outputs": [],
   "source": [
    "def rolling_average(arr, window_size):\n",
    "    \"\"\"\n",
    "    Computes the rolling average using a specified window size.\n",
    "    \n",
    "    Parameters:\n",
    "        arr (numpy.array): The input array to compute the rolling average for.\n",
    "        window_size (int): The size of the rolling window.\n",
    "\n",
    "    Returns:\n",
    "        numpy.array: The rolling average of the input array.\n",
    "    \"\"\"\n",
    "    if window_size < 1:\n",
    "       raise ValueError(\"Window size must be at least 1.\")\n",
    "    \n",
    "    # Create a uniform window of given window size\n",
    "    window = np.ones(window_size) / window_size\n",
    "\n",
    "    # Use numpy's convolve function to compute the rolling average\n",
    "    return np.convolve(arr, window, mode='valid')\n",
    "\n"
   ]
  },
  {
   "cell_type": "code",
   "execution_count": 10,
   "metadata": {
    "tags": []
   },
   "outputs": [],
   "source": [
    "def chunked_average(arr, chunk_size):\n",
    "    \"\"\"\n",
    "    Computes the average for non-overlapping chunks of the input array.\n",
    "    \n",
    "    Parameters:\n",
    "        arr (numpy.array): The input array.\n",
    "        chunk_size (int): The size of each chunk.\n",
    "\n",
    "    Returns:\n",
    "        numpy.array: The averages of the non-overlapping chunks.\n",
    "    \"\"\"\n",
    "\n",
    "    # Number of chunks\n",
    "    num_chunks = len(arr) // chunk_size\n",
    "    \n",
    "    # Reshape the array into a 2D array of shape (num_chunks, chunk_size)\n",
    "    reshaped_arr = arr[:num_chunks * chunk_size].reshape(num_chunks, chunk_size)\n",
    "    \n",
    "    # Compute the mean along the second axis (i.e., for each chunk)\n",
    "    return reshaped_arr.mean(axis=1)"
   ]
  },
  {
   "cell_type": "code",
   "execution_count": 11,
   "metadata": {
    "tags": []
   },
   "outputs": [],
   "source": [
    "def sliding_window_average(arr, window_size, step=1):\n",
    "    \"\"\"\n",
    "    Apply a sliding window to a 1D numpy array, returning the average of windows of a specified size.\n",
    "\n",
    "    :param arr: Input 1D numpy array.\n",
    "    :param window_size: Size of the window.\n",
    "    :param step: The step size or number of elements to slide the window by. Default is 1.\n",
    "    :return: A 1D numpy array where each element is the average of a window from the input.\n",
    "    \"\"\"\n",
    "    # Number of windows\n",
    "    num_windows = ((arr.size - window_size) // step) + 1\n",
    "    \n",
    "    # Output array for averages\n",
    "    averages = np.zeros(num_windows)\n",
    "    \n",
    "    for i in range(num_windows):\n",
    "        # Calculate the start and end index for the window\n",
    "        start = i * step\n",
    "        end = start + window_size\n",
    "        # Calculate the average of the window\n",
    "        averages[i] = np.mean(arr[start:end])\n",
    "\n",
    "    return averages"
   ]
  },
  {
   "cell_type": "code",
   "execution_count": 12,
   "metadata": {
    "tags": []
   },
   "outputs": [],
   "source": [
    "def calculate_all_window_indices(original_index, window_size, step, array_length):\n",
    "    \"\"\"\n",
    "    Calculate all the start and stop indices for sliding windows based on an original start index.\n",
    "\n",
    "    :param original_index: The original index from which the first window should start.\n",
    "    :param window_size: The size of each sliding window.\n",
    "    :param step: The step size or number of elements to slide the window by.\n",
    "    :param array_length: The total number of elements in the array.\n",
    "    :return: A list of tuples, each containing the start and stop indices for a sliding window.\n",
    "    \"\"\"\n",
    "\n",
    "    # Initialize the list to hold the start and stop indices for all windows\n",
    "    windows = []\n",
    "\n",
    "    # Initialize the current start index with the original index\n",
    "    current_start_index = original_index\n",
    "\n",
    "    # Loop through the array until the end is reached\n",
    "    while current_start_index + window_size <= original_index + array_length:\n",
    "        # Calculate the stop index based on the window size\n",
    "        stop_index = current_start_index + window_size\n",
    "\n",
    "        # Add the start and stop indices to the list\n",
    "        windows.append((current_start_index, stop_index))\n",
    "\n",
    "        # Update the current start index by adding the step size\n",
    "        current_start_index += step\n",
    "\n",
    "    return windows"
   ]
  },
  {
   "cell_type": "markdown",
   "metadata": {
    "cell_id": "d290bac2c17940bfbc0f9296beaf70e5",
    "deepnote_cell_type": "text-cell-h2",
    "formattedRanges": []
   },
   "source": [
    "## Inputs & Data"
   ]
  },
  {
   "cell_type": "markdown",
   "metadata": {
    "cell_id": "e528ce19c608425292151930d380f49f",
    "deepnote_cell_type": "text-cell-p",
    "formattedRanges": []
   },
   "source": [
    "Explanation of each input and where it comes from."
   ]
  },
  {
   "cell_type": "code",
   "execution_count": 13,
   "metadata": {
    "cell_id": "6cf83a5811054461a718a71673d09aab",
    "deepnote_cell_type": "code",
    "deepnote_to_be_reexecuted": false,
    "execution_millis": 373,
    "execution_start": 1691424003628,
    "source_hash": null,
    "tags": []
   },
   "outputs": [],
   "source": [
    "# Inputs and Required data loading\n",
    "# input varaible names are in all caps snake case\n",
    "# Whenever an input changes or is used for processing \n",
    "# the vairables are all lower in snake case\n",
    "THORAX_INDEX = 1\n",
    "\n",
    "LFP_SPECTRAL_DF = pd.read_pickle(\"./proc/rce_pilot_2_03_spectral_bands.pkl\")\n",
    "LFP_SPECTRAL_DF[\"video_name\"] = LFP_SPECTRAL_DF[\"video_name\"].apply(lambda x: x.strip(\".videoTimeStamps.cameraHWSync\"))\n",
    "\n",
    "# SLEAP_DIR = os.path.join(git_root, \"proc/sleap\") \n",
    "# SLEAP_DIR = \"/scratch/back_up/reward_competition_extention/final_proc/id_corrected\"\n",
    "SLEAP_DIR = \"/blue/npadillacoreano/ryoi360/projects/reward_comp/final_proc/id_corrected\"\n",
    "\n",
    "OUTPUT_DIR = r\"./proc\" # where data is saved should always be shown in the inputs\n",
    "MED_PC_WIDTH = 29.5\n",
    "MED_PC_HEIGHT = 24\n",
    "FRAME_RATE = 22\n",
    "WINDOW_SIZE = 25\n",
    "DISTANCE_THRESHOLD = 2"
   ]
  },
  {
   "cell_type": "code",
   "execution_count": 14,
   "metadata": {
    "tags": []
   },
   "outputs": [],
   "source": [
    "START_STOP_FRAME_DF = pd.read_excel(\"./data/rce_per_subject_start_stop_video_frame.xlsx\")\n"
   ]
  },
  {
   "cell_type": "markdown",
   "metadata": {
    "cell_id": "e3ee4891d43a4ac287413afc552ca289",
    "deepnote_cell_type": "text-cell-h2",
    "formattedRanges": []
   },
   "source": [
    "## Outputs"
   ]
  },
  {
   "cell_type": "markdown",
   "metadata": {
    "cell_id": "9ccbf6cc70fd4d379fa29317f733771f",
    "deepnote_cell_type": "text-cell-p",
    "formattedRanges": []
   },
   "source": [
    "Describe each output that the notebook creates. "
   ]
  },
  {
   "cell_type": "markdown",
   "metadata": {
    "cell_id": "fc8e8920a6944918a15fac575cdf6e78",
    "deepnote_cell_type": "text-cell-bullet",
    "formattedRanges": []
   },
   "source": [
    "- Is it a plot or is it data?"
   ]
  },
  {
   "cell_type": "markdown",
   "metadata": {
    "cell_id": "1e639d4776a84aa9ac8ded2e14fa57db",
    "deepnote_cell_type": "text-cell-bullet",
    "formattedRanges": []
   },
   "source": [
    "- How valuable is the output and why is it valuable or useful?"
   ]
  },
  {
   "cell_type": "code",
   "execution_count": 15,
   "metadata": {
    "tags": []
   },
   "outputs": [],
   "source": [
    "# Inputs and Required data loading\n",
    "# input varaible names are in all caps snake case\n",
    "# Whenever an input changes or is used for processing \n",
    "# the vairables are all lower in snake case\n",
    "OUTPUT_DIR = r\"./proc/\" # where data is saved should always be shown in the inputs\n",
    "os.makedirs(OUTPUT_DIR, exist_ok=True)\n",
    "OUTPUT_PREFIX = \"rce_pilot_2\""
   ]
  },
  {
   "cell_type": "code",
   "execution_count": 16,
   "metadata": {
    "tags": []
   },
   "outputs": [],
   "source": [
    "FULL_LFP_TRACES_PKL = \"{}_04_spectral_and_sleap.pkl\".format(OUTPUT_PREFIX)"
   ]
  },
  {
   "cell_type": "markdown",
   "metadata": {
    "cell_id": "8999d19b6b7d4d63bc90f0b0bd9ab085",
    "deepnote_cell_type": "text-cell-h2",
    "formattedRanges": []
   },
   "source": [
    "## Processing"
   ]
  },
  {
   "cell_type": "markdown",
   "metadata": {
    "cell_id": "9b36cdf08567463082b005cb0dec684b",
    "deepnote_cell_type": "text-cell-p",
    "formattedRanges": []
   },
   "source": [
    "Describe what is done to the data here and how inputs are manipulated to generate outputs. "
   ]
  },
  {
   "cell_type": "markdown",
   "metadata": {},
   "source": [
    "# Getting the videos where the subject is in the recording"
   ]
  },
  {
   "cell_type": "markdown",
   "metadata": {},
   "source": [
    "### Looking at when each subject was in each video"
   ]
  },
  {
   "cell_type": "code",
   "execution_count": 17,
   "metadata": {
    "tags": []
   },
   "outputs": [],
   "source": [
    "START_STOP_FRAME_DF = pd.read_excel(\"./data/rce_per_subject_start_stop_video_frame.xlsx\")\n",
    "START_STOP_FRAME_DF = START_STOP_FRAME_DF.dropna(subset=[\"file_path\"])"
   ]
  },
  {
   "cell_type": "markdown",
   "metadata": {},
   "source": [
    "- Getting the name of the SLEAP and video files where each subject was in"
   ]
  },
  {
   "cell_type": "code",
   "execution_count": 18,
   "metadata": {
    "tags": []
   },
   "outputs": [],
   "source": [
    "START_STOP_FRAME_DF[\"sleap_name\"] = START_STOP_FRAME_DF[\"file_path\"].apply(lambda x: os.path.basename(x))\n",
    "START_STOP_FRAME_DF[\"video_name\"] = START_STOP_FRAME_DF[\"file_path\"].apply(lambda x: \".\".join(os.path.basename(x).split(\".\")[:2]))\n",
    "START_STOP_FRAME_DF[\"start_frame\"] = START_STOP_FRAME_DF[\"start_frame\"].astype(int)\n",
    "START_STOP_FRAME_DF[\"stop_frame\"] = START_STOP_FRAME_DF[\"stop_frame\"].astype(int)"
   ]
  },
  {
   "cell_type": "code",
   "execution_count": 19,
   "metadata": {
    "tags": []
   },
   "outputs": [],
   "source": [
    "START_STOP_FRAME_DF = START_STOP_FRAME_DF.drop(columns=[\"file_path\", \"notes\"], errors=\"ignore\")"
   ]
  },
  {
   "cell_type": "code",
   "execution_count": 20,
   "metadata": {
    "tags": []
   },
   "outputs": [
    {
     "data": {
      "text/plain": [
       "array(['20221214_125409_om_and_comp_6_1_and_6_3.1',\n",
       "       '20221215_145401_comp_amd_om_6_1_and_6_3.1',\n",
       "       '20230612_112630_standard_comp_to_training_D1_subj_1-2_and_1-1.1',\n",
       "       '20230612_112630_standard_comp_to_training_D1_subj_1-2_and_1-1.2',\n",
       "       '20230613_105657_standard_comp_to_training_D2_subj_1-1_and_1-4.1',\n",
       "       '20230613_105657_standard_comp_to_training_D2_subj_1-1_and_1-4.2',\n",
       "       '20230614_114041_standard_comp_to_training_D3_subj_1-1_and_1-2.1',\n",
       "       '20230614_114041_standard_comp_to_training_D3_subj_1-1_and_1-2.2',\n",
       "       '20230614_114041_standard_comp_to_training_D3_subj_1-1_and_1-2.3',\n",
       "       '20230616_111904_standard_comp_to_training_D4_subj_1-4_and_1-2.1',\n",
       "       '20230616_111904_standard_comp_to_training_D4_subj_1-4_and_1-2.2',\n",
       "       '20230617_115521_standard_comp_to_omission_D1_subj_1-1_and_1-2.1',\n",
       "       '20230617_115521_standard_comp_to_omission_D1_subj_1-1_and_1-2.3',\n",
       "       '20230618_100636_standard_comp_to_omission_D2_subj_1-4_and_1-1.1',\n",
       "       '20230618_100636_standard_comp_to_omission_D2_subj_1-4_and_1-1.2',\n",
       "       '20230619_115321_standard_comp_to_omission_D3_subj_1-2_and_1-4.3',\n",
       "       '20230619_115321_standard_comp_to_omission_D3_subj_1-2_and_1-4.4',\n",
       "       '20230620_114347_standard_comp_to_omission_D4_subj_1-2_and_1-1.1',\n",
       "       '20230620_114347_standard_comp_to_omission_D4_subj_1-2_and_1-1.2',\n",
       "       '20230621_111240_standard_comp_to_omission_D5_subj_1-4_and_1-2.1',\n",
       "       '20230621_111240_standard_comp_to_omission_D5_subj_1-4_and_1-2.2',\n",
       "       '20230622_110832_standard_comp_to_both_rewarded_D1_subj_1-1_and_1-2.1',\n",
       "       '20230623_114932_standard_comp_to_both_rewarded_D2_subj_1-4_and_1-1.1',\n",
       "       '20230623_114932_standard_comp_to_both_rewarded_D2_subj_1-4_and_1-1.2',\n",
       "       '20230624_105855_standard_comp_to_both_rewarded_D3_subj_1-2_and_1-4.1',\n",
       "       '20230625_112913_standard_comp_to_both_rewarded_D4_subj_1-1_and_1-4.1',\n",
       "       '20230628_111202_standard_comp_to_novel_agent_D1_subj_1-1vs2-2and1-2vs2-1.1',\n",
       "       '20230628_111202_standard_comp_to_novel_agent_D1_subj_1-1vs2-2and1-2vs2-1.2',\n",
       "       '20230628_111202_standard_comp_to_novel_agent_D1_subj_1-1vs2-2and1-2vs2-1.3',\n",
       "       '20230628_111202_standard_comp_to_novel_agent_D1_subj_1-1vs2-2and1-2vs2-1.4',\n",
       "       '20230629_111937_standard_comp_to_novel_agent_D2_subj_1-1vs2-1and1-4vs2-2.1',\n",
       "       '20230629_111937_standard_comp_to_novel_agent_D2_subj_1-1vs2-1and1-4vs2-2.2',\n",
       "       '20230630_115506_standard_comp_to_novel_agent_D3_subj_1-4vs2-1and1-2vs2-2.1',\n",
       "       '20230630_115506_standard_comp_to_novel_agent_D3_subj_1-4vs2-1and1-2vs2-2.2'],\n",
       "      dtype=object)"
      ]
     },
     "execution_count": 20,
     "metadata": {},
     "output_type": "execute_result"
    }
   ],
   "source": [
    "START_STOP_FRAME_DF[\"video_name\"].unique()"
   ]
  },
  {
   "cell_type": "code",
   "execution_count": 21,
   "metadata": {
    "tags": []
   },
   "outputs": [
    {
     "data": {
      "text/html": [
       "<div>\n",
       "<style scoped>\n",
       "    .dataframe tbody tr th:only-of-type {\n",
       "        vertical-align: middle;\n",
       "    }\n",
       "\n",
       "    .dataframe tbody tr th {\n",
       "        vertical-align: top;\n",
       "    }\n",
       "\n",
       "    .dataframe thead th {\n",
       "        text-align: right;\n",
       "    }\n",
       "</style>\n",
       "<table border=\"1\" class=\"dataframe\">\n",
       "  <thead>\n",
       "    <tr style=\"text-align: right;\">\n",
       "      <th></th>\n",
       "      <th>start_frame</th>\n",
       "      <th>stop_frame</th>\n",
       "      <th>tracked_subject</th>\n",
       "      <th>in_video_subjects</th>\n",
       "      <th>box_number</th>\n",
       "      <th>sleap_name</th>\n",
       "      <th>video_name</th>\n",
       "    </tr>\n",
       "  </thead>\n",
       "  <tbody>\n",
       "    <tr>\n",
       "      <th>0</th>\n",
       "      <td>1</td>\n",
       "      <td>25000</td>\n",
       "      <td>6.3</td>\n",
       "      <td>6.1_6.3</td>\n",
       "      <td>1</td>\n",
       "      <td>20221214_125409_om_and_comp_6_1_and_6_3.1.1_su...</td>\n",
       "      <td>20221214_125409_om_and_comp_6_1_and_6_3.1</td>\n",
       "    </tr>\n",
       "    <tr>\n",
       "      <th>1</th>\n",
       "      <td>27500</td>\n",
       "      <td>73600</td>\n",
       "      <td>6.1_6.3</td>\n",
       "      <td>6.1_6.3</td>\n",
       "      <td>1</td>\n",
       "      <td>20221214_125409_om_and_comp_6_1_and_6_3.1.2_su...</td>\n",
       "      <td>20221214_125409_om_and_comp_6_1_and_6_3.1</td>\n",
       "    </tr>\n",
       "    <tr>\n",
       "      <th>2</th>\n",
       "      <td>51500</td>\n",
       "      <td>76454</td>\n",
       "      <td>6.3</td>\n",
       "      <td>6.1_6.3</td>\n",
       "      <td>1</td>\n",
       "      <td>20221215_145401_comp_amd_om_6_1_and_6_3.1.1_su...</td>\n",
       "      <td>20221215_145401_comp_amd_om_6_1_and_6_3.1</td>\n",
       "    </tr>\n",
       "    <tr>\n",
       "      <th>3</th>\n",
       "      <td>1</td>\n",
       "      <td>48500</td>\n",
       "      <td>6.1_6.3</td>\n",
       "      <td>6.1_6.3</td>\n",
       "      <td>1</td>\n",
       "      <td>20221215_145401_comp_amd_om_6_1_and_6_3.1.2_su...</td>\n",
       "      <td>20221215_145401_comp_amd_om_6_1_and_6_3.1</td>\n",
       "    </tr>\n",
       "    <tr>\n",
       "      <th>4</th>\n",
       "      <td>32700</td>\n",
       "      <td>68257</td>\n",
       "      <td>1.2</td>\n",
       "      <td>1.1_1.2</td>\n",
       "      <td>1</td>\n",
       "      <td>20230612_112630_standard_comp_to_training_D1_s...</td>\n",
       "      <td>20230612_112630_standard_comp_to_training_D1_s...</td>\n",
       "    </tr>\n",
       "  </tbody>\n",
       "</table>\n",
       "</div>"
      ],
      "text/plain": [
       "   start_frame  stop_frame tracked_subject in_video_subjects  box_number  \\\n",
       "0            1       25000             6.3           6.1_6.3           1   \n",
       "1        27500       73600         6.1_6.3           6.1_6.3           1   \n",
       "2        51500       76454             6.3           6.1_6.3           1   \n",
       "3            1       48500         6.1_6.3           6.1_6.3           1   \n",
       "4        32700       68257             1.2           1.1_1.2           1   \n",
       "\n",
       "                                          sleap_name  \\\n",
       "0  20221214_125409_om_and_comp_6_1_and_6_3.1.1_su...   \n",
       "1  20221214_125409_om_and_comp_6_1_and_6_3.1.2_su...   \n",
       "2  20221215_145401_comp_amd_om_6_1_and_6_3.1.1_su...   \n",
       "3  20221215_145401_comp_amd_om_6_1_and_6_3.1.2_su...   \n",
       "4  20230612_112630_standard_comp_to_training_D1_s...   \n",
       "\n",
       "                                          video_name  \n",
       "0          20221214_125409_om_and_comp_6_1_and_6_3.1  \n",
       "1          20221214_125409_om_and_comp_6_1_and_6_3.1  \n",
       "2          20221215_145401_comp_amd_om_6_1_and_6_3.1  \n",
       "3          20221215_145401_comp_amd_om_6_1_and_6_3.1  \n",
       "4  20230612_112630_standard_comp_to_training_D1_s...  "
      ]
     },
     "execution_count": 21,
     "metadata": {},
     "output_type": "execute_result"
    }
   ],
   "source": [
    "START_STOP_FRAME_DF.head()"
   ]
  },
  {
   "cell_type": "markdown",
   "metadata": {},
   "source": [
    "- Splitting each row into seperate row for each subject in the video"
   ]
  },
  {
   "cell_type": "code",
   "execution_count": 22,
   "metadata": {
    "tags": []
   },
   "outputs": [],
   "source": [
    "START_STOP_FRAME_DF[\"tracked_subject\"] = START_STOP_FRAME_DF[\"tracked_subject\"].apply(lambda x: str(x).split(\"_\"))\n",
    "START_STOP_FRAME_DF[\"current_subject\"] = START_STOP_FRAME_DF[\"tracked_subject\"]"
   ]
  },
  {
   "cell_type": "code",
   "execution_count": 23,
   "metadata": {
    "tags": []
   },
   "outputs": [],
   "source": [
    "START_STOP_FRAME_DF = START_STOP_FRAME_DF.explode(\"current_subject\")"
   ]
  },
  {
   "cell_type": "code",
   "execution_count": 24,
   "metadata": {
    "tags": []
   },
   "outputs": [
    {
     "data": {
      "text/html": [
       "<div>\n",
       "<style scoped>\n",
       "    .dataframe tbody tr th:only-of-type {\n",
       "        vertical-align: middle;\n",
       "    }\n",
       "\n",
       "    .dataframe tbody tr th {\n",
       "        vertical-align: top;\n",
       "    }\n",
       "\n",
       "    .dataframe thead th {\n",
       "        text-align: right;\n",
       "    }\n",
       "</style>\n",
       "<table border=\"1\" class=\"dataframe\">\n",
       "  <thead>\n",
       "    <tr style=\"text-align: right;\">\n",
       "      <th></th>\n",
       "      <th>start_frame</th>\n",
       "      <th>stop_frame</th>\n",
       "      <th>tracked_subject</th>\n",
       "      <th>in_video_subjects</th>\n",
       "      <th>box_number</th>\n",
       "      <th>sleap_name</th>\n",
       "      <th>video_name</th>\n",
       "      <th>current_subject</th>\n",
       "    </tr>\n",
       "  </thead>\n",
       "  <tbody>\n",
       "    <tr>\n",
       "      <th>0</th>\n",
       "      <td>1</td>\n",
       "      <td>25000</td>\n",
       "      <td>[6.3]</td>\n",
       "      <td>6.1_6.3</td>\n",
       "      <td>1</td>\n",
       "      <td>20221214_125409_om_and_comp_6_1_and_6_3.1.1_su...</td>\n",
       "      <td>20221214_125409_om_and_comp_6_1_and_6_3.1</td>\n",
       "      <td>6.3</td>\n",
       "    </tr>\n",
       "    <tr>\n",
       "      <th>1</th>\n",
       "      <td>27500</td>\n",
       "      <td>73600</td>\n",
       "      <td>[6.1, 6.3]</td>\n",
       "      <td>6.1_6.3</td>\n",
       "      <td>1</td>\n",
       "      <td>20221214_125409_om_and_comp_6_1_and_6_3.1.2_su...</td>\n",
       "      <td>20221214_125409_om_and_comp_6_1_and_6_3.1</td>\n",
       "      <td>6.1</td>\n",
       "    </tr>\n",
       "    <tr>\n",
       "      <th>1</th>\n",
       "      <td>27500</td>\n",
       "      <td>73600</td>\n",
       "      <td>[6.1, 6.3]</td>\n",
       "      <td>6.1_6.3</td>\n",
       "      <td>1</td>\n",
       "      <td>20221214_125409_om_and_comp_6_1_and_6_3.1.2_su...</td>\n",
       "      <td>20221214_125409_om_and_comp_6_1_and_6_3.1</td>\n",
       "      <td>6.3</td>\n",
       "    </tr>\n",
       "    <tr>\n",
       "      <th>2</th>\n",
       "      <td>51500</td>\n",
       "      <td>76454</td>\n",
       "      <td>[6.3]</td>\n",
       "      <td>6.1_6.3</td>\n",
       "      <td>1</td>\n",
       "      <td>20221215_145401_comp_amd_om_6_1_and_6_3.1.1_su...</td>\n",
       "      <td>20221215_145401_comp_amd_om_6_1_and_6_3.1</td>\n",
       "      <td>6.3</td>\n",
       "    </tr>\n",
       "    <tr>\n",
       "      <th>3</th>\n",
       "      <td>1</td>\n",
       "      <td>48500</td>\n",
       "      <td>[6.1, 6.3]</td>\n",
       "      <td>6.1_6.3</td>\n",
       "      <td>1</td>\n",
       "      <td>20221215_145401_comp_amd_om_6_1_and_6_3.1.2_su...</td>\n",
       "      <td>20221215_145401_comp_amd_om_6_1_and_6_3.1</td>\n",
       "      <td>6.1</td>\n",
       "    </tr>\n",
       "  </tbody>\n",
       "</table>\n",
       "</div>"
      ],
      "text/plain": [
       "   start_frame  stop_frame tracked_subject in_video_subjects  box_number  \\\n",
       "0            1       25000           [6.3]           6.1_6.3           1   \n",
       "1        27500       73600      [6.1, 6.3]           6.1_6.3           1   \n",
       "1        27500       73600      [6.1, 6.3]           6.1_6.3           1   \n",
       "2        51500       76454           [6.3]           6.1_6.3           1   \n",
       "3            1       48500      [6.1, 6.3]           6.1_6.3           1   \n",
       "\n",
       "                                          sleap_name  \\\n",
       "0  20221214_125409_om_and_comp_6_1_and_6_3.1.1_su...   \n",
       "1  20221214_125409_om_and_comp_6_1_and_6_3.1.2_su...   \n",
       "1  20221214_125409_om_and_comp_6_1_and_6_3.1.2_su...   \n",
       "2  20221215_145401_comp_amd_om_6_1_and_6_3.1.1_su...   \n",
       "3  20221215_145401_comp_amd_om_6_1_and_6_3.1.2_su...   \n",
       "\n",
       "                                  video_name current_subject  \n",
       "0  20221214_125409_om_and_comp_6_1_and_6_3.1             6.3  \n",
       "1  20221214_125409_om_and_comp_6_1_and_6_3.1             6.1  \n",
       "1  20221214_125409_om_and_comp_6_1_and_6_3.1             6.3  \n",
       "2  20221215_145401_comp_amd_om_6_1_and_6_3.1             6.3  \n",
       "3  20221215_145401_comp_amd_om_6_1_and_6_3.1             6.1  "
      ]
     },
     "execution_count": 24,
     "metadata": {},
     "output_type": "execute_result"
    }
   ],
   "source": [
    "START_STOP_FRAME_DF.head()"
   ]
  },
  {
   "cell_type": "code",
   "execution_count": 25,
   "metadata": {
    "tags": []
   },
   "outputs": [
    {
     "data": {
      "text/plain": [
       "(79, 8)"
      ]
     },
     "execution_count": 25,
     "metadata": {},
     "output_type": "execute_result"
    }
   ],
   "source": [
    "START_STOP_FRAME_DF.shape"
   ]
  },
  {
   "cell_type": "markdown",
   "metadata": {},
   "source": [
    "# Reading in the h5 files between recordings"
   ]
  },
  {
   "cell_type": "code",
   "execution_count": 26,
   "metadata": {
    "tags": []
   },
   "outputs": [],
   "source": [
    "START_STOP_FRAME_DF[\"sleap_glob\"] = START_STOP_FRAME_DF[\"sleap_name\"].apply(lambda x: glob.glob(os.path.join(SLEAP_DIR, \"**\", x)))\n"
   ]
  },
  {
   "cell_type": "code",
   "execution_count": 27,
   "metadata": {
    "tags": []
   },
   "outputs": [
    {
     "name": "stdout",
     "output_type": "stream",
     "text": [
      "20221214_125409_om_and_comp_6_1_and_6_3.1.1_subj.id_corrected.h5\n",
      "20221214_125409_om_and_comp_6_1_and_6_3.1.2_subj.id_corrected.h5\n",
      "20221214_125409_om_and_comp_6_1_and_6_3.1.2_subj.id_corrected.h5\n",
      "20221215_145401_comp_amd_om_6_1_and_6_3.1.1_subj.id_corrected.h5\n",
      "20221215_145401_comp_amd_om_6_1_and_6_3.1.2_subj.id_corrected.h5\n",
      "20221215_145401_comp_amd_om_6_1_and_6_3.1.2_subj.id_corrected.h5\n"
     ]
    }
   ],
   "source": [
    "for name in START_STOP_FRAME_DF[START_STOP_FRAME_DF[\"sleap_glob\"].apply(lambda x: len(x) == 0)][\"sleap_name\"]:\n",
    "    print(name)"
   ]
  },
  {
   "cell_type": "code",
   "execution_count": 28,
   "metadata": {
    "tags": []
   },
   "outputs": [],
   "source": [
    "START_STOP_FRAME_DF = START_STOP_FRAME_DF[START_STOP_FRAME_DF['sleap_glob'].apply(lambda x: len(x) >= 1)]\n",
    "START_STOP_FRAME_DF = START_STOP_FRAME_DF.reset_index(drop=True)\n",
    "\n",
    "\n"
   ]
  },
  {
   "cell_type": "code",
   "execution_count": 29,
   "metadata": {},
   "outputs": [],
   "source": [
    "START_STOP_FRAME_DF[\"sleap_path\"] = START_STOP_FRAME_DF[\"sleap_glob\"].apply(lambda x: x[0])"
   ]
  },
  {
   "cell_type": "markdown",
   "metadata": {},
   "source": []
  },
  {
   "cell_type": "code",
   "execution_count": 30,
   "metadata": {},
   "outputs": [],
   "source": [
    "START_STOP_FRAME_DF[\"all_sleap_data\"] = START_STOP_FRAME_DF[\"sleap_path\"].apply(lambda x: sleap.process_pose.extract_sleap_data(x))\n"
   ]
  },
  {
   "cell_type": "code",
   "execution_count": 31,
   "metadata": {
    "tags": []
   },
   "outputs": [],
   "source": [
    "START_STOP_FRAME_DF[\"body_parts\"] = START_STOP_FRAME_DF[\"sleap_path\"].apply(lambda x: sleap.process_pose.get_node_names_from_sleap(x))"
   ]
  },
  {
   "cell_type": "code",
   "execution_count": 32,
   "metadata": {
    "tags": []
   },
   "outputs": [
    {
     "data": {
      "text/plain": [
       "['left_ear', 'right_ear', 'nose', 'tail_base', 'thorax', 'forehead']"
      ]
     },
     "execution_count": 32,
     "metadata": {},
     "output_type": "execute_result"
    }
   ],
   "source": [
    "START_STOP_FRAME_DF[\"body_parts\"].iloc[0]"
   ]
  },
  {
   "cell_type": "code",
   "execution_count": 33,
   "metadata": {},
   "outputs": [],
   "source": [
    "START_STOP_FRAME_DF[\"locations\"] = START_STOP_FRAME_DF[\"all_sleap_data\"].apply(lambda x: x[\"locations\"])"
   ]
  },
  {
   "cell_type": "code",
   "execution_count": 34,
   "metadata": {},
   "outputs": [],
   "source": [
    "START_STOP_FRAME_DF[\"track_names\"] = START_STOP_FRAME_DF[\"all_sleap_data\"].apply(lambda x: x[\"track_names\"])"
   ]
  },
  {
   "cell_type": "code",
   "execution_count": 35,
   "metadata": {
    "tags": []
   },
   "outputs": [
    {
     "data": {
      "text/plain": [
       "(68258, 6, 2, 1)"
      ]
     },
     "execution_count": 35,
     "metadata": {},
     "output_type": "execute_result"
    }
   ],
   "source": [
    "START_STOP_FRAME_DF[\"locations\"].iloc[0].shape"
   ]
  },
  {
   "cell_type": "code",
   "execution_count": 36,
   "metadata": {
    "tags": []
   },
   "outputs": [
    {
     "data": {
      "text/html": [
       "<div>\n",
       "<style scoped>\n",
       "    .dataframe tbody tr th:only-of-type {\n",
       "        vertical-align: middle;\n",
       "    }\n",
       "\n",
       "    .dataframe tbody tr th {\n",
       "        vertical-align: top;\n",
       "    }\n",
       "\n",
       "    .dataframe thead th {\n",
       "        text-align: right;\n",
       "    }\n",
       "</style>\n",
       "<table border=\"1\" class=\"dataframe\">\n",
       "  <thead>\n",
       "    <tr style=\"text-align: right;\">\n",
       "      <th></th>\n",
       "      <th>start_frame</th>\n",
       "      <th>stop_frame</th>\n",
       "      <th>tracked_subject</th>\n",
       "      <th>in_video_subjects</th>\n",
       "      <th>box_number</th>\n",
       "      <th>sleap_name</th>\n",
       "      <th>video_name</th>\n",
       "      <th>current_subject</th>\n",
       "      <th>sleap_glob</th>\n",
       "      <th>sleap_path</th>\n",
       "      <th>all_sleap_data</th>\n",
       "      <th>body_parts</th>\n",
       "      <th>locations</th>\n",
       "      <th>track_names</th>\n",
       "    </tr>\n",
       "  </thead>\n",
       "  <tbody>\n",
       "    <tr>\n",
       "      <th>0</th>\n",
       "      <td>32700</td>\n",
       "      <td>68257</td>\n",
       "      <td>[1.2]</td>\n",
       "      <td>1.1_1.2</td>\n",
       "      <td>1</td>\n",
       "      <td>20230612_112630_standard_comp_to_training_D1_s...</td>\n",
       "      <td>20230612_112630_standard_comp_to_training_D1_s...</td>\n",
       "      <td>1.2</td>\n",
       "      <td>[/blue/npadillacoreano/ryoi360/projects/reward...</td>\n",
       "      <td>/blue/npadillacoreano/ryoi360/projects/reward_...</td>\n",
       "      <td>{'locations': [[[[244.3555603 ]\n",
       " [395.80090332...</td>\n",
       "      <td>[left_ear, right_ear, nose, tail_base, thorax,...</td>\n",
       "      <td>[[[[244.3555603], [395.80090332]], [[247.78367...</td>\n",
       "      <td>[1.2]</td>\n",
       "    </tr>\n",
       "    <tr>\n",
       "      <th>1</th>\n",
       "      <td>1</td>\n",
       "      <td>32300</td>\n",
       "      <td>[1.1, 1.2]</td>\n",
       "      <td>1.1_1.2</td>\n",
       "      <td>1</td>\n",
       "      <td>20230612_112630_standard_comp_to_training_D1_s...</td>\n",
       "      <td>20230612_112630_standard_comp_to_training_D1_s...</td>\n",
       "      <td>1.1</td>\n",
       "      <td>[/blue/npadillacoreano/ryoi360/projects/reward...</td>\n",
       "      <td>/blue/npadillacoreano/ryoi360/projects/reward_...</td>\n",
       "      <td>{'locations': [[[[331.99508667 244.3555603 ]\n",
       " ...</td>\n",
       "      <td>[left_ear, right_ear, nose, tail_base, thorax,...</td>\n",
       "      <td>[[[[331.99508667 244.3555603 ], [127.74658203 ...</td>\n",
       "      <td>[1.1, 1.2]</td>\n",
       "    </tr>\n",
       "    <tr>\n",
       "      <th>2</th>\n",
       "      <td>1</td>\n",
       "      <td>32300</td>\n",
       "      <td>[1.1, 1.2]</td>\n",
       "      <td>1.1_1.2</td>\n",
       "      <td>1</td>\n",
       "      <td>20230612_112630_standard_comp_to_training_D1_s...</td>\n",
       "      <td>20230612_112630_standard_comp_to_training_D1_s...</td>\n",
       "      <td>1.2</td>\n",
       "      <td>[/blue/npadillacoreano/ryoi360/projects/reward...</td>\n",
       "      <td>/blue/npadillacoreano/ryoi360/projects/reward_...</td>\n",
       "      <td>{'locations': [[[[331.99508667 244.3555603 ]\n",
       " ...</td>\n",
       "      <td>[left_ear, right_ear, nose, tail_base, thorax,...</td>\n",
       "      <td>[[[[331.99508667 244.3555603 ], [127.74658203 ...</td>\n",
       "      <td>[1.1, 1.2]</td>\n",
       "    </tr>\n",
       "    <tr>\n",
       "      <th>3</th>\n",
       "      <td>33000</td>\n",
       "      <td>68212</td>\n",
       "      <td>[1.1]</td>\n",
       "      <td>1.1_1.2</td>\n",
       "      <td>2</td>\n",
       "      <td>20230612_112630_standard_comp_to_training_D1_s...</td>\n",
       "      <td>20230612_112630_standard_comp_to_training_D1_s...</td>\n",
       "      <td>1.1</td>\n",
       "      <td>[/blue/npadillacoreano/ryoi360/projects/reward...</td>\n",
       "      <td>/blue/npadillacoreano/ryoi360/projects/reward_...</td>\n",
       "      <td>{'locations': [[[[nan]\n",
       " [nan]], [[nan]\n",
       " [nan]]...</td>\n",
       "      <td>[left_ear, right_ear, nose, tail_base, thorax,...</td>\n",
       "      <td>[[[[nan], [nan]], [[nan], [nan]], [[nan], [nan...</td>\n",
       "      <td>[1.1]</td>\n",
       "    </tr>\n",
       "    <tr>\n",
       "      <th>4</th>\n",
       "      <td>33400</td>\n",
       "      <td>68332</td>\n",
       "      <td>[1.1]</td>\n",
       "      <td>1.1_1.4</td>\n",
       "      <td>1</td>\n",
       "      <td>20230613_105657_standard_comp_to_training_D2_s...</td>\n",
       "      <td>20230613_105657_standard_comp_to_training_D2_s...</td>\n",
       "      <td>1.1</td>\n",
       "      <td>[/blue/npadillacoreano/ryoi360/projects/reward...</td>\n",
       "      <td>/blue/npadillacoreano/ryoi360/projects/reward_...</td>\n",
       "      <td>{'locations': [[[[336.33197021]\n",
       " [400.23355103...</td>\n",
       "      <td>[left_ear, right_ear, nose, tail_base, thorax,...</td>\n",
       "      <td>[[[[336.33197021], [400.23355103]], [[319.3523...</td>\n",
       "      <td>[1.1]</td>\n",
       "    </tr>\n",
       "  </tbody>\n",
       "</table>\n",
       "</div>"
      ],
      "text/plain": [
       "   start_frame  stop_frame tracked_subject in_video_subjects  box_number  \\\n",
       "0        32700       68257           [1.2]           1.1_1.2           1   \n",
       "1            1       32300      [1.1, 1.2]           1.1_1.2           1   \n",
       "2            1       32300      [1.1, 1.2]           1.1_1.2           1   \n",
       "3        33000       68212           [1.1]           1.1_1.2           2   \n",
       "4        33400       68332           [1.1]           1.1_1.4           1   \n",
       "\n",
       "                                          sleap_name  \\\n",
       "0  20230612_112630_standard_comp_to_training_D1_s...   \n",
       "1  20230612_112630_standard_comp_to_training_D1_s...   \n",
       "2  20230612_112630_standard_comp_to_training_D1_s...   \n",
       "3  20230612_112630_standard_comp_to_training_D1_s...   \n",
       "4  20230613_105657_standard_comp_to_training_D2_s...   \n",
       "\n",
       "                                          video_name current_subject  \\\n",
       "0  20230612_112630_standard_comp_to_training_D1_s...             1.2   \n",
       "1  20230612_112630_standard_comp_to_training_D1_s...             1.1   \n",
       "2  20230612_112630_standard_comp_to_training_D1_s...             1.2   \n",
       "3  20230612_112630_standard_comp_to_training_D1_s...             1.1   \n",
       "4  20230613_105657_standard_comp_to_training_D2_s...             1.1   \n",
       "\n",
       "                                          sleap_glob  \\\n",
       "0  [/blue/npadillacoreano/ryoi360/projects/reward...   \n",
       "1  [/blue/npadillacoreano/ryoi360/projects/reward...   \n",
       "2  [/blue/npadillacoreano/ryoi360/projects/reward...   \n",
       "3  [/blue/npadillacoreano/ryoi360/projects/reward...   \n",
       "4  [/blue/npadillacoreano/ryoi360/projects/reward...   \n",
       "\n",
       "                                          sleap_path  \\\n",
       "0  /blue/npadillacoreano/ryoi360/projects/reward_...   \n",
       "1  /blue/npadillacoreano/ryoi360/projects/reward_...   \n",
       "2  /blue/npadillacoreano/ryoi360/projects/reward_...   \n",
       "3  /blue/npadillacoreano/ryoi360/projects/reward_...   \n",
       "4  /blue/npadillacoreano/ryoi360/projects/reward_...   \n",
       "\n",
       "                                      all_sleap_data  \\\n",
       "0  {'locations': [[[[244.3555603 ]\n",
       " [395.80090332...   \n",
       "1  {'locations': [[[[331.99508667 244.3555603 ]\n",
       " ...   \n",
       "2  {'locations': [[[[331.99508667 244.3555603 ]\n",
       " ...   \n",
       "3  {'locations': [[[[nan]\n",
       " [nan]], [[nan]\n",
       " [nan]]...   \n",
       "4  {'locations': [[[[336.33197021]\n",
       " [400.23355103...   \n",
       "\n",
       "                                          body_parts  \\\n",
       "0  [left_ear, right_ear, nose, tail_base, thorax,...   \n",
       "1  [left_ear, right_ear, nose, tail_base, thorax,...   \n",
       "2  [left_ear, right_ear, nose, tail_base, thorax,...   \n",
       "3  [left_ear, right_ear, nose, tail_base, thorax,...   \n",
       "4  [left_ear, right_ear, nose, tail_base, thorax,...   \n",
       "\n",
       "                                           locations track_names  \n",
       "0  [[[[244.3555603], [395.80090332]], [[247.78367...       [1.2]  \n",
       "1  [[[[331.99508667 244.3555603 ], [127.74658203 ...  [1.1, 1.2]  \n",
       "2  [[[[331.99508667 244.3555603 ], [127.74658203 ...  [1.1, 1.2]  \n",
       "3  [[[[nan], [nan]], [[nan], [nan]], [[nan], [nan...       [1.1]  \n",
       "4  [[[[336.33197021], [400.23355103]], [[319.3523...       [1.1]  "
      ]
     },
     "execution_count": 36,
     "metadata": {},
     "output_type": "execute_result"
    }
   ],
   "source": [
    "START_STOP_FRAME_DF.head()"
   ]
  },
  {
   "cell_type": "code",
   "execution_count": 37,
   "metadata": {},
   "outputs": [],
   "source": [
    "# Getting the indexes of each subject from the track list\n",
    "START_STOP_FRAME_DF[\"subject_to_index\"] = START_STOP_FRAME_DF.apply(lambda x: {k: x[\"track_names\"].index(k) for k in x[\"tracked_subject\"] if k in x[\"track_names\"]}, axis=1)"
   ]
  },
  {
   "cell_type": "code",
   "execution_count": 38,
   "metadata": {},
   "outputs": [
    {
     "data": {
      "text/plain": [
       "0              {'1.2': 0}\n",
       "1    {'1.1': 0, '1.2': 1}\n",
       "2    {'1.1': 0, '1.2': 1}\n",
       "3              {'1.1': 0}\n",
       "4              {'1.1': 0}\n",
       "Name: subject_to_index, dtype: object"
      ]
     },
     "execution_count": 38,
     "metadata": {},
     "output_type": "execute_result"
    }
   ],
   "source": [
    "START_STOP_FRAME_DF[\"subject_to_index\"].head()"
   ]
  },
  {
   "cell_type": "code",
   "execution_count": 39,
   "metadata": {},
   "outputs": [],
   "source": [
    "START_STOP_FRAME_DF[\"subject_to_tracks\"] = START_STOP_FRAME_DF.apply(lambda x: {k:v for k, v in x[\"subject_to_index\"].items()}, axis=1)"
   ]
  },
  {
   "cell_type": "code",
   "execution_count": 40,
   "metadata": {},
   "outputs": [],
   "source": [
    "START_STOP_FRAME_DF[\"subject_to_tracks\"] = START_STOP_FRAME_DF.apply(lambda x: {k: x[\"locations\"][:,:,:,v] for k, v in x[\"subject_to_index\"].items()}, axis=1)"
   ]
  },
  {
   "cell_type": "code",
   "execution_count": 41,
   "metadata": {},
   "outputs": [
    {
     "data": {
      "text/plain": [
       "0    {'1.2': [[[244.3555603  395.80090332], [247.78...\n",
       "1    {'1.1': [[[331.99508667 127.74658203], [307.31...\n",
       "2    {'1.1': [[[331.99508667 127.74658203], [307.31...\n",
       "3    {'1.1': [[[nan nan], [nan nan], [nan nan], [na...\n",
       "4    {'1.1': [[[336.33197021 400.23355103], [319.35...\n",
       "Name: subject_to_tracks, dtype: object"
      ]
     },
     "execution_count": 41,
     "metadata": {},
     "output_type": "execute_result"
    }
   ],
   "source": [
    "START_STOP_FRAME_DF[\"subject_to_tracks\"].head()"
   ]
  },
  {
   "cell_type": "code",
   "execution_count": 42,
   "metadata": {
    "tags": []
   },
   "outputs": [
    {
     "data": {
      "text/plain": [
       "0         (1.2)\n",
       "1    (1.1, 1.2)\n",
       "2    (1.1, 1.2)\n",
       "3         (1.1)\n",
       "4         (1.1)\n",
       "Name: subject_to_tracks, dtype: object"
      ]
     },
     "execution_count": 42,
     "metadata": {},
     "output_type": "execute_result"
    }
   ],
   "source": [
    "START_STOP_FRAME_DF[\"subject_to_tracks\"].apply(lambda x: x.keys()).head()"
   ]
  },
  {
   "cell_type": "code",
   "execution_count": 43,
   "metadata": {},
   "outputs": [
    {
     "data": {
      "text/html": [
       "<div>\n",
       "<style scoped>\n",
       "    .dataframe tbody tr th:only-of-type {\n",
       "        vertical-align: middle;\n",
       "    }\n",
       "\n",
       "    .dataframe tbody tr th {\n",
       "        vertical-align: top;\n",
       "    }\n",
       "\n",
       "    .dataframe thead th {\n",
       "        text-align: right;\n",
       "    }\n",
       "</style>\n",
       "<table border=\"1\" class=\"dataframe\">\n",
       "  <thead>\n",
       "    <tr style=\"text-align: right;\">\n",
       "      <th></th>\n",
       "      <th>start_frame</th>\n",
       "      <th>stop_frame</th>\n",
       "      <th>tracked_subject</th>\n",
       "      <th>in_video_subjects</th>\n",
       "      <th>box_number</th>\n",
       "      <th>sleap_name</th>\n",
       "      <th>video_name</th>\n",
       "      <th>current_subject</th>\n",
       "      <th>sleap_glob</th>\n",
       "      <th>sleap_path</th>\n",
       "      <th>all_sleap_data</th>\n",
       "      <th>body_parts</th>\n",
       "      <th>locations</th>\n",
       "      <th>track_names</th>\n",
       "      <th>subject_to_index</th>\n",
       "      <th>subject_to_tracks</th>\n",
       "    </tr>\n",
       "  </thead>\n",
       "  <tbody>\n",
       "    <tr>\n",
       "      <th>0</th>\n",
       "      <td>32700</td>\n",
       "      <td>68257</td>\n",
       "      <td>[1.2]</td>\n",
       "      <td>1.1_1.2</td>\n",
       "      <td>1</td>\n",
       "      <td>20230612_112630_standard_comp_to_training_D1_s...</td>\n",
       "      <td>20230612_112630_standard_comp_to_training_D1_s...</td>\n",
       "      <td>1.2</td>\n",
       "      <td>[/blue/npadillacoreano/ryoi360/projects/reward...</td>\n",
       "      <td>/blue/npadillacoreano/ryoi360/projects/reward_...</td>\n",
       "      <td>{'locations': [[[[244.3555603 ]\n",
       " [395.80090332...</td>\n",
       "      <td>[left_ear, right_ear, nose, tail_base, thorax,...</td>\n",
       "      <td>[[[[244.3555603], [395.80090332]], [[247.78367...</td>\n",
       "      <td>[1.2]</td>\n",
       "      <td>{'1.2': 0}</td>\n",
       "      <td>{'1.2': [[[244.3555603  395.80090332], [247.78...</td>\n",
       "    </tr>\n",
       "    <tr>\n",
       "      <th>1</th>\n",
       "      <td>1</td>\n",
       "      <td>32300</td>\n",
       "      <td>[1.1, 1.2]</td>\n",
       "      <td>1.1_1.2</td>\n",
       "      <td>1</td>\n",
       "      <td>20230612_112630_standard_comp_to_training_D1_s...</td>\n",
       "      <td>20230612_112630_standard_comp_to_training_D1_s...</td>\n",
       "      <td>1.1</td>\n",
       "      <td>[/blue/npadillacoreano/ryoi360/projects/reward...</td>\n",
       "      <td>/blue/npadillacoreano/ryoi360/projects/reward_...</td>\n",
       "      <td>{'locations': [[[[331.99508667 244.3555603 ]\n",
       " ...</td>\n",
       "      <td>[left_ear, right_ear, nose, tail_base, thorax,...</td>\n",
       "      <td>[[[[331.99508667 244.3555603 ], [127.74658203 ...</td>\n",
       "      <td>[1.1, 1.2]</td>\n",
       "      <td>{'1.1': 0, '1.2': 1}</td>\n",
       "      <td>{'1.1': [[[331.99508667 127.74658203], [307.31...</td>\n",
       "    </tr>\n",
       "    <tr>\n",
       "      <th>2</th>\n",
       "      <td>1</td>\n",
       "      <td>32300</td>\n",
       "      <td>[1.1, 1.2]</td>\n",
       "      <td>1.1_1.2</td>\n",
       "      <td>1</td>\n",
       "      <td>20230612_112630_standard_comp_to_training_D1_s...</td>\n",
       "      <td>20230612_112630_standard_comp_to_training_D1_s...</td>\n",
       "      <td>1.2</td>\n",
       "      <td>[/blue/npadillacoreano/ryoi360/projects/reward...</td>\n",
       "      <td>/blue/npadillacoreano/ryoi360/projects/reward_...</td>\n",
       "      <td>{'locations': [[[[331.99508667 244.3555603 ]\n",
       " ...</td>\n",
       "      <td>[left_ear, right_ear, nose, tail_base, thorax,...</td>\n",
       "      <td>[[[[331.99508667 244.3555603 ], [127.74658203 ...</td>\n",
       "      <td>[1.1, 1.2]</td>\n",
       "      <td>{'1.1': 0, '1.2': 1}</td>\n",
       "      <td>{'1.1': [[[331.99508667 127.74658203], [307.31...</td>\n",
       "    </tr>\n",
       "    <tr>\n",
       "      <th>3</th>\n",
       "      <td>33000</td>\n",
       "      <td>68212</td>\n",
       "      <td>[1.1]</td>\n",
       "      <td>1.1_1.2</td>\n",
       "      <td>2</td>\n",
       "      <td>20230612_112630_standard_comp_to_training_D1_s...</td>\n",
       "      <td>20230612_112630_standard_comp_to_training_D1_s...</td>\n",
       "      <td>1.1</td>\n",
       "      <td>[/blue/npadillacoreano/ryoi360/projects/reward...</td>\n",
       "      <td>/blue/npadillacoreano/ryoi360/projects/reward_...</td>\n",
       "      <td>{'locations': [[[[nan]\n",
       " [nan]], [[nan]\n",
       " [nan]]...</td>\n",
       "      <td>[left_ear, right_ear, nose, tail_base, thorax,...</td>\n",
       "      <td>[[[[nan], [nan]], [[nan], [nan]], [[nan], [nan...</td>\n",
       "      <td>[1.1]</td>\n",
       "      <td>{'1.1': 0}</td>\n",
       "      <td>{'1.1': [[[nan nan], [nan nan], [nan nan], [na...</td>\n",
       "    </tr>\n",
       "    <tr>\n",
       "      <th>4</th>\n",
       "      <td>33400</td>\n",
       "      <td>68332</td>\n",
       "      <td>[1.1]</td>\n",
       "      <td>1.1_1.4</td>\n",
       "      <td>1</td>\n",
       "      <td>20230613_105657_standard_comp_to_training_D2_s...</td>\n",
       "      <td>20230613_105657_standard_comp_to_training_D2_s...</td>\n",
       "      <td>1.1</td>\n",
       "      <td>[/blue/npadillacoreano/ryoi360/projects/reward...</td>\n",
       "      <td>/blue/npadillacoreano/ryoi360/projects/reward_...</td>\n",
       "      <td>{'locations': [[[[336.33197021]\n",
       " [400.23355103...</td>\n",
       "      <td>[left_ear, right_ear, nose, tail_base, thorax,...</td>\n",
       "      <td>[[[[336.33197021], [400.23355103]], [[319.3523...</td>\n",
       "      <td>[1.1]</td>\n",
       "      <td>{'1.1': 0}</td>\n",
       "      <td>{'1.1': [[[336.33197021 400.23355103], [319.35...</td>\n",
       "    </tr>\n",
       "  </tbody>\n",
       "</table>\n",
       "</div>"
      ],
      "text/plain": [
       "   start_frame  stop_frame tracked_subject in_video_subjects  box_number  \\\n",
       "0        32700       68257           [1.2]           1.1_1.2           1   \n",
       "1            1       32300      [1.1, 1.2]           1.1_1.2           1   \n",
       "2            1       32300      [1.1, 1.2]           1.1_1.2           1   \n",
       "3        33000       68212           [1.1]           1.1_1.2           2   \n",
       "4        33400       68332           [1.1]           1.1_1.4           1   \n",
       "\n",
       "                                          sleap_name  \\\n",
       "0  20230612_112630_standard_comp_to_training_D1_s...   \n",
       "1  20230612_112630_standard_comp_to_training_D1_s...   \n",
       "2  20230612_112630_standard_comp_to_training_D1_s...   \n",
       "3  20230612_112630_standard_comp_to_training_D1_s...   \n",
       "4  20230613_105657_standard_comp_to_training_D2_s...   \n",
       "\n",
       "                                          video_name current_subject  \\\n",
       "0  20230612_112630_standard_comp_to_training_D1_s...             1.2   \n",
       "1  20230612_112630_standard_comp_to_training_D1_s...             1.1   \n",
       "2  20230612_112630_standard_comp_to_training_D1_s...             1.2   \n",
       "3  20230612_112630_standard_comp_to_training_D1_s...             1.1   \n",
       "4  20230613_105657_standard_comp_to_training_D2_s...             1.1   \n",
       "\n",
       "                                          sleap_glob  \\\n",
       "0  [/blue/npadillacoreano/ryoi360/projects/reward...   \n",
       "1  [/blue/npadillacoreano/ryoi360/projects/reward...   \n",
       "2  [/blue/npadillacoreano/ryoi360/projects/reward...   \n",
       "3  [/blue/npadillacoreano/ryoi360/projects/reward...   \n",
       "4  [/blue/npadillacoreano/ryoi360/projects/reward...   \n",
       "\n",
       "                                          sleap_path  \\\n",
       "0  /blue/npadillacoreano/ryoi360/projects/reward_...   \n",
       "1  /blue/npadillacoreano/ryoi360/projects/reward_...   \n",
       "2  /blue/npadillacoreano/ryoi360/projects/reward_...   \n",
       "3  /blue/npadillacoreano/ryoi360/projects/reward_...   \n",
       "4  /blue/npadillacoreano/ryoi360/projects/reward_...   \n",
       "\n",
       "                                      all_sleap_data  \\\n",
       "0  {'locations': [[[[244.3555603 ]\n",
       " [395.80090332...   \n",
       "1  {'locations': [[[[331.99508667 244.3555603 ]\n",
       " ...   \n",
       "2  {'locations': [[[[331.99508667 244.3555603 ]\n",
       " ...   \n",
       "3  {'locations': [[[[nan]\n",
       " [nan]], [[nan]\n",
       " [nan]]...   \n",
       "4  {'locations': [[[[336.33197021]\n",
       " [400.23355103...   \n",
       "\n",
       "                                          body_parts  \\\n",
       "0  [left_ear, right_ear, nose, tail_base, thorax,...   \n",
       "1  [left_ear, right_ear, nose, tail_base, thorax,...   \n",
       "2  [left_ear, right_ear, nose, tail_base, thorax,...   \n",
       "3  [left_ear, right_ear, nose, tail_base, thorax,...   \n",
       "4  [left_ear, right_ear, nose, tail_base, thorax,...   \n",
       "\n",
       "                                           locations track_names  \\\n",
       "0  [[[[244.3555603], [395.80090332]], [[247.78367...       [1.2]   \n",
       "1  [[[[331.99508667 244.3555603 ], [127.74658203 ...  [1.1, 1.2]   \n",
       "2  [[[[331.99508667 244.3555603 ], [127.74658203 ...  [1.1, 1.2]   \n",
       "3  [[[[nan], [nan]], [[nan], [nan]], [[nan], [nan...       [1.1]   \n",
       "4  [[[[336.33197021], [400.23355103]], [[319.3523...       [1.1]   \n",
       "\n",
       "       subject_to_index                                  subject_to_tracks  \n",
       "0            {'1.2': 0}  {'1.2': [[[244.3555603  395.80090332], [247.78...  \n",
       "1  {'1.1': 0, '1.2': 1}  {'1.1': [[[331.99508667 127.74658203], [307.31...  \n",
       "2  {'1.1': 0, '1.2': 1}  {'1.1': [[[331.99508667 127.74658203], [307.31...  \n",
       "3            {'1.1': 0}  {'1.1': [[[nan nan], [nan nan], [nan nan], [na...  \n",
       "4            {'1.1': 0}  {'1.1': [[[336.33197021 400.23355103], [319.35...  "
      ]
     },
     "execution_count": 43,
     "metadata": {},
     "output_type": "execute_result"
    }
   ],
   "source": [
    "START_STOP_FRAME_DF.head()"
   ]
  },
  {
   "cell_type": "markdown",
   "metadata": {},
   "source": [
    "## Getting the coordinates of the corners"
   ]
  },
  {
   "cell_type": "code",
   "execution_count": 44,
   "metadata": {},
   "outputs": [
    {
     "data": {
      "text/plain": [
       "'/blue/npadillacoreano/ryoi360/projects/reward_comp/final_proc/id_corrected/20230612_112630_standard_comp_to_training_D1_subj_1-2_and_1-1/20230612_112630_standard_comp_to_training_D1_subj_1-2_and_1-1.1.1_subj.id_corrected.h5'"
      ]
     },
     "execution_count": 44,
     "metadata": {},
     "output_type": "execute_result"
    }
   ],
   "source": [
    "START_STOP_FRAME_DF[\"sleap_path\"].iloc[0]"
   ]
  },
  {
   "cell_type": "code",
   "execution_count": 45,
   "metadata": {},
   "outputs": [],
   "source": [
    "# Each corner file is the in the same folder and has the same basename of the pose tracking file \n",
    "START_STOP_FRAME_DF[\"corner_path\"] = START_STOP_FRAME_DF[\"sleap_path\"].apply(lambda x: x.replace(\"id_corrected.h5\", \"corner.h5\").replace(\".fixed\", \"\").replace(\".round_1\", \"\").replace(\".1_subj\", \"\").replace(\".2_subj\", \"\"))\n"
   ]
  },
  {
   "cell_type": "code",
   "execution_count": 46,
   "metadata": {},
   "outputs": [
    {
     "data": {
      "text/plain": [
       "'/blue/npadillacoreano/ryoi360/projects/reward_comp/final_proc/id_corrected/20230612_112630_standard_comp_to_training_D1_subj_1-2_and_1-1/20230612_112630_standard_comp_to_training_D1_subj_1-2_and_1-1.1.corner.h5'"
      ]
     },
     "execution_count": 46,
     "metadata": {},
     "output_type": "execute_result"
    }
   ],
   "source": [
    "START_STOP_FRAME_DF[\"corner_path\"].iloc[0]"
   ]
  },
  {
   "cell_type": "code",
   "execution_count": 47,
   "metadata": {},
   "outputs": [],
   "source": [
    "# Getting the indexes of each corner location\n",
    "START_STOP_FRAME_DF[\"corner_parts\"] = START_STOP_FRAME_DF[\"corner_path\"].apply(lambda x: sleap.process_pose.get_node_names_from_sleap(x))"
   ]
  },
  {
   "cell_type": "code",
   "execution_count": 48,
   "metadata": {
    "tags": []
   },
   "outputs": [
    {
     "data": {
      "text/plain": [
       "'20230619_115321_standard_comp_to_omission_D3_subj_1-2_and_1-4.3'"
      ]
     },
     "execution_count": 48,
     "metadata": {},
     "output_type": "execute_result"
    }
   ],
   "source": [
    "START_STOP_FRAME_DF[\"video_name\"].iloc[26]"
   ]
  },
  {
   "cell_type": "code",
   "execution_count": 49,
   "metadata": {},
   "outputs": [
    {
     "data": {
      "text/plain": [
       "0     [box_top_left, box_top_right, reward_port, box...\n",
       "1     [box_top_left, box_top_right, reward_port, box...\n",
       "2     [box_top_left, box_top_right, reward_port, box...\n",
       "3     [box_bottom_left, box_top_right, reward_port, ...\n",
       "4     [box_bottom_left, box_top_right, reward_port, ...\n",
       "                            ...                        \n",
       "68    [box_bottom_left, reward_port, box_top_right, ...\n",
       "69    [box_bottom_left, reward_port, box_top_right, ...\n",
       "70    [box_bottom_left, reward_port, box_top_right, ...\n",
       "71    [box_bottom_left, reward_port, box_top_right, ...\n",
       "72    [box_bottom_left, reward_port, box_top_right, ...\n",
       "Name: corner_parts, Length: 73, dtype: object"
      ]
     },
     "execution_count": 49,
     "metadata": {},
     "output_type": "execute_result"
    }
   ],
   "source": [
    "START_STOP_FRAME_DF[\"corner_parts\"]"
   ]
  },
  {
   "cell_type": "code",
   "execution_count": 50,
   "metadata": {
    "tags": []
   },
   "outputs": [],
   "source": [
    "# TODO: Remove this once corner files are fixed\n",
    "START_STOP_FRAME_DF = START_STOP_FRAME_DF[START_STOP_FRAME_DF[\"corner_parts\"].apply(lambda x: \"reward_port\" in x)]"
   ]
  },
  {
   "cell_type": "code",
   "execution_count": 51,
   "metadata": {},
   "outputs": [],
   "source": [
    "# Getting the coordinates of all the corners\n",
    "START_STOP_FRAME_DF[\"corner_to_coordinate\"] = START_STOP_FRAME_DF[\"corner_path\"].apply(lambda x: sleap.process_pose.get_sleap_tracks_from_h5(x))"
   ]
  },
  {
   "cell_type": "code",
   "execution_count": 52,
   "metadata": {},
   "outputs": [],
   "source": [
    "# Parsing out each corner and creating a dictionary of name to coordinates\n",
    "START_STOP_FRAME_DF[\"corner_to_coordinate\"] = START_STOP_FRAME_DF.apply(lambda x: {part: x[\"corner_to_coordinate\"][:,index,:,:] for index, part in enumerate(x[\"corner_parts\"])}, axis=1)"
   ]
  },
  {
   "cell_type": "code",
   "execution_count": 53,
   "metadata": {
    "tags": []
   },
   "outputs": [
    {
     "data": {
      "text/plain": [
       "0     {'box_top_left': [[[nan], [nan]], [[nan], [nan...\n",
       "1     {'box_top_left': [[[nan], [nan]], [[nan], [nan...\n",
       "2     {'box_top_left': [[[nan], [nan]], [[nan], [nan...\n",
       "3     {'box_bottom_left': [[[234.69934175], [389.572...\n",
       "4     {'box_bottom_left': [[[219.49634883], [382.936...\n",
       "                            ...                        \n",
       "68    {'box_bottom_left': [[[216.16270965], [386.158...\n",
       "69    {'box_bottom_left': [[[230.39644068], [395.236...\n",
       "70    {'box_bottom_left': [[[230.39644068], [395.236...\n",
       "71    {'box_bottom_left': [[[230.39644068], [395.236...\n",
       "72    {'box_bottom_left': [[[230.39644068], [395.236...\n",
       "Name: corner_to_coordinate, Length: 73, dtype: object"
      ]
     },
     "execution_count": 53,
     "metadata": {},
     "output_type": "execute_result"
    }
   ],
   "source": [
    "START_STOP_FRAME_DF[\"corner_to_coordinate\"]"
   ]
  },
  {
   "cell_type": "code",
   "execution_count": 54,
   "metadata": {},
   "outputs": [],
   "source": [
    "# Filtering out all the Nans because there's only one labeled frame\n",
    "START_STOP_FRAME_DF[\"corner_to_coordinate\"] = START_STOP_FRAME_DF.apply(lambda x: {k: v[~np.isnan(v)][:2] for k, v in x[\"corner_to_coordinate\"].items()}, axis=1)"
   ]
  },
  {
   "cell_type": "code",
   "execution_count": 55,
   "metadata": {},
   "outputs": [
    {
     "data": {
      "text/plain": [
       "0     {'box_top_left': [215.09666220678088, 113.9234...\n",
       "1     {'box_top_left': [215.09666220678088, 113.9234...\n",
       "2     {'box_top_left': [215.09666220678088, 113.9234...\n",
       "3     {'box_bottom_left': [234.69934174733294, 389.5...\n",
       "4     {'box_bottom_left': [219.49634882813532, 382.9...\n",
       "                            ...                        \n",
       "68    {'box_bottom_left': [216.16270964603552, 386.1...\n",
       "69    {'box_bottom_left': [230.39644068293484, 395.2...\n",
       "70    {'box_bottom_left': [230.39644068293484, 395.2...\n",
       "71    {'box_bottom_left': [230.39644068293484, 395.2...\n",
       "72    {'box_bottom_left': [230.39644068293484, 395.2...\n",
       "Name: corner_to_coordinate, Length: 73, dtype: object"
      ]
     },
     "execution_count": 55,
     "metadata": {},
     "output_type": "execute_result"
    }
   ],
   "source": [
    "START_STOP_FRAME_DF[\"corner_to_coordinate\"]"
   ]
  },
  {
   "cell_type": "markdown",
   "metadata": {},
   "source": [
    "# Getting the distances between corners"
   ]
  },
  {
   "cell_type": "markdown",
   "metadata": {},
   "source": [
    "- Getting the average width and height so that we can convert pixels to cm"
   ]
  },
  {
   "cell_type": "code",
   "execution_count": 56,
   "metadata": {},
   "outputs": [],
   "source": [
    "# Using the x-coordinates for the width\n",
    "START_STOP_FRAME_DF[\"bottom_width\"] = START_STOP_FRAME_DF[\"corner_to_coordinate\"].apply(lambda x: x[\"box_bottom_right\"][0] - x[\"box_bottom_left\"][0])\n",
    "START_STOP_FRAME_DF[\"top_width\"] = START_STOP_FRAME_DF[\"corner_to_coordinate\"].apply(lambda x: x[\"box_top_right\"][0] - x[\"box_top_left\"][0])\n"
   ]
  },
  {
   "cell_type": "code",
   "execution_count": 57,
   "metadata": {},
   "outputs": [],
   "source": [
    "# Using the y-coordinates for the height\n",
    "START_STOP_FRAME_DF[\"right_height\"] = START_STOP_FRAME_DF[\"corner_to_coordinate\"].apply(lambda x: x[\"box_bottom_right\"][1] - x[\"box_top_right\"][1])\n",
    "START_STOP_FRAME_DF[\"left_height\"] = START_STOP_FRAME_DF[\"corner_to_coordinate\"].apply(lambda x: x[\"box_bottom_left\"][1] - x[\"box_top_left\"][1])\n"
   ]
  },
  {
   "cell_type": "code",
   "execution_count": 58,
   "metadata": {},
   "outputs": [],
   "source": [
    "# averaging the width and height by adding both sides and then getting the mean\n",
    "START_STOP_FRAME_DF[\"average_height\"] = START_STOP_FRAME_DF.apply(lambda row: (row[\"right_height\"] + row[\"left_height\"])/2, axis=1)\n",
    "START_STOP_FRAME_DF[\"average_width\"] = START_STOP_FRAME_DF.apply(lambda row: (row[\"bottom_width\"] + row[\"top_width\"])/2, axis=1)"
   ]
  },
  {
   "cell_type": "markdown",
   "metadata": {},
   "source": [
    "- Getthing the pixel to cm ratio"
   ]
  },
  {
   "cell_type": "code",
   "execution_count": 59,
   "metadata": {},
   "outputs": [],
   "source": [
    "START_STOP_FRAME_DF[\"width_ratio\"] = MED_PC_WIDTH / START_STOP_FRAME_DF[\"average_width\"]\n",
    "START_STOP_FRAME_DF[\"height_ratio\"] = MED_PC_HEIGHT / START_STOP_FRAME_DF[\"average_height\"]"
   ]
  },
  {
   "cell_type": "code",
   "execution_count": 60,
   "metadata": {},
   "outputs": [
    {
     "data": {
      "text/plain": [
       "0     0.089984\n",
       "1     0.089984\n",
       "2     0.089984\n",
       "3     0.091411\n",
       "4     0.091180\n",
       "        ...   \n",
       "68    0.092148\n",
       "69    0.090235\n",
       "70    0.090235\n",
       "71    0.090235\n",
       "72    0.090235\n",
       "Name: height_ratio, Length: 73, dtype: float64"
      ]
     },
     "execution_count": 60,
     "metadata": {},
     "output_type": "execute_result"
    }
   ],
   "source": [
    "START_STOP_FRAME_DF[\"height_ratio\"]"
   ]
  },
  {
   "cell_type": "code",
   "execution_count": 61,
   "metadata": {},
   "outputs": [
    {
     "data": {
      "text/plain": [
       "0     0.140631\n",
       "1     0.140631\n",
       "2     0.140631\n",
       "3     0.141259\n",
       "4     0.138909\n",
       "        ...   \n",
       "68    0.137797\n",
       "69    0.136504\n",
       "70    0.136504\n",
       "71    0.136504\n",
       "72    0.136504\n",
       "Name: width_ratio, Length: 73, dtype: float64"
      ]
     },
     "execution_count": 61,
     "metadata": {},
     "output_type": "execute_result"
    }
   ],
   "source": [
    "START_STOP_FRAME_DF[\"width_ratio\"]"
   ]
  },
  {
   "cell_type": "markdown",
   "metadata": {},
   "source": [
    "## Converting Pixels to cm"
   ]
  },
  {
   "cell_type": "code",
   "execution_count": 62,
   "metadata": {
    "tags": []
   },
   "outputs": [],
   "source": [
    "START_STOP_FRAME_DF[\"in_video_subjects\"] = START_STOP_FRAME_DF[\"in_video_subjects\"].apply(lambda x: x.split(\"_\"))"
   ]
  },
  {
   "cell_type": "code",
   "execution_count": 63,
   "metadata": {
    "tags": []
   },
   "outputs": [],
   "source": [
    "START_STOP_FRAME_DF[\"subject_to_tracks\"] = START_STOP_FRAME_DF.apply(lambda x: {k: v for k, v in x[\"subject_to_tracks\"].items() if k in x[\"in_video_subjects\"]}, axis=1)"
   ]
  },
  {
   "cell_type": "markdown",
   "metadata": {},
   "source": [
    "- Converting the X-dimension"
   ]
  },
  {
   "cell_type": "code",
   "execution_count": 64,
   "metadata": {},
   "outputs": [
    {
     "data": {
      "text/plain": [
       "0    {'1.2': [[[244.3555603  395.80090332], [247.78...\n",
       "1    {'1.1': [[[331.99508667 127.74658203], [307.31...\n",
       "2    {'1.1': [[[331.99508667 127.74658203], [307.31...\n",
       "3    {'1.1': [[[nan nan], [nan nan], [nan nan], [na...\n",
       "4    {'1.1': [[[336.33197021 400.23355103], [319.35...\n",
       "Name: subject_to_tracks, dtype: object"
      ]
     },
     "execution_count": 64,
     "metadata": {},
     "output_type": "execute_result"
    }
   ],
   "source": [
    "START_STOP_FRAME_DF[\"subject_to_tracks\"].head()"
   ]
  },
  {
   "cell_type": "code",
   "execution_count": 65,
   "metadata": {},
   "outputs": [],
   "source": [
    "START_STOP_FRAME_DF[\"rescaled_locations\"] = START_STOP_FRAME_DF.apply(lambda x: {key: sleap.process_pose.fill_missing(sleap.process_pose.rescale_dimension_in_array(value, dimension=0, ratio=x[\"width_ratio\"])) for key, value in x[\"subject_to_tracks\"].items()}, axis=1)"
   ]
  },
  {
   "cell_type": "markdown",
   "metadata": {},
   "source": [
    "- Converting the Y-dimension"
   ]
  },
  {
   "cell_type": "code",
   "execution_count": 66,
   "metadata": {},
   "outputs": [],
   "source": [
    "START_STOP_FRAME_DF[\"rescaled_locations\"] = START_STOP_FRAME_DF.apply(lambda x: {key: sleap.process_pose.rescale_dimension_in_array(value, dimension=1, ratio=x[\"height_ratio\"]) for key, value in x[\"rescaled_locations\"].items()}, axis=1)"
   ]
  },
  {
   "cell_type": "code",
   "execution_count": 67,
   "metadata": {},
   "outputs": [
    {
     "data": {
      "text/plain": [
       "0     {'box_top_left': [215.09666220678088, 113.9234...\n",
       "1     {'box_top_left': [215.09666220678088, 113.9234...\n",
       "2     {'box_top_left': [215.09666220678088, 113.9234...\n",
       "3     {'box_bottom_left': [234.69934174733294, 389.5...\n",
       "4     {'box_bottom_left': [219.49634882813532, 382.9...\n",
       "                            ...                        \n",
       "68    {'box_bottom_left': [216.16270964603552, 386.1...\n",
       "69    {'box_bottom_left': [230.39644068293484, 395.2...\n",
       "70    {'box_bottom_left': [230.39644068293484, 395.2...\n",
       "71    {'box_bottom_left': [230.39644068293484, 395.2...\n",
       "72    {'box_bottom_left': [230.39644068293484, 395.2...\n",
       "Name: corner_to_coordinate, Length: 73, dtype: object"
      ]
     },
     "execution_count": 67,
     "metadata": {},
     "output_type": "execute_result"
    }
   ],
   "source": [
    "START_STOP_FRAME_DF[\"corner_to_coordinate\"]"
   ]
  },
  {
   "cell_type": "code",
   "execution_count": 68,
   "metadata": {},
   "outputs": [
    {
     "data": {
      "text/html": [
       "<div>\n",
       "<style scoped>\n",
       "    .dataframe tbody tr th:only-of-type {\n",
       "        vertical-align: middle;\n",
       "    }\n",
       "\n",
       "    .dataframe tbody tr th {\n",
       "        vertical-align: top;\n",
       "    }\n",
       "\n",
       "    .dataframe thead th {\n",
       "        text-align: right;\n",
       "    }\n",
       "</style>\n",
       "<table border=\"1\" class=\"dataframe\">\n",
       "  <thead>\n",
       "    <tr style=\"text-align: right;\">\n",
       "      <th></th>\n",
       "      <th>start_frame</th>\n",
       "      <th>stop_frame</th>\n",
       "      <th>tracked_subject</th>\n",
       "      <th>in_video_subjects</th>\n",
       "      <th>box_number</th>\n",
       "      <th>sleap_name</th>\n",
       "      <th>video_name</th>\n",
       "      <th>current_subject</th>\n",
       "      <th>sleap_glob</th>\n",
       "      <th>sleap_path</th>\n",
       "      <th>...</th>\n",
       "      <th>corner_to_coordinate</th>\n",
       "      <th>bottom_width</th>\n",
       "      <th>top_width</th>\n",
       "      <th>right_height</th>\n",
       "      <th>left_height</th>\n",
       "      <th>average_height</th>\n",
       "      <th>average_width</th>\n",
       "      <th>width_ratio</th>\n",
       "      <th>height_ratio</th>\n",
       "      <th>rescaled_locations</th>\n",
       "    </tr>\n",
       "  </thead>\n",
       "  <tbody>\n",
       "    <tr>\n",
       "      <th>0</th>\n",
       "      <td>32700</td>\n",
       "      <td>68257</td>\n",
       "      <td>[1.2]</td>\n",
       "      <td>[1.1, 1.2]</td>\n",
       "      <td>1</td>\n",
       "      <td>20230612_112630_standard_comp_to_training_D1_s...</td>\n",
       "      <td>20230612_112630_standard_comp_to_training_D1_s...</td>\n",
       "      <td>1.2</td>\n",
       "      <td>[/blue/npadillacoreano/ryoi360/projects/reward...</td>\n",
       "      <td>/blue/npadillacoreano/ryoi360/projects/reward_...</td>\n",
       "      <td>...</td>\n",
       "      <td>{'box_top_left': [215.09666220678088, 113.9234...</td>\n",
       "      <td>209.287764</td>\n",
       "      <td>210.248994</td>\n",
       "      <td>267.077370</td>\n",
       "      <td>266.353718</td>\n",
       "      <td>266.715544</td>\n",
       "      <td>209.768379</td>\n",
       "      <td>0.140631</td>\n",
       "      <td>0.089984</td>\n",
       "      <td>{'1.2': [[[34.36404037 35.61555332], [34.84614...</td>\n",
       "    </tr>\n",
       "    <tr>\n",
       "      <th>1</th>\n",
       "      <td>1</td>\n",
       "      <td>32300</td>\n",
       "      <td>[1.1, 1.2]</td>\n",
       "      <td>[1.1, 1.2]</td>\n",
       "      <td>1</td>\n",
       "      <td>20230612_112630_standard_comp_to_training_D1_s...</td>\n",
       "      <td>20230612_112630_standard_comp_to_training_D1_s...</td>\n",
       "      <td>1.1</td>\n",
       "      <td>[/blue/npadillacoreano/ryoi360/projects/reward...</td>\n",
       "      <td>/blue/npadillacoreano/ryoi360/projects/reward_...</td>\n",
       "      <td>...</td>\n",
       "      <td>{'box_top_left': [215.09666220678088, 113.9234...</td>\n",
       "      <td>209.287764</td>\n",
       "      <td>210.248994</td>\n",
       "      <td>267.077370</td>\n",
       "      <td>266.353718</td>\n",
       "      <td>266.715544</td>\n",
       "      <td>209.768379</td>\n",
       "      <td>0.140631</td>\n",
       "      <td>0.089984</td>\n",
       "      <td>{'1.1': [[[46.68890098 11.49508545], [43.21778...</td>\n",
       "    </tr>\n",
       "    <tr>\n",
       "      <th>2</th>\n",
       "      <td>1</td>\n",
       "      <td>32300</td>\n",
       "      <td>[1.1, 1.2]</td>\n",
       "      <td>[1.1, 1.2]</td>\n",
       "      <td>1</td>\n",
       "      <td>20230612_112630_standard_comp_to_training_D1_s...</td>\n",
       "      <td>20230612_112630_standard_comp_to_training_D1_s...</td>\n",
       "      <td>1.2</td>\n",
       "      <td>[/blue/npadillacoreano/ryoi360/projects/reward...</td>\n",
       "      <td>/blue/npadillacoreano/ryoi360/projects/reward_...</td>\n",
       "      <td>...</td>\n",
       "      <td>{'box_top_left': [215.09666220678088, 113.9234...</td>\n",
       "      <td>209.287764</td>\n",
       "      <td>210.248994</td>\n",
       "      <td>267.077370</td>\n",
       "      <td>266.353718</td>\n",
       "      <td>266.715544</td>\n",
       "      <td>209.768379</td>\n",
       "      <td>0.140631</td>\n",
       "      <td>0.089984</td>\n",
       "      <td>{'1.1': [[[46.68890098 11.49508545], [43.21778...</td>\n",
       "    </tr>\n",
       "    <tr>\n",
       "      <th>3</th>\n",
       "      <td>33000</td>\n",
       "      <td>68212</td>\n",
       "      <td>[1.1]</td>\n",
       "      <td>[1.1, 1.2]</td>\n",
       "      <td>2</td>\n",
       "      <td>20230612_112630_standard_comp_to_training_D1_s...</td>\n",
       "      <td>20230612_112630_standard_comp_to_training_D1_s...</td>\n",
       "      <td>1.1</td>\n",
       "      <td>[/blue/npadillacoreano/ryoi360/projects/reward...</td>\n",
       "      <td>/blue/npadillacoreano/ryoi360/projects/reward_...</td>\n",
       "      <td>...</td>\n",
       "      <td>{'box_bottom_left': [234.69934174733294, 389.5...</td>\n",
       "      <td>208.478033</td>\n",
       "      <td>209.193827</td>\n",
       "      <td>262.966281</td>\n",
       "      <td>262.136905</td>\n",
       "      <td>262.551593</td>\n",
       "      <td>208.835930</td>\n",
       "      <td>0.141259</td>\n",
       "      <td>0.091411</td>\n",
       "      <td>{'1.1': [[[27.67316905 31.06298795], [27.08155...</td>\n",
       "    </tr>\n",
       "    <tr>\n",
       "      <th>4</th>\n",
       "      <td>33400</td>\n",
       "      <td>68332</td>\n",
       "      <td>[1.1]</td>\n",
       "      <td>[1.1, 1.4]</td>\n",
       "      <td>1</td>\n",
       "      <td>20230613_105657_standard_comp_to_training_D2_s...</td>\n",
       "      <td>20230613_105657_standard_comp_to_training_D2_s...</td>\n",
       "      <td>1.1</td>\n",
       "      <td>[/blue/npadillacoreano/ryoi360/projects/reward...</td>\n",
       "      <td>/blue/npadillacoreano/ryoi360/projects/reward_...</td>\n",
       "      <td>...</td>\n",
       "      <td>{'box_bottom_left': [219.49634882813532, 382.9...</td>\n",
       "      <td>213.213618</td>\n",
       "      <td>211.523940</td>\n",
       "      <td>263.471488</td>\n",
       "      <td>262.958532</td>\n",
       "      <td>263.215010</td>\n",
       "      <td>212.368779</td>\n",
       "      <td>0.138909</td>\n",
       "      <td>0.091180</td>\n",
       "      <td>{'1.1': [[[46.71964111 36.49337937], [44.36101...</td>\n",
       "    </tr>\n",
       "  </tbody>\n",
       "</table>\n",
       "<p>5 rows × 28 columns</p>\n",
       "</div>"
      ],
      "text/plain": [
       "   start_frame  stop_frame tracked_subject in_video_subjects  box_number  \\\n",
       "0        32700       68257           [1.2]        [1.1, 1.2]           1   \n",
       "1            1       32300      [1.1, 1.2]        [1.1, 1.2]           1   \n",
       "2            1       32300      [1.1, 1.2]        [1.1, 1.2]           1   \n",
       "3        33000       68212           [1.1]        [1.1, 1.2]           2   \n",
       "4        33400       68332           [1.1]        [1.1, 1.4]           1   \n",
       "\n",
       "                                          sleap_name  \\\n",
       "0  20230612_112630_standard_comp_to_training_D1_s...   \n",
       "1  20230612_112630_standard_comp_to_training_D1_s...   \n",
       "2  20230612_112630_standard_comp_to_training_D1_s...   \n",
       "3  20230612_112630_standard_comp_to_training_D1_s...   \n",
       "4  20230613_105657_standard_comp_to_training_D2_s...   \n",
       "\n",
       "                                          video_name current_subject  \\\n",
       "0  20230612_112630_standard_comp_to_training_D1_s...             1.2   \n",
       "1  20230612_112630_standard_comp_to_training_D1_s...             1.1   \n",
       "2  20230612_112630_standard_comp_to_training_D1_s...             1.2   \n",
       "3  20230612_112630_standard_comp_to_training_D1_s...             1.1   \n",
       "4  20230613_105657_standard_comp_to_training_D2_s...             1.1   \n",
       "\n",
       "                                          sleap_glob  \\\n",
       "0  [/blue/npadillacoreano/ryoi360/projects/reward...   \n",
       "1  [/blue/npadillacoreano/ryoi360/projects/reward...   \n",
       "2  [/blue/npadillacoreano/ryoi360/projects/reward...   \n",
       "3  [/blue/npadillacoreano/ryoi360/projects/reward...   \n",
       "4  [/blue/npadillacoreano/ryoi360/projects/reward...   \n",
       "\n",
       "                                          sleap_path  ...  \\\n",
       "0  /blue/npadillacoreano/ryoi360/projects/reward_...  ...   \n",
       "1  /blue/npadillacoreano/ryoi360/projects/reward_...  ...   \n",
       "2  /blue/npadillacoreano/ryoi360/projects/reward_...  ...   \n",
       "3  /blue/npadillacoreano/ryoi360/projects/reward_...  ...   \n",
       "4  /blue/npadillacoreano/ryoi360/projects/reward_...  ...   \n",
       "\n",
       "                                corner_to_coordinate bottom_width   top_width  \\\n",
       "0  {'box_top_left': [215.09666220678088, 113.9234...   209.287764  210.248994   \n",
       "1  {'box_top_left': [215.09666220678088, 113.9234...   209.287764  210.248994   \n",
       "2  {'box_top_left': [215.09666220678088, 113.9234...   209.287764  210.248994   \n",
       "3  {'box_bottom_left': [234.69934174733294, 389.5...   208.478033  209.193827   \n",
       "4  {'box_bottom_left': [219.49634882813532, 382.9...   213.213618  211.523940   \n",
       "\n",
       "  right_height left_height average_height average_width width_ratio  \\\n",
       "0   267.077370  266.353718     266.715544    209.768379    0.140631   \n",
       "1   267.077370  266.353718     266.715544    209.768379    0.140631   \n",
       "2   267.077370  266.353718     266.715544    209.768379    0.140631   \n",
       "3   262.966281  262.136905     262.551593    208.835930    0.141259   \n",
       "4   263.471488  262.958532     263.215010    212.368779    0.138909   \n",
       "\n",
       "  height_ratio                                 rescaled_locations  \n",
       "0     0.089984  {'1.2': [[[34.36404037 35.61555332], [34.84614...  \n",
       "1     0.089984  {'1.1': [[[46.68890098 11.49508545], [43.21778...  \n",
       "2     0.089984  {'1.1': [[[46.68890098 11.49508545], [43.21778...  \n",
       "3     0.091411  {'1.1': [[[27.67316905 31.06298795], [27.08155...  \n",
       "4     0.091180  {'1.1': [[[46.71964111 36.49337937], [44.36101...  \n",
       "\n",
       "[5 rows x 28 columns]"
      ]
     },
     "execution_count": 68,
     "metadata": {},
     "output_type": "execute_result"
    }
   ],
   "source": [
    "START_STOP_FRAME_DF.head()"
   ]
  },
  {
   "cell_type": "code",
   "execution_count": 69,
   "metadata": {},
   "outputs": [],
   "source": [
    "# Normalize dictionary column\n",
    "normalized = pd.json_normalize(START_STOP_FRAME_DF[\"corner_to_coordinate\"])"
   ]
  },
  {
   "cell_type": "code",
   "execution_count": 70,
   "metadata": {},
   "outputs": [
    {
     "data": {
      "text/html": [
       "<div>\n",
       "<style scoped>\n",
       "    .dataframe tbody tr th:only-of-type {\n",
       "        vertical-align: middle;\n",
       "    }\n",
       "\n",
       "    .dataframe tbody tr th {\n",
       "        vertical-align: top;\n",
       "    }\n",
       "\n",
       "    .dataframe thead th {\n",
       "        text-align: right;\n",
       "    }\n",
       "</style>\n",
       "<table border=\"1\" class=\"dataframe\">\n",
       "  <thead>\n",
       "    <tr style=\"text-align: right;\">\n",
       "      <th></th>\n",
       "      <th>box_top_left</th>\n",
       "      <th>box_top_right</th>\n",
       "      <th>reward_port</th>\n",
       "      <th>box_bottom_left</th>\n",
       "      <th>box_bottom_right</th>\n",
       "    </tr>\n",
       "  </thead>\n",
       "  <tbody>\n",
       "    <tr>\n",
       "      <th>0</th>\n",
       "      <td>[215.09666220678088, 113.92341627572542]</td>\n",
       "      <td>[425.345655727638, 112.2488439777975]</td>\n",
       "      <td>[321.6525529313325, 398.276176488323]</td>\n",
       "      <td>[216.58701461395228, 380.2771341993332]</td>\n",
       "      <td>[425.874778248961, 379.32621417226574]</td>\n",
       "    </tr>\n",
       "    <tr>\n",
       "      <th>1</th>\n",
       "      <td>[215.09666220678088, 113.92341627572542]</td>\n",
       "      <td>[425.345655727638, 112.2488439777975]</td>\n",
       "      <td>[321.6525529313325, 398.276176488323]</td>\n",
       "      <td>[216.58701461395228, 380.2771341993332]</td>\n",
       "      <td>[425.874778248961, 379.32621417226574]</td>\n",
       "    </tr>\n",
       "    <tr>\n",
       "      <th>2</th>\n",
       "      <td>[215.09666220678088, 113.92341627572542]</td>\n",
       "      <td>[425.345655727638, 112.2488439777975]</td>\n",
       "      <td>[321.6525529313325, 398.276176488323]</td>\n",
       "      <td>[216.58701461395228, 380.2771341993332]</td>\n",
       "      <td>[425.874778248961, 379.32621417226574]</td>\n",
       "    </tr>\n",
       "    <tr>\n",
       "      <th>3</th>\n",
       "      <td>[238.18599786891832, 127.43516499865694]</td>\n",
       "      <td>[447.3798248244432, 127.79519761339816]</td>\n",
       "      <td>[339.93931931458565, 407.66117323379024]</td>\n",
       "      <td>[234.69934174733294, 389.57206997722295]</td>\n",
       "      <td>[443.1773751472956, 390.7614781634938]</td>\n",
       "    </tr>\n",
       "    <tr>\n",
       "      <th>4</th>\n",
       "      <td>[211.8445364825192, 119.97841708068698]</td>\n",
       "      <td>[423.3684762341395, 112.2997417613741]</td>\n",
       "      <td>[326.19769332642636, 399.0248601049142]</td>\n",
       "      <td>[219.49634882813532, 382.9369493804368]</td>\n",
       "      <td>[432.7099664053751, 375.77122988087467]</td>\n",
       "    </tr>\n",
       "  </tbody>\n",
       "</table>\n",
       "</div>"
      ],
      "text/plain": [
       "                               box_top_left  \\\n",
       "0  [215.09666220678088, 113.92341627572542]   \n",
       "1  [215.09666220678088, 113.92341627572542]   \n",
       "2  [215.09666220678088, 113.92341627572542]   \n",
       "3  [238.18599786891832, 127.43516499865694]   \n",
       "4   [211.8445364825192, 119.97841708068698]   \n",
       "\n",
       "                             box_top_right  \\\n",
       "0    [425.345655727638, 112.2488439777975]   \n",
       "1    [425.345655727638, 112.2488439777975]   \n",
       "2    [425.345655727638, 112.2488439777975]   \n",
       "3  [447.3798248244432, 127.79519761339816]   \n",
       "4   [423.3684762341395, 112.2997417613741]   \n",
       "\n",
       "                                reward_port  \\\n",
       "0     [321.6525529313325, 398.276176488323]   \n",
       "1     [321.6525529313325, 398.276176488323]   \n",
       "2     [321.6525529313325, 398.276176488323]   \n",
       "3  [339.93931931458565, 407.66117323379024]   \n",
       "4   [326.19769332642636, 399.0248601049142]   \n",
       "\n",
       "                            box_bottom_left  \\\n",
       "0   [216.58701461395228, 380.2771341993332]   \n",
       "1   [216.58701461395228, 380.2771341993332]   \n",
       "2   [216.58701461395228, 380.2771341993332]   \n",
       "3  [234.69934174733294, 389.57206997722295]   \n",
       "4   [219.49634882813532, 382.9369493804368]   \n",
       "\n",
       "                          box_bottom_right  \n",
       "0   [425.874778248961, 379.32621417226574]  \n",
       "1   [425.874778248961, 379.32621417226574]  \n",
       "2   [425.874778248961, 379.32621417226574]  \n",
       "3   [443.1773751472956, 390.7614781634938]  \n",
       "4  [432.7099664053751, 375.77122988087467]  "
      ]
     },
     "execution_count": 70,
     "metadata": {},
     "output_type": "execute_result"
    }
   ],
   "source": [
    "normalized.head()"
   ]
  },
  {
   "cell_type": "code",
   "execution_count": 71,
   "metadata": {},
   "outputs": [],
   "source": [
    "\n",
    "\n",
    "# Drop the original column and concat the normalized DataFrame\n",
    "START_STOP_FRAME_DF = pd.concat([START_STOP_FRAME_DF.drop([\"corner_to_coordinate\"], axis=1), normalized], axis=1)\n"
   ]
  },
  {
   "cell_type": "code",
   "execution_count": 72,
   "metadata": {},
   "outputs": [
    {
     "data": {
      "text/html": [
       "<div>\n",
       "<style scoped>\n",
       "    .dataframe tbody tr th:only-of-type {\n",
       "        vertical-align: middle;\n",
       "    }\n",
       "\n",
       "    .dataframe tbody tr th {\n",
       "        vertical-align: top;\n",
       "    }\n",
       "\n",
       "    .dataframe thead th {\n",
       "        text-align: right;\n",
       "    }\n",
       "</style>\n",
       "<table border=\"1\" class=\"dataframe\">\n",
       "  <thead>\n",
       "    <tr style=\"text-align: right;\">\n",
       "      <th></th>\n",
       "      <th>start_frame</th>\n",
       "      <th>stop_frame</th>\n",
       "      <th>tracked_subject</th>\n",
       "      <th>in_video_subjects</th>\n",
       "      <th>box_number</th>\n",
       "      <th>sleap_name</th>\n",
       "      <th>video_name</th>\n",
       "      <th>current_subject</th>\n",
       "      <th>sleap_glob</th>\n",
       "      <th>sleap_path</th>\n",
       "      <th>...</th>\n",
       "      <th>average_height</th>\n",
       "      <th>average_width</th>\n",
       "      <th>width_ratio</th>\n",
       "      <th>height_ratio</th>\n",
       "      <th>rescaled_locations</th>\n",
       "      <th>box_top_left</th>\n",
       "      <th>box_top_right</th>\n",
       "      <th>reward_port</th>\n",
       "      <th>box_bottom_left</th>\n",
       "      <th>box_bottom_right</th>\n",
       "    </tr>\n",
       "  </thead>\n",
       "  <tbody>\n",
       "    <tr>\n",
       "      <th>0</th>\n",
       "      <td>32700</td>\n",
       "      <td>68257</td>\n",
       "      <td>[1.2]</td>\n",
       "      <td>[1.1, 1.2]</td>\n",
       "      <td>1</td>\n",
       "      <td>20230612_112630_standard_comp_to_training_D1_s...</td>\n",
       "      <td>20230612_112630_standard_comp_to_training_D1_s...</td>\n",
       "      <td>1.2</td>\n",
       "      <td>[/blue/npadillacoreano/ryoi360/projects/reward...</td>\n",
       "      <td>/blue/npadillacoreano/ryoi360/projects/reward_...</td>\n",
       "      <td>...</td>\n",
       "      <td>266.715544</td>\n",
       "      <td>209.768379</td>\n",
       "      <td>0.140631</td>\n",
       "      <td>0.089984</td>\n",
       "      <td>{'1.2': [[[34.36404037 35.61555332], [34.84614...</td>\n",
       "      <td>[215.09666220678088, 113.92341627572542]</td>\n",
       "      <td>[425.345655727638, 112.2488439777975]</td>\n",
       "      <td>[321.6525529313325, 398.276176488323]</td>\n",
       "      <td>[216.58701461395228, 380.2771341993332]</td>\n",
       "      <td>[425.874778248961, 379.32621417226574]</td>\n",
       "    </tr>\n",
       "    <tr>\n",
       "      <th>1</th>\n",
       "      <td>1</td>\n",
       "      <td>32300</td>\n",
       "      <td>[1.1, 1.2]</td>\n",
       "      <td>[1.1, 1.2]</td>\n",
       "      <td>1</td>\n",
       "      <td>20230612_112630_standard_comp_to_training_D1_s...</td>\n",
       "      <td>20230612_112630_standard_comp_to_training_D1_s...</td>\n",
       "      <td>1.1</td>\n",
       "      <td>[/blue/npadillacoreano/ryoi360/projects/reward...</td>\n",
       "      <td>/blue/npadillacoreano/ryoi360/projects/reward_...</td>\n",
       "      <td>...</td>\n",
       "      <td>266.715544</td>\n",
       "      <td>209.768379</td>\n",
       "      <td>0.140631</td>\n",
       "      <td>0.089984</td>\n",
       "      <td>{'1.1': [[[46.68890098 11.49508545], [43.21778...</td>\n",
       "      <td>[215.09666220678088, 113.92341627572542]</td>\n",
       "      <td>[425.345655727638, 112.2488439777975]</td>\n",
       "      <td>[321.6525529313325, 398.276176488323]</td>\n",
       "      <td>[216.58701461395228, 380.2771341993332]</td>\n",
       "      <td>[425.874778248961, 379.32621417226574]</td>\n",
       "    </tr>\n",
       "    <tr>\n",
       "      <th>2</th>\n",
       "      <td>1</td>\n",
       "      <td>32300</td>\n",
       "      <td>[1.1, 1.2]</td>\n",
       "      <td>[1.1, 1.2]</td>\n",
       "      <td>1</td>\n",
       "      <td>20230612_112630_standard_comp_to_training_D1_s...</td>\n",
       "      <td>20230612_112630_standard_comp_to_training_D1_s...</td>\n",
       "      <td>1.2</td>\n",
       "      <td>[/blue/npadillacoreano/ryoi360/projects/reward...</td>\n",
       "      <td>/blue/npadillacoreano/ryoi360/projects/reward_...</td>\n",
       "      <td>...</td>\n",
       "      <td>266.715544</td>\n",
       "      <td>209.768379</td>\n",
       "      <td>0.140631</td>\n",
       "      <td>0.089984</td>\n",
       "      <td>{'1.1': [[[46.68890098 11.49508545], [43.21778...</td>\n",
       "      <td>[215.09666220678088, 113.92341627572542]</td>\n",
       "      <td>[425.345655727638, 112.2488439777975]</td>\n",
       "      <td>[321.6525529313325, 398.276176488323]</td>\n",
       "      <td>[216.58701461395228, 380.2771341993332]</td>\n",
       "      <td>[425.874778248961, 379.32621417226574]</td>\n",
       "    </tr>\n",
       "    <tr>\n",
       "      <th>3</th>\n",
       "      <td>33000</td>\n",
       "      <td>68212</td>\n",
       "      <td>[1.1]</td>\n",
       "      <td>[1.1, 1.2]</td>\n",
       "      <td>2</td>\n",
       "      <td>20230612_112630_standard_comp_to_training_D1_s...</td>\n",
       "      <td>20230612_112630_standard_comp_to_training_D1_s...</td>\n",
       "      <td>1.1</td>\n",
       "      <td>[/blue/npadillacoreano/ryoi360/projects/reward...</td>\n",
       "      <td>/blue/npadillacoreano/ryoi360/projects/reward_...</td>\n",
       "      <td>...</td>\n",
       "      <td>262.551593</td>\n",
       "      <td>208.835930</td>\n",
       "      <td>0.141259</td>\n",
       "      <td>0.091411</td>\n",
       "      <td>{'1.1': [[[27.67316905 31.06298795], [27.08155...</td>\n",
       "      <td>[238.18599786891832, 127.43516499865694]</td>\n",
       "      <td>[447.3798248244432, 127.79519761339816]</td>\n",
       "      <td>[339.93931931458565, 407.66117323379024]</td>\n",
       "      <td>[234.69934174733294, 389.57206997722295]</td>\n",
       "      <td>[443.1773751472956, 390.7614781634938]</td>\n",
       "    </tr>\n",
       "    <tr>\n",
       "      <th>4</th>\n",
       "      <td>33400</td>\n",
       "      <td>68332</td>\n",
       "      <td>[1.1]</td>\n",
       "      <td>[1.1, 1.4]</td>\n",
       "      <td>1</td>\n",
       "      <td>20230613_105657_standard_comp_to_training_D2_s...</td>\n",
       "      <td>20230613_105657_standard_comp_to_training_D2_s...</td>\n",
       "      <td>1.1</td>\n",
       "      <td>[/blue/npadillacoreano/ryoi360/projects/reward...</td>\n",
       "      <td>/blue/npadillacoreano/ryoi360/projects/reward_...</td>\n",
       "      <td>...</td>\n",
       "      <td>263.215010</td>\n",
       "      <td>212.368779</td>\n",
       "      <td>0.138909</td>\n",
       "      <td>0.091180</td>\n",
       "      <td>{'1.1': [[[46.71964111 36.49337937], [44.36101...</td>\n",
       "      <td>[211.8445364825192, 119.97841708068698]</td>\n",
       "      <td>[423.3684762341395, 112.2997417613741]</td>\n",
       "      <td>[326.19769332642636, 399.0248601049142]</td>\n",
       "      <td>[219.49634882813532, 382.9369493804368]</td>\n",
       "      <td>[432.7099664053751, 375.77122988087467]</td>\n",
       "    </tr>\n",
       "  </tbody>\n",
       "</table>\n",
       "<p>5 rows × 32 columns</p>\n",
       "</div>"
      ],
      "text/plain": [
       "   start_frame  stop_frame tracked_subject in_video_subjects  box_number  \\\n",
       "0        32700       68257           [1.2]        [1.1, 1.2]           1   \n",
       "1            1       32300      [1.1, 1.2]        [1.1, 1.2]           1   \n",
       "2            1       32300      [1.1, 1.2]        [1.1, 1.2]           1   \n",
       "3        33000       68212           [1.1]        [1.1, 1.2]           2   \n",
       "4        33400       68332           [1.1]        [1.1, 1.4]           1   \n",
       "\n",
       "                                          sleap_name  \\\n",
       "0  20230612_112630_standard_comp_to_training_D1_s...   \n",
       "1  20230612_112630_standard_comp_to_training_D1_s...   \n",
       "2  20230612_112630_standard_comp_to_training_D1_s...   \n",
       "3  20230612_112630_standard_comp_to_training_D1_s...   \n",
       "4  20230613_105657_standard_comp_to_training_D2_s...   \n",
       "\n",
       "                                          video_name current_subject  \\\n",
       "0  20230612_112630_standard_comp_to_training_D1_s...             1.2   \n",
       "1  20230612_112630_standard_comp_to_training_D1_s...             1.1   \n",
       "2  20230612_112630_standard_comp_to_training_D1_s...             1.2   \n",
       "3  20230612_112630_standard_comp_to_training_D1_s...             1.1   \n",
       "4  20230613_105657_standard_comp_to_training_D2_s...             1.1   \n",
       "\n",
       "                                          sleap_glob  \\\n",
       "0  [/blue/npadillacoreano/ryoi360/projects/reward...   \n",
       "1  [/blue/npadillacoreano/ryoi360/projects/reward...   \n",
       "2  [/blue/npadillacoreano/ryoi360/projects/reward...   \n",
       "3  [/blue/npadillacoreano/ryoi360/projects/reward...   \n",
       "4  [/blue/npadillacoreano/ryoi360/projects/reward...   \n",
       "\n",
       "                                          sleap_path  ... average_height  \\\n",
       "0  /blue/npadillacoreano/ryoi360/projects/reward_...  ...     266.715544   \n",
       "1  /blue/npadillacoreano/ryoi360/projects/reward_...  ...     266.715544   \n",
       "2  /blue/npadillacoreano/ryoi360/projects/reward_...  ...     266.715544   \n",
       "3  /blue/npadillacoreano/ryoi360/projects/reward_...  ...     262.551593   \n",
       "4  /blue/npadillacoreano/ryoi360/projects/reward_...  ...     263.215010   \n",
       "\n",
       "  average_width width_ratio height_ratio  \\\n",
       "0    209.768379    0.140631     0.089984   \n",
       "1    209.768379    0.140631     0.089984   \n",
       "2    209.768379    0.140631     0.089984   \n",
       "3    208.835930    0.141259     0.091411   \n",
       "4    212.368779    0.138909     0.091180   \n",
       "\n",
       "                                  rescaled_locations  \\\n",
       "0  {'1.2': [[[34.36404037 35.61555332], [34.84614...   \n",
       "1  {'1.1': [[[46.68890098 11.49508545], [43.21778...   \n",
       "2  {'1.1': [[[46.68890098 11.49508545], [43.21778...   \n",
       "3  {'1.1': [[[27.67316905 31.06298795], [27.08155...   \n",
       "4  {'1.1': [[[46.71964111 36.49337937], [44.36101...   \n",
       "\n",
       "                               box_top_left  \\\n",
       "0  [215.09666220678088, 113.92341627572542]   \n",
       "1  [215.09666220678088, 113.92341627572542]   \n",
       "2  [215.09666220678088, 113.92341627572542]   \n",
       "3  [238.18599786891832, 127.43516499865694]   \n",
       "4   [211.8445364825192, 119.97841708068698]   \n",
       "\n",
       "                             box_top_right  \\\n",
       "0    [425.345655727638, 112.2488439777975]   \n",
       "1    [425.345655727638, 112.2488439777975]   \n",
       "2    [425.345655727638, 112.2488439777975]   \n",
       "3  [447.3798248244432, 127.79519761339816]   \n",
       "4   [423.3684762341395, 112.2997417613741]   \n",
       "\n",
       "                                reward_port  \\\n",
       "0     [321.6525529313325, 398.276176488323]   \n",
       "1     [321.6525529313325, 398.276176488323]   \n",
       "2     [321.6525529313325, 398.276176488323]   \n",
       "3  [339.93931931458565, 407.66117323379024]   \n",
       "4   [326.19769332642636, 399.0248601049142]   \n",
       "\n",
       "                            box_bottom_left  \\\n",
       "0   [216.58701461395228, 380.2771341993332]   \n",
       "1   [216.58701461395228, 380.2771341993332]   \n",
       "2   [216.58701461395228, 380.2771341993332]   \n",
       "3  [234.69934174733294, 389.57206997722295]   \n",
       "4   [219.49634882813532, 382.9369493804368]   \n",
       "\n",
       "                          box_bottom_right  \n",
       "0   [425.874778248961, 379.32621417226574]  \n",
       "1   [425.874778248961, 379.32621417226574]  \n",
       "2   [425.874778248961, 379.32621417226574]  \n",
       "3   [443.1773751472956, 390.7614781634938]  \n",
       "4  [432.7099664053751, 375.77122988087467]  \n",
       "\n",
       "[5 rows x 32 columns]"
      ]
     },
     "execution_count": 72,
     "metadata": {},
     "output_type": "execute_result"
    }
   ],
   "source": [
    "START_STOP_FRAME_DF.head()"
   ]
  },
  {
   "cell_type": "code",
   "execution_count": 73,
   "metadata": {
    "tags": []
   },
   "outputs": [],
   "source": [
    "START_STOP_FRAME_DF = START_STOP_FRAME_DF.dropna(subset=[\"reward_port\"])"
   ]
  },
  {
   "cell_type": "markdown",
   "metadata": {},
   "source": [
    "- Converting the corner coordinates into cms"
   ]
  },
  {
   "cell_type": "code",
   "execution_count": 74,
   "metadata": {},
   "outputs": [],
   "source": [
    "for corner in START_STOP_FRAME_DF[\"corner_parts\"].iloc[0]:\n",
    "    START_STOP_FRAME_DF[corner] = START_STOP_FRAME_DF.apply(lambda x: [x[corner][0]*x[\"width_ratio\"], x[corner][1]*x[\"height_ratio\"]], axis=1)"
   ]
  },
  {
   "cell_type": "markdown",
   "metadata": {},
   "source": [
    "## Looking over the tracks"
   ]
  },
  {
   "cell_type": "code",
   "execution_count": 75,
   "metadata": {},
   "outputs": [],
   "source": [
    "FILE_INDEX = 0"
   ]
  },
  {
   "cell_type": "code",
   "execution_count": 76,
   "metadata": {},
   "outputs": [
    {
     "data": {
      "text/plain": [
       "'/blue/npadillacoreano/ryoi360/projects/reward_comp/final_proc/id_corrected/20230612_112630_standard_comp_to_training_D1_subj_1-2_and_1-1/20230612_112630_standard_comp_to_training_D1_subj_1-2_and_1-1.1.1_subj.id_corrected.h5'"
      ]
     },
     "execution_count": 76,
     "metadata": {},
     "output_type": "execute_result"
    }
   ],
   "source": [
    "START_STOP_FRAME_DF[\"sleap_path\"].iloc[FILE_INDEX]"
   ]
  },
  {
   "cell_type": "code",
   "execution_count": 77,
   "metadata": {},
   "outputs": [
    {
     "data": {
      "text/plain": [
       "0    {'1.2': [[[34.36404037 35.61555332], [34.84614...\n",
       "1    {'1.1': [[[46.68890098 11.49508545], [43.21778...\n",
       "2    {'1.1': [[[46.68890098 11.49508545], [43.21778...\n",
       "3    {'1.1': [[[27.67316905 31.06298795], [27.08155...\n",
       "4    {'1.1': [[[46.71964111 36.49337937], [44.36101...\n",
       "Name: rescaled_locations, dtype: object"
      ]
     },
     "execution_count": 77,
     "metadata": {},
     "output_type": "execute_result"
    }
   ],
   "source": [
    "START_STOP_FRAME_DF[\"rescaled_locations\"].head()"
   ]
  },
  {
   "cell_type": "code",
   "execution_count": 78,
   "metadata": {
    "tags": []
   },
   "outputs": [
    {
     "data": {
      "text/plain": [
       "Index(['start_frame', 'stop_frame', 'tracked_subject', 'in_video_subjects',\n",
       "       'box_number', 'sleap_name', 'video_name', 'current_subject',\n",
       "       'sleap_glob', 'sleap_path', 'all_sleap_data', 'body_parts', 'locations',\n",
       "       'track_names', 'subject_to_index', 'subject_to_tracks', 'corner_path',\n",
       "       'corner_parts', 'bottom_width', 'top_width', 'right_height',\n",
       "       'left_height', 'average_height', 'average_width', 'width_ratio',\n",
       "       'height_ratio', 'rescaled_locations', 'box_top_left', 'box_top_right',\n",
       "       'reward_port', 'box_bottom_left', 'box_bottom_right'],\n",
       "      dtype='object')"
      ]
     },
     "execution_count": 78,
     "metadata": {},
     "output_type": "execute_result"
    }
   ],
   "source": [
    "START_STOP_FRAME_DF.columns"
   ]
  },
  {
   "cell_type": "code",
   "execution_count": 79,
   "metadata": {},
   "outputs": [
    {
     "name": "stdout",
     "output_type": "stream",
     "text": [
      "===HDF5 datasets===\n",
      "['edge_inds', 'edge_names', 'instance_scores', 'labels_path', 'node_names', 'point_scores', 'provenance', 'track_names', 'track_occupancy', 'tracking_scores', 'tracks', 'video_ind', 'video_path']\n",
      "\n",
      "===locations data shape===\n",
      "(68258, 6, 2)\n",
      "\n",
      "===nodes===\n",
      "0: left_ear\n",
      "1: right_ear\n",
      "2: nose\n",
      "3: tail_base\n",
      "4: thorax\n",
      "5: forehead\n",
      "\n"
     ]
    }
   ],
   "source": [
    "with h5py.File(START_STOP_FRAME_DF[\"sleap_path\"].iloc[FILE_INDEX], \"r\") as f:\n",
    "    dset_names = list(f.keys())\n",
    "    current_subject = START_STOP_FRAME_DF[\"current_subject\"].iloc[FILE_INDEX]\n",
    "    locations = START_STOP_FRAME_DF[\"rescaled_locations\"].iloc[FILE_INDEX][current_subject]\n",
    "    node_names = [n.decode() for n in f[\"node_names\"][:]]\n",
    "    \n",
    "print(\"===HDF5 datasets===\")\n",
    "print(dset_names)\n",
    "print()\n",
    "\n",
    "print(\"===locations data shape===\")\n",
    "print(locations.shape)\n",
    "print()\n",
    "\n",
    "print(\"===nodes===\")\n",
    "for i, name in enumerate(node_names):\n",
    "    print(f\"{i}: {name}\")\n",
    "print()"
   ]
  },
  {
   "cell_type": "code",
   "execution_count": 80,
   "metadata": {},
   "outputs": [],
   "source": [
    "thorax_loc = locations[:, THORAX_INDEX, :]"
   ]
  },
  {
   "cell_type": "code",
   "execution_count": 81,
   "metadata": {},
   "outputs": [
    {
     "data": {
      "text/plain": [
       "Text(0, 0.5, 'Coordinate Position')"
      ]
     },
     "execution_count": 81,
     "metadata": {},
     "output_type": "execute_result"
    },
    {
     "data": {
      "image/png": "[encoded data removed]",
      "text/plain": [
       "<Figure size 1500x600 with 1 Axes>"
      ]
     },
     "metadata": {},
     "output_type": "display_data"
    }
   ],
   "source": [
    "fig, ax = plt.subplots()\n",
    "\n",
    "plt.plot(thorax_loc[:,0],label='X-coordinates')\n",
    "# Converting to negative so that we can see both x and y track\n",
    "plt.plot(-1*thorax_loc[:,1], label='Y-coordinates')\n",
    "\n",
    "plt.legend(loc=\"center right\")\n",
    "plt.title('Thorax locations')\n",
    "plt.xlabel(\"Time in frames\")\n",
    "plt.ylabel(\"Coordinate Position\")"
   ]
  },
  {
   "cell_type": "code",
   "execution_count": 82,
   "metadata": {},
   "outputs": [
    {
     "data": {
      "text/plain": [
       "Text(0, 0.5, 'Y-Coordinates')"
      ]
     },
     "execution_count": 82,
     "metadata": {},
     "output_type": "execute_result"
    },
    {
     "data": {
      "image/png": "[encoded data removed]",
      "text/plain": [
       "<Figure size 700x700 with 1 Axes>"
      ]
     },
     "metadata": {},
     "output_type": "display_data"
    }
   ],
   "source": [
    "plt.figure(figsize=(7,7))\n",
    "plt.plot(thorax_loc[:,0],thorax_loc[:,1])\n",
    "\n",
    "\n",
    "plt.title('Thorax tracks')\n",
    "plt.xlabel(\"X-Coordinates\")\n",
    "plt.ylabel(\"Y-Coordinates\")\n"
   ]
  },
  {
   "cell_type": "code",
   "execution_count": null,
   "metadata": {},
   "outputs": [],
   "source": []
  },
  {
   "cell_type": "markdown",
   "metadata": {},
   "source": [
    "## Creating an individual column for each pose tracking"
   ]
  },
  {
   "cell_type": "code",
   "execution_count": 83,
   "metadata": {
    "tags": []
   },
   "outputs": [],
   "source": [
    "START_STOP_FRAME_DF = START_STOP_FRAME_DF.dropna(subset=\"current_subject\")"
   ]
  },
  {
   "cell_type": "code",
   "execution_count": 84,
   "metadata": {
    "tags": []
   },
   "outputs": [
    {
     "data": {
      "text/html": [
       "<div>\n",
       "<style scoped>\n",
       "    .dataframe tbody tr th:only-of-type {\n",
       "        vertical-align: middle;\n",
       "    }\n",
       "\n",
       "    .dataframe tbody tr th {\n",
       "        vertical-align: top;\n",
       "    }\n",
       "\n",
       "    .dataframe thead th {\n",
       "        text-align: right;\n",
       "    }\n",
       "</style>\n",
       "<table border=\"1\" class=\"dataframe\">\n",
       "  <thead>\n",
       "    <tr style=\"text-align: right;\">\n",
       "      <th></th>\n",
       "      <th>start_frame</th>\n",
       "      <th>stop_frame</th>\n",
       "      <th>tracked_subject</th>\n",
       "      <th>in_video_subjects</th>\n",
       "      <th>box_number</th>\n",
       "      <th>sleap_name</th>\n",
       "      <th>video_name</th>\n",
       "      <th>current_subject</th>\n",
       "      <th>sleap_glob</th>\n",
       "      <th>sleap_path</th>\n",
       "      <th>...</th>\n",
       "      <th>average_height</th>\n",
       "      <th>average_width</th>\n",
       "      <th>width_ratio</th>\n",
       "      <th>height_ratio</th>\n",
       "      <th>rescaled_locations</th>\n",
       "      <th>box_top_left</th>\n",
       "      <th>box_top_right</th>\n",
       "      <th>reward_port</th>\n",
       "      <th>box_bottom_left</th>\n",
       "      <th>box_bottom_right</th>\n",
       "    </tr>\n",
       "  </thead>\n",
       "  <tbody>\n",
       "    <tr>\n",
       "      <th>0</th>\n",
       "      <td>32700</td>\n",
       "      <td>68257</td>\n",
       "      <td>[1.2]</td>\n",
       "      <td>[1.1, 1.2]</td>\n",
       "      <td>1</td>\n",
       "      <td>20230612_112630_standard_comp_to_training_D1_s...</td>\n",
       "      <td>20230612_112630_standard_comp_to_training_D1_s...</td>\n",
       "      <td>1.2</td>\n",
       "      <td>[/blue/npadillacoreano/ryoi360/projects/reward...</td>\n",
       "      <td>/blue/npadillacoreano/ryoi360/projects/reward_...</td>\n",
       "      <td>...</td>\n",
       "      <td>266.715544</td>\n",
       "      <td>209.768379</td>\n",
       "      <td>0.140631</td>\n",
       "      <td>0.089984</td>\n",
       "      <td>{'1.2': [[[34.36404037 35.61555332], [34.84614...</td>\n",
       "      <td>[30.24932345912479, 10.25122851487125]</td>\n",
       "      <td>[59.816912963855586, 10.100544626940918]</td>\n",
       "      <td>[45.23441700698972, 35.83828707637651]</td>\n",
       "      <td>[30.458913657178506, 34.21867013031604]</td>\n",
       "      <td>[59.89132415244771, 34.13310301149612]</td>\n",
       "    </tr>\n",
       "    <tr>\n",
       "      <th>1</th>\n",
       "      <td>1</td>\n",
       "      <td>32300</td>\n",
       "      <td>[1.1, 1.2]</td>\n",
       "      <td>[1.1, 1.2]</td>\n",
       "      <td>1</td>\n",
       "      <td>20230612_112630_standard_comp_to_training_D1_s...</td>\n",
       "      <td>20230612_112630_standard_comp_to_training_D1_s...</td>\n",
       "      <td>1.1</td>\n",
       "      <td>[/blue/npadillacoreano/ryoi360/projects/reward...</td>\n",
       "      <td>/blue/npadillacoreano/ryoi360/projects/reward_...</td>\n",
       "      <td>...</td>\n",
       "      <td>266.715544</td>\n",
       "      <td>209.768379</td>\n",
       "      <td>0.140631</td>\n",
       "      <td>0.089984</td>\n",
       "      <td>{'1.1': [[[46.68890098 11.49508545], [43.21778...</td>\n",
       "      <td>[30.24932345912479, 10.25122851487125]</td>\n",
       "      <td>[59.816912963855586, 10.100544626940918]</td>\n",
       "      <td>[45.23441700698972, 35.83828707637651]</td>\n",
       "      <td>[30.458913657178506, 34.21867013031604]</td>\n",
       "      <td>[59.89132415244771, 34.13310301149612]</td>\n",
       "    </tr>\n",
       "    <tr>\n",
       "      <th>2</th>\n",
       "      <td>1</td>\n",
       "      <td>32300</td>\n",
       "      <td>[1.1, 1.2]</td>\n",
       "      <td>[1.1, 1.2]</td>\n",
       "      <td>1</td>\n",
       "      <td>20230612_112630_standard_comp_to_training_D1_s...</td>\n",
       "      <td>20230612_112630_standard_comp_to_training_D1_s...</td>\n",
       "      <td>1.2</td>\n",
       "      <td>[/blue/npadillacoreano/ryoi360/projects/reward...</td>\n",
       "      <td>/blue/npadillacoreano/ryoi360/projects/reward_...</td>\n",
       "      <td>...</td>\n",
       "      <td>266.715544</td>\n",
       "      <td>209.768379</td>\n",
       "      <td>0.140631</td>\n",
       "      <td>0.089984</td>\n",
       "      <td>{'1.1': [[[46.68890098 11.49508545], [43.21778...</td>\n",
       "      <td>[30.24932345912479, 10.25122851487125]</td>\n",
       "      <td>[59.816912963855586, 10.100544626940918]</td>\n",
       "      <td>[45.23441700698972, 35.83828707637651]</td>\n",
       "      <td>[30.458913657178506, 34.21867013031604]</td>\n",
       "      <td>[59.89132415244771, 34.13310301149612]</td>\n",
       "    </tr>\n",
       "    <tr>\n",
       "      <th>3</th>\n",
       "      <td>33000</td>\n",
       "      <td>68212</td>\n",
       "      <td>[1.1]</td>\n",
       "      <td>[1.1, 1.2]</td>\n",
       "      <td>2</td>\n",
       "      <td>20230612_112630_standard_comp_to_training_D1_s...</td>\n",
       "      <td>20230612_112630_standard_comp_to_training_D1_s...</td>\n",
       "      <td>1.1</td>\n",
       "      <td>[/blue/npadillacoreano/ryoi360/projects/reward...</td>\n",
       "      <td>/blue/npadillacoreano/ryoi360/projects/reward_...</td>\n",
       "      <td>...</td>\n",
       "      <td>262.551593</td>\n",
       "      <td>208.835930</td>\n",
       "      <td>0.141259</td>\n",
       "      <td>0.091411</td>\n",
       "      <td>{'1.1': [[[27.67316905 31.06298795], [27.08155...</td>\n",
       "      <td>[33.645967583991556, 11.648925560748966]</td>\n",
       "      <td>[63.19652380262479, 11.681836359966798]</td>\n",
       "      <td>[48.01956210909252, 37.264554576109816]</td>\n",
       "      <td>[33.1534452699471, 35.61101869926864]</td>\n",
       "      <td>[62.60288905131385, 35.71974322144712]</td>\n",
       "    </tr>\n",
       "    <tr>\n",
       "      <th>4</th>\n",
       "      <td>33400</td>\n",
       "      <td>68332</td>\n",
       "      <td>[1.1]</td>\n",
       "      <td>[1.1, 1.4]</td>\n",
       "      <td>1</td>\n",
       "      <td>20230613_105657_standard_comp_to_training_D2_s...</td>\n",
       "      <td>20230613_105657_standard_comp_to_training_D2_s...</td>\n",
       "      <td>1.1</td>\n",
       "      <td>[/blue/npadillacoreano/ryoi360/projects/reward...</td>\n",
       "      <td>/blue/npadillacoreano/ryoi360/projects/reward_...</td>\n",
       "      <td>...</td>\n",
       "      <td>263.215010</td>\n",
       "      <td>212.368779</td>\n",
       "      <td>0.138909</td>\n",
       "      <td>0.091180</td>\n",
       "      <td>{'1.1': [[[46.71964111 36.49337937], [44.36101...</td>\n",
       "      <td>[29.42717788149638, 10.939657307701639]</td>\n",
       "      <td>[58.80982189308497, 10.239514076824564]</td>\n",
       "      <td>[45.31189572048577, 36.38317068198775]</td>\n",
       "      <td>[30.490085836306232, 34.91627159792731]</td>\n",
       "      <td>[60.10744182471764, 34.262899786598894]</td>\n",
       "    </tr>\n",
       "  </tbody>\n",
       "</table>\n",
       "<p>5 rows × 32 columns</p>\n",
       "</div>"
      ],
      "text/plain": [
       "   start_frame  stop_frame tracked_subject in_video_subjects  box_number  \\\n",
       "0        32700       68257           [1.2]        [1.1, 1.2]           1   \n",
       "1            1       32300      [1.1, 1.2]        [1.1, 1.2]           1   \n",
       "2            1       32300      [1.1, 1.2]        [1.1, 1.2]           1   \n",
       "3        33000       68212           [1.1]        [1.1, 1.2]           2   \n",
       "4        33400       68332           [1.1]        [1.1, 1.4]           1   \n",
       "\n",
       "                                          sleap_name  \\\n",
       "0  20230612_112630_standard_comp_to_training_D1_s...   \n",
       "1  20230612_112630_standard_comp_to_training_D1_s...   \n",
       "2  20230612_112630_standard_comp_to_training_D1_s...   \n",
       "3  20230612_112630_standard_comp_to_training_D1_s...   \n",
       "4  20230613_105657_standard_comp_to_training_D2_s...   \n",
       "\n",
       "                                          video_name current_subject  \\\n",
       "0  20230612_112630_standard_comp_to_training_D1_s...             1.2   \n",
       "1  20230612_112630_standard_comp_to_training_D1_s...             1.1   \n",
       "2  20230612_112630_standard_comp_to_training_D1_s...             1.2   \n",
       "3  20230612_112630_standard_comp_to_training_D1_s...             1.1   \n",
       "4  20230613_105657_standard_comp_to_training_D2_s...             1.1   \n",
       "\n",
       "                                          sleap_glob  \\\n",
       "0  [/blue/npadillacoreano/ryoi360/projects/reward...   \n",
       "1  [/blue/npadillacoreano/ryoi360/projects/reward...   \n",
       "2  [/blue/npadillacoreano/ryoi360/projects/reward...   \n",
       "3  [/blue/npadillacoreano/ryoi360/projects/reward...   \n",
       "4  [/blue/npadillacoreano/ryoi360/projects/reward...   \n",
       "\n",
       "                                          sleap_path  ... average_height  \\\n",
       "0  /blue/npadillacoreano/ryoi360/projects/reward_...  ...     266.715544   \n",
       "1  /blue/npadillacoreano/ryoi360/projects/reward_...  ...     266.715544   \n",
       "2  /blue/npadillacoreano/ryoi360/projects/reward_...  ...     266.715544   \n",
       "3  /blue/npadillacoreano/ryoi360/projects/reward_...  ...     262.551593   \n",
       "4  /blue/npadillacoreano/ryoi360/projects/reward_...  ...     263.215010   \n",
       "\n",
       "  average_width width_ratio height_ratio  \\\n",
       "0    209.768379    0.140631     0.089984   \n",
       "1    209.768379    0.140631     0.089984   \n",
       "2    209.768379    0.140631     0.089984   \n",
       "3    208.835930    0.141259     0.091411   \n",
       "4    212.368779    0.138909     0.091180   \n",
       "\n",
       "                                  rescaled_locations  \\\n",
       "0  {'1.2': [[[34.36404037 35.61555332], [34.84614...   \n",
       "1  {'1.1': [[[46.68890098 11.49508545], [43.21778...   \n",
       "2  {'1.1': [[[46.68890098 11.49508545], [43.21778...   \n",
       "3  {'1.1': [[[27.67316905 31.06298795], [27.08155...   \n",
       "4  {'1.1': [[[46.71964111 36.49337937], [44.36101...   \n",
       "\n",
       "                               box_top_left  \\\n",
       "0    [30.24932345912479, 10.25122851487125]   \n",
       "1    [30.24932345912479, 10.25122851487125]   \n",
       "2    [30.24932345912479, 10.25122851487125]   \n",
       "3  [33.645967583991556, 11.648925560748966]   \n",
       "4   [29.42717788149638, 10.939657307701639]   \n",
       "\n",
       "                              box_top_right  \\\n",
       "0  [59.816912963855586, 10.100544626940918]   \n",
       "1  [59.816912963855586, 10.100544626940918]   \n",
       "2  [59.816912963855586, 10.100544626940918]   \n",
       "3   [63.19652380262479, 11.681836359966798]   \n",
       "4   [58.80982189308497, 10.239514076824564]   \n",
       "\n",
       "                               reward_port  \\\n",
       "0   [45.23441700698972, 35.83828707637651]   \n",
       "1   [45.23441700698972, 35.83828707637651]   \n",
       "2   [45.23441700698972, 35.83828707637651]   \n",
       "3  [48.01956210909252, 37.264554576109816]   \n",
       "4   [45.31189572048577, 36.38317068198775]   \n",
       "\n",
       "                           box_bottom_left  \\\n",
       "0  [30.458913657178506, 34.21867013031604]   \n",
       "1  [30.458913657178506, 34.21867013031604]   \n",
       "2  [30.458913657178506, 34.21867013031604]   \n",
       "3    [33.1534452699471, 35.61101869926864]   \n",
       "4  [30.490085836306232, 34.91627159792731]   \n",
       "\n",
       "                          box_bottom_right  \n",
       "0   [59.89132415244771, 34.13310301149612]  \n",
       "1   [59.89132415244771, 34.13310301149612]  \n",
       "2   [59.89132415244771, 34.13310301149612]  \n",
       "3   [62.60288905131385, 35.71974322144712]  \n",
       "4  [60.10744182471764, 34.262899786598894]  \n",
       "\n",
       "[5 rows x 32 columns]"
      ]
     },
     "execution_count": 84,
     "metadata": {},
     "output_type": "execute_result"
    }
   ],
   "source": [
    "START_STOP_FRAME_DF.head()"
   ]
  },
  {
   "cell_type": "code",
   "execution_count": 85,
   "metadata": {},
   "outputs": [],
   "source": [
    "START_STOP_FRAME_DF[\"agent\"] = START_STOP_FRAME_DF.apply(lambda x: list((set(x[\"tracked_subject\"]) - set([x[\"current_subject\"]]))), axis=1)"
   ]
  },
  {
   "cell_type": "code",
   "execution_count": 86,
   "metadata": {
    "tags": []
   },
   "outputs": [
    {
     "data": {
      "text/html": [
       "<div>\n",
       "<style scoped>\n",
       "    .dataframe tbody tr th:only-of-type {\n",
       "        vertical-align: middle;\n",
       "    }\n",
       "\n",
       "    .dataframe tbody tr th {\n",
       "        vertical-align: top;\n",
       "    }\n",
       "\n",
       "    .dataframe thead th {\n",
       "        text-align: right;\n",
       "    }\n",
       "</style>\n",
       "<table border=\"1\" class=\"dataframe\">\n",
       "  <thead>\n",
       "    <tr style=\"text-align: right;\">\n",
       "      <th></th>\n",
       "      <th>start_frame</th>\n",
       "      <th>stop_frame</th>\n",
       "      <th>tracked_subject</th>\n",
       "      <th>in_video_subjects</th>\n",
       "      <th>box_number</th>\n",
       "      <th>sleap_name</th>\n",
       "      <th>video_name</th>\n",
       "      <th>current_subject</th>\n",
       "      <th>sleap_glob</th>\n",
       "      <th>sleap_path</th>\n",
       "      <th>...</th>\n",
       "      <th>average_width</th>\n",
       "      <th>width_ratio</th>\n",
       "      <th>height_ratio</th>\n",
       "      <th>rescaled_locations</th>\n",
       "      <th>box_top_left</th>\n",
       "      <th>box_top_right</th>\n",
       "      <th>reward_port</th>\n",
       "      <th>box_bottom_left</th>\n",
       "      <th>box_bottom_right</th>\n",
       "      <th>agent</th>\n",
       "    </tr>\n",
       "  </thead>\n",
       "  <tbody>\n",
       "    <tr>\n",
       "      <th>0</th>\n",
       "      <td>32700</td>\n",
       "      <td>68257</td>\n",
       "      <td>[1.2]</td>\n",
       "      <td>[1.1, 1.2]</td>\n",
       "      <td>1</td>\n",
       "      <td>20230612_112630_standard_comp_to_training_D1_s...</td>\n",
       "      <td>20230612_112630_standard_comp_to_training_D1_s...</td>\n",
       "      <td>1.2</td>\n",
       "      <td>[/blue/npadillacoreano/ryoi360/projects/reward...</td>\n",
       "      <td>/blue/npadillacoreano/ryoi360/projects/reward_...</td>\n",
       "      <td>...</td>\n",
       "      <td>209.768379</td>\n",
       "      <td>0.140631</td>\n",
       "      <td>0.089984</td>\n",
       "      <td>{'1.2': [[[34.36404037 35.61555332], [34.84614...</td>\n",
       "      <td>[30.24932345912479, 10.25122851487125]</td>\n",
       "      <td>[59.816912963855586, 10.100544626940918]</td>\n",
       "      <td>[45.23441700698972, 35.83828707637651]</td>\n",
       "      <td>[30.458913657178506, 34.21867013031604]</td>\n",
       "      <td>[59.89132415244771, 34.13310301149612]</td>\n",
       "      <td>[]</td>\n",
       "    </tr>\n",
       "    <tr>\n",
       "      <th>3</th>\n",
       "      <td>33000</td>\n",
       "      <td>68212</td>\n",
       "      <td>[1.1]</td>\n",
       "      <td>[1.1, 1.2]</td>\n",
       "      <td>2</td>\n",
       "      <td>20230612_112630_standard_comp_to_training_D1_s...</td>\n",
       "      <td>20230612_112630_standard_comp_to_training_D1_s...</td>\n",
       "      <td>1.1</td>\n",
       "      <td>[/blue/npadillacoreano/ryoi360/projects/reward...</td>\n",
       "      <td>/blue/npadillacoreano/ryoi360/projects/reward_...</td>\n",
       "      <td>...</td>\n",
       "      <td>208.835930</td>\n",
       "      <td>0.141259</td>\n",
       "      <td>0.091411</td>\n",
       "      <td>{'1.1': [[[27.67316905 31.06298795], [27.08155...</td>\n",
       "      <td>[33.645967583991556, 11.648925560748966]</td>\n",
       "      <td>[63.19652380262479, 11.681836359966798]</td>\n",
       "      <td>[48.01956210909252, 37.264554576109816]</td>\n",
       "      <td>[33.1534452699471, 35.61101869926864]</td>\n",
       "      <td>[62.60288905131385, 35.71974322144712]</td>\n",
       "      <td>[]</td>\n",
       "    </tr>\n",
       "    <tr>\n",
       "      <th>4</th>\n",
       "      <td>33400</td>\n",
       "      <td>68332</td>\n",
       "      <td>[1.1]</td>\n",
       "      <td>[1.1, 1.4]</td>\n",
       "      <td>1</td>\n",
       "      <td>20230613_105657_standard_comp_to_training_D2_s...</td>\n",
       "      <td>20230613_105657_standard_comp_to_training_D2_s...</td>\n",
       "      <td>1.1</td>\n",
       "      <td>[/blue/npadillacoreano/ryoi360/projects/reward...</td>\n",
       "      <td>/blue/npadillacoreano/ryoi360/projects/reward_...</td>\n",
       "      <td>...</td>\n",
       "      <td>212.368779</td>\n",
       "      <td>0.138909</td>\n",
       "      <td>0.091180</td>\n",
       "      <td>{'1.1': [[[46.71964111 36.49337937], [44.36101...</td>\n",
       "      <td>[29.42717788149638, 10.939657307701639]</td>\n",
       "      <td>[58.80982189308497, 10.239514076824564]</td>\n",
       "      <td>[45.31189572048577, 36.38317068198775]</td>\n",
       "      <td>[30.490085836306232, 34.91627159792731]</td>\n",
       "      <td>[60.10744182471764, 34.262899786598894]</td>\n",
       "      <td>[]</td>\n",
       "    </tr>\n",
       "    <tr>\n",
       "      <th>7</th>\n",
       "      <td>33700</td>\n",
       "      <td>68292</td>\n",
       "      <td>[1.4]</td>\n",
       "      <td>[1.1, 1.4]</td>\n",
       "      <td>2</td>\n",
       "      <td>20230613_105657_standard_comp_to_training_D2_s...</td>\n",
       "      <td>20230613_105657_standard_comp_to_training_D2_s...</td>\n",
       "      <td>1.4</td>\n",
       "      <td>[/blue/npadillacoreano/ryoi360/projects/reward...</td>\n",
       "      <td>/blue/npadillacoreano/ryoi360/projects/reward_...</td>\n",
       "      <td>...</td>\n",
       "      <td>208.236715</td>\n",
       "      <td>0.141666</td>\n",
       "      <td>0.091178</td>\n",
       "      <td>{'1.4': [[[26.62764591 30.65273206], [26.64060...</td>\n",
       "      <td>[33.5247551649501, 11.635870119339435]</td>\n",
       "      <td>[63.29822206480314, 11.564044115144247]</td>\n",
       "      <td>[48.142377889356574, 37.337926404692936]</td>\n",
       "      <td>[33.21678486532013, 35.325921663442216]</td>\n",
       "      <td>[62.44331796546709, 35.87399257104147]</td>\n",
       "      <td>[]</td>\n",
       "    </tr>\n",
       "    <tr>\n",
       "      <th>8</th>\n",
       "      <td>32800</td>\n",
       "      <td>44205</td>\n",
       "      <td>[1.1]</td>\n",
       "      <td>[1.1, 1.2]</td>\n",
       "      <td>1</td>\n",
       "      <td>20230614_114041_standard_comp_to_training_D3_s...</td>\n",
       "      <td>20230614_114041_standard_comp_to_training_D3_s...</td>\n",
       "      <td>1.1</td>\n",
       "      <td>[/blue/npadillacoreano/ryoi360/projects/reward...</td>\n",
       "      <td>/blue/npadillacoreano/ryoi360/projects/reward_...</td>\n",
       "      <td>...</td>\n",
       "      <td>212.714155</td>\n",
       "      <td>0.138684</td>\n",
       "      <td>0.091993</td>\n",
       "      <td>{'1.1': [[[52.75681022 36.78031944], [52.13143...</td>\n",
       "      <td>[29.10707058981441, 11.364487226798616]</td>\n",
       "      <td>[58.883863567261514, 10.806271116252097]</td>\n",
       "      <td>[45.44232917370965, 36.91440422283628]</td>\n",
       "      <td>[30.339373669373565, 35.17083382117832]</td>\n",
       "      <td>[59.562580691926456, 34.99992452187238]</td>\n",
       "      <td>[]</td>\n",
       "    </tr>\n",
       "    <tr>\n",
       "      <th>11</th>\n",
       "      <td>41600</td>\n",
       "      <td>75829</td>\n",
       "      <td>[1.2]</td>\n",
       "      <td>[1.1, 1.2]</td>\n",
       "      <td>2</td>\n",
       "      <td>20230614_114041_standard_comp_to_training_D3_s...</td>\n",
       "      <td>20230614_114041_standard_comp_to_training_D3_s...</td>\n",
       "      <td>1.2</td>\n",
       "      <td>[/blue/npadillacoreano/ryoi360/projects/reward...</td>\n",
       "      <td>/blue/npadillacoreano/ryoi360/projects/reward_...</td>\n",
       "      <td>...</td>\n",
       "      <td>209.899717</td>\n",
       "      <td>0.140543</td>\n",
       "      <td>0.091213</td>\n",
       "      <td>{'1.2': [[[28.66627067  2.13697306], [ 9.52213...</td>\n",
       "      <td>[33.39476994396835, 11.628846604390953]</td>\n",
       "      <td>[62.97669267964438, 11.673212770394656]</td>\n",
       "      <td>[48.149571057861564, 37.42853283171967]</td>\n",
       "      <td>[32.956534544878494, 35.30124761187179]</td>\n",
       "      <td>[62.37461180920246, 36.00081176291383]</td>\n",
       "      <td>[]</td>\n",
       "    </tr>\n",
       "    <tr>\n",
       "      <th>12</th>\n",
       "      <td>1</td>\n",
       "      <td>23574</td>\n",
       "      <td>[1.1]</td>\n",
       "      <td>[1.1, 1.2]</td>\n",
       "      <td>1</td>\n",
       "      <td>20230614_114041_standard_comp_to_training_D3_s...</td>\n",
       "      <td>20230614_114041_standard_comp_to_training_D3_s...</td>\n",
       "      <td>1.1</td>\n",
       "      <td>[/blue/npadillacoreano/ryoi360/projects/reward...</td>\n",
       "      <td>/blue/npadillacoreano/ryoi360/projects/reward_...</td>\n",
       "      <td>...</td>\n",
       "      <td>210.920670</td>\n",
       "      <td>0.139863</td>\n",
       "      <td>0.091459</td>\n",
       "      <td>{'1.1': [[[46.36973988 35.49525096], [43.13241...</td>\n",
       "      <td>[29.253482928127013, 11.47363698436633]</td>\n",
       "      <td>[58.934080713694, 10.340666947239828]</td>\n",
       "      <td>[45.88048811411714, 36.6313847000801]</td>\n",
       "      <td>[30.697870470510356, 35.001319517779145]</td>\n",
       "      <td>[60.01727268494337, 34.81298441382702]</td>\n",
       "      <td>[]</td>\n",
       "    </tr>\n",
       "    <tr>\n",
       "      <th>13</th>\n",
       "      <td>32100</td>\n",
       "      <td>67369</td>\n",
       "      <td>[1.4]</td>\n",
       "      <td>[1.2, 1.4]</td>\n",
       "      <td>1</td>\n",
       "      <td>20230616_111904_standard_comp_to_training_D4_s...</td>\n",
       "      <td>20230616_111904_standard_comp_to_training_D4_s...</td>\n",
       "      <td>1.4</td>\n",
       "      <td>[/blue/npadillacoreano/ryoi360/projects/reward...</td>\n",
       "      <td>/blue/npadillacoreano/ryoi360/projects/reward_...</td>\n",
       "      <td>...</td>\n",
       "      <td>210.226016</td>\n",
       "      <td>0.140325</td>\n",
       "      <td>0.090895</td>\n",
       "      <td>{'1.4': [[[56.75056982 24.70525087], [55.05182...</td>\n",
       "      <td>[29.86625143627433, 11.124724603015066]</td>\n",
       "      <td>[59.38334890344171, 10.604275828952773]</td>\n",
       "      <td>[45.69464614292888, 36.59658123160905]</td>\n",
       "      <td>[30.926534526401632, 34.86353305048207]</td>\n",
       "      <td>[60.40943705923425, 34.86546738148577]</td>\n",
       "      <td>[]</td>\n",
       "    </tr>\n",
       "    <tr>\n",
       "      <th>16</th>\n",
       "      <td>36100</td>\n",
       "      <td>71644</td>\n",
       "      <td>[1.2]</td>\n",
       "      <td>[1.2, 1.4]</td>\n",
       "      <td>2</td>\n",
       "      <td>20230616_111904_standard_comp_to_training_D4_s...</td>\n",
       "      <td>20230616_111904_standard_comp_to_training_D4_s...</td>\n",
       "      <td>1.2</td>\n",
       "      <td>[/blue/npadillacoreano/ryoi360/projects/reward...</td>\n",
       "      <td>/blue/npadillacoreano/ryoi360/projects/reward_...</td>\n",
       "      <td>...</td>\n",
       "      <td>211.821627</td>\n",
       "      <td>0.139268</td>\n",
       "      <td>0.091862</td>\n",
       "      <td>{'1.2': [[[25.69325765 31.2012873 ], [24.47530...</td>\n",
       "      <td>[32.72033944532489, 11.668764308336433]</td>\n",
       "      <td>[62.263266330444374, 12.020009418440159]</td>\n",
       "      <td>[47.233606155475826, 37.74264416222433]</td>\n",
       "      <td>[32.43938934971102, 35.74340052241431]</td>\n",
       "      <td>[61.896462464591536, 35.94537320436228]</td>\n",
       "      <td>[]</td>\n",
       "    </tr>\n",
       "    <tr>\n",
       "      <th>17</th>\n",
       "      <td>41000</td>\n",
       "      <td>79050</td>\n",
       "      <td>[1.1]</td>\n",
       "      <td>[1.1, 1.2]</td>\n",
       "      <td>1</td>\n",
       "      <td>20230617_115521_standard_comp_to_omission_D1_s...</td>\n",
       "      <td>20230617_115521_standard_comp_to_omission_D1_s...</td>\n",
       "      <td>1.1</td>\n",
       "      <td>[/blue/npadillacoreano/ryoi360/projects/reward...</td>\n",
       "      <td>/blue/npadillacoreano/ryoi360/projects/reward_...</td>\n",
       "      <td>...</td>\n",
       "      <td>212.446672</td>\n",
       "      <td>0.138858</td>\n",
       "      <td>0.090580</td>\n",
       "      <td>{'1.1': [[[40.03974174  9.47029993], [42.23443...</td>\n",
       "      <td>[29.623370221193532, 10.85380707317621]</td>\n",
       "      <td>[58.88329326555699, 10.55290944942185]</td>\n",
       "      <td>[45.28271137676262, 36.359497739654486]</td>\n",
       "      <td>[30.23007505102494, 34.598706975722735]</td>\n",
       "      <td>[59.970152006661486, 34.80800954687534]</td>\n",
       "      <td>[]</td>\n",
       "    </tr>\n",
       "    <tr>\n",
       "      <th>20</th>\n",
       "      <td>1</td>\n",
       "      <td>38957</td>\n",
       "      <td>[1.2]</td>\n",
       "      <td>[1.1, 1.2]</td>\n",
       "      <td>2</td>\n",
       "      <td>20230617_115521_standard_comp_to_omission_D1_s...</td>\n",
       "      <td>20230617_115521_standard_comp_to_omission_D1_s...</td>\n",
       "      <td>1.2</td>\n",
       "      <td>[/blue/npadillacoreano/ryoi360/projects/reward...</td>\n",
       "      <td>/blue/npadillacoreano/ryoi360/projects/reward_...</td>\n",
       "      <td>...</td>\n",
       "      <td>212.730978</td>\n",
       "      <td>0.138673</td>\n",
       "      <td>0.092739</td>\n",
       "      <td>{'1.2': [[[48.82535585 37.83187484], [47.16011...</td>\n",
       "      <td>[32.135671906914965, 12.175599504864717]</td>\n",
       "      <td>[61.75919978127287, 12.51950469150952]</td>\n",
       "      <td>[47.49887380595856, 37.9989459810454]</td>\n",
       "      <td>[32.27402429448033, 36.157022624721755]</td>\n",
       "      <td>[61.650496420122415, 36.53808157165248]</td>\n",
       "      <td>[]</td>\n",
       "    </tr>\n",
       "    <tr>\n",
       "      <th>21</th>\n",
       "      <td>32792</td>\n",
       "      <td>68494</td>\n",
       "      <td>[1.4]</td>\n",
       "      <td>[1.1, 1.4]</td>\n",
       "      <td>1</td>\n",
       "      <td>20230618_100636_standard_comp_to_omission_D2_s...</td>\n",
       "      <td>20230618_100636_standard_comp_to_omission_D2_s...</td>\n",
       "      <td>1.4</td>\n",
       "      <td>[/blue/npadillacoreano/ryoi360/projects/reward...</td>\n",
       "      <td>/blue/npadillacoreano/ryoi360/projects/reward_...</td>\n",
       "      <td>...</td>\n",
       "      <td>214.308233</td>\n",
       "      <td>0.137652</td>\n",
       "      <td>0.092440</td>\n",
       "      <td>{'1.4': [[[46.8389676  35.87977984], [44.64656...</td>\n",
       "      <td>[28.94954695212123, 11.559275766924861]</td>\n",
       "      <td>[58.25716394690266, 11.0851249161892]</td>\n",
       "      <td>[44.59493426883317, 37.290222508536225]</td>\n",
       "      <td>[29.794023445649177, 35.275466614423074]</td>\n",
       "      <td>[59.48640645086775, 35.36893406869099]</td>\n",
       "      <td>[]</td>\n",
       "    </tr>\n",
       "    <tr>\n",
       "      <th>24</th>\n",
       "      <td>32792</td>\n",
       "      <td>68494</td>\n",
       "      <td>[1.1]</td>\n",
       "      <td>[1.1, 1.4]</td>\n",
       "      <td>2</td>\n",
       "      <td>20230618_100636_standard_comp_to_omission_D2_s...</td>\n",
       "      <td>20230618_100636_standard_comp_to_omission_D2_s...</td>\n",
       "      <td>1.1</td>\n",
       "      <td>[/blue/npadillacoreano/ryoi360/projects/reward...</td>\n",
       "      <td>/blue/npadillacoreano/ryoi360/projects/reward_...</td>\n",
       "      <td>...</td>\n",
       "      <td>210.453045</td>\n",
       "      <td>0.140174</td>\n",
       "      <td>0.093061</td>\n",
       "      <td>{'1.1': [[[30.16917981 35.74821489], [27.60127...</td>\n",
       "      <td>[33.13448993399251, 12.210464782039047]</td>\n",
       "      <td>[62.911815889791995, 12.39031517500344]</td>\n",
       "      <td>[47.762130656568786, 38.156549438224864]</td>\n",
       "      <td>[32.98220466332216, 36.14841447036351]</td>\n",
       "      <td>[62.20487870752268, 36.45236548667897]</td>\n",
       "      <td>[]</td>\n",
       "    </tr>\n",
       "    <tr>\n",
       "      <th>25</th>\n",
       "      <td>32500</td>\n",
       "      <td>66319</td>\n",
       "      <td>[1.2]</td>\n",
       "      <td>[1.2, 1.4]</td>\n",
       "      <td>1</td>\n",
       "      <td>20230619_115321_standard_comp_to_omission_D3_s...</td>\n",
       "      <td>20230619_115321_standard_comp_to_omission_D3_s...</td>\n",
       "      <td>1.2</td>\n",
       "      <td>[/blue/npadillacoreano/ryoi360/projects/reward...</td>\n",
       "      <td>/blue/npadillacoreano/ryoi360/projects/reward_...</td>\n",
       "      <td>...</td>\n",
       "      <td>209.519775</td>\n",
       "      <td>0.140798</td>\n",
       "      <td>0.091388</td>\n",
       "      <td>{'1.2': [[[52.4076269 18.6939002], [51.7641395...</td>\n",
       "      <td>[30.197846404896296, 11.044100528494436]</td>\n",
       "      <td>[59.68276187069709, 11.006383849114048]</td>\n",
       "      <td>[45.516326379178984, 36.94326942435448]</td>\n",
       "      <td>[30.800584114352247, 35.17054473600808]</td>\n",
       "      <td>[60.31566864855145, 34.87993964160041]</td>\n",
       "      <td>[]</td>\n",
       "    </tr>\n",
       "    <tr>\n",
       "      <th>28</th>\n",
       "      <td>32500</td>\n",
       "      <td>66005</td>\n",
       "      <td>[1.4]</td>\n",
       "      <td>[1.2, 1.4]</td>\n",
       "      <td>2</td>\n",
       "      <td>20230619_115321_standard_comp_to_omission_D3_s...</td>\n",
       "      <td>20230619_115321_standard_comp_to_omission_D3_s...</td>\n",
       "      <td>1.4</td>\n",
       "      <td>[/blue/npadillacoreano/ryoi360/projects/reward...</td>\n",
       "      <td>/blue/npadillacoreano/ryoi360/projects/reward_...</td>\n",
       "      <td>...</td>\n",
       "      <td>208.685378</td>\n",
       "      <td>0.141361</td>\n",
       "      <td>0.090605</td>\n",
       "      <td>{'1.4': [[[27.66143408 29.74596122], [ 6.73108...</td>\n",
       "      <td>[33.27471807420669, 11.539400342421512]</td>\n",
       "      <td>[62.86617207748133, 11.546688364527162]</td>\n",
       "      <td>[47.76595281711718, 37.02999885817577]</td>\n",
       "      <td>[33.282392753413966, 35.42489990398388]</td>\n",
       "      <td>[62.69093875013933, 35.661188802964794]</td>\n",
       "      <td>[]</td>\n",
       "    </tr>\n",
       "    <tr>\n",
       "      <th>29</th>\n",
       "      <td>32860</td>\n",
       "      <td>68287</td>\n",
       "      <td>[1.2]</td>\n",
       "      <td>[1.1, 1.2]</td>\n",
       "      <td>1</td>\n",
       "      <td>20230620_114347_standard_comp_to_omission_D4_s...</td>\n",
       "      <td>20230620_114347_standard_comp_to_omission_D4_s...</td>\n",
       "      <td>1.2</td>\n",
       "      <td>[/blue/npadillacoreano/ryoi360/projects/reward...</td>\n",
       "      <td>/blue/npadillacoreano/ryoi360/projects/reward_...</td>\n",
       "      <td>...</td>\n",
       "      <td>214.647754</td>\n",
       "      <td>0.137434</td>\n",
       "      <td>0.090034</td>\n",
       "      <td>{'1.2': [[[41.77548574 33.14423169], [41.20698...</td>\n",
       "      <td>[28.726306016601946, 10.842459364362139]</td>\n",
       "      <td>[58.282641339237685, 10.501152914297204]</td>\n",
       "      <td>[44.54098011165848, 36.54165425213083]</td>\n",
       "      <td>[30.091010784999508, 34.98257973535351]</td>\n",
       "      <td>[59.534675462363765, 34.36103254330584]</td>\n",
       "      <td>[]</td>\n",
       "    </tr>\n",
       "    <tr>\n",
       "      <th>32</th>\n",
       "      <td>32860</td>\n",
       "      <td>68287</td>\n",
       "      <td>[1.1]</td>\n",
       "      <td>[1.1, 1.2]</td>\n",
       "      <td>2</td>\n",
       "      <td>20230620_114347_standard_comp_to_omission_D4_s...</td>\n",
       "      <td>20230620_114347_standard_comp_to_omission_D4_s...</td>\n",
       "      <td>1.1</td>\n",
       "      <td>[/blue/npadillacoreano/ryoi360/projects/reward...</td>\n",
       "      <td>/blue/npadillacoreano/ryoi360/projects/reward_...</td>\n",
       "      <td>...</td>\n",
       "      <td>210.551905</td>\n",
       "      <td>0.140108</td>\n",
       "      <td>0.092571</td>\n",
       "      <td>{'1.1': [[[26.32234658 29.6245314 ], [25.82015...</td>\n",
       "      <td>[33.28099137233164, 11.934690448328578]</td>\n",
       "      <td>[62.433554833984566, 12.423996087702395]</td>\n",
       "      <td>[47.64213996009827, 37.779720514759255]</td>\n",
       "      <td>[32.72662576478881, 36.014458481967296]</td>\n",
       "      <td>[62.5740623031359, 36.344228054063684]</td>\n",
       "      <td>[]</td>\n",
       "    </tr>\n",
       "    <tr>\n",
       "      <th>33</th>\n",
       "      <td>35000</td>\n",
       "      <td>69766</td>\n",
       "      <td>[1.4]</td>\n",
       "      <td>[1.2, 1.4]</td>\n",
       "      <td>1</td>\n",
       "      <td>20230621_111240_standard_comp_to_omission_D5_s...</td>\n",
       "      <td>20230621_111240_standard_comp_to_omission_D5_s...</td>\n",
       "      <td>1.4</td>\n",
       "      <td>[/blue/npadillacoreano/ryoi360/projects/reward...</td>\n",
       "      <td>/blue/npadillacoreano/ryoi360/projects/reward_...</td>\n",
       "      <td>...</td>\n",
       "      <td>212.292023</td>\n",
       "      <td>0.138960</td>\n",
       "      <td>0.091223</td>\n",
       "      <td>{'1.4': [[[51.20982714 36.08500566], [49.42304...</td>\n",
       "      <td>[29.368871804533384, 11.233148401733333]</td>\n",
       "      <td>[58.98052434827515, 10.969818829118575]</td>\n",
       "      <td>[45.157453324589945, 36.79799744676499]</td>\n",
       "      <td>[30.292670448640752, 35.366774292703255]</td>\n",
       "      <td>[59.681017904898994, 34.836192938148656]</td>\n",
       "      <td>[]</td>\n",
       "    </tr>\n",
       "    <tr>\n",
       "      <th>36</th>\n",
       "      <td>34500</td>\n",
       "      <td>69683</td>\n",
       "      <td>[1.2]</td>\n",
       "      <td>[1.2, 1.4]</td>\n",
       "      <td>2</td>\n",
       "      <td>20230621_111240_standard_comp_to_omission_D5_s...</td>\n",
       "      <td>20230621_111240_standard_comp_to_omission_D5_s...</td>\n",
       "      <td>1.2</td>\n",
       "      <td>[/blue/npadillacoreano/ryoi360/projects/reward...</td>\n",
       "      <td>/blue/npadillacoreano/ryoi360/projects/reward_...</td>\n",
       "      <td>...</td>\n",
       "      <td>209.217643</td>\n",
       "      <td>0.141001</td>\n",
       "      <td>0.092771</td>\n",
       "      <td>{'1.2': [[[27.68399596 30.37761655], [25.98086...</td>\n",
       "      <td>[33.444039831280634, 11.990625116244248]</td>\n",
       "      <td>[63.13172112026438, 12.304098071237815]</td>\n",
       "      <td>[47.509677624819325, 37.74883204415362]</td>\n",
       "      <td>[33.42870915186566, 35.89869682567406]</td>\n",
       "      <td>[62.741027862881914, 36.39602636180802]</td>\n",
       "      <td>[]</td>\n",
       "    </tr>\n",
       "  </tbody>\n",
       "</table>\n",
       "<p>19 rows × 33 columns</p>\n",
       "</div>"
      ],
      "text/plain": [
       "    start_frame  stop_frame tracked_subject in_video_subjects  box_number  \\\n",
       "0         32700       68257           [1.2]        [1.1, 1.2]           1   \n",
       "3         33000       68212           [1.1]        [1.1, 1.2]           2   \n",
       "4         33400       68332           [1.1]        [1.1, 1.4]           1   \n",
       "7         33700       68292           [1.4]        [1.1, 1.4]           2   \n",
       "8         32800       44205           [1.1]        [1.1, 1.2]           1   \n",
       "11        41600       75829           [1.2]        [1.1, 1.2]           2   \n",
       "12            1       23574           [1.1]        [1.1, 1.2]           1   \n",
       "13        32100       67369           [1.4]        [1.2, 1.4]           1   \n",
       "16        36100       71644           [1.2]        [1.2, 1.4]           2   \n",
       "17        41000       79050           [1.1]        [1.1, 1.2]           1   \n",
       "20            1       38957           [1.2]        [1.1, 1.2]           2   \n",
       "21        32792       68494           [1.4]        [1.1, 1.4]           1   \n",
       "24        32792       68494           [1.1]        [1.1, 1.4]           2   \n",
       "25        32500       66319           [1.2]        [1.2, 1.4]           1   \n",
       "28        32500       66005           [1.4]        [1.2, 1.4]           2   \n",
       "29        32860       68287           [1.2]        [1.1, 1.2]           1   \n",
       "32        32860       68287           [1.1]        [1.1, 1.2]           2   \n",
       "33        35000       69766           [1.4]        [1.2, 1.4]           1   \n",
       "36        34500       69683           [1.2]        [1.2, 1.4]           2   \n",
       "\n",
       "                                           sleap_name  \\\n",
       "0   20230612_112630_standard_comp_to_training_D1_s...   \n",
       "3   20230612_112630_standard_comp_to_training_D1_s...   \n",
       "4   20230613_105657_standard_comp_to_training_D2_s...   \n",
       "7   20230613_105657_standard_comp_to_training_D2_s...   \n",
       "8   20230614_114041_standard_comp_to_training_D3_s...   \n",
       "11  20230614_114041_standard_comp_to_training_D3_s...   \n",
       "12  20230614_114041_standard_comp_to_training_D3_s...   \n",
       "13  20230616_111904_standard_comp_to_training_D4_s...   \n",
       "16  20230616_111904_standard_comp_to_training_D4_s...   \n",
       "17  20230617_115521_standard_comp_to_omission_D1_s...   \n",
       "20  20230617_115521_standard_comp_to_omission_D1_s...   \n",
       "21  20230618_100636_standard_comp_to_omission_D2_s...   \n",
       "24  20230618_100636_standard_comp_to_omission_D2_s...   \n",
       "25  20230619_115321_standard_comp_to_omission_D3_s...   \n",
       "28  20230619_115321_standard_comp_to_omission_D3_s...   \n",
       "29  20230620_114347_standard_comp_to_omission_D4_s...   \n",
       "32  20230620_114347_standard_comp_to_omission_D4_s...   \n",
       "33  20230621_111240_standard_comp_to_omission_D5_s...   \n",
       "36  20230621_111240_standard_comp_to_omission_D5_s...   \n",
       "\n",
       "                                           video_name current_subject  \\\n",
       "0   20230612_112630_standard_comp_to_training_D1_s...             1.2   \n",
       "3   20230612_112630_standard_comp_to_training_D1_s...             1.1   \n",
       "4   20230613_105657_standard_comp_to_training_D2_s...             1.1   \n",
       "7   20230613_105657_standard_comp_to_training_D2_s...             1.4   \n",
       "8   20230614_114041_standard_comp_to_training_D3_s...             1.1   \n",
       "11  20230614_114041_standard_comp_to_training_D3_s...             1.2   \n",
       "12  20230614_114041_standard_comp_to_training_D3_s...             1.1   \n",
       "13  20230616_111904_standard_comp_to_training_D4_s...             1.4   \n",
       "16  20230616_111904_standard_comp_to_training_D4_s...             1.2   \n",
       "17  20230617_115521_standard_comp_to_omission_D1_s...             1.1   \n",
       "20  20230617_115521_standard_comp_to_omission_D1_s...             1.2   \n",
       "21  20230618_100636_standard_comp_to_omission_D2_s...             1.4   \n",
       "24  20230618_100636_standard_comp_to_omission_D2_s...             1.1   \n",
       "25  20230619_115321_standard_comp_to_omission_D3_s...             1.2   \n",
       "28  20230619_115321_standard_comp_to_omission_D3_s...             1.4   \n",
       "29  20230620_114347_standard_comp_to_omission_D4_s...             1.2   \n",
       "32  20230620_114347_standard_comp_to_omission_D4_s...             1.1   \n",
       "33  20230621_111240_standard_comp_to_omission_D5_s...             1.4   \n",
       "36  20230621_111240_standard_comp_to_omission_D5_s...             1.2   \n",
       "\n",
       "                                           sleap_glob  \\\n",
       "0   [/blue/npadillacoreano/ryoi360/projects/reward...   \n",
       "3   [/blue/npadillacoreano/ryoi360/projects/reward...   \n",
       "4   [/blue/npadillacoreano/ryoi360/projects/reward...   \n",
       "7   [/blue/npadillacoreano/ryoi360/projects/reward...   \n",
       "8   [/blue/npadillacoreano/ryoi360/projects/reward...   \n",
       "11  [/blue/npadillacoreano/ryoi360/projects/reward...   \n",
       "12  [/blue/npadillacoreano/ryoi360/projects/reward...   \n",
       "13  [/blue/npadillacoreano/ryoi360/projects/reward...   \n",
       "16  [/blue/npadillacoreano/ryoi360/projects/reward...   \n",
       "17  [/blue/npadillacoreano/ryoi360/projects/reward...   \n",
       "20  [/blue/npadillacoreano/ryoi360/projects/reward...   \n",
       "21  [/blue/npadillacoreano/ryoi360/projects/reward...   \n",
       "24  [/blue/npadillacoreano/ryoi360/projects/reward...   \n",
       "25  [/blue/npadillacoreano/ryoi360/projects/reward...   \n",
       "28  [/blue/npadillacoreano/ryoi360/projects/reward...   \n",
       "29  [/blue/npadillacoreano/ryoi360/projects/reward...   \n",
       "32  [/blue/npadillacoreano/ryoi360/projects/reward...   \n",
       "33  [/blue/npadillacoreano/ryoi360/projects/reward...   \n",
       "36  [/blue/npadillacoreano/ryoi360/projects/reward...   \n",
       "\n",
       "                                           sleap_path  ... average_width  \\\n",
       "0   /blue/npadillacoreano/ryoi360/projects/reward_...  ...    209.768379   \n",
       "3   /blue/npadillacoreano/ryoi360/projects/reward_...  ...    208.835930   \n",
       "4   /blue/npadillacoreano/ryoi360/projects/reward_...  ...    212.368779   \n",
       "7   /blue/npadillacoreano/ryoi360/projects/reward_...  ...    208.236715   \n",
       "8   /blue/npadillacoreano/ryoi360/projects/reward_...  ...    212.714155   \n",
       "11  /blue/npadillacoreano/ryoi360/projects/reward_...  ...    209.899717   \n",
       "12  /blue/npadillacoreano/ryoi360/projects/reward_...  ...    210.920670   \n",
       "13  /blue/npadillacoreano/ryoi360/projects/reward_...  ...    210.226016   \n",
       "16  /blue/npadillacoreano/ryoi360/projects/reward_...  ...    211.821627   \n",
       "17  /blue/npadillacoreano/ryoi360/projects/reward_...  ...    212.446672   \n",
       "20  /blue/npadillacoreano/ryoi360/projects/reward_...  ...    212.730978   \n",
       "21  /blue/npadillacoreano/ryoi360/projects/reward_...  ...    214.308233   \n",
       "24  /blue/npadillacoreano/ryoi360/projects/reward_...  ...    210.453045   \n",
       "25  /blue/npadillacoreano/ryoi360/projects/reward_...  ...    209.519775   \n",
       "28  /blue/npadillacoreano/ryoi360/projects/reward_...  ...    208.685378   \n",
       "29  /blue/npadillacoreano/ryoi360/projects/reward_...  ...    214.647754   \n",
       "32  /blue/npadillacoreano/ryoi360/projects/reward_...  ...    210.551905   \n",
       "33  /blue/npadillacoreano/ryoi360/projects/reward_...  ...    212.292023   \n",
       "36  /blue/npadillacoreano/ryoi360/projects/reward_...  ...    209.217643   \n",
       "\n",
       "   width_ratio height_ratio  \\\n",
       "0     0.140631     0.089984   \n",
       "3     0.141259     0.091411   \n",
       "4     0.138909     0.091180   \n",
       "7     0.141666     0.091178   \n",
       "8     0.138684     0.091993   \n",
       "11    0.140543     0.091213   \n",
       "12    0.139863     0.091459   \n",
       "13    0.140325     0.090895   \n",
       "16    0.139268     0.091862   \n",
       "17    0.138858     0.090580   \n",
       "20    0.138673     0.092739   \n",
       "21    0.137652     0.092440   \n",
       "24    0.140174     0.093061   \n",
       "25    0.140798     0.091388   \n",
       "28    0.141361     0.090605   \n",
       "29    0.137434     0.090034   \n",
       "32    0.140108     0.092571   \n",
       "33    0.138960     0.091223   \n",
       "36    0.141001     0.092771   \n",
       "\n",
       "                                   rescaled_locations  \\\n",
       "0   {'1.2': [[[34.36404037 35.61555332], [34.84614...   \n",
       "3   {'1.1': [[[27.67316905 31.06298795], [27.08155...   \n",
       "4   {'1.1': [[[46.71964111 36.49337937], [44.36101...   \n",
       "7   {'1.4': [[[26.62764591 30.65273206], [26.64060...   \n",
       "8   {'1.1': [[[52.75681022 36.78031944], [52.13143...   \n",
       "11  {'1.2': [[[28.66627067  2.13697306], [ 9.52213...   \n",
       "12  {'1.1': [[[46.36973988 35.49525096], [43.13241...   \n",
       "13  {'1.4': [[[56.75056982 24.70525087], [55.05182...   \n",
       "16  {'1.2': [[[25.69325765 31.2012873 ], [24.47530...   \n",
       "17  {'1.1': [[[40.03974174  9.47029993], [42.23443...   \n",
       "20  {'1.2': [[[48.82535585 37.83187484], [47.16011...   \n",
       "21  {'1.4': [[[46.8389676  35.87977984], [44.64656...   \n",
       "24  {'1.1': [[[30.16917981 35.74821489], [27.60127...   \n",
       "25  {'1.2': [[[52.4076269 18.6939002], [51.7641395...   \n",
       "28  {'1.4': [[[27.66143408 29.74596122], [ 6.73108...   \n",
       "29  {'1.2': [[[41.77548574 33.14423169], [41.20698...   \n",
       "32  {'1.1': [[[26.32234658 29.6245314 ], [25.82015...   \n",
       "33  {'1.4': [[[51.20982714 36.08500566], [49.42304...   \n",
       "36  {'1.2': [[[27.68399596 30.37761655], [25.98086...   \n",
       "\n",
       "                                box_top_left  \\\n",
       "0     [30.24932345912479, 10.25122851487125]   \n",
       "3   [33.645967583991556, 11.648925560748966]   \n",
       "4    [29.42717788149638, 10.939657307701639]   \n",
       "7     [33.5247551649501, 11.635870119339435]   \n",
       "8    [29.10707058981441, 11.364487226798616]   \n",
       "11   [33.39476994396835, 11.628846604390953]   \n",
       "12   [29.253482928127013, 11.47363698436633]   \n",
       "13   [29.86625143627433, 11.124724603015066]   \n",
       "16   [32.72033944532489, 11.668764308336433]   \n",
       "17   [29.623370221193532, 10.85380707317621]   \n",
       "20  [32.135671906914965, 12.175599504864717]   \n",
       "21   [28.94954695212123, 11.559275766924861]   \n",
       "24   [33.13448993399251, 12.210464782039047]   \n",
       "25  [30.197846404896296, 11.044100528494436]   \n",
       "28   [33.27471807420669, 11.539400342421512]   \n",
       "29  [28.726306016601946, 10.842459364362139]   \n",
       "32   [33.28099137233164, 11.934690448328578]   \n",
       "33  [29.368871804533384, 11.233148401733333]   \n",
       "36  [33.444039831280634, 11.990625116244248]   \n",
       "\n",
       "                               box_top_right  \\\n",
       "0   [59.816912963855586, 10.100544626940918]   \n",
       "3    [63.19652380262479, 11.681836359966798]   \n",
       "4    [58.80982189308497, 10.239514076824564]   \n",
       "7    [63.29822206480314, 11.564044115144247]   \n",
       "8   [58.883863567261514, 10.806271116252097]   \n",
       "11   [62.97669267964438, 11.673212770394656]   \n",
       "12     [58.934080713694, 10.340666947239828]   \n",
       "13   [59.38334890344171, 10.604275828952773]   \n",
       "16  [62.263266330444374, 12.020009418440159]   \n",
       "17    [58.88329326555699, 10.55290944942185]   \n",
       "20    [61.75919978127287, 12.51950469150952]   \n",
       "21     [58.25716394690266, 11.0851249161892]   \n",
       "24   [62.911815889791995, 12.39031517500344]   \n",
       "25   [59.68276187069709, 11.006383849114048]   \n",
       "28   [62.86617207748133, 11.546688364527162]   \n",
       "29  [58.282641339237685, 10.501152914297204]   \n",
       "32  [62.433554833984566, 12.423996087702395]   \n",
       "33   [58.98052434827515, 10.969818829118575]   \n",
       "36   [63.13172112026438, 12.304098071237815]   \n",
       "\n",
       "                                 reward_port  \\\n",
       "0     [45.23441700698972, 35.83828707637651]   \n",
       "3    [48.01956210909252, 37.264554576109816]   \n",
       "4     [45.31189572048577, 36.38317068198775]   \n",
       "7   [48.142377889356574, 37.337926404692936]   \n",
       "8     [45.44232917370965, 36.91440422283628]   \n",
       "11   [48.149571057861564, 37.42853283171967]   \n",
       "12     [45.88048811411714, 36.6313847000801]   \n",
       "13    [45.69464614292888, 36.59658123160905]   \n",
       "16   [47.233606155475826, 37.74264416222433]   \n",
       "17   [45.28271137676262, 36.359497739654486]   \n",
       "20     [47.49887380595856, 37.9989459810454]   \n",
       "21   [44.59493426883317, 37.290222508536225]   \n",
       "24  [47.762130656568786, 38.156549438224864]   \n",
       "25   [45.516326379178984, 36.94326942435448]   \n",
       "28    [47.76595281711718, 37.02999885817577]   \n",
       "29    [44.54098011165848, 36.54165425213083]   \n",
       "32   [47.64213996009827, 37.779720514759255]   \n",
       "33   [45.157453324589945, 36.79799744676499]   \n",
       "36   [47.509677624819325, 37.74883204415362]   \n",
       "\n",
       "                             box_bottom_left  \\\n",
       "0    [30.458913657178506, 34.21867013031604]   \n",
       "3      [33.1534452699471, 35.61101869926864]   \n",
       "4    [30.490085836306232, 34.91627159792731]   \n",
       "7    [33.21678486532013, 35.325921663442216]   \n",
       "8    [30.339373669373565, 35.17083382117832]   \n",
       "11   [32.956534544878494, 35.30124761187179]   \n",
       "12  [30.697870470510356, 35.001319517779145]   \n",
       "13   [30.926534526401632, 34.86353305048207]   \n",
       "16    [32.43938934971102, 35.74340052241431]   \n",
       "17   [30.23007505102494, 34.598706975722735]   \n",
       "20   [32.27402429448033, 36.157022624721755]   \n",
       "21  [29.794023445649177, 35.275466614423074]   \n",
       "24    [32.98220466332216, 36.14841447036351]   \n",
       "25   [30.800584114352247, 35.17054473600808]   \n",
       "28   [33.282392753413966, 35.42489990398388]   \n",
       "29   [30.091010784999508, 34.98257973535351]   \n",
       "32   [32.72662576478881, 36.014458481967296]   \n",
       "33  [30.292670448640752, 35.366774292703255]   \n",
       "36    [33.42870915186566, 35.89869682567406]   \n",
       "\n",
       "                            box_bottom_right  agent  \n",
       "0     [59.89132415244771, 34.13310301149612]     []  \n",
       "3     [62.60288905131385, 35.71974322144712]     []  \n",
       "4    [60.10744182471764, 34.262899786598894]     []  \n",
       "7     [62.44331796546709, 35.87399257104147]     []  \n",
       "8    [59.562580691926456, 34.99992452187238]     []  \n",
       "11    [62.37461180920246, 36.00081176291383]     []  \n",
       "12    [60.01727268494337, 34.81298441382702]     []  \n",
       "13    [60.40943705923425, 34.86546738148577]     []  \n",
       "16   [61.896462464591536, 35.94537320436228]     []  \n",
       "17   [59.970152006661486, 34.80800954687534]     []  \n",
       "20   [61.650496420122415, 36.53808157165248]     []  \n",
       "21    [59.48640645086775, 35.36893406869099]     []  \n",
       "24    [62.20487870752268, 36.45236548667897]     []  \n",
       "25    [60.31566864855145, 34.87993964160041]     []  \n",
       "28   [62.69093875013933, 35.661188802964794]     []  \n",
       "29   [59.534675462363765, 34.36103254330584]     []  \n",
       "32    [62.5740623031359, 36.344228054063684]     []  \n",
       "33  [59.681017904898994, 34.836192938148656]     []  \n",
       "36   [62.741027862881914, 36.39602636180802]     []  \n",
       "\n",
       "[19 rows x 33 columns]"
      ]
     },
     "execution_count": 86,
     "metadata": {},
     "output_type": "execute_result"
    }
   ],
   "source": [
    "START_STOP_FRAME_DF[START_STOP_FRAME_DF[\"agent\"].apply(lambda x: len(x) != 1)]"
   ]
  },
  {
   "cell_type": "code",
   "execution_count": 87,
   "metadata": {
    "tags": []
   },
   "outputs": [],
   "source": [
    "START_STOP_FRAME_DF[\"agent\"] = START_STOP_FRAME_DF[\"agent\"].apply(lambda x: x[0] if len(x) == 1 else None)"
   ]
  },
  {
   "cell_type": "code",
   "execution_count": 88,
   "metadata": {},
   "outputs": [],
   "source": [
    "START_STOP_FRAME_DF[\"subject_locations\"] = START_STOP_FRAME_DF.apply(lambda x: x[\"rescaled_locations\"][x[\"current_subject\"]] , axis=1)"
   ]
  },
  {
   "cell_type": "code",
   "execution_count": null,
   "metadata": {},
   "outputs": [],
   "source": []
  },
  {
   "cell_type": "code",
   "execution_count": 89,
   "metadata": {},
   "outputs": [],
   "source": [
    "START_STOP_FRAME_DF[\"agent_locations\"] = START_STOP_FRAME_DF.apply(lambda x: x[\"rescaled_locations\"].get(x[\"agent\"], np.nan) if x[\"agent\"] else np.nan, axis=1)"
   ]
  },
  {
   "cell_type": "code",
   "execution_count": null,
   "metadata": {
    "tags": []
   },
   "outputs": [],
   "source": []
  },
  {
   "cell_type": "markdown",
   "metadata": {},
   "source": [
    "## Removing unnecessary columns"
   ]
  },
  {
   "cell_type": "code",
   "execution_count": 90,
   "metadata": {},
   "outputs": [],
   "source": [
    "START_STOP_FRAME_DF = START_STOP_FRAME_DF.drop([\"sleap_glob\", \"subject_to_index\", \"subject_to_tracks\", \"corner_parts\", \"corner_to_coordinate\", \"bottom_width\", \"top_width\", \"right_height\", \"left_height\", \"average_height\", \"average_width\", \"width_ratio\", \"height_ratio\", 'locations', 'track_names', 'sleap_path', 'corner_path', 'all_sleap_data', 'rescaled_locations'], errors=\"ignore\", axis=1)"
   ]
  },
  {
   "cell_type": "code",
   "execution_count": 91,
   "metadata": {},
   "outputs": [
    {
     "data": {
      "text/plain": [
       "Index(['start_frame', 'stop_frame', 'tracked_subject', 'in_video_subjects',\n",
       "       'box_number', 'sleap_name', 'video_name', 'current_subject',\n",
       "       'body_parts', 'box_top_left', 'box_top_right', 'reward_port',\n",
       "       'box_bottom_left', 'box_bottom_right', 'agent', 'subject_locations',\n",
       "       'agent_locations'],\n",
       "      dtype='object')"
      ]
     },
     "execution_count": 91,
     "metadata": {},
     "output_type": "execute_result"
    }
   ],
   "source": [
    "START_STOP_FRAME_DF.columns"
   ]
  },
  {
   "cell_type": "code",
   "execution_count": 92,
   "metadata": {},
   "outputs": [
    {
     "data": {
      "text/html": [
       "<div>\n",
       "<style scoped>\n",
       "    .dataframe tbody tr th:only-of-type {\n",
       "        vertical-align: middle;\n",
       "    }\n",
       "\n",
       "    .dataframe tbody tr th {\n",
       "        vertical-align: top;\n",
       "    }\n",
       "\n",
       "    .dataframe thead th {\n",
       "        text-align: right;\n",
       "    }\n",
       "</style>\n",
       "<table border=\"1\" class=\"dataframe\">\n",
       "  <thead>\n",
       "    <tr style=\"text-align: right;\">\n",
       "      <th></th>\n",
       "      <th>start_frame</th>\n",
       "      <th>stop_frame</th>\n",
       "      <th>tracked_subject</th>\n",
       "      <th>in_video_subjects</th>\n",
       "      <th>box_number</th>\n",
       "      <th>sleap_name</th>\n",
       "      <th>video_name</th>\n",
       "      <th>current_subject</th>\n",
       "      <th>body_parts</th>\n",
       "      <th>box_top_left</th>\n",
       "      <th>box_top_right</th>\n",
       "      <th>reward_port</th>\n",
       "      <th>box_bottom_left</th>\n",
       "      <th>box_bottom_right</th>\n",
       "      <th>agent</th>\n",
       "      <th>subject_locations</th>\n",
       "      <th>agent_locations</th>\n",
       "    </tr>\n",
       "  </thead>\n",
       "  <tbody>\n",
       "    <tr>\n",
       "      <th>0</th>\n",
       "      <td>32700</td>\n",
       "      <td>68257</td>\n",
       "      <td>[1.2]</td>\n",
       "      <td>[1.1, 1.2]</td>\n",
       "      <td>1</td>\n",
       "      <td>20230612_112630_standard_comp_to_training_D1_s...</td>\n",
       "      <td>20230612_112630_standard_comp_to_training_D1_s...</td>\n",
       "      <td>1.2</td>\n",
       "      <td>[left_ear, right_ear, nose, tail_base, thorax,...</td>\n",
       "      <td>[30.24932345912479, 10.25122851487125]</td>\n",
       "      <td>[59.816912963855586, 10.100544626940918]</td>\n",
       "      <td>[45.23441700698972, 35.83828707637651]</td>\n",
       "      <td>[30.458913657178506, 34.21867013031604]</td>\n",
       "      <td>[59.89132415244771, 34.13310301149612]</td>\n",
       "      <td>None</td>\n",
       "      <td>[[[34.36404036584844, 35.615553316175784], [34...</td>\n",
       "      <td>NaN</td>\n",
       "    </tr>\n",
       "    <tr>\n",
       "      <th>1</th>\n",
       "      <td>1</td>\n",
       "      <td>32300</td>\n",
       "      <td>[1.1, 1.2]</td>\n",
       "      <td>[1.1, 1.2]</td>\n",
       "      <td>1</td>\n",
       "      <td>20230612_112630_standard_comp_to_training_D1_s...</td>\n",
       "      <td>20230612_112630_standard_comp_to_training_D1_s...</td>\n",
       "      <td>1.1</td>\n",
       "      <td>[left_ear, right_ear, nose, tail_base, thorax,...</td>\n",
       "      <td>[30.24932345912479, 10.25122851487125]</td>\n",
       "      <td>[59.816912963855586, 10.100544626940918]</td>\n",
       "      <td>[45.23441700698972, 35.83828707637651]</td>\n",
       "      <td>[30.458913657178506, 34.21867013031604]</td>\n",
       "      <td>[59.89132415244771, 34.13310301149612]</td>\n",
       "      <td>1.2</td>\n",
       "      <td>[[[46.68890098287189, 11.495085446056166], [43...</td>\n",
       "      <td>[[[34.36404036584844, 35.615553316175784], [34...</td>\n",
       "    </tr>\n",
       "    <tr>\n",
       "      <th>2</th>\n",
       "      <td>1</td>\n",
       "      <td>32300</td>\n",
       "      <td>[1.1, 1.2]</td>\n",
       "      <td>[1.1, 1.2]</td>\n",
       "      <td>1</td>\n",
       "      <td>20230612_112630_standard_comp_to_training_D1_s...</td>\n",
       "      <td>20230612_112630_standard_comp_to_training_D1_s...</td>\n",
       "      <td>1.2</td>\n",
       "      <td>[left_ear, right_ear, nose, tail_base, thorax,...</td>\n",
       "      <td>[30.24932345912479, 10.25122851487125]</td>\n",
       "      <td>[59.816912963855586, 10.100544626940918]</td>\n",
       "      <td>[45.23441700698972, 35.83828707637651]</td>\n",
       "      <td>[30.458913657178506, 34.21867013031604]</td>\n",
       "      <td>[59.89132415244771, 34.13310301149612]</td>\n",
       "      <td>1.1</td>\n",
       "      <td>[[[34.36404036584844, 35.615553316175784], [34...</td>\n",
       "      <td>[[[46.68890098287189, 11.495085446056166], [43...</td>\n",
       "    </tr>\n",
       "    <tr>\n",
       "      <th>3</th>\n",
       "      <td>33000</td>\n",
       "      <td>68212</td>\n",
       "      <td>[1.1]</td>\n",
       "      <td>[1.1, 1.2]</td>\n",
       "      <td>2</td>\n",
       "      <td>20230612_112630_standard_comp_to_training_D1_s...</td>\n",
       "      <td>20230612_112630_standard_comp_to_training_D1_s...</td>\n",
       "      <td>1.1</td>\n",
       "      <td>[left_ear, right_ear, nose, tail_base, thorax,...</td>\n",
       "      <td>[33.645967583991556, 11.648925560748966]</td>\n",
       "      <td>[63.19652380262479, 11.681836359966798]</td>\n",
       "      <td>[48.01956210909252, 37.264554576109816]</td>\n",
       "      <td>[33.1534452699471, 35.61101869926864]</td>\n",
       "      <td>[62.60288905131385, 35.71974322144712]</td>\n",
       "      <td>None</td>\n",
       "      <td>[[[27.67316905433137, 31.06298795228111], [27....</td>\n",
       "      <td>NaN</td>\n",
       "    </tr>\n",
       "    <tr>\n",
       "      <th>4</th>\n",
       "      <td>33400</td>\n",
       "      <td>68332</td>\n",
       "      <td>[1.1]</td>\n",
       "      <td>[1.1, 1.4]</td>\n",
       "      <td>1</td>\n",
       "      <td>20230613_105657_standard_comp_to_training_D2_s...</td>\n",
       "      <td>20230613_105657_standard_comp_to_training_D2_s...</td>\n",
       "      <td>1.1</td>\n",
       "      <td>[left_ear, right_ear, nose, tail_base, thorax,...</td>\n",
       "      <td>[29.42717788149638, 10.939657307701639]</td>\n",
       "      <td>[58.80982189308497, 10.239514076824564]</td>\n",
       "      <td>[45.31189572048577, 36.38317068198775]</td>\n",
       "      <td>[30.490085836306232, 34.91627159792731]</td>\n",
       "      <td>[60.10744182471764, 34.262899786598894]</td>\n",
       "      <td>None</td>\n",
       "      <td>[[[46.71964110607613, 36.493379374373234], [44...</td>\n",
       "      <td>NaN</td>\n",
       "    </tr>\n",
       "  </tbody>\n",
       "</table>\n",
       "</div>"
      ],
      "text/plain": [
       "   start_frame  stop_frame tracked_subject in_video_subjects  box_number  \\\n",
       "0        32700       68257           [1.2]        [1.1, 1.2]           1   \n",
       "1            1       32300      [1.1, 1.2]        [1.1, 1.2]           1   \n",
       "2            1       32300      [1.1, 1.2]        [1.1, 1.2]           1   \n",
       "3        33000       68212           [1.1]        [1.1, 1.2]           2   \n",
       "4        33400       68332           [1.1]        [1.1, 1.4]           1   \n",
       "\n",
       "                                          sleap_name  \\\n",
       "0  20230612_112630_standard_comp_to_training_D1_s...   \n",
       "1  20230612_112630_standard_comp_to_training_D1_s...   \n",
       "2  20230612_112630_standard_comp_to_training_D1_s...   \n",
       "3  20230612_112630_standard_comp_to_training_D1_s...   \n",
       "4  20230613_105657_standard_comp_to_training_D2_s...   \n",
       "\n",
       "                                          video_name current_subject  \\\n",
       "0  20230612_112630_standard_comp_to_training_D1_s...             1.2   \n",
       "1  20230612_112630_standard_comp_to_training_D1_s...             1.1   \n",
       "2  20230612_112630_standard_comp_to_training_D1_s...             1.2   \n",
       "3  20230612_112630_standard_comp_to_training_D1_s...             1.1   \n",
       "4  20230613_105657_standard_comp_to_training_D2_s...             1.1   \n",
       "\n",
       "                                          body_parts  \\\n",
       "0  [left_ear, right_ear, nose, tail_base, thorax,...   \n",
       "1  [left_ear, right_ear, nose, tail_base, thorax,...   \n",
       "2  [left_ear, right_ear, nose, tail_base, thorax,...   \n",
       "3  [left_ear, right_ear, nose, tail_base, thorax,...   \n",
       "4  [left_ear, right_ear, nose, tail_base, thorax,...   \n",
       "\n",
       "                               box_top_left  \\\n",
       "0    [30.24932345912479, 10.25122851487125]   \n",
       "1    [30.24932345912479, 10.25122851487125]   \n",
       "2    [30.24932345912479, 10.25122851487125]   \n",
       "3  [33.645967583991556, 11.648925560748966]   \n",
       "4   [29.42717788149638, 10.939657307701639]   \n",
       "\n",
       "                              box_top_right  \\\n",
       "0  [59.816912963855586, 10.100544626940918]   \n",
       "1  [59.816912963855586, 10.100544626940918]   \n",
       "2  [59.816912963855586, 10.100544626940918]   \n",
       "3   [63.19652380262479, 11.681836359966798]   \n",
       "4   [58.80982189308497, 10.239514076824564]   \n",
       "\n",
       "                               reward_port  \\\n",
       "0   [45.23441700698972, 35.83828707637651]   \n",
       "1   [45.23441700698972, 35.83828707637651]   \n",
       "2   [45.23441700698972, 35.83828707637651]   \n",
       "3  [48.01956210909252, 37.264554576109816]   \n",
       "4   [45.31189572048577, 36.38317068198775]   \n",
       "\n",
       "                           box_bottom_left  \\\n",
       "0  [30.458913657178506, 34.21867013031604]   \n",
       "1  [30.458913657178506, 34.21867013031604]   \n",
       "2  [30.458913657178506, 34.21867013031604]   \n",
       "3    [33.1534452699471, 35.61101869926864]   \n",
       "4  [30.490085836306232, 34.91627159792731]   \n",
       "\n",
       "                          box_bottom_right agent  \\\n",
       "0   [59.89132415244771, 34.13310301149612]  None   \n",
       "1   [59.89132415244771, 34.13310301149612]   1.2   \n",
       "2   [59.89132415244771, 34.13310301149612]   1.1   \n",
       "3   [62.60288905131385, 35.71974322144712]  None   \n",
       "4  [60.10744182471764, 34.262899786598894]  None   \n",
       "\n",
       "                                   subject_locations  \\\n",
       "0  [[[34.36404036584844, 35.615553316175784], [34...   \n",
       "1  [[[46.68890098287189, 11.495085446056166], [43...   \n",
       "2  [[[34.36404036584844, 35.615553316175784], [34...   \n",
       "3  [[[27.67316905433137, 31.06298795228111], [27....   \n",
       "4  [[[46.71964110607613, 36.493379374373234], [44...   \n",
       "\n",
       "                                     agent_locations  \n",
       "0                                                NaN  \n",
       "1  [[[34.36404036584844, 35.615553316175784], [34...  \n",
       "2  [[[46.68890098287189, 11.495085446056166], [43...  \n",
       "3                                                NaN  \n",
       "4                                                NaN  "
      ]
     },
     "execution_count": 92,
     "metadata": {},
     "output_type": "execute_result"
    }
   ],
   "source": [
    "START_STOP_FRAME_DF.head()"
   ]
  },
  {
   "cell_type": "code",
   "execution_count": null,
   "metadata": {},
   "outputs": [],
   "source": []
  },
  {
   "cell_type": "markdown",
   "metadata": {},
   "source": [
    "# Calculate velocity"
   ]
  },
  {
   "cell_type": "code",
   "execution_count": 93,
   "metadata": {
    "tags": []
   },
   "outputs": [
    {
     "data": {
      "text/plain": [
       "Index(['start_frame', 'stop_frame', 'tracked_subject', 'in_video_subjects',\n",
       "       'box_number', 'sleap_name', 'video_name', 'current_subject',\n",
       "       'body_parts', 'box_top_left', 'box_top_right', 'reward_port',\n",
       "       'box_bottom_left', 'box_bottom_right', 'agent', 'subject_locations',\n",
       "       'agent_locations'],\n",
       "      dtype='object')"
      ]
     },
     "execution_count": 93,
     "metadata": {},
     "output_type": "execute_result"
    }
   ],
   "source": [
    "START_STOP_FRAME_DF.columns"
   ]
  },
  {
   "cell_type": "code",
   "execution_count": 94,
   "metadata": {
    "tags": []
   },
   "outputs": [
    {
     "data": {
      "text/plain": [
       "0     4\n",
       "1     4\n",
       "2     4\n",
       "3     4\n",
       "4     4\n",
       "     ..\n",
       "68    4\n",
       "69    4\n",
       "70    4\n",
       "71    4\n",
       "72    4\n",
       "Name: body_parts, Length: 73, dtype: int64"
      ]
     },
     "execution_count": 94,
     "metadata": {},
     "output_type": "execute_result"
    }
   ],
   "source": [
    "START_STOP_FRAME_DF[\"body_parts\"].apply(lambda x: x.index(\"thorax\"))"
   ]
  },
  {
   "cell_type": "code",
   "execution_count": 95,
   "metadata": {
    "tags": []
   },
   "outputs": [],
   "source": [
    "START_STOP_FRAME_DF[\"subject_thorax_velocity\"] = START_STOP_FRAME_DF.apply(lambda x: compute_velocity(x[\"subject_locations\"][:,x[\"body_parts\"].index(\"thorax\"),:], window_size=FRAME_RATE*3) * FRAME_RATE, axis=1)\n",
    "START_STOP_FRAME_DF[\"subject_thorax_velocity\"] = START_STOP_FRAME_DF[\"subject_thorax_velocity\"].apply(lambda x: x.astype(np.float16) if x is not np.nan else np.nan)"
   ]
  },
  {
   "cell_type": "code",
   "execution_count": 96,
   "metadata": {
    "tags": []
   },
   "outputs": [
    {
     "data": {
      "text/plain": [
       "0                                                   NaN\n",
       "1     [[[34.36404036584844, 35.615553316175784], [34...\n",
       "2     [[[46.68890098287189, 11.495085446056166], [43...\n",
       "3                                                   NaN\n",
       "4                                                   NaN\n",
       "                            ...                        \n",
       "68    [[[42.40523742457364, 29.11403633803355], [40....\n",
       "69    [[[32.683056182830434, 34.92733973755609], [32...\n",
       "70    [[[33.89056344526231, 13.30128534512865], [34....\n",
       "71    [[[32.683056182830434, 34.92733973755609], [32...\n",
       "72    [[[4.371455668449597, 33.21801163507191], [58....\n",
       "Name: agent_locations, Length: 73, dtype: object"
      ]
     },
     "execution_count": 96,
     "metadata": {},
     "output_type": "execute_result"
    }
   ],
   "source": [
    "START_STOP_FRAME_DF[\"agent_locations\"]"
   ]
  },
  {
   "cell_type": "code",
   "execution_count": 97,
   "metadata": {
    "tags": []
   },
   "outputs": [],
   "source": [
    "START_STOP_FRAME_DF[\"agent_thorax_velocity\"] = START_STOP_FRAME_DF.apply(lambda x: compute_velocity(x[\"agent_locations\"][:,x[\"body_parts\"].index(\"thorax\"),:], window_size=FRAME_RATE*3) * FRAME_RATE if x[\"agent_locations\"] is not np.nan else np.nan, axis=1)\n",
    "START_STOP_FRAME_DF[\"agent_thorax_velocity\"] = START_STOP_FRAME_DF[\"agent_thorax_velocity\"].apply(lambda x: x.astype(np.float16) if x is not np.nan else np.nan)\n"
   ]
  },
  {
   "cell_type": "code",
   "execution_count": 98,
   "metadata": {
    "tags": []
   },
   "outputs": [
    {
     "data": {
      "text/plain": [
       "(68258,)"
      ]
     },
     "execution_count": 98,
     "metadata": {},
     "output_type": "execute_result"
    }
   ],
   "source": [
    "START_STOP_FRAME_DF[\"subject_thorax_velocity\"].iloc[0].shape"
   ]
  },
  {
   "cell_type": "markdown",
   "metadata": {},
   "source": [
    "## Calculate distance to reward port"
   ]
  },
  {
   "cell_type": "code",
   "execution_count": 99,
   "metadata": {
    "tags": []
   },
   "outputs": [],
   "source": [
    "START_STOP_FRAME_DF[\"subject_thorax_to_reward_port\"] = START_STOP_FRAME_DF.apply(lambda x: np.linalg.norm(x[\"subject_locations\"][:,x[\"body_parts\"].index(\"thorax\"),:] - x[\"reward_port\"], axis=1),  axis=1)\n",
    "START_STOP_FRAME_DF[\"subject_thorax_to_reward_port\"] = START_STOP_FRAME_DF[\"subject_thorax_to_reward_port\"].apply(lambda x: x.astype(np.float16) if x is not np.nan else np.nan)"
   ]
  },
  {
   "cell_type": "code",
   "execution_count": 100,
   "metadata": {
    "tags": []
   },
   "outputs": [],
   "source": [
    "START_STOP_FRAME_DF[\"agent_thorax_to_reward_port\"] = START_STOP_FRAME_DF.apply(lambda x: np.linalg.norm(x[\"agent_locations\"][:,x[\"body_parts\"].index(\"thorax\"),:] - x[\"reward_port\"], axis=1) if x[\"agent_locations\"] is not np.nan else np.nan,  axis=1)\n",
    "START_STOP_FRAME_DF[\"agent_thorax_to_reward_port\"] = START_STOP_FRAME_DF[\"agent_thorax_to_reward_port\"].apply(lambda x: x.astype(np.float16) if x is not np.nan else np.nan)"
   ]
  },
  {
   "cell_type": "code",
   "execution_count": null,
   "metadata": {},
   "outputs": [],
   "source": []
  },
  {
   "cell_type": "markdown",
   "metadata": {},
   "source": [
    "## Putting together LFP and video start/stop"
   ]
  },
  {
   "cell_type": "code",
   "execution_count": 101,
   "metadata": {
    "tags": []
   },
   "outputs": [
    {
     "data": {
      "text/plain": [
       "array(['20230612_112630_standard_comp_to_training_D1_subj_1-2_and_1-1.1',\n",
       "       '20230612_112630_standard_comp_to_training_D1_subj_1-2_and_1-1.2',\n",
       "       '20230613_105657_standard_comp_to_training_D2_subj_1-1_and_1-4.1',\n",
       "       '20230613_105657_standard_comp_to_training_D2_subj_1-1_and_1-4.2',\n",
       "       '20230614_114041_standard_comp_to_training_D3_subj_1-1_and_1-2.1'],\n",
       "      dtype=object)"
      ]
     },
     "execution_count": 101,
     "metadata": {},
     "output_type": "execute_result"
    }
   ],
   "source": [
    "START_STOP_FRAME_DF[\"video_name\"].unique()[:5]"
   ]
  },
  {
   "cell_type": "code",
   "execution_count": 102,
   "metadata": {
    "tags": []
   },
   "outputs": [
    {
     "data": {
      "text/plain": [
       "array(['20230612_101430_standard_comp_to_training_D1_subj_1-4_and_1-3.1',\n",
       "       '20230612_101430_standard_comp_to_training_D1_subj_1-4_and_1-3.2',\n",
       "       '20230612_112630_standard_comp_to_training_D1_subj_1-2_and_1-1.1',\n",
       "       '20230612_112630_standard_comp_to_training_D1_subj_1-2_and_1-1.2',\n",
       "       '20230613_105657_standard_comp_to_training_D2_subj_1-1_and_1-4.1'],\n",
       "      dtype=object)"
      ]
     },
     "execution_count": 102,
     "metadata": {},
     "output_type": "execute_result"
    }
   ],
   "source": [
    "LFP_SPECTRAL_DF[\"video_name\"].unique()[:5]"
   ]
  },
  {
   "cell_type": "code",
   "execution_count": 103,
   "metadata": {
    "tags": []
   },
   "outputs": [
    {
     "data": {
      "text/plain": [
       "array(['1.3', '1.4', '1.1', '1.2'], dtype=object)"
      ]
     },
     "execution_count": 103,
     "metadata": {},
     "output_type": "execute_result"
    }
   ],
   "source": [
    "LFP_SPECTRAL_DF[\"current_subject\"].unique()"
   ]
  },
  {
   "cell_type": "code",
   "execution_count": 104,
   "metadata": {
    "tags": []
   },
   "outputs": [
    {
     "data": {
      "text/plain": [
       "array(['1.2', '1.1', '1.4', '2.2', '2.1'], dtype=object)"
      ]
     },
     "execution_count": 104,
     "metadata": {},
     "output_type": "execute_result"
    }
   ],
   "source": [
    "START_STOP_FRAME_DF[\"current_subject\"].unique()"
   ]
  },
  {
   "cell_type": "code",
   "execution_count": 105,
   "metadata": {
    "tags": []
   },
   "outputs": [],
   "source": [
    "LFP_AND_SLEAP_DF = pd.merge(LFP_SPECTRAL_DF, START_STOP_FRAME_DF, on=[\"video_name\", \"current_subject\"], how=\"inner\")"
   ]
  },
  {
   "cell_type": "code",
   "execution_count": 106,
   "metadata": {
    "tags": []
   },
   "outputs": [
    {
     "data": {
      "text/plain": [
       "0    (68258,)\n",
       "1    (68213,)\n",
       "2    (68258,)\n",
       "3    (68258,)\n",
       "4    (68333,)\n",
       "Name: video_timestamps, dtype: object"
      ]
     },
     "execution_count": 106,
     "metadata": {},
     "output_type": "execute_result"
    }
   ],
   "source": [
    "LFP_AND_SLEAP_DF[\"video_timestamps\"].apply(lambda x: x.shape).head()"
   ]
  },
  {
   "cell_type": "code",
   "execution_count": 107,
   "metadata": {
    "tags": []
   },
   "outputs": [
    {
     "data": {
      "text/html": [
       "<div>\n",
       "<style scoped>\n",
       "    .dataframe tbody tr th:only-of-type {\n",
       "        vertical-align: middle;\n",
       "    }\n",
       "\n",
       "    .dataframe tbody tr th {\n",
       "        vertical-align: top;\n",
       "    }\n",
       "\n",
       "    .dataframe thead th {\n",
       "        text-align: right;\n",
       "    }\n",
       "</style>\n",
       "<table border=\"1\" class=\"dataframe\">\n",
       "  <thead>\n",
       "    <tr style=\"text-align: right;\">\n",
       "      <th></th>\n",
       "      <th>cohort</th>\n",
       "      <th>session_dir</th>\n",
       "      <th>tone_frames</th>\n",
       "      <th>box_1_port_entry_frames</th>\n",
       "      <th>box_2_port_entry_frames</th>\n",
       "      <th>video_name</th>\n",
       "      <th>session_path</th>\n",
       "      <th>recording</th>\n",
       "      <th>current_subject</th>\n",
       "      <th>subject</th>\n",
       "      <th>...</th>\n",
       "      <th>reward_port</th>\n",
       "      <th>box_bottom_left</th>\n",
       "      <th>box_bottom_right</th>\n",
       "      <th>agent</th>\n",
       "      <th>subject_locations</th>\n",
       "      <th>agent_locations</th>\n",
       "      <th>subject_thorax_velocity</th>\n",
       "      <th>agent_thorax_velocity</th>\n",
       "      <th>subject_thorax_to_reward_port</th>\n",
       "      <th>agent_thorax_to_reward_port</th>\n",
       "    </tr>\n",
       "  </thead>\n",
       "  <tbody>\n",
       "    <tr>\n",
       "      <th>0</th>\n",
       "      <td>2</td>\n",
       "      <td>20230612_112630_standard_comp_to_training_D1_s...</td>\n",
       "      <td>[[1125, 1324], [3519, 3720], [5815, 6014], [76...</td>\n",
       "      <td>[[192, 248], [389, 405], [916, 929], [929, 948...</td>\n",
       "      <td>[[33019, 33020], [33246, 33251], [33253, 33255...</td>\n",
       "      <td>20230612_112630_standard_comp_to_training_D1_s...</td>\n",
       "      <td>/scratch/back_up/reward_competition_extention/...</td>\n",
       "      <td>20230612_112630_standard_comp_to_training_D1_s...</td>\n",
       "      <td>1.1</td>\n",
       "      <td>1.1</td>\n",
       "      <td>...</td>\n",
       "      <td>[45.23441700698972, 35.83828707637651]</td>\n",
       "      <td>[30.458913657178506, 34.21867013031604]</td>\n",
       "      <td>[59.89132415244771, 34.13310301149612]</td>\n",
       "      <td>1.2</td>\n",
       "      <td>[[[46.68890098287189, 11.495085446056166], [43...</td>\n",
       "      <td>[[[34.36404036584844, 35.615553316175784], [34...</td>\n",
       "      <td>[1.8125, 1.707, 1.6045, 1.506, 1.409, 1.315, 1...</td>\n",
       "      <td>[14.336, 12.875, 11.47, 10.11, 8.81, 7.57, 6.3...</td>\n",
       "      <td>[26.45, 26.16, 26.1, 25.77, 25.72, 25.78, 26.1...</td>\n",
       "      <td>[6.11, 6.06, 6.125, 6.566, 6.605, 6.676, 7.13,...</td>\n",
       "    </tr>\n",
       "    <tr>\n",
       "      <th>1</th>\n",
       "      <td>2</td>\n",
       "      <td>20230612_112630_standard_comp_to_training_D1_s...</td>\n",
       "      <td>[[1125, 1324], [3519, 3720], [5815, 6014], [76...</td>\n",
       "      <td>[[192, 248], [389, 405], [916, 930], [930, 948...</td>\n",
       "      <td>[[32974, 32976], [33201, 33207], [33208, 33211...</td>\n",
       "      <td>20230612_112630_standard_comp_to_training_D1_s...</td>\n",
       "      <td>/scratch/back_up/reward_competition_extention/...</td>\n",
       "      <td>20230612_112630_standard_comp_to_training_D1_s...</td>\n",
       "      <td>1.1</td>\n",
       "      <td>1.1</td>\n",
       "      <td>...</td>\n",
       "      <td>[48.01956210909252, 37.264554576109816]</td>\n",
       "      <td>[33.1534452699471, 35.61101869926864]</td>\n",
       "      <td>[62.60288905131385, 35.71974322144712]</td>\n",
       "      <td>None</td>\n",
       "      <td>[[[27.67316905433137, 31.06298795228111], [27....</td>\n",
       "      <td>NaN</td>\n",
       "      <td>[0.0, 0.0, 0.0, 0.0, 0.0, 0.0, 0.0, 0.0, 0.0, ...</td>\n",
       "      <td>NaN</td>\n",
       "      <td>[21.36, 21.36, 21.36, 21.36, 21.36, 21.36, 21....</td>\n",
       "      <td>NaN</td>\n",
       "    </tr>\n",
       "    <tr>\n",
       "      <th>2</th>\n",
       "      <td>2</td>\n",
       "      <td>20230612_112630_standard_comp_to_training_D1_s...</td>\n",
       "      <td>[[1125, 1324], [3519, 3720], [5815, 6014], [76...</td>\n",
       "      <td>[[192, 248], [389, 405], [916, 929], [929, 948...</td>\n",
       "      <td>[[33019, 33020], [33246, 33251], [33253, 33255...</td>\n",
       "      <td>20230612_112630_standard_comp_to_training_D1_s...</td>\n",
       "      <td>/scratch/back_up/reward_competition_extention/...</td>\n",
       "      <td>20230612_112630_standard_comp_to_training_D1_s...</td>\n",
       "      <td>1.2</td>\n",
       "      <td>1.2</td>\n",
       "      <td>...</td>\n",
       "      <td>[45.23441700698972, 35.83828707637651]</td>\n",
       "      <td>[30.458913657178506, 34.21867013031604]</td>\n",
       "      <td>[59.89132415244771, 34.13310301149612]</td>\n",
       "      <td>None</td>\n",
       "      <td>[[[34.36404036584844, 35.615553316175784], [34...</td>\n",
       "      <td>NaN</td>\n",
       "      <td>[55.4, 52.03, 48.72, 45.53, 42.44, 39.44, 36.5...</td>\n",
       "      <td>NaN</td>\n",
       "      <td>[6.11, 6.06, 6.125, 6.566, 6.605, 6.676, 7.13,...</td>\n",
       "      <td>NaN</td>\n",
       "    </tr>\n",
       "    <tr>\n",
       "      <th>3</th>\n",
       "      <td>2</td>\n",
       "      <td>20230612_112630_standard_comp_to_training_D1_s...</td>\n",
       "      <td>[[1125, 1324], [3519, 3720], [5815, 6014], [76...</td>\n",
       "      <td>[[192, 248], [389, 405], [916, 929], [929, 948...</td>\n",
       "      <td>[[33019, 33020], [33246, 33251], [33253, 33255...</td>\n",
       "      <td>20230612_112630_standard_comp_to_training_D1_s...</td>\n",
       "      <td>/scratch/back_up/reward_competition_extention/...</td>\n",
       "      <td>20230612_112630_standard_comp_to_training_D1_s...</td>\n",
       "      <td>1.2</td>\n",
       "      <td>1.2</td>\n",
       "      <td>...</td>\n",
       "      <td>[45.23441700698972, 35.83828707637651]</td>\n",
       "      <td>[30.458913657178506, 34.21867013031604]</td>\n",
       "      <td>[59.89132415244771, 34.13310301149612]</td>\n",
       "      <td>1.1</td>\n",
       "      <td>[[[34.36404036584844, 35.615553316175784], [34...</td>\n",
       "      <td>[[[46.68890098287189, 11.495085446056166], [43...</td>\n",
       "      <td>[14.336, 12.875, 11.47, 10.11, 8.81, 7.57, 6.3...</td>\n",
       "      <td>[1.8125, 1.707, 1.6045, 1.506, 1.409, 1.315, 1...</td>\n",
       "      <td>[6.11, 6.06, 6.125, 6.566, 6.605, 6.676, 7.13,...</td>\n",
       "      <td>[26.45, 26.16, 26.1, 25.77, 25.72, 25.78, 26.1...</td>\n",
       "    </tr>\n",
       "    <tr>\n",
       "      <th>4</th>\n",
       "      <td>2</td>\n",
       "      <td>20230613_105657_standard_comp_to_training_D2_s...</td>\n",
       "      <td>[[916, 1117], [3312, 3513], [5608, 5808], [740...</td>\n",
       "      <td>[[49, 67], [70, 79], [360, 366], [460, 469], [...</td>\n",
       "      <td>[[33601, 33798], [34108, 34165], [34166, 34179...</td>\n",
       "      <td>20230613_105657_standard_comp_to_training_D2_s...</td>\n",
       "      <td>/scratch/back_up/reward_competition_extention/...</td>\n",
       "      <td>20230613_105657_standard_comp_to_training_D2_s...</td>\n",
       "      <td>1.1</td>\n",
       "      <td>1.1</td>\n",
       "      <td>...</td>\n",
       "      <td>[45.31189572048577, 36.38317068198775]</td>\n",
       "      <td>[30.490085836306232, 34.91627159792731]</td>\n",
       "      <td>[60.10744182471764, 34.262899786598894]</td>\n",
       "      <td>None</td>\n",
       "      <td>[[[46.71964110607613, 36.493379374373234], [44...</td>\n",
       "      <td>NaN</td>\n",
       "      <td>[5.8, 5.207, 4.64, 4.1, 3.596, 3.127, 2.7, 2.3...</td>\n",
       "      <td>NaN</td>\n",
       "      <td>[4.633, 4.09, 4.36, 4.656, 4.65, 4.383, 4.35, ...</td>\n",
       "      <td>NaN</td>\n",
       "    </tr>\n",
       "  </tbody>\n",
       "</table>\n",
       "<p>5 rows × 153 columns</p>\n",
       "</div>"
      ],
      "text/plain": [
       "   cohort                                        session_dir  \\\n",
       "0       2  20230612_112630_standard_comp_to_training_D1_s...   \n",
       "1       2  20230612_112630_standard_comp_to_training_D1_s...   \n",
       "2       2  20230612_112630_standard_comp_to_training_D1_s...   \n",
       "3       2  20230612_112630_standard_comp_to_training_D1_s...   \n",
       "4       2  20230613_105657_standard_comp_to_training_D2_s...   \n",
       "\n",
       "                                         tone_frames  \\\n",
       "0  [[1125, 1324], [3519, 3720], [5815, 6014], [76...   \n",
       "1  [[1125, 1324], [3519, 3720], [5815, 6014], [76...   \n",
       "2  [[1125, 1324], [3519, 3720], [5815, 6014], [76...   \n",
       "3  [[1125, 1324], [3519, 3720], [5815, 6014], [76...   \n",
       "4  [[916, 1117], [3312, 3513], [5608, 5808], [740...   \n",
       "\n",
       "                             box_1_port_entry_frames  \\\n",
       "0  [[192, 248], [389, 405], [916, 929], [929, 948...   \n",
       "1  [[192, 248], [389, 405], [916, 930], [930, 948...   \n",
       "2  [[192, 248], [389, 405], [916, 929], [929, 948...   \n",
       "3  [[192, 248], [389, 405], [916, 929], [929, 948...   \n",
       "4  [[49, 67], [70, 79], [360, 366], [460, 469], [...   \n",
       "\n",
       "                             box_2_port_entry_frames  \\\n",
       "0  [[33019, 33020], [33246, 33251], [33253, 33255...   \n",
       "1  [[32974, 32976], [33201, 33207], [33208, 33211...   \n",
       "2  [[33019, 33020], [33246, 33251], [33253, 33255...   \n",
       "3  [[33019, 33020], [33246, 33251], [33253, 33255...   \n",
       "4  [[33601, 33798], [34108, 34165], [34166, 34179...   \n",
       "\n",
       "                                          video_name  \\\n",
       "0  20230612_112630_standard_comp_to_training_D1_s...   \n",
       "1  20230612_112630_standard_comp_to_training_D1_s...   \n",
       "2  20230612_112630_standard_comp_to_training_D1_s...   \n",
       "3  20230612_112630_standard_comp_to_training_D1_s...   \n",
       "4  20230613_105657_standard_comp_to_training_D2_s...   \n",
       "\n",
       "                                        session_path  \\\n",
       "0  /scratch/back_up/reward_competition_extention/...   \n",
       "1  /scratch/back_up/reward_competition_extention/...   \n",
       "2  /scratch/back_up/reward_competition_extention/...   \n",
       "3  /scratch/back_up/reward_competition_extention/...   \n",
       "4  /scratch/back_up/reward_competition_extention/...   \n",
       "\n",
       "                                           recording current_subject subject  \\\n",
       "0  20230612_112630_standard_comp_to_training_D1_s...             1.1     1.1   \n",
       "1  20230612_112630_standard_comp_to_training_D1_s...             1.1     1.1   \n",
       "2  20230612_112630_standard_comp_to_training_D1_s...             1.2     1.2   \n",
       "3  20230612_112630_standard_comp_to_training_D1_s...             1.2     1.2   \n",
       "4  20230613_105657_standard_comp_to_training_D2_s...             1.1     1.1   \n",
       "\n",
       "   ...                              reward_port  \\\n",
       "0  ...   [45.23441700698972, 35.83828707637651]   \n",
       "1  ...  [48.01956210909252, 37.264554576109816]   \n",
       "2  ...   [45.23441700698972, 35.83828707637651]   \n",
       "3  ...   [45.23441700698972, 35.83828707637651]   \n",
       "4  ...   [45.31189572048577, 36.38317068198775]   \n",
       "\n",
       "                           box_bottom_left  \\\n",
       "0  [30.458913657178506, 34.21867013031604]   \n",
       "1    [33.1534452699471, 35.61101869926864]   \n",
       "2  [30.458913657178506, 34.21867013031604]   \n",
       "3  [30.458913657178506, 34.21867013031604]   \n",
       "4  [30.490085836306232, 34.91627159792731]   \n",
       "\n",
       "                          box_bottom_right agent  \\\n",
       "0   [59.89132415244771, 34.13310301149612]   1.2   \n",
       "1   [62.60288905131385, 35.71974322144712]  None   \n",
       "2   [59.89132415244771, 34.13310301149612]  None   \n",
       "3   [59.89132415244771, 34.13310301149612]   1.1   \n",
       "4  [60.10744182471764, 34.262899786598894]  None   \n",
       "\n",
       "                                   subject_locations  \\\n",
       "0  [[[46.68890098287189, 11.495085446056166], [43...   \n",
       "1  [[[27.67316905433137, 31.06298795228111], [27....   \n",
       "2  [[[34.36404036584844, 35.615553316175784], [34...   \n",
       "3  [[[34.36404036584844, 35.615553316175784], [34...   \n",
       "4  [[[46.71964110607613, 36.493379374373234], [44...   \n",
       "\n",
       "                                     agent_locations  \\\n",
       "0  [[[34.36404036584844, 35.615553316175784], [34...   \n",
       "1                                                NaN   \n",
       "2                                                NaN   \n",
       "3  [[[46.68890098287189, 11.495085446056166], [43...   \n",
       "4                                                NaN   \n",
       "\n",
       "                             subject_thorax_velocity  \\\n",
       "0  [1.8125, 1.707, 1.6045, 1.506, 1.409, 1.315, 1...   \n",
       "1  [0.0, 0.0, 0.0, 0.0, 0.0, 0.0, 0.0, 0.0, 0.0, ...   \n",
       "2  [55.4, 52.03, 48.72, 45.53, 42.44, 39.44, 36.5...   \n",
       "3  [14.336, 12.875, 11.47, 10.11, 8.81, 7.57, 6.3...   \n",
       "4  [5.8, 5.207, 4.64, 4.1, 3.596, 3.127, 2.7, 2.3...   \n",
       "\n",
       "                               agent_thorax_velocity  \\\n",
       "0  [14.336, 12.875, 11.47, 10.11, 8.81, 7.57, 6.3...   \n",
       "1                                                NaN   \n",
       "2                                                NaN   \n",
       "3  [1.8125, 1.707, 1.6045, 1.506, 1.409, 1.315, 1...   \n",
       "4                                                NaN   \n",
       "\n",
       "                       subject_thorax_to_reward_port  \\\n",
       "0  [26.45, 26.16, 26.1, 25.77, 25.72, 25.78, 26.1...   \n",
       "1  [21.36, 21.36, 21.36, 21.36, 21.36, 21.36, 21....   \n",
       "2  [6.11, 6.06, 6.125, 6.566, 6.605, 6.676, 7.13,...   \n",
       "3  [6.11, 6.06, 6.125, 6.566, 6.605, 6.676, 7.13,...   \n",
       "4  [4.633, 4.09, 4.36, 4.656, 4.65, 4.383, 4.35, ...   \n",
       "\n",
       "                         agent_thorax_to_reward_port  \n",
       "0  [6.11, 6.06, 6.125, 6.566, 6.605, 6.676, 7.13,...  \n",
       "1                                                NaN  \n",
       "2                                                NaN  \n",
       "3  [26.45, 26.16, 26.1, 25.77, 25.72, 25.78, 26.1...  \n",
       "4                                                NaN  \n",
       "\n",
       "[5 rows x 153 columns]"
      ]
     },
     "execution_count": 107,
     "metadata": {},
     "output_type": "execute_result"
    }
   ],
   "source": [
    "LFP_AND_SLEAP_DF.head()"
   ]
  },
  {
   "cell_type": "markdown",
   "metadata": {
    "tags": []
   },
   "source": [
    "- Checking if any of the velocities contain Nans"
   ]
  },
  {
   "cell_type": "code",
   "execution_count": 108,
   "metadata": {
    "tags": []
   },
   "outputs": [
    {
     "data": {
      "text/html": [
       "<div>\n",
       "<style scoped>\n",
       "    .dataframe tbody tr th:only-of-type {\n",
       "        vertical-align: middle;\n",
       "    }\n",
       "\n",
       "    .dataframe tbody tr th {\n",
       "        vertical-align: top;\n",
       "    }\n",
       "\n",
       "    .dataframe thead th {\n",
       "        text-align: right;\n",
       "    }\n",
       "</style>\n",
       "<table border=\"1\" class=\"dataframe\">\n",
       "  <thead>\n",
       "    <tr style=\"text-align: right;\">\n",
       "      <th></th>\n",
       "      <th>cohort</th>\n",
       "      <th>session_dir</th>\n",
       "      <th>tone_frames</th>\n",
       "      <th>box_1_port_entry_frames</th>\n",
       "      <th>box_2_port_entry_frames</th>\n",
       "      <th>video_name</th>\n",
       "      <th>session_path</th>\n",
       "      <th>recording</th>\n",
       "      <th>current_subject</th>\n",
       "      <th>subject</th>\n",
       "      <th>...</th>\n",
       "      <th>reward_port</th>\n",
       "      <th>box_bottom_left</th>\n",
       "      <th>box_bottom_right</th>\n",
       "      <th>agent</th>\n",
       "      <th>subject_locations</th>\n",
       "      <th>agent_locations</th>\n",
       "      <th>subject_thorax_velocity</th>\n",
       "      <th>agent_thorax_velocity</th>\n",
       "      <th>subject_thorax_to_reward_port</th>\n",
       "      <th>agent_thorax_to_reward_port</th>\n",
       "    </tr>\n",
       "  </thead>\n",
       "  <tbody>\n",
       "  </tbody>\n",
       "</table>\n",
       "<p>0 rows × 153 columns</p>\n",
       "</div>"
      ],
      "text/plain": [
       "Empty DataFrame\n",
       "Columns: [cohort, session_dir, tone_frames, box_1_port_entry_frames, box_2_port_entry_frames, video_name, session_path, recording, current_subject, subject, all_subjects, first_timestamp, last_timestamp, video_timestamps, tone_timestamps, box_1_port_entry_timestamps, box_2_port_entry_timestamps, lfp_timestamps, mPFC_lfp_trace, MD_lfp_trace, LH_lfp_trace, BLA_lfp_trace, vHPC_lfp_trace, mPFC_power_all_frequencies_all_windows, MD_power_all_frequencies_all_windows, LH_power_all_frequencies_all_windows, BLA_power_all_frequencies_all_windows, vHPC_power_all_frequencies_all_windows, power_timestamps, power_calculation_frequencies, BLA_LH_coherence_all_frequencies_all_windows, BLA_MD_coherence_all_frequencies_all_windows, BLA_mPFC_coherence_all_frequencies_all_windows, BLA_vHPC_coherence_all_frequencies_all_windows, LH_MD_coherence_all_frequencies_all_windows, LH_mPFC_coherence_all_frequencies_all_windows, LH_vHPC_coherence_all_frequencies_all_windows, MD_mPFC_coherence_all_frequencies_all_windows, MD_vHPC_coherence_all_frequencies_all_windows, mPFC_vHPC_coherence_all_frequencies_all_windows, coherence_timestamps, coherence_calculation_frequencies, BLA_LH_granger_all_frequencies_all_windows, LH_BLA_granger_all_frequencies_all_windows, BLA_MD_granger_all_frequencies_all_windows, MD_BLA_granger_all_frequencies_all_windows, BLA_mPFC_granger_all_frequencies_all_windows, mPFC_BLA_granger_all_frequencies_all_windows, BLA_vHPC_granger_all_frequencies_all_windows, vHPC_BLA_granger_all_frequencies_all_windows, LH_MD_granger_all_frequencies_all_windows, MD_LH_granger_all_frequencies_all_windows, LH_mPFC_granger_all_frequencies_all_windows, mPFC_LH_granger_all_frequencies_all_windows, LH_vHPC_granger_all_frequencies_all_windows, vHPC_LH_granger_all_frequencies_all_windows, MD_mPFC_granger_all_frequencies_all_windows, mPFC_MD_granger_all_frequencies_all_windows, MD_vHPC_granger_all_frequencies_all_windows, vHPC_MD_granger_all_frequencies_all_windows, mPFC_vHPC_granger_all_frequencies_all_windows, vHPC_mPFC_granger_all_frequencies_all_windows, granger_timestamps, granger_calculation_frequencies, mPFC_power_theta, mPFC_power_gamma, MD_power_theta, MD_power_gamma, LH_power_theta, LH_power_gamma, BLA_power_theta, BLA_power_gamma, vHPC_power_theta, vHPC_power_gamma, BLA_LH_coherence_theta, BLA_LH_coherence_gamma, BLA_MD_coherence_theta, BLA_MD_coherence_gamma, BLA_mPFC_coherence_theta, BLA_mPFC_coherence_gamma, BLA_vHPC_coherence_theta, BLA_vHPC_coherence_gamma, LH_MD_coherence_theta, LH_MD_coherence_gamma, LH_mPFC_coherence_theta, LH_mPFC_coherence_gamma, LH_vHPC_coherence_theta, LH_vHPC_coherence_gamma, MD_mPFC_coherence_theta, MD_mPFC_coherence_gamma, MD_vHPC_coherence_theta, MD_vHPC_coherence_gamma, mPFC_vHPC_coherence_theta, mPFC_vHPC_coherence_gamma, BLA-to-LH_granger_theta, BLA-to-LH_granger_gamma, LH-to-BLA_granger_theta, LH-to-BLA_granger_gamma, BLA-to-MD_granger_theta, BLA-to-MD_granger_gamma, ...]\n",
       "Index: []\n",
       "\n",
       "[0 rows x 153 columns]"
      ]
     },
     "execution_count": 108,
     "metadata": {},
     "output_type": "execute_result"
    }
   ],
   "source": [
    "LFP_AND_SLEAP_DF[LFP_AND_SLEAP_DF[\"subject_thorax_velocity\"].apply(lambda x: np.isnan(x).any())]"
   ]
  },
  {
   "cell_type": "markdown",
   "metadata": {},
   "source": [
    "## Exporting"
   ]
  },
  {
   "cell_type": "code",
   "execution_count": 109,
   "metadata": {
    "tags": []
   },
   "outputs": [
    {
     "data": {
      "text/plain": [
       "Index(['cohort', 'session_dir', 'tone_frames', 'box_1_port_entry_frames',\n",
       "       'box_2_port_entry_frames', 'video_name', 'session_path', 'recording',\n",
       "       'current_subject', 'subject',\n",
       "       ...\n",
       "       'reward_port', 'box_bottom_left', 'box_bottom_right', 'agent',\n",
       "       'subject_locations', 'agent_locations', 'subject_thorax_velocity',\n",
       "       'agent_thorax_velocity', 'subject_thorax_to_reward_port',\n",
       "       'agent_thorax_to_reward_port'],\n",
       "      dtype='object', length=153)"
      ]
     },
     "execution_count": 109,
     "metadata": {},
     "output_type": "execute_result"
    }
   ],
   "source": [
    "LFP_AND_SLEAP_DF.columns"
   ]
  },
  {
   "cell_type": "code",
   "execution_count": 110,
   "metadata": {
    "tags": []
   },
   "outputs": [
    {
     "data": {
      "text/plain": [
       "'rce_pilot_2_04_spectral_and_sleap.pkl'"
      ]
     },
     "execution_count": 110,
     "metadata": {},
     "output_type": "execute_result"
    }
   ],
   "source": [
    "FULL_LFP_TRACES_PKL"
   ]
  },
  {
   "cell_type": "code",
   "execution_count": 111,
   "metadata": {
    "tags": []
   },
   "outputs": [],
   "source": [
    "LFP_AND_SLEAP_DF.to_pickle(os.path.join(OUTPUT_DIR, FULL_LFP_TRACES_PKL))"
   ]
  },
  {
   "cell_type": "code",
   "execution_count": 114,
   "metadata": {},
   "outputs": [
    {
     "data": {
      "text/html": [
       "<div>\n",
       "<style scoped>\n",
       "    .dataframe tbody tr th:only-of-type {\n",
       "        vertical-align: middle;\n",
       "    }\n",
       "\n",
       "    .dataframe tbody tr th {\n",
       "        vertical-align: top;\n",
       "    }\n",
       "\n",
       "    .dataframe thead th {\n",
       "        text-align: right;\n",
       "    }\n",
       "</style>\n",
       "<table border=\"1\" class=\"dataframe\">\n",
       "  <thead>\n",
       "    <tr style=\"text-align: right;\">\n",
       "      <th></th>\n",
       "      <th>cohort</th>\n",
       "      <th>session_dir</th>\n",
       "      <th>tone_frames</th>\n",
       "      <th>box_1_port_entry_frames</th>\n",
       "      <th>box_2_port_entry_frames</th>\n",
       "      <th>video_name</th>\n",
       "      <th>session_path</th>\n",
       "      <th>recording</th>\n",
       "      <th>current_subject</th>\n",
       "      <th>subject</th>\n",
       "      <th>...</th>\n",
       "      <th>reward_port</th>\n",
       "      <th>box_bottom_left</th>\n",
       "      <th>box_bottom_right</th>\n",
       "      <th>agent</th>\n",
       "      <th>subject_locations</th>\n",
       "      <th>agent_locations</th>\n",
       "      <th>subject_thorax_velocity</th>\n",
       "      <th>agent_thorax_velocity</th>\n",
       "      <th>subject_thorax_to_reward_port</th>\n",
       "      <th>agent_thorax_to_reward_port</th>\n",
       "    </tr>\n",
       "  </thead>\n",
       "  <tbody>\n",
       "    <tr>\n",
       "      <th>0</th>\n",
       "      <td>2</td>\n",
       "      <td>20230612_112630_standard_comp_to_training_D1_s...</td>\n",
       "      <td>[[1125, 1324], [3519, 3720], [5815, 6014], [76...</td>\n",
       "      <td>[[192, 248], [389, 405], [916, 929], [929, 948...</td>\n",
       "      <td>[[33019, 33020], [33246, 33251], [33253, 33255...</td>\n",
       "      <td>20230612_112630_standard_comp_to_training_D1_s...</td>\n",
       "      <td>/scratch/back_up/reward_competition_extention/...</td>\n",
       "      <td>20230612_112630_standard_comp_to_training_D1_s...</td>\n",
       "      <td>1.1</td>\n",
       "      <td>1.1</td>\n",
       "      <td>...</td>\n",
       "      <td>[45.23441700698972, 35.83828707637651]</td>\n",
       "      <td>[30.458913657178506, 34.21867013031604]</td>\n",
       "      <td>[59.89132415244771, 34.13310301149612]</td>\n",
       "      <td>1.2</td>\n",
       "      <td>[[[46.68890098287189, 11.495085446056166], [43...</td>\n",
       "      <td>[[[34.36404036584844, 35.615553316175784], [34...</td>\n",
       "      <td>[1.8125, 1.707, 1.6045, 1.506, 1.409, 1.315, 1...</td>\n",
       "      <td>[14.336, 12.875, 11.47, 10.11, 8.81, 7.57, 6.3...</td>\n",
       "      <td>[26.45, 26.16, 26.1, 25.77, 25.72, 25.78, 26.1...</td>\n",
       "      <td>[6.11, 6.06, 6.125, 6.566, 6.605, 6.676, 7.13,...</td>\n",
       "    </tr>\n",
       "    <tr>\n",
       "      <th>1</th>\n",
       "      <td>2</td>\n",
       "      <td>20230612_112630_standard_comp_to_training_D1_s...</td>\n",
       "      <td>[[1125, 1324], [3519, 3720], [5815, 6014], [76...</td>\n",
       "      <td>[[192, 248], [389, 405], [916, 930], [930, 948...</td>\n",
       "      <td>[[32974, 32976], [33201, 33207], [33208, 33211...</td>\n",
       "      <td>20230612_112630_standard_comp_to_training_D1_s...</td>\n",
       "      <td>/scratch/back_up/reward_competition_extention/...</td>\n",
       "      <td>20230612_112630_standard_comp_to_training_D1_s...</td>\n",
       "      <td>1.1</td>\n",
       "      <td>1.1</td>\n",
       "      <td>...</td>\n",
       "      <td>[48.01956210909252, 37.264554576109816]</td>\n",
       "      <td>[33.1534452699471, 35.61101869926864]</td>\n",
       "      <td>[62.60288905131385, 35.71974322144712]</td>\n",
       "      <td>None</td>\n",
       "      <td>[[[27.67316905433137, 31.06298795228111], [27....</td>\n",
       "      <td>NaN</td>\n",
       "      <td>[0.0, 0.0, 0.0, 0.0, 0.0, 0.0, 0.0, 0.0, 0.0, ...</td>\n",
       "      <td>NaN</td>\n",
       "      <td>[21.36, 21.36, 21.36, 21.36, 21.36, 21.36, 21....</td>\n",
       "      <td>NaN</td>\n",
       "    </tr>\n",
       "    <tr>\n",
       "      <th>2</th>\n",
       "      <td>2</td>\n",
       "      <td>20230612_112630_standard_comp_to_training_D1_s...</td>\n",
       "      <td>[[1125, 1324], [3519, 3720], [5815, 6014], [76...</td>\n",
       "      <td>[[192, 248], [389, 405], [916, 929], [929, 948...</td>\n",
       "      <td>[[33019, 33020], [33246, 33251], [33253, 33255...</td>\n",
       "      <td>20230612_112630_standard_comp_to_training_D1_s...</td>\n",
       "      <td>/scratch/back_up/reward_competition_extention/...</td>\n",
       "      <td>20230612_112630_standard_comp_to_training_D1_s...</td>\n",
       "      <td>1.2</td>\n",
       "      <td>1.2</td>\n",
       "      <td>...</td>\n",
       "      <td>[45.23441700698972, 35.83828707637651]</td>\n",
       "      <td>[30.458913657178506, 34.21867013031604]</td>\n",
       "      <td>[59.89132415244771, 34.13310301149612]</td>\n",
       "      <td>None</td>\n",
       "      <td>[[[34.36404036584844, 35.615553316175784], [34...</td>\n",
       "      <td>NaN</td>\n",
       "      <td>[55.4, 52.03, 48.72, 45.53, 42.44, 39.44, 36.5...</td>\n",
       "      <td>NaN</td>\n",
       "      <td>[6.11, 6.06, 6.125, 6.566, 6.605, 6.676, 7.13,...</td>\n",
       "      <td>NaN</td>\n",
       "    </tr>\n",
       "    <tr>\n",
       "      <th>3</th>\n",
       "      <td>2</td>\n",
       "      <td>20230612_112630_standard_comp_to_training_D1_s...</td>\n",
       "      <td>[[1125, 1324], [3519, 3720], [5815, 6014], [76...</td>\n",
       "      <td>[[192, 248], [389, 405], [916, 929], [929, 948...</td>\n",
       "      <td>[[33019, 33020], [33246, 33251], [33253, 33255...</td>\n",
       "      <td>20230612_112630_standard_comp_to_training_D1_s...</td>\n",
       "      <td>/scratch/back_up/reward_competition_extention/...</td>\n",
       "      <td>20230612_112630_standard_comp_to_training_D1_s...</td>\n",
       "      <td>1.2</td>\n",
       "      <td>1.2</td>\n",
       "      <td>...</td>\n",
       "      <td>[45.23441700698972, 35.83828707637651]</td>\n",
       "      <td>[30.458913657178506, 34.21867013031604]</td>\n",
       "      <td>[59.89132415244771, 34.13310301149612]</td>\n",
       "      <td>1.1</td>\n",
       "      <td>[[[34.36404036584844, 35.615553316175784], [34...</td>\n",
       "      <td>[[[46.68890098287189, 11.495085446056166], [43...</td>\n",
       "      <td>[14.336, 12.875, 11.47, 10.11, 8.81, 7.57, 6.3...</td>\n",
       "      <td>[1.8125, 1.707, 1.6045, 1.506, 1.409, 1.315, 1...</td>\n",
       "      <td>[6.11, 6.06, 6.125, 6.566, 6.605, 6.676, 7.13,...</td>\n",
       "      <td>[26.45, 26.16, 26.1, 25.77, 25.72, 25.78, 26.1...</td>\n",
       "    </tr>\n",
       "    <tr>\n",
       "      <th>4</th>\n",
       "      <td>2</td>\n",
       "      <td>20230613_105657_standard_comp_to_training_D2_s...</td>\n",
       "      <td>[[916, 1117], [3312, 3513], [5608, 5808], [740...</td>\n",
       "      <td>[[49, 67], [70, 79], [360, 366], [460, 469], [...</td>\n",
       "      <td>[[33601, 33798], [34108, 34165], [34166, 34179...</td>\n",
       "      <td>20230613_105657_standard_comp_to_training_D2_s...</td>\n",
       "      <td>/scratch/back_up/reward_competition_extention/...</td>\n",
       "      <td>20230613_105657_standard_comp_to_training_D2_s...</td>\n",
       "      <td>1.1</td>\n",
       "      <td>1.1</td>\n",
       "      <td>...</td>\n",
       "      <td>[45.31189572048577, 36.38317068198775]</td>\n",
       "      <td>[30.490085836306232, 34.91627159792731]</td>\n",
       "      <td>[60.10744182471764, 34.262899786598894]</td>\n",
       "      <td>None</td>\n",
       "      <td>[[[46.71964110607613, 36.493379374373234], [44...</td>\n",
       "      <td>NaN</td>\n",
       "      <td>[5.8, 5.207, 4.64, 4.1, 3.596, 3.127, 2.7, 2.3...</td>\n",
       "      <td>NaN</td>\n",
       "      <td>[4.633, 4.09, 4.36, 4.656, 4.65, 4.383, 4.35, ...</td>\n",
       "      <td>NaN</td>\n",
       "    </tr>\n",
       "  </tbody>\n",
       "</table>\n",
       "<p>5 rows × 153 columns</p>\n",
       "</div>"
      ],
      "text/plain": [
       "   cohort                                        session_dir  \\\n",
       "0       2  20230612_112630_standard_comp_to_training_D1_s...   \n",
       "1       2  20230612_112630_standard_comp_to_training_D1_s...   \n",
       "2       2  20230612_112630_standard_comp_to_training_D1_s...   \n",
       "3       2  20230612_112630_standard_comp_to_training_D1_s...   \n",
       "4       2  20230613_105657_standard_comp_to_training_D2_s...   \n",
       "\n",
       "                                         tone_frames  \\\n",
       "0  [[1125, 1324], [3519, 3720], [5815, 6014], [76...   \n",
       "1  [[1125, 1324], [3519, 3720], [5815, 6014], [76...   \n",
       "2  [[1125, 1324], [3519, 3720], [5815, 6014], [76...   \n",
       "3  [[1125, 1324], [3519, 3720], [5815, 6014], [76...   \n",
       "4  [[916, 1117], [3312, 3513], [5608, 5808], [740...   \n",
       "\n",
       "                             box_1_port_entry_frames  \\\n",
       "0  [[192, 248], [389, 405], [916, 929], [929, 948...   \n",
       "1  [[192, 248], [389, 405], [916, 930], [930, 948...   \n",
       "2  [[192, 248], [389, 405], [916, 929], [929, 948...   \n",
       "3  [[192, 248], [389, 405], [916, 929], [929, 948...   \n",
       "4  [[49, 67], [70, 79], [360, 366], [460, 469], [...   \n",
       "\n",
       "                             box_2_port_entry_frames  \\\n",
       "0  [[33019, 33020], [33246, 33251], [33253, 33255...   \n",
       "1  [[32974, 32976], [33201, 33207], [33208, 33211...   \n",
       "2  [[33019, 33020], [33246, 33251], [33253, 33255...   \n",
       "3  [[33019, 33020], [33246, 33251], [33253, 33255...   \n",
       "4  [[33601, 33798], [34108, 34165], [34166, 34179...   \n",
       "\n",
       "                                          video_name  \\\n",
       "0  20230612_112630_standard_comp_to_training_D1_s...   \n",
       "1  20230612_112630_standard_comp_to_training_D1_s...   \n",
       "2  20230612_112630_standard_comp_to_training_D1_s...   \n",
       "3  20230612_112630_standard_comp_to_training_D1_s...   \n",
       "4  20230613_105657_standard_comp_to_training_D2_s...   \n",
       "\n",
       "                                        session_path  \\\n",
       "0  /scratch/back_up/reward_competition_extention/...   \n",
       "1  /scratch/back_up/reward_competition_extention/...   \n",
       "2  /scratch/back_up/reward_competition_extention/...   \n",
       "3  /scratch/back_up/reward_competition_extention/...   \n",
       "4  /scratch/back_up/reward_competition_extention/...   \n",
       "\n",
       "                                           recording current_subject subject  \\\n",
       "0  20230612_112630_standard_comp_to_training_D1_s...             1.1     1.1   \n",
       "1  20230612_112630_standard_comp_to_training_D1_s...             1.1     1.1   \n",
       "2  20230612_112630_standard_comp_to_training_D1_s...             1.2     1.2   \n",
       "3  20230612_112630_standard_comp_to_training_D1_s...             1.2     1.2   \n",
       "4  20230613_105657_standard_comp_to_training_D2_s...             1.1     1.1   \n",
       "\n",
       "   ...                              reward_port  \\\n",
       "0  ...   [45.23441700698972, 35.83828707637651]   \n",
       "1  ...  [48.01956210909252, 37.264554576109816]   \n",
       "2  ...   [45.23441700698972, 35.83828707637651]   \n",
       "3  ...   [45.23441700698972, 35.83828707637651]   \n",
       "4  ...   [45.31189572048577, 36.38317068198775]   \n",
       "\n",
       "                           box_bottom_left  \\\n",
       "0  [30.458913657178506, 34.21867013031604]   \n",
       "1    [33.1534452699471, 35.61101869926864]   \n",
       "2  [30.458913657178506, 34.21867013031604]   \n",
       "3  [30.458913657178506, 34.21867013031604]   \n",
       "4  [30.490085836306232, 34.91627159792731]   \n",
       "\n",
       "                          box_bottom_right agent  \\\n",
       "0   [59.89132415244771, 34.13310301149612]   1.2   \n",
       "1   [62.60288905131385, 35.71974322144712]  None   \n",
       "2   [59.89132415244771, 34.13310301149612]  None   \n",
       "3   [59.89132415244771, 34.13310301149612]   1.1   \n",
       "4  [60.10744182471764, 34.262899786598894]  None   \n",
       "\n",
       "                                   subject_locations  \\\n",
       "0  [[[46.68890098287189, 11.495085446056166], [43...   \n",
       "1  [[[27.67316905433137, 31.06298795228111], [27....   \n",
       "2  [[[34.36404036584844, 35.615553316175784], [34...   \n",
       "3  [[[34.36404036584844, 35.615553316175784], [34...   \n",
       "4  [[[46.71964110607613, 36.493379374373234], [44...   \n",
       "\n",
       "                                     agent_locations  \\\n",
       "0  [[[34.36404036584844, 35.615553316175784], [34...   \n",
       "1                                                NaN   \n",
       "2                                                NaN   \n",
       "3  [[[46.68890098287189, 11.495085446056166], [43...   \n",
       "4                                                NaN   \n",
       "\n",
       "                             subject_thorax_velocity  \\\n",
       "0  [1.8125, 1.707, 1.6045, 1.506, 1.409, 1.315, 1...   \n",
       "1  [0.0, 0.0, 0.0, 0.0, 0.0, 0.0, 0.0, 0.0, 0.0, ...   \n",
       "2  [55.4, 52.03, 48.72, 45.53, 42.44, 39.44, 36.5...   \n",
       "3  [14.336, 12.875, 11.47, 10.11, 8.81, 7.57, 6.3...   \n",
       "4  [5.8, 5.207, 4.64, 4.1, 3.596, 3.127, 2.7, 2.3...   \n",
       "\n",
       "                               agent_thorax_velocity  \\\n",
       "0  [14.336, 12.875, 11.47, 10.11, 8.81, 7.57, 6.3...   \n",
       "1                                                NaN   \n",
       "2                                                NaN   \n",
       "3  [1.8125, 1.707, 1.6045, 1.506, 1.409, 1.315, 1...   \n",
       "4                                                NaN   \n",
       "\n",
       "                       subject_thorax_to_reward_port  \\\n",
       "0  [26.45, 26.16, 26.1, 25.77, 25.72, 25.78, 26.1...   \n",
       "1  [21.36, 21.36, 21.36, 21.36, 21.36, 21.36, 21....   \n",
       "2  [6.11, 6.06, 6.125, 6.566, 6.605, 6.676, 7.13,...   \n",
       "3  [6.11, 6.06, 6.125, 6.566, 6.605, 6.676, 7.13,...   \n",
       "4  [4.633, 4.09, 4.36, 4.656, 4.65, 4.383, 4.35, ...   \n",
       "\n",
       "                         agent_thorax_to_reward_port  \n",
       "0  [6.11, 6.06, 6.125, 6.566, 6.605, 6.676, 7.13,...  \n",
       "1                                                NaN  \n",
       "2                                                NaN  \n",
       "3  [26.45, 26.16, 26.1, 25.77, 25.72, 25.78, 26.1...  \n",
       "4                                                NaN  \n",
       "\n",
       "[5 rows x 153 columns]"
      ]
     },
     "execution_count": 114,
     "metadata": {},
     "output_type": "execute_result"
    }
   ],
   "source": [
    "LFP_AND_SLEAP_DF.head()"
   ]
  },
  {
   "cell_type": "code",
   "execution_count": 118,
   "metadata": {
    "tags": []
   },
   "outputs": [
    {
     "name": "stdout",
     "output_type": "stream",
     "text": [
      "cohort\n",
      "session_dir\n",
      "tone_frames\n",
      "box_1_port_entry_frames\n",
      "box_2_port_entry_frames\n",
      "video_name\n",
      "session_path\n",
      "recording\n",
      "current_subject\n",
      "subject\n",
      "all_subjects\n",
      "first_timestamp\n",
      "last_timestamp\n",
      "video_timestamps\n",
      "tone_timestamps\n",
      "box_1_port_entry_timestamps\n",
      "box_2_port_entry_timestamps\n",
      "lfp_timestamps\n",
      "mPFC_lfp_trace\n",
      "MD_lfp_trace\n",
      "LH_lfp_trace\n",
      "BLA_lfp_trace\n",
      "vHPC_lfp_trace\n",
      "mPFC_power_all_frequencies_all_windows\n",
      "MD_power_all_frequencies_all_windows\n",
      "LH_power_all_frequencies_all_windows\n",
      "BLA_power_all_frequencies_all_windows\n",
      "vHPC_power_all_frequencies_all_windows\n",
      "power_timestamps\n",
      "power_calculation_frequencies\n",
      "BLA_LH_coherence_all_frequencies_all_windows\n",
      "BLA_MD_coherence_all_frequencies_all_windows\n",
      "BLA_mPFC_coherence_all_frequencies_all_windows\n",
      "BLA_vHPC_coherence_all_frequencies_all_windows\n",
      "LH_MD_coherence_all_frequencies_all_windows\n",
      "LH_mPFC_coherence_all_frequencies_all_windows\n",
      "LH_vHPC_coherence_all_frequencies_all_windows\n",
      "MD_mPFC_coherence_all_frequencies_all_windows\n",
      "MD_vHPC_coherence_all_frequencies_all_windows\n",
      "mPFC_vHPC_coherence_all_frequencies_all_windows\n",
      "coherence_timestamps\n",
      "coherence_calculation_frequencies\n",
      "BLA_LH_granger_all_frequencies_all_windows\n",
      "LH_BLA_granger_all_frequencies_all_windows\n",
      "BLA_MD_granger_all_frequencies_all_windows\n",
      "MD_BLA_granger_all_frequencies_all_windows\n",
      "BLA_mPFC_granger_all_frequencies_all_windows\n",
      "mPFC_BLA_granger_all_frequencies_all_windows\n",
      "BLA_vHPC_granger_all_frequencies_all_windows\n",
      "vHPC_BLA_granger_all_frequencies_all_windows\n",
      "LH_MD_granger_all_frequencies_all_windows\n",
      "MD_LH_granger_all_frequencies_all_windows\n",
      "LH_mPFC_granger_all_frequencies_all_windows\n",
      "mPFC_LH_granger_all_frequencies_all_windows\n",
      "LH_vHPC_granger_all_frequencies_all_windows\n",
      "vHPC_LH_granger_all_frequencies_all_windows\n",
      "MD_mPFC_granger_all_frequencies_all_windows\n",
      "mPFC_MD_granger_all_frequencies_all_windows\n",
      "MD_vHPC_granger_all_frequencies_all_windows\n",
      "vHPC_MD_granger_all_frequencies_all_windows\n",
      "mPFC_vHPC_granger_all_frequencies_all_windows\n",
      "vHPC_mPFC_granger_all_frequencies_all_windows\n",
      "granger_timestamps\n",
      "granger_calculation_frequencies\n",
      "mPFC_power_theta\n",
      "mPFC_power_gamma\n",
      "MD_power_theta\n",
      "MD_power_gamma\n",
      "LH_power_theta\n",
      "LH_power_gamma\n",
      "BLA_power_theta\n",
      "BLA_power_gamma\n",
      "vHPC_power_theta\n",
      "vHPC_power_gamma\n",
      "BLA_LH_coherence_theta\n",
      "BLA_LH_coherence_gamma\n",
      "BLA_MD_coherence_theta\n",
      "BLA_MD_coherence_gamma\n",
      "BLA_mPFC_coherence_theta\n",
      "BLA_mPFC_coherence_gamma\n",
      "BLA_vHPC_coherence_theta\n",
      "BLA_vHPC_coherence_gamma\n",
      "LH_MD_coherence_theta\n",
      "LH_MD_coherence_gamma\n",
      "LH_mPFC_coherence_theta\n",
      "LH_mPFC_coherence_gamma\n",
      "LH_vHPC_coherence_theta\n",
      "LH_vHPC_coherence_gamma\n",
      "MD_mPFC_coherence_theta\n",
      "MD_mPFC_coherence_gamma\n",
      "MD_vHPC_coherence_theta\n",
      "MD_vHPC_coherence_gamma\n",
      "mPFC_vHPC_coherence_theta\n",
      "mPFC_vHPC_coherence_gamma\n",
      "BLA-to-LH_granger_theta\n",
      "BLA-to-LH_granger_gamma\n",
      "LH-to-BLA_granger_theta\n",
      "LH-to-BLA_granger_gamma\n",
      "BLA-to-MD_granger_theta\n",
      "BLA-to-MD_granger_gamma\n",
      "MD-to-BLA_granger_theta\n",
      "MD-to-BLA_granger_gamma\n",
      "BLA-to-mPFC_granger_theta\n",
      "BLA-to-mPFC_granger_gamma\n",
      "mPFC-to-BLA_granger_theta\n",
      "mPFC-to-BLA_granger_gamma\n",
      "BLA-to-vHPC_granger_theta\n",
      "BLA-to-vHPC_granger_gamma\n",
      "vHPC-to-BLA_granger_theta\n",
      "vHPC-to-BLA_granger_gamma\n",
      "LH-to-MD_granger_theta\n",
      "LH-to-MD_granger_gamma\n",
      "MD-to-LH_granger_theta\n",
      "MD-to-LH_granger_gamma\n",
      "LH-to-mPFC_granger_theta\n",
      "LH-to-mPFC_granger_gamma\n",
      "mPFC-to-LH_granger_theta\n",
      "mPFC-to-LH_granger_gamma\n",
      "LH-to-vHPC_granger_theta\n",
      "LH-to-vHPC_granger_gamma\n",
      "vHPC-to-LH_granger_theta\n",
      "vHPC-to-LH_granger_gamma\n",
      "MD-to-mPFC_granger_theta\n",
      "MD-to-mPFC_granger_gamma\n",
      "mPFC-to-MD_granger_theta\n",
      "mPFC-to-MD_granger_gamma\n",
      "MD-to-vHPC_granger_theta\n",
      "MD-to-vHPC_granger_gamma\n",
      "vHPC-to-MD_granger_theta\n",
      "vHPC-to-MD_granger_gamma\n",
      "mPFC-to-vHPC_granger_theta\n",
      "mPFC-to-vHPC_granger_gamma\n",
      "vHPC-to-mPFC_granger_theta\n",
      "vHPC-to-mPFC_granger_gamma\n",
      "start_frame\n",
      "stop_frame\n",
      "tracked_subject\n",
      "in_video_subjects\n",
      "box_number\n",
      "sleap_name\n",
      "body_parts\n",
      "box_top_left\n",
      "box_top_right\n",
      "reward_port\n",
      "box_bottom_left\n",
      "box_bottom_right\n",
      "agent\n",
      "subject_locations\n",
      "agent_locations\n",
      "subject_thorax_velocity\n",
      "agent_thorax_velocity\n",
      "subject_thorax_to_reward_port\n",
      "agent_thorax_to_reward_port\n"
     ]
    }
   ],
   "source": [
    "for col in LFP_AND_SLEAP_DF.columns:\n",
    "    print(col)"
   ]
  },
  {
   "cell_type": "code",
   "execution_count": 112,
   "metadata": {},
   "outputs": [
    {
     "ename": "ValueError",
     "evalue": "",
     "output_type": "error",
     "traceback": [
      "\u001b[0;31m---------------------------------------------------------------------------\u001b[0m",
      "\u001b[0;31mValueError\u001b[0m                                Traceback (most recent call last)",
      "Cell \u001b[0;32mIn[112], line 1\u001b[0m\n\u001b[0;32m----> 1\u001b[0m \u001b[38;5;28;01mraise\u001b[39;00m \u001b[38;5;167;01mValueError\u001b[39;00m()\n",
      "\u001b[0;31mValueError\u001b[0m: "
     ]
    }
   ],
   "source": [
    "raise ValueError()"
   ]
  }
 ],
 "metadata": {
  "deepnote": {},
  "deepnote_execution_queue": [],
  "deepnote_notebook_id": "cf8fe3695d074ee7887fdf6459cbf5ce",
  "kernelspec": {
   "display_name": "spike_interface_0_99_0",
   "language": "python",
   "name": "spike_interface_0_99_0"
  },
  "language_info": {
   "codemirror_mode": {
    "name": "ipython",
    "version": 3
   },
   "file_extension": ".py",
   "mimetype": "text/x-python",
   "name": "python",
   "nbconvert_exporter": "python",
   "pygments_lexer": "ipython3",
   "version": "3.10.13"
  }
 },
 "nbformat": 4,
 "nbformat_minor": 4
}
