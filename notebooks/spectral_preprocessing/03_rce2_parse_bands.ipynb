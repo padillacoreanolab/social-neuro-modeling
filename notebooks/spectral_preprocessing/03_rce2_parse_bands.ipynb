{
 "cells": [
  {
   "cell_type": "markdown",
   "metadata": {
    "cell_id": "c3a02adc9e884466bc8c79db549cc3d2",
    "deepnote_cell_type": "text-cell-h1",
    "formattedRanges": [
     {
      "fromCodePoint": 0,
      "marks": {
       "bold": true,
       "underline": true
      },
      "toCodePoint": 17,
      "type": "marks"
     }
    ]
   },
   "source": [
    "# All oscillation analysis"
   ]
  },
  {
   "cell_type": "markdown",
   "metadata": {
    "cell_id": "4546bee655b14a5dbf393161f1228e60",
    "deepnote_cell_type": "text-cell-p",
    "formattedRanges": []
   },
   "source": [
    "Brief 1-2 sentence description of notebook."
   ]
  },
  {
   "cell_type": "code",
   "execution_count": 1,
   "metadata": {
    "tags": []
   },
   "outputs": [],
   "source": [
    "# Imports of all used packages and libraries\n",
    "import sys\n",
    "import os\n",
    "import git\n",
    "import glob\n",
    "from collections import defaultdict"
   ]
  },
  {
   "cell_type": "code",
   "execution_count": 2,
   "metadata": {
    "tags": []
   },
   "outputs": [],
   "source": [
    "git_repo = git.Repo(\".\", search_parent_directories=True)\n",
    "git_root = git_repo.git.rev_parse(\"--show-toplevel\")"
   ]
  },
  {
   "cell_type": "code",
   "execution_count": 3,
   "metadata": {
    "tags": []
   },
   "outputs": [
    {
     "data": {
      "text/plain": [
       "'/blue/npadillacoreano/ryoi360/projects/reward_comp/repos/reward_competition_extention'"
      ]
     },
     "execution_count": 3,
     "metadata": {},
     "output_type": "execute_result"
    }
   ],
   "source": [
    "git_root"
   ]
  },
  {
   "cell_type": "code",
   "execution_count": 4,
   "metadata": {
    "tags": []
   },
   "outputs": [],
   "source": [
    "sys.path.insert(0, os.path.join(git_root, 'src'))"
   ]
  },
  {
   "cell_type": "code",
   "execution_count": 5,
   "metadata": {
    "tags": []
   },
   "outputs": [],
   "source": [
    "import warnings\n",
    "warnings.filterwarnings('ignore')"
   ]
  },
  {
   "cell_type": "code",
   "execution_count": 6,
   "metadata": {
    "tags": []
   },
   "outputs": [],
   "source": [
    "import os\n",
    "import collections\n",
    "import itertools\n",
    "from collections import defaultdict\n",
    "from itertools import combinations"
   ]
  },
  {
   "cell_type": "code",
   "execution_count": 7,
   "metadata": {
    "cell_id": "03b495cefa6a4798a44c7f2e4c6a3ea7",
    "deepnote_cell_type": "code",
    "deepnote_to_be_reexecuted": false,
    "execution_millis": 21,
    "execution_start": 1691424003626,
    "source_hash": null,
    "tags": []
   },
   "outputs": [],
   "source": [
    "# Imports of all used packages and libraries\n",
    "import numpy as np\n",
    "import pandas as pd\n",
    "from scipy import stats\n",
    "from scipy.stats import mannwhitneyu\n"
   ]
  },
  {
   "cell_type": "code",
   "execution_count": 8,
   "metadata": {
    "tags": []
   },
   "outputs": [],
   "source": [
    "import matplotlib\n",
    "import matplotlib.colors as mcolors\n",
    "import matplotlib.pyplot as plt\n",
    "import matplotlib.cm as cm\n",
    "import seaborn as sns\n",
    "import colorsys"
   ]
  },
  {
   "cell_type": "code",
   "execution_count": 9,
   "metadata": {
    "tags": []
   },
   "outputs": [],
   "source": [
    "from sklearn.metrics import confusion_matrix"
   ]
  },
  {
   "cell_type": "code",
   "execution_count": 10,
   "metadata": {
    "tags": []
   },
   "outputs": [],
   "source": [
    "from spectral_connectivity import Multitaper, Connectivity\n",
    "import spectral_connectivity"
   ]
  },
  {
   "cell_type": "code",
   "execution_count": 11,
   "metadata": {
    "tags": []
   },
   "outputs": [],
   "source": [
    "import utilities.helper\n",
    "import trodes.read_exported"
   ]
  },
  {
   "cell_type": "code",
   "execution_count": 12,
   "metadata": {
    "tags": []
   },
   "outputs": [],
   "source": [
    "FONTSIZE = 20"
   ]
  },
  {
   "cell_type": "code",
   "execution_count": 13,
   "metadata": {
    "tags": []
   },
   "outputs": [],
   "source": [
    "font = {'weight' : 'medium',\n",
    "        'size'   : 20}\n",
    "\n",
    "matplotlib.rc('font', **font)"
   ]
  },
  {
   "cell_type": "markdown",
   "metadata": {
    "cell_id": "d290bac2c17940bfbc0f9296beaf70e5",
    "deepnote_cell_type": "text-cell-h2",
    "formattedRanges": []
   },
   "source": [
    "## Inputs & Data"
   ]
  },
  {
   "cell_type": "markdown",
   "metadata": {
    "cell_id": "e528ce19c608425292151930d380f49f",
    "deepnote_cell_type": "text-cell-p",
    "formattedRanges": []
   },
   "source": [
    "Explanation of each input and where it comes from."
   ]
  },
  {
   "cell_type": "code",
   "execution_count": 34,
   "metadata": {
    "cell_id": "6cf83a5811054461a718a71673d09aab",
    "deepnote_cell_type": "code",
    "deepnote_to_be_reexecuted": false,
    "execution_millis": 373,
    "execution_start": 1691424003628,
    "source_hash": null,
    "tags": []
   },
   "outputs": [],
   "source": [
    "# Inputs and Required data loading\n",
    "# input varaible names are in all caps snake case\n",
    "# Whenever an input changes or is used for processing \n",
    "# the vairables are all lower in snake case\n",
    "OUTPUT_DIR = r\"./proc/\" # where data is saved should always be shown in the inputs\n",
    "os.makedirs(OUTPUT_DIR, exist_ok=True)\n",
    "OUTPUT_PREFIX = \"rce_pilot_2\""
   ]
  },
  {
   "cell_type": "code",
   "execution_count": 15,
   "metadata": {
    "tags": []
   },
   "outputs": [],
   "source": [
    "LFP_SPECTRAL_DF = pd.read_pickle(\"./proc/rce_pilot_2_02_full_spectral.pkl\")"
   ]
  },
  {
   "cell_type": "code",
   "execution_count": 16,
   "metadata": {
    "tags": []
   },
   "outputs": [],
   "source": [
    "# CHANNEL_MAP_AND_ALL_TRIALS_DF = pd.read_pickle(\"./proc/full_baseline_and_trial_lfp_traces.pkl\")\n",
    "# MERGED_TRIALS_AND_VIDEO = pd.read_pickle(\"./proc/trial_SLEAP_and_metadata.pkl\")"
   ]
  },
  {
   "cell_type": "code",
   "execution_count": 17,
   "metadata": {
    "tags": []
   },
   "outputs": [],
   "source": [
    "theta_band = (4, 12)\n",
    "gamma_band = (30, 50)"
   ]
  },
  {
   "cell_type": "code",
   "execution_count": 19,
   "metadata": {
    "tags": []
   },
   "outputs": [],
   "source": [
    "FONTSIZE=20"
   ]
  },
  {
   "cell_type": "code",
   "execution_count": null,
   "metadata": {},
   "outputs": [],
   "source": []
  },
  {
   "cell_type": "code",
   "execution_count": 36,
   "metadata": {
    "tags": []
   },
   "outputs": [],
   "source": [
    "FULL_LFP_TRACES_PKL = \"{}_03_spectral_bands.pkl\".format(OUTPUT_PREFIX)"
   ]
  },
  {
   "cell_type": "markdown",
   "metadata": {
    "cell_id": "e3ee4891d43a4ac287413afc552ca289",
    "deepnote_cell_type": "text-cell-h2",
    "formattedRanges": []
   },
   "source": [
    "## Outputs"
   ]
  },
  {
   "cell_type": "markdown",
   "metadata": {
    "cell_id": "9ccbf6cc70fd4d379fa29317f733771f",
    "deepnote_cell_type": "text-cell-p",
    "formattedRanges": []
   },
   "source": [
    "Describe each output that the notebook creates. "
   ]
  },
  {
   "cell_type": "markdown",
   "metadata": {
    "cell_id": "fc8e8920a6944918a15fac575cdf6e78",
    "deepnote_cell_type": "text-cell-bullet",
    "formattedRanges": []
   },
   "source": [
    "- Is it a plot or is it data?"
   ]
  },
  {
   "cell_type": "markdown",
   "metadata": {
    "cell_id": "1e639d4776a84aa9ac8ded2e14fa57db",
    "deepnote_cell_type": "text-cell-bullet",
    "formattedRanges": []
   },
   "source": [
    "- How valuable is the output and why is it valuable or useful?"
   ]
  },
  {
   "cell_type": "markdown",
   "metadata": {},
   "source": [
    "## Functions "
   ]
  },
  {
   "cell_type": "code",
   "execution_count": null,
   "metadata": {},
   "outputs": [],
   "source": []
  },
  {
   "cell_type": "markdown",
   "metadata": {
    "cell_id": "8999d19b6b7d4d63bc90f0b0bd9ab085",
    "deepnote_cell_type": "text-cell-h2",
    "formattedRanges": []
   },
   "source": [
    "## Processing"
   ]
  },
  {
   "cell_type": "markdown",
   "metadata": {
    "cell_id": "9b36cdf08567463082b005cb0dec684b",
    "deepnote_cell_type": "text-cell-p",
    "formattedRanges": []
   },
   "source": [
    "Describe what is done to the data here and how inputs are manipulated to generate outputs. "
   ]
  },
  {
   "cell_type": "code",
   "execution_count": 20,
   "metadata": {
    "cell_id": "89aaba237c644628b1b37604b75e7cb1",
    "deepnote_cell_type": "code",
    "tags": []
   },
   "outputs": [],
   "source": [
    "# As much code and as many cells as required\n",
    "# includes EDA and playing with data\n",
    "# GO HAM!\n",
    "\n",
    "# Ideally functions are defined here first and then data is processed using the functions\n",
    "\n",
    "# function names are short and in snake case all lowercase\n",
    "# a function name should be unique but does not have to describe the function\n",
    "# doc strings describe functions not function names\n",
    "\n",
    "\n"
   ]
  },
  {
   "cell_type": "code",
   "execution_count": 21,
   "metadata": {
    "tags": []
   },
   "outputs": [
    {
     "data": {
      "text/plain": [
       "Index(['cohort', 'session_dir', 'tone_frames', 'box_1_port_entry_frames',\n",
       "       'box_2_port_entry_frames', 'video_name', 'session_path', 'recording',\n",
       "       'current_subject', 'subject', 'all_subjects', 'first_timestamp',\n",
       "       'last_timestamp', 'video_timestamps', 'tone_timestamps',\n",
       "       'box_1_port_entry_timestamps', 'box_2_port_entry_timestamps',\n",
       "       'lfp_timestamps', 'mPFC_lfp_trace', 'MD_lfp_trace', 'LH_lfp_trace',\n",
       "       'BLA_lfp_trace', 'vHPC_lfp_trace',\n",
       "       'mPFC_power_all_frequencies_all_windows',\n",
       "       'MD_power_all_frequencies_all_windows',\n",
       "       'LH_power_all_frequencies_all_windows',\n",
       "       'BLA_power_all_frequencies_all_windows',\n",
       "       'vHPC_power_all_frequencies_all_windows', 'power_timestamps',\n",
       "       'power_calculation_frequencies',\n",
       "       'BLA_LH_coherence_all_frequencies_all_windows',\n",
       "       'BLA_MD_coherence_all_frequencies_all_windows',\n",
       "       'BLA_mPFC_coherence_all_frequencies_all_windows',\n",
       "       'BLA_vHPC_coherence_all_frequencies_all_windows',\n",
       "       'LH_MD_coherence_all_frequencies_all_windows',\n",
       "       'LH_mPFC_coherence_all_frequencies_all_windows',\n",
       "       'LH_vHPC_coherence_all_frequencies_all_windows',\n",
       "       'MD_mPFC_coherence_all_frequencies_all_windows',\n",
       "       'MD_vHPC_coherence_all_frequencies_all_windows',\n",
       "       'mPFC_vHPC_coherence_all_frequencies_all_windows',\n",
       "       'coherence_timestamps', 'coherence_calculation_frequencies',\n",
       "       'BLA_LH_granger_all_frequencies_all_windows',\n",
       "       'LH_BLA_granger_all_frequencies_all_windows',\n",
       "       'BLA_MD_granger_all_frequencies_all_windows',\n",
       "       'MD_BLA_granger_all_frequencies_all_windows',\n",
       "       'BLA_mPFC_granger_all_frequencies_all_windows',\n",
       "       'mPFC_BLA_granger_all_frequencies_all_windows',\n",
       "       'BLA_vHPC_granger_all_frequencies_all_windows',\n",
       "       'vHPC_BLA_granger_all_frequencies_all_windows',\n",
       "       'LH_MD_granger_all_frequencies_all_windows',\n",
       "       'MD_LH_granger_all_frequencies_all_windows',\n",
       "       'LH_mPFC_granger_all_frequencies_all_windows',\n",
       "       'mPFC_LH_granger_all_frequencies_all_windows',\n",
       "       'LH_vHPC_granger_all_frequencies_all_windows',\n",
       "       'vHPC_LH_granger_all_frequencies_all_windows',\n",
       "       'MD_mPFC_granger_all_frequencies_all_windows',\n",
       "       'mPFC_MD_granger_all_frequencies_all_windows',\n",
       "       'MD_vHPC_granger_all_frequencies_all_windows',\n",
       "       'vHPC_MD_granger_all_frequencies_all_windows',\n",
       "       'mPFC_vHPC_granger_all_frequencies_all_windows',\n",
       "       'vHPC_mPFC_granger_all_frequencies_all_windows', 'granger_timestamps',\n",
       "       'granger_calculation_frequencies'],\n",
       "      dtype='object')"
      ]
     },
     "execution_count": 21,
     "metadata": {},
     "output_type": "execute_result"
    }
   ],
   "source": [
    "LFP_SPECTRAL_DF.columns"
   ]
  },
  {
   "cell_type": "markdown",
   "metadata": {
    "tags": []
   },
   "source": [
    "## Filtering by theta and gamma band"
   ]
  },
  {
   "cell_type": "markdown",
   "metadata": {},
   "source": [
    "- Filtering theta/gamma for power"
   ]
  },
  {
   "cell_type": "code",
   "execution_count": 22,
   "metadata": {
    "tags": []
   },
   "outputs": [],
   "source": [
    "power_columns = [col for col in LFP_SPECTRAL_DF.columns if \"power\" in col and \"calculation\" not in col and \"time\" not in col]"
   ]
  },
  {
   "cell_type": "code",
   "execution_count": 23,
   "metadata": {
    "tags": []
   },
   "outputs": [
    {
     "data": {
      "text/plain": [
       "['mPFC_power_all_frequencies_all_windows',\n",
       " 'MD_power_all_frequencies_all_windows',\n",
       " 'LH_power_all_frequencies_all_windows',\n",
       " 'BLA_power_all_frequencies_all_windows',\n",
       " 'vHPC_power_all_frequencies_all_windows']"
      ]
     },
     "execution_count": 23,
     "metadata": {},
     "output_type": "execute_result"
    }
   ],
   "source": [
    "power_columns"
   ]
  },
  {
   "cell_type": "code",
   "execution_count": 24,
   "metadata": {
    "tags": []
   },
   "outputs": [
    {
     "data": {
      "text/plain": [
       "array([False, False, False, False,  True,  True,  True,  True,  True,\n",
       "        True,  True,  True,  True, False, False, False, False, False,\n",
       "       False, False, False, False, False, False, False, False, False,\n",
       "       False, False, False, False, False, False, False, False, False,\n",
       "       False, False, False, False, False, False, False, False, False,\n",
       "       False, False, False, False, False, False, False, False, False,\n",
       "       False, False, False, False, False, False, False, False, False,\n",
       "       False, False, False, False, False, False, False, False, False,\n",
       "       False, False, False, False, False, False, False, False, False,\n",
       "       False, False, False, False, False, False, False, False, False,\n",
       "       False, False, False, False, False, False, False, False, False,\n",
       "       False, False, False, False, False, False, False, False, False,\n",
       "       False, False, False, False, False, False, False, False, False,\n",
       "       False, False, False, False, False, False, False, False, False,\n",
       "       False, False, False, False, False, False, False, False, False,\n",
       "       False, False, False, False, False, False, False, False, False,\n",
       "       False, False, False, False, False, False, False, False, False,\n",
       "       False, False, False, False, False, False, False, False, False,\n",
       "       False, False, False, False, False, False, False, False, False,\n",
       "       False, False, False, False, False, False, False, False, False,\n",
       "       False, False, False, False, False, False, False, False, False,\n",
       "       False, False, False, False, False, False, False, False, False,\n",
       "       False, False, False, False, False, False, False, False, False,\n",
       "       False, False, False, False, False, False, False, False, False,\n",
       "       False, False, False, False, False, False, False, False, False,\n",
       "       False, False, False, False, False, False, False, False, False,\n",
       "       False, False, False, False, False, False, False, False, False,\n",
       "       False, False, False, False, False, False, False, False, False,\n",
       "       False, False, False, False, False, False, False, False, False,\n",
       "       False, False, False, False, False, False, False, False, False,\n",
       "       False, False, False, False, False, False, False, False, False,\n",
       "       False, False, False, False, False, False, False, False, False,\n",
       "       False, False, False, False, False, False, False, False, False,\n",
       "       False, False, False, False, False, False, False, False, False,\n",
       "       False, False, False, False, False, False, False, False, False,\n",
       "       False, False, False, False, False, False, False, False, False,\n",
       "       False, False, False, False, False, False, False, False, False,\n",
       "       False, False, False, False, False, False, False, False, False,\n",
       "       False, False, False, False, False, False, False, False, False,\n",
       "       False, False, False, False, False, False, False, False, False,\n",
       "       False, False, False, False, False, False, False, False, False,\n",
       "       False, False, False, False, False, False, False, False, False,\n",
       "       False, False, False, False, False, False, False, False, False,\n",
       "       False, False, False, False, False, False, False, False, False,\n",
       "       False, False, False, False, False, False, False, False, False,\n",
       "       False, False, False, False, False, False, False, False, False,\n",
       "       False, False, False, False, False, False, False, False, False,\n",
       "       False, False, False, False, False, False, False, False, False,\n",
       "       False, False, False, False, False, False, False, False, False,\n",
       "       False, False, False, False, False, False, False, False, False,\n",
       "       False, False, False, False, False, False, False, False, False,\n",
       "       False, False, False, False, False, False, False, False, False,\n",
       "       False, False, False, False, False, False, False, False, False,\n",
       "       False, False, False, False, False, False, False, False, False,\n",
       "       False, False, False, False, False, False, False, False, False,\n",
       "       False, False, False, False, False])"
      ]
     },
     "execution_count": 24,
     "metadata": {},
     "output_type": "execute_result"
    }
   ],
   "source": [
    "LFP_SPECTRAL_DF[\"power_calculation_frequencies\"].apply(lambda x: (x >= theta_band[0]) & (x <= theta_band[1])).iloc[0]"
   ]
  },
  {
   "cell_type": "code",
   "execution_count": 25,
   "metadata": {
    "tags": []
   },
   "outputs": [
    {
     "name": "stdout",
     "output_type": "stream",
     "text": [
      "mPFC\n",
      "MD\n",
      "LH\n",
      "BLA\n",
      "vHPC\n"
     ]
    }
   ],
   "source": [
    "for col in power_columns:\n",
    "    brain_region_name = col.split(\"_\")[0]\n",
    "    print(brain_region_name)\n",
    "    theta_power_col = \"{}_power_theta\".format(brain_region_name)\n",
    "    gamma_power_col = \"{}_power_gamma\".format(brain_region_name)\n",
    "    LFP_SPECTRAL_DF[\"{}\".format(theta_power_col)] = LFP_SPECTRAL_DF.apply(lambda x: np.nanmean(x[col][:, (x[\"power_calculation_frequencies\"] >= theta_band[0]) & (x[\"power_calculation_frequencies\"] <= theta_band[1])], axis=1), axis=1)\n",
    "    LFP_SPECTRAL_DF[\"{}\".format(gamma_power_col)] = LFP_SPECTRAL_DF.apply(lambda x: np.nanmean(x[col][:, (x[\"power_calculation_frequencies\"] >= gamma_band[0]) & (x[\"power_calculation_frequencies\"] <= gamma_band[1])], axis=1), axis=1)"
   ]
  },
  {
   "cell_type": "code",
   "execution_count": 26,
   "metadata": {
    "tags": []
   },
   "outputs": [
    {
     "data": {
      "text/html": [
       "<div>\n",
       "<style scoped>\n",
       "    .dataframe tbody tr th:only-of-type {\n",
       "        vertical-align: middle;\n",
       "    }\n",
       "\n",
       "    .dataframe tbody tr th {\n",
       "        vertical-align: top;\n",
       "    }\n",
       "\n",
       "    .dataframe thead th {\n",
       "        text-align: right;\n",
       "    }\n",
       "</style>\n",
       "<table border=\"1\" class=\"dataframe\">\n",
       "  <thead>\n",
       "    <tr style=\"text-align: right;\">\n",
       "      <th></th>\n",
       "      <th>cohort</th>\n",
       "      <th>session_dir</th>\n",
       "      <th>tone_frames</th>\n",
       "      <th>box_1_port_entry_frames</th>\n",
       "      <th>box_2_port_entry_frames</th>\n",
       "      <th>video_name</th>\n",
       "      <th>session_path</th>\n",
       "      <th>recording</th>\n",
       "      <th>current_subject</th>\n",
       "      <th>subject</th>\n",
       "      <th>...</th>\n",
       "      <th>mPFC_power_theta</th>\n",
       "      <th>mPFC_power_gamma</th>\n",
       "      <th>MD_power_theta</th>\n",
       "      <th>MD_power_gamma</th>\n",
       "      <th>LH_power_theta</th>\n",
       "      <th>LH_power_gamma</th>\n",
       "      <th>BLA_power_theta</th>\n",
       "      <th>BLA_power_gamma</th>\n",
       "      <th>vHPC_power_theta</th>\n",
       "      <th>vHPC_power_gamma</th>\n",
       "    </tr>\n",
       "  </thead>\n",
       "  <tbody>\n",
       "    <tr>\n",
       "      <th>0</th>\n",
       "      <td>2</td>\n",
       "      <td>20230612_101430_standard_comp_to_training_D1_s...</td>\n",
       "      <td>[[980, 1181], [3376, 3575], [5672, 5871], [746...</td>\n",
       "      <td>[[490, 514], [518, 558], [558, 637], [638, 640...</td>\n",
       "      <td>[[33137, 33147], [33665, 33666], [33668, 33669...</td>\n",
       "      <td>20230612_101430_standard_comp_to_training_D1_s...</td>\n",
       "      <td>/scratch/back_up/reward_competition_extention/...</td>\n",
       "      <td>20230612_101430_standard_comp_to_training_D1_s...</td>\n",
       "      <td>1.3</td>\n",
       "      <td>1.3</td>\n",
       "      <td>...</td>\n",
       "      <td>[0.0192, 0.00833, 0.00872, 0.02284, 0.03558, 0...</td>\n",
       "      <td>[0.0003676, 0.0004709, 0.0004604, 0.0003605, 0...</td>\n",
       "      <td>[0.0314, 0.0293, 0.02188, 0.02684, 0.02391, 0....</td>\n",
       "      <td>[0.0005727, 0.0003688, 0.0005994, 0.000823, 0....</td>\n",
       "      <td>[0.02385, 0.02403, 0.02197, 0.02045, 0.0185, 0...</td>\n",
       "      <td>[0.0007935, 0.000608, 0.000549, 0.000664, 0.00...</td>\n",
       "      <td>[0.02734, 0.02118, 0.01955, 0.02567, 0.02525, ...</td>\n",
       "      <td>[0.001674, 0.001781, 0.001711, 0.001264, 0.001...</td>\n",
       "      <td>[0.01069, 0.02905, 0.05573, 0.0284, 0.0164, 0....</td>\n",
       "      <td>[0.000385, 0.0004468, 0.000421, 0.0004888, 0.0...</td>\n",
       "    </tr>\n",
       "    <tr>\n",
       "      <th>1</th>\n",
       "      <td>2</td>\n",
       "      <td>20230612_101430_standard_comp_to_training_D1_s...</td>\n",
       "      <td>[[980, 1180], [3376, 3575], [5672, 5871], [746...</td>\n",
       "      <td>[[490, 514], [518, 558], [558, 637], [638, 640...</td>\n",
       "      <td>[[33021, 33027], [33502, 33503], [33504, 33506...</td>\n",
       "      <td>20230612_101430_standard_comp_to_training_D1_s...</td>\n",
       "      <td>/scratch/back_up/reward_competition_extention/...</td>\n",
       "      <td>20230612_101430_standard_comp_to_training_D1_s...</td>\n",
       "      <td>1.3</td>\n",
       "      <td>1.3</td>\n",
       "      <td>...</td>\n",
       "      <td>[0.0192, 0.00833, 0.00872, 0.02284, 0.03558, 0...</td>\n",
       "      <td>[0.0003676, 0.0004709, 0.0004604, 0.0003605, 0...</td>\n",
       "      <td>[0.0314, 0.0293, 0.02188, 0.02684, 0.02391, 0....</td>\n",
       "      <td>[0.0005727, 0.0003688, 0.0005994, 0.000823, 0....</td>\n",
       "      <td>[0.02385, 0.02403, 0.02197, 0.02045, 0.0185, 0...</td>\n",
       "      <td>[0.0007935, 0.000608, 0.000549, 0.000664, 0.00...</td>\n",
       "      <td>[0.02734, 0.02118, 0.01955, 0.02567, 0.02525, ...</td>\n",
       "      <td>[0.001674, 0.001781, 0.001711, 0.001264, 0.001...</td>\n",
       "      <td>[0.01069, 0.02905, 0.05573, 0.0284, 0.0164, 0....</td>\n",
       "      <td>[0.000385, 0.0004468, 0.000421, 0.0004888, 0.0...</td>\n",
       "    </tr>\n",
       "    <tr>\n",
       "      <th>2</th>\n",
       "      <td>2</td>\n",
       "      <td>20230612_101430_standard_comp_to_training_D1_s...</td>\n",
       "      <td>[[980, 1181], [3376, 3575], [5672, 5871], [746...</td>\n",
       "      <td>[[490, 514], [518, 558], [558, 637], [638, 640...</td>\n",
       "      <td>[[33137, 33147], [33665, 33666], [33668, 33669...</td>\n",
       "      <td>20230612_101430_standard_comp_to_training_D1_s...</td>\n",
       "      <td>/scratch/back_up/reward_competition_extention/...</td>\n",
       "      <td>20230612_101430_standard_comp_to_training_D1_s...</td>\n",
       "      <td>1.4</td>\n",
       "      <td>1.4</td>\n",
       "      <td>...</td>\n",
       "      <td>[0.014854, 0.01645, 0.03424, 0.0245, 0.02141, ...</td>\n",
       "      <td>[0.0017395, 0.002783, 0.00245, 0.00219, 0.0022...</td>\n",
       "      <td>[0.01321, 0.01384, 0.02313, 0.0213, 0.01484, 0...</td>\n",
       "      <td>[0.000718, 0.000562, 0.00046, 0.0005183, 0.000...</td>\n",
       "      <td>[0.01522, 0.01698, 0.02643, 0.02547, 0.01753, ...</td>\n",
       "      <td>[0.0009117, 0.0006933, 0.0006523, 0.0008574, 0...</td>\n",
       "      <td>[0.013466, 0.0199, 0.0302, 0.02333, 0.02101, 0...</td>\n",
       "      <td>[0.00339, 0.003328, 0.003246, 0.003057, 0.0025...</td>\n",
       "      <td>[0.02547, 0.02805, 0.04492, 0.0433, 0.03625, 0...</td>\n",
       "      <td>[0.00303, 0.003956, 0.002377, 0.002512, 0.0022...</td>\n",
       "    </tr>\n",
       "    <tr>\n",
       "      <th>3</th>\n",
       "      <td>2</td>\n",
       "      <td>20230612_101430_standard_comp_to_training_D1_s...</td>\n",
       "      <td>[[980, 1180], [3376, 3575], [5672, 5871], [746...</td>\n",
       "      <td>[[490, 514], [518, 558], [558, 637], [638, 640...</td>\n",
       "      <td>[[33021, 33027], [33502, 33503], [33504, 33506...</td>\n",
       "      <td>20230612_101430_standard_comp_to_training_D1_s...</td>\n",
       "      <td>/scratch/back_up/reward_competition_extention/...</td>\n",
       "      <td>20230612_101430_standard_comp_to_training_D1_s...</td>\n",
       "      <td>1.4</td>\n",
       "      <td>1.4</td>\n",
       "      <td>...</td>\n",
       "      <td>[0.014854, 0.01645, 0.03424, 0.0245, 0.02141, ...</td>\n",
       "      <td>[0.0017395, 0.002783, 0.00245, 0.00219, 0.0022...</td>\n",
       "      <td>[0.01321, 0.01384, 0.02313, 0.0213, 0.01484, 0...</td>\n",
       "      <td>[0.000718, 0.000562, 0.00046, 0.0005183, 0.000...</td>\n",
       "      <td>[0.01522, 0.01698, 0.02643, 0.02547, 0.01753, ...</td>\n",
       "      <td>[0.0009117, 0.0006933, 0.0006523, 0.0008574, 0...</td>\n",
       "      <td>[0.013466, 0.0199, 0.0302, 0.02333, 0.02101, 0...</td>\n",
       "      <td>[0.00339, 0.003328, 0.003246, 0.003057, 0.0025...</td>\n",
       "      <td>[0.02547, 0.02805, 0.04492, 0.0433, 0.03625, 0...</td>\n",
       "      <td>[0.00303, 0.003956, 0.002377, 0.002512, 0.0022...</td>\n",
       "    </tr>\n",
       "    <tr>\n",
       "      <th>4</th>\n",
       "      <td>2</td>\n",
       "      <td>20230612_112630_standard_comp_to_training_D1_s...</td>\n",
       "      <td>[[1125, 1324], [3519, 3720], [5815, 6014], [76...</td>\n",
       "      <td>[[192, 248], [389, 405], [916, 929], [929, 948...</td>\n",
       "      <td>[[33019, 33020], [33246, 33251], [33253, 33255...</td>\n",
       "      <td>20230612_112630_standard_comp_to_training_D1_s...</td>\n",
       "      <td>/scratch/back_up/reward_competition_extention/...</td>\n",
       "      <td>20230612_112630_standard_comp_to_training_D1_s...</td>\n",
       "      <td>1.1</td>\n",
       "      <td>1.1</td>\n",
       "      <td>...</td>\n",
       "      <td>[0.02911, 0.0161, 0.03128, 0.0645, 0.05292, 0....</td>\n",
       "      <td>[0.002085, 0.0017, 0.00255, 0.002123, 0.001657...</td>\n",
       "      <td>[0.04117, 0.02585, 0.03415, 0.05902, 0.0532, 0...</td>\n",
       "      <td>[0.001111, 0.001026, 0.001446, 0.001231, 0.001...</td>\n",
       "      <td>[0.04492, 0.02734, 0.0343, 0.0662, 0.05817, 0....</td>\n",
       "      <td>[0.001554, 0.001191, 0.001668, 0.001639, 0.001...</td>\n",
       "      <td>[0.04282, 0.02083, 0.02519, 0.0717, 0.05908, 0...</td>\n",
       "      <td>[0.002028, 0.002459, 0.002268, 0.002237, 0.001...</td>\n",
       "      <td>[0.01295, 0.01762, 0.02567, 0.05838, 0.04764, ...</td>\n",
       "      <td>[0.00314, 0.00324, 0.00365, 0.00518, 0.004192,...</td>\n",
       "    </tr>\n",
       "  </tbody>\n",
       "</table>\n",
       "<p>5 rows × 74 columns</p>\n",
       "</div>"
      ],
      "text/plain": [
       "   cohort                                        session_dir  \\\n",
       "0       2  20230612_101430_standard_comp_to_training_D1_s...   \n",
       "1       2  20230612_101430_standard_comp_to_training_D1_s...   \n",
       "2       2  20230612_101430_standard_comp_to_training_D1_s...   \n",
       "3       2  20230612_101430_standard_comp_to_training_D1_s...   \n",
       "4       2  20230612_112630_standard_comp_to_training_D1_s...   \n",
       "\n",
       "                                         tone_frames  \\\n",
       "0  [[980, 1181], [3376, 3575], [5672, 5871], [746...   \n",
       "1  [[980, 1180], [3376, 3575], [5672, 5871], [746...   \n",
       "2  [[980, 1181], [3376, 3575], [5672, 5871], [746...   \n",
       "3  [[980, 1180], [3376, 3575], [5672, 5871], [746...   \n",
       "4  [[1125, 1324], [3519, 3720], [5815, 6014], [76...   \n",
       "\n",
       "                             box_1_port_entry_frames  \\\n",
       "0  [[490, 514], [518, 558], [558, 637], [638, 640...   \n",
       "1  [[490, 514], [518, 558], [558, 637], [638, 640...   \n",
       "2  [[490, 514], [518, 558], [558, 637], [638, 640...   \n",
       "3  [[490, 514], [518, 558], [558, 637], [638, 640...   \n",
       "4  [[192, 248], [389, 405], [916, 929], [929, 948...   \n",
       "\n",
       "                             box_2_port_entry_frames  \\\n",
       "0  [[33137, 33147], [33665, 33666], [33668, 33669...   \n",
       "1  [[33021, 33027], [33502, 33503], [33504, 33506...   \n",
       "2  [[33137, 33147], [33665, 33666], [33668, 33669...   \n",
       "3  [[33021, 33027], [33502, 33503], [33504, 33506...   \n",
       "4  [[33019, 33020], [33246, 33251], [33253, 33255...   \n",
       "\n",
       "                                          video_name  \\\n",
       "0  20230612_101430_standard_comp_to_training_D1_s...   \n",
       "1  20230612_101430_standard_comp_to_training_D1_s...   \n",
       "2  20230612_101430_standard_comp_to_training_D1_s...   \n",
       "3  20230612_101430_standard_comp_to_training_D1_s...   \n",
       "4  20230612_112630_standard_comp_to_training_D1_s...   \n",
       "\n",
       "                                        session_path  \\\n",
       "0  /scratch/back_up/reward_competition_extention/...   \n",
       "1  /scratch/back_up/reward_competition_extention/...   \n",
       "2  /scratch/back_up/reward_competition_extention/...   \n",
       "3  /scratch/back_up/reward_competition_extention/...   \n",
       "4  /scratch/back_up/reward_competition_extention/...   \n",
       "\n",
       "                                           recording current_subject subject  \\\n",
       "0  20230612_101430_standard_comp_to_training_D1_s...             1.3     1.3   \n",
       "1  20230612_101430_standard_comp_to_training_D1_s...             1.3     1.3   \n",
       "2  20230612_101430_standard_comp_to_training_D1_s...             1.4     1.4   \n",
       "3  20230612_101430_standard_comp_to_training_D1_s...             1.4     1.4   \n",
       "4  20230612_112630_standard_comp_to_training_D1_s...             1.1     1.1   \n",
       "\n",
       "   ...                                   mPFC_power_theta  \\\n",
       "0  ...  [0.0192, 0.00833, 0.00872, 0.02284, 0.03558, 0...   \n",
       "1  ...  [0.0192, 0.00833, 0.00872, 0.02284, 0.03558, 0...   \n",
       "2  ...  [0.014854, 0.01645, 0.03424, 0.0245, 0.02141, ...   \n",
       "3  ...  [0.014854, 0.01645, 0.03424, 0.0245, 0.02141, ...   \n",
       "4  ...  [0.02911, 0.0161, 0.03128, 0.0645, 0.05292, 0....   \n",
       "\n",
       "                                    mPFC_power_gamma  \\\n",
       "0  [0.0003676, 0.0004709, 0.0004604, 0.0003605, 0...   \n",
       "1  [0.0003676, 0.0004709, 0.0004604, 0.0003605, 0...   \n",
       "2  [0.0017395, 0.002783, 0.00245, 0.00219, 0.0022...   \n",
       "3  [0.0017395, 0.002783, 0.00245, 0.00219, 0.0022...   \n",
       "4  [0.002085, 0.0017, 0.00255, 0.002123, 0.001657...   \n",
       "\n",
       "                                      MD_power_theta  \\\n",
       "0  [0.0314, 0.0293, 0.02188, 0.02684, 0.02391, 0....   \n",
       "1  [0.0314, 0.0293, 0.02188, 0.02684, 0.02391, 0....   \n",
       "2  [0.01321, 0.01384, 0.02313, 0.0213, 0.01484, 0...   \n",
       "3  [0.01321, 0.01384, 0.02313, 0.0213, 0.01484, 0...   \n",
       "4  [0.04117, 0.02585, 0.03415, 0.05902, 0.0532, 0...   \n",
       "\n",
       "                                      MD_power_gamma  \\\n",
       "0  [0.0005727, 0.0003688, 0.0005994, 0.000823, 0....   \n",
       "1  [0.0005727, 0.0003688, 0.0005994, 0.000823, 0....   \n",
       "2  [0.000718, 0.000562, 0.00046, 0.0005183, 0.000...   \n",
       "3  [0.000718, 0.000562, 0.00046, 0.0005183, 0.000...   \n",
       "4  [0.001111, 0.001026, 0.001446, 0.001231, 0.001...   \n",
       "\n",
       "                                      LH_power_theta  \\\n",
       "0  [0.02385, 0.02403, 0.02197, 0.02045, 0.0185, 0...   \n",
       "1  [0.02385, 0.02403, 0.02197, 0.02045, 0.0185, 0...   \n",
       "2  [0.01522, 0.01698, 0.02643, 0.02547, 0.01753, ...   \n",
       "3  [0.01522, 0.01698, 0.02643, 0.02547, 0.01753, ...   \n",
       "4  [0.04492, 0.02734, 0.0343, 0.0662, 0.05817, 0....   \n",
       "\n",
       "                                      LH_power_gamma  \\\n",
       "0  [0.0007935, 0.000608, 0.000549, 0.000664, 0.00...   \n",
       "1  [0.0007935, 0.000608, 0.000549, 0.000664, 0.00...   \n",
       "2  [0.0009117, 0.0006933, 0.0006523, 0.0008574, 0...   \n",
       "3  [0.0009117, 0.0006933, 0.0006523, 0.0008574, 0...   \n",
       "4  [0.001554, 0.001191, 0.001668, 0.001639, 0.001...   \n",
       "\n",
       "                                     BLA_power_theta  \\\n",
       "0  [0.02734, 0.02118, 0.01955, 0.02567, 0.02525, ...   \n",
       "1  [0.02734, 0.02118, 0.01955, 0.02567, 0.02525, ...   \n",
       "2  [0.013466, 0.0199, 0.0302, 0.02333, 0.02101, 0...   \n",
       "3  [0.013466, 0.0199, 0.0302, 0.02333, 0.02101, 0...   \n",
       "4  [0.04282, 0.02083, 0.02519, 0.0717, 0.05908, 0...   \n",
       "\n",
       "                                     BLA_power_gamma  \\\n",
       "0  [0.001674, 0.001781, 0.001711, 0.001264, 0.001...   \n",
       "1  [0.001674, 0.001781, 0.001711, 0.001264, 0.001...   \n",
       "2  [0.00339, 0.003328, 0.003246, 0.003057, 0.0025...   \n",
       "3  [0.00339, 0.003328, 0.003246, 0.003057, 0.0025...   \n",
       "4  [0.002028, 0.002459, 0.002268, 0.002237, 0.001...   \n",
       "\n",
       "                                    vHPC_power_theta  \\\n",
       "0  [0.01069, 0.02905, 0.05573, 0.0284, 0.0164, 0....   \n",
       "1  [0.01069, 0.02905, 0.05573, 0.0284, 0.0164, 0....   \n",
       "2  [0.02547, 0.02805, 0.04492, 0.0433, 0.03625, 0...   \n",
       "3  [0.02547, 0.02805, 0.04492, 0.0433, 0.03625, 0...   \n",
       "4  [0.01295, 0.01762, 0.02567, 0.05838, 0.04764, ...   \n",
       "\n",
       "                                    vHPC_power_gamma  \n",
       "0  [0.000385, 0.0004468, 0.000421, 0.0004888, 0.0...  \n",
       "1  [0.000385, 0.0004468, 0.000421, 0.0004888, 0.0...  \n",
       "2  [0.00303, 0.003956, 0.002377, 0.002512, 0.0022...  \n",
       "3  [0.00303, 0.003956, 0.002377, 0.002512, 0.0022...  \n",
       "4  [0.00314, 0.00324, 0.00365, 0.00518, 0.004192,...  \n",
       "\n",
       "[5 rows x 74 columns]"
      ]
     },
     "execution_count": 26,
     "metadata": {},
     "output_type": "execute_result"
    }
   ],
   "source": [
    "LFP_SPECTRAL_DF.head()"
   ]
  },
  {
   "cell_type": "markdown",
   "metadata": {},
   "source": [
    "- Filtering theta/gamma for coherence"
   ]
  },
  {
   "cell_type": "code",
   "execution_count": 28,
   "metadata": {
    "tags": []
   },
   "outputs": [],
   "source": [
    "coherence_columns = [col for col in LFP_SPECTRAL_DF.columns if \"coherence\" in col and \"calculation\" not in col and \"time\" not in col]"
   ]
  },
  {
   "cell_type": "code",
   "execution_count": 29,
   "metadata": {
    "tags": []
   },
   "outputs": [
    {
     "data": {
      "text/plain": [
       "['BLA_LH_coherence_all_frequencies_all_windows',\n",
       " 'BLA_MD_coherence_all_frequencies_all_windows',\n",
       " 'BLA_mPFC_coherence_all_frequencies_all_windows',\n",
       " 'BLA_vHPC_coherence_all_frequencies_all_windows',\n",
       " 'LH_MD_coherence_all_frequencies_all_windows',\n",
       " 'LH_mPFC_coherence_all_frequencies_all_windows',\n",
       " 'LH_vHPC_coherence_all_frequencies_all_windows',\n",
       " 'MD_mPFC_coherence_all_frequencies_all_windows',\n",
       " 'MD_vHPC_coherence_all_frequencies_all_windows',\n",
       " 'mPFC_vHPC_coherence_all_frequencies_all_windows']"
      ]
     },
     "execution_count": 29,
     "metadata": {},
     "output_type": "execute_result"
    }
   ],
   "source": [
    "coherence_columns"
   ]
  },
  {
   "cell_type": "code",
   "execution_count": 30,
   "metadata": {
    "tags": []
   },
   "outputs": [
    {
     "name": "stdout",
     "output_type": "stream",
     "text": [
      "BLA_LH\n",
      "BLA_MD\n",
      "BLA_mPFC\n",
      "BLA_vHPC\n",
      "LH_MD\n",
      "LH_mPFC\n",
      "LH_vHPC\n",
      "MD_mPFC\n",
      "MD_vHPC\n",
      "mPFC_vHPC\n"
     ]
    }
   ],
   "source": [
    "for col in coherence_columns:\n",
    "    brain_region_name = \"_\".join(col.split(\"_\")[:2])\n",
    "    print(brain_region_name)\n",
    "    theta_coherence_col = \"{}_coherence_theta\".format(brain_region_name)\n",
    "    gamma_coherence_col = \"{}_coherence_gamma\".format(brain_region_name)\n",
    "    LFP_SPECTRAL_DF[\"{}\".format(theta_coherence_col)] = LFP_SPECTRAL_DF.apply(lambda x: np.nanmean(x[col][:, (x[\"coherence_calculation_frequencies\"] >= theta_band[0]) & (x[\"coherence_calculation_frequencies\"] <= theta_band[1])], axis=1), axis=1)\n",
    "    LFP_SPECTRAL_DF[\"{}\".format(gamma_coherence_col)] = LFP_SPECTRAL_DF.apply(lambda x: np.nanmean(x[col][:, (x[\"coherence_calculation_frequencies\"] >= gamma_band[0]) & (x[\"coherence_calculation_frequencies\"] <= gamma_band[1])], axis=1), axis=1)"
   ]
  },
  {
   "cell_type": "markdown",
   "metadata": {},
   "source": [
    "- Filtering theta/gamma for granger"
   ]
  },
  {
   "cell_type": "code",
   "execution_count": 31,
   "metadata": {
    "tags": []
   },
   "outputs": [],
   "source": [
    "granger_columns = [col for col in LFP_SPECTRAL_DF.columns if \"granger\" in col and \"calculation\" not in col and \"time\" not in col]"
   ]
  },
  {
   "cell_type": "code",
   "execution_count": 32,
   "metadata": {
    "tags": []
   },
   "outputs": [
    {
     "data": {
      "text/plain": [
       "['BLA_LH_granger_all_frequencies_all_windows',\n",
       " 'LH_BLA_granger_all_frequencies_all_windows',\n",
       " 'BLA_MD_granger_all_frequencies_all_windows',\n",
       " 'MD_BLA_granger_all_frequencies_all_windows',\n",
       " 'BLA_mPFC_granger_all_frequencies_all_windows',\n",
       " 'mPFC_BLA_granger_all_frequencies_all_windows',\n",
       " 'BLA_vHPC_granger_all_frequencies_all_windows',\n",
       " 'vHPC_BLA_granger_all_frequencies_all_windows',\n",
       " 'LH_MD_granger_all_frequencies_all_windows',\n",
       " 'MD_LH_granger_all_frequencies_all_windows',\n",
       " 'LH_mPFC_granger_all_frequencies_all_windows',\n",
       " 'mPFC_LH_granger_all_frequencies_all_windows',\n",
       " 'LH_vHPC_granger_all_frequencies_all_windows',\n",
       " 'vHPC_LH_granger_all_frequencies_all_windows',\n",
       " 'MD_mPFC_granger_all_frequencies_all_windows',\n",
       " 'mPFC_MD_granger_all_frequencies_all_windows',\n",
       " 'MD_vHPC_granger_all_frequencies_all_windows',\n",
       " 'vHPC_MD_granger_all_frequencies_all_windows',\n",
       " 'mPFC_vHPC_granger_all_frequencies_all_windows',\n",
       " 'vHPC_mPFC_granger_all_frequencies_all_windows']"
      ]
     },
     "execution_count": 32,
     "metadata": {},
     "output_type": "execute_result"
    }
   ],
   "source": [
    "granger_columns"
   ]
  },
  {
   "cell_type": "code",
   "execution_count": 33,
   "metadata": {
    "tags": []
   },
   "outputs": [
    {
     "name": "stdout",
     "output_type": "stream",
     "text": [
      "BLA-to-LH\n",
      "LH-to-BLA\n",
      "BLA-to-MD\n",
      "MD-to-BLA\n",
      "BLA-to-mPFC\n",
      "mPFC-to-BLA\n",
      "BLA-to-vHPC\n",
      "vHPC-to-BLA\n",
      "LH-to-MD\n",
      "MD-to-LH\n",
      "LH-to-mPFC\n",
      "mPFC-to-LH\n",
      "LH-to-vHPC\n",
      "vHPC-to-LH\n",
      "MD-to-mPFC\n",
      "mPFC-to-MD\n",
      "MD-to-vHPC\n",
      "vHPC-to-MD\n",
      "mPFC-to-vHPC\n",
      "vHPC-to-mPFC\n"
     ]
    }
   ],
   "source": [
    "for col in granger_columns:\n",
    "    brain_region_name = \"-to-\".join(col.split(\"_\")[:2])\n",
    "    print(brain_region_name)\n",
    "    theta_granger_col = \"{}_granger_theta\".format(brain_region_name)\n",
    "    gamma_granger_col = \"{}_granger_gamma\".format(brain_region_name)\n",
    "    LFP_SPECTRAL_DF[\"{}\".format(theta_granger_col)] = LFP_SPECTRAL_DF.apply(lambda x: np.nanmean(x[col][:, (x[\"granger_calculation_frequencies\"] >= theta_band[0]) & (x[\"granger_calculation_frequencies\"] <= theta_band[1])], axis=1), axis=1)\n",
    "    LFP_SPECTRAL_DF[\"{}\".format(gamma_granger_col)] = LFP_SPECTRAL_DF.apply(lambda x: np.nanmean(x[col][:, (x[\"granger_calculation_frequencies\"] >= gamma_band[0]) & (x[\"granger_calculation_frequencies\"] <= gamma_band[1])], axis=1), axis=1)"
   ]
  },
  {
   "cell_type": "code",
   "execution_count": 39,
   "metadata": {
    "tags": []
   },
   "outputs": [
    {
     "data": {
      "text/html": [
       "<div>\n",
       "<style scoped>\n",
       "    .dataframe tbody tr th:only-of-type {\n",
       "        vertical-align: middle;\n",
       "    }\n",
       "\n",
       "    .dataframe tbody tr th {\n",
       "        vertical-align: top;\n",
       "    }\n",
       "\n",
       "    .dataframe thead th {\n",
       "        text-align: right;\n",
       "    }\n",
       "</style>\n",
       "<table border=\"1\" class=\"dataframe\">\n",
       "  <thead>\n",
       "    <tr style=\"text-align: right;\">\n",
       "      <th></th>\n",
       "      <th>cohort</th>\n",
       "      <th>session_dir</th>\n",
       "      <th>tone_frames</th>\n",
       "      <th>box_1_port_entry_frames</th>\n",
       "      <th>box_2_port_entry_frames</th>\n",
       "      <th>video_name</th>\n",
       "      <th>session_path</th>\n",
       "      <th>recording</th>\n",
       "      <th>current_subject</th>\n",
       "      <th>subject</th>\n",
       "      <th>...</th>\n",
       "      <th>mPFC-to-MD_granger_theta</th>\n",
       "      <th>mPFC-to-MD_granger_gamma</th>\n",
       "      <th>MD-to-vHPC_granger_theta</th>\n",
       "      <th>MD-to-vHPC_granger_gamma</th>\n",
       "      <th>vHPC-to-MD_granger_theta</th>\n",
       "      <th>vHPC-to-MD_granger_gamma</th>\n",
       "      <th>mPFC-to-vHPC_granger_theta</th>\n",
       "      <th>mPFC-to-vHPC_granger_gamma</th>\n",
       "      <th>vHPC-to-mPFC_granger_theta</th>\n",
       "      <th>vHPC-to-mPFC_granger_gamma</th>\n",
       "    </tr>\n",
       "  </thead>\n",
       "  <tbody>\n",
       "    <tr>\n",
       "      <th>0</th>\n",
       "      <td>2</td>\n",
       "      <td>20230612_101430_standard_comp_to_training_D1_s...</td>\n",
       "      <td>[[980, 1181], [3376, 3575], [5672, 5871], [746...</td>\n",
       "      <td>[[490, 514], [518, 558], [558, 637], [638, 640...</td>\n",
       "      <td>[[33137, 33147], [33665, 33666], [33668, 33669...</td>\n",
       "      <td>20230612_101430_standard_comp_to_training_D1_s...</td>\n",
       "      <td>/scratch/back_up/reward_competition_extention/...</td>\n",
       "      <td>20230612_101430_standard_comp_to_training_D1_s...</td>\n",
       "      <td>1.3</td>\n",
       "      <td>1.3</td>\n",
       "      <td>...</td>\n",
       "      <td>[0.619, 0.2048, 0.416, 0.212, 0.0773, 0.3818, ...</td>\n",
       "      <td>[0.433, 0.1775, 0.1467, 0.3218, 0.1627, 0.14, ...</td>\n",
       "      <td>[0.2556, 0.561, 0.5347, 0.595, 0.6245, 0.2915,...</td>\n",
       "      <td>[0.2942, 0.2078, 0.1791, 0.2074, 0.6104, 0.416...</td>\n",
       "      <td>[0.7363, 0.623, 0.916, 0.1919, 0.4854, 0.291, ...</td>\n",
       "      <td>[0.3962, 0.3162, 0.3918, 0.3738, 0.407, 0.2546...</td>\n",
       "      <td>[0.294, 0.3416, 0.3147, 0.1201, 0.1798, 0.3499...</td>\n",
       "      <td>[0.3696, 0.4702, 0.3848, 0.2676, 0.1721, 0.214...</td>\n",
       "      <td>[0.3733, 0.3875, 0.4814, 0.0788, 0.3303, 0.236...</td>\n",
       "      <td>[0.2612, 0.1371, 0.11597, 0.5317, 0.3992, 0.31...</td>\n",
       "    </tr>\n",
       "    <tr>\n",
       "      <th>1</th>\n",
       "      <td>2</td>\n",
       "      <td>20230612_101430_standard_comp_to_training_D1_s...</td>\n",
       "      <td>[[980, 1180], [3376, 3575], [5672, 5871], [746...</td>\n",
       "      <td>[[490, 514], [518, 558], [558, 637], [638, 640...</td>\n",
       "      <td>[[33021, 33027], [33502, 33503], [33504, 33506...</td>\n",
       "      <td>20230612_101430_standard_comp_to_training_D1_s...</td>\n",
       "      <td>/scratch/back_up/reward_competition_extention/...</td>\n",
       "      <td>20230612_101430_standard_comp_to_training_D1_s...</td>\n",
       "      <td>1.3</td>\n",
       "      <td>1.3</td>\n",
       "      <td>...</td>\n",
       "      <td>[0.619, 0.2048, 0.416, 0.212, 0.0773, 0.3818, ...</td>\n",
       "      <td>[0.433, 0.1775, 0.1467, 0.3218, 0.1627, 0.14, ...</td>\n",
       "      <td>[0.2556, 0.561, 0.5347, 0.595, 0.6245, 0.2915,...</td>\n",
       "      <td>[0.2942, 0.2078, 0.1791, 0.2074, 0.6104, 0.416...</td>\n",
       "      <td>[0.7363, 0.623, 0.916, 0.1919, 0.4854, 0.291, ...</td>\n",
       "      <td>[0.3962, 0.3162, 0.3918, 0.3738, 0.407, 0.2546...</td>\n",
       "      <td>[0.294, 0.3416, 0.3147, 0.1201, 0.1798, 0.3499...</td>\n",
       "      <td>[0.3696, 0.4702, 0.3848, 0.2676, 0.1721, 0.214...</td>\n",
       "      <td>[0.3733, 0.3875, 0.4814, 0.0788, 0.3303, 0.236...</td>\n",
       "      <td>[0.2612, 0.1371, 0.11597, 0.5317, 0.3992, 0.31...</td>\n",
       "    </tr>\n",
       "    <tr>\n",
       "      <th>2</th>\n",
       "      <td>2</td>\n",
       "      <td>20230612_101430_standard_comp_to_training_D1_s...</td>\n",
       "      <td>[[980, 1181], [3376, 3575], [5672, 5871], [746...</td>\n",
       "      <td>[[490, 514], [518, 558], [558, 637], [638, 640...</td>\n",
       "      <td>[[33137, 33147], [33665, 33666], [33668, 33669...</td>\n",
       "      <td>20230612_101430_standard_comp_to_training_D1_s...</td>\n",
       "      <td>/scratch/back_up/reward_competition_extention/...</td>\n",
       "      <td>20230612_101430_standard_comp_to_training_D1_s...</td>\n",
       "      <td>1.4</td>\n",
       "      <td>1.4</td>\n",
       "      <td>...</td>\n",
       "      <td>[0.4675, 0.2383, 0.343, 0.0534, 0.2014, 0.1708...</td>\n",
       "      <td>[0.374, 0.2722, 0.2888, 0.3542, 0.4832, 0.2039...</td>\n",
       "      <td>[0.12067, 0.1519, 0.1978, 0.4722, 0.725, 0.346...</td>\n",
       "      <td>[0.2092, 0.2322, 0.57, 0.3848, 0.4849, 0.28, 0...</td>\n",
       "      <td>[0.824, 0.8486, 0.4873, 0.6494, 0.881, 0.4429,...</td>\n",
       "      <td>[0.2085, 0.2018, 0.2346, 0.4075, 0.25, 0.353, ...</td>\n",
       "      <td>[0.329, 0.2783, 0.3796, 0.3135, 0.18, 0.2908, ...</td>\n",
       "      <td>[0.343, 0.382, 0.6567, 0.3767, 0.4895, 0.4211,...</td>\n",
       "      <td>[0.3115, 0.345, 1.015, 1.294, 0.367, 0.648, 0....</td>\n",
       "      <td>[0.3955, 0.2693, 0.2559, 0.3315, 0.2373, 0.586...</td>\n",
       "    </tr>\n",
       "    <tr>\n",
       "      <th>3</th>\n",
       "      <td>2</td>\n",
       "      <td>20230612_101430_standard_comp_to_training_D1_s...</td>\n",
       "      <td>[[980, 1180], [3376, 3575], [5672, 5871], [746...</td>\n",
       "      <td>[[490, 514], [518, 558], [558, 637], [638, 640...</td>\n",
       "      <td>[[33021, 33027], [33502, 33503], [33504, 33506...</td>\n",
       "      <td>20230612_101430_standard_comp_to_training_D1_s...</td>\n",
       "      <td>/scratch/back_up/reward_competition_extention/...</td>\n",
       "      <td>20230612_101430_standard_comp_to_training_D1_s...</td>\n",
       "      <td>1.4</td>\n",
       "      <td>1.4</td>\n",
       "      <td>...</td>\n",
       "      <td>[0.4675, 0.2383, 0.343, 0.0534, 0.2014, 0.1708...</td>\n",
       "      <td>[0.374, 0.2722, 0.2888, 0.3542, 0.4832, 0.2039...</td>\n",
       "      <td>[0.12067, 0.1519, 0.1978, 0.4722, 0.725, 0.346...</td>\n",
       "      <td>[0.2092, 0.2322, 0.57, 0.3848, 0.4849, 0.28, 0...</td>\n",
       "      <td>[0.824, 0.8486, 0.4873, 0.6494, 0.881, 0.4429,...</td>\n",
       "      <td>[0.2085, 0.2018, 0.2346, 0.4075, 0.25, 0.353, ...</td>\n",
       "      <td>[0.329, 0.2783, 0.3796, 0.3135, 0.18, 0.2908, ...</td>\n",
       "      <td>[0.343, 0.382, 0.6567, 0.3767, 0.4895, 0.4211,...</td>\n",
       "      <td>[0.3115, 0.345, 1.015, 1.294, 0.367, 0.648, 0....</td>\n",
       "      <td>[0.3955, 0.2693, 0.2559, 0.3315, 0.2373, 0.586...</td>\n",
       "    </tr>\n",
       "    <tr>\n",
       "      <th>4</th>\n",
       "      <td>2</td>\n",
       "      <td>20230612_112630_standard_comp_to_training_D1_s...</td>\n",
       "      <td>[[1125, 1324], [3519, 3720], [5815, 6014], [76...</td>\n",
       "      <td>[[192, 248], [389, 405], [916, 929], [929, 948...</td>\n",
       "      <td>[[33019, 33020], [33246, 33251], [33253, 33255...</td>\n",
       "      <td>20230612_112630_standard_comp_to_training_D1_s...</td>\n",
       "      <td>/scratch/back_up/reward_competition_extention/...</td>\n",
       "      <td>20230612_112630_standard_comp_to_training_D1_s...</td>\n",
       "      <td>1.1</td>\n",
       "      <td>1.1</td>\n",
       "      <td>...</td>\n",
       "      <td>[0.3027, 0.2346, 0.874, 0.5786, 0.4883, 0.7744...</td>\n",
       "      <td>[0.1487, 0.2357, 0.4375, 0.2769, 0.11365, 0.32...</td>\n",
       "      <td>[0.2235, 0.1509, 0.08606, 0.1255, 0.372, 0.144...</td>\n",
       "      <td>[0.4048, 0.1499, 0.218, 0.338, 0.3835, 0.2446,...</td>\n",
       "      <td>[0.8135, 0.2174, 0.4949, 0.757, 0.2979, 0.3452...</td>\n",
       "      <td>[0.1694, 0.186, 0.2174, 0.1519, 0.12024, 0.376...</td>\n",
       "      <td>[0.278, 0.3599, 0.421, 0.2874, 0.6147, 0.8984,...</td>\n",
       "      <td>[0.3435, 0.1696, 0.2852, 0.3855, 0.436, 0.1501...</td>\n",
       "      <td>[0.618, 0.3098, 0.1111, 0.536, 0.4377, 0.1636,...</td>\n",
       "      <td>[0.1666, 0.2357, 0.273, 0.3223, 0.239, 0.3677,...</td>\n",
       "    </tr>\n",
       "  </tbody>\n",
       "</table>\n",
       "<p>5 rows × 134 columns</p>\n",
       "</div>"
      ],
      "text/plain": [
       "   cohort                                        session_dir  \\\n",
       "0       2  20230612_101430_standard_comp_to_training_D1_s...   \n",
       "1       2  20230612_101430_standard_comp_to_training_D1_s...   \n",
       "2       2  20230612_101430_standard_comp_to_training_D1_s...   \n",
       "3       2  20230612_101430_standard_comp_to_training_D1_s...   \n",
       "4       2  20230612_112630_standard_comp_to_training_D1_s...   \n",
       "\n",
       "                                         tone_frames  \\\n",
       "0  [[980, 1181], [3376, 3575], [5672, 5871], [746...   \n",
       "1  [[980, 1180], [3376, 3575], [5672, 5871], [746...   \n",
       "2  [[980, 1181], [3376, 3575], [5672, 5871], [746...   \n",
       "3  [[980, 1180], [3376, 3575], [5672, 5871], [746...   \n",
       "4  [[1125, 1324], [3519, 3720], [5815, 6014], [76...   \n",
       "\n",
       "                             box_1_port_entry_frames  \\\n",
       "0  [[490, 514], [518, 558], [558, 637], [638, 640...   \n",
       "1  [[490, 514], [518, 558], [558, 637], [638, 640...   \n",
       "2  [[490, 514], [518, 558], [558, 637], [638, 640...   \n",
       "3  [[490, 514], [518, 558], [558, 637], [638, 640...   \n",
       "4  [[192, 248], [389, 405], [916, 929], [929, 948...   \n",
       "\n",
       "                             box_2_port_entry_frames  \\\n",
       "0  [[33137, 33147], [33665, 33666], [33668, 33669...   \n",
       "1  [[33021, 33027], [33502, 33503], [33504, 33506...   \n",
       "2  [[33137, 33147], [33665, 33666], [33668, 33669...   \n",
       "3  [[33021, 33027], [33502, 33503], [33504, 33506...   \n",
       "4  [[33019, 33020], [33246, 33251], [33253, 33255...   \n",
       "\n",
       "                                          video_name  \\\n",
       "0  20230612_101430_standard_comp_to_training_D1_s...   \n",
       "1  20230612_101430_standard_comp_to_training_D1_s...   \n",
       "2  20230612_101430_standard_comp_to_training_D1_s...   \n",
       "3  20230612_101430_standard_comp_to_training_D1_s...   \n",
       "4  20230612_112630_standard_comp_to_training_D1_s...   \n",
       "\n",
       "                                        session_path  \\\n",
       "0  /scratch/back_up/reward_competition_extention/...   \n",
       "1  /scratch/back_up/reward_competition_extention/...   \n",
       "2  /scratch/back_up/reward_competition_extention/...   \n",
       "3  /scratch/back_up/reward_competition_extention/...   \n",
       "4  /scratch/back_up/reward_competition_extention/...   \n",
       "\n",
       "                                           recording current_subject subject  \\\n",
       "0  20230612_101430_standard_comp_to_training_D1_s...             1.3     1.3   \n",
       "1  20230612_101430_standard_comp_to_training_D1_s...             1.3     1.3   \n",
       "2  20230612_101430_standard_comp_to_training_D1_s...             1.4     1.4   \n",
       "3  20230612_101430_standard_comp_to_training_D1_s...             1.4     1.4   \n",
       "4  20230612_112630_standard_comp_to_training_D1_s...             1.1     1.1   \n",
       "\n",
       "   ...                           mPFC-to-MD_granger_theta  \\\n",
       "0  ...  [0.619, 0.2048, 0.416, 0.212, 0.0773, 0.3818, ...   \n",
       "1  ...  [0.619, 0.2048, 0.416, 0.212, 0.0773, 0.3818, ...   \n",
       "2  ...  [0.4675, 0.2383, 0.343, 0.0534, 0.2014, 0.1708...   \n",
       "3  ...  [0.4675, 0.2383, 0.343, 0.0534, 0.2014, 0.1708...   \n",
       "4  ...  [0.3027, 0.2346, 0.874, 0.5786, 0.4883, 0.7744...   \n",
       "\n",
       "                            mPFC-to-MD_granger_gamma  \\\n",
       "0  [0.433, 0.1775, 0.1467, 0.3218, 0.1627, 0.14, ...   \n",
       "1  [0.433, 0.1775, 0.1467, 0.3218, 0.1627, 0.14, ...   \n",
       "2  [0.374, 0.2722, 0.2888, 0.3542, 0.4832, 0.2039...   \n",
       "3  [0.374, 0.2722, 0.2888, 0.3542, 0.4832, 0.2039...   \n",
       "4  [0.1487, 0.2357, 0.4375, 0.2769, 0.11365, 0.32...   \n",
       "\n",
       "                            MD-to-vHPC_granger_theta  \\\n",
       "0  [0.2556, 0.561, 0.5347, 0.595, 0.6245, 0.2915,...   \n",
       "1  [0.2556, 0.561, 0.5347, 0.595, 0.6245, 0.2915,...   \n",
       "2  [0.12067, 0.1519, 0.1978, 0.4722, 0.725, 0.346...   \n",
       "3  [0.12067, 0.1519, 0.1978, 0.4722, 0.725, 0.346...   \n",
       "4  [0.2235, 0.1509, 0.08606, 0.1255, 0.372, 0.144...   \n",
       "\n",
       "                            MD-to-vHPC_granger_gamma  \\\n",
       "0  [0.2942, 0.2078, 0.1791, 0.2074, 0.6104, 0.416...   \n",
       "1  [0.2942, 0.2078, 0.1791, 0.2074, 0.6104, 0.416...   \n",
       "2  [0.2092, 0.2322, 0.57, 0.3848, 0.4849, 0.28, 0...   \n",
       "3  [0.2092, 0.2322, 0.57, 0.3848, 0.4849, 0.28, 0...   \n",
       "4  [0.4048, 0.1499, 0.218, 0.338, 0.3835, 0.2446,...   \n",
       "\n",
       "                            vHPC-to-MD_granger_theta  \\\n",
       "0  [0.7363, 0.623, 0.916, 0.1919, 0.4854, 0.291, ...   \n",
       "1  [0.7363, 0.623, 0.916, 0.1919, 0.4854, 0.291, ...   \n",
       "2  [0.824, 0.8486, 0.4873, 0.6494, 0.881, 0.4429,...   \n",
       "3  [0.824, 0.8486, 0.4873, 0.6494, 0.881, 0.4429,...   \n",
       "4  [0.8135, 0.2174, 0.4949, 0.757, 0.2979, 0.3452...   \n",
       "\n",
       "                            vHPC-to-MD_granger_gamma  \\\n",
       "0  [0.3962, 0.3162, 0.3918, 0.3738, 0.407, 0.2546...   \n",
       "1  [0.3962, 0.3162, 0.3918, 0.3738, 0.407, 0.2546...   \n",
       "2  [0.2085, 0.2018, 0.2346, 0.4075, 0.25, 0.353, ...   \n",
       "3  [0.2085, 0.2018, 0.2346, 0.4075, 0.25, 0.353, ...   \n",
       "4  [0.1694, 0.186, 0.2174, 0.1519, 0.12024, 0.376...   \n",
       "\n",
       "                          mPFC-to-vHPC_granger_theta  \\\n",
       "0  [0.294, 0.3416, 0.3147, 0.1201, 0.1798, 0.3499...   \n",
       "1  [0.294, 0.3416, 0.3147, 0.1201, 0.1798, 0.3499...   \n",
       "2  [0.329, 0.2783, 0.3796, 0.3135, 0.18, 0.2908, ...   \n",
       "3  [0.329, 0.2783, 0.3796, 0.3135, 0.18, 0.2908, ...   \n",
       "4  [0.278, 0.3599, 0.421, 0.2874, 0.6147, 0.8984,...   \n",
       "\n",
       "                          mPFC-to-vHPC_granger_gamma  \\\n",
       "0  [0.3696, 0.4702, 0.3848, 0.2676, 0.1721, 0.214...   \n",
       "1  [0.3696, 0.4702, 0.3848, 0.2676, 0.1721, 0.214...   \n",
       "2  [0.343, 0.382, 0.6567, 0.3767, 0.4895, 0.4211,...   \n",
       "3  [0.343, 0.382, 0.6567, 0.3767, 0.4895, 0.4211,...   \n",
       "4  [0.3435, 0.1696, 0.2852, 0.3855, 0.436, 0.1501...   \n",
       "\n",
       "                          vHPC-to-mPFC_granger_theta  \\\n",
       "0  [0.3733, 0.3875, 0.4814, 0.0788, 0.3303, 0.236...   \n",
       "1  [0.3733, 0.3875, 0.4814, 0.0788, 0.3303, 0.236...   \n",
       "2  [0.3115, 0.345, 1.015, 1.294, 0.367, 0.648, 0....   \n",
       "3  [0.3115, 0.345, 1.015, 1.294, 0.367, 0.648, 0....   \n",
       "4  [0.618, 0.3098, 0.1111, 0.536, 0.4377, 0.1636,...   \n",
       "\n",
       "                          vHPC-to-mPFC_granger_gamma  \n",
       "0  [0.2612, 0.1371, 0.11597, 0.5317, 0.3992, 0.31...  \n",
       "1  [0.2612, 0.1371, 0.11597, 0.5317, 0.3992, 0.31...  \n",
       "2  [0.3955, 0.2693, 0.2559, 0.3315, 0.2373, 0.586...  \n",
       "3  [0.3955, 0.2693, 0.2559, 0.3315, 0.2373, 0.586...  \n",
       "4  [0.1666, 0.2357, 0.273, 0.3223, 0.239, 0.3677,...  \n",
       "\n",
       "[5 rows x 134 columns]"
      ]
     },
     "execution_count": 39,
     "metadata": {},
     "output_type": "execute_result"
    }
   ],
   "source": [
    "LFP_SPECTRAL_DF.head()"
   ]
  },
  {
   "cell_type": "code",
   "execution_count": 38,
   "metadata": {
    "tags": []
   },
   "outputs": [],
   "source": [
    "LFP_SPECTRAL_DF.to_pickle(os.path.join(OUTPUT_DIR, FULL_LFP_TRACES_PKL))"
   ]
  },
  {
   "cell_type": "code",
   "execution_count": null,
   "metadata": {},
   "outputs": [],
   "source": []
  }
 ],
 "metadata": {
  "deepnote": {},
  "deepnote_execution_queue": [],
  "deepnote_notebook_id": "cf8fe3695d074ee7887fdf6459cbf5ce",
  "kernelspec": {
   "display_name": "spike_interface_0_99_0",
   "language": "python",
   "name": "spike_interface_0_99_0"
  },
  "language_info": {
   "codemirror_mode": {
    "name": "ipython",
    "version": 3
   },
   "file_extension": ".py",
   "mimetype": "text/x-python",
   "name": "python",
   "nbconvert_exporter": "python",
   "pygments_lexer": "ipython3",
   "version": "3.10.13"
  }
 },
 "nbformat": 4,
 "nbformat_minor": 4
}
