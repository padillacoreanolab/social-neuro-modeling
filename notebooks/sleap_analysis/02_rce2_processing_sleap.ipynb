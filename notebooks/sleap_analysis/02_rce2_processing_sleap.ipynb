{
 "cells": [
  {
   "cell_type": "markdown",
   "metadata": {},
   "source": [
    "# SLEAP Processing Notebook\n",
    "\n",
    "This Jupyter notebook is designed for processing animal behavior video data using SLEAP, focusing on pose estimation, data aggregation, and analysis.\n",
    "\n",
    "## Overview\n",
    "\n",
    "This notebook performs the following key tasks:\n",
    "\n",
    "1. **Environment Setup**: Imports necessary libraries and modules, sets paths, and configures environment settings.\n",
    "2. **Data Loading**: Inputs are read from specified directories, which include video data and associated metadata.\n",
    "3. **Data Processing**:\n",
    "    - Applies pose estimation algorithms to video data.\n",
    "    - Aggregates results into structured formats.\n",
    "    - Filters and cleans the data to prepare for analysis.\n",
    "4. **Analysis**:\n",
    "    - Conducts exploratory data analysis (EDA) to understand the behaviors and interactions.\n",
    "    - Computes statistical metrics and visualizes results using plots.\n",
    "5. **Output**: Generates and saves outputs, which include processed data frames and visual plots, for further use or inspection.\n",
    "\n",
    "## Dependencies\n",
    "\n",
    "- Python 3.x\n",
    "- Libraries: sys, os, git, glob, pandas, numpy, matplotlib, seaborn, sklearn, utilities, trodes\n",
    "- External: SLEAP software for pose estimation\n",
    "\n",
    "## Inputs\n",
    "\n",
    "- Video files from the directory specified in `video_directory`.\n",
    "- Behavioral and trial metadata from Excel and pickle files.\n",
    "\n",
    "## Outputs\n",
    "\n",
    "- Processed data frames with pose estimation results.\n",
    "- Statistical analysis results and plots visualizing various aspects of the dataset.\n",
    "\n",
    "## Functions\n",
    "\n",
    "This notebook defines several utility functions to aid in data processing and analysis:\n",
    "\n",
    "- `mask_slices`: Masks parts of a numpy array outside a specified slice.\n",
    "- `overlay_arrays`: Combines two arrays by overlaying them based on non-NaN values.\n",
    "- `extract_start_stop_elements`: Retrieves elements from specified start and stop indices in an array.\n",
    "- `filter_array_by_values`: Filters elements or rows in a numpy array based on value thresholds.\n",
    "\n",
    "## Usage\n",
    "\n",
    "To run this notebook:\n",
    "1. Ensure all dependencies are installed and data files are available in the specified paths.\n",
    "2. Execute the notebook cells sequentially to perform data loading, processing, analysis, and save the outputs.\n",
    "\n",
    "Note: Modify the paths and parameters as necessary to fit the data structure and analysis requirements of your project."
   ]
  },
  {
   "cell_type": "markdown",
   "metadata": {
    "tags": []
   },
   "source": [
    "# Description of columns"
   ]
  },
  {
   "cell_type": "markdown",
   "metadata": {},
   "source": [
    "- File metadata and information\n",
    "```\n",
    "# Name of SLEAP file\n",
    "sleap_name\n",
    "# File path of session directory\n",
    "session_path\n",
    "# Name of the recording\n",
    "recording\n",
    "# Cohort number\n",
    "cohort\n",
    "# Type of experiment\n",
    "experiment\n",
    "# File name of video\n",
    "video_name\n",
    "# Box number of the recording\n",
    "box_number\n",
    "# Name of session directory that the recording is a part of \n",
    "session_dir\n",
    "```"
   ]
  },
  {
   "cell_type": "markdown",
   "metadata": {},
   "source": [
    "- Subject info\n",
    "```\n",
    "current_subject\n",
    "tracked_subject\n",
    "all_subjects\n",
    "subject\n",
    "agent\n",
    "```"
   ]
  },
  {
   "cell_type": "markdown",
   "metadata": {},
   "source": [
    "- Timestamps\n",
    "```\n",
    "first_timestamp\n",
    "last_timestamp\n",
    "video_timestamps\n",
    "tone_timestamps\n",
    "lfp_timestamps\n",
    "```\n",
    "\n",
    "\n",
    "\n"
   ]
  },
  {
   "cell_type": "markdown",
   "metadata": {
    "tags": []
   },
   "source": [
    "- Descriptions of each trial\n",
    "```\n",
    "# Origiinal trial labels\n",
    "condition\n",
    "# How competitive the trial was\n",
    "competition_closeness\n",
    "# Notes on the trial\n",
    "notes\n",
    "# The trial label(ie win vs lose)\n",
    "trial_label\n",
    "```"
   ]
  },
  {
   "cell_type": "markdown",
   "metadata": {},
   "source": [
    "- The start and stop frame/timestamps of trials\n",
    "    ```\n",
    "    tone_start_frame\n",
    "    reward_start_frame\n",
    "    tone_stop_frame\n",
    "    tone_start_timestamp\n",
    "    tone_stop_timestamp\n",
    "    ```"
   ]
  },
  {
   "cell_type": "markdown",
   "metadata": {},
   "source": [
    "- The frame and timestamp at which port entries were made\n",
    "```\n",
    "box_1_port_entry_frames\n",
    "box_2_port_entry_frames\n",
    "box_1_port_entry_timestamps\n",
    "box_2_port_entry_timestamps\n",
    "```"
   ]
  },
  {
   "cell_type": "markdown",
   "metadata": {},
   "source": [
    "- LFP Traces\n",
    "```\n",
    "mPFC_lfp_trace\n",
    "MD_lfp_trace\n",
    "LH_lfp_trace\n",
    "BLA_lfp_trace\n",
    "vHPC_lfp_trace\n",
    "```"
   ]
  },
  {
   "cell_type": "markdown",
   "metadata": {},
   "source": [
    "- The subjects that are in the video\n",
    "```\n",
    "in_video_subjects\n",
    "```"
   ]
  },
  {
   "cell_type": "markdown",
   "metadata": {},
   "source": [
    "- list of body parts tracked\n",
    "```\n",
    "body_parts\n",
    "```"
   ]
  },
  {
   "cell_type": "markdown",
   "metadata": {},
   "source": [
    "- Coordinatres of the corners of the operant chamber\n",
    "```\n",
    "box_top_left\n",
    "box_top_right\n",
    "reward_port\n",
    "box_bottom_left\n",
    "box_bottom_right\n",
    "```"
   ]
  },
  {
   "cell_type": "markdown",
   "metadata": {},
   "source": [
    "- SLEAP Output\n",
    "```\n",
    "# Coordinates of all the body parts\n",
    "subject_locations\n",
    "agent_locations\n",
    "# Velocity of thorax\n",
    "subject_thorax_velocity\n",
    "agent_thorax_velocity\n",
    "# Distance of thorax to reward port\n",
    "subject_thorax_to_reward_port\n",
    "agent_thorax_to_reward_port\n",
    "```"
   ]
  },
  {
   "cell_type": "markdown",
   "metadata": {},
   "source": [
    "- The first and last frame of when the subject is in the video\n",
    "```\n",
    "start_stop_frame\n",
    "start_stop_timestamps\n",
    "```"
   ]
  },
  {
   "cell_type": "markdown",
   "metadata": {},
   "source": [
    "- Mask used to filter for tones that correspond to trials that are actually in the recording/\n",
    "```\n",
    "tone_mask\n",
    "```"
   ]
  },
  {
   "cell_type": "code",
   "execution_count": 1,
   "metadata": {
    "tags": []
   },
   "outputs": [],
   "source": [
    "# Imports of all used packages and libraries\n",
    "import sys\n",
    "import os\n",
    "import git\n",
    "import glob\n",
    "from collections import defaultdict"
   ]
  },
  {
   "cell_type": "code",
   "execution_count": 2,
   "metadata": {
    "tags": []
   },
   "outputs": [],
   "source": [
    "git_repo = git.Repo(\".\", search_parent_directories=True)\n",
    "git_root = git_repo.git.rev_parse(\"--show-toplevel\")"
   ]
  },
  {
   "cell_type": "code",
   "execution_count": 3,
   "metadata": {
    "tags": []
   },
   "outputs": [
    {
     "data": {
      "text/plain": [
       "'/blue/npadillacoreano/ryoi360/projects/reward_comp/repos/social-neuro-modeling'"
      ]
     },
     "execution_count": 3,
     "metadata": {},
     "output_type": "execute_result"
    }
   ],
   "source": [
    "git_root"
   ]
  },
  {
   "cell_type": "code",
   "execution_count": 4,
   "metadata": {
    "tags": []
   },
   "outputs": [],
   "source": [
    "sys.path.insert(0, os.path.join(git_root, 'src'))"
   ]
  },
  {
   "cell_type": "code",
   "execution_count": 5,
   "metadata": {
    "tags": []
   },
   "outputs": [],
   "source": [
    "import warnings\n",
    "warnings.filterwarnings('ignore')"
   ]
  },
  {
   "cell_type": "code",
   "execution_count": 6,
   "metadata": {
    "tags": []
   },
   "outputs": [],
   "source": [
    "import os\n",
    "import collections\n",
    "import itertools\n",
    "from collections import defaultdict\n",
    "from itertools import combinations"
   ]
  },
  {
   "cell_type": "code",
   "execution_count": 7,
   "metadata": {
    "cell_id": "03b495cefa6a4798a44c7f2e4c6a3ea7",
    "deepnote_cell_type": "code",
    "deepnote_to_be_reexecuted": false,
    "execution_millis": 21,
    "execution_start": 1691424003626,
    "source_hash": null,
    "tags": []
   },
   "outputs": [],
   "source": [
    "# Imports of all used packages and libraries\n",
    "import numpy as np\n",
    "import pandas as pd"
   ]
  },
  {
   "cell_type": "code",
   "execution_count": 8,
   "metadata": {
    "tags": []
   },
   "outputs": [],
   "source": [
    "import matplotlib\n",
    "import matplotlib.colors as mcolors\n",
    "import matplotlib.pyplot as plt\n",
    "import matplotlib.cm as cm\n",
    "import seaborn as sns\n",
    "import colorsys"
   ]
  },
  {
   "cell_type": "code",
   "execution_count": 9,
   "metadata": {
    "tags": []
   },
   "outputs": [],
   "source": [
    "from sklearn.metrics import confusion_matrix"
   ]
  },
  {
   "cell_type": "code",
   "execution_count": 10,
   "metadata": {
    "tags": []
   },
   "outputs": [],
   "source": [
    "import utilities.helper\n",
    "import trodes.read_exported"
   ]
  },
  {
   "cell_type": "code",
   "execution_count": 11,
   "metadata": {
    "tags": []
   },
   "outputs": [],
   "source": [
    "FONTSIZE = 20"
   ]
  },
  {
   "cell_type": "code",
   "execution_count": 12,
   "metadata": {
    "tags": []
   },
   "outputs": [],
   "source": [
    "font = {'weight' : 'medium',\n",
    "        'size'   : 10}\n",
    "\n",
    "matplotlib.rc('font', **font)"
   ]
  },
  {
   "cell_type": "markdown",
   "metadata": {
    "cell_id": "d290bac2c17940bfbc0f9296beaf70e5",
    "deepnote_cell_type": "text-cell-h2",
    "formattedRanges": []
   },
   "source": [
    "## Inputs & Data"
   ]
  },
  {
   "cell_type": "markdown",
   "metadata": {
    "cell_id": "e528ce19c608425292151930d380f49f",
    "deepnote_cell_type": "text-cell-p",
    "formattedRanges": []
   },
   "source": [
    "Explanation of each input and where it comes from."
   ]
  },
  {
   "cell_type": "code",
   "execution_count": 13,
   "metadata": {
    "tags": []
   },
   "outputs": [],
   "source": [
    " COMP_CLOSENESS_DICT = {'Subj 1 blocking Subj 2': \"competitive\",\n",
    "'Subj 2 Only': \"no_comp\",\n",
    "'Subj 2 blocking Subj 1': \"competitive\",\n",
    "'Subj 1 then Subj 2': \"competitive\", \n",
    "'Subj 1 Only': \"no_comp\",\n",
    "'Subj 2 then Subj 1': \"competitive\",\n",
    "'Close Call': \"competitive\",\n",
    "'After trial': \"no_comp\"}"
   ]
  },
  {
   "cell_type": "code",
   "execution_count": 14,
   "metadata": {},
   "outputs": [],
   "source": [
    "BOX_CORNERS = [\"box_top_left\", \"box_top_right\", \"reward_port\", \"box_bottom_left\", \"box_bottom_right\"]"
   ]
  },
  {
   "cell_type": "code",
   "execution_count": 15,
   "metadata": {
    "tags": []
   },
   "outputs": [],
   "source": [
    "ROW_NUMBER = 0"
   ]
  },
  {
   "cell_type": "code",
   "execution_count": 16,
   "metadata": {
    "tags": []
   },
   "outputs": [],
   "source": [
    "BODY_PART = 'thorax'"
   ]
  },
  {
   "cell_type": "code",
   "execution_count": 17,
   "metadata": {
    "tags": []
   },
   "outputs": [],
   "source": [
    "X_INDEX = 0\n",
    "Y_INDEX = 1"
   ]
  },
  {
   "cell_type": "code",
   "execution_count": 18,
   "metadata": {
    "cell_id": "6cf83a5811054461a718a71673d09aab",
    "deepnote_cell_type": "code",
    "deepnote_to_be_reexecuted": false,
    "execution_millis": 373,
    "execution_start": 1691424003628,
    "source_hash": null,
    "tags": []
   },
   "outputs": [],
   "source": [
    "# Inputs and Required data loading\n",
    "# input varaible names are in all caps snake case\n",
    "# Whenever an input changes or is used for processing \n",
    "# the vairables are all lower in snake case\n",
    "OUTPUT_DIR = r\"./proc/\" # where data is saved should always be shown in the inputs\n",
    "os.makedirs(OUTPUT_DIR, exist_ok=True)\n",
    "OUTPUT_PREFIX = \"rce_pilot_2\""
   ]
  },
  {
   "cell_type": "code",
   "execution_count": 19,
   "metadata": {
    "tags": []
   },
   "outputs": [],
   "source": [
    "TRIAL_LABELS_DF = pd.read_excel(\"../../data/rce2_finalized_trial_labels.xlsx\")"
   ]
  },
  {
   "cell_type": "code",
   "execution_count": 20,
   "metadata": {},
   "outputs": [],
   "source": [
    "LFP_DF = pd.read_pickle(\"./proc/rce_pilot_2_01_LFP_and_sleap.pkl\")"
   ]
  },
  {
   "cell_type": "code",
   "execution_count": 21,
   "metadata": {
    "tags": []
   },
   "outputs": [],
   "source": [
    "LFP_DF[\"video_name\"] = LFP_DF[\"video_name\"].apply(lambda x: x.strip(\".videoTimeStamps.cameraHWSync\"))\n",
    "LFP_DF[\"current_subject\"] = LFP_DF[\"current_subject\"].astype(str)"
   ]
  },
  {
   "cell_type": "code",
   "execution_count": 22,
   "metadata": {},
   "outputs": [],
   "source": [
    "TRIAL_LABELS_DF[\"current_subject\"] = TRIAL_LABELS_DF[\"current_subject\"].astype(str)\n",
    "TRIAL_LABELS_DF[\"competition_closeness\"] = TRIAL_LABELS_DF[\"competition_closeness\"].map(COMP_CLOSENESS_DICT)"
   ]
  },
  {
   "cell_type": "code",
   "execution_count": 23,
   "metadata": {
    "tags": []
   },
   "outputs": [
    {
     "data": {
      "text/plain": [
       "array(['20230612_112630_standard_comp_to_training_D1_subj_1-2_and_1-1.1',\n",
       "       '20230612_112630_standard_comp_to_training_D1_subj_1-2_and_1-1.2',\n",
       "       '20230613_105657_standard_comp_to_training_D2_subj_1-1_and_1-4.1',\n",
       "       '20230613_105657_standard_comp_to_training_D2_subj_1-1_and_1-4.2',\n",
       "       '20230614_114041_standard_comp_to_training_D3_subj_1-1_and_1-2.1',\n",
       "       '20230614_114041_standard_comp_to_training_D3_subj_1-1_and_1-2.3',\n",
       "       '20230614_114041_standard_comp_to_training_D3_subj_1-1_and_1-2.2',\n",
       "       '20230616_111904_standard_comp_to_training_D4_subj_1-4_and_1-2.1',\n",
       "       '20230616_111904_standard_comp_to_training_D4_subj_1-4_and_1-2.2',\n",
       "       '20230617_115521_standard_comp_to_omission_D1_subj_1-1_and_1-2.1',\n",
       "       '20230617_115521_standard_comp_to_omission_D1_subj_1-1_and_1-2.3',\n",
       "       '20230618_100636_standard_comp_to_omission_D2_subj_1-4_and_1-1.1',\n",
       "       '20230618_100636_standard_comp_to_omission_D2_subj_1-4_and_1-1.2',\n",
       "       '20230619_115321_standard_comp_to_omission_D3_subj_1-2_and_1-4.4',\n",
       "       '20230620_114347_standard_comp_to_omission_D4_subj_1-2_and_1-1.1',\n",
       "       '20230620_114347_standard_comp_to_omission_D4_subj_1-2_and_1-1.2',\n",
       "       '20230621_111240_standard_comp_to_omission_D5_subj_1-4_and_1-2.1',\n",
       "       '20230622_110832_standard_comp_to_both_rewarded_D1_subj_1-1_and_1-2.1',\n",
       "       '20230624_105855_standard_comp_to_both_rewarded_D3_subj_1-2_and_1-4.1',\n",
       "       '20230625_112913_standard_comp_to_both_rewarded_D4_subj_1-1_and_1-4.1',\n",
       "       '20230628_111202_standard_comp_to_novel_agent_D1_subj_1-1vs2-2and1-2vs2-1.1',\n",
       "       '20230628_111202_standard_comp_to_novel_agent_D1_subj_1-1vs2-2and1-2vs2-1.4',\n",
       "       '20230629_111937_standard_comp_to_novel_agent_D2_subj_1-1vs2-1and1-4vs2-2.1',\n",
       "       '20230629_111937_standard_comp_to_novel_agent_D2_subj_1-1vs2-1and1-4vs2-2.2',\n",
       "       '20230630_115506_standard_comp_to_novel_agent_D3_subj_1-4vs2-1and1-2vs2-2.1',\n",
       "       '20230630_115506_standard_comp_to_novel_agent_D3_subj_1-4vs2-1and1-2vs2-2.2'],\n",
       "      dtype=object)"
      ]
     },
     "execution_count": 23,
     "metadata": {},
     "output_type": "execute_result"
    }
   ],
   "source": [
    "LFP_DF[\"video_name\"].unique()"
   ]
  },
  {
   "cell_type": "markdown",
   "metadata": {
    "cell_id": "e3ee4891d43a4ac287413afc552ca289",
    "deepnote_cell_type": "text-cell-h2",
    "formattedRanges": []
   },
   "source": [
    "## Outputs"
   ]
  },
  {
   "cell_type": "markdown",
   "metadata": {
    "cell_id": "9ccbf6cc70fd4d379fa29317f733771f",
    "deepnote_cell_type": "text-cell-p",
    "formattedRanges": []
   },
   "source": [
    "Describe each output that the notebook creates. "
   ]
  },
  {
   "cell_type": "markdown",
   "metadata": {
    "cell_id": "fc8e8920a6944918a15fac575cdf6e78",
    "deepnote_cell_type": "text-cell-bullet",
    "formattedRanges": []
   },
   "source": [
    "- Is it a plot or is it data?"
   ]
  },
  {
   "cell_type": "markdown",
   "metadata": {
    "cell_id": "1e639d4776a84aa9ac8ded2e14fa57db",
    "deepnote_cell_type": "text-cell-bullet",
    "formattedRanges": []
   },
   "source": [
    "- How valuable is the output and why is it valuable or useful?"
   ]
  },
  {
   "cell_type": "markdown",
   "metadata": {},
   "source": [
    "## Functions "
   ]
  },
  {
   "cell_type": "code",
   "execution_count": 24,
   "metadata": {
    "tags": []
   },
   "outputs": [],
   "source": [
    "def mask_slices(array_2d, slice_index):\n",
    "    \"\"\"\n",
    "    Masks elements outside a specified slice in a 2D array with NaN.\n",
    "\n",
    "    Parameters:\n",
    "    - array_2d (np.ndarray): The input 2D array to mask.\n",
    "    - slice_index (tuple): A tuple of two integers that specifies the start and end indices \n",
    "                           of the slice to retain. The elements outside this slice are set to NaN.\n",
    "\n",
    "    Returns:\n",
    "    - np.ndarray: A 2D array with elements outside the specified slice set to NaN.\n",
    "\n",
    "    Raises:\n",
    "    - ValueError: If `slice_index` is not a tuple or does not contain exactly two elements.\n",
    "    - IndexError: If the slice indices are out of the array bounds.\n",
    "    \"\"\"\n",
    "    if not isinstance(slice_index, tuple) or len(slice_index) != 2:\n",
    "        raise ValueError(\"slice_index must be a tuple of two integers (start, end).\")\n",
    "\n",
    "    try:\n",
    "        result = array_2d.copy()\n",
    "        mask_2d = np.ones(result.shape, dtype=bool)\n",
    "        mask_2d[slice_index[0]:slice_index[1]] = False\n",
    "\n",
    "        # Set values outside the defined slice to NaN\n",
    "        result[mask_2d] = np.nan\n",
    "        return result\n",
    "\n",
    "    except IndexError as e:\n",
    "        warnings.warn(f\"Slice index out of bounds: {e}\")\n",
    "        return np.nan\n",
    "    except Exception as e:\n",
    "        warnings.warn(f\"An error occurred while masking the array: {e}\")\n",
    "        return np.nan\n"
   ]
  },
  {
   "cell_type": "code",
   "execution_count": 25,
   "metadata": {
    "tags": []
   },
   "outputs": [],
   "source": [
    "def overlay_arrays(array1, array2):\n",
    "    \"\"\"\n",
    "    Overlays two 2D NumPy arrays of the same shape, preferring non-NaN values from the first array.\n",
    "    If both arrays have a non-NaN value at the same position, the value from the first array is used.\n",
    "\n",
    "    Parameters:\n",
    "    - array1 (np.ndarray): The primary 2D array.\n",
    "    - array2 (np.ndarray): The secondary 2D array, used only where array1 has NaNs.\n",
    "\n",
    "    Returns:\n",
    "    - np.ndarray: A 2D array composed of the overlaid results of array1 and array2.\n",
    "\n",
    "    Raises:\n",
    "    - ValueError: If `array1` and `array2` do not have the same shape.\n",
    "    \"\"\"\n",
    "    if array1.shape != array2.shape:\n",
    "        raise ValueError(\"Both arrays must have the same shape.\")\n",
    "\n",
    "    # Create a copy of the first array to ensure that no changes are made to the original\n",
    "    result = np.copy(array1)\n",
    "\n",
    "    # Find indices where array1 is NaN and array2 is not NaN\n",
    "    mask = np.isnan(array1) & ~np.isnan(array2)\n",
    "\n",
    "    # Place non-NaN values from array2 where array1 has NaNs\n",
    "    result[mask] = array2[mask]\n",
    "\n",
    "    return result"
   ]
  },
  {
   "cell_type": "code",
   "execution_count": 26,
   "metadata": {
    "tags": []
   },
   "outputs": [],
   "source": [
    "def extract_start_stop_elements(array, start_index=0, stop_index=-1):\n",
    "    \"\"\"\n",
    "    Extracts elements from an array at specified start and stop indices.\n",
    "    \n",
    "    Parameters:\n",
    "    - array (list or array-like): The array from which elements are to be extracted.\n",
    "    - start_index (int): The index of the start element. Default is 0.\n",
    "    - stop_index (int): The index of the stop element. Default is -1, which corresponds to the last element.\n",
    "    \n",
    "    Returns:\n",
    "    - tuple: A tuple containing the elements at the start and stop indices.\n",
    "    \n",
    "    If the stop_index is out of the array's range, it defaults to the last element of the array.\n",
    "    \"\"\"\n",
    "    if stop_index >= len(array) or stop_index < 0:\n",
    "        stop_index = -1  # Ensure the stop_index points to the last element if it's out of range\n",
    "    return array[start_index], array[stop_index]"
   ]
  },
  {
   "cell_type": "code",
   "execution_count": 27,
   "metadata": {},
   "outputs": [],
   "source": [
    "def filter_array_by_values(arr, start_value=0, stop_value=1000000):\n",
    "    \"\"\"\n",
    "    Filters elements of a 1D or rows of a 2D numpy array based on specified value range.\n",
    "    \n",
    "    Parameters:\n",
    "    - arr (numpy array): The input numpy array to filter.\n",
    "    - start_value (numeric): The lower bound for the filtering. Default is 0.\n",
    "    - stop_value (numeric): The upper bound for the filtering. Default is 1000000.\n",
    "    \n",
    "    Returns:\n",
    "    - numpy array: A numpy array containing only the filtered elements or rows.\n",
    "    \n",
    "    Raises:\n",
    "    - ValueError: If the input array has more than two dimensions.\n",
    "    \"\"\"\n",
    "    result = np.array(arr)\n",
    "    \n",
    "    if result.ndim == 1:\n",
    "        # Apply filter for a 1D array\n",
    "        mask = (result > start_value) & (result < stop_value)\n",
    "        return result[mask], mask\n",
    "    \n",
    "    elif result.ndim == 2:\n",
    "        # Apply filter based on the first column for a 2D array\n",
    "        mask = (result[:, 0] > start_value) & (result[:, 0] < stop_value)\n",
    "        return result[mask], mask\n",
    "    \n",
    "    else:\n",
    "        raise ValueError(\"The input array must be either 1D or 2D.\")\n"
   ]
  },
  {
   "cell_type": "markdown",
   "metadata": {
    "cell_id": "8999d19b6b7d4d63bc90f0b0bd9ab085",
    "deepnote_cell_type": "text-cell-h2",
    "formattedRanges": []
   },
   "source": [
    "## Processing"
   ]
  },
  {
   "cell_type": "markdown",
   "metadata": {
    "cell_id": "9b36cdf08567463082b005cb0dec684b",
    "deepnote_cell_type": "text-cell-p",
    "formattedRanges": []
   },
   "source": [
    "Describe what is done to the data here and how inputs are manipulated to generate outputs. "
   ]
  },
  {
   "cell_type": "code",
   "execution_count": 28,
   "metadata": {
    "cell_id": "89aaba237c644628b1b37604b75e7cb1",
    "deepnote_cell_type": "code",
    "tags": []
   },
   "outputs": [],
   "source": [
    "# As much code and as many cells as required\n",
    "# includes EDA and playing with data\n",
    "# GO HAM!\n",
    "\n",
    "# Ideally functions are defined here first and then data is processed using the functions\n",
    "\n",
    "# function names are short and in snake case all lowercase\n",
    "# a function name should be unique but does not have to describe the function\n",
    "# doc strings describe functions not function names\n",
    "\n",
    "\n"
   ]
  },
  {
   "cell_type": "code",
   "execution_count": 29,
   "metadata": {
    "tags": []
   },
   "outputs": [
    {
     "data": {
      "text/plain": [
       "Index(['cohort', 'session_dir', 'tone_frames', 'box_1_port_entry_frames',\n",
       "       'box_2_port_entry_frames', 'video_name', 'session_path', 'recording',\n",
       "       'current_subject', 'subject', 'all_subjects', 'first_timestamp',\n",
       "       'last_timestamp', 'video_timestamps', 'tone_timestamps',\n",
       "       'box_1_port_entry_timestamps', 'box_2_port_entry_timestamps',\n",
       "       'lfp_timestamps', 'mPFC_lfp_trace', 'MD_lfp_trace', 'LH_lfp_trace',\n",
       "       'BLA_lfp_trace', 'vHPC_lfp_trace', 'start_frame', 'stop_frame',\n",
       "       'tracked_subject', 'in_video_subjects', 'box_number', 'sleap_name',\n",
       "       'body_parts', 'box_top_left', 'box_top_right', 'reward_port',\n",
       "       'box_bottom_left', 'box_bottom_right', 'agent', 'subject_locations',\n",
       "       'agent_locations', 'subject_thorax_velocity', 'agent_thorax_velocity',\n",
       "       'subject_thorax_to_reward_port', 'agent_thorax_to_reward_port'],\n",
       "      dtype='object')"
      ]
     },
     "execution_count": 29,
     "metadata": {},
     "output_type": "execute_result"
    }
   ],
   "source": [
    "LFP_DF.columns"
   ]
  },
  {
   "cell_type": "code",
   "execution_count": 30,
   "metadata": {
    "tags": []
   },
   "outputs": [],
   "source": [
    "LFP_DF = LFP_DF.dropna(subset=[\"agent_locations\"])"
   ]
  },
  {
   "cell_type": "code",
   "execution_count": 31,
   "metadata": {
    "scrolled": true,
    "tags": []
   },
   "outputs": [
    {
     "data": {
      "text/plain": [
       "Index(['tracked_subject', 'box_number', 'sleap_name', 'video_name',\n",
       "       'current_subject', 'tone_start_frame', 'reward_start_frame',\n",
       "       'tone_stop_frame', 'condition', 'competition_closeness', 'notes',\n",
       "       'experiment', 'session_dir', 'all_subjects', 'tone_start_timestamp',\n",
       "       'tone_stop_timestamp', 'trial_label'],\n",
       "      dtype='object')"
      ]
     },
     "execution_count": 31,
     "metadata": {},
     "output_type": "execute_result"
    }
   ],
   "source": [
    "TRIAL_LABELS_DF.columns"
   ]
  },
  {
   "cell_type": "markdown",
   "metadata": {},
   "source": [
    "# Editing the dataframes"
   ]
  },
  {
   "cell_type": "code",
   "execution_count": 32,
   "metadata": {
    "tags": []
   },
   "outputs": [
    {
     "data": {
      "text/html": [
       "<div>\n",
       "<style scoped>\n",
       "    .dataframe tbody tr th:only-of-type {\n",
       "        vertical-align: middle;\n",
       "    }\n",
       "\n",
       "    .dataframe tbody tr th {\n",
       "        vertical-align: top;\n",
       "    }\n",
       "\n",
       "    .dataframe thead th {\n",
       "        text-align: right;\n",
       "    }\n",
       "</style>\n",
       "<table border=\"1\" class=\"dataframe\">\n",
       "  <thead>\n",
       "    <tr style=\"text-align: right;\">\n",
       "      <th></th>\n",
       "      <th>cohort</th>\n",
       "      <th>session_dir</th>\n",
       "      <th>tone_frames</th>\n",
       "      <th>box_1_port_entry_frames</th>\n",
       "      <th>box_2_port_entry_frames</th>\n",
       "      <th>video_name</th>\n",
       "      <th>session_path</th>\n",
       "      <th>recording</th>\n",
       "      <th>current_subject</th>\n",
       "      <th>subject</th>\n",
       "      <th>...</th>\n",
       "      <th>reward_port</th>\n",
       "      <th>box_bottom_left</th>\n",
       "      <th>box_bottom_right</th>\n",
       "      <th>agent</th>\n",
       "      <th>subject_locations</th>\n",
       "      <th>agent_locations</th>\n",
       "      <th>subject_thorax_velocity</th>\n",
       "      <th>agent_thorax_velocity</th>\n",
       "      <th>subject_thorax_to_reward_port</th>\n",
       "      <th>agent_thorax_to_reward_port</th>\n",
       "    </tr>\n",
       "  </thead>\n",
       "  <tbody>\n",
       "    <tr>\n",
       "      <th>0</th>\n",
       "      <td>2</td>\n",
       "      <td>20230612_112630_standard_comp_to_training_D1_s...</td>\n",
       "      <td>[[1125, 1324], [3519, 3720], [5815, 6014], [76...</td>\n",
       "      <td>[[192, 248], [389, 405], [916, 929], [929, 948...</td>\n",
       "      <td>[[33019, 33020], [33246, 33251], [33253, 33255...</td>\n",
       "      <td>20230612_112630_standard_comp_to_training_D1_s...</td>\n",
       "      <td>/scratch/back_up/reward_competition_extention/...</td>\n",
       "      <td>20230612_112630_standard_comp_to_training_D1_s...</td>\n",
       "      <td>1.1</td>\n",
       "      <td>1.1</td>\n",
       "      <td>...</td>\n",
       "      <td>[45.23441700698972, 35.83828707637651]</td>\n",
       "      <td>[30.458913657178506, 34.21867013031604]</td>\n",
       "      <td>[59.89132415244771, 34.13310301149612]</td>\n",
       "      <td>1.2</td>\n",
       "      <td>[[[46.68890098287189, 11.495085446056166], [43...</td>\n",
       "      <td>[[[34.36404036584844, 35.615553316175784], [34...</td>\n",
       "      <td>[1.8125, 1.707, 1.6045, 1.506, 1.409, 1.315, 1...</td>\n",
       "      <td>[14.336, 12.875, 11.47, 10.11, 8.81, 7.57, 6.3...</td>\n",
       "      <td>[26.45, 26.16, 26.1, 25.77, 25.72, 25.78, 26.1...</td>\n",
       "      <td>[6.11, 6.06, 6.125, 6.566, 6.605, 6.676, 7.13,...</td>\n",
       "    </tr>\n",
       "    <tr>\n",
       "      <th>3</th>\n",
       "      <td>2</td>\n",
       "      <td>20230612_112630_standard_comp_to_training_D1_s...</td>\n",
       "      <td>[[1125, 1324], [3519, 3720], [5815, 6014], [76...</td>\n",
       "      <td>[[192, 248], [389, 405], [916, 929], [929, 948...</td>\n",
       "      <td>[[33019, 33020], [33246, 33251], [33253, 33255...</td>\n",
       "      <td>20230612_112630_standard_comp_to_training_D1_s...</td>\n",
       "      <td>/scratch/back_up/reward_competition_extention/...</td>\n",
       "      <td>20230612_112630_standard_comp_to_training_D1_s...</td>\n",
       "      <td>1.2</td>\n",
       "      <td>1.2</td>\n",
       "      <td>...</td>\n",
       "      <td>[45.23441700698972, 35.83828707637651]</td>\n",
       "      <td>[30.458913657178506, 34.21867013031604]</td>\n",
       "      <td>[59.89132415244771, 34.13310301149612]</td>\n",
       "      <td>1.1</td>\n",
       "      <td>[[[34.36404036584844, 35.615553316175784], [34...</td>\n",
       "      <td>[[[46.68890098287189, 11.495085446056166], [43...</td>\n",
       "      <td>[14.336, 12.875, 11.47, 10.11, 8.81, 7.57, 6.3...</td>\n",
       "      <td>[1.8125, 1.707, 1.6045, 1.506, 1.409, 1.315, 1...</td>\n",
       "      <td>[6.11, 6.06, 6.125, 6.566, 6.605, 6.676, 7.13,...</td>\n",
       "      <td>[26.45, 26.16, 26.1, 25.77, 25.72, 25.78, 26.1...</td>\n",
       "    </tr>\n",
       "    <tr>\n",
       "      <th>5</th>\n",
       "      <td>2</td>\n",
       "      <td>20230613_105657_standard_comp_to_training_D2_s...</td>\n",
       "      <td>[[916, 1117], [3312, 3513], [5608, 5808], [740...</td>\n",
       "      <td>[[49, 67], [70, 79], [360, 366], [460, 469], [...</td>\n",
       "      <td>[[33601, 33798], [34108, 34165], [34166, 34179...</td>\n",
       "      <td>20230613_105657_standard_comp_to_training_D2_s...</td>\n",
       "      <td>/scratch/back_up/reward_competition_extention/...</td>\n",
       "      <td>20230613_105657_standard_comp_to_training_D2_s...</td>\n",
       "      <td>1.1</td>\n",
       "      <td>1.1</td>\n",
       "      <td>...</td>\n",
       "      <td>[45.31189572048577, 36.38317068198775]</td>\n",
       "      <td>[30.490085836306232, 34.91627159792731]</td>\n",
       "      <td>[60.10744182471764, 34.262899786598894]</td>\n",
       "      <td>1.4</td>\n",
       "      <td>[[[46.71964110607613, 36.493379374373234], [44...</td>\n",
       "      <td>[[[50.63276479731981, 10.511614189582007], [51...</td>\n",
       "      <td>[4.04, 3.848, 3.658, 3.475, 3.291, 3.113, 2.94...</td>\n",
       "      <td>[4.402, 3.873, 3.361, 2.87, 2.398, 1.946, 1.51...</td>\n",
       "      <td>[4.633, 4.09, 4.36, 4.656, 4.65, 4.383, 4.35, ...</td>\n",
       "      <td>[28.12, 28.16, 28.22, 28.06, 27.9, 27.9, 27.9,...</td>\n",
       "    </tr>\n",
       "    <tr>\n",
       "      <th>6</th>\n",
       "      <td>2</td>\n",
       "      <td>20230613_105657_standard_comp_to_training_D2_s...</td>\n",
       "      <td>[[916, 1117], [3312, 3513], [5608, 5808], [740...</td>\n",
       "      <td>[[49, 67], [70, 79], [360, 366], [460, 469], [...</td>\n",
       "      <td>[[33601, 33798], [34108, 34165], [34166, 34179...</td>\n",
       "      <td>20230613_105657_standard_comp_to_training_D2_s...</td>\n",
       "      <td>/scratch/back_up/reward_competition_extention/...</td>\n",
       "      <td>20230613_105657_standard_comp_to_training_D2_s...</td>\n",
       "      <td>1.4</td>\n",
       "      <td>1.4</td>\n",
       "      <td>...</td>\n",
       "      <td>[45.31189572048577, 36.38317068198775]</td>\n",
       "      <td>[30.490085836306232, 34.91627159792731]</td>\n",
       "      <td>[60.10744182471764, 34.262899786598894]</td>\n",
       "      <td>1.1</td>\n",
       "      <td>[[[50.63276479731981, 10.511614189582007], [51...</td>\n",
       "      <td>[[[46.71964110607613, 36.493379374373234], [44...</td>\n",
       "      <td>[4.402, 3.873, 3.361, 2.87, 2.398, 1.946, 1.51...</td>\n",
       "      <td>[4.04, 3.848, 3.658, 3.475, 3.291, 3.113, 2.94...</td>\n",
       "      <td>[28.12, 28.16, 28.22, 28.06, 27.9, 27.9, 27.9,...</td>\n",
       "      <td>[4.633, 4.09, 4.36, 4.656, 4.65, 4.383, 4.35, ...</td>\n",
       "    </tr>\n",
       "    <tr>\n",
       "      <th>9</th>\n",
       "      <td>2</td>\n",
       "      <td>20230614_114041_standard_comp_to_training_D3_s...</td>\n",
       "      <td>[[855, 1055], [3251, 3450], [5546, 5747], [734...</td>\n",
       "      <td>[[21, 27], [111, 126], [278, 321], [339, 393],...</td>\n",
       "      <td>[[33073, 33085], [33091, 33093], [33094, 33094...</td>\n",
       "      <td>20230614_114041_standard_comp_to_training_D3_s...</td>\n",
       "      <td>/scratch/back_up/reward_competition_extention/...</td>\n",
       "      <td>20230614_114041_standard_comp_to_training_D3_s...</td>\n",
       "      <td>1.1</td>\n",
       "      <td>1.1</td>\n",
       "      <td>...</td>\n",
       "      <td>[45.44232917370965, 36.91440422283628]</td>\n",
       "      <td>[30.339373669373565, 35.17083382117832]</td>\n",
       "      <td>[59.562580691926456, 34.99992452187238]</td>\n",
       "      <td>1.2</td>\n",
       "      <td>[[[44.962146067447776, 33.875261125037554], [4...</td>\n",
       "      <td>[[[52.756810221797416, 36.78031943889759], [52...</td>\n",
       "      <td>[8.55, 7.92, 7.3, 6.69, 6.09, 5.496, 4.918, 4....</td>\n",
       "      <td>[31.56, 28.44, 25.4, 22.5, 19.67, 16.97, 14.37...</td>\n",
       "      <td>[5.957, 5.52, 5.055, 4.99, 4.484, 4.047, 4.195...</td>\n",
       "      <td>[10.77, 10.75, 10.76, 10.91, 10.95, 11.234, 11...</td>\n",
       "    </tr>\n",
       "  </tbody>\n",
       "</table>\n",
       "<p>5 rows × 42 columns</p>\n",
       "</div>"
      ],
      "text/plain": [
       "   cohort                                        session_dir  \\\n",
       "0       2  20230612_112630_standard_comp_to_training_D1_s...   \n",
       "3       2  20230612_112630_standard_comp_to_training_D1_s...   \n",
       "5       2  20230613_105657_standard_comp_to_training_D2_s...   \n",
       "6       2  20230613_105657_standard_comp_to_training_D2_s...   \n",
       "9       2  20230614_114041_standard_comp_to_training_D3_s...   \n",
       "\n",
       "                                         tone_frames  \\\n",
       "0  [[1125, 1324], [3519, 3720], [5815, 6014], [76...   \n",
       "3  [[1125, 1324], [3519, 3720], [5815, 6014], [76...   \n",
       "5  [[916, 1117], [3312, 3513], [5608, 5808], [740...   \n",
       "6  [[916, 1117], [3312, 3513], [5608, 5808], [740...   \n",
       "9  [[855, 1055], [3251, 3450], [5546, 5747], [734...   \n",
       "\n",
       "                             box_1_port_entry_frames  \\\n",
       "0  [[192, 248], [389, 405], [916, 929], [929, 948...   \n",
       "3  [[192, 248], [389, 405], [916, 929], [929, 948...   \n",
       "5  [[49, 67], [70, 79], [360, 366], [460, 469], [...   \n",
       "6  [[49, 67], [70, 79], [360, 366], [460, 469], [...   \n",
       "9  [[21, 27], [111, 126], [278, 321], [339, 393],...   \n",
       "\n",
       "                             box_2_port_entry_frames  \\\n",
       "0  [[33019, 33020], [33246, 33251], [33253, 33255...   \n",
       "3  [[33019, 33020], [33246, 33251], [33253, 33255...   \n",
       "5  [[33601, 33798], [34108, 34165], [34166, 34179...   \n",
       "6  [[33601, 33798], [34108, 34165], [34166, 34179...   \n",
       "9  [[33073, 33085], [33091, 33093], [33094, 33094...   \n",
       "\n",
       "                                          video_name  \\\n",
       "0  20230612_112630_standard_comp_to_training_D1_s...   \n",
       "3  20230612_112630_standard_comp_to_training_D1_s...   \n",
       "5  20230613_105657_standard_comp_to_training_D2_s...   \n",
       "6  20230613_105657_standard_comp_to_training_D2_s...   \n",
       "9  20230614_114041_standard_comp_to_training_D3_s...   \n",
       "\n",
       "                                        session_path  \\\n",
       "0  /scratch/back_up/reward_competition_extention/...   \n",
       "3  /scratch/back_up/reward_competition_extention/...   \n",
       "5  /scratch/back_up/reward_competition_extention/...   \n",
       "6  /scratch/back_up/reward_competition_extention/...   \n",
       "9  /scratch/back_up/reward_competition_extention/...   \n",
       "\n",
       "                                           recording current_subject subject  \\\n",
       "0  20230612_112630_standard_comp_to_training_D1_s...             1.1     1.1   \n",
       "3  20230612_112630_standard_comp_to_training_D1_s...             1.2     1.2   \n",
       "5  20230613_105657_standard_comp_to_training_D2_s...             1.1     1.1   \n",
       "6  20230613_105657_standard_comp_to_training_D2_s...             1.4     1.4   \n",
       "9  20230614_114041_standard_comp_to_training_D3_s...             1.1     1.1   \n",
       "\n",
       "   ...                             reward_port  \\\n",
       "0  ...  [45.23441700698972, 35.83828707637651]   \n",
       "3  ...  [45.23441700698972, 35.83828707637651]   \n",
       "5  ...  [45.31189572048577, 36.38317068198775]   \n",
       "6  ...  [45.31189572048577, 36.38317068198775]   \n",
       "9  ...  [45.44232917370965, 36.91440422283628]   \n",
       "\n",
       "                           box_bottom_left  \\\n",
       "0  [30.458913657178506, 34.21867013031604]   \n",
       "3  [30.458913657178506, 34.21867013031604]   \n",
       "5  [30.490085836306232, 34.91627159792731]   \n",
       "6  [30.490085836306232, 34.91627159792731]   \n",
       "9  [30.339373669373565, 35.17083382117832]   \n",
       "\n",
       "                          box_bottom_right agent  \\\n",
       "0   [59.89132415244771, 34.13310301149612]   1.2   \n",
       "3   [59.89132415244771, 34.13310301149612]   1.1   \n",
       "5  [60.10744182471764, 34.262899786598894]   1.4   \n",
       "6  [60.10744182471764, 34.262899786598894]   1.1   \n",
       "9  [59.562580691926456, 34.99992452187238]   1.2   \n",
       "\n",
       "                                   subject_locations  \\\n",
       "0  [[[46.68890098287189, 11.495085446056166], [43...   \n",
       "3  [[[34.36404036584844, 35.615553316175784], [34...   \n",
       "5  [[[46.71964110607613, 36.493379374373234], [44...   \n",
       "6  [[[50.63276479731981, 10.511614189582007], [51...   \n",
       "9  [[[44.962146067447776, 33.875261125037554], [4...   \n",
       "\n",
       "                                     agent_locations  \\\n",
       "0  [[[34.36404036584844, 35.615553316175784], [34...   \n",
       "3  [[[46.68890098287189, 11.495085446056166], [43...   \n",
       "5  [[[50.63276479731981, 10.511614189582007], [51...   \n",
       "6  [[[46.71964110607613, 36.493379374373234], [44...   \n",
       "9  [[[52.756810221797416, 36.78031943889759], [52...   \n",
       "\n",
       "                             subject_thorax_velocity  \\\n",
       "0  [1.8125, 1.707, 1.6045, 1.506, 1.409, 1.315, 1...   \n",
       "3  [14.336, 12.875, 11.47, 10.11, 8.81, 7.57, 6.3...   \n",
       "5  [4.04, 3.848, 3.658, 3.475, 3.291, 3.113, 2.94...   \n",
       "6  [4.402, 3.873, 3.361, 2.87, 2.398, 1.946, 1.51...   \n",
       "9  [8.55, 7.92, 7.3, 6.69, 6.09, 5.496, 4.918, 4....   \n",
       "\n",
       "                               agent_thorax_velocity  \\\n",
       "0  [14.336, 12.875, 11.47, 10.11, 8.81, 7.57, 6.3...   \n",
       "3  [1.8125, 1.707, 1.6045, 1.506, 1.409, 1.315, 1...   \n",
       "5  [4.402, 3.873, 3.361, 2.87, 2.398, 1.946, 1.51...   \n",
       "6  [4.04, 3.848, 3.658, 3.475, 3.291, 3.113, 2.94...   \n",
       "9  [31.56, 28.44, 25.4, 22.5, 19.67, 16.97, 14.37...   \n",
       "\n",
       "                       subject_thorax_to_reward_port  \\\n",
       "0  [26.45, 26.16, 26.1, 25.77, 25.72, 25.78, 26.1...   \n",
       "3  [6.11, 6.06, 6.125, 6.566, 6.605, 6.676, 7.13,...   \n",
       "5  [4.633, 4.09, 4.36, 4.656, 4.65, 4.383, 4.35, ...   \n",
       "6  [28.12, 28.16, 28.22, 28.06, 27.9, 27.9, 27.9,...   \n",
       "9  [5.957, 5.52, 5.055, 4.99, 4.484, 4.047, 4.195...   \n",
       "\n",
       "                         agent_thorax_to_reward_port  \n",
       "0  [6.11, 6.06, 6.125, 6.566, 6.605, 6.676, 7.13,...  \n",
       "3  [26.45, 26.16, 26.1, 25.77, 25.72, 25.78, 26.1...  \n",
       "5  [28.12, 28.16, 28.22, 28.06, 27.9, 27.9, 27.9,...  \n",
       "6  [4.633, 4.09, 4.36, 4.656, 4.65, 4.383, 4.35, ...  \n",
       "9  [10.77, 10.75, 10.76, 10.91, 10.95, 11.234, 11...  \n",
       "\n",
       "[5 rows x 42 columns]"
      ]
     },
     "execution_count": 32,
     "metadata": {},
     "output_type": "execute_result"
    }
   ],
   "source": [
    "LFP_DF.head()"
   ]
  },
  {
   "cell_type": "code",
   "execution_count": 33,
   "metadata": {
    "tags": []
   },
   "outputs": [
    {
     "data": {
      "text/plain": [
       "array(['20230612_112630_standard_comp_to_training_D1_subj_1-2_and_1-1.1',\n",
       "       '20230613_105657_standard_comp_to_training_D2_subj_1-1_and_1-4.1',\n",
       "       '20230614_114041_standard_comp_to_training_D3_subj_1-1_and_1-2.1',\n",
       "       '20230616_111904_standard_comp_to_training_D4_subj_1-4_and_1-2.1',\n",
       "       '20230617_115521_standard_comp_to_omission_D1_subj_1-1_and_1-2.1',\n",
       "       '20230618_100636_standard_comp_to_omission_D2_subj_1-4_and_1-1.1',\n",
       "       '20230620_114347_standard_comp_to_omission_D4_subj_1-2_and_1-1.1',\n",
       "       '20230621_111240_standard_comp_to_omission_D5_subj_1-4_and_1-2.1',\n",
       "       '20230622_110832_standard_comp_to_both_rewarded_D1_subj_1-1_and_1-2.1',\n",
       "       '20230624_105855_standard_comp_to_both_rewarded_D3_subj_1-2_and_1-4.1',\n",
       "       '20230625_112913_standard_comp_to_both_rewarded_D4_subj_1-1_and_1-4.1',\n",
       "       '20230628_111202_standard_comp_to_novel_agent_D1_subj_1-1vs2-2and1-2vs2-1.1',\n",
       "       '20230628_111202_standard_comp_to_novel_agent_D1_subj_1-1vs2-2and1-2vs2-1.4',\n",
       "       '20230629_111937_standard_comp_to_novel_agent_D2_subj_1-1vs2-1and1-4vs2-2.1',\n",
       "       '20230629_111937_standard_comp_to_novel_agent_D2_subj_1-1vs2-1and1-4vs2-2.2',\n",
       "       '20230630_115506_standard_comp_to_novel_agent_D3_subj_1-4vs2-1and1-2vs2-2.1',\n",
       "       '20230630_115506_standard_comp_to_novel_agent_D3_subj_1-4vs2-1and1-2vs2-2.2'],\n",
       "      dtype=object)"
      ]
     },
     "execution_count": 33,
     "metadata": {},
     "output_type": "execute_result"
    }
   ],
   "source": [
    "LFP_DF[\"video_name\"].unique()"
   ]
  },
  {
   "cell_type": "code",
   "execution_count": 34,
   "metadata": {
    "tags": []
   },
   "outputs": [
    {
     "data": {
      "text/plain": [
       "0     [1.1, 1.2]\n",
       "3     [1.1, 1.2]\n",
       "5     [1.1, 1.4]\n",
       "6     [1.1, 1.4]\n",
       "9     [1.1, 1.2]\n",
       "11    [1.1, 1.2]\n",
       "13    [1.2, 1.4]\n",
       "16    [1.2, 1.4]\n",
       "18    [1.1, 1.2]\n",
       "19    [1.1, 1.2]\n",
       "21    [1.1, 1.4]\n",
       "24    [1.1, 1.4]\n",
       "26    [1.1, 1.2]\n",
       "29    [1.1, 1.2]\n",
       "31    [1.2, 1.4]\n",
       "32    [1.1, 1.2]\n",
       "33    [1.1, 1.2]\n",
       "34    [1.2, 1.4]\n",
       "35    [1.1, 1.4]\n",
       "36    [1.1, 1.4]\n",
       "37    [1.1, 1.2]\n",
       "38    [1.1, 2.2]\n",
       "39    [1.1, 2.2]\n",
       "40    [1.1, 1.2]\n",
       "41    [1.1, 1.4]\n",
       "42    [1.1, 2.1]\n",
       "43    [1.1, 1.4]\n",
       "44    [1.4, 2.2]\n",
       "45    [1.2, 1.4]\n",
       "46    [1.2, 2.2]\n",
       "47    [1.2, 1.4]\n",
       "48    [1.4, 2.1]\n",
       "Name: tracked_subject, dtype: object"
      ]
     },
     "execution_count": 34,
     "metadata": {},
     "output_type": "execute_result"
    }
   ],
   "source": [
    "LFP_DF[\"tracked_subject\"]"
   ]
  },
  {
   "cell_type": "code",
   "execution_count": 35,
   "metadata": {
    "tags": []
   },
   "outputs": [],
   "source": [
    "LFP_DF[\"tracked_subject\"] = LFP_DF[\"tracked_subject\"].apply(lambda x: \"_\".join([str(subj) for subj in x]))"
   ]
  },
  {
   "cell_type": "code",
   "execution_count": 36,
   "metadata": {
    "tags": []
   },
   "outputs": [],
   "source": [
    "# Example with multiple columns being aggregated\n",
    "GROUPED_TRIAL_LABELS_DF = TRIAL_LABELS_DF.groupby(['video_name', \"current_subject\"]).agg({col: list for col in [_ for _ in TRIAL_LABELS_DF.columns if _ not in [\"video_name\", 'current_subject']]  # Aggregating into a list\n",
    "    # Other columns can be aggregated differently here\n",
    "}).reset_index()"
   ]
  },
  {
   "cell_type": "code",
   "execution_count": 37,
   "metadata": {
    "tags": []
   },
   "outputs": [
    {
     "data": {
      "text/html": [
       "<div>\n",
       "<style scoped>\n",
       "    .dataframe tbody tr th:only-of-type {\n",
       "        vertical-align: middle;\n",
       "    }\n",
       "\n",
       "    .dataframe tbody tr th {\n",
       "        vertical-align: top;\n",
       "    }\n",
       "\n",
       "    .dataframe thead th {\n",
       "        text-align: right;\n",
       "    }\n",
       "</style>\n",
       "<table border=\"1\" class=\"dataframe\">\n",
       "  <thead>\n",
       "    <tr style=\"text-align: right;\">\n",
       "      <th></th>\n",
       "      <th>video_name</th>\n",
       "      <th>current_subject</th>\n",
       "      <th>tracked_subject</th>\n",
       "      <th>box_number</th>\n",
       "      <th>sleap_name</th>\n",
       "      <th>tone_start_frame</th>\n",
       "      <th>reward_start_frame</th>\n",
       "      <th>tone_stop_frame</th>\n",
       "      <th>condition</th>\n",
       "      <th>competition_closeness</th>\n",
       "      <th>notes</th>\n",
       "      <th>experiment</th>\n",
       "      <th>session_dir</th>\n",
       "      <th>all_subjects</th>\n",
       "      <th>tone_start_timestamp</th>\n",
       "      <th>tone_stop_timestamp</th>\n",
       "      <th>trial_label</th>\n",
       "    </tr>\n",
       "  </thead>\n",
       "  <tbody>\n",
       "    <tr>\n",
       "      <th>0</th>\n",
       "      <td>20230612_112630_standard_comp_to_training_D1_s...</td>\n",
       "      <td>1.1</td>\n",
       "      <td>[1.1_1.2, 1.1_1.2, 1.1_1.2, 1.1_1.2, 1.1_1.2, ...</td>\n",
       "      <td>[1, 1, 1, 1, 1, 1, 1, 1, 1, 1, 1, 1, 1, 1, 1, ...</td>\n",
       "      <td>[20230612_112630_standard_comp_to_training_D1_...</td>\n",
       "      <td>[1125, 3519, 5815, 7612, 8709, 9708, 11604, 13...</td>\n",
       "      <td>[1225, 3619, 5915, 7712, 8809, 9808, 11704, 13...</td>\n",
       "      <td>[1324, 3720, 6014, 7811, 8910, 9907, 11804, 13...</td>\n",
       "      <td>[1.1, 1.2, 1.2, 1.2, 1.2, 1.2, 1.2, 1.2, 1.2, ...</td>\n",
       "      <td>[competitive, no_comp, competitive, no_comp, n...</td>\n",
       "      <td>[nan, nan, nan, nan, nan, nan, nan, nan, nan, ...</td>\n",
       "      <td>[standard, standard, standard, standard, stand...</td>\n",
       "      <td>[20230612_112630_standard_comp_to_training_D1_...</td>\n",
       "      <td>[['1.1', '1.2'], ['1.1', '1.2'], ['1.1', '1.2'...</td>\n",
       "      <td>[1126742, 3526740, 5826740, 7626736, 8726734, ...</td>\n",
       "      <td>[1326741, 3726740, 6026737, 7826735, 8926734, ...</td>\n",
       "      <td>[win, lose, lose, lose, lose, lose, lose, lose...</td>\n",
       "    </tr>\n",
       "    <tr>\n",
       "      <th>1</th>\n",
       "      <td>20230612_112630_standard_comp_to_training_D1_s...</td>\n",
       "      <td>1.2</td>\n",
       "      <td>[1.1_1.2, 1.1_1.2, 1.1_1.2, 1.1_1.2, 1.1_1.2, ...</td>\n",
       "      <td>[1, 1, 1, 1, 1, 1, 1, 1, 1, 1, 1, 1, 1, 1, 1, ...</td>\n",
       "      <td>[20230612_112630_standard_comp_to_training_D1_...</td>\n",
       "      <td>[1125, 3519, 5815, 7612, 8709, 9708, 11604, 13...</td>\n",
       "      <td>[1225, 3619, 5915, 7712, 8809, 9808, 11704, 13...</td>\n",
       "      <td>[1324, 3720, 6014, 7811, 8910, 9907, 11804, 13...</td>\n",
       "      <td>[1.1, 1.2, 1.2, 1.2, 1.2, 1.2, 1.2, 1.2, 1.2, ...</td>\n",
       "      <td>[competitive, no_comp, competitive, no_comp, n...</td>\n",
       "      <td>[nan, nan, nan, nan, nan, nan, nan, nan, nan, ...</td>\n",
       "      <td>[standard, standard, standard, standard, stand...</td>\n",
       "      <td>[20230612_112630_standard_comp_to_training_D1_...</td>\n",
       "      <td>[['1.1', '1.2'], ['1.1', '1.2'], ['1.1', '1.2'...</td>\n",
       "      <td>[1126742, 3526740, 5826740, 7626736, 8726734, ...</td>\n",
       "      <td>[1326741, 3726740, 6026737, 7826735, 8926734, ...</td>\n",
       "      <td>[lose, win, win, win, win, win, win, win, win,...</td>\n",
       "    </tr>\n",
       "    <tr>\n",
       "      <th>2</th>\n",
       "      <td>20230612_112630_standard_comp_to_training_D1_s...</td>\n",
       "      <td>1.1</td>\n",
       "      <td>[1.1, 1.1, 1.1, 1.1, 1.1, 1.1, 1.1, 1.1, 1.1, ...</td>\n",
       "      <td>[2, 2, 2, 2, 2, 2, 2, 2, 2, 2, 2, 2, 2, 2, 2, ...</td>\n",
       "      <td>[20230612_112630_standard_comp_to_training_D1_...</td>\n",
       "      <td>[37056, 38254, 39352, 40650, 41747, 42746, 437...</td>\n",
       "      <td>[37156, 38354, 39452, 40750, 41847, 42846, 438...</td>\n",
       "      <td>[37256, 38453, 39552, 40849, 41947, 42945, 439...</td>\n",
       "      <td>[rewarded, rewarded, rewarded, rewarded, rewar...</td>\n",
       "      <td>[nan, nan, nan, nan, nan, nan, nan, nan, nan, ...</td>\n",
       "      <td>[nan, nan, nan, nan, nan, nan, nan, nan, nan, ...</td>\n",
       "      <td>[standard, standard, standard, standard, stand...</td>\n",
       "      <td>[20230612_112630_standard_comp_to_training_D1_...</td>\n",
       "      <td>[['1.1', '1.2'], ['1.1', '1.2'], ['1.1', '1.2'...</td>\n",
       "      <td>[37126704, 38326703, 39426702, 40726701, 41826...</td>\n",
       "      <td>[37326704, 38526703, 39626701, 40926700, 42026...</td>\n",
       "      <td>[rewarded, rewarded, rewarded, rewarded, rewar...</td>\n",
       "    </tr>\n",
       "    <tr>\n",
       "      <th>3</th>\n",
       "      <td>20230613_105657_standard_comp_to_training_D2_s...</td>\n",
       "      <td>1.1</td>\n",
       "      <td>[1.1_1.4, 1.1_1.4, 1.1_1.4, 1.1_1.4, 1.1_1.4, ...</td>\n",
       "      <td>[1, 1, 1, 1, 1, 1, 1, 1, 1, 1, 1, 1, 1, 1, 1, ...</td>\n",
       "      <td>[20230613_105657_standard_comp_to_training_D2_...</td>\n",
       "      <td>[916, 3312, 5608, 7405, 8502, 9501, 11397, 128...</td>\n",
       "      <td>[1016, 3412, 5708, 7505, 8602, 9601, 11497, 12...</td>\n",
       "      <td>[1117, 3513, 5808, 7604, 8703, 9700, 11596, 13...</td>\n",
       "      <td>[1.4, 1.1, 1.1, 1.1, 1.1, 1.1, 1.1, 1.1, 1.1, ...</td>\n",
       "      <td>[no_comp, no_comp, competitive, competitive, c...</td>\n",
       "      <td>[nan, nan, nan, nan, nan, nan, nan, nan, nan, ...</td>\n",
       "      <td>[standard, standard, standard, standard, stand...</td>\n",
       "      <td>[20230613_105657_standard_comp_to_training_D2_...</td>\n",
       "      <td>[['1.1', '1.4'], ['1.1', '1.4'], ['1.1', '1.4'...</td>\n",
       "      <td>[918755, 3318755, 5618754, 7418755, 8518752, 9...</td>\n",
       "      <td>[1118758, 3518757, 5818753, 7618752, 8718757, ...</td>\n",
       "      <td>[lose, win, win, win, win, win, win, win, win,...</td>\n",
       "    </tr>\n",
       "    <tr>\n",
       "      <th>4</th>\n",
       "      <td>20230613_105657_standard_comp_to_training_D2_s...</td>\n",
       "      <td>1.4</td>\n",
       "      <td>[1.1_1.4, 1.1_1.4, 1.1_1.4, 1.1_1.4, 1.1_1.4, ...</td>\n",
       "      <td>[1, 1, 1, 1, 1, 1, 1, 1, 1, 1, 1, 1, 1, 1, 1, ...</td>\n",
       "      <td>[20230613_105657_standard_comp_to_training_D2_...</td>\n",
       "      <td>[916, 3312, 5608, 7405, 8502, 9501, 11397, 128...</td>\n",
       "      <td>[1016, 3412, 5708, 7505, 8602, 9601, 11497, 12...</td>\n",
       "      <td>[1117, 3513, 5808, 7604, 8703, 9700, 11596, 13...</td>\n",
       "      <td>[1.4, 1.1, 1.1, 1.1, 1.1, 1.1, 1.1, 1.1, 1.1, ...</td>\n",
       "      <td>[no_comp, no_comp, competitive, competitive, c...</td>\n",
       "      <td>[nan, nan, nan, nan, nan, nan, nan, nan, nan, ...</td>\n",
       "      <td>[standard, standard, standard, standard, stand...</td>\n",
       "      <td>[20230613_105657_standard_comp_to_training_D2_...</td>\n",
       "      <td>[['1.1', '1.4'], ['1.1', '1.4'], ['1.1', '1.4'...</td>\n",
       "      <td>[918755, 3318755, 5618754, 7418755, 8518752, 9...</td>\n",
       "      <td>[1118758, 3518757, 5818753, 7618752, 8718757, ...</td>\n",
       "      <td>[win, lose, lose, lose, lose, lose, lose, lose...</td>\n",
       "    </tr>\n",
       "  </tbody>\n",
       "</table>\n",
       "</div>"
      ],
      "text/plain": [
       "                                          video_name current_subject  \\\n",
       "0  20230612_112630_standard_comp_to_training_D1_s...             1.1   \n",
       "1  20230612_112630_standard_comp_to_training_D1_s...             1.2   \n",
       "2  20230612_112630_standard_comp_to_training_D1_s...             1.1   \n",
       "3  20230613_105657_standard_comp_to_training_D2_s...             1.1   \n",
       "4  20230613_105657_standard_comp_to_training_D2_s...             1.4   \n",
       "\n",
       "                                     tracked_subject  \\\n",
       "0  [1.1_1.2, 1.1_1.2, 1.1_1.2, 1.1_1.2, 1.1_1.2, ...   \n",
       "1  [1.1_1.2, 1.1_1.2, 1.1_1.2, 1.1_1.2, 1.1_1.2, ...   \n",
       "2  [1.1, 1.1, 1.1, 1.1, 1.1, 1.1, 1.1, 1.1, 1.1, ...   \n",
       "3  [1.1_1.4, 1.1_1.4, 1.1_1.4, 1.1_1.4, 1.1_1.4, ...   \n",
       "4  [1.1_1.4, 1.1_1.4, 1.1_1.4, 1.1_1.4, 1.1_1.4, ...   \n",
       "\n",
       "                                          box_number  \\\n",
       "0  [1, 1, 1, 1, 1, 1, 1, 1, 1, 1, 1, 1, 1, 1, 1, ...   \n",
       "1  [1, 1, 1, 1, 1, 1, 1, 1, 1, 1, 1, 1, 1, 1, 1, ...   \n",
       "2  [2, 2, 2, 2, 2, 2, 2, 2, 2, 2, 2, 2, 2, 2, 2, ...   \n",
       "3  [1, 1, 1, 1, 1, 1, 1, 1, 1, 1, 1, 1, 1, 1, 1, ...   \n",
       "4  [1, 1, 1, 1, 1, 1, 1, 1, 1, 1, 1, 1, 1, 1, 1, ...   \n",
       "\n",
       "                                          sleap_name  \\\n",
       "0  [20230612_112630_standard_comp_to_training_D1_...   \n",
       "1  [20230612_112630_standard_comp_to_training_D1_...   \n",
       "2  [20230612_112630_standard_comp_to_training_D1_...   \n",
       "3  [20230613_105657_standard_comp_to_training_D2_...   \n",
       "4  [20230613_105657_standard_comp_to_training_D2_...   \n",
       "\n",
       "                                    tone_start_frame  \\\n",
       "0  [1125, 3519, 5815, 7612, 8709, 9708, 11604, 13...   \n",
       "1  [1125, 3519, 5815, 7612, 8709, 9708, 11604, 13...   \n",
       "2  [37056, 38254, 39352, 40650, 41747, 42746, 437...   \n",
       "3  [916, 3312, 5608, 7405, 8502, 9501, 11397, 128...   \n",
       "4  [916, 3312, 5608, 7405, 8502, 9501, 11397, 128...   \n",
       "\n",
       "                                  reward_start_frame  \\\n",
       "0  [1225, 3619, 5915, 7712, 8809, 9808, 11704, 13...   \n",
       "1  [1225, 3619, 5915, 7712, 8809, 9808, 11704, 13...   \n",
       "2  [37156, 38354, 39452, 40750, 41847, 42846, 438...   \n",
       "3  [1016, 3412, 5708, 7505, 8602, 9601, 11497, 12...   \n",
       "4  [1016, 3412, 5708, 7505, 8602, 9601, 11497, 12...   \n",
       "\n",
       "                                     tone_stop_frame  \\\n",
       "0  [1324, 3720, 6014, 7811, 8910, 9907, 11804, 13...   \n",
       "1  [1324, 3720, 6014, 7811, 8910, 9907, 11804, 13...   \n",
       "2  [37256, 38453, 39552, 40849, 41947, 42945, 439...   \n",
       "3  [1117, 3513, 5808, 7604, 8703, 9700, 11596, 13...   \n",
       "4  [1117, 3513, 5808, 7604, 8703, 9700, 11596, 13...   \n",
       "\n",
       "                                           condition  \\\n",
       "0  [1.1, 1.2, 1.2, 1.2, 1.2, 1.2, 1.2, 1.2, 1.2, ...   \n",
       "1  [1.1, 1.2, 1.2, 1.2, 1.2, 1.2, 1.2, 1.2, 1.2, ...   \n",
       "2  [rewarded, rewarded, rewarded, rewarded, rewar...   \n",
       "3  [1.4, 1.1, 1.1, 1.1, 1.1, 1.1, 1.1, 1.1, 1.1, ...   \n",
       "4  [1.4, 1.1, 1.1, 1.1, 1.1, 1.1, 1.1, 1.1, 1.1, ...   \n",
       "\n",
       "                               competition_closeness  \\\n",
       "0  [competitive, no_comp, competitive, no_comp, n...   \n",
       "1  [competitive, no_comp, competitive, no_comp, n...   \n",
       "2  [nan, nan, nan, nan, nan, nan, nan, nan, nan, ...   \n",
       "3  [no_comp, no_comp, competitive, competitive, c...   \n",
       "4  [no_comp, no_comp, competitive, competitive, c...   \n",
       "\n",
       "                                               notes  \\\n",
       "0  [nan, nan, nan, nan, nan, nan, nan, nan, nan, ...   \n",
       "1  [nan, nan, nan, nan, nan, nan, nan, nan, nan, ...   \n",
       "2  [nan, nan, nan, nan, nan, nan, nan, nan, nan, ...   \n",
       "3  [nan, nan, nan, nan, nan, nan, nan, nan, nan, ...   \n",
       "4  [nan, nan, nan, nan, nan, nan, nan, nan, nan, ...   \n",
       "\n",
       "                                          experiment  \\\n",
       "0  [standard, standard, standard, standard, stand...   \n",
       "1  [standard, standard, standard, standard, stand...   \n",
       "2  [standard, standard, standard, standard, stand...   \n",
       "3  [standard, standard, standard, standard, stand...   \n",
       "4  [standard, standard, standard, standard, stand...   \n",
       "\n",
       "                                         session_dir  \\\n",
       "0  [20230612_112630_standard_comp_to_training_D1_...   \n",
       "1  [20230612_112630_standard_comp_to_training_D1_...   \n",
       "2  [20230612_112630_standard_comp_to_training_D1_...   \n",
       "3  [20230613_105657_standard_comp_to_training_D2_...   \n",
       "4  [20230613_105657_standard_comp_to_training_D2_...   \n",
       "\n",
       "                                        all_subjects  \\\n",
       "0  [['1.1', '1.2'], ['1.1', '1.2'], ['1.1', '1.2'...   \n",
       "1  [['1.1', '1.2'], ['1.1', '1.2'], ['1.1', '1.2'...   \n",
       "2  [['1.1', '1.2'], ['1.1', '1.2'], ['1.1', '1.2'...   \n",
       "3  [['1.1', '1.4'], ['1.1', '1.4'], ['1.1', '1.4'...   \n",
       "4  [['1.1', '1.4'], ['1.1', '1.4'], ['1.1', '1.4'...   \n",
       "\n",
       "                                tone_start_timestamp  \\\n",
       "0  [1126742, 3526740, 5826740, 7626736, 8726734, ...   \n",
       "1  [1126742, 3526740, 5826740, 7626736, 8726734, ...   \n",
       "2  [37126704, 38326703, 39426702, 40726701, 41826...   \n",
       "3  [918755, 3318755, 5618754, 7418755, 8518752, 9...   \n",
       "4  [918755, 3318755, 5618754, 7418755, 8518752, 9...   \n",
       "\n",
       "                                 tone_stop_timestamp  \\\n",
       "0  [1326741, 3726740, 6026737, 7826735, 8926734, ...   \n",
       "1  [1326741, 3726740, 6026737, 7826735, 8926734, ...   \n",
       "2  [37326704, 38526703, 39626701, 40926700, 42026...   \n",
       "3  [1118758, 3518757, 5818753, 7618752, 8718757, ...   \n",
       "4  [1118758, 3518757, 5818753, 7618752, 8718757, ...   \n",
       "\n",
       "                                         trial_label  \n",
       "0  [win, lose, lose, lose, lose, lose, lose, lose...  \n",
       "1  [lose, win, win, win, win, win, win, win, win,...  \n",
       "2  [rewarded, rewarded, rewarded, rewarded, rewar...  \n",
       "3  [lose, win, win, win, win, win, win, win, win,...  \n",
       "4  [win, lose, lose, lose, lose, lose, lose, lose...  "
      ]
     },
     "execution_count": 37,
     "metadata": {},
     "output_type": "execute_result"
    }
   ],
   "source": [
    "GROUPED_TRIAL_LABELS_DF.head()"
   ]
  },
  {
   "cell_type": "markdown",
   "metadata": {},
   "source": [
    "## Merging the labels and LFP"
   ]
  },
  {
   "cell_type": "code",
   "execution_count": 38,
   "metadata": {
    "tags": []
   },
   "outputs": [],
   "source": [
    "TRIALS_AND_LFP_DF = pd.merge(GROUPED_TRIAL_LABELS_DF, LFP_DF, on=[\"current_subject\", \"video_name\"], how=\"inner\", suffixes=('', '_y'))"
   ]
  },
  {
   "cell_type": "code",
   "execution_count": 39,
   "metadata": {
    "tags": []
   },
   "outputs": [
    {
     "name": "stdout",
     "output_type": "stream",
     "text": [
      "video_name\n",
      "current_subject\n",
      "tracked_subject\n",
      "box_number\n",
      "sleap_name\n",
      "tone_start_frame\n",
      "reward_start_frame\n",
      "tone_stop_frame\n",
      "condition\n",
      "competition_closeness\n",
      "notes\n",
      "experiment\n",
      "session_dir\n",
      "all_subjects\n",
      "tone_start_timestamp\n",
      "tone_stop_timestamp\n",
      "trial_label\n",
      "cohort\n",
      "session_dir_y\n",
      "tone_frames\n",
      "box_1_port_entry_frames\n",
      "box_2_port_entry_frames\n",
      "session_path\n",
      "recording\n",
      "subject\n",
      "all_subjects_y\n",
      "first_timestamp\n",
      "last_timestamp\n",
      "video_timestamps\n",
      "tone_timestamps\n",
      "box_1_port_entry_timestamps\n",
      "box_2_port_entry_timestamps\n",
      "lfp_timestamps\n",
      "mPFC_lfp_trace\n",
      "MD_lfp_trace\n",
      "LH_lfp_trace\n",
      "BLA_lfp_trace\n",
      "vHPC_lfp_trace\n",
      "start_frame\n",
      "stop_frame\n",
      "tracked_subject_y\n",
      "in_video_subjects\n",
      "box_number_y\n",
      "sleap_name_y\n",
      "body_parts\n",
      "box_top_left\n",
      "box_top_right\n",
      "reward_port\n",
      "box_bottom_left\n",
      "box_bottom_right\n",
      "agent\n",
      "subject_locations\n",
      "agent_locations\n",
      "subject_thorax_velocity\n",
      "agent_thorax_velocity\n",
      "subject_thorax_to_reward_port\n",
      "agent_thorax_to_reward_port\n"
     ]
    }
   ],
   "source": [
    "for col in TRIALS_AND_LFP_DF:\n",
    "    print(col)"
   ]
  },
  {
   "cell_type": "code",
   "execution_count": 40,
   "metadata": {
    "tags": []
   },
   "outputs": [],
   "source": [
    "TRIALS_AND_LFP_DF = TRIALS_AND_LFP_DF.drop(columns=[col for col in TRIALS_AND_LFP_DF.columns if \"_y\" in col], errors=\"ignore\")"
   ]
  },
  {
   "cell_type": "code",
   "execution_count": 41,
   "metadata": {
    "tags": []
   },
   "outputs": [],
   "source": [
    "TRIALS_AND_LFP_DF[\"start_stop_frame\"] = TRIALS_AND_LFP_DF.apply(lambda x: (x[\"start_frame\"]-1, x[\"stop_frame\"]-1), axis=1)\n"
   ]
  },
  {
   "cell_type": "code",
   "execution_count": 42,
   "metadata": {
    "tags": []
   },
   "outputs": [],
   "source": [
    "TRIALS_AND_LFP_DF[\"start_stop_timestamps\"] = TRIALS_AND_LFP_DF.apply(lambda x: extract_start_stop_elements(x[\"video_timestamps\"], x[\"start_stop_frame\"][0], x[\"start_stop_frame\"][1]), axis=1)\n"
   ]
  },
  {
   "cell_type": "markdown",
   "metadata": {},
   "source": [
    "- Making all parts of the numpy array that is not part of slice Nans"
   ]
  },
  {
   "cell_type": "code",
   "execution_count": 43,
   "metadata": {
    "tags": []
   },
   "outputs": [],
   "source": [
    "sleap_columns = [\"subject_locations\", \n",
    "                 \"agent_locations\", \n",
    "                 \"subject_thorax_velocity\", \n",
    "                 \"agent_thorax_velocity\", \n",
    "                 \"subject_thorax_to_reward_port\", \n",
    "                 \"agent_thorax_to_reward_port\"]"
   ]
  },
  {
   "cell_type": "code",
   "execution_count": 44,
   "metadata": {},
   "outputs": [],
   "source": [
    "for col in sleap_columns:\n",
    "    TRIALS_AND_LFP_DF[col] = TRIALS_AND_LFP_DF.apply(lambda x: mask_slices(x[col], x[\"start_stop_frame\"]), axis=1)\n"
   ]
  },
  {
   "cell_type": "markdown",
   "metadata": {},
   "source": [
    "- Filtering for frames"
   ]
  },
  {
   "cell_type": "code",
   "execution_count": 45,
   "metadata": {
    "tags": []
   },
   "outputs": [],
   "source": [
    "TRIALS_AND_LFP_DF = TRIALS_AND_LFP_DF.drop(columns=[\"tone_frames\", \"start_frame\", \"stop_frame\"], errors=\"ignore\")"
   ]
  },
  {
   "cell_type": "code",
   "execution_count": null,
   "metadata": {
    "tags": []
   },
   "outputs": [],
   "source": []
  },
  {
   "cell_type": "code",
   "execution_count": 46,
   "metadata": {},
   "outputs": [],
   "source": [
    "TRIALS_AND_LFP_DF[\"tone_mask\"] = TRIALS_AND_LFP_DF.apply(lambda x: filter_array_by_values(x[\"tone_start_frame\"], \n",
    "                                                                                                   x[\"start_stop_frame\"][0], \n",
    "                                                                                                   x[\"start_stop_frame\"][1])[1], axis=1)\n",
    "                                                                                                   "
   ]
  },
  {
   "cell_type": "code",
   "execution_count": 47,
   "metadata": {
    "tags": []
   },
   "outputs": [],
   "source": [
    "for column in [col for col in TRIALS_AND_LFP_DF if \"frame\" in col and col != \"start_stop_frame\"]:\n",
    "    TRIALS_AND_LFP_DF[column] = TRIALS_AND_LFP_DF.apply(lambda x: filter_array_by_values(x[column], \n",
    "                                                                                                   x[\"start_stop_frame\"][0], \n",
    "                                                                                                   x[\"start_stop_frame\"][1])[0], axis=1)\n",
    "                                                                                                   "
   ]
  },
  {
   "cell_type": "code",
   "execution_count": 48,
   "metadata": {
    "tags": []
   },
   "outputs": [],
   "source": [
    "TRIALS_AND_LFP_DF[\"condition\"] = TRIALS_AND_LFP_DF.apply(lambda x: np.array(x[\"condition\"])[x[\"tone_mask\"]], axis=1)"
   ]
  },
  {
   "cell_type": "code",
   "execution_count": 49,
   "metadata": {
    "tags": []
   },
   "outputs": [
    {
     "data": {
      "text/plain": [
       "0    [1.1, 1.2, 1.2, 1.2, 1.2, 1.2, 1.2, 1.2, 1.2, ...\n",
       "1    [1.1, 1.2, 1.2, 1.2, 1.2, 1.2, 1.2, 1.2, 1.2, ...\n",
       "2    [1.4, 1.1, 1.1, 1.1, 1.1, 1.1, 1.1, 1.1, 1.1, ...\n",
       "3    [1.4, 1.1, 1.1, 1.1, 1.1, 1.1, 1.1, 1.1, 1.1, ...\n",
       "4    [1.2, 1.2, 1.1, 1.1, 1.2, 1.1, 1.1, 1.1, 1.1, ...\n",
       "Name: condition, dtype: object"
      ]
     },
     "execution_count": 49,
     "metadata": {},
     "output_type": "execute_result"
    }
   ],
   "source": [
    "TRIALS_AND_LFP_DF[\"condition\"].head()"
   ]
  },
  {
   "cell_type": "code",
   "execution_count": 50,
   "metadata": {
    "tags": []
   },
   "outputs": [
    {
     "data": {
      "text/html": [
       "<div>\n",
       "<style scoped>\n",
       "    .dataframe tbody tr th:only-of-type {\n",
       "        vertical-align: middle;\n",
       "    }\n",
       "\n",
       "    .dataframe tbody tr th {\n",
       "        vertical-align: top;\n",
       "    }\n",
       "\n",
       "    .dataframe thead th {\n",
       "        text-align: right;\n",
       "    }\n",
       "</style>\n",
       "<table border=\"1\" class=\"dataframe\">\n",
       "  <thead>\n",
       "    <tr style=\"text-align: right;\">\n",
       "      <th></th>\n",
       "      <th>video_name</th>\n",
       "      <th>current_subject</th>\n",
       "      <th>tracked_subject</th>\n",
       "      <th>box_number</th>\n",
       "      <th>sleap_name</th>\n",
       "      <th>tone_start_frame</th>\n",
       "      <th>reward_start_frame</th>\n",
       "      <th>tone_stop_frame</th>\n",
       "      <th>condition</th>\n",
       "      <th>competition_closeness</th>\n",
       "      <th>...</th>\n",
       "      <th>agent</th>\n",
       "      <th>subject_locations</th>\n",
       "      <th>agent_locations</th>\n",
       "      <th>subject_thorax_velocity</th>\n",
       "      <th>agent_thorax_velocity</th>\n",
       "      <th>subject_thorax_to_reward_port</th>\n",
       "      <th>agent_thorax_to_reward_port</th>\n",
       "      <th>start_stop_frame</th>\n",
       "      <th>start_stop_timestamps</th>\n",
       "      <th>tone_mask</th>\n",
       "    </tr>\n",
       "  </thead>\n",
       "  <tbody>\n",
       "    <tr>\n",
       "      <th>0</th>\n",
       "      <td>20230612_112630_standard_comp_to_training_D1_s...</td>\n",
       "      <td>1.1</td>\n",
       "      <td>[1.1_1.2, 1.1_1.2, 1.1_1.2, 1.1_1.2, 1.1_1.2, ...</td>\n",
       "      <td>[1, 1, 1, 1, 1, 1, 1, 1, 1, 1, 1, 1, 1, 1, 1, ...</td>\n",
       "      <td>[20230612_112630_standard_comp_to_training_D1_...</td>\n",
       "      <td>[1125, 3519, 5815, 7612, 8709, 9708, 11604, 13...</td>\n",
       "      <td>[1225, 3619, 5915, 7712, 8809, 9808, 11704, 13...</td>\n",
       "      <td>[1324, 3720, 6014, 7811, 8910, 9907, 11804, 13...</td>\n",
       "      <td>[1.1, 1.2, 1.2, 1.2, 1.2, 1.2, 1.2, 1.2, 1.2, ...</td>\n",
       "      <td>[competitive, no_comp, competitive, no_comp, n...</td>\n",
       "      <td>...</td>\n",
       "      <td>1.2</td>\n",
       "      <td>[[[46.68890098287189, 11.495085446056166], [43...</td>\n",
       "      <td>[[[34.36404036584844, 35.615553316175784], [34...</td>\n",
       "      <td>[1.8125, 1.707, 1.6045, 1.506, 1.409, 1.315, 1...</td>\n",
       "      <td>[14.336, 12.875, 11.47, 10.11, 8.81, 7.57, 6.3...</td>\n",
       "      <td>[26.45, 26.16, 26.1, 25.77, 25.72, 25.78, 26.1...</td>\n",
       "      <td>[6.11, 6.06, 6.125, 6.566, 6.605, 6.676, 7.13,...</td>\n",
       "      <td>(0, 32299)</td>\n",
       "      <td>(1384, 32361438)</td>\n",
       "      <td>[True, True, True, True, True, True, True, Tru...</td>\n",
       "    </tr>\n",
       "    <tr>\n",
       "      <th>1</th>\n",
       "      <td>20230612_112630_standard_comp_to_training_D1_s...</td>\n",
       "      <td>1.2</td>\n",
       "      <td>[1.1_1.2, 1.1_1.2, 1.1_1.2, 1.1_1.2, 1.1_1.2, ...</td>\n",
       "      <td>[1, 1, 1, 1, 1, 1, 1, 1, 1, 1, 1, 1, 1, 1, 1, ...</td>\n",
       "      <td>[20230612_112630_standard_comp_to_training_D1_...</td>\n",
       "      <td>[1125, 3519, 5815, 7612, 8709, 9708, 11604, 13...</td>\n",
       "      <td>[1225, 3619, 5915, 7712, 8809, 9808, 11704, 13...</td>\n",
       "      <td>[1324, 3720, 6014, 7811, 8910, 9907, 11804, 13...</td>\n",
       "      <td>[1.1, 1.2, 1.2, 1.2, 1.2, 1.2, 1.2, 1.2, 1.2, ...</td>\n",
       "      <td>[competitive, no_comp, competitive, no_comp, n...</td>\n",
       "      <td>...</td>\n",
       "      <td>1.1</td>\n",
       "      <td>[[[34.36404036584844, 35.615553316175784], [34...</td>\n",
       "      <td>[[[46.68890098287189, 11.495085446056166], [43...</td>\n",
       "      <td>[14.336, 12.875, 11.47, 10.11, 8.81, 7.57, 6.3...</td>\n",
       "      <td>[1.8125, 1.707, 1.6045, 1.506, 1.409, 1.315, 1...</td>\n",
       "      <td>[6.11, 6.06, 6.125, 6.566, 6.605, 6.676, 7.13,...</td>\n",
       "      <td>[26.45, 26.16, 26.1, 25.77, 25.72, 25.78, 26.1...</td>\n",
       "      <td>(0, 32299)</td>\n",
       "      <td>(1384, 32361438)</td>\n",
       "      <td>[True, True, True, True, True, True, True, Tru...</td>\n",
       "    </tr>\n",
       "    <tr>\n",
       "      <th>2</th>\n",
       "      <td>20230613_105657_standard_comp_to_training_D2_s...</td>\n",
       "      <td>1.1</td>\n",
       "      <td>[1.1_1.4, 1.1_1.4, 1.1_1.4, 1.1_1.4, 1.1_1.4, ...</td>\n",
       "      <td>[1, 1, 1, 1, 1, 1, 1, 1, 1, 1, 1, 1, 1, 1, 1, ...</td>\n",
       "      <td>[20230613_105657_standard_comp_to_training_D2_...</td>\n",
       "      <td>[916, 3312, 5608, 7405, 8502, 9501, 11397, 128...</td>\n",
       "      <td>[1016, 3412, 5708, 7505, 8602, 9601, 11497, 12...</td>\n",
       "      <td>[1117, 3513, 5808, 7604, 8703, 9700, 11596, 13...</td>\n",
       "      <td>[1.4, 1.1, 1.1, 1.1, 1.1, 1.1, 1.1, 1.1, 1.1, ...</td>\n",
       "      <td>[no_comp, no_comp, competitive, competitive, c...</td>\n",
       "      <td>...</td>\n",
       "      <td>1.4</td>\n",
       "      <td>[[[46.71964110607613, 36.493379374373234], [44...</td>\n",
       "      <td>[[[50.63276479731981, 10.511614189582007], [51...</td>\n",
       "      <td>[4.04, 3.848, 3.658, 3.475, 3.291, 3.113, 2.94...</td>\n",
       "      <td>[4.402, 3.873, 3.361, 2.87, 2.398, 1.946, 1.51...</td>\n",
       "      <td>[4.633, 4.09, 4.36, 4.656, 4.65, 4.383, 4.35, ...</td>\n",
       "      <td>[28.12, 28.16, 28.22, 28.06, 27.9, 27.9, 27.9,...</td>\n",
       "      <td>(0, 32999)</td>\n",
       "      <td>(1384, 33061302)</td>\n",
       "      <td>[True, True, True, True, True, True, True, Tru...</td>\n",
       "    </tr>\n",
       "    <tr>\n",
       "      <th>3</th>\n",
       "      <td>20230613_105657_standard_comp_to_training_D2_s...</td>\n",
       "      <td>1.4</td>\n",
       "      <td>[1.1_1.4, 1.1_1.4, 1.1_1.4, 1.1_1.4, 1.1_1.4, ...</td>\n",
       "      <td>[1, 1, 1, 1, 1, 1, 1, 1, 1, 1, 1, 1, 1, 1, 1, ...</td>\n",
       "      <td>[20230613_105657_standard_comp_to_training_D2_...</td>\n",
       "      <td>[916, 3312, 5608, 7405, 8502, 9501, 11397, 128...</td>\n",
       "      <td>[1016, 3412, 5708, 7505, 8602, 9601, 11497, 12...</td>\n",
       "      <td>[1117, 3513, 5808, 7604, 8703, 9700, 11596, 13...</td>\n",
       "      <td>[1.4, 1.1, 1.1, 1.1, 1.1, 1.1, 1.1, 1.1, 1.1, ...</td>\n",
       "      <td>[no_comp, no_comp, competitive, competitive, c...</td>\n",
       "      <td>...</td>\n",
       "      <td>1.1</td>\n",
       "      <td>[[[50.63276479731981, 10.511614189582007], [51...</td>\n",
       "      <td>[[[46.71964110607613, 36.493379374373234], [44...</td>\n",
       "      <td>[4.402, 3.873, 3.361, 2.87, 2.398, 1.946, 1.51...</td>\n",
       "      <td>[4.04, 3.848, 3.658, 3.475, 3.291, 3.113, 2.94...</td>\n",
       "      <td>[28.12, 28.16, 28.22, 28.06, 27.9, 27.9, 27.9,...</td>\n",
       "      <td>[4.633, 4.09, 4.36, 4.656, 4.65, 4.383, 4.35, ...</td>\n",
       "      <td>(0, 32999)</td>\n",
       "      <td>(1384, 33061302)</td>\n",
       "      <td>[True, True, True, True, True, True, True, Tru...</td>\n",
       "    </tr>\n",
       "    <tr>\n",
       "      <th>4</th>\n",
       "      <td>20230614_114041_standard_comp_to_training_D3_s...</td>\n",
       "      <td>1.1</td>\n",
       "      <td>[1.1_1.2, 1.1_1.2, 1.1_1.2, 1.1_1.2, 1.1_1.2, ...</td>\n",
       "      <td>[1, 1, 1, 1, 1, 1, 1, 1, 1, 1, 1, 1, 1, 1, 1, ...</td>\n",
       "      <td>[20230614_114041_standard_comp_to_training_D3_...</td>\n",
       "      <td>[855, 3251, 5546, 7343, 8441, 9439, 11335, 128...</td>\n",
       "      <td>[955, 3351, 5646, 7443, 8541, 9539, 11435, 129...</td>\n",
       "      <td>[1055, 3450, 5747, 7542, 8640, 9639, 11536, 13...</td>\n",
       "      <td>[1.2, 1.2, 1.1, 1.1, 1.2, 1.1, 1.1, 1.1, 1.1, ...</td>\n",
       "      <td>[competitive, no_comp, no_comp, competitive, c...</td>\n",
       "      <td>...</td>\n",
       "      <td>1.2</td>\n",
       "      <td>[[[44.962146067447776, 33.875261125037554], [4...</td>\n",
       "      <td>[[[52.756810221797416, 36.78031943889759], [52...</td>\n",
       "      <td>[8.55, 7.92, 7.3, 6.69, 6.09, 5.496, 4.918, 4....</td>\n",
       "      <td>[31.56, 28.44, 25.4, 22.5, 19.67, 16.97, 14.37...</td>\n",
       "      <td>[5.957, 5.52, 5.055, 4.99, 4.484, 4.047, 4.195...</td>\n",
       "      <td>[10.77, 10.75, 10.76, 10.91, 10.95, 11.234, 11...</td>\n",
       "      <td>(0, 32199)</td>\n",
       "      <td>(-2, 32260270)</td>\n",
       "      <td>[True, True, True, True, True, True, True, Tru...</td>\n",
       "    </tr>\n",
       "  </tbody>\n",
       "</table>\n",
       "<p>5 rows × 52 columns</p>\n",
       "</div>"
      ],
      "text/plain": [
       "                                          video_name current_subject  \\\n",
       "0  20230612_112630_standard_comp_to_training_D1_s...             1.1   \n",
       "1  20230612_112630_standard_comp_to_training_D1_s...             1.2   \n",
       "2  20230613_105657_standard_comp_to_training_D2_s...             1.1   \n",
       "3  20230613_105657_standard_comp_to_training_D2_s...             1.4   \n",
       "4  20230614_114041_standard_comp_to_training_D3_s...             1.1   \n",
       "\n",
       "                                     tracked_subject  \\\n",
       "0  [1.1_1.2, 1.1_1.2, 1.1_1.2, 1.1_1.2, 1.1_1.2, ...   \n",
       "1  [1.1_1.2, 1.1_1.2, 1.1_1.2, 1.1_1.2, 1.1_1.2, ...   \n",
       "2  [1.1_1.4, 1.1_1.4, 1.1_1.4, 1.1_1.4, 1.1_1.4, ...   \n",
       "3  [1.1_1.4, 1.1_1.4, 1.1_1.4, 1.1_1.4, 1.1_1.4, ...   \n",
       "4  [1.1_1.2, 1.1_1.2, 1.1_1.2, 1.1_1.2, 1.1_1.2, ...   \n",
       "\n",
       "                                          box_number  \\\n",
       "0  [1, 1, 1, 1, 1, 1, 1, 1, 1, 1, 1, 1, 1, 1, 1, ...   \n",
       "1  [1, 1, 1, 1, 1, 1, 1, 1, 1, 1, 1, 1, 1, 1, 1, ...   \n",
       "2  [1, 1, 1, 1, 1, 1, 1, 1, 1, 1, 1, 1, 1, 1, 1, ...   \n",
       "3  [1, 1, 1, 1, 1, 1, 1, 1, 1, 1, 1, 1, 1, 1, 1, ...   \n",
       "4  [1, 1, 1, 1, 1, 1, 1, 1, 1, 1, 1, 1, 1, 1, 1, ...   \n",
       "\n",
       "                                          sleap_name  \\\n",
       "0  [20230612_112630_standard_comp_to_training_D1_...   \n",
       "1  [20230612_112630_standard_comp_to_training_D1_...   \n",
       "2  [20230613_105657_standard_comp_to_training_D2_...   \n",
       "3  [20230613_105657_standard_comp_to_training_D2_...   \n",
       "4  [20230614_114041_standard_comp_to_training_D3_...   \n",
       "\n",
       "                                    tone_start_frame  \\\n",
       "0  [1125, 3519, 5815, 7612, 8709, 9708, 11604, 13...   \n",
       "1  [1125, 3519, 5815, 7612, 8709, 9708, 11604, 13...   \n",
       "2  [916, 3312, 5608, 7405, 8502, 9501, 11397, 128...   \n",
       "3  [916, 3312, 5608, 7405, 8502, 9501, 11397, 128...   \n",
       "4  [855, 3251, 5546, 7343, 8441, 9439, 11335, 128...   \n",
       "\n",
       "                                  reward_start_frame  \\\n",
       "0  [1225, 3619, 5915, 7712, 8809, 9808, 11704, 13...   \n",
       "1  [1225, 3619, 5915, 7712, 8809, 9808, 11704, 13...   \n",
       "2  [1016, 3412, 5708, 7505, 8602, 9601, 11497, 12...   \n",
       "3  [1016, 3412, 5708, 7505, 8602, 9601, 11497, 12...   \n",
       "4  [955, 3351, 5646, 7443, 8541, 9539, 11435, 129...   \n",
       "\n",
       "                                     tone_stop_frame  \\\n",
       "0  [1324, 3720, 6014, 7811, 8910, 9907, 11804, 13...   \n",
       "1  [1324, 3720, 6014, 7811, 8910, 9907, 11804, 13...   \n",
       "2  [1117, 3513, 5808, 7604, 8703, 9700, 11596, 13...   \n",
       "3  [1117, 3513, 5808, 7604, 8703, 9700, 11596, 13...   \n",
       "4  [1055, 3450, 5747, 7542, 8640, 9639, 11536, 13...   \n",
       "\n",
       "                                           condition  \\\n",
       "0  [1.1, 1.2, 1.2, 1.2, 1.2, 1.2, 1.2, 1.2, 1.2, ...   \n",
       "1  [1.1, 1.2, 1.2, 1.2, 1.2, 1.2, 1.2, 1.2, 1.2, ...   \n",
       "2  [1.4, 1.1, 1.1, 1.1, 1.1, 1.1, 1.1, 1.1, 1.1, ...   \n",
       "3  [1.4, 1.1, 1.1, 1.1, 1.1, 1.1, 1.1, 1.1, 1.1, ...   \n",
       "4  [1.2, 1.2, 1.1, 1.1, 1.2, 1.1, 1.1, 1.1, 1.1, ...   \n",
       "\n",
       "                               competition_closeness  ... agent  \\\n",
       "0  [competitive, no_comp, competitive, no_comp, n...  ...   1.2   \n",
       "1  [competitive, no_comp, competitive, no_comp, n...  ...   1.1   \n",
       "2  [no_comp, no_comp, competitive, competitive, c...  ...   1.4   \n",
       "3  [no_comp, no_comp, competitive, competitive, c...  ...   1.1   \n",
       "4  [competitive, no_comp, no_comp, competitive, c...  ...   1.2   \n",
       "\n",
       "                                   subject_locations  \\\n",
       "0  [[[46.68890098287189, 11.495085446056166], [43...   \n",
       "1  [[[34.36404036584844, 35.615553316175784], [34...   \n",
       "2  [[[46.71964110607613, 36.493379374373234], [44...   \n",
       "3  [[[50.63276479731981, 10.511614189582007], [51...   \n",
       "4  [[[44.962146067447776, 33.875261125037554], [4...   \n",
       "\n",
       "                                     agent_locations  \\\n",
       "0  [[[34.36404036584844, 35.615553316175784], [34...   \n",
       "1  [[[46.68890098287189, 11.495085446056166], [43...   \n",
       "2  [[[50.63276479731981, 10.511614189582007], [51...   \n",
       "3  [[[46.71964110607613, 36.493379374373234], [44...   \n",
       "4  [[[52.756810221797416, 36.78031943889759], [52...   \n",
       "\n",
       "                             subject_thorax_velocity  \\\n",
       "0  [1.8125, 1.707, 1.6045, 1.506, 1.409, 1.315, 1...   \n",
       "1  [14.336, 12.875, 11.47, 10.11, 8.81, 7.57, 6.3...   \n",
       "2  [4.04, 3.848, 3.658, 3.475, 3.291, 3.113, 2.94...   \n",
       "3  [4.402, 3.873, 3.361, 2.87, 2.398, 1.946, 1.51...   \n",
       "4  [8.55, 7.92, 7.3, 6.69, 6.09, 5.496, 4.918, 4....   \n",
       "\n",
       "                               agent_thorax_velocity  \\\n",
       "0  [14.336, 12.875, 11.47, 10.11, 8.81, 7.57, 6.3...   \n",
       "1  [1.8125, 1.707, 1.6045, 1.506, 1.409, 1.315, 1...   \n",
       "2  [4.402, 3.873, 3.361, 2.87, 2.398, 1.946, 1.51...   \n",
       "3  [4.04, 3.848, 3.658, 3.475, 3.291, 3.113, 2.94...   \n",
       "4  [31.56, 28.44, 25.4, 22.5, 19.67, 16.97, 14.37...   \n",
       "\n",
       "                       subject_thorax_to_reward_port  \\\n",
       "0  [26.45, 26.16, 26.1, 25.77, 25.72, 25.78, 26.1...   \n",
       "1  [6.11, 6.06, 6.125, 6.566, 6.605, 6.676, 7.13,...   \n",
       "2  [4.633, 4.09, 4.36, 4.656, 4.65, 4.383, 4.35, ...   \n",
       "3  [28.12, 28.16, 28.22, 28.06, 27.9, 27.9, 27.9,...   \n",
       "4  [5.957, 5.52, 5.055, 4.99, 4.484, 4.047, 4.195...   \n",
       "\n",
       "                         agent_thorax_to_reward_port  start_stop_frame  \\\n",
       "0  [6.11, 6.06, 6.125, 6.566, 6.605, 6.676, 7.13,...        (0, 32299)   \n",
       "1  [26.45, 26.16, 26.1, 25.77, 25.72, 25.78, 26.1...        (0, 32299)   \n",
       "2  [28.12, 28.16, 28.22, 28.06, 27.9, 27.9, 27.9,...        (0, 32999)   \n",
       "3  [4.633, 4.09, 4.36, 4.656, 4.65, 4.383, 4.35, ...        (0, 32999)   \n",
       "4  [10.77, 10.75, 10.76, 10.91, 10.95, 11.234, 11...        (0, 32199)   \n",
       "\n",
       "  start_stop_timestamps                                          tone_mask  \n",
       "0      (1384, 32361438)  [True, True, True, True, True, True, True, Tru...  \n",
       "1      (1384, 32361438)  [True, True, True, True, True, True, True, Tru...  \n",
       "2      (1384, 33061302)  [True, True, True, True, True, True, True, Tru...  \n",
       "3      (1384, 33061302)  [True, True, True, True, True, True, True, Tru...  \n",
       "4        (-2, 32260270)  [True, True, True, True, True, True, True, Tru...  \n",
       "\n",
       "[5 rows x 52 columns]"
      ]
     },
     "execution_count": 50,
     "metadata": {},
     "output_type": "execute_result"
    }
   ],
   "source": [
    "TRIALS_AND_LFP_DF.head()"
   ]
  },
  {
   "cell_type": "code",
   "execution_count": 51,
   "metadata": {
    "tags": []
   },
   "outputs": [
    {
     "name": "stdout",
     "output_type": "stream",
     "text": [
      "video_name\n",
      "current_subject\n",
      "tracked_subject\n",
      "box_number\n",
      "sleap_name\n",
      "tone_start_frame\n",
      "reward_start_frame\n",
      "tone_stop_frame\n",
      "condition\n",
      "competition_closeness\n",
      "notes\n",
      "experiment\n",
      "session_dir\n",
      "all_subjects\n",
      "tone_start_timestamp\n",
      "tone_stop_timestamp\n",
      "trial_label\n",
      "cohort\n",
      "box_1_port_entry_frames\n",
      "box_2_port_entry_frames\n",
      "session_path\n",
      "recording\n",
      "subject\n",
      "first_timestamp\n",
      "last_timestamp\n",
      "video_timestamps\n",
      "tone_timestamps\n",
      "box_1_port_entry_timestamps\n",
      "box_2_port_entry_timestamps\n",
      "lfp_timestamps\n",
      "mPFC_lfp_trace\n",
      "MD_lfp_trace\n",
      "LH_lfp_trace\n",
      "BLA_lfp_trace\n",
      "vHPC_lfp_trace\n",
      "in_video_subjects\n",
      "body_parts\n",
      "box_top_left\n",
      "box_top_right\n",
      "reward_port\n",
      "box_bottom_left\n",
      "box_bottom_right\n",
      "agent\n",
      "subject_locations\n",
      "agent_locations\n",
      "subject_thorax_velocity\n",
      "agent_thorax_velocity\n",
      "subject_thorax_to_reward_port\n",
      "agent_thorax_to_reward_port\n",
      "start_stop_frame\n",
      "start_stop_timestamps\n",
      "tone_mask\n"
     ]
    }
   ],
   "source": [
    "for col in TRIALS_AND_LFP_DF:\n",
    "    print(col)"
   ]
  },
  {
   "cell_type": "code",
   "execution_count": 52,
   "metadata": {
    "tags": []
   },
   "outputs": [
    {
     "data": {
      "text/plain": [
       "0    (68258,)\n",
       "1    (68258,)\n",
       "2    (68333,)\n",
       "3    (68333,)\n",
       "4    (44209,)\n",
       "Name: video_timestamps, dtype: object"
      ]
     },
     "execution_count": 52,
     "metadata": {},
     "output_type": "execute_result"
    }
   ],
   "source": [
    "TRIALS_AND_LFP_DF[\"video_timestamps\"].apply(lambda x: x.shape).head()"
   ]
  },
  {
   "cell_type": "code",
   "execution_count": 53,
   "metadata": {
    "tags": []
   },
   "outputs": [
    {
     "data": {
      "text/plain": [
       "0    (68258,)\n",
       "1    (68258,)\n",
       "2    (68333,)\n",
       "3    (68333,)\n",
       "4    (44206,)\n",
       "Name: subject_thorax_to_reward_port, dtype: object"
      ]
     },
     "execution_count": 53,
     "metadata": {},
     "output_type": "execute_result"
    }
   ],
   "source": [
    "TRIALS_AND_LFP_DF[\"subject_thorax_to_reward_port\"].apply(lambda x: x.shape).head()"
   ]
  },
  {
   "cell_type": "code",
   "execution_count": 54,
   "metadata": {
    "tags": []
   },
   "outputs": [
    {
     "data": {
      "text/plain": [
       "array([ 1125,  3519,  5815,  7612,  8709,  9708, 11604, 13101, 15198,\n",
       "       16195, 17793, 19090, 20388, 21385, 22784, 24680, 26276, 27673,\n",
       "       29870, 31068])"
      ]
     },
     "execution_count": 54,
     "metadata": {},
     "output_type": "execute_result"
    }
   ],
   "source": [
    "TRIALS_AND_LFP_DF[\"tone_start_frame\"].iloc[ROW_NUMBER]"
   ]
  },
  {
   "cell_type": "code",
   "execution_count": 55,
   "metadata": {
    "tags": []
   },
   "outputs": [
    {
     "data": {
      "text/plain": [
       "array([ 1125,  3519,  5815,  7612,  8709,  9708, 11604, 13101, 15198,\n",
       "       16195, 17793, 19090, 20388, 21385, 22784, 24680, 26276, 27673,\n",
       "       29870, 31068])"
      ]
     },
     "execution_count": 55,
     "metadata": {},
     "output_type": "execute_result"
    }
   ],
   "source": [
    "TRIALS_AND_LFP_DF[\"tone_start_frame\"].iloc[1]"
   ]
  },
  {
   "cell_type": "code",
   "execution_count": 56,
   "metadata": {
    "tags": []
   },
   "outputs": [
    {
     "data": {
      "text/plain": [
       "video_name                       20230612_112630_standard_comp_to_training_D1_s...\n",
       "current_subject                                                                1.1\n",
       "tracked_subject                  [1.1_1.2, 1.1_1.2, 1.1_1.2, 1.1_1.2, 1.1_1.2, ...\n",
       "box_number                       [1, 1, 1, 1, 1, 1, 1, 1, 1, 1, 1, 1, 1, 1, 1, ...\n",
       "sleap_name                       [20230612_112630_standard_comp_to_training_D1_...\n",
       "tone_start_frame                 [1125, 3519, 5815, 7612, 8709, 9708, 11604, 13...\n",
       "reward_start_frame               [1225, 3619, 5915, 7712, 8809, 9808, 11704, 13...\n",
       "tone_stop_frame                  [1324, 3720, 6014, 7811, 8910, 9907, 11804, 13...\n",
       "condition                        [1.1, 1.2, 1.2, 1.2, 1.2, 1.2, 1.2, 1.2, 1.2, ...\n",
       "competition_closeness            [competitive, no_comp, competitive, no_comp, n...\n",
       "notes                            [nan, nan, nan, nan, nan, nan, nan, nan, nan, ...\n",
       "experiment                       [standard, standard, standard, standard, stand...\n",
       "session_dir                      [20230612_112630_standard_comp_to_training_D1_...\n",
       "all_subjects                     [['1.1', '1.2'], ['1.1', '1.2'], ['1.1', '1.2'...\n",
       "tone_start_timestamp             [1126742, 3526740, 5826740, 7626736, 8726734, ...\n",
       "tone_stop_timestamp              [1326741, 3726740, 6026737, 7826735, 8926734, ...\n",
       "trial_label                      [win, lose, lose, lose, lose, lose, lose, lose...\n",
       "cohort                                                                           2\n",
       "box_1_port_entry_frames          [[192, 248], [389, 405], [916, 929], [929, 948...\n",
       "box_2_port_entry_frames                                                         []\n",
       "session_path                     /scratch/back_up/reward_competition_extention/...\n",
       "recording                        20230612_112630_standard_comp_to_training_D1_s...\n",
       "subject                                                                        1.1\n",
       "first_timestamp                                                            7977066\n",
       "last_timestamp                                                            76318450\n",
       "video_timestamps                 [1384, 2444, 2769, 4155, 5541, 6708, 6927, 831...\n",
       "tone_timestamps                  [[1126742, 1326741], [3526740, 3726740], [5826...\n",
       "box_1_port_entry_timestamps      [[192745, 249350], [389747, 407142], [917544, ...\n",
       "box_2_port_entry_timestamps      [[33037711, 33038706], [33264908, 33270313], [...\n",
       "lfp_timestamps                   [0, 20, 40, 60, 80, 100, 120, 140, 160, 180, 2...\n",
       "mPFC_lfp_trace                   [-25, 109, 387, 581, 516, 265, 149, 242, 374, ...\n",
       "MD_lfp_trace                     [70, 188, 276, 173, 16, -81, -123, -215, -200,...\n",
       "LH_lfp_trace                     [41, 168, 288, 247, 151, 16, -102, -161, -119,...\n",
       "BLA_lfp_trace                    [23, 46, 98, 135, 85, -84, -245, -236, -107, 4...\n",
       "vHPC_lfp_trace                   [176, 259, 227, -7, -163, -145, -34, -11, -150...\n",
       "in_video_subjects                                                       [1.1, 1.2]\n",
       "body_parts                       [left_ear, right_ear, nose, tail_base, thorax,...\n",
       "box_top_left                                [30.24932345912479, 10.25122851487125]\n",
       "box_top_right                             [59.816912963855586, 10.100544626940918]\n",
       "reward_port                                 [45.23441700698972, 35.83828707637651]\n",
       "box_bottom_left                            [30.458913657178506, 34.21867013031604]\n",
       "box_bottom_right                            [59.89132415244771, 34.13310301149612]\n",
       "agent                                                                          1.2\n",
       "subject_locations                [[[46.68890098287189, 11.495085446056166], [43...\n",
       "agent_locations                  [[[34.36404036584844, 35.615553316175784], [34...\n",
       "subject_thorax_velocity          [1.8125, 1.707, 1.6045, 1.506, 1.409, 1.315, 1...\n",
       "agent_thorax_velocity            [14.336, 12.875, 11.47, 10.11, 8.81, 7.57, 6.3...\n",
       "subject_thorax_to_reward_port    [26.45, 26.16, 26.1, 25.77, 25.72, 25.78, 26.1...\n",
       "agent_thorax_to_reward_port      [6.11, 6.06, 6.125, 6.566, 6.605, 6.676, 7.13,...\n",
       "start_stop_frame                                                        (0, 32299)\n",
       "start_stop_timestamps                                             (1384, 32361438)\n",
       "tone_mask                        [True, True, True, True, True, True, True, Tru...\n",
       "Name: 0, dtype: object"
      ]
     },
     "execution_count": 56,
     "metadata": {},
     "output_type": "execute_result"
    }
   ],
   "source": [
    "TRIALS_AND_LFP_DF.iloc[ROW_NUMBER]"
   ]
  },
  {
   "cell_type": "code",
   "execution_count": 57,
   "metadata": {
    "tags": []
   },
   "outputs": [
    {
     "data": {
      "text/html": [
       "<div>\n",
       "<style scoped>\n",
       "    .dataframe tbody tr th:only-of-type {\n",
       "        vertical-align: middle;\n",
       "    }\n",
       "\n",
       "    .dataframe tbody tr th {\n",
       "        vertical-align: top;\n",
       "    }\n",
       "\n",
       "    .dataframe thead th {\n",
       "        text-align: right;\n",
       "    }\n",
       "</style>\n",
       "<table border=\"1\" class=\"dataframe\">\n",
       "  <thead>\n",
       "    <tr style=\"text-align: right;\">\n",
       "      <th></th>\n",
       "      <th>video_name</th>\n",
       "      <th>current_subject</th>\n",
       "      <th>tracked_subject</th>\n",
       "      <th>box_number</th>\n",
       "      <th>sleap_name</th>\n",
       "      <th>tone_start_frame</th>\n",
       "      <th>reward_start_frame</th>\n",
       "      <th>tone_stop_frame</th>\n",
       "      <th>condition</th>\n",
       "      <th>competition_closeness</th>\n",
       "      <th>...</th>\n",
       "      <th>agent</th>\n",
       "      <th>subject_locations</th>\n",
       "      <th>agent_locations</th>\n",
       "      <th>subject_thorax_velocity</th>\n",
       "      <th>agent_thorax_velocity</th>\n",
       "      <th>subject_thorax_to_reward_port</th>\n",
       "      <th>agent_thorax_to_reward_port</th>\n",
       "      <th>start_stop_frame</th>\n",
       "      <th>start_stop_timestamps</th>\n",
       "      <th>tone_mask</th>\n",
       "    </tr>\n",
       "  </thead>\n",
       "  <tbody>\n",
       "    <tr>\n",
       "      <th>0</th>\n",
       "      <td>20230612_112630_standard_comp_to_training_D1_s...</td>\n",
       "      <td>1.1</td>\n",
       "      <td>[1.1_1.2, 1.1_1.2, 1.1_1.2, 1.1_1.2, 1.1_1.2, ...</td>\n",
       "      <td>[1, 1, 1, 1, 1, 1, 1, 1, 1, 1, 1, 1, 1, 1, 1, ...</td>\n",
       "      <td>[20230612_112630_standard_comp_to_training_D1_...</td>\n",
       "      <td>[1125, 3519, 5815, 7612, 8709, 9708, 11604, 13...</td>\n",
       "      <td>[1225, 3619, 5915, 7712, 8809, 9808, 11704, 13...</td>\n",
       "      <td>[1324, 3720, 6014, 7811, 8910, 9907, 11804, 13...</td>\n",
       "      <td>[1.1, 1.2, 1.2, 1.2, 1.2, 1.2, 1.2, 1.2, 1.2, ...</td>\n",
       "      <td>[competitive, no_comp, competitive, no_comp, n...</td>\n",
       "      <td>...</td>\n",
       "      <td>1.2</td>\n",
       "      <td>[[[46.68890098287189, 11.495085446056166], [43...</td>\n",
       "      <td>[[[34.36404036584844, 35.615553316175784], [34...</td>\n",
       "      <td>[1.8125, 1.707, 1.6045, 1.506, 1.409, 1.315, 1...</td>\n",
       "      <td>[14.336, 12.875, 11.47, 10.11, 8.81, 7.57, 6.3...</td>\n",
       "      <td>[26.45, 26.16, 26.1, 25.77, 25.72, 25.78, 26.1...</td>\n",
       "      <td>[6.11, 6.06, 6.125, 6.566, 6.605, 6.676, 7.13,...</td>\n",
       "      <td>(0, 32299)</td>\n",
       "      <td>(1384, 32361438)</td>\n",
       "      <td>[True, True, True, True, True, True, True, Tru...</td>\n",
       "    </tr>\n",
       "    <tr>\n",
       "      <th>1</th>\n",
       "      <td>20230612_112630_standard_comp_to_training_D1_s...</td>\n",
       "      <td>1.2</td>\n",
       "      <td>[1.1_1.2, 1.1_1.2, 1.1_1.2, 1.1_1.2, 1.1_1.2, ...</td>\n",
       "      <td>[1, 1, 1, 1, 1, 1, 1, 1, 1, 1, 1, 1, 1, 1, 1, ...</td>\n",
       "      <td>[20230612_112630_standard_comp_to_training_D1_...</td>\n",
       "      <td>[1125, 3519, 5815, 7612, 8709, 9708, 11604, 13...</td>\n",
       "      <td>[1225, 3619, 5915, 7712, 8809, 9808, 11704, 13...</td>\n",
       "      <td>[1324, 3720, 6014, 7811, 8910, 9907, 11804, 13...</td>\n",
       "      <td>[1.1, 1.2, 1.2, 1.2, 1.2, 1.2, 1.2, 1.2, 1.2, ...</td>\n",
       "      <td>[competitive, no_comp, competitive, no_comp, n...</td>\n",
       "      <td>...</td>\n",
       "      <td>1.1</td>\n",
       "      <td>[[[34.36404036584844, 35.615553316175784], [34...</td>\n",
       "      <td>[[[46.68890098287189, 11.495085446056166], [43...</td>\n",
       "      <td>[14.336, 12.875, 11.47, 10.11, 8.81, 7.57, 6.3...</td>\n",
       "      <td>[1.8125, 1.707, 1.6045, 1.506, 1.409, 1.315, 1...</td>\n",
       "      <td>[6.11, 6.06, 6.125, 6.566, 6.605, 6.676, 7.13,...</td>\n",
       "      <td>[26.45, 26.16, 26.1, 25.77, 25.72, 25.78, 26.1...</td>\n",
       "      <td>(0, 32299)</td>\n",
       "      <td>(1384, 32361438)</td>\n",
       "      <td>[True, True, True, True, True, True, True, Tru...</td>\n",
       "    </tr>\n",
       "    <tr>\n",
       "      <th>2</th>\n",
       "      <td>20230613_105657_standard_comp_to_training_D2_s...</td>\n",
       "      <td>1.1</td>\n",
       "      <td>[1.1_1.4, 1.1_1.4, 1.1_1.4, 1.1_1.4, 1.1_1.4, ...</td>\n",
       "      <td>[1, 1, 1, 1, 1, 1, 1, 1, 1, 1, 1, 1, 1, 1, 1, ...</td>\n",
       "      <td>[20230613_105657_standard_comp_to_training_D2_...</td>\n",
       "      <td>[916, 3312, 5608, 7405, 8502, 9501, 11397, 128...</td>\n",
       "      <td>[1016, 3412, 5708, 7505, 8602, 9601, 11497, 12...</td>\n",
       "      <td>[1117, 3513, 5808, 7604, 8703, 9700, 11596, 13...</td>\n",
       "      <td>[1.4, 1.1, 1.1, 1.1, 1.1, 1.1, 1.1, 1.1, 1.1, ...</td>\n",
       "      <td>[no_comp, no_comp, competitive, competitive, c...</td>\n",
       "      <td>...</td>\n",
       "      <td>1.4</td>\n",
       "      <td>[[[46.71964110607613, 36.493379374373234], [44...</td>\n",
       "      <td>[[[50.63276479731981, 10.511614189582007], [51...</td>\n",
       "      <td>[4.04, 3.848, 3.658, 3.475, 3.291, 3.113, 2.94...</td>\n",
       "      <td>[4.402, 3.873, 3.361, 2.87, 2.398, 1.946, 1.51...</td>\n",
       "      <td>[4.633, 4.09, 4.36, 4.656, 4.65, 4.383, 4.35, ...</td>\n",
       "      <td>[28.12, 28.16, 28.22, 28.06, 27.9, 27.9, 27.9,...</td>\n",
       "      <td>(0, 32999)</td>\n",
       "      <td>(1384, 33061302)</td>\n",
       "      <td>[True, True, True, True, True, True, True, Tru...</td>\n",
       "    </tr>\n",
       "    <tr>\n",
       "      <th>3</th>\n",
       "      <td>20230613_105657_standard_comp_to_training_D2_s...</td>\n",
       "      <td>1.4</td>\n",
       "      <td>[1.1_1.4, 1.1_1.4, 1.1_1.4, 1.1_1.4, 1.1_1.4, ...</td>\n",
       "      <td>[1, 1, 1, 1, 1, 1, 1, 1, 1, 1, 1, 1, 1, 1, 1, ...</td>\n",
       "      <td>[20230613_105657_standard_comp_to_training_D2_...</td>\n",
       "      <td>[916, 3312, 5608, 7405, 8502, 9501, 11397, 128...</td>\n",
       "      <td>[1016, 3412, 5708, 7505, 8602, 9601, 11497, 12...</td>\n",
       "      <td>[1117, 3513, 5808, 7604, 8703, 9700, 11596, 13...</td>\n",
       "      <td>[1.4, 1.1, 1.1, 1.1, 1.1, 1.1, 1.1, 1.1, 1.1, ...</td>\n",
       "      <td>[no_comp, no_comp, competitive, competitive, c...</td>\n",
       "      <td>...</td>\n",
       "      <td>1.1</td>\n",
       "      <td>[[[50.63276479731981, 10.511614189582007], [51...</td>\n",
       "      <td>[[[46.71964110607613, 36.493379374373234], [44...</td>\n",
       "      <td>[4.402, 3.873, 3.361, 2.87, 2.398, 1.946, 1.51...</td>\n",
       "      <td>[4.04, 3.848, 3.658, 3.475, 3.291, 3.113, 2.94...</td>\n",
       "      <td>[28.12, 28.16, 28.22, 28.06, 27.9, 27.9, 27.9,...</td>\n",
       "      <td>[4.633, 4.09, 4.36, 4.656, 4.65, 4.383, 4.35, ...</td>\n",
       "      <td>(0, 32999)</td>\n",
       "      <td>(1384, 33061302)</td>\n",
       "      <td>[True, True, True, True, True, True, True, Tru...</td>\n",
       "    </tr>\n",
       "    <tr>\n",
       "      <th>4</th>\n",
       "      <td>20230614_114041_standard_comp_to_training_D3_s...</td>\n",
       "      <td>1.1</td>\n",
       "      <td>[1.1_1.2, 1.1_1.2, 1.1_1.2, 1.1_1.2, 1.1_1.2, ...</td>\n",
       "      <td>[1, 1, 1, 1, 1, 1, 1, 1, 1, 1, 1, 1, 1, 1, 1, ...</td>\n",
       "      <td>[20230614_114041_standard_comp_to_training_D3_...</td>\n",
       "      <td>[855, 3251, 5546, 7343, 8441, 9439, 11335, 128...</td>\n",
       "      <td>[955, 3351, 5646, 7443, 8541, 9539, 11435, 129...</td>\n",
       "      <td>[1055, 3450, 5747, 7542, 8640, 9639, 11536, 13...</td>\n",
       "      <td>[1.2, 1.2, 1.1, 1.1, 1.2, 1.1, 1.1, 1.1, 1.1, ...</td>\n",
       "      <td>[competitive, no_comp, no_comp, competitive, c...</td>\n",
       "      <td>...</td>\n",
       "      <td>1.2</td>\n",
       "      <td>[[[44.962146067447776, 33.875261125037554], [4...</td>\n",
       "      <td>[[[52.756810221797416, 36.78031943889759], [52...</td>\n",
       "      <td>[8.55, 7.92, 7.3, 6.69, 6.09, 5.496, 4.918, 4....</td>\n",
       "      <td>[31.56, 28.44, 25.4, 22.5, 19.67, 16.97, 14.37...</td>\n",
       "      <td>[5.957, 5.52, 5.055, 4.99, 4.484, 4.047, 4.195...</td>\n",
       "      <td>[10.77, 10.75, 10.76, 10.91, 10.95, 11.234, 11...</td>\n",
       "      <td>(0, 32199)</td>\n",
       "      <td>(-2, 32260270)</td>\n",
       "      <td>[True, True, True, True, True, True, True, Tru...</td>\n",
       "    </tr>\n",
       "  </tbody>\n",
       "</table>\n",
       "<p>5 rows × 52 columns</p>\n",
       "</div>"
      ],
      "text/plain": [
       "                                          video_name current_subject  \\\n",
       "0  20230612_112630_standard_comp_to_training_D1_s...             1.1   \n",
       "1  20230612_112630_standard_comp_to_training_D1_s...             1.2   \n",
       "2  20230613_105657_standard_comp_to_training_D2_s...             1.1   \n",
       "3  20230613_105657_standard_comp_to_training_D2_s...             1.4   \n",
       "4  20230614_114041_standard_comp_to_training_D3_s...             1.1   \n",
       "\n",
       "                                     tracked_subject  \\\n",
       "0  [1.1_1.2, 1.1_1.2, 1.1_1.2, 1.1_1.2, 1.1_1.2, ...   \n",
       "1  [1.1_1.2, 1.1_1.2, 1.1_1.2, 1.1_1.2, 1.1_1.2, ...   \n",
       "2  [1.1_1.4, 1.1_1.4, 1.1_1.4, 1.1_1.4, 1.1_1.4, ...   \n",
       "3  [1.1_1.4, 1.1_1.4, 1.1_1.4, 1.1_1.4, 1.1_1.4, ...   \n",
       "4  [1.1_1.2, 1.1_1.2, 1.1_1.2, 1.1_1.2, 1.1_1.2, ...   \n",
       "\n",
       "                                          box_number  \\\n",
       "0  [1, 1, 1, 1, 1, 1, 1, 1, 1, 1, 1, 1, 1, 1, 1, ...   \n",
       "1  [1, 1, 1, 1, 1, 1, 1, 1, 1, 1, 1, 1, 1, 1, 1, ...   \n",
       "2  [1, 1, 1, 1, 1, 1, 1, 1, 1, 1, 1, 1, 1, 1, 1, ...   \n",
       "3  [1, 1, 1, 1, 1, 1, 1, 1, 1, 1, 1, 1, 1, 1, 1, ...   \n",
       "4  [1, 1, 1, 1, 1, 1, 1, 1, 1, 1, 1, 1, 1, 1, 1, ...   \n",
       "\n",
       "                                          sleap_name  \\\n",
       "0  [20230612_112630_standard_comp_to_training_D1_...   \n",
       "1  [20230612_112630_standard_comp_to_training_D1_...   \n",
       "2  [20230613_105657_standard_comp_to_training_D2_...   \n",
       "3  [20230613_105657_standard_comp_to_training_D2_...   \n",
       "4  [20230614_114041_standard_comp_to_training_D3_...   \n",
       "\n",
       "                                    tone_start_frame  \\\n",
       "0  [1125, 3519, 5815, 7612, 8709, 9708, 11604, 13...   \n",
       "1  [1125, 3519, 5815, 7612, 8709, 9708, 11604, 13...   \n",
       "2  [916, 3312, 5608, 7405, 8502, 9501, 11397, 128...   \n",
       "3  [916, 3312, 5608, 7405, 8502, 9501, 11397, 128...   \n",
       "4  [855, 3251, 5546, 7343, 8441, 9439, 11335, 128...   \n",
       "\n",
       "                                  reward_start_frame  \\\n",
       "0  [1225, 3619, 5915, 7712, 8809, 9808, 11704, 13...   \n",
       "1  [1225, 3619, 5915, 7712, 8809, 9808, 11704, 13...   \n",
       "2  [1016, 3412, 5708, 7505, 8602, 9601, 11497, 12...   \n",
       "3  [1016, 3412, 5708, 7505, 8602, 9601, 11497, 12...   \n",
       "4  [955, 3351, 5646, 7443, 8541, 9539, 11435, 129...   \n",
       "\n",
       "                                     tone_stop_frame  \\\n",
       "0  [1324, 3720, 6014, 7811, 8910, 9907, 11804, 13...   \n",
       "1  [1324, 3720, 6014, 7811, 8910, 9907, 11804, 13...   \n",
       "2  [1117, 3513, 5808, 7604, 8703, 9700, 11596, 13...   \n",
       "3  [1117, 3513, 5808, 7604, 8703, 9700, 11596, 13...   \n",
       "4  [1055, 3450, 5747, 7542, 8640, 9639, 11536, 13...   \n",
       "\n",
       "                                           condition  \\\n",
       "0  [1.1, 1.2, 1.2, 1.2, 1.2, 1.2, 1.2, 1.2, 1.2, ...   \n",
       "1  [1.1, 1.2, 1.2, 1.2, 1.2, 1.2, 1.2, 1.2, 1.2, ...   \n",
       "2  [1.4, 1.1, 1.1, 1.1, 1.1, 1.1, 1.1, 1.1, 1.1, ...   \n",
       "3  [1.4, 1.1, 1.1, 1.1, 1.1, 1.1, 1.1, 1.1, 1.1, ...   \n",
       "4  [1.2, 1.2, 1.1, 1.1, 1.2, 1.1, 1.1, 1.1, 1.1, ...   \n",
       "\n",
       "                               competition_closeness  ... agent  \\\n",
       "0  [competitive, no_comp, competitive, no_comp, n...  ...   1.2   \n",
       "1  [competitive, no_comp, competitive, no_comp, n...  ...   1.1   \n",
       "2  [no_comp, no_comp, competitive, competitive, c...  ...   1.4   \n",
       "3  [no_comp, no_comp, competitive, competitive, c...  ...   1.1   \n",
       "4  [competitive, no_comp, no_comp, competitive, c...  ...   1.2   \n",
       "\n",
       "                                   subject_locations  \\\n",
       "0  [[[46.68890098287189, 11.495085446056166], [43...   \n",
       "1  [[[34.36404036584844, 35.615553316175784], [34...   \n",
       "2  [[[46.71964110607613, 36.493379374373234], [44...   \n",
       "3  [[[50.63276479731981, 10.511614189582007], [51...   \n",
       "4  [[[44.962146067447776, 33.875261125037554], [4...   \n",
       "\n",
       "                                     agent_locations  \\\n",
       "0  [[[34.36404036584844, 35.615553316175784], [34...   \n",
       "1  [[[46.68890098287189, 11.495085446056166], [43...   \n",
       "2  [[[50.63276479731981, 10.511614189582007], [51...   \n",
       "3  [[[46.71964110607613, 36.493379374373234], [44...   \n",
       "4  [[[52.756810221797416, 36.78031943889759], [52...   \n",
       "\n",
       "                             subject_thorax_velocity  \\\n",
       "0  [1.8125, 1.707, 1.6045, 1.506, 1.409, 1.315, 1...   \n",
       "1  [14.336, 12.875, 11.47, 10.11, 8.81, 7.57, 6.3...   \n",
       "2  [4.04, 3.848, 3.658, 3.475, 3.291, 3.113, 2.94...   \n",
       "3  [4.402, 3.873, 3.361, 2.87, 2.398, 1.946, 1.51...   \n",
       "4  [8.55, 7.92, 7.3, 6.69, 6.09, 5.496, 4.918, 4....   \n",
       "\n",
       "                               agent_thorax_velocity  \\\n",
       "0  [14.336, 12.875, 11.47, 10.11, 8.81, 7.57, 6.3...   \n",
       "1  [1.8125, 1.707, 1.6045, 1.506, 1.409, 1.315, 1...   \n",
       "2  [4.402, 3.873, 3.361, 2.87, 2.398, 1.946, 1.51...   \n",
       "3  [4.04, 3.848, 3.658, 3.475, 3.291, 3.113, 2.94...   \n",
       "4  [31.56, 28.44, 25.4, 22.5, 19.67, 16.97, 14.37...   \n",
       "\n",
       "                       subject_thorax_to_reward_port  \\\n",
       "0  [26.45, 26.16, 26.1, 25.77, 25.72, 25.78, 26.1...   \n",
       "1  [6.11, 6.06, 6.125, 6.566, 6.605, 6.676, 7.13,...   \n",
       "2  [4.633, 4.09, 4.36, 4.656, 4.65, 4.383, 4.35, ...   \n",
       "3  [28.12, 28.16, 28.22, 28.06, 27.9, 27.9, 27.9,...   \n",
       "4  [5.957, 5.52, 5.055, 4.99, 4.484, 4.047, 4.195...   \n",
       "\n",
       "                         agent_thorax_to_reward_port  start_stop_frame  \\\n",
       "0  [6.11, 6.06, 6.125, 6.566, 6.605, 6.676, 7.13,...        (0, 32299)   \n",
       "1  [26.45, 26.16, 26.1, 25.77, 25.72, 25.78, 26.1...        (0, 32299)   \n",
       "2  [28.12, 28.16, 28.22, 28.06, 27.9, 27.9, 27.9,...        (0, 32999)   \n",
       "3  [4.633, 4.09, 4.36, 4.656, 4.65, 4.383, 4.35, ...        (0, 32999)   \n",
       "4  [10.77, 10.75, 10.76, 10.91, 10.95, 11.234, 11...        (0, 32199)   \n",
       "\n",
       "  start_stop_timestamps                                          tone_mask  \n",
       "0      (1384, 32361438)  [True, True, True, True, True, True, True, Tru...  \n",
       "1      (1384, 32361438)  [True, True, True, True, True, True, True, Tru...  \n",
       "2      (1384, 33061302)  [True, True, True, True, True, True, True, Tru...  \n",
       "3      (1384, 33061302)  [True, True, True, True, True, True, True, Tru...  \n",
       "4        (-2, 32260270)  [True, True, True, True, True, True, True, Tru...  \n",
       "\n",
       "[5 rows x 52 columns]"
      ]
     },
     "execution_count": 57,
     "metadata": {},
     "output_type": "execute_result"
    }
   ],
   "source": [
    "TRIALS_AND_LFP_DF.head()"
   ]
  },
  {
   "cell_type": "code",
   "execution_count": 58,
   "metadata": {
    "tags": []
   },
   "outputs": [],
   "source": [
    "TRIALS_AND_LFP_DF = TRIALS_AND_LFP_DF.drop(columns=[col for col in TRIALS_AND_LFP_DF if \"band\" in col], errors=\"ignore\")"
   ]
  },
  {
   "cell_type": "code",
   "execution_count": 59,
   "metadata": {
    "tags": []
   },
   "outputs": [],
   "source": [
    "TRIALS_AND_LFP_DF = TRIALS_AND_LFP_DF.drop(columns=[col for col in TRIALS_AND_LFP_DF if \"phase\" in col], errors=\"ignore\")"
   ]
  },
  {
   "cell_type": "code",
   "execution_count": 60,
   "metadata": {
    "tags": []
   },
   "outputs": [],
   "source": [
    "TRIALS_AND_LFP_DF = TRIALS_AND_LFP_DF.drop(columns=[col for col in TRIALS_AND_LFP_DF if \"windows\" in col], errors=\"ignore\")"
   ]
  },
  {
   "cell_type": "code",
   "execution_count": 61,
   "metadata": {
    "tags": []
   },
   "outputs": [],
   "source": [
    "TRIALS_AND_LFP_DF = TRIALS_AND_LFP_DF.drop(columns=[col for col in TRIALS_AND_LFP_DF if \"theta\" in col], errors=\"ignore\")"
   ]
  },
  {
   "cell_type": "code",
   "execution_count": 62,
   "metadata": {
    "tags": []
   },
   "outputs": [],
   "source": [
    "TRIALS_AND_LFP_DF = TRIALS_AND_LFP_DF.drop(columns=[col for col in TRIALS_AND_LFP_DF if \"gamma\" in col], errors=\"ignore\")"
   ]
  },
  {
   "cell_type": "code",
   "execution_count": 63,
   "metadata": {
    "tags": []
   },
   "outputs": [],
   "source": [
    "TRIALS_AND_LFP_DF = TRIALS_AND_LFP_DF.drop(columns=[col for col in TRIALS_AND_LFP_DF if \"frequencies\" in col], errors=\"ignore\")"
   ]
  },
  {
   "cell_type": "code",
   "execution_count": 64,
   "metadata": {
    "tags": []
   },
   "outputs": [
    {
     "name": "stdout",
     "output_type": "stream",
     "text": [
      "video_name\n",
      "current_subject\n",
      "tracked_subject\n",
      "box_number\n",
      "sleap_name\n",
      "tone_start_frame\n",
      "reward_start_frame\n",
      "tone_stop_frame\n",
      "condition\n",
      "competition_closeness\n",
      "notes\n",
      "experiment\n",
      "session_dir\n",
      "all_subjects\n",
      "tone_start_timestamp\n",
      "tone_stop_timestamp\n",
      "trial_label\n",
      "cohort\n",
      "box_1_port_entry_frames\n",
      "box_2_port_entry_frames\n",
      "session_path\n",
      "recording\n",
      "subject\n",
      "first_timestamp\n",
      "last_timestamp\n",
      "video_timestamps\n",
      "tone_timestamps\n",
      "box_1_port_entry_timestamps\n",
      "box_2_port_entry_timestamps\n",
      "lfp_timestamps\n",
      "mPFC_lfp_trace\n",
      "MD_lfp_trace\n",
      "LH_lfp_trace\n",
      "BLA_lfp_trace\n",
      "vHPC_lfp_trace\n",
      "in_video_subjects\n",
      "body_parts\n",
      "box_top_left\n",
      "box_top_right\n",
      "reward_port\n",
      "box_bottom_left\n",
      "box_bottom_right\n",
      "agent\n",
      "subject_locations\n",
      "agent_locations\n",
      "subject_thorax_velocity\n",
      "agent_thorax_velocity\n",
      "subject_thorax_to_reward_port\n",
      "agent_thorax_to_reward_port\n",
      "start_stop_frame\n",
      "start_stop_timestamps\n",
      "tone_mask\n"
     ]
    }
   ],
   "source": [
    "for col in TRIALS_AND_LFP_DF:\n",
    "    print(col)"
   ]
  },
  {
   "cell_type": "code",
   "execution_count": 65,
   "metadata": {
    "tags": []
   },
   "outputs": [],
   "source": [
    "TRIALS_AND_LFP_DF[\"tracked_subject\"] = TRIALS_AND_LFP_DF[\"tracked_subject\"].apply(lambda x: x[0]) "
   ]
  },
  {
   "cell_type": "code",
   "execution_count": 66,
   "metadata": {
    "tags": []
   },
   "outputs": [],
   "source": [
    "TRIALS_AND_LFP_DF[\"box_number\"] = TRIALS_AND_LFP_DF[\"box_number\"].apply(lambda x: x[0]) "
   ]
  },
  {
   "cell_type": "code",
   "execution_count": 67,
   "metadata": {
    "tags": []
   },
   "outputs": [],
   "source": [
    "TRIALS_AND_LFP_DF[\"experiment\"] = TRIALS_AND_LFP_DF[\"experiment\"].apply(lambda x: x[0]) "
   ]
  },
  {
   "cell_type": "code",
   "execution_count": 68,
   "metadata": {
    "tags": []
   },
   "outputs": [
    {
     "data": {
      "text/html": [
       "<div>\n",
       "<style scoped>\n",
       "    .dataframe tbody tr th:only-of-type {\n",
       "        vertical-align: middle;\n",
       "    }\n",
       "\n",
       "    .dataframe tbody tr th {\n",
       "        vertical-align: top;\n",
       "    }\n",
       "\n",
       "    .dataframe thead th {\n",
       "        text-align: right;\n",
       "    }\n",
       "</style>\n",
       "<table border=\"1\" class=\"dataframe\">\n",
       "  <thead>\n",
       "    <tr style=\"text-align: right;\">\n",
       "      <th></th>\n",
       "      <th>video_name</th>\n",
       "      <th>current_subject</th>\n",
       "      <th>tracked_subject</th>\n",
       "      <th>box_number</th>\n",
       "      <th>sleap_name</th>\n",
       "      <th>tone_start_frame</th>\n",
       "      <th>reward_start_frame</th>\n",
       "      <th>tone_stop_frame</th>\n",
       "      <th>condition</th>\n",
       "      <th>competition_closeness</th>\n",
       "    </tr>\n",
       "  </thead>\n",
       "  <tbody>\n",
       "    <tr>\n",
       "      <th>0</th>\n",
       "      <td>20230612_112630_standard_comp_to_training_D1_s...</td>\n",
       "      <td>1.1</td>\n",
       "      <td>1.1_1.2</td>\n",
       "      <td>1</td>\n",
       "      <td>[20230612_112630_standard_comp_to_training_D1_...</td>\n",
       "      <td>[1125, 3519, 5815, 7612, 8709, 9708, 11604, 13...</td>\n",
       "      <td>[1225, 3619, 5915, 7712, 8809, 9808, 11704, 13...</td>\n",
       "      <td>[1324, 3720, 6014, 7811, 8910, 9907, 11804, 13...</td>\n",
       "      <td>[1.1, 1.2, 1.2, 1.2, 1.2, 1.2, 1.2, 1.2, 1.2, ...</td>\n",
       "      <td>[competitive, no_comp, competitive, no_comp, n...</td>\n",
       "    </tr>\n",
       "    <tr>\n",
       "      <th>1</th>\n",
       "      <td>20230612_112630_standard_comp_to_training_D1_s...</td>\n",
       "      <td>1.2</td>\n",
       "      <td>1.1_1.2</td>\n",
       "      <td>1</td>\n",
       "      <td>[20230612_112630_standard_comp_to_training_D1_...</td>\n",
       "      <td>[1125, 3519, 5815, 7612, 8709, 9708, 11604, 13...</td>\n",
       "      <td>[1225, 3619, 5915, 7712, 8809, 9808, 11704, 13...</td>\n",
       "      <td>[1324, 3720, 6014, 7811, 8910, 9907, 11804, 13...</td>\n",
       "      <td>[1.1, 1.2, 1.2, 1.2, 1.2, 1.2, 1.2, 1.2, 1.2, ...</td>\n",
       "      <td>[competitive, no_comp, competitive, no_comp, n...</td>\n",
       "    </tr>\n",
       "    <tr>\n",
       "      <th>2</th>\n",
       "      <td>20230613_105657_standard_comp_to_training_D2_s...</td>\n",
       "      <td>1.1</td>\n",
       "      <td>1.1_1.4</td>\n",
       "      <td>1</td>\n",
       "      <td>[20230613_105657_standard_comp_to_training_D2_...</td>\n",
       "      <td>[916, 3312, 5608, 7405, 8502, 9501, 11397, 128...</td>\n",
       "      <td>[1016, 3412, 5708, 7505, 8602, 9601, 11497, 12...</td>\n",
       "      <td>[1117, 3513, 5808, 7604, 8703, 9700, 11596, 13...</td>\n",
       "      <td>[1.4, 1.1, 1.1, 1.1, 1.1, 1.1, 1.1, 1.1, 1.1, ...</td>\n",
       "      <td>[no_comp, no_comp, competitive, competitive, c...</td>\n",
       "    </tr>\n",
       "    <tr>\n",
       "      <th>3</th>\n",
       "      <td>20230613_105657_standard_comp_to_training_D2_s...</td>\n",
       "      <td>1.4</td>\n",
       "      <td>1.1_1.4</td>\n",
       "      <td>1</td>\n",
       "      <td>[20230613_105657_standard_comp_to_training_D2_...</td>\n",
       "      <td>[916, 3312, 5608, 7405, 8502, 9501, 11397, 128...</td>\n",
       "      <td>[1016, 3412, 5708, 7505, 8602, 9601, 11497, 12...</td>\n",
       "      <td>[1117, 3513, 5808, 7604, 8703, 9700, 11596, 13...</td>\n",
       "      <td>[1.4, 1.1, 1.1, 1.1, 1.1, 1.1, 1.1, 1.1, 1.1, ...</td>\n",
       "      <td>[no_comp, no_comp, competitive, competitive, c...</td>\n",
       "    </tr>\n",
       "    <tr>\n",
       "      <th>4</th>\n",
       "      <td>20230614_114041_standard_comp_to_training_D3_s...</td>\n",
       "      <td>1.1</td>\n",
       "      <td>1.1_1.2</td>\n",
       "      <td>1</td>\n",
       "      <td>[20230614_114041_standard_comp_to_training_D3_...</td>\n",
       "      <td>[855, 3251, 5546, 7343, 8441, 9439, 11335, 128...</td>\n",
       "      <td>[955, 3351, 5646, 7443, 8541, 9539, 11435, 129...</td>\n",
       "      <td>[1055, 3450, 5747, 7542, 8640, 9639, 11536, 13...</td>\n",
       "      <td>[1.2, 1.2, 1.1, 1.1, 1.2, 1.1, 1.1, 1.1, 1.1, ...</td>\n",
       "      <td>[competitive, no_comp, no_comp, competitive, c...</td>\n",
       "    </tr>\n",
       "  </tbody>\n",
       "</table>\n",
       "</div>"
      ],
      "text/plain": [
       "                                          video_name current_subject  \\\n",
       "0  20230612_112630_standard_comp_to_training_D1_s...             1.1   \n",
       "1  20230612_112630_standard_comp_to_training_D1_s...             1.2   \n",
       "2  20230613_105657_standard_comp_to_training_D2_s...             1.1   \n",
       "3  20230613_105657_standard_comp_to_training_D2_s...             1.4   \n",
       "4  20230614_114041_standard_comp_to_training_D3_s...             1.1   \n",
       "\n",
       "  tracked_subject  box_number  \\\n",
       "0         1.1_1.2           1   \n",
       "1         1.1_1.2           1   \n",
       "2         1.1_1.4           1   \n",
       "3         1.1_1.4           1   \n",
       "4         1.1_1.2           1   \n",
       "\n",
       "                                          sleap_name  \\\n",
       "0  [20230612_112630_standard_comp_to_training_D1_...   \n",
       "1  [20230612_112630_standard_comp_to_training_D1_...   \n",
       "2  [20230613_105657_standard_comp_to_training_D2_...   \n",
       "3  [20230613_105657_standard_comp_to_training_D2_...   \n",
       "4  [20230614_114041_standard_comp_to_training_D3_...   \n",
       "\n",
       "                                    tone_start_frame  \\\n",
       "0  [1125, 3519, 5815, 7612, 8709, 9708, 11604, 13...   \n",
       "1  [1125, 3519, 5815, 7612, 8709, 9708, 11604, 13...   \n",
       "2  [916, 3312, 5608, 7405, 8502, 9501, 11397, 128...   \n",
       "3  [916, 3312, 5608, 7405, 8502, 9501, 11397, 128...   \n",
       "4  [855, 3251, 5546, 7343, 8441, 9439, 11335, 128...   \n",
       "\n",
       "                                  reward_start_frame  \\\n",
       "0  [1225, 3619, 5915, 7712, 8809, 9808, 11704, 13...   \n",
       "1  [1225, 3619, 5915, 7712, 8809, 9808, 11704, 13...   \n",
       "2  [1016, 3412, 5708, 7505, 8602, 9601, 11497, 12...   \n",
       "3  [1016, 3412, 5708, 7505, 8602, 9601, 11497, 12...   \n",
       "4  [955, 3351, 5646, 7443, 8541, 9539, 11435, 129...   \n",
       "\n",
       "                                     tone_stop_frame  \\\n",
       "0  [1324, 3720, 6014, 7811, 8910, 9907, 11804, 13...   \n",
       "1  [1324, 3720, 6014, 7811, 8910, 9907, 11804, 13...   \n",
       "2  [1117, 3513, 5808, 7604, 8703, 9700, 11596, 13...   \n",
       "3  [1117, 3513, 5808, 7604, 8703, 9700, 11596, 13...   \n",
       "4  [1055, 3450, 5747, 7542, 8640, 9639, 11536, 13...   \n",
       "\n",
       "                                           condition  \\\n",
       "0  [1.1, 1.2, 1.2, 1.2, 1.2, 1.2, 1.2, 1.2, 1.2, ...   \n",
       "1  [1.1, 1.2, 1.2, 1.2, 1.2, 1.2, 1.2, 1.2, 1.2, ...   \n",
       "2  [1.4, 1.1, 1.1, 1.1, 1.1, 1.1, 1.1, 1.1, 1.1, ...   \n",
       "3  [1.4, 1.1, 1.1, 1.1, 1.1, 1.1, 1.1, 1.1, 1.1, ...   \n",
       "4  [1.2, 1.2, 1.1, 1.1, 1.2, 1.1, 1.1, 1.1, 1.1, ...   \n",
       "\n",
       "                               competition_closeness  \n",
       "0  [competitive, no_comp, competitive, no_comp, n...  \n",
       "1  [competitive, no_comp, competitive, no_comp, n...  \n",
       "2  [no_comp, no_comp, competitive, competitive, c...  \n",
       "3  [no_comp, no_comp, competitive, competitive, c...  \n",
       "4  [competitive, no_comp, no_comp, competitive, c...  "
      ]
     },
     "execution_count": 68,
     "metadata": {},
     "output_type": "execute_result"
    }
   ],
   "source": [
    "TRIALS_AND_LFP_DF.iloc[:, :10].head()"
   ]
  },
  {
   "cell_type": "code",
   "execution_count": 69,
   "metadata": {
    "tags": []
   },
   "outputs": [
    {
     "data": {
      "text/html": [
       "<div>\n",
       "<style scoped>\n",
       "    .dataframe tbody tr th:only-of-type {\n",
       "        vertical-align: middle;\n",
       "    }\n",
       "\n",
       "    .dataframe tbody tr th {\n",
       "        vertical-align: top;\n",
       "    }\n",
       "\n",
       "    .dataframe thead th {\n",
       "        text-align: right;\n",
       "    }\n",
       "</style>\n",
       "<table border=\"1\" class=\"dataframe\">\n",
       "  <thead>\n",
       "    <tr style=\"text-align: right;\">\n",
       "      <th></th>\n",
       "      <th>notes</th>\n",
       "      <th>experiment</th>\n",
       "      <th>session_dir</th>\n",
       "      <th>all_subjects</th>\n",
       "      <th>tone_start_timestamp</th>\n",
       "      <th>tone_stop_timestamp</th>\n",
       "      <th>trial_label</th>\n",
       "      <th>cohort</th>\n",
       "      <th>box_1_port_entry_frames</th>\n",
       "      <th>box_2_port_entry_frames</th>\n",
       "    </tr>\n",
       "  </thead>\n",
       "  <tbody>\n",
       "    <tr>\n",
       "      <th>0</th>\n",
       "      <td>[nan, nan, nan, nan, nan, nan, nan, nan, nan, ...</td>\n",
       "      <td>standard</td>\n",
       "      <td>[20230612_112630_standard_comp_to_training_D1_...</td>\n",
       "      <td>[['1.1', '1.2'], ['1.1', '1.2'], ['1.1', '1.2'...</td>\n",
       "      <td>[1126742, 3526740, 5826740, 7626736, 8726734, ...</td>\n",
       "      <td>[1326741, 3726740, 6026737, 7826735, 8926734, ...</td>\n",
       "      <td>[win, lose, lose, lose, lose, lose, lose, lose...</td>\n",
       "      <td>2</td>\n",
       "      <td>[[192, 248], [389, 405], [916, 929], [929, 948...</td>\n",
       "      <td>[]</td>\n",
       "    </tr>\n",
       "    <tr>\n",
       "      <th>1</th>\n",
       "      <td>[nan, nan, nan, nan, nan, nan, nan, nan, nan, ...</td>\n",
       "      <td>standard</td>\n",
       "      <td>[20230612_112630_standard_comp_to_training_D1_...</td>\n",
       "      <td>[['1.1', '1.2'], ['1.1', '1.2'], ['1.1', '1.2'...</td>\n",
       "      <td>[1126742, 3526740, 5826740, 7626736, 8726734, ...</td>\n",
       "      <td>[1326741, 3726740, 6026737, 7826735, 8926734, ...</td>\n",
       "      <td>[lose, win, win, win, win, win, win, win, win,...</td>\n",
       "      <td>2</td>\n",
       "      <td>[[192, 248], [389, 405], [916, 929], [929, 948...</td>\n",
       "      <td>[]</td>\n",
       "    </tr>\n",
       "    <tr>\n",
       "      <th>2</th>\n",
       "      <td>[nan, nan, nan, nan, nan, nan, nan, nan, nan, ...</td>\n",
       "      <td>standard</td>\n",
       "      <td>[20230613_105657_standard_comp_to_training_D2_...</td>\n",
       "      <td>[['1.1', '1.4'], ['1.1', '1.4'], ['1.1', '1.4'...</td>\n",
       "      <td>[918755, 3318755, 5618754, 7418755, 8518752, 9...</td>\n",
       "      <td>[1118758, 3518757, 5818753, 7618752, 8718757, ...</td>\n",
       "      <td>[lose, win, win, win, win, win, win, win, win,...</td>\n",
       "      <td>2</td>\n",
       "      <td>[[49, 67], [70, 79], [360, 366], [460, 469], [...</td>\n",
       "      <td>[]</td>\n",
       "    </tr>\n",
       "    <tr>\n",
       "      <th>3</th>\n",
       "      <td>[nan, nan, nan, nan, nan, nan, nan, nan, nan, ...</td>\n",
       "      <td>standard</td>\n",
       "      <td>[20230613_105657_standard_comp_to_training_D2_...</td>\n",
       "      <td>[['1.1', '1.4'], ['1.1', '1.4'], ['1.1', '1.4'...</td>\n",
       "      <td>[918755, 3318755, 5618754, 7418755, 8518752, 9...</td>\n",
       "      <td>[1118758, 3518757, 5818753, 7618752, 8718757, ...</td>\n",
       "      <td>[win, lose, lose, lose, lose, lose, lose, lose...</td>\n",
       "      <td>2</td>\n",
       "      <td>[[49, 67], [70, 79], [360, 366], [460, 469], [...</td>\n",
       "      <td>[]</td>\n",
       "    </tr>\n",
       "    <tr>\n",
       "      <th>4</th>\n",
       "      <td>[nan, nan, nan, nan, nan, nan, nan, nan, nan, ...</td>\n",
       "      <td>standard</td>\n",
       "      <td>[20230614_114041_standard_comp_to_training_D3_...</td>\n",
       "      <td>[['1.1', '1.2'], ['1.1', '1.2'], ['1.1', '1.2'...</td>\n",
       "      <td>[856955, 3256958, 5556954, 7356953, 8456953, 9...</td>\n",
       "      <td>[1056957, 3456953, 5756952, 7556953, 8656953, ...</td>\n",
       "      <td>[lose, lose, win, win, lose, win, win, win, wi...</td>\n",
       "      <td>2</td>\n",
       "      <td>[[21, 27], [111, 126], [278, 321], [339, 393],...</td>\n",
       "      <td>[]</td>\n",
       "    </tr>\n",
       "  </tbody>\n",
       "</table>\n",
       "</div>"
      ],
      "text/plain": [
       "                                               notes experiment  \\\n",
       "0  [nan, nan, nan, nan, nan, nan, nan, nan, nan, ...   standard   \n",
       "1  [nan, nan, nan, nan, nan, nan, nan, nan, nan, ...   standard   \n",
       "2  [nan, nan, nan, nan, nan, nan, nan, nan, nan, ...   standard   \n",
       "3  [nan, nan, nan, nan, nan, nan, nan, nan, nan, ...   standard   \n",
       "4  [nan, nan, nan, nan, nan, nan, nan, nan, nan, ...   standard   \n",
       "\n",
       "                                         session_dir  \\\n",
       "0  [20230612_112630_standard_comp_to_training_D1_...   \n",
       "1  [20230612_112630_standard_comp_to_training_D1_...   \n",
       "2  [20230613_105657_standard_comp_to_training_D2_...   \n",
       "3  [20230613_105657_standard_comp_to_training_D2_...   \n",
       "4  [20230614_114041_standard_comp_to_training_D3_...   \n",
       "\n",
       "                                        all_subjects  \\\n",
       "0  [['1.1', '1.2'], ['1.1', '1.2'], ['1.1', '1.2'...   \n",
       "1  [['1.1', '1.2'], ['1.1', '1.2'], ['1.1', '1.2'...   \n",
       "2  [['1.1', '1.4'], ['1.1', '1.4'], ['1.1', '1.4'...   \n",
       "3  [['1.1', '1.4'], ['1.1', '1.4'], ['1.1', '1.4'...   \n",
       "4  [['1.1', '1.2'], ['1.1', '1.2'], ['1.1', '1.2'...   \n",
       "\n",
       "                                tone_start_timestamp  \\\n",
       "0  [1126742, 3526740, 5826740, 7626736, 8726734, ...   \n",
       "1  [1126742, 3526740, 5826740, 7626736, 8726734, ...   \n",
       "2  [918755, 3318755, 5618754, 7418755, 8518752, 9...   \n",
       "3  [918755, 3318755, 5618754, 7418755, 8518752, 9...   \n",
       "4  [856955, 3256958, 5556954, 7356953, 8456953, 9...   \n",
       "\n",
       "                                 tone_stop_timestamp  \\\n",
       "0  [1326741, 3726740, 6026737, 7826735, 8926734, ...   \n",
       "1  [1326741, 3726740, 6026737, 7826735, 8926734, ...   \n",
       "2  [1118758, 3518757, 5818753, 7618752, 8718757, ...   \n",
       "3  [1118758, 3518757, 5818753, 7618752, 8718757, ...   \n",
       "4  [1056957, 3456953, 5756952, 7556953, 8656953, ...   \n",
       "\n",
       "                                         trial_label  cohort  \\\n",
       "0  [win, lose, lose, lose, lose, lose, lose, lose...       2   \n",
       "1  [lose, win, win, win, win, win, win, win, win,...       2   \n",
       "2  [lose, win, win, win, win, win, win, win, win,...       2   \n",
       "3  [win, lose, lose, lose, lose, lose, lose, lose...       2   \n",
       "4  [lose, lose, win, win, lose, win, win, win, wi...       2   \n",
       "\n",
       "                             box_1_port_entry_frames box_2_port_entry_frames  \n",
       "0  [[192, 248], [389, 405], [916, 929], [929, 948...                      []  \n",
       "1  [[192, 248], [389, 405], [916, 929], [929, 948...                      []  \n",
       "2  [[49, 67], [70, 79], [360, 366], [460, 469], [...                      []  \n",
       "3  [[49, 67], [70, 79], [360, 366], [460, 469], [...                      []  \n",
       "4  [[21, 27], [111, 126], [278, 321], [339, 393],...                      []  "
      ]
     },
     "execution_count": 69,
     "metadata": {},
     "output_type": "execute_result"
    }
   ],
   "source": [
    "TRIALS_AND_LFP_DF.iloc[:, 10:20].head()"
   ]
  },
  {
   "cell_type": "code",
   "execution_count": 70,
   "metadata": {
    "tags": []
   },
   "outputs": [
    {
     "data": {
      "text/html": [
       "<div>\n",
       "<style scoped>\n",
       "    .dataframe tbody tr th:only-of-type {\n",
       "        vertical-align: middle;\n",
       "    }\n",
       "\n",
       "    .dataframe tbody tr th {\n",
       "        vertical-align: top;\n",
       "    }\n",
       "\n",
       "    .dataframe thead th {\n",
       "        text-align: right;\n",
       "    }\n",
       "</style>\n",
       "<table border=\"1\" class=\"dataframe\">\n",
       "  <thead>\n",
       "    <tr style=\"text-align: right;\">\n",
       "      <th></th>\n",
       "      <th>session_path</th>\n",
       "      <th>recording</th>\n",
       "      <th>subject</th>\n",
       "      <th>first_timestamp</th>\n",
       "      <th>last_timestamp</th>\n",
       "      <th>video_timestamps</th>\n",
       "      <th>tone_timestamps</th>\n",
       "      <th>box_1_port_entry_timestamps</th>\n",
       "      <th>box_2_port_entry_timestamps</th>\n",
       "      <th>lfp_timestamps</th>\n",
       "    </tr>\n",
       "  </thead>\n",
       "  <tbody>\n",
       "    <tr>\n",
       "      <th>0</th>\n",
       "      <td>/scratch/back_up/reward_competition_extention/...</td>\n",
       "      <td>20230612_112630_standard_comp_to_training_D1_s...</td>\n",
       "      <td>1.1</td>\n",
       "      <td>7977066</td>\n",
       "      <td>76318450</td>\n",
       "      <td>[1384, 2444, 2769, 4155, 5541, 6708, 6927, 831...</td>\n",
       "      <td>[[1126742, 1326741], [3526740, 3726740], [5826...</td>\n",
       "      <td>[[192745, 249350], [389747, 407142], [917544, ...</td>\n",
       "      <td>[[33037711, 33038706], [33264908, 33270313], [...</td>\n",
       "      <td>[0, 20, 40, 60, 80, 100, 120, 140, 160, 180, 2...</td>\n",
       "    </tr>\n",
       "    <tr>\n",
       "      <th>1</th>\n",
       "      <td>/scratch/back_up/reward_competition_extention/...</td>\n",
       "      <td>20230612_112630_standard_comp_to_training_D1_s...</td>\n",
       "      <td>1.2</td>\n",
       "      <td>7977066</td>\n",
       "      <td>76318450</td>\n",
       "      <td>[1384, 2444, 2769, 4155, 5541, 6708, 6927, 831...</td>\n",
       "      <td>[[1126742, 1326741], [3526740, 3726740], [5826...</td>\n",
       "      <td>[[192745, 249350], [389747, 407142], [917544, ...</td>\n",
       "      <td>[[33037711, 33038706], [33264908, 33270313], [...</td>\n",
       "      <td>[0, 20, 40, 60, 80, 100, 120, 140, 160, 180, 2...</td>\n",
       "    </tr>\n",
       "    <tr>\n",
       "      <th>2</th>\n",
       "      <td>/scratch/back_up/reward_competition_extention/...</td>\n",
       "      <td>20230613_105657_standard_comp_to_training_D2_s...</td>\n",
       "      <td>1.1</td>\n",
       "      <td>7454593</td>\n",
       "      <td>75876357</td>\n",
       "      <td>[1384, 1384, 2770, 4156, 4156, 5541, 6927, 831...</td>\n",
       "      <td>[[918755, 1118758], [3318755, 3518757], [56187...</td>\n",
       "      <td>[[49358, 67558], [70155, 79355], [360955, 3671...</td>\n",
       "      <td>[[33624333, 33822933], [34132932, 34190535], [...</td>\n",
       "      <td>[0, 20, 40, 60, 80, 100, 120, 140, 160, 180, 2...</td>\n",
       "    </tr>\n",
       "    <tr>\n",
       "      <th>3</th>\n",
       "      <td>/scratch/back_up/reward_competition_extention/...</td>\n",
       "      <td>20230613_105657_standard_comp_to_training_D2_s...</td>\n",
       "      <td>1.4</td>\n",
       "      <td>7454593</td>\n",
       "      <td>75876357</td>\n",
       "      <td>[1384, 1384, 2770, 4156, 4156, 5541, 6927, 831...</td>\n",
       "      <td>[[918755, 1118758], [3318755, 3518757], [56187...</td>\n",
       "      <td>[[49358, 67558], [70155, 79355], [360955, 3671...</td>\n",
       "      <td>[[33624333, 33822933], [34132932, 34190535], [...</td>\n",
       "      <td>[0, 20, 40, 60, 80, 100, 120, 140, 160, 180, 2...</td>\n",
       "    </tr>\n",
       "    <tr>\n",
       "      <th>4</th>\n",
       "      <td>/scratch/back_up/reward_competition_extention/...</td>\n",
       "      <td>20230614_114041_standard_comp_to_training_D3_s...</td>\n",
       "      <td>1.1</td>\n",
       "      <td>34373723</td>\n",
       "      <td>102449020</td>\n",
       "      <td>[-2, 1384, 2770, 4156, 4156, 5542, 6928, 8314,...</td>\n",
       "      <td>[[856955, 1056957], [3256958, 3456953], [55569...</td>\n",
       "      <td>[[22157, 27562], [111755, 127157], [278955, 32...</td>\n",
       "      <td>[[33048338, 33059738], [33066538, 33067341], [...</td>\n",
       "      <td>[0, 20, 40, 60, 80, 100, 120, 140, 160, 180, 2...</td>\n",
       "    </tr>\n",
       "  </tbody>\n",
       "</table>\n",
       "</div>"
      ],
      "text/plain": [
       "                                        session_path  \\\n",
       "0  /scratch/back_up/reward_competition_extention/...   \n",
       "1  /scratch/back_up/reward_competition_extention/...   \n",
       "2  /scratch/back_up/reward_competition_extention/...   \n",
       "3  /scratch/back_up/reward_competition_extention/...   \n",
       "4  /scratch/back_up/reward_competition_extention/...   \n",
       "\n",
       "                                           recording subject  first_timestamp  \\\n",
       "0  20230612_112630_standard_comp_to_training_D1_s...     1.1          7977066   \n",
       "1  20230612_112630_standard_comp_to_training_D1_s...     1.2          7977066   \n",
       "2  20230613_105657_standard_comp_to_training_D2_s...     1.1          7454593   \n",
       "3  20230613_105657_standard_comp_to_training_D2_s...     1.4          7454593   \n",
       "4  20230614_114041_standard_comp_to_training_D3_s...     1.1         34373723   \n",
       "\n",
       "   last_timestamp                                   video_timestamps  \\\n",
       "0        76318450  [1384, 2444, 2769, 4155, 5541, 6708, 6927, 831...   \n",
       "1        76318450  [1384, 2444, 2769, 4155, 5541, 6708, 6927, 831...   \n",
       "2        75876357  [1384, 1384, 2770, 4156, 4156, 5541, 6927, 831...   \n",
       "3        75876357  [1384, 1384, 2770, 4156, 4156, 5541, 6927, 831...   \n",
       "4       102449020  [-2, 1384, 2770, 4156, 4156, 5542, 6928, 8314,...   \n",
       "\n",
       "                                     tone_timestamps  \\\n",
       "0  [[1126742, 1326741], [3526740, 3726740], [5826...   \n",
       "1  [[1126742, 1326741], [3526740, 3726740], [5826...   \n",
       "2  [[918755, 1118758], [3318755, 3518757], [56187...   \n",
       "3  [[918755, 1118758], [3318755, 3518757], [56187...   \n",
       "4  [[856955, 1056957], [3256958, 3456953], [55569...   \n",
       "\n",
       "                         box_1_port_entry_timestamps  \\\n",
       "0  [[192745, 249350], [389747, 407142], [917544, ...   \n",
       "1  [[192745, 249350], [389747, 407142], [917544, ...   \n",
       "2  [[49358, 67558], [70155, 79355], [360955, 3671...   \n",
       "3  [[49358, 67558], [70155, 79355], [360955, 3671...   \n",
       "4  [[22157, 27562], [111755, 127157], [278955, 32...   \n",
       "\n",
       "                         box_2_port_entry_timestamps  \\\n",
       "0  [[33037711, 33038706], [33264908, 33270313], [...   \n",
       "1  [[33037711, 33038706], [33264908, 33270313], [...   \n",
       "2  [[33624333, 33822933], [34132932, 34190535], [...   \n",
       "3  [[33624333, 33822933], [34132932, 34190535], [...   \n",
       "4  [[33048338, 33059738], [33066538, 33067341], [...   \n",
       "\n",
       "                                      lfp_timestamps  \n",
       "0  [0, 20, 40, 60, 80, 100, 120, 140, 160, 180, 2...  \n",
       "1  [0, 20, 40, 60, 80, 100, 120, 140, 160, 180, 2...  \n",
       "2  [0, 20, 40, 60, 80, 100, 120, 140, 160, 180, 2...  \n",
       "3  [0, 20, 40, 60, 80, 100, 120, 140, 160, 180, 2...  \n",
       "4  [0, 20, 40, 60, 80, 100, 120, 140, 160, 180, 2...  "
      ]
     },
     "execution_count": 70,
     "metadata": {},
     "output_type": "execute_result"
    }
   ],
   "source": [
    "TRIALS_AND_LFP_DF.iloc[:, 20:30].head()"
   ]
  },
  {
   "cell_type": "code",
   "execution_count": 71,
   "metadata": {
    "tags": []
   },
   "outputs": [
    {
     "data": {
      "text/html": [
       "<div>\n",
       "<style scoped>\n",
       "    .dataframe tbody tr th:only-of-type {\n",
       "        vertical-align: middle;\n",
       "    }\n",
       "\n",
       "    .dataframe tbody tr th {\n",
       "        vertical-align: top;\n",
       "    }\n",
       "\n",
       "    .dataframe thead th {\n",
       "        text-align: right;\n",
       "    }\n",
       "</style>\n",
       "<table border=\"1\" class=\"dataframe\">\n",
       "  <thead>\n",
       "    <tr style=\"text-align: right;\">\n",
       "      <th></th>\n",
       "      <th>mPFC_lfp_trace</th>\n",
       "      <th>MD_lfp_trace</th>\n",
       "      <th>LH_lfp_trace</th>\n",
       "      <th>BLA_lfp_trace</th>\n",
       "      <th>vHPC_lfp_trace</th>\n",
       "      <th>in_video_subjects</th>\n",
       "      <th>body_parts</th>\n",
       "      <th>box_top_left</th>\n",
       "      <th>box_top_right</th>\n",
       "      <th>reward_port</th>\n",
       "    </tr>\n",
       "  </thead>\n",
       "  <tbody>\n",
       "    <tr>\n",
       "      <th>0</th>\n",
       "      <td>[-25, 109, 387, 581, 516, 265, 149, 242, 374, ...</td>\n",
       "      <td>[70, 188, 276, 173, 16, -81, -123, -215, -200,...</td>\n",
       "      <td>[41, 168, 288, 247, 151, 16, -102, -161, -119,...</td>\n",
       "      <td>[23, 46, 98, 135, 85, -84, -245, -236, -107, 4...</td>\n",
       "      <td>[176, 259, 227, -7, -163, -145, -34, -11, -150...</td>\n",
       "      <td>[1.1, 1.2]</td>\n",
       "      <td>[left_ear, right_ear, nose, tail_base, thorax,...</td>\n",
       "      <td>[30.24932345912479, 10.25122851487125]</td>\n",
       "      <td>[59.816912963855586, 10.100544626940918]</td>\n",
       "      <td>[45.23441700698972, 35.83828707637651]</td>\n",
       "    </tr>\n",
       "    <tr>\n",
       "      <th>1</th>\n",
       "      <td>[-290, -443, -390, -61, -39, -221, -218, -88, ...</td>\n",
       "      <td>[-288, -443, -359, -24, -79, -272, -218, -148,...</td>\n",
       "      <td>[-120, -260, -145, 142, 24, -150, -129, -147, ...</td>\n",
       "      <td>[90, -41, 65, 307, 201, 58, 33, 41, -139, -359...</td>\n",
       "      <td>[1026, 831, 797, 884, 666, 447, 331, 237, -97,...</td>\n",
       "      <td>[1.1, 1.2]</td>\n",
       "      <td>[left_ear, right_ear, nose, tail_base, thorax,...</td>\n",
       "      <td>[30.24932345912479, 10.25122851487125]</td>\n",
       "      <td>[59.816912963855586, 10.100544626940918]</td>\n",
       "      <td>[45.23441700698972, 35.83828707637651]</td>\n",
       "    </tr>\n",
       "    <tr>\n",
       "      <th>2</th>\n",
       "      <td>[-339, -315, -473, -590, -483, -394, -384, -56...</td>\n",
       "      <td>[-561, -507, -601, -730, -648, -497, -418, -51...</td>\n",
       "      <td>[-462, -453, -620, -747, -615, -473, -498, -68...</td>\n",
       "      <td>[-608, -488, -443, -405, -144, 75, 4, -339, -4...</td>\n",
       "      <td>[-623, -582, -674, -893, -972, -845, -671, -58...</td>\n",
       "      <td>[1.1, 1.4]</td>\n",
       "      <td>[left_ear, right_ear, nose, tail_base, thorax,...</td>\n",
       "      <td>[29.42717788149638, 10.939657307701639]</td>\n",
       "      <td>[58.80982189308497, 10.239514076824564]</td>\n",
       "      <td>[45.31189572048577, 36.38317068198775]</td>\n",
       "    </tr>\n",
       "    <tr>\n",
       "      <th>3</th>\n",
       "      <td>[-284, -510, -780, -875, -931, -883, -802, -75...</td>\n",
       "      <td>[-44, -194, -365, -387, -400, -445, -496, -519...</td>\n",
       "      <td>[27, -157, -299, -261, -290, -339, -388, -426,...</td>\n",
       "      <td>[333, 279, 0, -345, -552, -781, -888, -669, -3...</td>\n",
       "      <td>[-17, -144, -417, -618, -599, -514, -532, -527...</td>\n",
       "      <td>[1.1, 1.4]</td>\n",
       "      <td>[left_ear, right_ear, nose, tail_base, thorax,...</td>\n",
       "      <td>[29.42717788149638, 10.939657307701639]</td>\n",
       "      <td>[58.80982189308497, 10.239514076824564]</td>\n",
       "      <td>[45.31189572048577, 36.38317068198775]</td>\n",
       "    </tr>\n",
       "    <tr>\n",
       "      <th>4</th>\n",
       "      <td>[-645, -693, -502, -157, -122, -255, -356, -49...</td>\n",
       "      <td>[-508, -590, -437, -132, -144, -257, -287, -31...</td>\n",
       "      <td>[-456, -533, -343, -19, -61, -229, -339, -381,...</td>\n",
       "      <td>[-333, -359, -263, -167, -341, -572, -659, -70...</td>\n",
       "      <td>[-805, -822, -759, -699, -741, -752, -753, -79...</td>\n",
       "      <td>[1.1, 1.2]</td>\n",
       "      <td>[left_ear, right_ear, nose, tail_base, thorax,...</td>\n",
       "      <td>[29.10707058981441, 11.364487226798616]</td>\n",
       "      <td>[58.883863567261514, 10.806271116252097]</td>\n",
       "      <td>[45.44232917370965, 36.91440422283628]</td>\n",
       "    </tr>\n",
       "  </tbody>\n",
       "</table>\n",
       "</div>"
      ],
      "text/plain": [
       "                                      mPFC_lfp_trace  \\\n",
       "0  [-25, 109, 387, 581, 516, 265, 149, 242, 374, ...   \n",
       "1  [-290, -443, -390, -61, -39, -221, -218, -88, ...   \n",
       "2  [-339, -315, -473, -590, -483, -394, -384, -56...   \n",
       "3  [-284, -510, -780, -875, -931, -883, -802, -75...   \n",
       "4  [-645, -693, -502, -157, -122, -255, -356, -49...   \n",
       "\n",
       "                                        MD_lfp_trace  \\\n",
       "0  [70, 188, 276, 173, 16, -81, -123, -215, -200,...   \n",
       "1  [-288, -443, -359, -24, -79, -272, -218, -148,...   \n",
       "2  [-561, -507, -601, -730, -648, -497, -418, -51...   \n",
       "3  [-44, -194, -365, -387, -400, -445, -496, -519...   \n",
       "4  [-508, -590, -437, -132, -144, -257, -287, -31...   \n",
       "\n",
       "                                        LH_lfp_trace  \\\n",
       "0  [41, 168, 288, 247, 151, 16, -102, -161, -119,...   \n",
       "1  [-120, -260, -145, 142, 24, -150, -129, -147, ...   \n",
       "2  [-462, -453, -620, -747, -615, -473, -498, -68...   \n",
       "3  [27, -157, -299, -261, -290, -339, -388, -426,...   \n",
       "4  [-456, -533, -343, -19, -61, -229, -339, -381,...   \n",
       "\n",
       "                                       BLA_lfp_trace  \\\n",
       "0  [23, 46, 98, 135, 85, -84, -245, -236, -107, 4...   \n",
       "1  [90, -41, 65, 307, 201, 58, 33, 41, -139, -359...   \n",
       "2  [-608, -488, -443, -405, -144, 75, 4, -339, -4...   \n",
       "3  [333, 279, 0, -345, -552, -781, -888, -669, -3...   \n",
       "4  [-333, -359, -263, -167, -341, -572, -659, -70...   \n",
       "\n",
       "                                      vHPC_lfp_trace in_video_subjects  \\\n",
       "0  [176, 259, 227, -7, -163, -145, -34, -11, -150...        [1.1, 1.2]   \n",
       "1  [1026, 831, 797, 884, 666, 447, 331, 237, -97,...        [1.1, 1.2]   \n",
       "2  [-623, -582, -674, -893, -972, -845, -671, -58...        [1.1, 1.4]   \n",
       "3  [-17, -144, -417, -618, -599, -514, -532, -527...        [1.1, 1.4]   \n",
       "4  [-805, -822, -759, -699, -741, -752, -753, -79...        [1.1, 1.2]   \n",
       "\n",
       "                                          body_parts  \\\n",
       "0  [left_ear, right_ear, nose, tail_base, thorax,...   \n",
       "1  [left_ear, right_ear, nose, tail_base, thorax,...   \n",
       "2  [left_ear, right_ear, nose, tail_base, thorax,...   \n",
       "3  [left_ear, right_ear, nose, tail_base, thorax,...   \n",
       "4  [left_ear, right_ear, nose, tail_base, thorax,...   \n",
       "\n",
       "                              box_top_left  \\\n",
       "0   [30.24932345912479, 10.25122851487125]   \n",
       "1   [30.24932345912479, 10.25122851487125]   \n",
       "2  [29.42717788149638, 10.939657307701639]   \n",
       "3  [29.42717788149638, 10.939657307701639]   \n",
       "4  [29.10707058981441, 11.364487226798616]   \n",
       "\n",
       "                              box_top_right  \\\n",
       "0  [59.816912963855586, 10.100544626940918]   \n",
       "1  [59.816912963855586, 10.100544626940918]   \n",
       "2   [58.80982189308497, 10.239514076824564]   \n",
       "3   [58.80982189308497, 10.239514076824564]   \n",
       "4  [58.883863567261514, 10.806271116252097]   \n",
       "\n",
       "                              reward_port  \n",
       "0  [45.23441700698972, 35.83828707637651]  \n",
       "1  [45.23441700698972, 35.83828707637651]  \n",
       "2  [45.31189572048577, 36.38317068198775]  \n",
       "3  [45.31189572048577, 36.38317068198775]  \n",
       "4  [45.44232917370965, 36.91440422283628]  "
      ]
     },
     "execution_count": 71,
     "metadata": {},
     "output_type": "execute_result"
    }
   ],
   "source": [
    "TRIALS_AND_LFP_DF.iloc[:, 30:40].head()"
   ]
  },
  {
   "cell_type": "code",
   "execution_count": 72,
   "metadata": {
    "tags": []
   },
   "outputs": [
    {
     "data": {
      "text/html": [
       "<div>\n",
       "<style scoped>\n",
       "    .dataframe tbody tr th:only-of-type {\n",
       "        vertical-align: middle;\n",
       "    }\n",
       "\n",
       "    .dataframe tbody tr th {\n",
       "        vertical-align: top;\n",
       "    }\n",
       "\n",
       "    .dataframe thead th {\n",
       "        text-align: right;\n",
       "    }\n",
       "</style>\n",
       "<table border=\"1\" class=\"dataframe\">\n",
       "  <thead>\n",
       "    <tr style=\"text-align: right;\">\n",
       "      <th></th>\n",
       "      <th>box_bottom_left</th>\n",
       "      <th>box_bottom_right</th>\n",
       "      <th>agent</th>\n",
       "      <th>subject_locations</th>\n",
       "      <th>agent_locations</th>\n",
       "      <th>subject_thorax_velocity</th>\n",
       "      <th>agent_thorax_velocity</th>\n",
       "      <th>subject_thorax_to_reward_port</th>\n",
       "      <th>agent_thorax_to_reward_port</th>\n",
       "      <th>start_stop_frame</th>\n",
       "    </tr>\n",
       "  </thead>\n",
       "  <tbody>\n",
       "    <tr>\n",
       "      <th>0</th>\n",
       "      <td>[30.458913657178506, 34.21867013031604]</td>\n",
       "      <td>[59.89132415244771, 34.13310301149612]</td>\n",
       "      <td>1.2</td>\n",
       "      <td>[[[46.68890098287189, 11.495085446056166], [43...</td>\n",
       "      <td>[[[34.36404036584844, 35.615553316175784], [34...</td>\n",
       "      <td>[1.8125, 1.707, 1.6045, 1.506, 1.409, 1.315, 1...</td>\n",
       "      <td>[14.336, 12.875, 11.47, 10.11, 8.81, 7.57, 6.3...</td>\n",
       "      <td>[26.45, 26.16, 26.1, 25.77, 25.72, 25.78, 26.1...</td>\n",
       "      <td>[6.11, 6.06, 6.125, 6.566, 6.605, 6.676, 7.13,...</td>\n",
       "      <td>(0, 32299)</td>\n",
       "    </tr>\n",
       "    <tr>\n",
       "      <th>1</th>\n",
       "      <td>[30.458913657178506, 34.21867013031604]</td>\n",
       "      <td>[59.89132415244771, 34.13310301149612]</td>\n",
       "      <td>1.1</td>\n",
       "      <td>[[[34.36404036584844, 35.615553316175784], [34...</td>\n",
       "      <td>[[[46.68890098287189, 11.495085446056166], [43...</td>\n",
       "      <td>[14.336, 12.875, 11.47, 10.11, 8.81, 7.57, 6.3...</td>\n",
       "      <td>[1.8125, 1.707, 1.6045, 1.506, 1.409, 1.315, 1...</td>\n",
       "      <td>[6.11, 6.06, 6.125, 6.566, 6.605, 6.676, 7.13,...</td>\n",
       "      <td>[26.45, 26.16, 26.1, 25.77, 25.72, 25.78, 26.1...</td>\n",
       "      <td>(0, 32299)</td>\n",
       "    </tr>\n",
       "    <tr>\n",
       "      <th>2</th>\n",
       "      <td>[30.490085836306232, 34.91627159792731]</td>\n",
       "      <td>[60.10744182471764, 34.262899786598894]</td>\n",
       "      <td>1.4</td>\n",
       "      <td>[[[46.71964110607613, 36.493379374373234], [44...</td>\n",
       "      <td>[[[50.63276479731981, 10.511614189582007], [51...</td>\n",
       "      <td>[4.04, 3.848, 3.658, 3.475, 3.291, 3.113, 2.94...</td>\n",
       "      <td>[4.402, 3.873, 3.361, 2.87, 2.398, 1.946, 1.51...</td>\n",
       "      <td>[4.633, 4.09, 4.36, 4.656, 4.65, 4.383, 4.35, ...</td>\n",
       "      <td>[28.12, 28.16, 28.22, 28.06, 27.9, 27.9, 27.9,...</td>\n",
       "      <td>(0, 32999)</td>\n",
       "    </tr>\n",
       "    <tr>\n",
       "      <th>3</th>\n",
       "      <td>[30.490085836306232, 34.91627159792731]</td>\n",
       "      <td>[60.10744182471764, 34.262899786598894]</td>\n",
       "      <td>1.1</td>\n",
       "      <td>[[[50.63276479731981, 10.511614189582007], [51...</td>\n",
       "      <td>[[[46.71964110607613, 36.493379374373234], [44...</td>\n",
       "      <td>[4.402, 3.873, 3.361, 2.87, 2.398, 1.946, 1.51...</td>\n",
       "      <td>[4.04, 3.848, 3.658, 3.475, 3.291, 3.113, 2.94...</td>\n",
       "      <td>[28.12, 28.16, 28.22, 28.06, 27.9, 27.9, 27.9,...</td>\n",
       "      <td>[4.633, 4.09, 4.36, 4.656, 4.65, 4.383, 4.35, ...</td>\n",
       "      <td>(0, 32999)</td>\n",
       "    </tr>\n",
       "    <tr>\n",
       "      <th>4</th>\n",
       "      <td>[30.339373669373565, 35.17083382117832]</td>\n",
       "      <td>[59.562580691926456, 34.99992452187238]</td>\n",
       "      <td>1.2</td>\n",
       "      <td>[[[44.962146067447776, 33.875261125037554], [4...</td>\n",
       "      <td>[[[52.756810221797416, 36.78031943889759], [52...</td>\n",
       "      <td>[8.55, 7.92, 7.3, 6.69, 6.09, 5.496, 4.918, 4....</td>\n",
       "      <td>[31.56, 28.44, 25.4, 22.5, 19.67, 16.97, 14.37...</td>\n",
       "      <td>[5.957, 5.52, 5.055, 4.99, 4.484, 4.047, 4.195...</td>\n",
       "      <td>[10.77, 10.75, 10.76, 10.91, 10.95, 11.234, 11...</td>\n",
       "      <td>(0, 32199)</td>\n",
       "    </tr>\n",
       "  </tbody>\n",
       "</table>\n",
       "</div>"
      ],
      "text/plain": [
       "                           box_bottom_left  \\\n",
       "0  [30.458913657178506, 34.21867013031604]   \n",
       "1  [30.458913657178506, 34.21867013031604]   \n",
       "2  [30.490085836306232, 34.91627159792731]   \n",
       "3  [30.490085836306232, 34.91627159792731]   \n",
       "4  [30.339373669373565, 35.17083382117832]   \n",
       "\n",
       "                          box_bottom_right agent  \\\n",
       "0   [59.89132415244771, 34.13310301149612]   1.2   \n",
       "1   [59.89132415244771, 34.13310301149612]   1.1   \n",
       "2  [60.10744182471764, 34.262899786598894]   1.4   \n",
       "3  [60.10744182471764, 34.262899786598894]   1.1   \n",
       "4  [59.562580691926456, 34.99992452187238]   1.2   \n",
       "\n",
       "                                   subject_locations  \\\n",
       "0  [[[46.68890098287189, 11.495085446056166], [43...   \n",
       "1  [[[34.36404036584844, 35.615553316175784], [34...   \n",
       "2  [[[46.71964110607613, 36.493379374373234], [44...   \n",
       "3  [[[50.63276479731981, 10.511614189582007], [51...   \n",
       "4  [[[44.962146067447776, 33.875261125037554], [4...   \n",
       "\n",
       "                                     agent_locations  \\\n",
       "0  [[[34.36404036584844, 35.615553316175784], [34...   \n",
       "1  [[[46.68890098287189, 11.495085446056166], [43...   \n",
       "2  [[[50.63276479731981, 10.511614189582007], [51...   \n",
       "3  [[[46.71964110607613, 36.493379374373234], [44...   \n",
       "4  [[[52.756810221797416, 36.78031943889759], [52...   \n",
       "\n",
       "                             subject_thorax_velocity  \\\n",
       "0  [1.8125, 1.707, 1.6045, 1.506, 1.409, 1.315, 1...   \n",
       "1  [14.336, 12.875, 11.47, 10.11, 8.81, 7.57, 6.3...   \n",
       "2  [4.04, 3.848, 3.658, 3.475, 3.291, 3.113, 2.94...   \n",
       "3  [4.402, 3.873, 3.361, 2.87, 2.398, 1.946, 1.51...   \n",
       "4  [8.55, 7.92, 7.3, 6.69, 6.09, 5.496, 4.918, 4....   \n",
       "\n",
       "                               agent_thorax_velocity  \\\n",
       "0  [14.336, 12.875, 11.47, 10.11, 8.81, 7.57, 6.3...   \n",
       "1  [1.8125, 1.707, 1.6045, 1.506, 1.409, 1.315, 1...   \n",
       "2  [4.402, 3.873, 3.361, 2.87, 2.398, 1.946, 1.51...   \n",
       "3  [4.04, 3.848, 3.658, 3.475, 3.291, 3.113, 2.94...   \n",
       "4  [31.56, 28.44, 25.4, 22.5, 19.67, 16.97, 14.37...   \n",
       "\n",
       "                       subject_thorax_to_reward_port  \\\n",
       "0  [26.45, 26.16, 26.1, 25.77, 25.72, 25.78, 26.1...   \n",
       "1  [6.11, 6.06, 6.125, 6.566, 6.605, 6.676, 7.13,...   \n",
       "2  [4.633, 4.09, 4.36, 4.656, 4.65, 4.383, 4.35, ...   \n",
       "3  [28.12, 28.16, 28.22, 28.06, 27.9, 27.9, 27.9,...   \n",
       "4  [5.957, 5.52, 5.055, 4.99, 4.484, 4.047, 4.195...   \n",
       "\n",
       "                         agent_thorax_to_reward_port start_stop_frame  \n",
       "0  [6.11, 6.06, 6.125, 6.566, 6.605, 6.676, 7.13,...       (0, 32299)  \n",
       "1  [26.45, 26.16, 26.1, 25.77, 25.72, 25.78, 26.1...       (0, 32299)  \n",
       "2  [28.12, 28.16, 28.22, 28.06, 27.9, 27.9, 27.9,...       (0, 32999)  \n",
       "3  [4.633, 4.09, 4.36, 4.656, 4.65, 4.383, 4.35, ...       (0, 32999)  \n",
       "4  [10.77, 10.75, 10.76, 10.91, 10.95, 11.234, 11...       (0, 32199)  "
      ]
     },
     "execution_count": 72,
     "metadata": {},
     "output_type": "execute_result"
    }
   ],
   "source": [
    "TRIALS_AND_LFP_DF.iloc[:, 40:50].head()"
   ]
  },
  {
   "cell_type": "code",
   "execution_count": 73,
   "metadata": {
    "tags": []
   },
   "outputs": [
    {
     "data": {
      "text/html": [
       "<div>\n",
       "<style scoped>\n",
       "    .dataframe tbody tr th:only-of-type {\n",
       "        vertical-align: middle;\n",
       "    }\n",
       "\n",
       "    .dataframe tbody tr th {\n",
       "        vertical-align: top;\n",
       "    }\n",
       "\n",
       "    .dataframe thead th {\n",
       "        text-align: right;\n",
       "    }\n",
       "</style>\n",
       "<table border=\"1\" class=\"dataframe\">\n",
       "  <thead>\n",
       "    <tr style=\"text-align: right;\">\n",
       "      <th></th>\n",
       "      <th>start_stop_timestamps</th>\n",
       "      <th>tone_mask</th>\n",
       "    </tr>\n",
       "  </thead>\n",
       "  <tbody>\n",
       "    <tr>\n",
       "      <th>0</th>\n",
       "      <td>(1384, 32361438)</td>\n",
       "      <td>[True, True, True, True, True, True, True, Tru...</td>\n",
       "    </tr>\n",
       "    <tr>\n",
       "      <th>1</th>\n",
       "      <td>(1384, 32361438)</td>\n",
       "      <td>[True, True, True, True, True, True, True, Tru...</td>\n",
       "    </tr>\n",
       "    <tr>\n",
       "      <th>2</th>\n",
       "      <td>(1384, 33061302)</td>\n",
       "      <td>[True, True, True, True, True, True, True, Tru...</td>\n",
       "    </tr>\n",
       "    <tr>\n",
       "      <th>3</th>\n",
       "      <td>(1384, 33061302)</td>\n",
       "      <td>[True, True, True, True, True, True, True, Tru...</td>\n",
       "    </tr>\n",
       "    <tr>\n",
       "      <th>4</th>\n",
       "      <td>(-2, 32260270)</td>\n",
       "      <td>[True, True, True, True, True, True, True, Tru...</td>\n",
       "    </tr>\n",
       "  </tbody>\n",
       "</table>\n",
       "</div>"
      ],
      "text/plain": [
       "  start_stop_timestamps                                          tone_mask\n",
       "0      (1384, 32361438)  [True, True, True, True, True, True, True, Tru...\n",
       "1      (1384, 32361438)  [True, True, True, True, True, True, True, Tru...\n",
       "2      (1384, 33061302)  [True, True, True, True, True, True, True, Tru...\n",
       "3      (1384, 33061302)  [True, True, True, True, True, True, True, Tru...\n",
       "4        (-2, 32260270)  [True, True, True, True, True, True, True, Tru..."
      ]
     },
     "execution_count": 73,
     "metadata": {},
     "output_type": "execute_result"
    }
   ],
   "source": [
    "TRIALS_AND_LFP_DF.iloc[:, 50:60].head()"
   ]
  },
  {
   "cell_type": "markdown",
   "metadata": {
    "tags": []
   },
   "source": [
    "# Demo code"
   ]
  },
  {
   "cell_type": "code",
   "execution_count": 74,
   "metadata": {
    "tags": []
   },
   "outputs": [
    {
     "data": {
      "text/plain": [
       "['left_ear', 'right_ear', 'nose', 'tail_base', 'thorax', 'forehead']"
      ]
     },
     "execution_count": 74,
     "metadata": {},
     "output_type": "execute_result"
    }
   ],
   "source": [
    "TRIALS_AND_LFP_DF[\"body_parts\"].iloc[ROW_NUMBER]"
   ]
  },
  {
   "cell_type": "code",
   "execution_count": 75,
   "metadata": {
    "tags": []
   },
   "outputs": [
    {
     "data": {
      "image/png": "[encoded data removed]",
      "text/plain": [
       "<Figure size 700x700 with 1 Axes>"
      ]
     },
     "metadata": {},
     "output_type": "display_data"
    }
   ],
   "source": [
    "plt.figure(figsize=(7,7))\n",
    "for corner in BOX_CORNERS:\n",
    "    corner_coordinates = TRIALS_AND_LFP_DF[corner].iloc[ROW_NUMBER]\n",
    "    plt.plot(corner_coordinates[X_INDEX], corner_coordinates[Y_INDEX], marker=\"o\", label = corner)\n",
    "    \n",
    "subject_locations = TRIALS_AND_LFP_DF[\"subject_locations\"].iloc[ROW_NUMBER]\n",
    "agent_locations = TRIALS_AND_LFP_DF[\"agent_locations\"].iloc[ROW_NUMBER]\n",
    "\n",
    "body_index = TRIALS_AND_LFP_DF[\"body_parts\"].iloc[ROW_NUMBER].index(BODY_PART)\n",
    "\n",
    "plt.plot(subject_locations[:1000,body_index,X_INDEX], subject_locations[:1000,body_index,Y_INDEX], label=\"subject\")\n",
    "plt.plot(agent_locations[:1000,body_index,X_INDEX], agent_locations[:1000,body_index,Y_INDEX], label=\"agent\")\n",
    "plt.legend()\n",
    "plt.show()"
   ]
  },
  {
   "cell_type": "code",
   "execution_count": 76,
   "metadata": {
    "tags": []
   },
   "outputs": [
    {
     "data": {
      "text/plain": [
       "array([ 1125,  3519,  5815,  7612,  8709,  9708, 11604, 13101, 15198,\n",
       "       16195, 17793, 19090, 20388, 21385, 22784, 24680, 26276, 27673,\n",
       "       29870, 31068])"
      ]
     },
     "execution_count": 76,
     "metadata": {},
     "output_type": "execute_result"
    }
   ],
   "source": [
    "TRIALS_AND_LFP_DF[\"tone_start_frame\"].iloc[ROW_NUMBER]\n"
   ]
  },
  {
   "cell_type": "code",
   "execution_count": 77,
   "metadata": {
    "tags": []
   },
   "outputs": [
    {
     "data": {
      "image/png": "[encoded data removed]",
      "text/plain": [
       "<Figure size 700x700 with 1 Axes>"
      ]
     },
     "metadata": {},
     "output_type": "display_data"
    }
   ],
   "source": [
    "plt.figure(figsize=(7,7))\n",
    "for corner in BOX_CORNERS:\n",
    "    corner_coordinates = TRIALS_AND_LFP_DF[corner].iloc[ROW_NUMBER]\n",
    "    plt.plot(corner_coordinates[X_INDEX], corner_coordinates[Y_INDEX], marker=\"o\", label = corner)\n",
    "    \n",
    "subject_locations = TRIALS_AND_LFP_DF[\"subject_locations\"].iloc[ROW_NUMBER]\n",
    "agent_locations = TRIALS_AND_LFP_DF[\"agent_locations\"].iloc[ROW_NUMBER]\n",
    "\n",
    "example_tone_start_frame = TRIALS_AND_LFP_DF[\"tone_start_frame\"].iloc[ROW_NUMBER][0]\n",
    "example_tone_end_frame = TRIALS_AND_LFP_DF[\"tone_stop_frame\"].iloc[ROW_NUMBER][0]\n",
    "\n",
    "\n",
    "plt.plot(subject_locations[example_tone_start_frame:example_tone_end_frame,body_index,X_INDEX], subject_locations[example_tone_start_frame:example_tone_end_frame,body_index,Y_INDEX], label=\"subject\")\n",
    "plt.plot(agent_locations[example_tone_start_frame:example_tone_end_frame,body_index,X_INDEX], agent_locations[example_tone_start_frame:example_tone_end_frame,body_index,Y_INDEX], label=\"agent\")\n",
    "plt.legend()\n",
    "plt.show()"
   ]
  },
  {
   "cell_type": "code",
   "execution_count": 78,
   "metadata": {
    "tags": []
   },
   "outputs": [
    {
     "ename": "ValueError",
     "evalue": "",
     "output_type": "error",
     "traceback": [
      "\u001b[0;31m---------------------------------------------------------------------------\u001b[0m",
      "\u001b[0;31mValueError\u001b[0m                                Traceback (most recent call last)",
      "Cell \u001b[0;32mIn[78], line 1\u001b[0m\n\u001b[0;32m----> 1\u001b[0m \u001b[38;5;28;01mraise\u001b[39;00m \u001b[38;5;167;01mValueError\u001b[39;00m()\n",
      "\u001b[0;31mValueError\u001b[0m: "
     ]
    }
   ],
   "source": [
    "raise ValueError()"
   ]
  },
  {
   "cell_type": "code",
   "execution_count": null,
   "metadata": {},
   "outputs": [],
   "source": []
  }
 ],
 "metadata": {
  "deepnote": {},
  "deepnote_execution_queue": [],
  "deepnote_notebook_id": "cf8fe3695d074ee7887fdf6459cbf5ce",
  "kernelspec": {
   "display_name": "spike_interface_0_99_0",
   "language": "python",
   "name": "spike_interface_0_99_0"
  },
  "language_info": {
   "codemirror_mode": {
    "name": "ipython",
    "version": 3
   },
   "file_extension": ".py",
   "mimetype": "text/x-python",
   "name": "python",
   "nbconvert_exporter": "python",
   "pygments_lexer": "ipython3",
   "version": "3.10.13"
  }
 },
 "nbformat": 4,
 "nbformat_minor": 4
}
