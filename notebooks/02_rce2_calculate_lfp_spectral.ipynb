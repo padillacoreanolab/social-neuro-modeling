{
 "cells": [
  {
   "cell_type": "markdown",
   "metadata": {
    "cell_id": "c3a02adc9e884466bc8c79db549cc3d2",
    "deepnote_cell_type": "text-cell-h1",
    "formattedRanges": [
     {
      "fromCodePoint": 0,
      "marks": {
       "bold": true,
       "underline": true
      },
      "toCodePoint": 17,
      "type": "marks"
     }
    ]
   },
   "source": [
    "# All oscillation analysis"
   ]
  },
  {
   "cell_type": "markdown",
   "metadata": {
    "cell_id": "4546bee655b14a5dbf393161f1228e60",
    "deepnote_cell_type": "text-cell-p",
    "formattedRanges": []
   },
   "source": [
    "Brief 1-2 sentence description of notebook."
   ]
  },
  {
   "cell_type": "code",
   "execution_count": 1,
   "metadata": {
    "tags": []
   },
   "outputs": [],
   "source": [
    "import warnings\n",
    "warnings.filterwarnings('ignore')"
   ]
  },
  {
   "cell_type": "code",
   "execution_count": 2,
   "metadata": {
    "tags": []
   },
   "outputs": [],
   "source": [
    "import os\n",
    "import collections\n",
    "import itertools\n",
    "from collections import defaultdict\n",
    "from itertools import combinations"
   ]
  },
  {
   "cell_type": "code",
   "execution_count": 3,
   "metadata": {
    "tags": []
   },
   "outputs": [],
   "source": [
    "os.environ[\"SPECTRAL_CONNECTIVITY_ENABLE_GPU\"] = \"true\"\n",
    "import cupy as cp"
   ]
  },
  {
   "cell_type": "code",
   "execution_count": 4,
   "metadata": {
    "cell_id": "03b495cefa6a4798a44c7f2e4c6a3ea7",
    "deepnote_cell_type": "code",
    "deepnote_to_be_reexecuted": false,
    "execution_millis": 21,
    "execution_start": 1691424003626,
    "source_hash": null,
    "tags": []
   },
   "outputs": [],
   "source": [
    "# Imports of all used packages and libraries\n",
    "import numpy as np\n",
    "import pandas as pd\n",
    "from scipy import stats\n",
    "from scipy.stats import mannwhitneyu\n"
   ]
  },
  {
   "cell_type": "code",
   "execution_count": 5,
   "metadata": {
    "tags": []
   },
   "outputs": [],
   "source": [
    "import matplotlib\n",
    "import matplotlib.colors as mcolors\n",
    "import matplotlib.pyplot as plt\n",
    "import matplotlib.cm as cm\n",
    "import seaborn as sns\n",
    "import colorsys"
   ]
  },
  {
   "cell_type": "code",
   "execution_count": 6,
   "metadata": {
    "tags": []
   },
   "outputs": [],
   "source": [
    "from sklearn.metrics import confusion_matrix"
   ]
  },
  {
   "cell_type": "code",
   "execution_count": 7,
   "metadata": {
    "tags": []
   },
   "outputs": [],
   "source": [
    "from spectral_connectivity import Multitaper, Connectivity\n",
    "import spectral_connectivity"
   ]
  },
  {
   "cell_type": "code",
   "execution_count": 8,
   "metadata": {
    "tags": []
   },
   "outputs": [],
   "source": [
    "FONTSIZE = 20"
   ]
  },
  {
   "cell_type": "code",
   "execution_count": 9,
   "metadata": {
    "tags": []
   },
   "outputs": [],
   "source": [
    "font = {'weight' : 'medium',\n",
    "        'size'   : 20}\n",
    "\n",
    "matplotlib.rc('font', **font)"
   ]
  },
  {
   "cell_type": "markdown",
   "metadata": {},
   "source": [
    "# Functions"
   ]
  },
  {
   "cell_type": "code",
   "execution_count": 10,
   "metadata": {
    "tags": []
   },
   "outputs": [],
   "source": [
    "def generate_pairs(lst):\n",
    "    \"\"\"\n",
    "    Generates all unique pairs from a list.\n",
    "\n",
    "    Parameters:\n",
    "    - lst (list): The list to generate pairs from.\n",
    "\n",
    "    Returns:\n",
    "    - list: A list of tuples, each containing a unique pair from the input list.\n",
    "    \"\"\"\n",
    "    n = len(lst)\n",
    "    return [(lst[i], lst[j]) for i in range(n) for j in range(i+1, n)]"
   ]
  },
  {
   "cell_type": "markdown",
   "metadata": {
    "cell_id": "d290bac2c17940bfbc0f9296beaf70e5",
    "deepnote_cell_type": "text-cell-h2",
    "formattedRanges": []
   },
   "source": [
    "## Inputs & Data"
   ]
  },
  {
   "cell_type": "markdown",
   "metadata": {
    "cell_id": "e528ce19c608425292151930d380f49f",
    "deepnote_cell_type": "text-cell-p",
    "formattedRanges": []
   },
   "source": [
    "Explanation of each input and where it comes from."
   ]
  },
  {
   "cell_type": "code",
   "execution_count": 11,
   "metadata": {
    "cell_id": "6cf83a5811054461a718a71673d09aab",
    "deepnote_cell_type": "code",
    "deepnote_to_be_reexecuted": false,
    "execution_millis": 373,
    "execution_start": 1691424003628,
    "source_hash": null,
    "tags": []
   },
   "outputs": [],
   "source": [
    "# Inputs and Required data loading\n",
    "# input varaible names are in all caps snake case\n",
    "# Whenever an input changes or is used for processing \n",
    "# the vairables are all lower in snake case\n",
    "OUTPUT_DIR = r\"./proc\" # where data is saved should always be shown in the inputs"
   ]
  },
  {
   "cell_type": "code",
   "execution_count": 12,
   "metadata": {
    "tags": []
   },
   "outputs": [],
   "source": [
    "TIME_HALFBANDWIDTH_PRODUCT = 2\n",
    "TIME_WINDOW_DURATION = 1\n",
    "TIME_WINDOW_STEP = 0.5\n",
    "RESAMPLE_RATE=1000"
   ]
  },
  {
   "cell_type": "code",
   "execution_count": 57,
   "metadata": {
    "tags": []
   },
   "outputs": [],
   "source": [
    "BAND_TO_FREQ = {\"theta\": (6,11), \"beta\": (20,31), \"gamma\": (30,51)}"
   ]
  },
  {
   "cell_type": "code",
   "execution_count": 13,
   "metadata": {
    "tags": []
   },
   "outputs": [],
   "source": [
    "LFP_TRACES_DF = pd.read_pickle(\"/blue/npadillacoreano/ryoi360/reward_competition_extention/final_proc/rce_pilot_2_01_lfp_traces_and_frames.pkl\")"
   ]
  },
  {
   "cell_type": "code",
   "execution_count": 14,
   "metadata": {
    "tags": []
   },
   "outputs": [
    {
     "data": {
      "text/html": [
       "<div>\n",
       "<style scoped>\n",
       "    .dataframe tbody tr th:only-of-type {\n",
       "        vertical-align: middle;\n",
       "    }\n",
       "\n",
       "    .dataframe tbody tr th {\n",
       "        vertical-align: top;\n",
       "    }\n",
       "\n",
       "    .dataframe thead th {\n",
       "        text-align: right;\n",
       "    }\n",
       "</style>\n",
       "<table border=\"1\" class=\"dataframe\">\n",
       "  <thead>\n",
       "    <tr style=\"text-align: right;\">\n",
       "      <th></th>\n",
       "      <th>cohort</th>\n",
       "      <th>session_dir</th>\n",
       "      <th>original_file</th>\n",
       "      <th>tone_frames</th>\n",
       "      <th>box_1_port_entry_frames</th>\n",
       "      <th>box_2_port_entry_frames</th>\n",
       "      <th>video_name</th>\n",
       "      <th>session_path</th>\n",
       "      <th>recording</th>\n",
       "      <th>current_subject</th>\n",
       "      <th>...</th>\n",
       "      <th>video_timestamps</th>\n",
       "      <th>tone_timestamps</th>\n",
       "      <th>box_1_port_entry_timestamps</th>\n",
       "      <th>box_2_port_entry_timestamps</th>\n",
       "      <th>lfp_timestamps</th>\n",
       "      <th>mPFC_lfp_trace</th>\n",
       "      <th>MD_lfp_trace</th>\n",
       "      <th>LH_lfp_trace</th>\n",
       "      <th>BLA_lfp_trace</th>\n",
       "      <th>vHPC_lfp_trace</th>\n",
       "    </tr>\n",
       "  </thead>\n",
       "  <tbody>\n",
       "    <tr>\n",
       "      <th>0</th>\n",
       "      <td>2</td>\n",
       "      <td>20230612_101430_standard_comp_to_training_D1_s...</td>\n",
       "      <td>20230612_101430_standard_comp_to_training_D1_s...</td>\n",
       "      <td>[[980, 1180], [3376, 3575], [5672, 5871], [746...</td>\n",
       "      <td>[[490, 514], [518, 558], [558, 637], [638, 640...</td>\n",
       "      <td>[[33021, 33027], [33502, 33503], [33504, 33506...</td>\n",
       "      <td>20230612_101430_standard_comp_to_training_D1_s...</td>\n",
       "      <td>/scratch/back_up/reward_competition_extention/...</td>\n",
       "      <td>20230612_101430_standard_comp_to_training_D1_s...</td>\n",
       "      <td>1.3</td>\n",
       "      <td>...</td>\n",
       "      <td>[-2, 1384, 2770, 4156, 4156, 5542, 6928, 6928,...</td>\n",
       "      <td>[[982229, 1182226], [3382227, 3582224], [56822...</td>\n",
       "      <td>[[491029, 515227], [519426, 558629], [559427, ...</td>\n",
       "      <td>[[33082200, 33090003], [33565003, 33567000], [...</td>\n",
       "      <td>[0, 20, 40, 60, 80, 100, 120, 140, 160, 180, 2...</td>\n",
       "      <td>[0.933348, 0.8057418, 0.9461086, 1.2687699, 1....</td>\n",
       "      <td>[0.44765243, 0.479771, 0.7427417, 0.97560126, ...</td>\n",
       "      <td>[0.89443207, 0.96188104, 1.1935536, 1.3225864,...</td>\n",
       "      <td>[0.6654362, 0.6609094, 0.87366796, 1.0230516, ...</td>\n",
       "      <td>[0.2327341, 0.3381231, 0.5568053, 0.74650556, ...</td>\n",
       "    </tr>\n",
       "    <tr>\n",
       "      <th>1</th>\n",
       "      <td>2</td>\n",
       "      <td>20230612_101430_standard_comp_to_training_D1_s...</td>\n",
       "      <td>20230612_101430_standard_comp_to_training_D1_s...</td>\n",
       "      <td>[[980, 1180], [3376, 3575], [5672, 5871], [746...</td>\n",
       "      <td>[[490, 514], [518, 558], [558, 637], [638, 640...</td>\n",
       "      <td>[[33021, 33027], [33502, 33503], [33504, 33506...</td>\n",
       "      <td>20230612_101430_standard_comp_to_training_D1_s...</td>\n",
       "      <td>/scratch/back_up/reward_competition_extention/...</td>\n",
       "      <td>20230612_101430_standard_comp_to_training_D1_s...</td>\n",
       "      <td>1.4</td>\n",
       "      <td>...</td>\n",
       "      <td>[-2, 1384, 2770, 4156, 4156, 5542, 6928, 6928,...</td>\n",
       "      <td>[[982229, 1182226], [3382227, 3582224], [56822...</td>\n",
       "      <td>[[491029, 515227], [519426, 558629], [559427, ...</td>\n",
       "      <td>[[33082200, 33090003], [33565003, 33567000], [...</td>\n",
       "      <td>[0, 20, 40, 60, 80, 100, 120, 140, 160, 180, 2...</td>\n",
       "      <td>[0.27034205, 0.4041477, 0.45876226, 0.52429974...</td>\n",
       "      <td>[0.8194214, 0.80269855, 0.71908414, 0.64104396...</td>\n",
       "      <td>[0.8116741, 0.7202179, 0.6230456, 0.64590967, ...</td>\n",
       "      <td>[0.7982271, 1.0675378, 1.1112098, 0.8346204, 1...</td>\n",
       "      <td>[0.882244, 1.2294496, 1.485585, 1.2322956, 1.0...</td>\n",
       "    </tr>\n",
       "    <tr>\n",
       "      <th>2</th>\n",
       "      <td>2</td>\n",
       "      <td>20230612_112630_standard_comp_to_training_D1_s...</td>\n",
       "      <td>20230612_112630_standard_comp_to_training_D1_s...</td>\n",
       "      <td>[[1125, 1324], [3519, 3720], [5815, 6014], [76...</td>\n",
       "      <td>[[192, 248], [389, 405], [916, 929], [929, 948...</td>\n",
       "      <td>[[33019, 33020], [33246, 33251], [33253, 33255...</td>\n",
       "      <td>20230612_112630_standard_comp_to_training_D1_s...</td>\n",
       "      <td>/scratch/back_up/reward_competition_extention/...</td>\n",
       "      <td>20230612_112630_standard_comp_to_training_D1_s...</td>\n",
       "      <td>1.1</td>\n",
       "      <td>...</td>\n",
       "      <td>[1384, 2444, 2769, 4155, 5541, 6708, 6927, 831...</td>\n",
       "      <td>[[1126742, 1326741], [3526740, 3726740], [5826...</td>\n",
       "      <td>[[192745, 249350], [389747, 407142], [917544, ...</td>\n",
       "      <td>[[33037711, 33038706], [33264908, 33270313], [...</td>\n",
       "      <td>[0, 20, 40, 60, 80, 100, 120, 140, 160, 180, 2...</td>\n",
       "      <td>[-0.058899105, 0.19379705, 0.72198904, 1.09058...</td>\n",
       "      <td>[0.052017204, 0.2566182, 0.409202, 0.2288757, ...</td>\n",
       "      <td>[0.0039443844, 0.2524406, 0.48910367, 0.408243...</td>\n",
       "      <td>[0.0017428675, 0.040085953, 0.1289722, 0.19345...</td>\n",
       "      <td>[0.24099746, 0.36528546, 0.31526712, -0.039408...</td>\n",
       "    </tr>\n",
       "    <tr>\n",
       "      <th>3</th>\n",
       "      <td>2</td>\n",
       "      <td>20230612_112630_standard_comp_to_training_D1_s...</td>\n",
       "      <td>20230612_112630_standard_comp_to_training_D1_s...</td>\n",
       "      <td>[[1125, 1324], [3519, 3720], [5815, 6014], [76...</td>\n",
       "      <td>[[192, 248], [389, 405], [916, 929], [929, 948...</td>\n",
       "      <td>[[33019, 33020], [33246, 33251], [33253, 33255...</td>\n",
       "      <td>20230612_112630_standard_comp_to_training_D1_s...</td>\n",
       "      <td>/scratch/back_up/reward_competition_extention/...</td>\n",
       "      <td>20230612_112630_standard_comp_to_training_D1_s...</td>\n",
       "      <td>1.2</td>\n",
       "      <td>...</td>\n",
       "      <td>[1384, 2444, 2769, 4155, 5541, 6708, 6927, 831...</td>\n",
       "      <td>[[1126742, 1326741], [3526740, 3726740], [5826...</td>\n",
       "      <td>[[192745, 249350], [389747, 407142], [917544, ...</td>\n",
       "      <td>[[33037711, 33038706], [33264908, 33270313], [...</td>\n",
       "      <td>[0, 20, 40, 60, 80, 100, 120, 140, 160, 180, 2...</td>\n",
       "      <td>[-0.5686467, -0.88410044, -0.7741067, -0.08716...</td>\n",
       "      <td>[-0.7133093, -1.0918, -0.88557106, -0.07278667...</td>\n",
       "      <td>[-0.38970518, -0.8093877, -0.46165076, 0.39570...</td>\n",
       "      <td>[0.22564748, -0.09320222, 0.16678292, 0.760333...</td>\n",
       "      <td>[1.2494063, 1.0194397, 0.9779509, 1.0810802, 0...</td>\n",
       "    </tr>\n",
       "    <tr>\n",
       "      <th>4</th>\n",
       "      <td>2</td>\n",
       "      <td>20230613_105657_standard_comp_to_training_D2_s...</td>\n",
       "      <td>20230613_105657_standard_comp_to_training_D2_s...</td>\n",
       "      <td>[[916, 1117], [3312, 3513], [5608, 5808], [740...</td>\n",
       "      <td>[[49, 67], [70, 79], [360, 366], [460, 469], [...</td>\n",
       "      <td>[[33601, 33798], [34108, 34165], [34166, 34179...</td>\n",
       "      <td>20230613_105657_standard_comp_to_training_D2_s...</td>\n",
       "      <td>/scratch/back_up/reward_competition_extention/...</td>\n",
       "      <td>20230613_105657_standard_comp_to_training_D2_s...</td>\n",
       "      <td>1.1</td>\n",
       "      <td>...</td>\n",
       "      <td>[1384, 1384, 2770, 4156, 4156, 5541, 6927, 831...</td>\n",
       "      <td>[[918755, 1118758], [3318755, 3518757], [56187...</td>\n",
       "      <td>[[49358, 67558], [70155, 79355], [360955, 3671...</td>\n",
       "      <td>[[33624333, 33822933], [34132932, 34190535], [...</td>\n",
       "      <td>[0, 20, 40, 60, 80, 100, 120, 140, 160, 180, 2...</td>\n",
       "      <td>[-0.6503345, -0.6020239, -0.89374536, -1.10928...</td>\n",
       "      <td>[-0.99070936, -0.8981983, -1.0546261, -1.26992...</td>\n",
       "      <td>[-0.94037557, -0.9188701, -1.2414521, -1.48778...</td>\n",
       "      <td>[-1.0461473, -0.8379503, -0.76224226, -0.69685...</td>\n",
       "      <td>[-0.9619772, -0.89879316, -1.0425369, -1.38846...</td>\n",
       "    </tr>\n",
       "  </tbody>\n",
       "</table>\n",
       "<p>5 rows × 24 columns</p>\n",
       "</div>"
      ],
      "text/plain": [
       "   cohort                                        session_dir  \\\n",
       "0       2  20230612_101430_standard_comp_to_training_D1_s...   \n",
       "1       2  20230612_101430_standard_comp_to_training_D1_s...   \n",
       "2       2  20230612_112630_standard_comp_to_training_D1_s...   \n",
       "3       2  20230612_112630_standard_comp_to_training_D1_s...   \n",
       "4       2  20230613_105657_standard_comp_to_training_D2_s...   \n",
       "\n",
       "                                       original_file  \\\n",
       "0  20230612_101430_standard_comp_to_training_D1_s...   \n",
       "1  20230612_101430_standard_comp_to_training_D1_s...   \n",
       "2  20230612_112630_standard_comp_to_training_D1_s...   \n",
       "3  20230612_112630_standard_comp_to_training_D1_s...   \n",
       "4  20230613_105657_standard_comp_to_training_D2_s...   \n",
       "\n",
       "                                         tone_frames  \\\n",
       "0  [[980, 1180], [3376, 3575], [5672, 5871], [746...   \n",
       "1  [[980, 1180], [3376, 3575], [5672, 5871], [746...   \n",
       "2  [[1125, 1324], [3519, 3720], [5815, 6014], [76...   \n",
       "3  [[1125, 1324], [3519, 3720], [5815, 6014], [76...   \n",
       "4  [[916, 1117], [3312, 3513], [5608, 5808], [740...   \n",
       "\n",
       "                             box_1_port_entry_frames  \\\n",
       "0  [[490, 514], [518, 558], [558, 637], [638, 640...   \n",
       "1  [[490, 514], [518, 558], [558, 637], [638, 640...   \n",
       "2  [[192, 248], [389, 405], [916, 929], [929, 948...   \n",
       "3  [[192, 248], [389, 405], [916, 929], [929, 948...   \n",
       "4  [[49, 67], [70, 79], [360, 366], [460, 469], [...   \n",
       "\n",
       "                             box_2_port_entry_frames  \\\n",
       "0  [[33021, 33027], [33502, 33503], [33504, 33506...   \n",
       "1  [[33021, 33027], [33502, 33503], [33504, 33506...   \n",
       "2  [[33019, 33020], [33246, 33251], [33253, 33255...   \n",
       "3  [[33019, 33020], [33246, 33251], [33253, 33255...   \n",
       "4  [[33601, 33798], [34108, 34165], [34166, 34179...   \n",
       "\n",
       "                                          video_name  \\\n",
       "0  20230612_101430_standard_comp_to_training_D1_s...   \n",
       "1  20230612_101430_standard_comp_to_training_D1_s...   \n",
       "2  20230612_112630_standard_comp_to_training_D1_s...   \n",
       "3  20230612_112630_standard_comp_to_training_D1_s...   \n",
       "4  20230613_105657_standard_comp_to_training_D2_s...   \n",
       "\n",
       "                                        session_path  \\\n",
       "0  /scratch/back_up/reward_competition_extention/...   \n",
       "1  /scratch/back_up/reward_competition_extention/...   \n",
       "2  /scratch/back_up/reward_competition_extention/...   \n",
       "3  /scratch/back_up/reward_competition_extention/...   \n",
       "4  /scratch/back_up/reward_competition_extention/...   \n",
       "\n",
       "                                           recording current_subject  ...  \\\n",
       "0  20230612_101430_standard_comp_to_training_D1_s...             1.3  ...   \n",
       "1  20230612_101430_standard_comp_to_training_D1_s...             1.4  ...   \n",
       "2  20230612_112630_standard_comp_to_training_D1_s...             1.1  ...   \n",
       "3  20230612_112630_standard_comp_to_training_D1_s...             1.2  ...   \n",
       "4  20230613_105657_standard_comp_to_training_D2_s...             1.1  ...   \n",
       "\n",
       "                                    video_timestamps  \\\n",
       "0  [-2, 1384, 2770, 4156, 4156, 5542, 6928, 6928,...   \n",
       "1  [-2, 1384, 2770, 4156, 4156, 5542, 6928, 6928,...   \n",
       "2  [1384, 2444, 2769, 4155, 5541, 6708, 6927, 831...   \n",
       "3  [1384, 2444, 2769, 4155, 5541, 6708, 6927, 831...   \n",
       "4  [1384, 1384, 2770, 4156, 4156, 5541, 6927, 831...   \n",
       "\n",
       "                                     tone_timestamps  \\\n",
       "0  [[982229, 1182226], [3382227, 3582224], [56822...   \n",
       "1  [[982229, 1182226], [3382227, 3582224], [56822...   \n",
       "2  [[1126742, 1326741], [3526740, 3726740], [5826...   \n",
       "3  [[1126742, 1326741], [3526740, 3726740], [5826...   \n",
       "4  [[918755, 1118758], [3318755, 3518757], [56187...   \n",
       "\n",
       "                         box_1_port_entry_timestamps  \\\n",
       "0  [[491029, 515227], [519426, 558629], [559427, ...   \n",
       "1  [[491029, 515227], [519426, 558629], [559427, ...   \n",
       "2  [[192745, 249350], [389747, 407142], [917544, ...   \n",
       "3  [[192745, 249350], [389747, 407142], [917544, ...   \n",
       "4  [[49358, 67558], [70155, 79355], [360955, 3671...   \n",
       "\n",
       "                         box_2_port_entry_timestamps  \\\n",
       "0  [[33082200, 33090003], [33565003, 33567000], [...   \n",
       "1  [[33082200, 33090003], [33565003, 33567000], [...   \n",
       "2  [[33037711, 33038706], [33264908, 33270313], [...   \n",
       "3  [[33037711, 33038706], [33264908, 33270313], [...   \n",
       "4  [[33624333, 33822933], [34132932, 34190535], [...   \n",
       "\n",
       "                                      lfp_timestamps  \\\n",
       "0  [0, 20, 40, 60, 80, 100, 120, 140, 160, 180, 2...   \n",
       "1  [0, 20, 40, 60, 80, 100, 120, 140, 160, 180, 2...   \n",
       "2  [0, 20, 40, 60, 80, 100, 120, 140, 160, 180, 2...   \n",
       "3  [0, 20, 40, 60, 80, 100, 120, 140, 160, 180, 2...   \n",
       "4  [0, 20, 40, 60, 80, 100, 120, 140, 160, 180, 2...   \n",
       "\n",
       "                                      mPFC_lfp_trace  \\\n",
       "0  [0.933348, 0.8057418, 0.9461086, 1.2687699, 1....   \n",
       "1  [0.27034205, 0.4041477, 0.45876226, 0.52429974...   \n",
       "2  [-0.058899105, 0.19379705, 0.72198904, 1.09058...   \n",
       "3  [-0.5686467, -0.88410044, -0.7741067, -0.08716...   \n",
       "4  [-0.6503345, -0.6020239, -0.89374536, -1.10928...   \n",
       "\n",
       "                                        MD_lfp_trace  \\\n",
       "0  [0.44765243, 0.479771, 0.7427417, 0.97560126, ...   \n",
       "1  [0.8194214, 0.80269855, 0.71908414, 0.64104396...   \n",
       "2  [0.052017204, 0.2566182, 0.409202, 0.2288757, ...   \n",
       "3  [-0.7133093, -1.0918, -0.88557106, -0.07278667...   \n",
       "4  [-0.99070936, -0.8981983, -1.0546261, -1.26992...   \n",
       "\n",
       "                                        LH_lfp_trace  \\\n",
       "0  [0.89443207, 0.96188104, 1.1935536, 1.3225864,...   \n",
       "1  [0.8116741, 0.7202179, 0.6230456, 0.64590967, ...   \n",
       "2  [0.0039443844, 0.2524406, 0.48910367, 0.408243...   \n",
       "3  [-0.38970518, -0.8093877, -0.46165076, 0.39570...   \n",
       "4  [-0.94037557, -0.9188701, -1.2414521, -1.48778...   \n",
       "\n",
       "                                       BLA_lfp_trace  \\\n",
       "0  [0.6654362, 0.6609094, 0.87366796, 1.0230516, ...   \n",
       "1  [0.7982271, 1.0675378, 1.1112098, 0.8346204, 1...   \n",
       "2  [0.0017428675, 0.040085953, 0.1289722, 0.19345...   \n",
       "3  [0.22564748, -0.09320222, 0.16678292, 0.760333...   \n",
       "4  [-1.0461473, -0.8379503, -0.76224226, -0.69685...   \n",
       "\n",
       "                                      vHPC_lfp_trace  \n",
       "0  [0.2327341, 0.3381231, 0.5568053, 0.74650556, ...  \n",
       "1  [0.882244, 1.2294496, 1.485585, 1.2322956, 1.0...  \n",
       "2  [0.24099746, 0.36528546, 0.31526712, -0.039408...  \n",
       "3  [1.2494063, 1.0194397, 0.9779509, 1.0810802, 0...  \n",
       "4  [-0.9619772, -0.89879316, -1.0425369, -1.38846...  \n",
       "\n",
       "[5 rows x 24 columns]"
      ]
     },
     "execution_count": 14,
     "metadata": {},
     "output_type": "execute_result"
    }
   ],
   "source": [
    "LFP_TRACES_DF.head()"
   ]
  },
  {
   "cell_type": "markdown",
   "metadata": {
    "tags": []
   },
   "source": [
    "# Power Calcuation"
   ]
  },
  {
   "cell_type": "markdown",
   "metadata": {},
   "source": [
    "- Getting the column name of all the traces"
   ]
  },
  {
   "cell_type": "code",
   "execution_count": 15,
   "metadata": {
    "tags": []
   },
   "outputs": [],
   "source": [
    "trace_columns = [col for col in LFP_TRACES_DF.columns if \"lfp_trace\" in col]"
   ]
  },
  {
   "cell_type": "code",
   "execution_count": 16,
   "metadata": {
    "tags": []
   },
   "outputs": [
    {
     "data": {
      "text/plain": [
       "['mPFC_lfp_trace',\n",
       " 'MD_lfp_trace',\n",
       " 'LH_lfp_trace',\n",
       " 'BLA_lfp_trace',\n",
       " 'vHPC_lfp_trace']"
      ]
     },
     "execution_count": 16,
     "metadata": {},
     "output_type": "execute_result"
    }
   ],
   "source": [
    "trace_columns"
   ]
  },
  {
   "cell_type": "code",
   "execution_count": 17,
   "metadata": {
    "tags": []
   },
   "outputs": [
    {
     "name": "stdout",
     "output_type": "stream",
     "text": [
      "mPFC_lfp_trace\n",
      "MD_lfp_trace\n",
      "LH_lfp_trace\n",
      "BLA_lfp_trace\n",
      "vHPC_lfp_trace\n"
     ]
    }
   ],
   "source": [
    "for col in trace_columns:\n",
    "    print(col)\n",
    "    LFP_TRACES_DF[col] = LFP_TRACES_DF[col].apply(lambda x: x.astype(np.float16))"
   ]
  },
  {
   "cell_type": "markdown",
   "metadata": {},
   "source": [
    "- Calcuating the power at each frequency band"
   ]
  },
  {
   "cell_type": "code",
   "execution_count": 18,
   "metadata": {
    "tags": []
   },
   "outputs": [
    {
     "name": "stdout",
     "output_type": "stream",
     "text": [
      "mPFC\n",
      "MD\n",
      "LH\n",
      "BLA\n",
      "vHPC\n"
     ]
    }
   ],
   "source": [
    "for col in trace_columns:\n",
    "    brain_region = col.split(\"_\")[0]\n",
    "    print(brain_region)\n",
    "\n",
    "    # Define column names\n",
    "    lfp_trace_col = f\"{brain_region}_lfp_trace\"\n",
    "    multitaper_col = f\"{brain_region}_power_multitaper\"\n",
    "    connectivity_col = f\"{brain_region}_power_connectivity\"\n",
    "    frequencies_col = f\"{brain_region}_power_frequencies\"\n",
    "    power_col = f\"{brain_region}_power_all_frequencies_all_windows\"\n",
    "    \n",
    "    try:\n",
    "        # Apply Multitaper function to the lfp_trace column\n",
    "        LFP_TRACES_DF[multitaper_col] = LFP_TRACES_DF[lfp_trace_col].apply(\n",
    "            lambda x: Multitaper(\n",
    "                time_series=x, \n",
    "                sampling_frequency=RESAMPLE_RATE, \n",
    "                time_halfbandwidth_product=TIME_HALFBANDWIDTH_PRODUCT,\n",
    "                time_window_duration=TIME_WINDOW_DURATION, \n",
    "                time_window_step=TIME_WINDOW_STEP\n",
    "            )\n",
    "        )\n",
    "\n",
    "        # Apply Connectivity function to the multitaper column\n",
    "        LFP_TRACES_DF[connectivity_col] = LFP_TRACES_DF[multitaper_col].apply(\n",
    "            lambda x: Connectivity.from_multitaper(x)\n",
    "        )\n",
    "\n",
    "        # Apply frequencies and power functions to the connectivity column\n",
    "        LFP_TRACES_DF[frequencies_col] = LFP_TRACES_DF[connectivity_col].apply(\n",
    "            lambda x: x.frequencies\n",
    "        )\n",
    "        LFP_TRACES_DF[power_col] = LFP_TRACES_DF[connectivity_col].apply(\n",
    "            lambda x: x.power().squeeze()\n",
    "        )\n",
    "        \n",
    "        LFP_TRACES_DF[power_col] = LFP_TRACES_DF[power_col].apply(lambda x: x.astype(np.float16))\n",
    "            \n",
    "        # Removing unnecessary columns\n",
    "        LFP_TRACES_DF = LFP_TRACES_DF.drop(columns=[multitaper_col, connectivity_col], errors=\"ignore\")\n",
    "    \n",
    "    except Exception as e: \n",
    "        print(e)"
   ]
  },
  {
   "cell_type": "markdown",
   "metadata": {},
   "source": [
    "- Getting the timestamps of the power"
   ]
  },
  {
   "cell_type": "code",
   "execution_count": 19,
   "metadata": {
    "tags": []
   },
   "outputs": [],
   "source": [
    "LFP_TRACES_DF[\"power_timestamps\"] = LFP_TRACES_DF[\"lfp_timestamps\"].apply(lambda x: x[(RESAMPLE_RATE//2):(-RESAMPLE_RATE//2):(RESAMPLE_RATE//2)])\n",
    "# .iloc[0][500:-500:500].shape"
   ]
  },
  {
   "cell_type": "markdown",
   "metadata": {},
   "source": [
    "- Making sure that the timestamps for power makes sense with shape and values"
   ]
  },
  {
   "cell_type": "code",
   "execution_count": 20,
   "metadata": {
    "tags": []
   },
   "outputs": [
    {
     "data": {
      "text/plain": [
       "0    (6828,)\n",
       "1    (6828,)\n",
       "2    (6833,)\n",
       "3    (6833,)\n",
       "4    (6840,)\n",
       "Name: power_timestamps, dtype: object"
      ]
     },
     "execution_count": 20,
     "metadata": {},
     "output_type": "execute_result"
    }
   ],
   "source": [
    "LFP_TRACES_DF[\"power_timestamps\"].head().apply(lambda x: x.shape)"
   ]
  },
  {
   "cell_type": "code",
   "execution_count": 21,
   "metadata": {
    "tags": []
   },
   "outputs": [
    {
     "data": {
      "text/plain": [
       "(6828, 500)"
      ]
     },
     "execution_count": 21,
     "metadata": {},
     "output_type": "execute_result"
    }
   ],
   "source": [
    "LFP_TRACES_DF[[col for col in LFP_TRACES_DF.columns if \"power_all_frequencies_all_windows\" in col][0]].iloc[0].shape"
   ]
  },
  {
   "cell_type": "code",
   "execution_count": 22,
   "metadata": {
    "tags": []
   },
   "outputs": [
    {
     "data": {
      "text/plain": [
       "array([       0,       20,       40, ..., 68293300, 68293320, 68293340],\n",
       "      dtype=int32)"
      ]
     },
     "execution_count": 22,
     "metadata": {},
     "output_type": "execute_result"
    }
   ],
   "source": [
    "LFP_TRACES_DF[[col for col in LFP_TRACES_DF.columns if \"lfp_timestamps\" in col][0]].iloc[0]"
   ]
  },
  {
   "cell_type": "code",
   "execution_count": 23,
   "metadata": {
    "tags": []
   },
   "outputs": [
    {
     "data": {
      "text/plain": [
       "array([   10000,    20000,    30000, ..., 68260000, 68270000, 68280000],\n",
       "      dtype=int32)"
      ]
     },
     "execution_count": 23,
     "metadata": {},
     "output_type": "execute_result"
    }
   ],
   "source": [
    "LFP_TRACES_DF[[col for col in LFP_TRACES_DF.columns if \"power_timestamps\" in col][0]].iloc[0]"
   ]
  },
  {
   "cell_type": "markdown",
   "metadata": {},
   "source": [
    "- Checking if the right frequencies are being used"
   ]
  },
  {
   "cell_type": "code",
   "execution_count": 24,
   "metadata": {
    "tags": []
   },
   "outputs": [
    {
     "data": {
      "text/html": [
       "<div>\n",
       "<style scoped>\n",
       "    .dataframe tbody tr th:only-of-type {\n",
       "        vertical-align: middle;\n",
       "    }\n",
       "\n",
       "    .dataframe tbody tr th {\n",
       "        vertical-align: top;\n",
       "    }\n",
       "\n",
       "    .dataframe thead th {\n",
       "        text-align: right;\n",
       "    }\n",
       "</style>\n",
       "<table border=\"1\" class=\"dataframe\">\n",
       "  <thead>\n",
       "    <tr style=\"text-align: right;\">\n",
       "      <th></th>\n",
       "      <th>mPFC_power_frequencies</th>\n",
       "      <th>MD_power_frequencies</th>\n",
       "      <th>LH_power_frequencies</th>\n",
       "      <th>BLA_power_frequencies</th>\n",
       "      <th>vHPC_power_frequencies</th>\n",
       "    </tr>\n",
       "  </thead>\n",
       "  <tbody>\n",
       "    <tr>\n",
       "      <th>0</th>\n",
       "      <td>[0.0, 1.0, 2.0, 3.0, 4.0, 5.0, 6.0, 7.0, 8.0, ...</td>\n",
       "      <td>[0.0, 1.0, 2.0, 3.0, 4.0, 5.0, 6.0, 7.0, 8.0, ...</td>\n",
       "      <td>[0.0, 1.0, 2.0, 3.0, 4.0, 5.0, 6.0, 7.0, 8.0, ...</td>\n",
       "      <td>[0.0, 1.0, 2.0, 3.0, 4.0, 5.0, 6.0, 7.0, 8.0, ...</td>\n",
       "      <td>[0.0, 1.0, 2.0, 3.0, 4.0, 5.0, 6.0, 7.0, 8.0, ...</td>\n",
       "    </tr>\n",
       "    <tr>\n",
       "      <th>1</th>\n",
       "      <td>[0.0, 1.0, 2.0, 3.0, 4.0, 5.0, 6.0, 7.0, 8.0, ...</td>\n",
       "      <td>[0.0, 1.0, 2.0, 3.0, 4.0, 5.0, 6.0, 7.0, 8.0, ...</td>\n",
       "      <td>[0.0, 1.0, 2.0, 3.0, 4.0, 5.0, 6.0, 7.0, 8.0, ...</td>\n",
       "      <td>[0.0, 1.0, 2.0, 3.0, 4.0, 5.0, 6.0, 7.0, 8.0, ...</td>\n",
       "      <td>[0.0, 1.0, 2.0, 3.0, 4.0, 5.0, 6.0, 7.0, 8.0, ...</td>\n",
       "    </tr>\n",
       "    <tr>\n",
       "      <th>2</th>\n",
       "      <td>[0.0, 1.0, 2.0, 3.0, 4.0, 5.0, 6.0, 7.0, 8.0, ...</td>\n",
       "      <td>[0.0, 1.0, 2.0, 3.0, 4.0, 5.0, 6.0, 7.0, 8.0, ...</td>\n",
       "      <td>[0.0, 1.0, 2.0, 3.0, 4.0, 5.0, 6.0, 7.0, 8.0, ...</td>\n",
       "      <td>[0.0, 1.0, 2.0, 3.0, 4.0, 5.0, 6.0, 7.0, 8.0, ...</td>\n",
       "      <td>[0.0, 1.0, 2.0, 3.0, 4.0, 5.0, 6.0, 7.0, 8.0, ...</td>\n",
       "    </tr>\n",
       "    <tr>\n",
       "      <th>3</th>\n",
       "      <td>[0.0, 1.0, 2.0, 3.0, 4.0, 5.0, 6.0, 7.0, 8.0, ...</td>\n",
       "      <td>[0.0, 1.0, 2.0, 3.0, 4.0, 5.0, 6.0, 7.0, 8.0, ...</td>\n",
       "      <td>[0.0, 1.0, 2.0, 3.0, 4.0, 5.0, 6.0, 7.0, 8.0, ...</td>\n",
       "      <td>[0.0, 1.0, 2.0, 3.0, 4.0, 5.0, 6.0, 7.0, 8.0, ...</td>\n",
       "      <td>[0.0, 1.0, 2.0, 3.0, 4.0, 5.0, 6.0, 7.0, 8.0, ...</td>\n",
       "    </tr>\n",
       "    <tr>\n",
       "      <th>4</th>\n",
       "      <td>[0.0, 1.0, 2.0, 3.0, 4.0, 5.0, 6.0, 7.0, 8.0, ...</td>\n",
       "      <td>[0.0, 1.0, 2.0, 3.0, 4.0, 5.0, 6.0, 7.0, 8.0, ...</td>\n",
       "      <td>[0.0, 1.0, 2.0, 3.0, 4.0, 5.0, 6.0, 7.0, 8.0, ...</td>\n",
       "      <td>[0.0, 1.0, 2.0, 3.0, 4.0, 5.0, 6.0, 7.0, 8.0, ...</td>\n",
       "      <td>[0.0, 1.0, 2.0, 3.0, 4.0, 5.0, 6.0, 7.0, 8.0, ...</td>\n",
       "    </tr>\n",
       "  </tbody>\n",
       "</table>\n",
       "</div>"
      ],
      "text/plain": [
       "                              mPFC_power_frequencies  \\\n",
       "0  [0.0, 1.0, 2.0, 3.0, 4.0, 5.0, 6.0, 7.0, 8.0, ...   \n",
       "1  [0.0, 1.0, 2.0, 3.0, 4.0, 5.0, 6.0, 7.0, 8.0, ...   \n",
       "2  [0.0, 1.0, 2.0, 3.0, 4.0, 5.0, 6.0, 7.0, 8.0, ...   \n",
       "3  [0.0, 1.0, 2.0, 3.0, 4.0, 5.0, 6.0, 7.0, 8.0, ...   \n",
       "4  [0.0, 1.0, 2.0, 3.0, 4.0, 5.0, 6.0, 7.0, 8.0, ...   \n",
       "\n",
       "                                MD_power_frequencies  \\\n",
       "0  [0.0, 1.0, 2.0, 3.0, 4.0, 5.0, 6.0, 7.0, 8.0, ...   \n",
       "1  [0.0, 1.0, 2.0, 3.0, 4.0, 5.0, 6.0, 7.0, 8.0, ...   \n",
       "2  [0.0, 1.0, 2.0, 3.0, 4.0, 5.0, 6.0, 7.0, 8.0, ...   \n",
       "3  [0.0, 1.0, 2.0, 3.0, 4.0, 5.0, 6.0, 7.0, 8.0, ...   \n",
       "4  [0.0, 1.0, 2.0, 3.0, 4.0, 5.0, 6.0, 7.0, 8.0, ...   \n",
       "\n",
       "                                LH_power_frequencies  \\\n",
       "0  [0.0, 1.0, 2.0, 3.0, 4.0, 5.0, 6.0, 7.0, 8.0, ...   \n",
       "1  [0.0, 1.0, 2.0, 3.0, 4.0, 5.0, 6.0, 7.0, 8.0, ...   \n",
       "2  [0.0, 1.0, 2.0, 3.0, 4.0, 5.0, 6.0, 7.0, 8.0, ...   \n",
       "3  [0.0, 1.0, 2.0, 3.0, 4.0, 5.0, 6.0, 7.0, 8.0, ...   \n",
       "4  [0.0, 1.0, 2.0, 3.0, 4.0, 5.0, 6.0, 7.0, 8.0, ...   \n",
       "\n",
       "                               BLA_power_frequencies  \\\n",
       "0  [0.0, 1.0, 2.0, 3.0, 4.0, 5.0, 6.0, 7.0, 8.0, ...   \n",
       "1  [0.0, 1.0, 2.0, 3.0, 4.0, 5.0, 6.0, 7.0, 8.0, ...   \n",
       "2  [0.0, 1.0, 2.0, 3.0, 4.0, 5.0, 6.0, 7.0, 8.0, ...   \n",
       "3  [0.0, 1.0, 2.0, 3.0, 4.0, 5.0, 6.0, 7.0, 8.0, ...   \n",
       "4  [0.0, 1.0, 2.0, 3.0, 4.0, 5.0, 6.0, 7.0, 8.0, ...   \n",
       "\n",
       "                              vHPC_power_frequencies  \n",
       "0  [0.0, 1.0, 2.0, 3.0, 4.0, 5.0, 6.0, 7.0, 8.0, ...  \n",
       "1  [0.0, 1.0, 2.0, 3.0, 4.0, 5.0, 6.0, 7.0, 8.0, ...  \n",
       "2  [0.0, 1.0, 2.0, 3.0, 4.0, 5.0, 6.0, 7.0, 8.0, ...  \n",
       "3  [0.0, 1.0, 2.0, 3.0, 4.0, 5.0, 6.0, 7.0, 8.0, ...  \n",
       "4  [0.0, 1.0, 2.0, 3.0, 4.0, 5.0, 6.0, 7.0, 8.0, ...  "
      ]
     },
     "execution_count": 24,
     "metadata": {},
     "output_type": "execute_result"
    }
   ],
   "source": [
    "LFP_TRACES_DF[[col for col in LFP_TRACES_DF.columns if \"power_frequencies\" in col]].head()"
   ]
  },
  {
   "cell_type": "code",
   "execution_count": 25,
   "metadata": {},
   "outputs": [],
   "source": [
    "LFP_TRACES_DF[\"power_calculation_frequencies\"] = LFP_TRACES_DF[[col for col in LFP_TRACES_DF.columns if \"power_frequencies\" in col][0]].copy()"
   ]
  },
  {
   "cell_type": "markdown",
   "metadata": {},
   "source": [
    "- Dropping unnecessary columns"
   ]
  },
  {
   "cell_type": "code",
   "execution_count": 26,
   "metadata": {
    "tags": []
   },
   "outputs": [],
   "source": [
    "LFP_TRACES_DF = LFP_TRACES_DF.drop(columns=[col for col in LFP_TRACES_DF.columns if \"power_frequencies\" in col], errors=\"ignore\")"
   ]
  },
  {
   "cell_type": "code",
   "execution_count": 27,
   "metadata": {
    "tags": []
   },
   "outputs": [
    {
     "data": {
      "text/html": [
       "<div>\n",
       "<style scoped>\n",
       "    .dataframe tbody tr th:only-of-type {\n",
       "        vertical-align: middle;\n",
       "    }\n",
       "\n",
       "    .dataframe tbody tr th {\n",
       "        vertical-align: top;\n",
       "    }\n",
       "\n",
       "    .dataframe thead th {\n",
       "        text-align: right;\n",
       "    }\n",
       "</style>\n",
       "<table border=\"1\" class=\"dataframe\">\n",
       "  <thead>\n",
       "    <tr style=\"text-align: right;\">\n",
       "      <th></th>\n",
       "      <th>cohort</th>\n",
       "      <th>session_dir</th>\n",
       "      <th>original_file</th>\n",
       "      <th>tone_frames</th>\n",
       "      <th>box_1_port_entry_frames</th>\n",
       "      <th>box_2_port_entry_frames</th>\n",
       "      <th>video_name</th>\n",
       "      <th>session_path</th>\n",
       "      <th>recording</th>\n",
       "      <th>current_subject</th>\n",
       "      <th>...</th>\n",
       "      <th>LH_lfp_trace</th>\n",
       "      <th>BLA_lfp_trace</th>\n",
       "      <th>vHPC_lfp_trace</th>\n",
       "      <th>mPFC_power_all_frequencies_all_windows</th>\n",
       "      <th>MD_power_all_frequencies_all_windows</th>\n",
       "      <th>LH_power_all_frequencies_all_windows</th>\n",
       "      <th>BLA_power_all_frequencies_all_windows</th>\n",
       "      <th>vHPC_power_all_frequencies_all_windows</th>\n",
       "      <th>power_timestamps</th>\n",
       "      <th>power_calculation_frequencies</th>\n",
       "    </tr>\n",
       "  </thead>\n",
       "  <tbody>\n",
       "    <tr>\n",
       "      <th>0</th>\n",
       "      <td>2</td>\n",
       "      <td>20230612_101430_standard_comp_to_training_D1_s...</td>\n",
       "      <td>20230612_101430_standard_comp_to_training_D1_s...</td>\n",
       "      <td>[[980, 1180], [3376, 3575], [5672, 5871], [746...</td>\n",
       "      <td>[[490, 514], [518, 558], [558, 637], [638, 640...</td>\n",
       "      <td>[[33021, 33027], [33502, 33503], [33504, 33506...</td>\n",
       "      <td>20230612_101430_standard_comp_to_training_D1_s...</td>\n",
       "      <td>/scratch/back_up/reward_competition_extention/...</td>\n",
       "      <td>20230612_101430_standard_comp_to_training_D1_s...</td>\n",
       "      <td>1.3</td>\n",
       "      <td>...</td>\n",
       "      <td>[0.8945, 0.962, 1.193, 1.322, 1.038, 0.572, 0....</td>\n",
       "      <td>[0.6655, 0.661, 0.8735, 1.023, 0.7085, 0.2559,...</td>\n",
       "      <td>[0.2328, 0.3381, 0.5566, 0.7466, 0.8315, 0.822...</td>\n",
       "      <td>[[0.0417, 0.08026, 0.08984, 0.0713, 0.03882, 0...</td>\n",
       "      <td>[[0.00632, 0.01746, 0.02122, 0.02435, 0.0162, ...</td>\n",
       "      <td>[[0.01959, 0.04858, 0.0577, 0.0546, 0.0346, 0....</td>\n",
       "      <td>[[0.0376, 0.02425, 0.0459, 0.0485, 0.0531, 0.0...</td>\n",
       "      <td>[[0.009636, 0.00574, 0.01634, 0.01555, 0.01978...</td>\n",
       "      <td>[10000, 20000, 30000, 40000, 50000, 60000, 700...</td>\n",
       "      <td>[0.0, 1.0, 2.0, 3.0, 4.0, 5.0, 6.0, 7.0, 8.0, ...</td>\n",
       "    </tr>\n",
       "    <tr>\n",
       "      <th>1</th>\n",
       "      <td>2</td>\n",
       "      <td>20230612_101430_standard_comp_to_training_D1_s...</td>\n",
       "      <td>20230612_101430_standard_comp_to_training_D1_s...</td>\n",
       "      <td>[[980, 1180], [3376, 3575], [5672, 5871], [746...</td>\n",
       "      <td>[[490, 514], [518, 558], [558, 637], [638, 640...</td>\n",
       "      <td>[[33021, 33027], [33502, 33503], [33504, 33506...</td>\n",
       "      <td>20230612_101430_standard_comp_to_training_D1_s...</td>\n",
       "      <td>/scratch/back_up/reward_competition_extention/...</td>\n",
       "      <td>20230612_101430_standard_comp_to_training_D1_s...</td>\n",
       "      <td>1.4</td>\n",
       "      <td>...</td>\n",
       "      <td>[0.8115, 0.72, 0.623, 0.646, 0.652, 0.3887, 0....</td>\n",
       "      <td>[0.7983, 1.067, 1.111, 0.8345, 1.065, 1.497, 1...</td>\n",
       "      <td>[0.8823, 1.2295, 1.485, 1.232, 1.067, 1.286, 1...</td>\n",
       "      <td>[[0.0002556, 0.0005894, 0.002153, 0.002962, 0....</td>\n",
       "      <td>[[0.01222, 0.01273, 0.010864, 0.003828, 0.0028...</td>\n",
       "      <td>[[0.01642, 0.01765, 0.01605, 0.006023, 0.00426...</td>\n",
       "      <td>[[0.000475, 0.002134, 0.006367, 0.007313, 0.00...</td>\n",
       "      <td>[[0.001258, 0.001891, 0.005817, 0.00642, 0.006...</td>\n",
       "      <td>[10000, 20000, 30000, 40000, 50000, 60000, 700...</td>\n",
       "      <td>[0.0, 1.0, 2.0, 3.0, 4.0, 5.0, 6.0, 7.0, 8.0, ...</td>\n",
       "    </tr>\n",
       "    <tr>\n",
       "      <th>2</th>\n",
       "      <td>2</td>\n",
       "      <td>20230612_112630_standard_comp_to_training_D1_s...</td>\n",
       "      <td>20230612_112630_standard_comp_to_training_D1_s...</td>\n",
       "      <td>[[1125, 1324], [3519, 3720], [5815, 6014], [76...</td>\n",
       "      <td>[[192, 248], [389, 405], [916, 929], [929, 948...</td>\n",
       "      <td>[[33019, 33020], [33246, 33251], [33253, 33255...</td>\n",
       "      <td>20230612_112630_standard_comp_to_training_D1_s...</td>\n",
       "      <td>/scratch/back_up/reward_competition_extention/...</td>\n",
       "      <td>20230612_112630_standard_comp_to_training_D1_s...</td>\n",
       "      <td>1.1</td>\n",
       "      <td>...</td>\n",
       "      <td>[0.003944, 0.2524, 0.489, 0.4082, 0.215, -0.04...</td>\n",
       "      <td>[0.001743, 0.0401, 0.129, 0.1935, 0.1063, -0.1...</td>\n",
       "      <td>[0.241, 0.3652, 0.3152, -0.0394, -0.2773, -0.2...</td>\n",
       "      <td>[[0.02177, 0.00988, 0.02951, 0.01837, 0.03044,...</td>\n",
       "      <td>[[0.009155, 0.00615, 0.005947, 0.002455, 0.003...</td>\n",
       "      <td>[[0.01685, 0.01133, 0.009186, 0.003273, 0.0048...</td>\n",
       "      <td>[[0.00824, 0.005802, 0.00613, 0.003384, 0.0024...</td>\n",
       "      <td>[[0.001064, 0.006977, 0.006905, 0.01109, 0.006...</td>\n",
       "      <td>[10000, 20000, 30000, 40000, 50000, 60000, 700...</td>\n",
       "      <td>[0.0, 1.0, 2.0, 3.0, 4.0, 5.0, 6.0, 7.0, 8.0, ...</td>\n",
       "    </tr>\n",
       "    <tr>\n",
       "      <th>3</th>\n",
       "      <td>2</td>\n",
       "      <td>20230612_112630_standard_comp_to_training_D1_s...</td>\n",
       "      <td>20230612_112630_standard_comp_to_training_D1_s...</td>\n",
       "      <td>[[1125, 1324], [3519, 3720], [5815, 6014], [76...</td>\n",
       "      <td>[[192, 248], [389, 405], [916, 929], [929, 948...</td>\n",
       "      <td>[[33019, 33020], [33246, 33251], [33253, 33255...</td>\n",
       "      <td>20230612_112630_standard_comp_to_training_D1_s...</td>\n",
       "      <td>/scratch/back_up/reward_competition_extention/...</td>\n",
       "      <td>20230612_112630_standard_comp_to_training_D1_s...</td>\n",
       "      <td>1.2</td>\n",
       "      <td>...</td>\n",
       "      <td>[-0.3896, -0.8096, -0.4617, 0.3958, 0.04495, -...</td>\n",
       "      <td>[0.2257, -0.0932, 0.1667, 0.7603, 0.5005, 0.14...</td>\n",
       "      <td>[1.249, 1.02, 0.978, 1.081, 0.8228, 0.563, 0.4...</td>\n",
       "      <td>[[0.1814, 0.2057, 0.2612, 0.1082, 0.0678, 0.04...</td>\n",
       "      <td>[[0.2328, 0.2329, 0.301, 0.1137, 0.07825, 0.05...</td>\n",
       "      <td>[[0.3687, 0.3687, 0.4849, 0.1884, 0.1263, 0.06...</td>\n",
       "      <td>[[0.339, 0.2898, 0.3713, 0.1208, 0.0833, 0.040...</td>\n",
       "      <td>[[0.2329, 0.174, 0.2145, 0.05942, 0.04214, 0.0...</td>\n",
       "      <td>[10000, 20000, 30000, 40000, 50000, 60000, 700...</td>\n",
       "      <td>[0.0, 1.0, 2.0, 3.0, 4.0, 5.0, 6.0, 7.0, 8.0, ...</td>\n",
       "    </tr>\n",
       "    <tr>\n",
       "      <th>4</th>\n",
       "      <td>2</td>\n",
       "      <td>20230613_105657_standard_comp_to_training_D2_s...</td>\n",
       "      <td>20230613_105657_standard_comp_to_training_D2_s...</td>\n",
       "      <td>[[916, 1117], [3312, 3513], [5608, 5808], [740...</td>\n",
       "      <td>[[49, 67], [70, 79], [360, 366], [460, 469], [...</td>\n",
       "      <td>[[33601, 33798], [34108, 34165], [34166, 34179...</td>\n",
       "      <td>20230613_105657_standard_comp_to_training_D2_s...</td>\n",
       "      <td>/scratch/back_up/reward_competition_extention/...</td>\n",
       "      <td>20230613_105657_standard_comp_to_training_D2_s...</td>\n",
       "      <td>1.1</td>\n",
       "      <td>...</td>\n",
       "      <td>[-0.9404, -0.919, -1.241, -1.487, -1.2295, -0....</td>\n",
       "      <td>[-1.046, -0.838, -0.762, -0.697, -0.2478, 0.12...</td>\n",
       "      <td>[-0.962, -0.899, -1.043, -1.389, -1.515, -1.31...</td>\n",
       "      <td>[[0.03204, 0.02357, 0.02635, 0.0118, 0.010376,...</td>\n",
       "      <td>[[0.0762, 0.04935, 0.04437, 0.00522, 0.007694,...</td>\n",
       "      <td>[[0.04874, 0.03162, 0.02945, 0.00852, 0.007294...</td>\n",
       "      <td>[[0.0951, 0.06073, 0.0671, 0.01607, 0.02182, 0...</td>\n",
       "      <td>[[0.0345, 0.0204, 0.02637, 0.01797, 0.01799, 0...</td>\n",
       "      <td>[10000, 20000, 30000, 40000, 50000, 60000, 700...</td>\n",
       "      <td>[0.0, 1.0, 2.0, 3.0, 4.0, 5.0, 6.0, 7.0, 8.0, ...</td>\n",
       "    </tr>\n",
       "  </tbody>\n",
       "</table>\n",
       "<p>5 rows × 31 columns</p>\n",
       "</div>"
      ],
      "text/plain": [
       "   cohort                                        session_dir  \\\n",
       "0       2  20230612_101430_standard_comp_to_training_D1_s...   \n",
       "1       2  20230612_101430_standard_comp_to_training_D1_s...   \n",
       "2       2  20230612_112630_standard_comp_to_training_D1_s...   \n",
       "3       2  20230612_112630_standard_comp_to_training_D1_s...   \n",
       "4       2  20230613_105657_standard_comp_to_training_D2_s...   \n",
       "\n",
       "                                       original_file  \\\n",
       "0  20230612_101430_standard_comp_to_training_D1_s...   \n",
       "1  20230612_101430_standard_comp_to_training_D1_s...   \n",
       "2  20230612_112630_standard_comp_to_training_D1_s...   \n",
       "3  20230612_112630_standard_comp_to_training_D1_s...   \n",
       "4  20230613_105657_standard_comp_to_training_D2_s...   \n",
       "\n",
       "                                         tone_frames  \\\n",
       "0  [[980, 1180], [3376, 3575], [5672, 5871], [746...   \n",
       "1  [[980, 1180], [3376, 3575], [5672, 5871], [746...   \n",
       "2  [[1125, 1324], [3519, 3720], [5815, 6014], [76...   \n",
       "3  [[1125, 1324], [3519, 3720], [5815, 6014], [76...   \n",
       "4  [[916, 1117], [3312, 3513], [5608, 5808], [740...   \n",
       "\n",
       "                             box_1_port_entry_frames  \\\n",
       "0  [[490, 514], [518, 558], [558, 637], [638, 640...   \n",
       "1  [[490, 514], [518, 558], [558, 637], [638, 640...   \n",
       "2  [[192, 248], [389, 405], [916, 929], [929, 948...   \n",
       "3  [[192, 248], [389, 405], [916, 929], [929, 948...   \n",
       "4  [[49, 67], [70, 79], [360, 366], [460, 469], [...   \n",
       "\n",
       "                             box_2_port_entry_frames  \\\n",
       "0  [[33021, 33027], [33502, 33503], [33504, 33506...   \n",
       "1  [[33021, 33027], [33502, 33503], [33504, 33506...   \n",
       "2  [[33019, 33020], [33246, 33251], [33253, 33255...   \n",
       "3  [[33019, 33020], [33246, 33251], [33253, 33255...   \n",
       "4  [[33601, 33798], [34108, 34165], [34166, 34179...   \n",
       "\n",
       "                                          video_name  \\\n",
       "0  20230612_101430_standard_comp_to_training_D1_s...   \n",
       "1  20230612_101430_standard_comp_to_training_D1_s...   \n",
       "2  20230612_112630_standard_comp_to_training_D1_s...   \n",
       "3  20230612_112630_standard_comp_to_training_D1_s...   \n",
       "4  20230613_105657_standard_comp_to_training_D2_s...   \n",
       "\n",
       "                                        session_path  \\\n",
       "0  /scratch/back_up/reward_competition_extention/...   \n",
       "1  /scratch/back_up/reward_competition_extention/...   \n",
       "2  /scratch/back_up/reward_competition_extention/...   \n",
       "3  /scratch/back_up/reward_competition_extention/...   \n",
       "4  /scratch/back_up/reward_competition_extention/...   \n",
       "\n",
       "                                           recording current_subject  ...  \\\n",
       "0  20230612_101430_standard_comp_to_training_D1_s...             1.3  ...   \n",
       "1  20230612_101430_standard_comp_to_training_D1_s...             1.4  ...   \n",
       "2  20230612_112630_standard_comp_to_training_D1_s...             1.1  ...   \n",
       "3  20230612_112630_standard_comp_to_training_D1_s...             1.2  ...   \n",
       "4  20230613_105657_standard_comp_to_training_D2_s...             1.1  ...   \n",
       "\n",
       "                                        LH_lfp_trace  \\\n",
       "0  [0.8945, 0.962, 1.193, 1.322, 1.038, 0.572, 0....   \n",
       "1  [0.8115, 0.72, 0.623, 0.646, 0.652, 0.3887, 0....   \n",
       "2  [0.003944, 0.2524, 0.489, 0.4082, 0.215, -0.04...   \n",
       "3  [-0.3896, -0.8096, -0.4617, 0.3958, 0.04495, -...   \n",
       "4  [-0.9404, -0.919, -1.241, -1.487, -1.2295, -0....   \n",
       "\n",
       "                                       BLA_lfp_trace  \\\n",
       "0  [0.6655, 0.661, 0.8735, 1.023, 0.7085, 0.2559,...   \n",
       "1  [0.7983, 1.067, 1.111, 0.8345, 1.065, 1.497, 1...   \n",
       "2  [0.001743, 0.0401, 0.129, 0.1935, 0.1063, -0.1...   \n",
       "3  [0.2257, -0.0932, 0.1667, 0.7603, 0.5005, 0.14...   \n",
       "4  [-1.046, -0.838, -0.762, -0.697, -0.2478, 0.12...   \n",
       "\n",
       "                                      vHPC_lfp_trace  \\\n",
       "0  [0.2328, 0.3381, 0.5566, 0.7466, 0.8315, 0.822...   \n",
       "1  [0.8823, 1.2295, 1.485, 1.232, 1.067, 1.286, 1...   \n",
       "2  [0.241, 0.3652, 0.3152, -0.0394, -0.2773, -0.2...   \n",
       "3  [1.249, 1.02, 0.978, 1.081, 0.8228, 0.563, 0.4...   \n",
       "4  [-0.962, -0.899, -1.043, -1.389, -1.515, -1.31...   \n",
       "\n",
       "              mPFC_power_all_frequencies_all_windows  \\\n",
       "0  [[0.0417, 0.08026, 0.08984, 0.0713, 0.03882, 0...   \n",
       "1  [[0.0002556, 0.0005894, 0.002153, 0.002962, 0....   \n",
       "2  [[0.02177, 0.00988, 0.02951, 0.01837, 0.03044,...   \n",
       "3  [[0.1814, 0.2057, 0.2612, 0.1082, 0.0678, 0.04...   \n",
       "4  [[0.03204, 0.02357, 0.02635, 0.0118, 0.010376,...   \n",
       "\n",
       "                MD_power_all_frequencies_all_windows  \\\n",
       "0  [[0.00632, 0.01746, 0.02122, 0.02435, 0.0162, ...   \n",
       "1  [[0.01222, 0.01273, 0.010864, 0.003828, 0.0028...   \n",
       "2  [[0.009155, 0.00615, 0.005947, 0.002455, 0.003...   \n",
       "3  [[0.2328, 0.2329, 0.301, 0.1137, 0.07825, 0.05...   \n",
       "4  [[0.0762, 0.04935, 0.04437, 0.00522, 0.007694,...   \n",
       "\n",
       "                LH_power_all_frequencies_all_windows  \\\n",
       "0  [[0.01959, 0.04858, 0.0577, 0.0546, 0.0346, 0....   \n",
       "1  [[0.01642, 0.01765, 0.01605, 0.006023, 0.00426...   \n",
       "2  [[0.01685, 0.01133, 0.009186, 0.003273, 0.0048...   \n",
       "3  [[0.3687, 0.3687, 0.4849, 0.1884, 0.1263, 0.06...   \n",
       "4  [[0.04874, 0.03162, 0.02945, 0.00852, 0.007294...   \n",
       "\n",
       "               BLA_power_all_frequencies_all_windows  \\\n",
       "0  [[0.0376, 0.02425, 0.0459, 0.0485, 0.0531, 0.0...   \n",
       "1  [[0.000475, 0.002134, 0.006367, 0.007313, 0.00...   \n",
       "2  [[0.00824, 0.005802, 0.00613, 0.003384, 0.0024...   \n",
       "3  [[0.339, 0.2898, 0.3713, 0.1208, 0.0833, 0.040...   \n",
       "4  [[0.0951, 0.06073, 0.0671, 0.01607, 0.02182, 0...   \n",
       "\n",
       "              vHPC_power_all_frequencies_all_windows  \\\n",
       "0  [[0.009636, 0.00574, 0.01634, 0.01555, 0.01978...   \n",
       "1  [[0.001258, 0.001891, 0.005817, 0.00642, 0.006...   \n",
       "2  [[0.001064, 0.006977, 0.006905, 0.01109, 0.006...   \n",
       "3  [[0.2329, 0.174, 0.2145, 0.05942, 0.04214, 0.0...   \n",
       "4  [[0.0345, 0.0204, 0.02637, 0.01797, 0.01799, 0...   \n",
       "\n",
       "                                    power_timestamps  \\\n",
       "0  [10000, 20000, 30000, 40000, 50000, 60000, 700...   \n",
       "1  [10000, 20000, 30000, 40000, 50000, 60000, 700...   \n",
       "2  [10000, 20000, 30000, 40000, 50000, 60000, 700...   \n",
       "3  [10000, 20000, 30000, 40000, 50000, 60000, 700...   \n",
       "4  [10000, 20000, 30000, 40000, 50000, 60000, 700...   \n",
       "\n",
       "                       power_calculation_frequencies  \n",
       "0  [0.0, 1.0, 2.0, 3.0, 4.0, 5.0, 6.0, 7.0, 8.0, ...  \n",
       "1  [0.0, 1.0, 2.0, 3.0, 4.0, 5.0, 6.0, 7.0, 8.0, ...  \n",
       "2  [0.0, 1.0, 2.0, 3.0, 4.0, 5.0, 6.0, 7.0, 8.0, ...  \n",
       "3  [0.0, 1.0, 2.0, 3.0, 4.0, 5.0, 6.0, 7.0, 8.0, ...  \n",
       "4  [0.0, 1.0, 2.0, 3.0, 4.0, 5.0, 6.0, 7.0, 8.0, ...  \n",
       "\n",
       "[5 rows x 31 columns]"
      ]
     },
     "execution_count": 27,
     "metadata": {},
     "output_type": "execute_result"
    }
   ],
   "source": [
    "LFP_TRACES_DF.head()"
   ]
  },
  {
   "cell_type": "markdown",
   "metadata": {},
   "source": [
    "## Coherence Calculation"
   ]
  },
  {
   "cell_type": "markdown",
   "metadata": {},
   "source": [
    "- Getting the trace column pairs"
   ]
  },
  {
   "cell_type": "code",
   "execution_count": 28,
   "metadata": {
    "tags": []
   },
   "outputs": [
    {
     "data": {
      "text/plain": [
       "['mPFC_lfp_trace',\n",
       " 'MD_lfp_trace',\n",
       " 'LH_lfp_trace',\n",
       " 'BLA_lfp_trace',\n",
       " 'vHPC_lfp_trace']"
      ]
     },
     "execution_count": 28,
     "metadata": {},
     "output_type": "execute_result"
    }
   ],
   "source": [
    "trace_columns"
   ]
  },
  {
   "cell_type": "code",
   "execution_count": 29,
   "metadata": {
    "tags": []
   },
   "outputs": [],
   "source": [
    "brain_region_pairs = generate_pairs(sorted(trace_columns))\n",
    "brain_region_pairs = sorted(brain_region_pairs)\n"
   ]
  },
  {
   "cell_type": "code",
   "execution_count": 30,
   "metadata": {
    "tags": []
   },
   "outputs": [
    {
     "data": {
      "text/plain": [
       "[('BLA_lfp_trace', 'LH_lfp_trace'),\n",
       " ('BLA_lfp_trace', 'MD_lfp_trace'),\n",
       " ('BLA_lfp_trace', 'mPFC_lfp_trace'),\n",
       " ('BLA_lfp_trace', 'vHPC_lfp_trace'),\n",
       " ('LH_lfp_trace', 'MD_lfp_trace'),\n",
       " ('LH_lfp_trace', 'mPFC_lfp_trace'),\n",
       " ('LH_lfp_trace', 'vHPC_lfp_trace'),\n",
       " ('MD_lfp_trace', 'mPFC_lfp_trace'),\n",
       " ('MD_lfp_trace', 'vHPC_lfp_trace'),\n",
       " ('mPFC_lfp_trace', 'vHPC_lfp_trace')]"
      ]
     },
     "execution_count": 30,
     "metadata": {},
     "output_type": "execute_result"
    }
   ],
   "source": [
    "brain_region_pairs"
   ]
  },
  {
   "cell_type": "markdown",
   "metadata": {},
   "source": [
    "## Coherece Calculation"
   ]
  },
  {
   "cell_type": "markdown",
   "metadata": {},
   "source": [
    "- Calculating the coherence"
   ]
  },
  {
   "cell_type": "code",
   "execution_count": 31,
   "metadata": {
    "tags": []
   },
   "outputs": [
    {
     "name": "stdout",
     "output_type": "stream",
     "text": [
      "BLA_LH\n",
      "BLA_MD\n",
      "BLA_mPFC\n",
      "BLA_vHPC\n",
      "LH_MD\n",
      "LH_mPFC\n",
      "LH_vHPC\n",
      "MD_mPFC\n",
      "MD_vHPC\n",
      "mPFC_vHPC\n"
     ]
    }
   ],
   "source": [
    "for region_1, region_2 in brain_region_pairs:\n",
    "    # Define base name for pair\n",
    "    pair_base_name = f\"{region_1.split('_')[0]}_{region_2.split('_')[0]}\"\n",
    "    print(pair_base_name)\n",
    "\n",
    "    try:\n",
    "        # Define column names\n",
    "        multitaper_col = f\"{pair_base_name}_coherence_multitaper\"\n",
    "        connectivity_col = f\"{pair_base_name}_coherence_connectivity\"\n",
    "        frequencies_col = f\"{pair_base_name}_coherence_frequencies\"\n",
    "        coherence_col = f\"{pair_base_name}_coherence_all_frequencies_all_windows\"\n",
    "\n",
    "        # Apply Multitaper function\n",
    "        LFP_TRACES_DF[multitaper_col] = LFP_TRACES_DF.apply(\n",
    "            lambda x: Multitaper(\n",
    "                time_series=np.array([x[region_1], x[region_2]]).T, \n",
    "                sampling_frequency=RESAMPLE_RATE, \n",
    "                time_halfbandwidth_product=TIME_HALFBANDWIDTH_PRODUCT, \n",
    "                time_window_step=TIME_WINDOW_STEP, \n",
    "                time_window_duration=TIME_WINDOW_DURATION\n",
    "            ), \n",
    "            axis=1\n",
    "        )\n",
    "\n",
    "        # Apply Connectivity function\n",
    "        LFP_TRACES_DF[connectivity_col] = LFP_TRACES_DF[multitaper_col].apply(\n",
    "            lambda x: Connectivity.from_multitaper(x)\n",
    "        )\n",
    "\n",
    "        # Apply frequencies and coherence functions\n",
    "        LFP_TRACES_DF[frequencies_col] = LFP_TRACES_DF[connectivity_col].apply(\n",
    "            lambda x: x.frequencies\n",
    "        )\n",
    "        LFP_TRACES_DF[coherence_col] = LFP_TRACES_DF[connectivity_col].apply(\n",
    "            lambda x: x.coherence_magnitude()[:,:,0,1]\n",
    "        )\n",
    "\n",
    "        LFP_TRACES_DF[coherence_col] = LFP_TRACES_DF[coherence_col].apply(lambda x: x.astype(np.float16))\n",
    "\n",
    "    except Exception as e: \n",
    "        print(e)\n",
    "\n",
    "    # Drop temporary columns\n",
    "    LFP_TRACES_DF = LFP_TRACES_DF.drop(columns=[multitaper_col, connectivity_col], errors=\"ignore\")"
   ]
  },
  {
   "cell_type": "markdown",
   "metadata": {},
   "source": [
    "- Getting the timestamps of the coherence"
   ]
  },
  {
   "cell_type": "code",
   "execution_count": 32,
   "metadata": {
    "tags": []
   },
   "outputs": [],
   "source": [
    "LFP_TRACES_DF[\"coherence_timestamps\"] = LFP_TRACES_DF[\"lfp_timestamps\"].apply(lambda x: x[(RESAMPLE_RATE//2):(-RESAMPLE_RATE//2):(RESAMPLE_RATE//2)])\n"
   ]
  },
  {
   "cell_type": "markdown",
   "metadata": {},
   "source": [
    "- Making sure that the timestamps for coherence makes sense with shape and values"
   ]
  },
  {
   "cell_type": "code",
   "execution_count": 33,
   "metadata": {
    "tags": []
   },
   "outputs": [
    {
     "data": {
      "text/plain": [
       "0    (6828,)\n",
       "1    (6828,)\n",
       "2    (6833,)\n",
       "3    (6833,)\n",
       "4    (6840,)\n",
       "Name: coherence_timestamps, dtype: object"
      ]
     },
     "execution_count": 33,
     "metadata": {},
     "output_type": "execute_result"
    }
   ],
   "source": [
    "LFP_TRACES_DF[\"coherence_timestamps\"].head().apply(lambda x: x.shape)"
   ]
  },
  {
   "cell_type": "code",
   "execution_count": 34,
   "metadata": {
    "tags": []
   },
   "outputs": [
    {
     "data": {
      "text/plain": [
       "(6828, 500)"
      ]
     },
     "execution_count": 34,
     "metadata": {},
     "output_type": "execute_result"
    }
   ],
   "source": [
    "LFP_TRACES_DF[[col for col in LFP_TRACES_DF.columns if \"coherence_all_frequencies_all_windows\" in col][0]].iloc[0].shape"
   ]
  },
  {
   "cell_type": "code",
   "execution_count": 35,
   "metadata": {
    "tags": []
   },
   "outputs": [
    {
     "data": {
      "text/plain": [
       "array([       0,       20,       40, ..., 68293300, 68293320, 68293340],\n",
       "      dtype=int32)"
      ]
     },
     "execution_count": 35,
     "metadata": {},
     "output_type": "execute_result"
    }
   ],
   "source": [
    "LFP_TRACES_DF[[col for col in LFP_TRACES_DF.columns if \"lfp_timestamps\" in col][0]].iloc[0]"
   ]
  },
  {
   "cell_type": "code",
   "execution_count": 36,
   "metadata": {
    "tags": []
   },
   "outputs": [
    {
     "data": {
      "text/plain": [
       "array([   10000,    20000,    30000, ..., 68260000, 68270000, 68280000],\n",
       "      dtype=int32)"
      ]
     },
     "execution_count": 36,
     "metadata": {},
     "output_type": "execute_result"
    }
   ],
   "source": [
    "LFP_TRACES_DF[[col for col in LFP_TRACES_DF.columns if \"coherence_timestamps\" in col][0]].iloc[0]"
   ]
  },
  {
   "cell_type": "markdown",
   "metadata": {},
   "source": [
    "- Checking if the right frequencies are being used"
   ]
  },
  {
   "cell_type": "code",
   "execution_count": 37,
   "metadata": {
    "tags": []
   },
   "outputs": [
    {
     "data": {
      "text/html": [
       "<div>\n",
       "<style scoped>\n",
       "    .dataframe tbody tr th:only-of-type {\n",
       "        vertical-align: middle;\n",
       "    }\n",
       "\n",
       "    .dataframe tbody tr th {\n",
       "        vertical-align: top;\n",
       "    }\n",
       "\n",
       "    .dataframe thead th {\n",
       "        text-align: right;\n",
       "    }\n",
       "</style>\n",
       "<table border=\"1\" class=\"dataframe\">\n",
       "  <thead>\n",
       "    <tr style=\"text-align: right;\">\n",
       "      <th></th>\n",
       "      <th>BLA_LH_coherence_frequencies</th>\n",
       "      <th>BLA_MD_coherence_frequencies</th>\n",
       "      <th>BLA_mPFC_coherence_frequencies</th>\n",
       "      <th>BLA_vHPC_coherence_frequencies</th>\n",
       "      <th>LH_MD_coherence_frequencies</th>\n",
       "      <th>LH_mPFC_coherence_frequencies</th>\n",
       "      <th>LH_vHPC_coherence_frequencies</th>\n",
       "      <th>MD_mPFC_coherence_frequencies</th>\n",
       "      <th>MD_vHPC_coherence_frequencies</th>\n",
       "      <th>mPFC_vHPC_coherence_frequencies</th>\n",
       "    </tr>\n",
       "  </thead>\n",
       "  <tbody>\n",
       "    <tr>\n",
       "      <th>0</th>\n",
       "      <td>[0.0, 1.0, 2.0, 3.0, 4.0, 5.0, 6.0, 7.0, 8.0, ...</td>\n",
       "      <td>[0.0, 1.0, 2.0, 3.0, 4.0, 5.0, 6.0, 7.0, 8.0, ...</td>\n",
       "      <td>[0.0, 1.0, 2.0, 3.0, 4.0, 5.0, 6.0, 7.0, 8.0, ...</td>\n",
       "      <td>[0.0, 1.0, 2.0, 3.0, 4.0, 5.0, 6.0, 7.0, 8.0, ...</td>\n",
       "      <td>[0.0, 1.0, 2.0, 3.0, 4.0, 5.0, 6.0, 7.0, 8.0, ...</td>\n",
       "      <td>[0.0, 1.0, 2.0, 3.0, 4.0, 5.0, 6.0, 7.0, 8.0, ...</td>\n",
       "      <td>[0.0, 1.0, 2.0, 3.0, 4.0, 5.0, 6.0, 7.0, 8.0, ...</td>\n",
       "      <td>[0.0, 1.0, 2.0, 3.0, 4.0, 5.0, 6.0, 7.0, 8.0, ...</td>\n",
       "      <td>[0.0, 1.0, 2.0, 3.0, 4.0, 5.0, 6.0, 7.0, 8.0, ...</td>\n",
       "      <td>[0.0, 1.0, 2.0, 3.0, 4.0, 5.0, 6.0, 7.0, 8.0, ...</td>\n",
       "    </tr>\n",
       "    <tr>\n",
       "      <th>1</th>\n",
       "      <td>[0.0, 1.0, 2.0, 3.0, 4.0, 5.0, 6.0, 7.0, 8.0, ...</td>\n",
       "      <td>[0.0, 1.0, 2.0, 3.0, 4.0, 5.0, 6.0, 7.0, 8.0, ...</td>\n",
       "      <td>[0.0, 1.0, 2.0, 3.0, 4.0, 5.0, 6.0, 7.0, 8.0, ...</td>\n",
       "      <td>[0.0, 1.0, 2.0, 3.0, 4.0, 5.0, 6.0, 7.0, 8.0, ...</td>\n",
       "      <td>[0.0, 1.0, 2.0, 3.0, 4.0, 5.0, 6.0, 7.0, 8.0, ...</td>\n",
       "      <td>[0.0, 1.0, 2.0, 3.0, 4.0, 5.0, 6.0, 7.0, 8.0, ...</td>\n",
       "      <td>[0.0, 1.0, 2.0, 3.0, 4.0, 5.0, 6.0, 7.0, 8.0, ...</td>\n",
       "      <td>[0.0, 1.0, 2.0, 3.0, 4.0, 5.0, 6.0, 7.0, 8.0, ...</td>\n",
       "      <td>[0.0, 1.0, 2.0, 3.0, 4.0, 5.0, 6.0, 7.0, 8.0, ...</td>\n",
       "      <td>[0.0, 1.0, 2.0, 3.0, 4.0, 5.0, 6.0, 7.0, 8.0, ...</td>\n",
       "    </tr>\n",
       "    <tr>\n",
       "      <th>2</th>\n",
       "      <td>[0.0, 1.0, 2.0, 3.0, 4.0, 5.0, 6.0, 7.0, 8.0, ...</td>\n",
       "      <td>[0.0, 1.0, 2.0, 3.0, 4.0, 5.0, 6.0, 7.0, 8.0, ...</td>\n",
       "      <td>[0.0, 1.0, 2.0, 3.0, 4.0, 5.0, 6.0, 7.0, 8.0, ...</td>\n",
       "      <td>[0.0, 1.0, 2.0, 3.0, 4.0, 5.0, 6.0, 7.0, 8.0, ...</td>\n",
       "      <td>[0.0, 1.0, 2.0, 3.0, 4.0, 5.0, 6.0, 7.0, 8.0, ...</td>\n",
       "      <td>[0.0, 1.0, 2.0, 3.0, 4.0, 5.0, 6.0, 7.0, 8.0, ...</td>\n",
       "      <td>[0.0, 1.0, 2.0, 3.0, 4.0, 5.0, 6.0, 7.0, 8.0, ...</td>\n",
       "      <td>[0.0, 1.0, 2.0, 3.0, 4.0, 5.0, 6.0, 7.0, 8.0, ...</td>\n",
       "      <td>[0.0, 1.0, 2.0, 3.0, 4.0, 5.0, 6.0, 7.0, 8.0, ...</td>\n",
       "      <td>[0.0, 1.0, 2.0, 3.0, 4.0, 5.0, 6.0, 7.0, 8.0, ...</td>\n",
       "    </tr>\n",
       "    <tr>\n",
       "      <th>3</th>\n",
       "      <td>[0.0, 1.0, 2.0, 3.0, 4.0, 5.0, 6.0, 7.0, 8.0, ...</td>\n",
       "      <td>[0.0, 1.0, 2.0, 3.0, 4.0, 5.0, 6.0, 7.0, 8.0, ...</td>\n",
       "      <td>[0.0, 1.0, 2.0, 3.0, 4.0, 5.0, 6.0, 7.0, 8.0, ...</td>\n",
       "      <td>[0.0, 1.0, 2.0, 3.0, 4.0, 5.0, 6.0, 7.0, 8.0, ...</td>\n",
       "      <td>[0.0, 1.0, 2.0, 3.0, 4.0, 5.0, 6.0, 7.0, 8.0, ...</td>\n",
       "      <td>[0.0, 1.0, 2.0, 3.0, 4.0, 5.0, 6.0, 7.0, 8.0, ...</td>\n",
       "      <td>[0.0, 1.0, 2.0, 3.0, 4.0, 5.0, 6.0, 7.0, 8.0, ...</td>\n",
       "      <td>[0.0, 1.0, 2.0, 3.0, 4.0, 5.0, 6.0, 7.0, 8.0, ...</td>\n",
       "      <td>[0.0, 1.0, 2.0, 3.0, 4.0, 5.0, 6.0, 7.0, 8.0, ...</td>\n",
       "      <td>[0.0, 1.0, 2.0, 3.0, 4.0, 5.0, 6.0, 7.0, 8.0, ...</td>\n",
       "    </tr>\n",
       "    <tr>\n",
       "      <th>4</th>\n",
       "      <td>[0.0, 1.0, 2.0, 3.0, 4.0, 5.0, 6.0, 7.0, 8.0, ...</td>\n",
       "      <td>[0.0, 1.0, 2.0, 3.0, 4.0, 5.0, 6.0, 7.0, 8.0, ...</td>\n",
       "      <td>[0.0, 1.0, 2.0, 3.0, 4.0, 5.0, 6.0, 7.0, 8.0, ...</td>\n",
       "      <td>[0.0, 1.0, 2.0, 3.0, 4.0, 5.0, 6.0, 7.0, 8.0, ...</td>\n",
       "      <td>[0.0, 1.0, 2.0, 3.0, 4.0, 5.0, 6.0, 7.0, 8.0, ...</td>\n",
       "      <td>[0.0, 1.0, 2.0, 3.0, 4.0, 5.0, 6.0, 7.0, 8.0, ...</td>\n",
       "      <td>[0.0, 1.0, 2.0, 3.0, 4.0, 5.0, 6.0, 7.0, 8.0, ...</td>\n",
       "      <td>[0.0, 1.0, 2.0, 3.0, 4.0, 5.0, 6.0, 7.0, 8.0, ...</td>\n",
       "      <td>[0.0, 1.0, 2.0, 3.0, 4.0, 5.0, 6.0, 7.0, 8.0, ...</td>\n",
       "      <td>[0.0, 1.0, 2.0, 3.0, 4.0, 5.0, 6.0, 7.0, 8.0, ...</td>\n",
       "    </tr>\n",
       "  </tbody>\n",
       "</table>\n",
       "</div>"
      ],
      "text/plain": [
       "                        BLA_LH_coherence_frequencies  \\\n",
       "0  [0.0, 1.0, 2.0, 3.0, 4.0, 5.0, 6.0, 7.0, 8.0, ...   \n",
       "1  [0.0, 1.0, 2.0, 3.0, 4.0, 5.0, 6.0, 7.0, 8.0, ...   \n",
       "2  [0.0, 1.0, 2.0, 3.0, 4.0, 5.0, 6.0, 7.0, 8.0, ...   \n",
       "3  [0.0, 1.0, 2.0, 3.0, 4.0, 5.0, 6.0, 7.0, 8.0, ...   \n",
       "4  [0.0, 1.0, 2.0, 3.0, 4.0, 5.0, 6.0, 7.0, 8.0, ...   \n",
       "\n",
       "                        BLA_MD_coherence_frequencies  \\\n",
       "0  [0.0, 1.0, 2.0, 3.0, 4.0, 5.0, 6.0, 7.0, 8.0, ...   \n",
       "1  [0.0, 1.0, 2.0, 3.0, 4.0, 5.0, 6.0, 7.0, 8.0, ...   \n",
       "2  [0.0, 1.0, 2.0, 3.0, 4.0, 5.0, 6.0, 7.0, 8.0, ...   \n",
       "3  [0.0, 1.0, 2.0, 3.0, 4.0, 5.0, 6.0, 7.0, 8.0, ...   \n",
       "4  [0.0, 1.0, 2.0, 3.0, 4.0, 5.0, 6.0, 7.0, 8.0, ...   \n",
       "\n",
       "                      BLA_mPFC_coherence_frequencies  \\\n",
       "0  [0.0, 1.0, 2.0, 3.0, 4.0, 5.0, 6.0, 7.0, 8.0, ...   \n",
       "1  [0.0, 1.0, 2.0, 3.0, 4.0, 5.0, 6.0, 7.0, 8.0, ...   \n",
       "2  [0.0, 1.0, 2.0, 3.0, 4.0, 5.0, 6.0, 7.0, 8.0, ...   \n",
       "3  [0.0, 1.0, 2.0, 3.0, 4.0, 5.0, 6.0, 7.0, 8.0, ...   \n",
       "4  [0.0, 1.0, 2.0, 3.0, 4.0, 5.0, 6.0, 7.0, 8.0, ...   \n",
       "\n",
       "                      BLA_vHPC_coherence_frequencies  \\\n",
       "0  [0.0, 1.0, 2.0, 3.0, 4.0, 5.0, 6.0, 7.0, 8.0, ...   \n",
       "1  [0.0, 1.0, 2.0, 3.0, 4.0, 5.0, 6.0, 7.0, 8.0, ...   \n",
       "2  [0.0, 1.0, 2.0, 3.0, 4.0, 5.0, 6.0, 7.0, 8.0, ...   \n",
       "3  [0.0, 1.0, 2.0, 3.0, 4.0, 5.0, 6.0, 7.0, 8.0, ...   \n",
       "4  [0.0, 1.0, 2.0, 3.0, 4.0, 5.0, 6.0, 7.0, 8.0, ...   \n",
       "\n",
       "                         LH_MD_coherence_frequencies  \\\n",
       "0  [0.0, 1.0, 2.0, 3.0, 4.0, 5.0, 6.0, 7.0, 8.0, ...   \n",
       "1  [0.0, 1.0, 2.0, 3.0, 4.0, 5.0, 6.0, 7.0, 8.0, ...   \n",
       "2  [0.0, 1.0, 2.0, 3.0, 4.0, 5.0, 6.0, 7.0, 8.0, ...   \n",
       "3  [0.0, 1.0, 2.0, 3.0, 4.0, 5.0, 6.0, 7.0, 8.0, ...   \n",
       "4  [0.0, 1.0, 2.0, 3.0, 4.0, 5.0, 6.0, 7.0, 8.0, ...   \n",
       "\n",
       "                       LH_mPFC_coherence_frequencies  \\\n",
       "0  [0.0, 1.0, 2.0, 3.0, 4.0, 5.0, 6.0, 7.0, 8.0, ...   \n",
       "1  [0.0, 1.0, 2.0, 3.0, 4.0, 5.0, 6.0, 7.0, 8.0, ...   \n",
       "2  [0.0, 1.0, 2.0, 3.0, 4.0, 5.0, 6.0, 7.0, 8.0, ...   \n",
       "3  [0.0, 1.0, 2.0, 3.0, 4.0, 5.0, 6.0, 7.0, 8.0, ...   \n",
       "4  [0.0, 1.0, 2.0, 3.0, 4.0, 5.0, 6.0, 7.0, 8.0, ...   \n",
       "\n",
       "                       LH_vHPC_coherence_frequencies  \\\n",
       "0  [0.0, 1.0, 2.0, 3.0, 4.0, 5.0, 6.0, 7.0, 8.0, ...   \n",
       "1  [0.0, 1.0, 2.0, 3.0, 4.0, 5.0, 6.0, 7.0, 8.0, ...   \n",
       "2  [0.0, 1.0, 2.0, 3.0, 4.0, 5.0, 6.0, 7.0, 8.0, ...   \n",
       "3  [0.0, 1.0, 2.0, 3.0, 4.0, 5.0, 6.0, 7.0, 8.0, ...   \n",
       "4  [0.0, 1.0, 2.0, 3.0, 4.0, 5.0, 6.0, 7.0, 8.0, ...   \n",
       "\n",
       "                       MD_mPFC_coherence_frequencies  \\\n",
       "0  [0.0, 1.0, 2.0, 3.0, 4.0, 5.0, 6.0, 7.0, 8.0, ...   \n",
       "1  [0.0, 1.0, 2.0, 3.0, 4.0, 5.0, 6.0, 7.0, 8.0, ...   \n",
       "2  [0.0, 1.0, 2.0, 3.0, 4.0, 5.0, 6.0, 7.0, 8.0, ...   \n",
       "3  [0.0, 1.0, 2.0, 3.0, 4.0, 5.0, 6.0, 7.0, 8.0, ...   \n",
       "4  [0.0, 1.0, 2.0, 3.0, 4.0, 5.0, 6.0, 7.0, 8.0, ...   \n",
       "\n",
       "                       MD_vHPC_coherence_frequencies  \\\n",
       "0  [0.0, 1.0, 2.0, 3.0, 4.0, 5.0, 6.0, 7.0, 8.0, ...   \n",
       "1  [0.0, 1.0, 2.0, 3.0, 4.0, 5.0, 6.0, 7.0, 8.0, ...   \n",
       "2  [0.0, 1.0, 2.0, 3.0, 4.0, 5.0, 6.0, 7.0, 8.0, ...   \n",
       "3  [0.0, 1.0, 2.0, 3.0, 4.0, 5.0, 6.0, 7.0, 8.0, ...   \n",
       "4  [0.0, 1.0, 2.0, 3.0, 4.0, 5.0, 6.0, 7.0, 8.0, ...   \n",
       "\n",
       "                     mPFC_vHPC_coherence_frequencies  \n",
       "0  [0.0, 1.0, 2.0, 3.0, 4.0, 5.0, 6.0, 7.0, 8.0, ...  \n",
       "1  [0.0, 1.0, 2.0, 3.0, 4.0, 5.0, 6.0, 7.0, 8.0, ...  \n",
       "2  [0.0, 1.0, 2.0, 3.0, 4.0, 5.0, 6.0, 7.0, 8.0, ...  \n",
       "3  [0.0, 1.0, 2.0, 3.0, 4.0, 5.0, 6.0, 7.0, 8.0, ...  \n",
       "4  [0.0, 1.0, 2.0, 3.0, 4.0, 5.0, 6.0, 7.0, 8.0, ...  "
      ]
     },
     "execution_count": 37,
     "metadata": {},
     "output_type": "execute_result"
    }
   ],
   "source": [
    "LFP_TRACES_DF[[col for col in LFP_TRACES_DF.columns if \"coherence_frequencies\" in col]].head()"
   ]
  },
  {
   "cell_type": "code",
   "execution_count": 38,
   "metadata": {},
   "outputs": [],
   "source": [
    "LFP_TRACES_DF[\"coherence_calculation_frequencies\"] = LFP_TRACES_DF[[col for col in LFP_TRACES_DF.columns if \"coherence_frequencies\" in col][0]].copy()"
   ]
  },
  {
   "cell_type": "markdown",
   "metadata": {},
   "source": [
    "- Dropping unnecessary columns"
   ]
  },
  {
   "cell_type": "code",
   "execution_count": 39,
   "metadata": {
    "tags": []
   },
   "outputs": [],
   "source": [
    "LFP_TRACES_DF = LFP_TRACES_DF.drop(columns=[col for col in LFP_TRACES_DF.columns if \"coherence_frequencies\" in col], errors=\"ignore\")"
   ]
  },
  {
   "cell_type": "code",
   "execution_count": 40,
   "metadata": {
    "tags": []
   },
   "outputs": [
    {
     "data": {
      "text/html": [
       "<div>\n",
       "<style scoped>\n",
       "    .dataframe tbody tr th:only-of-type {\n",
       "        vertical-align: middle;\n",
       "    }\n",
       "\n",
       "    .dataframe tbody tr th {\n",
       "        vertical-align: top;\n",
       "    }\n",
       "\n",
       "    .dataframe thead th {\n",
       "        text-align: right;\n",
       "    }\n",
       "</style>\n",
       "<table border=\"1\" class=\"dataframe\">\n",
       "  <thead>\n",
       "    <tr style=\"text-align: right;\">\n",
       "      <th></th>\n",
       "      <th>cohort</th>\n",
       "      <th>session_dir</th>\n",
       "      <th>original_file</th>\n",
       "      <th>tone_frames</th>\n",
       "      <th>box_1_port_entry_frames</th>\n",
       "      <th>box_2_port_entry_frames</th>\n",
       "      <th>video_name</th>\n",
       "      <th>session_path</th>\n",
       "      <th>recording</th>\n",
       "      <th>current_subject</th>\n",
       "      <th>...</th>\n",
       "      <th>BLA_mPFC_coherence_all_frequencies_all_windows</th>\n",
       "      <th>BLA_vHPC_coherence_all_frequencies_all_windows</th>\n",
       "      <th>LH_MD_coherence_all_frequencies_all_windows</th>\n",
       "      <th>LH_mPFC_coherence_all_frequencies_all_windows</th>\n",
       "      <th>LH_vHPC_coherence_all_frequencies_all_windows</th>\n",
       "      <th>MD_mPFC_coherence_all_frequencies_all_windows</th>\n",
       "      <th>MD_vHPC_coherence_all_frequencies_all_windows</th>\n",
       "      <th>mPFC_vHPC_coherence_all_frequencies_all_windows</th>\n",
       "      <th>coherence_timestamps</th>\n",
       "      <th>coherence_calculation_frequencies</th>\n",
       "    </tr>\n",
       "  </thead>\n",
       "  <tbody>\n",
       "    <tr>\n",
       "      <th>0</th>\n",
       "      <td>2</td>\n",
       "      <td>20230612_101430_standard_comp_to_training_D1_s...</td>\n",
       "      <td>20230612_101430_standard_comp_to_training_D1_s...</td>\n",
       "      <td>[[980, 1180], [3376, 3575], [5672, 5871], [746...</td>\n",
       "      <td>[[490, 514], [518, 558], [558, 637], [638, 640...</td>\n",
       "      <td>[[33021, 33027], [33502, 33503], [33504, 33506...</td>\n",
       "      <td>20230612_101430_standard_comp_to_training_D1_s...</td>\n",
       "      <td>/scratch/back_up/reward_competition_extention/...</td>\n",
       "      <td>20230612_101430_standard_comp_to_training_D1_s...</td>\n",
       "      <td>1.3</td>\n",
       "      <td>...</td>\n",
       "      <td>[[0.888, 0.745, 0.7627, 0.573, 0.5938, 0.253, ...</td>\n",
       "      <td>[[0.8647, 0.9487, 0.8594, 0.887, 0.2456, 0.050...</td>\n",
       "      <td>[[0.8984, 0.9756, 0.98, 0.966, 0.9023, 0.9233,...</td>\n",
       "      <td>[[0.985, 0.9976, 0.995, 0.9863, 0.991, 0.7124,...</td>\n",
       "      <td>[[0.5127, 0.671, 0.6772, 0.729, 0.4365, 0.2107...</td>\n",
       "      <td>[[0.96, 0.9683, 0.9746, 0.949, 0.8516, 0.716, ...</td>\n",
       "      <td>[[0.8125, 0.6313, 0.6074, 0.619, 0.2313, 0.282...</td>\n",
       "      <td>[[0.6343, 0.714, 0.6826, 0.702, 0.477, 0.4604,...</td>\n",
       "      <td>[10000, 20000, 30000, 40000, 50000, 60000, 700...</td>\n",
       "      <td>[0.0, 1.0, 2.0, 3.0, 4.0, 5.0, 6.0, 7.0, 8.0, ...</td>\n",
       "    </tr>\n",
       "    <tr>\n",
       "      <th>1</th>\n",
       "      <td>2</td>\n",
       "      <td>20230612_101430_standard_comp_to_training_D1_s...</td>\n",
       "      <td>20230612_101430_standard_comp_to_training_D1_s...</td>\n",
       "      <td>[[980, 1180], [3376, 3575], [5672, 5871], [746...</td>\n",
       "      <td>[[490, 514], [518, 558], [558, 637], [638, 640...</td>\n",
       "      <td>[[33021, 33027], [33502, 33503], [33504, 33506...</td>\n",
       "      <td>20230612_101430_standard_comp_to_training_D1_s...</td>\n",
       "      <td>/scratch/back_up/reward_competition_extention/...</td>\n",
       "      <td>20230612_101430_standard_comp_to_training_D1_s...</td>\n",
       "      <td>1.4</td>\n",
       "      <td>...</td>\n",
       "      <td>[[0.372, 0.5474, 0.856, 0.553, 0.0804, 0.316, ...</td>\n",
       "      <td>[[0.993, 0.9385, 0.9673, 0.8193, 0.746, 0.736,...</td>\n",
       "      <td>[[0.997, 0.9976, 0.9917, 0.962, 0.9106, 0.816,...</td>\n",
       "      <td>[[0.01095, 0.2644, 0.2732, 0.2174, 0.141, 0.36...</td>\n",
       "      <td>[[0.08765, 0.8496, 0.1497, 0.4238, 0.4124, 0.2...</td>\n",
       "      <td>[[0.01811, 0.2402, 0.2756, 0.3364, 0.2107, 0.5...</td>\n",
       "      <td>[[0.05984, 0.8145, 0.1871, 0.592, 0.475, 0.332...</td>\n",
       "      <td>[[0.2944, 0.401, 0.797, 0.9, 0.3484, 0.509, 0....</td>\n",
       "      <td>[10000, 20000, 30000, 40000, 50000, 60000, 700...</td>\n",
       "      <td>[0.0, 1.0, 2.0, 3.0, 4.0, 5.0, 6.0, 7.0, 8.0, ...</td>\n",
       "    </tr>\n",
       "    <tr>\n",
       "      <th>2</th>\n",
       "      <td>2</td>\n",
       "      <td>20230612_112630_standard_comp_to_training_D1_s...</td>\n",
       "      <td>20230612_112630_standard_comp_to_training_D1_s...</td>\n",
       "      <td>[[1125, 1324], [3519, 3720], [5815, 6014], [76...</td>\n",
       "      <td>[[192, 248], [389, 405], [916, 929], [929, 948...</td>\n",
       "      <td>[[33019, 33020], [33246, 33251], [33253, 33255...</td>\n",
       "      <td>20230612_112630_standard_comp_to_training_D1_s...</td>\n",
       "      <td>/scratch/back_up/reward_competition_extention/...</td>\n",
       "      <td>20230612_112630_standard_comp_to_training_D1_s...</td>\n",
       "      <td>1.1</td>\n",
       "      <td>...</td>\n",
       "      <td>[[0.9824, 0.8765, 0.6265, 0.3909, 0.7974, 0.92...</td>\n",
       "      <td>[[0.2443, 0.3582, 0.3428, 0.03363, 0.3813, 0.6...</td>\n",
       "      <td>[[0.9985, 0.9927, 0.948, 0.857, 0.932, 0.9956,...</td>\n",
       "      <td>[[0.9907, 0.8687, 0.5107, 0.12445, 0.587, 0.89...</td>\n",
       "      <td>[[0.385, 0.3591, 0.3196, 0.02284, 0.256, 0.628...</td>\n",
       "      <td>[[0.9966, 0.8594, 0.672, 0.2869, 0.5376, 0.893...</td>\n",
       "      <td>[[0.3481, 0.3923, 0.3418, 0.01117, 0.2186, 0.6...</td>\n",
       "      <td>[[0.299, 0.10486, 0.0316, 0.01532, 0.0652, 0.4...</td>\n",
       "      <td>[10000, 20000, 30000, 40000, 50000, 60000, 700...</td>\n",
       "      <td>[0.0, 1.0, 2.0, 3.0, 4.0, 5.0, 6.0, 7.0, 8.0, ...</td>\n",
       "    </tr>\n",
       "    <tr>\n",
       "      <th>3</th>\n",
       "      <td>2</td>\n",
       "      <td>20230612_112630_standard_comp_to_training_D1_s...</td>\n",
       "      <td>20230612_112630_standard_comp_to_training_D1_s...</td>\n",
       "      <td>[[1125, 1324], [3519, 3720], [5815, 6014], [76...</td>\n",
       "      <td>[[192, 248], [389, 405], [916, 929], [929, 948...</td>\n",
       "      <td>[[33019, 33020], [33246, 33251], [33253, 33255...</td>\n",
       "      <td>20230612_112630_standard_comp_to_training_D1_s...</td>\n",
       "      <td>/scratch/back_up/reward_competition_extention/...</td>\n",
       "      <td>20230612_112630_standard_comp_to_training_D1_s...</td>\n",
       "      <td>1.2</td>\n",
       "      <td>...</td>\n",
       "      <td>[[0.8716, 0.9595, 0.9404, 0.851, 0.8643, 0.980...</td>\n",
       "      <td>[[0.941, 0.99, 0.971, 0.9087, 0.875, 0.451, 0....</td>\n",
       "      <td>[[0.9873, 0.995, 0.9937, 0.9907, 0.9575, 0.968...</td>\n",
       "      <td>[[0.9194, 0.984, 0.963, 0.921, 0.9043, 0.9663,...</td>\n",
       "      <td>[[0.9, 0.967, 0.942, 0.8306, 0.8354, 0.4514, 0...</td>\n",
       "      <td>[[0.969, 0.9937, 0.9824, 0.95, 0.952, 0.959, 0...</td>\n",
       "      <td>[[0.8223, 0.9497, 0.922, 0.774, 0.716, 0.39, 0...</td>\n",
       "      <td>[[0.673, 0.913, 0.849, 0.589, 0.606, 0.368, 0....</td>\n",
       "      <td>[10000, 20000, 30000, 40000, 50000, 60000, 700...</td>\n",
       "      <td>[0.0, 1.0, 2.0, 3.0, 4.0, 5.0, 6.0, 7.0, 8.0, ...</td>\n",
       "    </tr>\n",
       "    <tr>\n",
       "      <th>4</th>\n",
       "      <td>2</td>\n",
       "      <td>20230613_105657_standard_comp_to_training_D2_s...</td>\n",
       "      <td>20230613_105657_standard_comp_to_training_D2_s...</td>\n",
       "      <td>[[916, 1117], [3312, 3513], [5608, 5808], [740...</td>\n",
       "      <td>[[49, 67], [70, 79], [360, 366], [460, 469], [...</td>\n",
       "      <td>[[33601, 33798], [34108, 34165], [34166, 34179...</td>\n",
       "      <td>20230613_105657_standard_comp_to_training_D2_s...</td>\n",
       "      <td>/scratch/back_up/reward_competition_extention/...</td>\n",
       "      <td>20230613_105657_standard_comp_to_training_D2_s...</td>\n",
       "      <td>1.1</td>\n",
       "      <td>...</td>\n",
       "      <td>[[0.9834, 0.957, 0.9243, 0.7075, 0.8223, 0.732...</td>\n",
       "      <td>[[0.997, 0.9297, 0.865, 0.347, 0.2505, 0.07605...</td>\n",
       "      <td>[[0.991, 0.939, 0.9204, 0.9287, 0.974, 0.9683,...</td>\n",
       "      <td>[[0.9897, 0.927, 0.8896, 0.8286, 0.9478, 0.914...</td>\n",
       "      <td>[[0.9795, 0.9604, 0.7974, 0.3738, 0.2996, 0.10...</td>\n",
       "      <td>[[0.976, 0.924, 0.8677, 0.7266, 0.865, 0.804, ...</td>\n",
       "      <td>[[0.9443, 0.8794, 0.8037, 0.383, 0.291, 0.0377...</td>\n",
       "      <td>[[0.978, 0.9575, 0.739, 0.4067, 0.3777, 0.3394...</td>\n",
       "      <td>[10000, 20000, 30000, 40000, 50000, 60000, 700...</td>\n",
       "      <td>[0.0, 1.0, 2.0, 3.0, 4.0, 5.0, 6.0, 7.0, 8.0, ...</td>\n",
       "    </tr>\n",
       "  </tbody>\n",
       "</table>\n",
       "<p>5 rows × 43 columns</p>\n",
       "</div>"
      ],
      "text/plain": [
       "   cohort                                        session_dir  \\\n",
       "0       2  20230612_101430_standard_comp_to_training_D1_s...   \n",
       "1       2  20230612_101430_standard_comp_to_training_D1_s...   \n",
       "2       2  20230612_112630_standard_comp_to_training_D1_s...   \n",
       "3       2  20230612_112630_standard_comp_to_training_D1_s...   \n",
       "4       2  20230613_105657_standard_comp_to_training_D2_s...   \n",
       "\n",
       "                                       original_file  \\\n",
       "0  20230612_101430_standard_comp_to_training_D1_s...   \n",
       "1  20230612_101430_standard_comp_to_training_D1_s...   \n",
       "2  20230612_112630_standard_comp_to_training_D1_s...   \n",
       "3  20230612_112630_standard_comp_to_training_D1_s...   \n",
       "4  20230613_105657_standard_comp_to_training_D2_s...   \n",
       "\n",
       "                                         tone_frames  \\\n",
       "0  [[980, 1180], [3376, 3575], [5672, 5871], [746...   \n",
       "1  [[980, 1180], [3376, 3575], [5672, 5871], [746...   \n",
       "2  [[1125, 1324], [3519, 3720], [5815, 6014], [76...   \n",
       "3  [[1125, 1324], [3519, 3720], [5815, 6014], [76...   \n",
       "4  [[916, 1117], [3312, 3513], [5608, 5808], [740...   \n",
       "\n",
       "                             box_1_port_entry_frames  \\\n",
       "0  [[490, 514], [518, 558], [558, 637], [638, 640...   \n",
       "1  [[490, 514], [518, 558], [558, 637], [638, 640...   \n",
       "2  [[192, 248], [389, 405], [916, 929], [929, 948...   \n",
       "3  [[192, 248], [389, 405], [916, 929], [929, 948...   \n",
       "4  [[49, 67], [70, 79], [360, 366], [460, 469], [...   \n",
       "\n",
       "                             box_2_port_entry_frames  \\\n",
       "0  [[33021, 33027], [33502, 33503], [33504, 33506...   \n",
       "1  [[33021, 33027], [33502, 33503], [33504, 33506...   \n",
       "2  [[33019, 33020], [33246, 33251], [33253, 33255...   \n",
       "3  [[33019, 33020], [33246, 33251], [33253, 33255...   \n",
       "4  [[33601, 33798], [34108, 34165], [34166, 34179...   \n",
       "\n",
       "                                          video_name  \\\n",
       "0  20230612_101430_standard_comp_to_training_D1_s...   \n",
       "1  20230612_101430_standard_comp_to_training_D1_s...   \n",
       "2  20230612_112630_standard_comp_to_training_D1_s...   \n",
       "3  20230612_112630_standard_comp_to_training_D1_s...   \n",
       "4  20230613_105657_standard_comp_to_training_D2_s...   \n",
       "\n",
       "                                        session_path  \\\n",
       "0  /scratch/back_up/reward_competition_extention/...   \n",
       "1  /scratch/back_up/reward_competition_extention/...   \n",
       "2  /scratch/back_up/reward_competition_extention/...   \n",
       "3  /scratch/back_up/reward_competition_extention/...   \n",
       "4  /scratch/back_up/reward_competition_extention/...   \n",
       "\n",
       "                                           recording current_subject  ...  \\\n",
       "0  20230612_101430_standard_comp_to_training_D1_s...             1.3  ...   \n",
       "1  20230612_101430_standard_comp_to_training_D1_s...             1.4  ...   \n",
       "2  20230612_112630_standard_comp_to_training_D1_s...             1.1  ...   \n",
       "3  20230612_112630_standard_comp_to_training_D1_s...             1.2  ...   \n",
       "4  20230613_105657_standard_comp_to_training_D2_s...             1.1  ...   \n",
       "\n",
       "      BLA_mPFC_coherence_all_frequencies_all_windows  \\\n",
       "0  [[0.888, 0.745, 0.7627, 0.573, 0.5938, 0.253, ...   \n",
       "1  [[0.372, 0.5474, 0.856, 0.553, 0.0804, 0.316, ...   \n",
       "2  [[0.9824, 0.8765, 0.6265, 0.3909, 0.7974, 0.92...   \n",
       "3  [[0.8716, 0.9595, 0.9404, 0.851, 0.8643, 0.980...   \n",
       "4  [[0.9834, 0.957, 0.9243, 0.7075, 0.8223, 0.732...   \n",
       "\n",
       "      BLA_vHPC_coherence_all_frequencies_all_windows  \\\n",
       "0  [[0.8647, 0.9487, 0.8594, 0.887, 0.2456, 0.050...   \n",
       "1  [[0.993, 0.9385, 0.9673, 0.8193, 0.746, 0.736,...   \n",
       "2  [[0.2443, 0.3582, 0.3428, 0.03363, 0.3813, 0.6...   \n",
       "3  [[0.941, 0.99, 0.971, 0.9087, 0.875, 0.451, 0....   \n",
       "4  [[0.997, 0.9297, 0.865, 0.347, 0.2505, 0.07605...   \n",
       "\n",
       "         LH_MD_coherence_all_frequencies_all_windows  \\\n",
       "0  [[0.8984, 0.9756, 0.98, 0.966, 0.9023, 0.9233,...   \n",
       "1  [[0.997, 0.9976, 0.9917, 0.962, 0.9106, 0.816,...   \n",
       "2  [[0.9985, 0.9927, 0.948, 0.857, 0.932, 0.9956,...   \n",
       "3  [[0.9873, 0.995, 0.9937, 0.9907, 0.9575, 0.968...   \n",
       "4  [[0.991, 0.939, 0.9204, 0.9287, 0.974, 0.9683,...   \n",
       "\n",
       "       LH_mPFC_coherence_all_frequencies_all_windows  \\\n",
       "0  [[0.985, 0.9976, 0.995, 0.9863, 0.991, 0.7124,...   \n",
       "1  [[0.01095, 0.2644, 0.2732, 0.2174, 0.141, 0.36...   \n",
       "2  [[0.9907, 0.8687, 0.5107, 0.12445, 0.587, 0.89...   \n",
       "3  [[0.9194, 0.984, 0.963, 0.921, 0.9043, 0.9663,...   \n",
       "4  [[0.9897, 0.927, 0.8896, 0.8286, 0.9478, 0.914...   \n",
       "\n",
       "       LH_vHPC_coherence_all_frequencies_all_windows  \\\n",
       "0  [[0.5127, 0.671, 0.6772, 0.729, 0.4365, 0.2107...   \n",
       "1  [[0.08765, 0.8496, 0.1497, 0.4238, 0.4124, 0.2...   \n",
       "2  [[0.385, 0.3591, 0.3196, 0.02284, 0.256, 0.628...   \n",
       "3  [[0.9, 0.967, 0.942, 0.8306, 0.8354, 0.4514, 0...   \n",
       "4  [[0.9795, 0.9604, 0.7974, 0.3738, 0.2996, 0.10...   \n",
       "\n",
       "       MD_mPFC_coherence_all_frequencies_all_windows  \\\n",
       "0  [[0.96, 0.9683, 0.9746, 0.949, 0.8516, 0.716, ...   \n",
       "1  [[0.01811, 0.2402, 0.2756, 0.3364, 0.2107, 0.5...   \n",
       "2  [[0.9966, 0.8594, 0.672, 0.2869, 0.5376, 0.893...   \n",
       "3  [[0.969, 0.9937, 0.9824, 0.95, 0.952, 0.959, 0...   \n",
       "4  [[0.976, 0.924, 0.8677, 0.7266, 0.865, 0.804, ...   \n",
       "\n",
       "       MD_vHPC_coherence_all_frequencies_all_windows  \\\n",
       "0  [[0.8125, 0.6313, 0.6074, 0.619, 0.2313, 0.282...   \n",
       "1  [[0.05984, 0.8145, 0.1871, 0.592, 0.475, 0.332...   \n",
       "2  [[0.3481, 0.3923, 0.3418, 0.01117, 0.2186, 0.6...   \n",
       "3  [[0.8223, 0.9497, 0.922, 0.774, 0.716, 0.39, 0...   \n",
       "4  [[0.9443, 0.8794, 0.8037, 0.383, 0.291, 0.0377...   \n",
       "\n",
       "     mPFC_vHPC_coherence_all_frequencies_all_windows  \\\n",
       "0  [[0.6343, 0.714, 0.6826, 0.702, 0.477, 0.4604,...   \n",
       "1  [[0.2944, 0.401, 0.797, 0.9, 0.3484, 0.509, 0....   \n",
       "2  [[0.299, 0.10486, 0.0316, 0.01532, 0.0652, 0.4...   \n",
       "3  [[0.673, 0.913, 0.849, 0.589, 0.606, 0.368, 0....   \n",
       "4  [[0.978, 0.9575, 0.739, 0.4067, 0.3777, 0.3394...   \n",
       "\n",
       "                                coherence_timestamps  \\\n",
       "0  [10000, 20000, 30000, 40000, 50000, 60000, 700...   \n",
       "1  [10000, 20000, 30000, 40000, 50000, 60000, 700...   \n",
       "2  [10000, 20000, 30000, 40000, 50000, 60000, 700...   \n",
       "3  [10000, 20000, 30000, 40000, 50000, 60000, 700...   \n",
       "4  [10000, 20000, 30000, 40000, 50000, 60000, 700...   \n",
       "\n",
       "                   coherence_calculation_frequencies  \n",
       "0  [0.0, 1.0, 2.0, 3.0, 4.0, 5.0, 6.0, 7.0, 8.0, ...  \n",
       "1  [0.0, 1.0, 2.0, 3.0, 4.0, 5.0, 6.0, 7.0, 8.0, ...  \n",
       "2  [0.0, 1.0, 2.0, 3.0, 4.0, 5.0, 6.0, 7.0, 8.0, ...  \n",
       "3  [0.0, 1.0, 2.0, 3.0, 4.0, 5.0, 6.0, 7.0, 8.0, ...  \n",
       "4  [0.0, 1.0, 2.0, 3.0, 4.0, 5.0, 6.0, 7.0, 8.0, ...  \n",
       "\n",
       "[5 rows x 43 columns]"
      ]
     },
     "execution_count": 40,
     "metadata": {},
     "output_type": "execute_result"
    }
   ],
   "source": [
    "LFP_TRACES_DF.head()"
   ]
  },
  {
   "cell_type": "code",
   "execution_count": 41,
   "metadata": {
    "tags": []
   },
   "outputs": [],
   "source": [
    "LFP_TRACES_DF.to_pickle(\"./proc/rce2_spectral_coherence.pkl\")"
   ]
  },
  {
   "cell_type": "markdown",
   "metadata": {},
   "source": [
    "# Calculate Granger's"
   ]
  },
  {
   "cell_type": "code",
   "execution_count": 42,
   "metadata": {
    "tags": []
   },
   "outputs": [
    {
     "name": "stdout",
     "output_type": "stream",
     "text": [
      "BLA_LH\n"
     ]
    },
    {
     "name": "stderr",
     "output_type": "stream",
     "text": [
      "Maximum iterations reached. 6753 of 6828 converged\n",
      "Maximum iterations reached. 6814 of 6828 converged\n",
      "Maximum iterations reached. 6812 of 6833 converged\n",
      "Maximum iterations reached. 6831 of 6833 converged\n",
      "Maximum iterations reached. 6814 of 6840 converged\n",
      "Maximum iterations reached. 6837 of 6841 converged\n",
      "Maximum iterations reached. 6788 of 6804 converged\n",
      "Maximum iterations reached. 6376 of 6678 converged\n",
      "Maximum iterations reached. 6725 of 6746 converged\n",
      "Maximum iterations reached. 6743 of 6746 converged\n",
      "Maximum iterations reached. 7939 of 7968 converged\n",
      "Maximum iterations reached. 7959 of 7968 converged\n",
      "Maximum iterations reached. 6241 of 6559 converged\n",
      "Maximum iterations reached. 6709 of 6858 converged\n",
      "Maximum iterations reached. 3898 of 4117 converged\n",
      "Maximum iterations reached. 6787 of 6835 converged\n",
      "Maximum iterations reached. 6816 of 6835 converged\n",
      "Maximum iterations reached. 6978 of 6979 converged\n",
      "Maximum iterations reached. 6720 of 7034 converged\n",
      "Maximum iterations reached. 7183 of 7204 converged\n",
      "Maximum iterations reached. 7144 of 7175 converged\n",
      "Maximum iterations reached. 7159 of 7175 converged\n",
      "Maximum iterations reached. 7210 of 7241 converged\n",
      "Maximum iterations reached. 7232 of 7241 converged\n",
      "Maximum iterations reached. 6790 of 6831 converged\n",
      "Maximum iterations reached. 6815 of 6831 converged\n",
      "Maximum iterations reached. 6821 of 6842 converged\n",
      "Maximum iterations reached. 6838 of 6842 converged\n",
      "Maximum iterations reached. 6841 of 6855 converged\n",
      "Maximum iterations reached. 6853 of 6855 converged\n",
      "Maximum iterations reached. 6753 of 6828 converged\n",
      "Maximum iterations reached. 6814 of 6828 converged\n",
      "Maximum iterations reached. 6812 of 6833 converged\n",
      "Maximum iterations reached. 6831 of 6833 converged\n",
      "Maximum iterations reached. 6814 of 6840 converged\n",
      "Maximum iterations reached. 6837 of 6841 converged\n",
      "Maximum iterations reached. 6788 of 6804 converged\n",
      "Maximum iterations reached. 6376 of 6678 converged\n",
      "Maximum iterations reached. 6725 of 6746 converged\n",
      "Maximum iterations reached. 6743 of 6746 converged\n",
      "Maximum iterations reached. 7939 of 7968 converged\n",
      "Maximum iterations reached. 7959 of 7968 converged\n",
      "Maximum iterations reached. 6241 of 6559 converged\n",
      "Maximum iterations reached. 6709 of 6858 converged\n",
      "Maximum iterations reached. 3898 of 4117 converged\n",
      "Maximum iterations reached. 6787 of 6835 converged\n",
      "Maximum iterations reached. 6816 of 6835 converged\n",
      "Maximum iterations reached. 6978 of 6979 converged\n",
      "Maximum iterations reached. 6720 of 7034 converged\n",
      "Maximum iterations reached. 7183 of 7204 converged\n",
      "Maximum iterations reached. 7144 of 7175 converged\n",
      "Maximum iterations reached. 7159 of 7175 converged\n",
      "Maximum iterations reached. 7210 of 7241 converged\n",
      "Maximum iterations reached. 7232 of 7241 converged\n",
      "Maximum iterations reached. 6790 of 6831 converged\n",
      "Maximum iterations reached. 6815 of 6831 converged\n",
      "Maximum iterations reached. 6821 of 6842 converged\n",
      "Maximum iterations reached. 6838 of 6842 converged\n",
      "Maximum iterations reached. 6841 of 6855 converged\n",
      "Maximum iterations reached. 6853 of 6855 converged\n"
     ]
    },
    {
     "name": "stdout",
     "output_type": "stream",
     "text": [
      "BLA_MD\n"
     ]
    },
    {
     "name": "stderr",
     "output_type": "stream",
     "text": [
      "Maximum iterations reached. 6779 of 6828 converged\n",
      "Maximum iterations reached. 6819 of 6828 converged\n",
      "Maximum iterations reached. 6810 of 6833 converged\n",
      "Maximum iterations reached. 6828 of 6833 converged\n",
      "Maximum iterations reached. 6805 of 6840 converged\n",
      "Maximum iterations reached. 6836 of 6841 converged\n",
      "Maximum iterations reached. 6786 of 6804 converged\n",
      "Maximum iterations reached. 6381 of 6678 converged\n",
      "Maximum iterations reached. 6734 of 6746 converged\n",
      "Maximum iterations reached. 6742 of 6746 converged\n",
      "Maximum iterations reached. 7928 of 7968 converged\n",
      "Maximum iterations reached. 7947 of 7968 converged\n",
      "Maximum iterations reached. 6238 of 6559 converged\n",
      "Maximum iterations reached. 6709 of 6858 converged\n",
      "Maximum iterations reached. 3898 of 4117 converged\n",
      "Maximum iterations reached. 6780 of 6835 converged\n",
      "Maximum iterations reached. 6819 of 6835 converged\n",
      "Maximum iterations reached. 6976 of 6979 converged\n",
      "Maximum iterations reached. 6714 of 7034 converged\n",
      "Maximum iterations reached. 7182 of 7204 converged\n",
      "Maximum iterations reached. 7154 of 7175 converged\n",
      "Maximum iterations reached. 7158 of 7175 converged\n",
      "Maximum iterations reached. 7207 of 7241 converged\n",
      "Maximum iterations reached. 7227 of 7241 converged\n",
      "Maximum iterations reached. 6785 of 6831 converged\n",
      "Maximum iterations reached. 6817 of 6831 converged\n",
      "Maximum iterations reached. 6813 of 6842 converged\n",
      "Maximum iterations reached. 6838 of 6842 converged\n",
      "Maximum iterations reached. 6840 of 6855 converged\n",
      "Maximum iterations reached. 6852 of 6855 converged\n",
      "Maximum iterations reached. 6779 of 6828 converged\n",
      "Maximum iterations reached. 6819 of 6828 converged\n",
      "Maximum iterations reached. 6810 of 6833 converged\n",
      "Maximum iterations reached. 6828 of 6833 converged\n",
      "Maximum iterations reached. 6805 of 6840 converged\n",
      "Maximum iterations reached. 6836 of 6841 converged\n",
      "Maximum iterations reached. 6786 of 6804 converged\n",
      "Maximum iterations reached. 6381 of 6678 converged\n",
      "Maximum iterations reached. 6734 of 6746 converged\n",
      "Maximum iterations reached. 6742 of 6746 converged\n",
      "Maximum iterations reached. 7928 of 7968 converged\n",
      "Maximum iterations reached. 7947 of 7968 converged\n",
      "Maximum iterations reached. 6238 of 6559 converged\n",
      "Maximum iterations reached. 6709 of 6858 converged\n",
      "Maximum iterations reached. 3898 of 4117 converged\n",
      "Maximum iterations reached. 6780 of 6835 converged\n",
      "Maximum iterations reached. 6819 of 6835 converged\n",
      "Maximum iterations reached. 6976 of 6979 converged\n",
      "Maximum iterations reached. 6714 of 7034 converged\n",
      "Maximum iterations reached. 7182 of 7204 converged\n",
      "Maximum iterations reached. 7154 of 7175 converged\n",
      "Maximum iterations reached. 7158 of 7175 converged\n",
      "Maximum iterations reached. 7207 of 7241 converged\n",
      "Maximum iterations reached. 7227 of 7241 converged\n",
      "Maximum iterations reached. 6785 of 6831 converged\n",
      "Maximum iterations reached. 6817 of 6831 converged\n",
      "Maximum iterations reached. 6813 of 6842 converged\n",
      "Maximum iterations reached. 6838 of 6842 converged\n",
      "Maximum iterations reached. 6840 of 6855 converged\n",
      "Maximum iterations reached. 6852 of 6855 converged\n"
     ]
    },
    {
     "name": "stdout",
     "output_type": "stream",
     "text": [
      "BLA_mPFC\n"
     ]
    },
    {
     "name": "stderr",
     "output_type": "stream",
     "text": [
      "Maximum iterations reached. 6686 of 6828 converged\n",
      "Maximum iterations reached. 6832 of 6833 converged\n",
      "Maximum iterations reached. 6839 of 6840 converged\n",
      "Maximum iterations reached. 6802 of 6804 converged\n",
      "Maximum iterations reached. 6376 of 6678 converged\n",
      "Maximum iterations reached. 6733 of 6746 converged\n",
      "Maximum iterations reached. 7967 of 7968 converged\n",
      "Maximum iterations reached. 7964 of 7968 converged\n",
      "Maximum iterations reached. 6274 of 6559 converged\n",
      "Maximum iterations reached. 6709 of 6858 converged\n",
      "Maximum iterations reached. 3897 of 4117 converged\n",
      "Maximum iterations reached. 6825 of 6835 converged\n",
      "Maximum iterations reached. 6724 of 7034 converged\n",
      "Maximum iterations reached. 7184 of 7204 converged\n",
      "Maximum iterations reached. 7145 of 7175 converged\n",
      "Maximum iterations reached. 7172 of 7175 converged\n",
      "Maximum iterations reached. 7227 of 7241 converged\n",
      "Maximum iterations reached. 6827 of 6831 converged\n",
      "Maximum iterations reached. 6823 of 6831 converged\n",
      "Maximum iterations reached. 6837 of 6842 converged\n",
      "Maximum iterations reached. 6839 of 6842 converged\n",
      "Maximum iterations reached. 6850 of 6855 converged\n",
      "Maximum iterations reached. 6686 of 6828 converged\n",
      "Maximum iterations reached. 6832 of 6833 converged\n",
      "Maximum iterations reached. 6839 of 6840 converged\n",
      "Maximum iterations reached. 6802 of 6804 converged\n",
      "Maximum iterations reached. 6376 of 6678 converged\n",
      "Maximum iterations reached. 6733 of 6746 converged\n",
      "Maximum iterations reached. 7967 of 7968 converged\n",
      "Maximum iterations reached. 7964 of 7968 converged\n",
      "Maximum iterations reached. 6274 of 6559 converged\n",
      "Maximum iterations reached. 6709 of 6858 converged\n",
      "Maximum iterations reached. 3897 of 4117 converged\n",
      "Maximum iterations reached. 6825 of 6835 converged\n",
      "Maximum iterations reached. 6724 of 7034 converged\n",
      "Maximum iterations reached. 7184 of 7204 converged\n",
      "Maximum iterations reached. 7145 of 7175 converged\n",
      "Maximum iterations reached. 7172 of 7175 converged\n",
      "Maximum iterations reached. 7227 of 7241 converged\n",
      "Maximum iterations reached. 6827 of 6831 converged\n",
      "Maximum iterations reached. 6823 of 6831 converged\n",
      "Maximum iterations reached. 6837 of 6842 converged\n",
      "Maximum iterations reached. 6839 of 6842 converged\n",
      "Maximum iterations reached. 6850 of 6855 converged\n"
     ]
    },
    {
     "name": "stdout",
     "output_type": "stream",
     "text": [
      "BLA_vHPC\n"
     ]
    },
    {
     "name": "stderr",
     "output_type": "stream",
     "text": [
      "Maximum iterations reached. 6767 of 6828 converged\n",
      "Maximum iterations reached. 6827 of 6828 converged\n",
      "Maximum iterations reached. 6838 of 6841 converged\n",
      "Maximum iterations reached. 6389 of 6678 converged\n",
      "Maximum iterations reached. 6743 of 6746 converged\n",
      "Maximum iterations reached. 7967 of 7968 converged\n",
      "Maximum iterations reached. 7967 of 7968 converged\n",
      "Maximum iterations reached. 6275 of 6559 converged\n",
      "Maximum iterations reached. 6683 of 6858 converged\n",
      "Maximum iterations reached. 3899 of 4117 converged\n",
      "Maximum iterations reached. 6831 of 6835 converged\n",
      "Maximum iterations reached. 6735 of 7034 converged\n",
      "Maximum iterations reached. 7201 of 7204 converged\n",
      "Maximum iterations reached. 7168 of 7175 converged\n",
      "Maximum iterations reached. 7168 of 7175 converged\n",
      "Maximum iterations reached. 7238 of 7241 converged\n",
      "Maximum iterations reached. 7239 of 7241 converged\n",
      "Maximum iterations reached. 6825 of 6831 converged\n",
      "Maximum iterations reached. 6841 of 6842 converged\n",
      "Maximum iterations reached. 6839 of 6842 converged\n",
      "Maximum iterations reached. 6853 of 6855 converged\n",
      "Maximum iterations reached. 6767 of 6828 converged\n",
      "Maximum iterations reached. 6827 of 6828 converged\n",
      "Maximum iterations reached. 6838 of 6841 converged\n",
      "Maximum iterations reached. 6389 of 6678 converged\n",
      "Maximum iterations reached. 6743 of 6746 converged\n",
      "Maximum iterations reached. 7967 of 7968 converged\n",
      "Maximum iterations reached. 7967 of 7968 converged\n",
      "Maximum iterations reached. 6275 of 6559 converged\n",
      "Maximum iterations reached. 6683 of 6858 converged\n",
      "Maximum iterations reached. 3899 of 4117 converged\n",
      "Maximum iterations reached. 6831 of 6835 converged\n",
      "Maximum iterations reached. 6735 of 7034 converged\n",
      "Maximum iterations reached. 7201 of 7204 converged\n",
      "Maximum iterations reached. 7168 of 7175 converged\n",
      "Maximum iterations reached. 7168 of 7175 converged\n",
      "Maximum iterations reached. 7238 of 7241 converged\n",
      "Maximum iterations reached. 7239 of 7241 converged\n",
      "Maximum iterations reached. 6825 of 6831 converged\n",
      "Maximum iterations reached. 6841 of 6842 converged\n",
      "Maximum iterations reached. 6839 of 6842 converged\n",
      "Maximum iterations reached. 6853 of 6855 converged\n"
     ]
    },
    {
     "name": "stdout",
     "output_type": "stream",
     "text": [
      "LH_MD\n"
     ]
    },
    {
     "name": "stderr",
     "output_type": "stream",
     "text": [
      "Maximum iterations reached. 6742 of 6828 converged\n",
      "Maximum iterations reached. 6803 of 6828 converged\n",
      "Maximum iterations reached. 6795 of 6833 converged\n",
      "Maximum iterations reached. 6795 of 6833 converged\n",
      "Maximum iterations reached. 6801 of 6840 converged\n",
      "Maximum iterations reached. 6814 of 6841 converged\n",
      "Maximum iterations reached. 6775 of 6804 converged\n",
      "Maximum iterations reached. 6365 of 6678 converged\n",
      "Maximum iterations reached. 6713 of 6746 converged\n",
      "Maximum iterations reached. 6717 of 6746 converged\n",
      "Maximum iterations reached. 7925 of 7968 converged\n",
      "Maximum iterations reached. 7932 of 7968 converged\n",
      "Maximum iterations reached. 6250 of 6559 converged\n",
      "Maximum iterations reached. 6671 of 6858 converged\n",
      "Maximum iterations reached. 3880 of 4117 converged\n",
      "Maximum iterations reached. 6809 of 6835 converged\n",
      "Maximum iterations reached. 6792 of 6835 converged\n",
      "Maximum iterations reached. 6942 of 6979 converged\n",
      "Maximum iterations reached. 6714 of 7034 converged\n",
      "Maximum iterations reached. 7171 of 7204 converged\n",
      "Maximum iterations reached. 7132 of 7175 converged\n",
      "Maximum iterations reached. 7147 of 7175 converged\n",
      "Maximum iterations reached. 7196 of 7241 converged\n",
      "Maximum iterations reached. 7202 of 7241 converged\n",
      "Maximum iterations reached. 6802 of 6831 converged\n",
      "Maximum iterations reached. 6795 of 6831 converged\n",
      "Maximum iterations reached. 6803 of 6842 converged\n",
      "Maximum iterations reached. 6822 of 6842 converged\n",
      "Maximum iterations reached. 6811 of 6855 converged\n",
      "Maximum iterations reached. 6819 of 6855 converged\n",
      "Maximum iterations reached. 6742 of 6828 converged\n",
      "Maximum iterations reached. 6803 of 6828 converged\n",
      "Maximum iterations reached. 6795 of 6833 converged\n",
      "Maximum iterations reached. 6795 of 6833 converged\n",
      "Maximum iterations reached. 6801 of 6840 converged\n",
      "Maximum iterations reached. 6814 of 6841 converged\n",
      "Maximum iterations reached. 6775 of 6804 converged\n",
      "Maximum iterations reached. 6365 of 6678 converged\n",
      "Maximum iterations reached. 6713 of 6746 converged\n",
      "Maximum iterations reached. 6717 of 6746 converged\n",
      "Maximum iterations reached. 7925 of 7968 converged\n",
      "Maximum iterations reached. 7932 of 7968 converged\n",
      "Maximum iterations reached. 6250 of 6559 converged\n",
      "Maximum iterations reached. 6671 of 6858 converged\n",
      "Maximum iterations reached. 3880 of 4117 converged\n",
      "Maximum iterations reached. 6809 of 6835 converged\n",
      "Maximum iterations reached. 6792 of 6835 converged\n",
      "Maximum iterations reached. 6942 of 6979 converged\n",
      "Maximum iterations reached. 6714 of 7034 converged\n",
      "Maximum iterations reached. 7171 of 7204 converged\n",
      "Maximum iterations reached. 7132 of 7175 converged\n",
      "Maximum iterations reached. 7147 of 7175 converged\n",
      "Maximum iterations reached. 7196 of 7241 converged\n",
      "Maximum iterations reached. 7202 of 7241 converged\n",
      "Maximum iterations reached. 6802 of 6831 converged\n",
      "Maximum iterations reached. 6795 of 6831 converged\n",
      "Maximum iterations reached. 6803 of 6842 converged\n",
      "Maximum iterations reached. 6822 of 6842 converged\n",
      "Maximum iterations reached. 6811 of 6855 converged\n",
      "Maximum iterations reached. 6819 of 6855 converged\n"
     ]
    },
    {
     "name": "stdout",
     "output_type": "stream",
     "text": [
      "LH_mPFC\n"
     ]
    },
    {
     "name": "stderr",
     "output_type": "stream",
     "text": [
      "Maximum iterations reached. 6674 of 6828 converged\n",
      "Maximum iterations reached. 6827 of 6828 converged\n",
      "Maximum iterations reached. 6824 of 6833 converged\n",
      "Maximum iterations reached. 6824 of 6833 converged\n",
      "Maximum iterations reached. 6833 of 6840 converged\n",
      "Maximum iterations reached. 6800 of 6804 converged\n",
      "Maximum iterations reached. 6372 of 6678 converged\n",
      "Maximum iterations reached. 6738 of 6746 converged\n",
      "Maximum iterations reached. 7960 of 7968 converged\n",
      "Maximum iterations reached. 7959 of 7968 converged\n",
      "Maximum iterations reached. 6260 of 6559 converged\n",
      "Maximum iterations reached. 6707 of 6858 converged\n",
      "Maximum iterations reached. 3897 of 4117 converged\n",
      "Maximum iterations reached. 6823 of 6835 converged\n",
      "Maximum iterations reached. 6827 of 6835 converged\n",
      "Maximum iterations reached. 6728 of 7034 converged\n",
      "Maximum iterations reached. 7186 of 7204 converged\n",
      "Maximum iterations reached. 7156 of 7175 converged\n",
      "Maximum iterations reached. 7174 of 7175 converged\n",
      "Maximum iterations reached. 7233 of 7241 converged\n",
      "Maximum iterations reached. 7237 of 7241 converged\n",
      "Maximum iterations reached. 6826 of 6831 converged\n",
      "Maximum iterations reached. 6824 of 6831 converged\n",
      "Maximum iterations reached. 6839 of 6842 converged\n",
      "Maximum iterations reached. 6840 of 6842 converged\n",
      "Maximum iterations reached. 6840 of 6855 converged\n",
      "Maximum iterations reached. 6854 of 6855 converged\n",
      "Maximum iterations reached. 6674 of 6828 converged\n",
      "Maximum iterations reached. 6827 of 6828 converged\n",
      "Maximum iterations reached. 6824 of 6833 converged\n",
      "Maximum iterations reached. 6824 of 6833 converged\n",
      "Maximum iterations reached. 6833 of 6840 converged\n",
      "Maximum iterations reached. 6800 of 6804 converged\n",
      "Maximum iterations reached. 6372 of 6678 converged\n",
      "Maximum iterations reached. 6738 of 6746 converged\n",
      "Maximum iterations reached. 7960 of 7968 converged\n",
      "Maximum iterations reached. 7959 of 7968 converged\n",
      "Maximum iterations reached. 6260 of 6559 converged\n",
      "Maximum iterations reached. 6707 of 6858 converged\n",
      "Maximum iterations reached. 3897 of 4117 converged\n",
      "Maximum iterations reached. 6823 of 6835 converged\n",
      "Maximum iterations reached. 6827 of 6835 converged\n",
      "Maximum iterations reached. 6728 of 7034 converged\n",
      "Maximum iterations reached. 7186 of 7204 converged\n",
      "Maximum iterations reached. 7156 of 7175 converged\n",
      "Maximum iterations reached. 7174 of 7175 converged\n",
      "Maximum iterations reached. 7233 of 7241 converged\n",
      "Maximum iterations reached. 7237 of 7241 converged\n",
      "Maximum iterations reached. 6826 of 6831 converged\n",
      "Maximum iterations reached. 6824 of 6831 converged\n",
      "Maximum iterations reached. 6839 of 6842 converged\n",
      "Maximum iterations reached. 6840 of 6842 converged\n",
      "Maximum iterations reached. 6840 of 6855 converged\n",
      "Maximum iterations reached. 6854 of 6855 converged\n"
     ]
    },
    {
     "name": "stdout",
     "output_type": "stream",
     "text": [
      "LH_vHPC\n"
     ]
    },
    {
     "name": "stderr",
     "output_type": "stream",
     "text": [
      "Maximum iterations reached. 6769 of 6828 converged\n",
      "Maximum iterations reached. 6821 of 6828 converged\n",
      "Maximum iterations reached. 6840 of 6841 converged\n",
      "Maximum iterations reached. 6803 of 6804 converged\n",
      "Maximum iterations reached. 6384 of 6678 converged\n",
      "Maximum iterations reached. 6743 of 6746 converged\n",
      "Maximum iterations reached. 6744 of 6746 converged\n",
      "Maximum iterations reached. 7967 of 7968 converged\n",
      "Maximum iterations reached. 7967 of 7968 converged\n",
      "Maximum iterations reached. 6273 of 6559 converged\n",
      "Maximum iterations reached. 6651 of 6858 converged\n",
      "Maximum iterations reached. 3900 of 4117 converged\n",
      "Maximum iterations reached. 6834 of 6835 converged\n",
      "Maximum iterations reached. 6831 of 6835 converged\n",
      "Maximum iterations reached. 6736 of 7034 converged\n",
      "Maximum iterations reached. 7195 of 7204 converged\n",
      "Maximum iterations reached. 7163 of 7175 converged\n",
      "Maximum iterations reached. 7172 of 7175 converged\n",
      "Maximum iterations reached. 7236 of 7241 converged\n",
      "Maximum iterations reached. 7240 of 7241 converged\n",
      "Maximum iterations reached. 6824 of 6831 converged\n",
      "Maximum iterations reached. 6841 of 6842 converged\n",
      "Maximum iterations reached. 6839 of 6842 converged\n",
      "Maximum iterations reached. 6853 of 6855 converged\n",
      "Maximum iterations reached. 6769 of 6828 converged\n",
      "Maximum iterations reached. 6821 of 6828 converged\n",
      "Maximum iterations reached. 6840 of 6841 converged\n",
      "Maximum iterations reached. 6803 of 6804 converged\n",
      "Maximum iterations reached. 6384 of 6678 converged\n",
      "Maximum iterations reached. 6743 of 6746 converged\n",
      "Maximum iterations reached. 6744 of 6746 converged\n",
      "Maximum iterations reached. 7967 of 7968 converged\n",
      "Maximum iterations reached. 7967 of 7968 converged\n",
      "Maximum iterations reached. 6273 of 6559 converged\n",
      "Maximum iterations reached. 6651 of 6858 converged\n",
      "Maximum iterations reached. 3900 of 4117 converged\n",
      "Maximum iterations reached. 6834 of 6835 converged\n",
      "Maximum iterations reached. 6831 of 6835 converged\n",
      "Maximum iterations reached. 6736 of 7034 converged\n",
      "Maximum iterations reached. 7195 of 7204 converged\n",
      "Maximum iterations reached. 7163 of 7175 converged\n",
      "Maximum iterations reached. 7172 of 7175 converged\n",
      "Maximum iterations reached. 7236 of 7241 converged\n",
      "Maximum iterations reached. 7240 of 7241 converged\n",
      "Maximum iterations reached. 6824 of 6831 converged\n",
      "Maximum iterations reached. 6841 of 6842 converged\n",
      "Maximum iterations reached. 6839 of 6842 converged\n",
      "Maximum iterations reached. 6853 of 6855 converged\n"
     ]
    },
    {
     "name": "stdout",
     "output_type": "stream",
     "text": [
      "MD_mPFC\n"
     ]
    },
    {
     "name": "stderr",
     "output_type": "stream",
     "text": [
      "Maximum iterations reached. 6689 of 6828 converged\n",
      "Maximum iterations reached. 6827 of 6828 converged\n",
      "Maximum iterations reached. 6824 of 6833 converged\n",
      "Maximum iterations reached. 6828 of 6833 converged\n",
      "Maximum iterations reached. 6829 of 6840 converged\n",
      "Maximum iterations reached. 6797 of 6804 converged\n",
      "Maximum iterations reached. 6366 of 6678 converged\n",
      "Maximum iterations reached. 6734 of 6746 converged\n",
      "Maximum iterations reached. 7957 of 7968 converged\n",
      "Maximum iterations reached. 7955 of 7968 converged\n",
      "Maximum iterations reached. 6253 of 6559 converged\n",
      "Maximum iterations reached. 6707 of 6858 converged\n",
      "Maximum iterations reached. 3897 of 4117 converged\n",
      "Maximum iterations reached. 6818 of 6835 converged\n",
      "Maximum iterations reached. 6826 of 6835 converged\n",
      "Maximum iterations reached. 6729 of 7034 converged\n",
      "Maximum iterations reached. 7187 of 7204 converged\n",
      "Maximum iterations reached. 7149 of 7175 converged\n",
      "Maximum iterations reached. 7174 of 7175 converged\n",
      "Maximum iterations reached. 7220 of 7241 converged\n",
      "Maximum iterations reached. 7237 of 7241 converged\n",
      "Maximum iterations reached. 6821 of 6831 converged\n",
      "Maximum iterations reached. 6819 of 6831 converged\n",
      "Maximum iterations reached. 6835 of 6842 converged\n",
      "Maximum iterations reached. 6839 of 6842 converged\n",
      "Maximum iterations reached. 6847 of 6855 converged\n",
      "Maximum iterations reached. 6853 of 6855 converged\n",
      "Maximum iterations reached. 6689 of 6828 converged\n",
      "Maximum iterations reached. 6827 of 6828 converged\n",
      "Maximum iterations reached. 6824 of 6833 converged\n",
      "Maximum iterations reached. 6828 of 6833 converged\n",
      "Maximum iterations reached. 6829 of 6840 converged\n",
      "Maximum iterations reached. 6797 of 6804 converged\n",
      "Maximum iterations reached. 6366 of 6678 converged\n",
      "Maximum iterations reached. 6734 of 6746 converged\n",
      "Maximum iterations reached. 7957 of 7968 converged\n",
      "Maximum iterations reached. 7955 of 7968 converged\n",
      "Maximum iterations reached. 6253 of 6559 converged\n",
      "Maximum iterations reached. 6707 of 6858 converged\n",
      "Maximum iterations reached. 3897 of 4117 converged\n",
      "Maximum iterations reached. 6818 of 6835 converged\n",
      "Maximum iterations reached. 6826 of 6835 converged\n",
      "Maximum iterations reached. 6729 of 7034 converged\n",
      "Maximum iterations reached. 7187 of 7204 converged\n",
      "Maximum iterations reached. 7149 of 7175 converged\n",
      "Maximum iterations reached. 7174 of 7175 converged\n",
      "Maximum iterations reached. 7220 of 7241 converged\n",
      "Maximum iterations reached. 7237 of 7241 converged\n",
      "Maximum iterations reached. 6821 of 6831 converged\n",
      "Maximum iterations reached. 6819 of 6831 converged\n",
      "Maximum iterations reached. 6835 of 6842 converged\n",
      "Maximum iterations reached. 6839 of 6842 converged\n",
      "Maximum iterations reached. 6847 of 6855 converged\n",
      "Maximum iterations reached. 6853 of 6855 converged\n"
     ]
    },
    {
     "name": "stdout",
     "output_type": "stream",
     "text": [
      "MD_vHPC\n"
     ]
    },
    {
     "name": "stderr",
     "output_type": "stream",
     "text": [
      "Maximum iterations reached. 6751 of 6828 converged\n",
      "Maximum iterations reached. 6820 of 6828 converged\n",
      "Maximum iterations reached. 6832 of 6833 converged\n",
      "Maximum iterations reached. 6840 of 6841 converged\n",
      "Maximum iterations reached. 6389 of 6678 converged\n",
      "Maximum iterations reached. 6744 of 6746 converged\n",
      "Maximum iterations reached. 6743 of 6746 converged\n",
      "Maximum iterations reached. 6274 of 6559 converged\n",
      "Maximum iterations reached. 6661 of 6858 converged\n",
      "Maximum iterations reached. 3899 of 4117 converged\n",
      "Maximum iterations reached. 6834 of 6835 converged\n",
      "Maximum iterations reached. 6832 of 6835 converged\n",
      "Maximum iterations reached. 6732 of 7034 converged\n",
      "Maximum iterations reached. 7200 of 7204 converged\n",
      "Maximum iterations reached. 7166 of 7175 converged\n",
      "Maximum iterations reached. 7170 of 7175 converged\n",
      "Maximum iterations reached. 7234 of 7241 converged\n",
      "Maximum iterations reached. 6830 of 6831 converged\n",
      "Maximum iterations reached. 6828 of 6831 converged\n",
      "Maximum iterations reached. 6838 of 6842 converged\n",
      "Maximum iterations reached. 6839 of 6842 converged\n",
      "Maximum iterations reached. 6854 of 6855 converged\n",
      "Maximum iterations reached. 6751 of 6828 converged\n",
      "Maximum iterations reached. 6820 of 6828 converged\n",
      "Maximum iterations reached. 6832 of 6833 converged\n",
      "Maximum iterations reached. 6840 of 6841 converged\n",
      "Maximum iterations reached. 6389 of 6678 converged\n",
      "Maximum iterations reached. 6744 of 6746 converged\n",
      "Maximum iterations reached. 6743 of 6746 converged\n",
      "Maximum iterations reached. 6274 of 6559 converged\n",
      "Maximum iterations reached. 6661 of 6858 converged\n",
      "Maximum iterations reached. 3899 of 4117 converged\n",
      "Maximum iterations reached. 6834 of 6835 converged\n",
      "Maximum iterations reached. 6832 of 6835 converged\n",
      "Maximum iterations reached. 6732 of 7034 converged\n",
      "Maximum iterations reached. 7200 of 7204 converged\n",
      "Maximum iterations reached. 7166 of 7175 converged\n",
      "Maximum iterations reached. 7170 of 7175 converged\n",
      "Maximum iterations reached. 7234 of 7241 converged\n",
      "Maximum iterations reached. 6830 of 6831 converged\n",
      "Maximum iterations reached. 6828 of 6831 converged\n",
      "Maximum iterations reached. 6838 of 6842 converged\n",
      "Maximum iterations reached. 6839 of 6842 converged\n",
      "Maximum iterations reached. 6854 of 6855 converged\n"
     ]
    },
    {
     "name": "stdout",
     "output_type": "stream",
     "text": [
      "mPFC_vHPC\n"
     ]
    },
    {
     "name": "stderr",
     "output_type": "stream",
     "text": [
      "Maximum iterations reached. 6723 of 6828 converged\n",
      "Maximum iterations reached. 6831 of 6833 converged\n",
      "Maximum iterations reached. 6839 of 6840 converged\n",
      "Maximum iterations reached. 6389 of 6678 converged\n",
      "Maximum iterations reached. 6745 of 6746 converged\n",
      "Maximum iterations reached. 7967 of 7968 converged\n",
      "Maximum iterations reached. 7965 of 7968 converged\n",
      "Maximum iterations reached. 6274 of 6559 converged\n",
      "Maximum iterations reached. 6691 of 6858 converged\n",
      "Maximum iterations reached. 3897 of 4117 converged\n",
      "Maximum iterations reached. 6833 of 6835 converged\n",
      "Maximum iterations reached. 6732 of 7034 converged\n",
      "Maximum iterations reached. 7200 of 7204 converged\n",
      "Maximum iterations reached. 7163 of 7175 converged\n",
      "Maximum iterations reached. 7174 of 7175 converged\n",
      "Maximum iterations reached. 7239 of 7241 converged\n",
      "Maximum iterations reached. 6826 of 6831 converged\n",
      "Maximum iterations reached. 6839 of 6842 converged\n",
      "Maximum iterations reached. 6840 of 6842 converged\n",
      "Maximum iterations reached. 6854 of 6855 converged\n",
      "Maximum iterations reached. 6723 of 6828 converged\n",
      "Maximum iterations reached. 6831 of 6833 converged\n",
      "Maximum iterations reached. 6839 of 6840 converged\n",
      "Maximum iterations reached. 6389 of 6678 converged\n",
      "Maximum iterations reached. 6745 of 6746 converged\n",
      "Maximum iterations reached. 7967 of 7968 converged\n",
      "Maximum iterations reached. 7965 of 7968 converged\n",
      "Maximum iterations reached. 6274 of 6559 converged\n",
      "Maximum iterations reached. 6691 of 6858 converged\n",
      "Maximum iterations reached. 3897 of 4117 converged\n",
      "Maximum iterations reached. 6833 of 6835 converged\n",
      "Maximum iterations reached. 6732 of 7034 converged\n",
      "Maximum iterations reached. 7200 of 7204 converged\n",
      "Maximum iterations reached. 7163 of 7175 converged\n",
      "Maximum iterations reached. 7174 of 7175 converged\n",
      "Maximum iterations reached. 7239 of 7241 converged\n",
      "Maximum iterations reached. 6826 of 6831 converged\n",
      "Maximum iterations reached. 6839 of 6842 converged\n",
      "Maximum iterations reached. 6840 of 6842 converged\n",
      "Maximum iterations reached. 6854 of 6855 converged\n"
     ]
    }
   ],
   "source": [
    "for region_1, region_2 in brain_region_pairs:\n",
    "    # Define base name for pair\n",
    "    region_1_base_name = region_1.split('_')[0]\n",
    "    region_2_base_name = region_2.split('_')[0]\n",
    "\n",
    "    pair_base_name = f\"{region_1_base_name}_{region_2_base_name}\"\n",
    "    print(pair_base_name)\n",
    "\n",
    "    try:\n",
    "        # Define column names\n",
    "        multitaper_col = f\"{pair_base_name}_granger_multitaper\"\n",
    "        connectivity_col = f\"{pair_base_name}_granger_connectivity\"\n",
    "        frequencies_col = f\"{pair_base_name}_granger_frequencies\"\n",
    "        granger_1_2_col = f\"{region_1_base_name}_{region_2_base_name}_granger_all_frequencies_all_windows\"\n",
    "        granger_2_1_col = f\"{region_2_base_name}_{region_1_base_name}_granger_all_frequencies_all_windows\"\n",
    "\n",
    "        # Apply Multitaper function\n",
    "        LFP_TRACES_DF[multitaper_col] = LFP_TRACES_DF.apply(\n",
    "            lambda x: Multitaper(\n",
    "                time_series=np.array([x[region_1], x[region_2]]).T, \n",
    "                sampling_frequency=RESAMPLE_RATE, \n",
    "                time_halfbandwidth_product=TIME_HALFBANDWIDTH_PRODUCT, \n",
    "                time_window_step=TIME_WINDOW_STEP, \n",
    "                time_window_duration=TIME_WINDOW_DURATION\n",
    "            ), \n",
    "            axis=1\n",
    "        )\n",
    "    \n",
    "        # Apply Connectivity function\n",
    "        LFP_TRACES_DF[connectivity_col] = LFP_TRACES_DF[multitaper_col].apply(\n",
    "            lambda x: Connectivity.from_multitaper(x)\n",
    "        )\n",
    "\n",
    "        # Apply frequencies and granger functions\n",
    "        LFP_TRACES_DF[frequencies_col] = LFP_TRACES_DF[connectivity_col].apply(\n",
    "            lambda x: x.frequencies\n",
    "        )\n",
    "        \n",
    "        LFP_TRACES_DF[granger_1_2_col] = LFP_TRACES_DF[connectivity_col].apply(\n",
    "            lambda x: x.pairwise_spectral_granger_prediction()[:,:,0,1]\n",
    "        )\n",
    "\n",
    "        LFP_TRACES_DF[granger_2_1_col] = LFP_TRACES_DF[connectivity_col].apply(\n",
    "            lambda x: x.pairwise_spectral_granger_prediction()[:,:,1,0]\n",
    "        )\n",
    "\n",
    "        LFP_TRACES_DF[granger_1_2_col] = LFP_TRACES_DF[granger_1_2_col].apply(lambda x: x.astype(np.float16))\n",
    "        LFP_TRACES_DF[granger_2_1_col] = LFP_TRACES_DF[granger_2_1_col].apply(lambda x: x.astype(np.float16))\n",
    "        \n",
    "    except Exception as e: \n",
    "        print(e)\n",
    "\n",
    "    # Drop temporary columns\n",
    "    LFP_TRACES_DF = LFP_TRACES_DF.drop(columns=[multitaper_col, connectivity_col], errors=\"ignore\")"
   ]
  },
  {
   "cell_type": "code",
   "execution_count": null,
   "metadata": {},
   "outputs": [],
   "source": []
  },
  {
   "cell_type": "markdown",
   "metadata": {},
   "source": [
    "- Getting the timestamps of the granger"
   ]
  },
  {
   "cell_type": "code",
   "execution_count": 43,
   "metadata": {
    "tags": []
   },
   "outputs": [],
   "source": [
    "LFP_TRACES_DF[\"granger_timestamps\"] = LFP_TRACES_DF[\"lfp_timestamps\"].apply(lambda x: x[(RESAMPLE_RATE//2):(-RESAMPLE_RATE//2):(RESAMPLE_RATE//2)])\n"
   ]
  },
  {
   "cell_type": "markdown",
   "metadata": {},
   "source": [
    "- Making sure that the timestamps for granger makes sense with shape and values"
   ]
  },
  {
   "cell_type": "code",
   "execution_count": 44,
   "metadata": {
    "tags": []
   },
   "outputs": [
    {
     "data": {
      "text/plain": [
       "0    (6828,)\n",
       "1    (6828,)\n",
       "2    (6833,)\n",
       "3    (6833,)\n",
       "4    (6840,)\n",
       "Name: granger_timestamps, dtype: object"
      ]
     },
     "execution_count": 44,
     "metadata": {},
     "output_type": "execute_result"
    }
   ],
   "source": [
    "LFP_TRACES_DF[\"granger_timestamps\"].head().apply(lambda x: x.shape)"
   ]
  },
  {
   "cell_type": "code",
   "execution_count": 45,
   "metadata": {
    "tags": []
   },
   "outputs": [
    {
     "data": {
      "text/plain": [
       "(6828, 500)"
      ]
     },
     "execution_count": 45,
     "metadata": {},
     "output_type": "execute_result"
    }
   ],
   "source": [
    "LFP_TRACES_DF[[col for col in LFP_TRACES_DF.columns if \"granger_all_frequencies_all_windows\" in col][0]].iloc[0].shape"
   ]
  },
  {
   "cell_type": "code",
   "execution_count": 46,
   "metadata": {
    "tags": []
   },
   "outputs": [
    {
     "data": {
      "text/plain": [
       "array([       0,       20,       40, ..., 68293300, 68293320, 68293340],\n",
       "      dtype=int32)"
      ]
     },
     "execution_count": 46,
     "metadata": {},
     "output_type": "execute_result"
    }
   ],
   "source": [
    "LFP_TRACES_DF[[col for col in LFP_TRACES_DF.columns if \"lfp_timestamps\" in col][0]].iloc[0]"
   ]
  },
  {
   "cell_type": "code",
   "execution_count": 47,
   "metadata": {
    "tags": []
   },
   "outputs": [
    {
     "data": {
      "text/plain": [
       "array([   10000,    20000,    30000, ..., 68260000, 68270000, 68280000],\n",
       "      dtype=int32)"
      ]
     },
     "execution_count": 47,
     "metadata": {},
     "output_type": "execute_result"
    }
   ],
   "source": [
    "LFP_TRACES_DF[[col for col in LFP_TRACES_DF.columns if \"granger_timestamps\" in col][0]].iloc[0]"
   ]
  },
  {
   "cell_type": "markdown",
   "metadata": {},
   "source": [
    "- Checking if the right frequencies are being used"
   ]
  },
  {
   "cell_type": "code",
   "execution_count": 48,
   "metadata": {
    "tags": []
   },
   "outputs": [
    {
     "data": {
      "text/html": [
       "<div>\n",
       "<style scoped>\n",
       "    .dataframe tbody tr th:only-of-type {\n",
       "        vertical-align: middle;\n",
       "    }\n",
       "\n",
       "    .dataframe tbody tr th {\n",
       "        vertical-align: top;\n",
       "    }\n",
       "\n",
       "    .dataframe thead th {\n",
       "        text-align: right;\n",
       "    }\n",
       "</style>\n",
       "<table border=\"1\" class=\"dataframe\">\n",
       "  <thead>\n",
       "    <tr style=\"text-align: right;\">\n",
       "      <th></th>\n",
       "      <th>BLA_LH_granger_frequencies</th>\n",
       "      <th>BLA_MD_granger_frequencies</th>\n",
       "      <th>BLA_mPFC_granger_frequencies</th>\n",
       "      <th>BLA_vHPC_granger_frequencies</th>\n",
       "      <th>LH_MD_granger_frequencies</th>\n",
       "      <th>LH_mPFC_granger_frequencies</th>\n",
       "      <th>LH_vHPC_granger_frequencies</th>\n",
       "      <th>MD_mPFC_granger_frequencies</th>\n",
       "      <th>MD_vHPC_granger_frequencies</th>\n",
       "      <th>mPFC_vHPC_granger_frequencies</th>\n",
       "    </tr>\n",
       "  </thead>\n",
       "  <tbody>\n",
       "    <tr>\n",
       "      <th>0</th>\n",
       "      <td>[0.0, 1.0, 2.0, 3.0, 4.0, 5.0, 6.0, 7.0, 8.0, ...</td>\n",
       "      <td>[0.0, 1.0, 2.0, 3.0, 4.0, 5.0, 6.0, 7.0, 8.0, ...</td>\n",
       "      <td>[0.0, 1.0, 2.0, 3.0, 4.0, 5.0, 6.0, 7.0, 8.0, ...</td>\n",
       "      <td>[0.0, 1.0, 2.0, 3.0, 4.0, 5.0, 6.0, 7.0, 8.0, ...</td>\n",
       "      <td>[0.0, 1.0, 2.0, 3.0, 4.0, 5.0, 6.0, 7.0, 8.0, ...</td>\n",
       "      <td>[0.0, 1.0, 2.0, 3.0, 4.0, 5.0, 6.0, 7.0, 8.0, ...</td>\n",
       "      <td>[0.0, 1.0, 2.0, 3.0, 4.0, 5.0, 6.0, 7.0, 8.0, ...</td>\n",
       "      <td>[0.0, 1.0, 2.0, 3.0, 4.0, 5.0, 6.0, 7.0, 8.0, ...</td>\n",
       "      <td>[0.0, 1.0, 2.0, 3.0, 4.0, 5.0, 6.0, 7.0, 8.0, ...</td>\n",
       "      <td>[0.0, 1.0, 2.0, 3.0, 4.0, 5.0, 6.0, 7.0, 8.0, ...</td>\n",
       "    </tr>\n",
       "    <tr>\n",
       "      <th>1</th>\n",
       "      <td>[0.0, 1.0, 2.0, 3.0, 4.0, 5.0, 6.0, 7.0, 8.0, ...</td>\n",
       "      <td>[0.0, 1.0, 2.0, 3.0, 4.0, 5.0, 6.0, 7.0, 8.0, ...</td>\n",
       "      <td>[0.0, 1.0, 2.0, 3.0, 4.0, 5.0, 6.0, 7.0, 8.0, ...</td>\n",
       "      <td>[0.0, 1.0, 2.0, 3.0, 4.0, 5.0, 6.0, 7.0, 8.0, ...</td>\n",
       "      <td>[0.0, 1.0, 2.0, 3.0, 4.0, 5.0, 6.0, 7.0, 8.0, ...</td>\n",
       "      <td>[0.0, 1.0, 2.0, 3.0, 4.0, 5.0, 6.0, 7.0, 8.0, ...</td>\n",
       "      <td>[0.0, 1.0, 2.0, 3.0, 4.0, 5.0, 6.0, 7.0, 8.0, ...</td>\n",
       "      <td>[0.0, 1.0, 2.0, 3.0, 4.0, 5.0, 6.0, 7.0, 8.0, ...</td>\n",
       "      <td>[0.0, 1.0, 2.0, 3.0, 4.0, 5.0, 6.0, 7.0, 8.0, ...</td>\n",
       "      <td>[0.0, 1.0, 2.0, 3.0, 4.0, 5.0, 6.0, 7.0, 8.0, ...</td>\n",
       "    </tr>\n",
       "    <tr>\n",
       "      <th>2</th>\n",
       "      <td>[0.0, 1.0, 2.0, 3.0, 4.0, 5.0, 6.0, 7.0, 8.0, ...</td>\n",
       "      <td>[0.0, 1.0, 2.0, 3.0, 4.0, 5.0, 6.0, 7.0, 8.0, ...</td>\n",
       "      <td>[0.0, 1.0, 2.0, 3.0, 4.0, 5.0, 6.0, 7.0, 8.0, ...</td>\n",
       "      <td>[0.0, 1.0, 2.0, 3.0, 4.0, 5.0, 6.0, 7.0, 8.0, ...</td>\n",
       "      <td>[0.0, 1.0, 2.0, 3.0, 4.0, 5.0, 6.0, 7.0, 8.0, ...</td>\n",
       "      <td>[0.0, 1.0, 2.0, 3.0, 4.0, 5.0, 6.0, 7.0, 8.0, ...</td>\n",
       "      <td>[0.0, 1.0, 2.0, 3.0, 4.0, 5.0, 6.0, 7.0, 8.0, ...</td>\n",
       "      <td>[0.0, 1.0, 2.0, 3.0, 4.0, 5.0, 6.0, 7.0, 8.0, ...</td>\n",
       "      <td>[0.0, 1.0, 2.0, 3.0, 4.0, 5.0, 6.0, 7.0, 8.0, ...</td>\n",
       "      <td>[0.0, 1.0, 2.0, 3.0, 4.0, 5.0, 6.0, 7.0, 8.0, ...</td>\n",
       "    </tr>\n",
       "    <tr>\n",
       "      <th>3</th>\n",
       "      <td>[0.0, 1.0, 2.0, 3.0, 4.0, 5.0, 6.0, 7.0, 8.0, ...</td>\n",
       "      <td>[0.0, 1.0, 2.0, 3.0, 4.0, 5.0, 6.0, 7.0, 8.0, ...</td>\n",
       "      <td>[0.0, 1.0, 2.0, 3.0, 4.0, 5.0, 6.0, 7.0, 8.0, ...</td>\n",
       "      <td>[0.0, 1.0, 2.0, 3.0, 4.0, 5.0, 6.0, 7.0, 8.0, ...</td>\n",
       "      <td>[0.0, 1.0, 2.0, 3.0, 4.0, 5.0, 6.0, 7.0, 8.0, ...</td>\n",
       "      <td>[0.0, 1.0, 2.0, 3.0, 4.0, 5.0, 6.0, 7.0, 8.0, ...</td>\n",
       "      <td>[0.0, 1.0, 2.0, 3.0, 4.0, 5.0, 6.0, 7.0, 8.0, ...</td>\n",
       "      <td>[0.0, 1.0, 2.0, 3.0, 4.0, 5.0, 6.0, 7.0, 8.0, ...</td>\n",
       "      <td>[0.0, 1.0, 2.0, 3.0, 4.0, 5.0, 6.0, 7.0, 8.0, ...</td>\n",
       "      <td>[0.0, 1.0, 2.0, 3.0, 4.0, 5.0, 6.0, 7.0, 8.0, ...</td>\n",
       "    </tr>\n",
       "    <tr>\n",
       "      <th>4</th>\n",
       "      <td>[0.0, 1.0, 2.0, 3.0, 4.0, 5.0, 6.0, 7.0, 8.0, ...</td>\n",
       "      <td>[0.0, 1.0, 2.0, 3.0, 4.0, 5.0, 6.0, 7.0, 8.0, ...</td>\n",
       "      <td>[0.0, 1.0, 2.0, 3.0, 4.0, 5.0, 6.0, 7.0, 8.0, ...</td>\n",
       "      <td>[0.0, 1.0, 2.0, 3.0, 4.0, 5.0, 6.0, 7.0, 8.0, ...</td>\n",
       "      <td>[0.0, 1.0, 2.0, 3.0, 4.0, 5.0, 6.0, 7.0, 8.0, ...</td>\n",
       "      <td>[0.0, 1.0, 2.0, 3.0, 4.0, 5.0, 6.0, 7.0, 8.0, ...</td>\n",
       "      <td>[0.0, 1.0, 2.0, 3.0, 4.0, 5.0, 6.0, 7.0, 8.0, ...</td>\n",
       "      <td>[0.0, 1.0, 2.0, 3.0, 4.0, 5.0, 6.0, 7.0, 8.0, ...</td>\n",
       "      <td>[0.0, 1.0, 2.0, 3.0, 4.0, 5.0, 6.0, 7.0, 8.0, ...</td>\n",
       "      <td>[0.0, 1.0, 2.0, 3.0, 4.0, 5.0, 6.0, 7.0, 8.0, ...</td>\n",
       "    </tr>\n",
       "  </tbody>\n",
       "</table>\n",
       "</div>"
      ],
      "text/plain": [
       "                          BLA_LH_granger_frequencies  \\\n",
       "0  [0.0, 1.0, 2.0, 3.0, 4.0, 5.0, 6.0, 7.0, 8.0, ...   \n",
       "1  [0.0, 1.0, 2.0, 3.0, 4.0, 5.0, 6.0, 7.0, 8.0, ...   \n",
       "2  [0.0, 1.0, 2.0, 3.0, 4.0, 5.0, 6.0, 7.0, 8.0, ...   \n",
       "3  [0.0, 1.0, 2.0, 3.0, 4.0, 5.0, 6.0, 7.0, 8.0, ...   \n",
       "4  [0.0, 1.0, 2.0, 3.0, 4.0, 5.0, 6.0, 7.0, 8.0, ...   \n",
       "\n",
       "                          BLA_MD_granger_frequencies  \\\n",
       "0  [0.0, 1.0, 2.0, 3.0, 4.0, 5.0, 6.0, 7.0, 8.0, ...   \n",
       "1  [0.0, 1.0, 2.0, 3.0, 4.0, 5.0, 6.0, 7.0, 8.0, ...   \n",
       "2  [0.0, 1.0, 2.0, 3.0, 4.0, 5.0, 6.0, 7.0, 8.0, ...   \n",
       "3  [0.0, 1.0, 2.0, 3.0, 4.0, 5.0, 6.0, 7.0, 8.0, ...   \n",
       "4  [0.0, 1.0, 2.0, 3.0, 4.0, 5.0, 6.0, 7.0, 8.0, ...   \n",
       "\n",
       "                        BLA_mPFC_granger_frequencies  \\\n",
       "0  [0.0, 1.0, 2.0, 3.0, 4.0, 5.0, 6.0, 7.0, 8.0, ...   \n",
       "1  [0.0, 1.0, 2.0, 3.0, 4.0, 5.0, 6.0, 7.0, 8.0, ...   \n",
       "2  [0.0, 1.0, 2.0, 3.0, 4.0, 5.0, 6.0, 7.0, 8.0, ...   \n",
       "3  [0.0, 1.0, 2.0, 3.0, 4.0, 5.0, 6.0, 7.0, 8.0, ...   \n",
       "4  [0.0, 1.0, 2.0, 3.0, 4.0, 5.0, 6.0, 7.0, 8.0, ...   \n",
       "\n",
       "                        BLA_vHPC_granger_frequencies  \\\n",
       "0  [0.0, 1.0, 2.0, 3.0, 4.0, 5.0, 6.0, 7.0, 8.0, ...   \n",
       "1  [0.0, 1.0, 2.0, 3.0, 4.0, 5.0, 6.0, 7.0, 8.0, ...   \n",
       "2  [0.0, 1.0, 2.0, 3.0, 4.0, 5.0, 6.0, 7.0, 8.0, ...   \n",
       "3  [0.0, 1.0, 2.0, 3.0, 4.0, 5.0, 6.0, 7.0, 8.0, ...   \n",
       "4  [0.0, 1.0, 2.0, 3.0, 4.0, 5.0, 6.0, 7.0, 8.0, ...   \n",
       "\n",
       "                           LH_MD_granger_frequencies  \\\n",
       "0  [0.0, 1.0, 2.0, 3.0, 4.0, 5.0, 6.0, 7.0, 8.0, ...   \n",
       "1  [0.0, 1.0, 2.0, 3.0, 4.0, 5.0, 6.0, 7.0, 8.0, ...   \n",
       "2  [0.0, 1.0, 2.0, 3.0, 4.0, 5.0, 6.0, 7.0, 8.0, ...   \n",
       "3  [0.0, 1.0, 2.0, 3.0, 4.0, 5.0, 6.0, 7.0, 8.0, ...   \n",
       "4  [0.0, 1.0, 2.0, 3.0, 4.0, 5.0, 6.0, 7.0, 8.0, ...   \n",
       "\n",
       "                         LH_mPFC_granger_frequencies  \\\n",
       "0  [0.0, 1.0, 2.0, 3.0, 4.0, 5.0, 6.0, 7.0, 8.0, ...   \n",
       "1  [0.0, 1.0, 2.0, 3.0, 4.0, 5.0, 6.0, 7.0, 8.0, ...   \n",
       "2  [0.0, 1.0, 2.0, 3.0, 4.0, 5.0, 6.0, 7.0, 8.0, ...   \n",
       "3  [0.0, 1.0, 2.0, 3.0, 4.0, 5.0, 6.0, 7.0, 8.0, ...   \n",
       "4  [0.0, 1.0, 2.0, 3.0, 4.0, 5.0, 6.0, 7.0, 8.0, ...   \n",
       "\n",
       "                         LH_vHPC_granger_frequencies  \\\n",
       "0  [0.0, 1.0, 2.0, 3.0, 4.0, 5.0, 6.0, 7.0, 8.0, ...   \n",
       "1  [0.0, 1.0, 2.0, 3.0, 4.0, 5.0, 6.0, 7.0, 8.0, ...   \n",
       "2  [0.0, 1.0, 2.0, 3.0, 4.0, 5.0, 6.0, 7.0, 8.0, ...   \n",
       "3  [0.0, 1.0, 2.0, 3.0, 4.0, 5.0, 6.0, 7.0, 8.0, ...   \n",
       "4  [0.0, 1.0, 2.0, 3.0, 4.0, 5.0, 6.0, 7.0, 8.0, ...   \n",
       "\n",
       "                         MD_mPFC_granger_frequencies  \\\n",
       "0  [0.0, 1.0, 2.0, 3.0, 4.0, 5.0, 6.0, 7.0, 8.0, ...   \n",
       "1  [0.0, 1.0, 2.0, 3.0, 4.0, 5.0, 6.0, 7.0, 8.0, ...   \n",
       "2  [0.0, 1.0, 2.0, 3.0, 4.0, 5.0, 6.0, 7.0, 8.0, ...   \n",
       "3  [0.0, 1.0, 2.0, 3.0, 4.0, 5.0, 6.0, 7.0, 8.0, ...   \n",
       "4  [0.0, 1.0, 2.0, 3.0, 4.0, 5.0, 6.0, 7.0, 8.0, ...   \n",
       "\n",
       "                         MD_vHPC_granger_frequencies  \\\n",
       "0  [0.0, 1.0, 2.0, 3.0, 4.0, 5.0, 6.0, 7.0, 8.0, ...   \n",
       "1  [0.0, 1.0, 2.0, 3.0, 4.0, 5.0, 6.0, 7.0, 8.0, ...   \n",
       "2  [0.0, 1.0, 2.0, 3.0, 4.0, 5.0, 6.0, 7.0, 8.0, ...   \n",
       "3  [0.0, 1.0, 2.0, 3.0, 4.0, 5.0, 6.0, 7.0, 8.0, ...   \n",
       "4  [0.0, 1.0, 2.0, 3.0, 4.0, 5.0, 6.0, 7.0, 8.0, ...   \n",
       "\n",
       "                       mPFC_vHPC_granger_frequencies  \n",
       "0  [0.0, 1.0, 2.0, 3.0, 4.0, 5.0, 6.0, 7.0, 8.0, ...  \n",
       "1  [0.0, 1.0, 2.0, 3.0, 4.0, 5.0, 6.0, 7.0, 8.0, ...  \n",
       "2  [0.0, 1.0, 2.0, 3.0, 4.0, 5.0, 6.0, 7.0, 8.0, ...  \n",
       "3  [0.0, 1.0, 2.0, 3.0, 4.0, 5.0, 6.0, 7.0, 8.0, ...  \n",
       "4  [0.0, 1.0, 2.0, 3.0, 4.0, 5.0, 6.0, 7.0, 8.0, ...  "
      ]
     },
     "execution_count": 48,
     "metadata": {},
     "output_type": "execute_result"
    }
   ],
   "source": [
    "LFP_TRACES_DF[[col for col in LFP_TRACES_DF.columns if \"granger_frequencies\" in col]].head()"
   ]
  },
  {
   "cell_type": "code",
   "execution_count": 49,
   "metadata": {},
   "outputs": [],
   "source": [
    "LFP_TRACES_DF[\"granger_calculation_frequencies\"] = LFP_TRACES_DF[[col for col in LFP_TRACES_DF.columns if \"granger_frequencies\" in col][0]].copy()"
   ]
  },
  {
   "cell_type": "markdown",
   "metadata": {},
   "source": [
    "- Dropping unnecessary columns"
   ]
  },
  {
   "cell_type": "code",
   "execution_count": 50,
   "metadata": {
    "tags": []
   },
   "outputs": [],
   "source": [
    "LFP_TRACES_DF = LFP_TRACES_DF.drop(columns=[col for col in LFP_TRACES_DF.columns if \"granger_frequencies\" in col], errors=\"ignore\")"
   ]
  },
  {
   "cell_type": "code",
   "execution_count": 51,
   "metadata": {
    "tags": []
   },
   "outputs": [
    {
     "data": {
      "text/html": [
       "<div>\n",
       "<style scoped>\n",
       "    .dataframe tbody tr th:only-of-type {\n",
       "        vertical-align: middle;\n",
       "    }\n",
       "\n",
       "    .dataframe tbody tr th {\n",
       "        vertical-align: top;\n",
       "    }\n",
       "\n",
       "    .dataframe thead th {\n",
       "        text-align: right;\n",
       "    }\n",
       "</style>\n",
       "<table border=\"1\" class=\"dataframe\">\n",
       "  <thead>\n",
       "    <tr style=\"text-align: right;\">\n",
       "      <th></th>\n",
       "      <th>cohort</th>\n",
       "      <th>session_dir</th>\n",
       "      <th>original_file</th>\n",
       "      <th>tone_frames</th>\n",
       "      <th>box_1_port_entry_frames</th>\n",
       "      <th>box_2_port_entry_frames</th>\n",
       "      <th>video_name</th>\n",
       "      <th>session_path</th>\n",
       "      <th>recording</th>\n",
       "      <th>current_subject</th>\n",
       "      <th>...</th>\n",
       "      <th>LH_vHPC_granger_all_frequencies_all_windows</th>\n",
       "      <th>vHPC_LH_granger_all_frequencies_all_windows</th>\n",
       "      <th>MD_mPFC_granger_all_frequencies_all_windows</th>\n",
       "      <th>mPFC_MD_granger_all_frequencies_all_windows</th>\n",
       "      <th>MD_vHPC_granger_all_frequencies_all_windows</th>\n",
       "      <th>vHPC_MD_granger_all_frequencies_all_windows</th>\n",
       "      <th>mPFC_vHPC_granger_all_frequencies_all_windows</th>\n",
       "      <th>vHPC_mPFC_granger_all_frequencies_all_windows</th>\n",
       "      <th>granger_timestamps</th>\n",
       "      <th>granger_calculation_frequencies</th>\n",
       "    </tr>\n",
       "  </thead>\n",
       "  <tbody>\n",
       "    <tr>\n",
       "      <th>0</th>\n",
       "      <td>2</td>\n",
       "      <td>20230612_101430_standard_comp_to_training_D1_s...</td>\n",
       "      <td>20230612_101430_standard_comp_to_training_D1_s...</td>\n",
       "      <td>[[980, 1180], [3376, 3575], [5672, 5871], [746...</td>\n",
       "      <td>[[490, 514], [518, 558], [558, 637], [638, 640...</td>\n",
       "      <td>[[33021, 33027], [33502, 33503], [33504, 33506...</td>\n",
       "      <td>20230612_101430_standard_comp_to_training_D1_s...</td>\n",
       "      <td>/scratch/back_up/reward_competition_extention/...</td>\n",
       "      <td>20230612_101430_standard_comp_to_training_D1_s...</td>\n",
       "      <td>1.3</td>\n",
       "      <td>...</td>\n",
       "      <td>[[1.216, 0.633, 0.282, 0.613, 0.636, 1.501, 0....</td>\n",
       "      <td>[[0.39, 0.2312, 0.02298, 0.1543, 0.315, 0.7856...</td>\n",
       "      <td>[[1.783, 1.615, 1.699, 0.9365, 1.126, 1.648, 0...</td>\n",
       "      <td>[[1.663, 0.849, 1.167, 0.758, 0.328, 0.7144, 1...</td>\n",
       "      <td>[[2.055, 0.452, 0.3164, 0.5933, 0.8477, 0.6006...</td>\n",
       "      <td>[[0.1825, 0.1715, 0.01872, 0.096, 0.2727, 0.36...</td>\n",
       "      <td>[[0.3892, 0.2598, 0.1339, 0.1823, 0.2996, nan,...</td>\n",
       "      <td>[[0.0007057, 0.2181, 0.2163, 0.5986, 0.6187, 0...</td>\n",
       "      <td>[10000, 20000, 30000, 40000, 50000, 60000, 700...</td>\n",
       "      <td>[0.0, 1.0, 2.0, 3.0, 4.0, 5.0, 6.0, 7.0, 8.0, ...</td>\n",
       "    </tr>\n",
       "    <tr>\n",
       "      <th>1</th>\n",
       "      <td>2</td>\n",
       "      <td>20230612_101430_standard_comp_to_training_D1_s...</td>\n",
       "      <td>20230612_101430_standard_comp_to_training_D1_s...</td>\n",
       "      <td>[[980, 1180], [3376, 3575], [5672, 5871], [746...</td>\n",
       "      <td>[[490, 514], [518, 558], [558, 637], [638, 640...</td>\n",
       "      <td>[[33021, 33027], [33502, 33503], [33504, 33506...</td>\n",
       "      <td>20230612_101430_standard_comp_to_training_D1_s...</td>\n",
       "      <td>/scratch/back_up/reward_competition_extention/...</td>\n",
       "      <td>20230612_101430_standard_comp_to_training_D1_s...</td>\n",
       "      <td>1.4</td>\n",
       "      <td>...</td>\n",
       "      <td>[[2.848, 1.116, 0.682, 0.198, 0.154, 0.127, 0....</td>\n",
       "      <td>[[1.97, 1.198, 0.10645, 0.2512, 0.3628, 0.595,...</td>\n",
       "      <td>[[0.09326, 0.08734, 0.136, 0.0357, 0.1394, 0.2...</td>\n",
       "      <td>[[1.11, 0.2117, 0.3718, 0.1334, 0.174, 0.7544,...</td>\n",
       "      <td>[[1.734, 1.35, 0.8564, 0.2327, 0.08453, 0.0556...</td>\n",
       "      <td>[[1.0205, 0.565, 0.1328, 0.256, 0.311, 0.3535,...</td>\n",
       "      <td>[[1.432, 2.252, 0.566, 0.302, 0.1381, 0.6523, ...</td>\n",
       "      <td>[[nan, 0.8276, 1.56, 0.672, 0.3506, 0.01371, 0...</td>\n",
       "      <td>[10000, 20000, 30000, 40000, 50000, 60000, 700...</td>\n",
       "      <td>[0.0, 1.0, 2.0, 3.0, 4.0, 5.0, 6.0, 7.0, 8.0, ...</td>\n",
       "    </tr>\n",
       "    <tr>\n",
       "      <th>2</th>\n",
       "      <td>2</td>\n",
       "      <td>20230612_112630_standard_comp_to_training_D1_s...</td>\n",
       "      <td>20230612_112630_standard_comp_to_training_D1_s...</td>\n",
       "      <td>[[1125, 1324], [3519, 3720], [5815, 6014], [76...</td>\n",
       "      <td>[[192, 248], [389, 405], [916, 929], [929, 948...</td>\n",
       "      <td>[[33019, 33020], [33246, 33251], [33253, 33255...</td>\n",
       "      <td>20230612_112630_standard_comp_to_training_D1_s...</td>\n",
       "      <td>/scratch/back_up/reward_competition_extention/...</td>\n",
       "      <td>20230612_112630_standard_comp_to_training_D1_s...</td>\n",
       "      <td>1.1</td>\n",
       "      <td>...</td>\n",
       "      <td>[[0.326, 0.1089, 0.624, 0.2566, 0.06903, 0.112...</td>\n",
       "      <td>[[0.4377, 0.1589, 0.2129, 0.3435, 0.5723, 1.25...</td>\n",
       "      <td>[[0.01956, 0.05756, 0.04272, 0.108, 0.4011, 1....</td>\n",
       "      <td>[[0.1444, 0.5464, 0.3662, 0.3176, 0.2191, 0.08...</td>\n",
       "      <td>[[0.8516, 0.1353, 0.897, 0.2006, 0.02, 0.1517,...</td>\n",
       "      <td>[[0.273, 0.1354, 0.1842, 0.1063, 0.9165, 0.894...</td>\n",
       "      <td>[[0.1587, 0.256, 0.2253, 0.1144, 0.04657, 0.24...</td>\n",
       "      <td>[[0.386, 0.0818, 0.07935, 0.03128, 0.2976, 1.4...</td>\n",
       "      <td>[10000, 20000, 30000, 40000, 50000, 60000, 700...</td>\n",
       "      <td>[0.0, 1.0, 2.0, 3.0, 4.0, 5.0, 6.0, 7.0, 8.0, ...</td>\n",
       "    </tr>\n",
       "    <tr>\n",
       "      <th>3</th>\n",
       "      <td>2</td>\n",
       "      <td>20230612_112630_standard_comp_to_training_D1_s...</td>\n",
       "      <td>20230612_112630_standard_comp_to_training_D1_s...</td>\n",
       "      <td>[[1125, 1324], [3519, 3720], [5815, 6014], [76...</td>\n",
       "      <td>[[192, 248], [389, 405], [916, 929], [929, 948...</td>\n",
       "      <td>[[33019, 33020], [33246, 33251], [33253, 33255...</td>\n",
       "      <td>20230612_112630_standard_comp_to_training_D1_s...</td>\n",
       "      <td>/scratch/back_up/reward_competition_extention/...</td>\n",
       "      <td>20230612_112630_standard_comp_to_training_D1_s...</td>\n",
       "      <td>1.2</td>\n",
       "      <td>...</td>\n",
       "      <td>[[0.05106, 0.03592, 0.804, 1.848, 0.3523, 1.55...</td>\n",
       "      <td>[[0.5166, nan, 0.236, 0.238, 0.282, 1.07, 0.03...</td>\n",
       "      <td>[[2.38, nan, 0.556, 0.719, 0.4656, 1.49, 1.627...</td>\n",
       "      <td>[[0.828, 0.4062, 0.2362, 0.0009437, 0.02545, 0...</td>\n",
       "      <td>[[0.02159, 0.06714, 0.8926, 1.809, 0.4932, 1.3...</td>\n",
       "      <td>[[0.7085, nan, 0.1938, 0.2976, 0.1993, 1.26, 0...</td>\n",
       "      <td>[[0.003847, 0.1844, 0.7407, 1.28, 0.6084, 0.62...</td>\n",
       "      <td>[[0.6704, 1.331, 0.391, 0.0775, 0.07806, 0.180...</td>\n",
       "      <td>[10000, 20000, 30000, 40000, 50000, 60000, 700...</td>\n",
       "      <td>[0.0, 1.0, 2.0, 3.0, 4.0, 5.0, 6.0, 7.0, 8.0, ...</td>\n",
       "    </tr>\n",
       "    <tr>\n",
       "      <th>4</th>\n",
       "      <td>2</td>\n",
       "      <td>20230613_105657_standard_comp_to_training_D2_s...</td>\n",
       "      <td>20230613_105657_standard_comp_to_training_D2_s...</td>\n",
       "      <td>[[916, 1117], [3312, 3513], [5608, 5808], [740...</td>\n",
       "      <td>[[49, 67], [70, 79], [360, 366], [460, 469], [...</td>\n",
       "      <td>[[33601, 33798], [34108, 34165], [34166, 34179...</td>\n",
       "      <td>20230613_105657_standard_comp_to_training_D2_s...</td>\n",
       "      <td>/scratch/back_up/reward_competition_extention/...</td>\n",
       "      <td>20230613_105657_standard_comp_to_training_D2_s...</td>\n",
       "      <td>1.1</td>\n",
       "      <td>...</td>\n",
       "      <td>[[0.2115, 0.00865, 0.03357, 0.07874, 0.1255, 0...</td>\n",
       "      <td>[[0.1552, 0.6396, 1.212, 0.8325, 0.226, 1.066,...</td>\n",
       "      <td>[[0.01987, 0.04828, 0.05753, 0.2135, 1.297, 0....</td>\n",
       "      <td>[[0.616, 0.586, 0.397, 0.578, 0.4282, 0.2123, ...</td>\n",
       "      <td>[[0.267, 0.07654, 0.11566, 0.3652, 0.2986, 0.1...</td>\n",
       "      <td>[[0.03732, 0.8257, 0.9805, 0.1819, 0.174, 1.07...</td>\n",
       "      <td>[[2.346, 0.00597, 0.05408, 0.03165, 0.1912, 0....</td>\n",
       "      <td>[[0.0721, 0.717, 1.041, 0.581, 0.3962, 0.6646,...</td>\n",
       "      <td>[10000, 20000, 30000, 40000, 50000, 60000, 700...</td>\n",
       "      <td>[0.0, 1.0, 2.0, 3.0, 4.0, 5.0, 6.0, 7.0, 8.0, ...</td>\n",
       "    </tr>\n",
       "  </tbody>\n",
       "</table>\n",
       "<p>5 rows × 65 columns</p>\n",
       "</div>"
      ],
      "text/plain": [
       "   cohort                                        session_dir  \\\n",
       "0       2  20230612_101430_standard_comp_to_training_D1_s...   \n",
       "1       2  20230612_101430_standard_comp_to_training_D1_s...   \n",
       "2       2  20230612_112630_standard_comp_to_training_D1_s...   \n",
       "3       2  20230612_112630_standard_comp_to_training_D1_s...   \n",
       "4       2  20230613_105657_standard_comp_to_training_D2_s...   \n",
       "\n",
       "                                       original_file  \\\n",
       "0  20230612_101430_standard_comp_to_training_D1_s...   \n",
       "1  20230612_101430_standard_comp_to_training_D1_s...   \n",
       "2  20230612_112630_standard_comp_to_training_D1_s...   \n",
       "3  20230612_112630_standard_comp_to_training_D1_s...   \n",
       "4  20230613_105657_standard_comp_to_training_D2_s...   \n",
       "\n",
       "                                         tone_frames  \\\n",
       "0  [[980, 1180], [3376, 3575], [5672, 5871], [746...   \n",
       "1  [[980, 1180], [3376, 3575], [5672, 5871], [746...   \n",
       "2  [[1125, 1324], [3519, 3720], [5815, 6014], [76...   \n",
       "3  [[1125, 1324], [3519, 3720], [5815, 6014], [76...   \n",
       "4  [[916, 1117], [3312, 3513], [5608, 5808], [740...   \n",
       "\n",
       "                             box_1_port_entry_frames  \\\n",
       "0  [[490, 514], [518, 558], [558, 637], [638, 640...   \n",
       "1  [[490, 514], [518, 558], [558, 637], [638, 640...   \n",
       "2  [[192, 248], [389, 405], [916, 929], [929, 948...   \n",
       "3  [[192, 248], [389, 405], [916, 929], [929, 948...   \n",
       "4  [[49, 67], [70, 79], [360, 366], [460, 469], [...   \n",
       "\n",
       "                             box_2_port_entry_frames  \\\n",
       "0  [[33021, 33027], [33502, 33503], [33504, 33506...   \n",
       "1  [[33021, 33027], [33502, 33503], [33504, 33506...   \n",
       "2  [[33019, 33020], [33246, 33251], [33253, 33255...   \n",
       "3  [[33019, 33020], [33246, 33251], [33253, 33255...   \n",
       "4  [[33601, 33798], [34108, 34165], [34166, 34179...   \n",
       "\n",
       "                                          video_name  \\\n",
       "0  20230612_101430_standard_comp_to_training_D1_s...   \n",
       "1  20230612_101430_standard_comp_to_training_D1_s...   \n",
       "2  20230612_112630_standard_comp_to_training_D1_s...   \n",
       "3  20230612_112630_standard_comp_to_training_D1_s...   \n",
       "4  20230613_105657_standard_comp_to_training_D2_s...   \n",
       "\n",
       "                                        session_path  \\\n",
       "0  /scratch/back_up/reward_competition_extention/...   \n",
       "1  /scratch/back_up/reward_competition_extention/...   \n",
       "2  /scratch/back_up/reward_competition_extention/...   \n",
       "3  /scratch/back_up/reward_competition_extention/...   \n",
       "4  /scratch/back_up/reward_competition_extention/...   \n",
       "\n",
       "                                           recording current_subject  ...  \\\n",
       "0  20230612_101430_standard_comp_to_training_D1_s...             1.3  ...   \n",
       "1  20230612_101430_standard_comp_to_training_D1_s...             1.4  ...   \n",
       "2  20230612_112630_standard_comp_to_training_D1_s...             1.1  ...   \n",
       "3  20230612_112630_standard_comp_to_training_D1_s...             1.2  ...   \n",
       "4  20230613_105657_standard_comp_to_training_D2_s...             1.1  ...   \n",
       "\n",
       "         LH_vHPC_granger_all_frequencies_all_windows  \\\n",
       "0  [[1.216, 0.633, 0.282, 0.613, 0.636, 1.501, 0....   \n",
       "1  [[2.848, 1.116, 0.682, 0.198, 0.154, 0.127, 0....   \n",
       "2  [[0.326, 0.1089, 0.624, 0.2566, 0.06903, 0.112...   \n",
       "3  [[0.05106, 0.03592, 0.804, 1.848, 0.3523, 1.55...   \n",
       "4  [[0.2115, 0.00865, 0.03357, 0.07874, 0.1255, 0...   \n",
       "\n",
       "         vHPC_LH_granger_all_frequencies_all_windows  \\\n",
       "0  [[0.39, 0.2312, 0.02298, 0.1543, 0.315, 0.7856...   \n",
       "1  [[1.97, 1.198, 0.10645, 0.2512, 0.3628, 0.595,...   \n",
       "2  [[0.4377, 0.1589, 0.2129, 0.3435, 0.5723, 1.25...   \n",
       "3  [[0.5166, nan, 0.236, 0.238, 0.282, 1.07, 0.03...   \n",
       "4  [[0.1552, 0.6396, 1.212, 0.8325, 0.226, 1.066,...   \n",
       "\n",
       "         MD_mPFC_granger_all_frequencies_all_windows  \\\n",
       "0  [[1.783, 1.615, 1.699, 0.9365, 1.126, 1.648, 0...   \n",
       "1  [[0.09326, 0.08734, 0.136, 0.0357, 0.1394, 0.2...   \n",
       "2  [[0.01956, 0.05756, 0.04272, 0.108, 0.4011, 1....   \n",
       "3  [[2.38, nan, 0.556, 0.719, 0.4656, 1.49, 1.627...   \n",
       "4  [[0.01987, 0.04828, 0.05753, 0.2135, 1.297, 0....   \n",
       "\n",
       "         mPFC_MD_granger_all_frequencies_all_windows  \\\n",
       "0  [[1.663, 0.849, 1.167, 0.758, 0.328, 0.7144, 1...   \n",
       "1  [[1.11, 0.2117, 0.3718, 0.1334, 0.174, 0.7544,...   \n",
       "2  [[0.1444, 0.5464, 0.3662, 0.3176, 0.2191, 0.08...   \n",
       "3  [[0.828, 0.4062, 0.2362, 0.0009437, 0.02545, 0...   \n",
       "4  [[0.616, 0.586, 0.397, 0.578, 0.4282, 0.2123, ...   \n",
       "\n",
       "         MD_vHPC_granger_all_frequencies_all_windows  \\\n",
       "0  [[2.055, 0.452, 0.3164, 0.5933, 0.8477, 0.6006...   \n",
       "1  [[1.734, 1.35, 0.8564, 0.2327, 0.08453, 0.0556...   \n",
       "2  [[0.8516, 0.1353, 0.897, 0.2006, 0.02, 0.1517,...   \n",
       "3  [[0.02159, 0.06714, 0.8926, 1.809, 0.4932, 1.3...   \n",
       "4  [[0.267, 0.07654, 0.11566, 0.3652, 0.2986, 0.1...   \n",
       "\n",
       "         vHPC_MD_granger_all_frequencies_all_windows  \\\n",
       "0  [[0.1825, 0.1715, 0.01872, 0.096, 0.2727, 0.36...   \n",
       "1  [[1.0205, 0.565, 0.1328, 0.256, 0.311, 0.3535,...   \n",
       "2  [[0.273, 0.1354, 0.1842, 0.1063, 0.9165, 0.894...   \n",
       "3  [[0.7085, nan, 0.1938, 0.2976, 0.1993, 1.26, 0...   \n",
       "4  [[0.03732, 0.8257, 0.9805, 0.1819, 0.174, 1.07...   \n",
       "\n",
       "       mPFC_vHPC_granger_all_frequencies_all_windows  \\\n",
       "0  [[0.3892, 0.2598, 0.1339, 0.1823, 0.2996, nan,...   \n",
       "1  [[1.432, 2.252, 0.566, 0.302, 0.1381, 0.6523, ...   \n",
       "2  [[0.1587, 0.256, 0.2253, 0.1144, 0.04657, 0.24...   \n",
       "3  [[0.003847, 0.1844, 0.7407, 1.28, 0.6084, 0.62...   \n",
       "4  [[2.346, 0.00597, 0.05408, 0.03165, 0.1912, 0....   \n",
       "\n",
       "       vHPC_mPFC_granger_all_frequencies_all_windows  \\\n",
       "0  [[0.0007057, 0.2181, 0.2163, 0.5986, 0.6187, 0...   \n",
       "1  [[nan, 0.8276, 1.56, 0.672, 0.3506, 0.01371, 0...   \n",
       "2  [[0.386, 0.0818, 0.07935, 0.03128, 0.2976, 1.4...   \n",
       "3  [[0.6704, 1.331, 0.391, 0.0775, 0.07806, 0.180...   \n",
       "4  [[0.0721, 0.717, 1.041, 0.581, 0.3962, 0.6646,...   \n",
       "\n",
       "                                  granger_timestamps  \\\n",
       "0  [10000, 20000, 30000, 40000, 50000, 60000, 700...   \n",
       "1  [10000, 20000, 30000, 40000, 50000, 60000, 700...   \n",
       "2  [10000, 20000, 30000, 40000, 50000, 60000, 700...   \n",
       "3  [10000, 20000, 30000, 40000, 50000, 60000, 700...   \n",
       "4  [10000, 20000, 30000, 40000, 50000, 60000, 700...   \n",
       "\n",
       "                     granger_calculation_frequencies  \n",
       "0  [0.0, 1.0, 2.0, 3.0, 4.0, 5.0, 6.0, 7.0, 8.0, ...  \n",
       "1  [0.0, 1.0, 2.0, 3.0, 4.0, 5.0, 6.0, 7.0, 8.0, ...  \n",
       "2  [0.0, 1.0, 2.0, 3.0, 4.0, 5.0, 6.0, 7.0, 8.0, ...  \n",
       "3  [0.0, 1.0, 2.0, 3.0, 4.0, 5.0, 6.0, 7.0, 8.0, ...  \n",
       "4  [0.0, 1.0, 2.0, 3.0, 4.0, 5.0, 6.0, 7.0, 8.0, ...  \n",
       "\n",
       "[5 rows x 65 columns]"
      ]
     },
     "execution_count": 51,
     "metadata": {},
     "output_type": "execute_result"
    }
   ],
   "source": [
    "LFP_TRACES_DF.head()"
   ]
  },
  {
   "cell_type": "markdown",
   "metadata": {},
   "source": [
    "## Calculating the averages"
   ]
  },
  {
   "cell_type": "code",
   "execution_count": 56,
   "metadata": {
    "tags": []
   },
   "outputs": [
    {
     "data": {
      "text/plain": [
       "Index(['cohort', 'session_dir', 'original_file', 'tone_frames',\n",
       "       'box_1_port_entry_frames', 'box_2_port_entry_frames', 'video_name',\n",
       "       'session_path', 'recording', 'current_subject', 'subject',\n",
       "       'all_subjects', 'first_timestamp', 'last_timestamp', 'video_timestamps',\n",
       "       'tone_timestamps', 'box_1_port_entry_timestamps',\n",
       "       'box_2_port_entry_timestamps', 'lfp_timestamps', 'mPFC_lfp_trace',\n",
       "       'MD_lfp_trace', 'LH_lfp_trace', 'BLA_lfp_trace', 'vHPC_lfp_trace',\n",
       "       'mPFC_power_all_frequencies_all_windows',\n",
       "       'MD_power_all_frequencies_all_windows',\n",
       "       'LH_power_all_frequencies_all_windows',\n",
       "       'BLA_power_all_frequencies_all_windows',\n",
       "       'vHPC_power_all_frequencies_all_windows', 'power_timestamps',\n",
       "       'power_calculation_frequencies',\n",
       "       'BLA_LH_coherence_all_frequencies_all_windows',\n",
       "       'BLA_MD_coherence_all_frequencies_all_windows',\n",
       "       'BLA_mPFC_coherence_all_frequencies_all_windows',\n",
       "       'BLA_vHPC_coherence_all_frequencies_all_windows',\n",
       "       'LH_MD_coherence_all_frequencies_all_windows',\n",
       "       'LH_mPFC_coherence_all_frequencies_all_windows',\n",
       "       'LH_vHPC_coherence_all_frequencies_all_windows',\n",
       "       'MD_mPFC_coherence_all_frequencies_all_windows',\n",
       "       'MD_vHPC_coherence_all_frequencies_all_windows',\n",
       "       'mPFC_vHPC_coherence_all_frequencies_all_windows',\n",
       "       'coherence_timestamps', 'coherence_calculation_frequencies',\n",
       "       'BLA_LH_granger_all_frequencies_all_windows',\n",
       "       'LH_BLA_granger_all_frequencies_all_windows',\n",
       "       'BLA_MD_granger_all_frequencies_all_windows',\n",
       "       'MD_BLA_granger_all_frequencies_all_windows',\n",
       "       'BLA_mPFC_granger_all_frequencies_all_windows',\n",
       "       'mPFC_BLA_granger_all_frequencies_all_windows',\n",
       "       'BLA_vHPC_granger_all_frequencies_all_windows',\n",
       "       'vHPC_BLA_granger_all_frequencies_all_windows',\n",
       "       'LH_MD_granger_all_frequencies_all_windows',\n",
       "       'MD_LH_granger_all_frequencies_all_windows',\n",
       "       'LH_mPFC_granger_all_frequencies_all_windows',\n",
       "       'mPFC_LH_granger_all_frequencies_all_windows',\n",
       "       'LH_vHPC_granger_all_frequencies_all_windows',\n",
       "       'vHPC_LH_granger_all_frequencies_all_windows',\n",
       "       'MD_mPFC_granger_all_frequencies_all_windows',\n",
       "       'mPFC_MD_granger_all_frequencies_all_windows',\n",
       "       'MD_vHPC_granger_all_frequencies_all_windows',\n",
       "       'vHPC_MD_granger_all_frequencies_all_windows',\n",
       "       'mPFC_vHPC_granger_all_frequencies_all_windows',\n",
       "       'vHPC_mPFC_granger_all_frequencies_all_windows', 'granger_timestamps',\n",
       "       'granger_calculation_frequencies'],\n",
       "      dtype='object')"
      ]
     },
     "execution_count": 56,
     "metadata": {},
     "output_type": "execute_result"
    }
   ],
   "source": [
    "LFP_TRACES_DF.columns"
   ]
  },
  {
   "cell_type": "code",
   "execution_count": 52,
   "metadata": {
    "tags": []
   },
   "outputs": [],
   "source": [
    "LFP_TRACES_DF.to_pickle(\"./proc/rce2_spectral_granger.pkl\")"
   ]
  },
  {
   "cell_type": "code",
   "execution_count": 54,
   "metadata": {
    "tags": []
   },
   "outputs": [
    {
     "ename": "ValueError",
     "evalue": "",
     "output_type": "error",
     "traceback": [
      "\u001b[0;31m---------------------------------------------------------------------------\u001b[0m",
      "\u001b[0;31mValueError\u001b[0m                                Traceback (most recent call last)",
      "Cell \u001b[0;32mIn[54], line 1\u001b[0m\n\u001b[0;32m----> 1\u001b[0m \u001b[38;5;28;01mraise\u001b[39;00m \u001b[38;5;167;01mValueError\u001b[39;00m()\n",
      "\u001b[0;31mValueError\u001b[0m: "
     ]
    }
   ],
   "source": [
    "raise ValueError()"
   ]
  },
  {
   "cell_type": "code",
   "execution_count": null,
   "metadata": {},
   "outputs": [],
   "source": []
  }
 ],
 "metadata": {
  "deepnote": {},
  "deepnote_execution_queue": [],
  "deepnote_notebook_id": "cf8fe3695d074ee7887fdf6459cbf5ce",
  "kernelspec": {
   "display_name": "spike_interface_0_99_0",
   "language": "python",
   "name": "spike_interface_0_99_0"
  },
  "language_info": {
   "codemirror_mode": {
    "name": "ipython",
    "version": 3
   },
   "file_extension": ".py",
   "mimetype": "text/x-python",
   "name": "python",
   "nbconvert_exporter": "python",
   "pygments_lexer": "ipython3",
   "version": "3.10.13"
  }
 },
 "nbformat": 4,
 "nbformat_minor": 4
}
