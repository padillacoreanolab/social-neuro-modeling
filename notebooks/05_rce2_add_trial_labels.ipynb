{
 "cells": [
  {
   "cell_type": "markdown",
   "metadata": {
    "cell_id": "c3a02adc9e884466bc8c79db549cc3d2",
    "deepnote_cell_type": "text-cell-h1",
    "formattedRanges": [
     {
      "fromCodePoint": 0,
      "marks": {
       "bold": true,
       "underline": true
      },
      "toCodePoint": 17,
      "type": "marks"
     }
    ]
   },
   "source": [
    "# Add trial labels"
   ]
  },
  {
   "cell_type": "markdown",
   "metadata": {
    "cell_id": "4546bee655b14a5dbf393161f1228e60",
    "deepnote_cell_type": "text-cell-p",
    "formattedRanges": []
   },
   "source": [
    "Brief 1-2 sentence description of notebook."
   ]
  },
  {
   "cell_type": "code",
   "execution_count": 1,
   "metadata": {
    "tags": []
   },
   "outputs": [],
   "source": [
    "import os\n",
    "import glob\n",
    "import git\n",
    "import sys\n"
   ]
  },
  {
   "cell_type": "code",
   "execution_count": 2,
   "metadata": {
    "cell_id": "03b495cefa6a4798a44c7f2e4c6a3ea7",
    "deepnote_cell_type": "code",
    "deepnote_to_be_reexecuted": false,
    "execution_millis": 21,
    "execution_start": 1691424003626,
    "source_hash": null,
    "tags": []
   },
   "outputs": [],
   "source": [
    "# Imports of all used packages and libraries\n",
    "import numpy as np\n",
    "import pandas as pd\n",
    "# import seaborn as sns\n",
    "import matplotlib as mpl\n",
    "import matplotlib.pyplot as plt\n",
    "import h5py\n",
    "from scipy.interpolate import interp1d\n",
    "from scipy.signal import savgol_filter\n"
   ]
  },
  {
   "cell_type": "code",
   "execution_count": 3,
   "metadata": {
    "tags": []
   },
   "outputs": [],
   "source": [
    "git_repo = git.Repo(\".\", search_parent_directories=True)\n",
    "git_root = git_repo.git.rev_parse(\"--show-toplevel\")"
   ]
  },
  {
   "cell_type": "code",
   "execution_count": 4,
   "metadata": {
    "tags": []
   },
   "outputs": [
    {
     "data": {
      "text/plain": [
       "'/blue/npadillacoreano/ryoi360/projects/reward_comp/repos/social-neuro-modeling'"
      ]
     },
     "execution_count": 4,
     "metadata": {},
     "output_type": "execute_result"
    }
   ],
   "source": [
    "git_root"
   ]
  },
  {
   "cell_type": "code",
   "execution_count": 5,
   "metadata": {
    "tags": []
   },
   "outputs": [],
   "source": [
    "sys.path.insert(0, os.path.join(git_root, 'src'))"
   ]
  },
  {
   "cell_type": "code",
   "execution_count": 6,
   "metadata": {
    "tags": []
   },
   "outputs": [],
   "source": [
    "# sns.set('notebook', 'ticks', font_scale=1.2)\n",
    "mpl.rcParams['figure.figsize'] = [15,6]"
   ]
  },
  {
   "cell_type": "markdown",
   "metadata": {},
   "source": [
    "## Functions"
   ]
  },
  {
   "cell_type": "code",
   "execution_count": null,
   "metadata": {},
   "outputs": [],
   "source": []
  },
  {
   "cell_type": "markdown",
   "metadata": {
    "cell_id": "d290bac2c17940bfbc0f9296beaf70e5",
    "deepnote_cell_type": "text-cell-h2",
    "formattedRanges": []
   },
   "source": [
    "## Inputs & Data"
   ]
  },
  {
   "cell_type": "markdown",
   "metadata": {
    "cell_id": "e528ce19c608425292151930d380f49f",
    "deepnote_cell_type": "text-cell-p",
    "formattedRanges": []
   },
   "source": [
    "Explanation of each input and where it comes from."
   ]
  },
  {
   "cell_type": "code",
   "execution_count": 7,
   "metadata": {
    "cell_id": "6cf83a5811054461a718a71673d09aab",
    "deepnote_cell_type": "code",
    "deepnote_to_be_reexecuted": false,
    "execution_millis": 373,
    "execution_start": 1691424003628,
    "source_hash": null,
    "tags": []
   },
   "outputs": [],
   "source": [
    "# Inputs and Required data loading\n",
    "# input varaible names are in all caps snake case\n",
    "# Whenever an input changes or is used for processing \n",
    "# the vairables are all lower in snake case\n",
    "\n",
    "VIDEO_TO_FRAME_AND_SUBJECT_DF = pd.read_pickle(\"./proc/rce_pilot_2_04_lfp_spectral_sleap_spikes.pkl\")\n",
    "\n",
    "OUTPUT_DIR = r\"./proc\" # where data is saved should always be shown in the inputs\n",
    "\n"
   ]
  },
  {
   "cell_type": "code",
   "execution_count": 8,
   "metadata": {
    "tags": []
   },
   "outputs": [],
   "source": [
    "TRIAL_LABELS_DF = pd.read_excel(\"./rce_per_trial_labeling.xlsx\")\n",
    "TRIAL_LABELS_DF = TRIAL_LABELS_DF.rename(columns={col: col.strip().lower() for col in TRIAL_LABELS_DF.columns})\n",
    "TRIAL_LABELS_DF = TRIAL_LABELS_DF.dropna(subset=[\"condition\"])\n",
    "TRIAL_LABELS_DF[\"time_stamp_index\"] = TRIAL_LABELS_DF[\"time_stamp_index\"].astype(np.int64)\n"
   ]
  },
  {
   "cell_type": "code",
   "execution_count": 9,
   "metadata": {
    "tags": []
   },
   "outputs": [],
   "source": [
    "TRIAL_LABELS_DF = TRIAL_LABELS_DF.drop_duplicates(subset=[\"session_dir\", \"time_stamp_index\"])"
   ]
  },
  {
   "cell_type": "code",
   "execution_count": 10,
   "metadata": {
    "tags": []
   },
   "outputs": [
    {
     "data": {
      "text/plain": [
       "array(['20221202_134600_omission_and_competition_subject_6_1_and_6_2.1.videoTimeStamps.cameraHWSync',\n",
       "       '20221203_154800_omission_and_competition_subject_6_4_and_6_1.1.videoTimeStamps.cameraHWSync',\n",
       "       '20221214_125409_om_and_comp_6_1_and_6_3.1.videoTimeStamps.cameraHWSync',\n",
       "       '20221215_145401_comp_amd_om_6_1_and_6_3.1.videoTimeStamps.cameraHWSync',\n",
       "       '20230612_101430_standard_comp_to_training_D1_subj_1-4_and_1-3.1.videoTimeStamps.cameraHWSync',\n",
       "       '20230612_112630_standard_comp_to_training_D1_subj_1-2_and_1-1.1.videoTimeStamps.cameraHWSync',\n",
       "       '20230613_105657_standard_comp_to_training_D2_subj_1-1_and_1-4.1.videoTimeStamps.cameraHWSync',\n",
       "       '20230614_114041_standard_comp_to_training_D3_subj_1-1_and_1-2.1.videoTimeStamps.cameraHWSync',\n",
       "       '20230616_111904_standard_comp_to_training_D4_subj_1-4_and_1-2.1.videoTimeStamps.cameraHWSync',\n",
       "       '20230617_115521_standard_comp_to_omission_D1_subj_1-1_and_1-2.1.videoTimeStamps.cameraHWSync',\n",
       "       '20230618_100636_standard_comp_to_omission_D2_subj_1-4_and_1-1.1.videoTimeStamps.cameraHWSync',\n",
       "       '20230619_115321_standard_comp_to_omission_D3_subj_1-2_and_1-4.4.videoTimeStamps.cameraHWSync',\n",
       "       '20230620_114347_standard_comp_to_omission_D4_subj_1-2_and_1-1.1.videoTimeStamps.cameraHWSync',\n",
       "       '20230621_111240_standard_comp_to_omission_D5_subj_1-4_and_1-2.1.videoTimeStamps.cameraHWSync',\n",
       "       '20230622_110832_standard_comp_to_both_rewarded_D1_subj_1-1_and_1-2.1.videoTimeStamps.cameraHWSync',\n",
       "       '20230624_105855_standard_comp_to_both_rewarded_D3_subj_1-2_and_1-4.1.videoTimeStamps.cameraHWSync',\n",
       "       '20230625_112913_standard_comp_to_both_rewarded_D4_subj_1-1_and_1-4.1.videoTimeStamps.cameraHWSync',\n",
       "       '20230628_111202_standard_comp_to_novel_agent_D1_subj_1-1vs2-2and1-2vs2-1.1.videoTimeStamps.cameraHWSync',\n",
       "       '20230629_111937_standard_comp_to_novel_agent_D2_subj_1-1vs2-1and1-4vs2-2.1.videoTimeStamps.cameraHWSync',\n",
       "       '20230630_115506_standard_comp_to_novel_agent_D3_subj_1-4vs2-1and1-2vs2-2.1.videoTimeStamps.cameraHWSync'],\n",
       "      dtype=object)"
      ]
     },
     "execution_count": 10,
     "metadata": {},
     "output_type": "execute_result"
    }
   ],
   "source": [
    "TRIAL_LABELS_DF[\"video_file\"].unique()"
   ]
  },
  {
   "cell_type": "markdown",
   "metadata": {
    "cell_id": "e3ee4891d43a4ac287413afc552ca289",
    "deepnote_cell_type": "text-cell-h2",
    "formattedRanges": []
   },
   "source": [
    "## Outputs"
   ]
  },
  {
   "cell_type": "markdown",
   "metadata": {
    "cell_id": "9ccbf6cc70fd4d379fa29317f733771f",
    "deepnote_cell_type": "text-cell-p",
    "formattedRanges": []
   },
   "source": [
    "Describe each output that the notebook creates. "
   ]
  },
  {
   "cell_type": "markdown",
   "metadata": {
    "cell_id": "fc8e8920a6944918a15fac575cdf6e78",
    "deepnote_cell_type": "text-cell-bullet",
    "formattedRanges": []
   },
   "source": [
    "- Is it a plot or is it data?"
   ]
  },
  {
   "cell_type": "markdown",
   "metadata": {
    "cell_id": "1e639d4776a84aa9ac8ded2e14fa57db",
    "deepnote_cell_type": "text-cell-bullet",
    "formattedRanges": []
   },
   "source": [
    "- How valuable is the output and why is it valuable or useful?"
   ]
  },
  {
   "cell_type": "code",
   "execution_count": 11,
   "metadata": {
    "tags": []
   },
   "outputs": [],
   "source": [
    "# Inputs and Required data loading\n",
    "# input varaible names are in all caps snake case\n",
    "# Whenever an input changes or is used for processing \n",
    "# the vairables are all lower in snake case\n",
    "OUTPUT_DIR = r\"./proc/\" # where data is saved should always be shown in the inputs\n",
    "os.makedirs(OUTPUT_DIR, exist_ok=True)\n",
    "OUTPUT_PREFIX = \"rce_pilot_2\""
   ]
  },
  {
   "cell_type": "code",
   "execution_count": 12,
   "metadata": {
    "tags": []
   },
   "outputs": [],
   "source": [
    "FULL_LFP_TRACES_PKL = \"{}_lfp_traces_sleap_spikes.pkl\".format(OUTPUT_PREFIX)"
   ]
  },
  {
   "cell_type": "markdown",
   "metadata": {
    "cell_id": "8999d19b6b7d4d63bc90f0b0bd9ab085",
    "deepnote_cell_type": "text-cell-h2",
    "formattedRanges": []
   },
   "source": [
    "## Processing"
   ]
  },
  {
   "cell_type": "markdown",
   "metadata": {
    "cell_id": "9b36cdf08567463082b005cb0dec684b",
    "deepnote_cell_type": "text-cell-p",
    "formattedRanges": []
   },
   "source": [
    "Describe what is done to the data here and how inputs are manipulated to generate outputs. "
   ]
  },
  {
   "cell_type": "code",
   "execution_count": 13,
   "metadata": {
    "tags": []
   },
   "outputs": [
    {
     "data": {
      "text/html": [
       "<div>\n",
       "<style scoped>\n",
       "    .dataframe tbody tr th:only-of-type {\n",
       "        vertical-align: middle;\n",
       "    }\n",
       "\n",
       "    .dataframe tbody tr th {\n",
       "        vertical-align: top;\n",
       "    }\n",
       "\n",
       "    .dataframe thead th {\n",
       "        text-align: right;\n",
       "    }\n",
       "</style>\n",
       "<table border=\"1\" class=\"dataframe\">\n",
       "  <thead>\n",
       "    <tr style=\"text-align: right;\">\n",
       "      <th></th>\n",
       "      <th>unnamed: 0</th>\n",
       "      <th>recording_file</th>\n",
       "      <th>video_file</th>\n",
       "      <th>time_stamp_index</th>\n",
       "      <th>video_frame</th>\n",
       "      <th>reward_frame</th>\n",
       "      <th>condition</th>\n",
       "      <th>competition_closeness</th>\n",
       "      <th>notes</th>\n",
       "      <th>experiment</th>\n",
       "      <th>time</th>\n",
       "      <th>subject_info</th>\n",
       "      <th>din</th>\n",
       "      <th>state</th>\n",
       "      <th>session_dir</th>\n",
       "      <th>video_number</th>\n",
       "    </tr>\n",
       "  </thead>\n",
       "  <tbody>\n",
       "    <tr>\n",
       "      <th>84</th>\n",
       "      <td>2402.0</td>\n",
       "      <td>20221202_134600_omission_and_competition_subje...</td>\n",
       "      <td>20221202_134600_omission_and_competition_subje...</td>\n",
       "      <td>1390826</td>\n",
       "      <td>1734.0</td>\n",
       "      <td>1814.0</td>\n",
       "      <td>rewarded</td>\n",
       "      <td>NaN</td>\n",
       "      <td>NaN</td>\n",
       "      <td>NaN</td>\n",
       "      <td>6310663.0</td>\n",
       "      <td>6_1_top_2_base_3</td>\n",
       "      <td>dio_ECU_Din1</td>\n",
       "      <td>1.0</td>\n",
       "      <td>20221202_134600_omission_and_competition_subje...</td>\n",
       "      <td>1.0</td>\n",
       "    </tr>\n",
       "    <tr>\n",
       "      <th>85</th>\n",
       "      <td>2403.0</td>\n",
       "      <td>20221202_134600_omission_and_competition_subje...</td>\n",
       "      <td>20221202_134600_omission_and_competition_subje...</td>\n",
       "      <td>2990825</td>\n",
       "      <td>3728.0</td>\n",
       "      <td>3808.0</td>\n",
       "      <td>rewarded</td>\n",
       "      <td>NaN</td>\n",
       "      <td>NaN</td>\n",
       "      <td>NaN</td>\n",
       "      <td>7910662.0</td>\n",
       "      <td>6_1_top_2_base_3</td>\n",
       "      <td>dio_ECU_Din1</td>\n",
       "      <td>1.0</td>\n",
       "      <td>20221202_134600_omission_and_competition_subje...</td>\n",
       "      <td>1.0</td>\n",
       "    </tr>\n",
       "    <tr>\n",
       "      <th>86</th>\n",
       "      <td>2404.0</td>\n",
       "      <td>20221202_134600_omission_and_competition_subje...</td>\n",
       "      <td>20221202_134600_omission_and_competition_subje...</td>\n",
       "      <td>4790823</td>\n",
       "      <td>5972.0</td>\n",
       "      <td>6052.0</td>\n",
       "      <td>rewarded</td>\n",
       "      <td>NaN</td>\n",
       "      <td>NaN</td>\n",
       "      <td>NaN</td>\n",
       "      <td>9710660.0</td>\n",
       "      <td>6_1_top_2_base_3</td>\n",
       "      <td>dio_ECU_Din1</td>\n",
       "      <td>1.0</td>\n",
       "      <td>20221202_134600_omission_and_competition_subje...</td>\n",
       "      <td>1.0</td>\n",
       "    </tr>\n",
       "    <tr>\n",
       "      <th>87</th>\n",
       "      <td>2405.0</td>\n",
       "      <td>20221202_134600_omission_and_competition_subje...</td>\n",
       "      <td>20221202_134600_omission_and_competition_subje...</td>\n",
       "      <td>6390821</td>\n",
       "      <td>7966.0</td>\n",
       "      <td>8046.0</td>\n",
       "      <td>omission</td>\n",
       "      <td>NaN</td>\n",
       "      <td>NaN</td>\n",
       "      <td>NaN</td>\n",
       "      <td>11310658.0</td>\n",
       "      <td>6_1_top_2_base_3</td>\n",
       "      <td>dio_ECU_Din1</td>\n",
       "      <td>1.0</td>\n",
       "      <td>20221202_134600_omission_and_competition_subje...</td>\n",
       "      <td>1.0</td>\n",
       "    </tr>\n",
       "    <tr>\n",
       "      <th>88</th>\n",
       "      <td>2406.0</td>\n",
       "      <td>20221202_134600_omission_and_competition_subje...</td>\n",
       "      <td>20221202_134600_omission_and_competition_subje...</td>\n",
       "      <td>7890820</td>\n",
       "      <td>9836.0</td>\n",
       "      <td>9916.0</td>\n",
       "      <td>rewarded</td>\n",
       "      <td>NaN</td>\n",
       "      <td>NaN</td>\n",
       "      <td>NaN</td>\n",
       "      <td>12810657.0</td>\n",
       "      <td>6_1_top_2_base_3</td>\n",
       "      <td>dio_ECU_Din1</td>\n",
       "      <td>1.0</td>\n",
       "      <td>20221202_134600_omission_and_competition_subje...</td>\n",
       "      <td>1.0</td>\n",
       "    </tr>\n",
       "  </tbody>\n",
       "</table>\n",
       "</div>"
      ],
      "text/plain": [
       "    unnamed: 0                                     recording_file  \\\n",
       "84      2402.0  20221202_134600_omission_and_competition_subje...   \n",
       "85      2403.0  20221202_134600_omission_and_competition_subje...   \n",
       "86      2404.0  20221202_134600_omission_and_competition_subje...   \n",
       "87      2405.0  20221202_134600_omission_and_competition_subje...   \n",
       "88      2406.0  20221202_134600_omission_and_competition_subje...   \n",
       "\n",
       "                                           video_file  time_stamp_index  \\\n",
       "84  20221202_134600_omission_and_competition_subje...           1390826   \n",
       "85  20221202_134600_omission_and_competition_subje...           2990825   \n",
       "86  20221202_134600_omission_and_competition_subje...           4790823   \n",
       "87  20221202_134600_omission_and_competition_subje...           6390821   \n",
       "88  20221202_134600_omission_and_competition_subje...           7890820   \n",
       "\n",
       "    video_frame  reward_frame condition competition_closeness notes  \\\n",
       "84       1734.0        1814.0  rewarded                   NaN   NaN   \n",
       "85       3728.0        3808.0  rewarded                   NaN   NaN   \n",
       "86       5972.0        6052.0  rewarded                   NaN   NaN   \n",
       "87       7966.0        8046.0  omission                   NaN   NaN   \n",
       "88       9836.0        9916.0  rewarded                   NaN   NaN   \n",
       "\n",
       "   experiment        time      subject_info           din  state  \\\n",
       "84        NaN   6310663.0  6_1_top_2_base_3  dio_ECU_Din1    1.0   \n",
       "85        NaN   7910662.0  6_1_top_2_base_3  dio_ECU_Din1    1.0   \n",
       "86        NaN   9710660.0  6_1_top_2_base_3  dio_ECU_Din1    1.0   \n",
       "87        NaN  11310658.0  6_1_top_2_base_3  dio_ECU_Din1    1.0   \n",
       "88        NaN  12810657.0  6_1_top_2_base_3  dio_ECU_Din1    1.0   \n",
       "\n",
       "                                          session_dir  video_number  \n",
       "84  20221202_134600_omission_and_competition_subje...           1.0  \n",
       "85  20221202_134600_omission_and_competition_subje...           1.0  \n",
       "86  20221202_134600_omission_and_competition_subje...           1.0  \n",
       "87  20221202_134600_omission_and_competition_subje...           1.0  \n",
       "88  20221202_134600_omission_and_competition_subje...           1.0  "
      ]
     },
     "execution_count": 13,
     "metadata": {},
     "output_type": "execute_result"
    }
   ],
   "source": [
    "TRIAL_LABELS_DF.head()"
   ]
  },
  {
   "cell_type": "code",
   "execution_count": 14,
   "metadata": {
    "tags": []
   },
   "outputs": [],
   "source": [
    "# grouped = TRIAL_LABELS_DF.groupby(['recording_file', 'video_file'])['time_stamp_index'].apply(lambda x: sorted(list(x))).reset_index()\n",
    "\n",
    "\n",
    "grouped = TRIAL_LABELS_DF.groupby(['session_dir', 'video_file']).agg({'time_stamp_index': lambda x: list(x), 'condition': lambda x: list(x), 'competition_closeness': lambda x: list(x)}).reset_index()\n"
   ]
  },
  {
   "cell_type": "code",
   "execution_count": 15,
   "metadata": {
    "tags": []
   },
   "outputs": [],
   "source": [
    "grouped[\"video_file\"] = grouped[\"video_file\"].apply(lambda x: x.strip(\".videoTimeStamps.cameraHWSync\"))"
   ]
  },
  {
   "cell_type": "code",
   "execution_count": 16,
   "metadata": {
    "tags": []
   },
   "outputs": [],
   "source": [
    "VIDEO_TO_FRAME_AND_SUBJECT_DF = pd.merge(VIDEO_TO_FRAME_AND_SUBJECT_DF, grouped, how='inner', left_on=['session_dir', 'video_name'], right_on=['session_dir', 'video_file'])"
   ]
  },
  {
   "cell_type": "code",
   "execution_count": 17,
   "metadata": {
    "tags": []
   },
   "outputs": [],
   "source": [
    "VIDEO_TO_FRAME_AND_SUBJECT_DF = VIDEO_TO_FRAME_AND_SUBJECT_DF.rename(columns={'time_stamp_index': 'trial_time_stamps', 'condition': 'trial_label', 'competition_closeness': 'trial_competition_closeness'}, errors=\"ignore\")"
   ]
  },
  {
   "cell_type": "code",
   "execution_count": 18,
   "metadata": {},
   "outputs": [
    {
     "data": {
      "text/html": [
       "<div>\n",
       "<style scoped>\n",
       "    .dataframe tbody tr th:only-of-type {\n",
       "        vertical-align: middle;\n",
       "    }\n",
       "\n",
       "    .dataframe tbody tr th {\n",
       "        vertical-align: top;\n",
       "    }\n",
       "\n",
       "    .dataframe thead th {\n",
       "        text-align: right;\n",
       "    }\n",
       "</style>\n",
       "<table border=\"1\" class=\"dataframe\">\n",
       "  <thead>\n",
       "    <tr style=\"text-align: right;\">\n",
       "      <th></th>\n",
       "      <th>cohort</th>\n",
       "      <th>session_dir</th>\n",
       "      <th>original_file</th>\n",
       "      <th>tone_frames</th>\n",
       "      <th>box_1_port_entry_frames</th>\n",
       "      <th>box_2_port_entry_frames</th>\n",
       "      <th>video_name</th>\n",
       "      <th>session_path</th>\n",
       "      <th>recording</th>\n",
       "      <th>subject</th>\n",
       "      <th>...</th>\n",
       "      <th>start_stop_timestamps</th>\n",
       "      <th>recording_name</th>\n",
       "      <th>spike_clusters</th>\n",
       "      <th>spike_times</th>\n",
       "      <th>neuron_average_fr</th>\n",
       "      <th>neuron_average_timestamps</th>\n",
       "      <th>video_file</th>\n",
       "      <th>trial_time_stamps</th>\n",
       "      <th>trial_label</th>\n",
       "      <th>trial_competition_closeness</th>\n",
       "    </tr>\n",
       "  </thead>\n",
       "  <tbody>\n",
       "    <tr>\n",
       "      <th>0</th>\n",
       "      <td>2</td>\n",
       "      <td>20230618_100636_standard_comp_to_omission_D2_s...</td>\n",
       "      <td>20230618_100636_standard_comp_to_omission_D2_s...</td>\n",
       "      <td>[[1098, 1297], [3492, 3693], [5788, 5988], [75...</td>\n",
       "      <td>[[788, 835], [838, 839], [839, 871], [871, 900...</td>\n",
       "      <td>[[33026, 33037], [33038, 33042], [33044, 33049...</td>\n",
       "      <td>20230618_100636_standard_comp_to_omission_D2_s...</td>\n",
       "      <td>/scratch/back_up/reward_competition_extention/...</td>\n",
       "      <td>20230618_100636_standard_comp_to_omission_D2_s...</td>\n",
       "      <td>1.1</td>\n",
       "      <td>...</td>\n",
       "      <td>(1384, 32376683)</td>\n",
       "      <td>20230618_100636_standard_comp_to_omission_D2_s...</td>\n",
       "      <td>[7, 11, 12, 48, 50, 51, 61, 64, 76, 84, 90, 98...</td>\n",
       "      <td>[[506, 1419, 2358, 5104, 6785, 7620, 9801, 120...</td>\n",
       "      <td>[[2.0, 1.0, 1.0, 2.0, 1.0, 0.0, 3.0, 0.0, 1.0,...</td>\n",
       "      <td>[0, 2000, 4000, 6000, 8000, 10000, 12000, 1400...</td>\n",
       "      <td>20230618_100636_standard_comp_to_omission_D2_s...</td>\n",
       "      <td>[1099250, 3499256, 5799251, 7599250, 8699250, ...</td>\n",
       "      <td>[1.4, 1.1, 1.1, 1.4, 1.1, 1.4, 1.4, 1.4, 1.1, ...</td>\n",
       "      <td>[Subj 2 Only, Subj 1 Only, Subj 1 Only, Subj 2...</td>\n",
       "    </tr>\n",
       "    <tr>\n",
       "      <th>1</th>\n",
       "      <td>2</td>\n",
       "      <td>20230618_100636_standard_comp_to_omission_D2_s...</td>\n",
       "      <td>20230618_100636_standard_comp_to_omission_D2_s...</td>\n",
       "      <td>[[1098, 1297], [3492, 3693], [5788, 5988], [75...</td>\n",
       "      <td>[[788, 835], [838, 839], [839, 871], [871, 900...</td>\n",
       "      <td>[[33026, 33037], [33038, 33042], [33044, 33049...</td>\n",
       "      <td>20230618_100636_standard_comp_to_omission_D2_s...</td>\n",
       "      <td>/scratch/back_up/reward_competition_extention/...</td>\n",
       "      <td>20230618_100636_standard_comp_to_omission_D2_s...</td>\n",
       "      <td>1.4</td>\n",
       "      <td>...</td>\n",
       "      <td>(1384, 32376683)</td>\n",
       "      <td>20230618_100636_standard_comp_to_omission_D2_s...</td>\n",
       "      <td>[9, 19, 65, 83, 87, 93, 99, 103, 105, 106, 118...</td>\n",
       "      <td>[[458431, 506645, 509846, 545481, 571000, 6011...</td>\n",
       "      <td>[[0.0, 0.0, 0.0, 0.0, 0.0, 0.0, 0.0, 0.0, 0.0,...</td>\n",
       "      <td>[0, 2000, 4000, 6000, 8000, 10000, 12000, 1400...</td>\n",
       "      <td>20230618_100636_standard_comp_to_omission_D2_s...</td>\n",
       "      <td>[1099250, 3499256, 5799251, 7599250, 8699250, ...</td>\n",
       "      <td>[1.4, 1.1, 1.1, 1.4, 1.1, 1.4, 1.4, 1.4, 1.1, ...</td>\n",
       "      <td>[Subj 2 Only, Subj 1 Only, Subj 1 Only, Subj 2...</td>\n",
       "    </tr>\n",
       "  </tbody>\n",
       "</table>\n",
       "<p>2 rows × 89 columns</p>\n",
       "</div>"
      ],
      "text/plain": [
       "   cohort                                        session_dir  \\\n",
       "0       2  20230618_100636_standard_comp_to_omission_D2_s...   \n",
       "1       2  20230618_100636_standard_comp_to_omission_D2_s...   \n",
       "\n",
       "                                       original_file  \\\n",
       "0  20230618_100636_standard_comp_to_omission_D2_s...   \n",
       "1  20230618_100636_standard_comp_to_omission_D2_s...   \n",
       "\n",
       "                                         tone_frames  \\\n",
       "0  [[1098, 1297], [3492, 3693], [5788, 5988], [75...   \n",
       "1  [[1098, 1297], [3492, 3693], [5788, 5988], [75...   \n",
       "\n",
       "                             box_1_port_entry_frames  \\\n",
       "0  [[788, 835], [838, 839], [839, 871], [871, 900...   \n",
       "1  [[788, 835], [838, 839], [839, 871], [871, 900...   \n",
       "\n",
       "                             box_2_port_entry_frames  \\\n",
       "0  [[33026, 33037], [33038, 33042], [33044, 33049...   \n",
       "1  [[33026, 33037], [33038, 33042], [33044, 33049...   \n",
       "\n",
       "                                          video_name  \\\n",
       "0  20230618_100636_standard_comp_to_omission_D2_s...   \n",
       "1  20230618_100636_standard_comp_to_omission_D2_s...   \n",
       "\n",
       "                                        session_path  \\\n",
       "0  /scratch/back_up/reward_competition_extention/...   \n",
       "1  /scratch/back_up/reward_competition_extention/...   \n",
       "\n",
       "                                           recording subject  ...  \\\n",
       "0  20230618_100636_standard_comp_to_omission_D2_s...     1.1  ...   \n",
       "1  20230618_100636_standard_comp_to_omission_D2_s...     1.4  ...   \n",
       "\n",
       "  start_stop_timestamps                                     recording_name  \\\n",
       "0      (1384, 32376683)  20230618_100636_standard_comp_to_omission_D2_s...   \n",
       "1      (1384, 32376683)  20230618_100636_standard_comp_to_omission_D2_s...   \n",
       "\n",
       "                                      spike_clusters  \\\n",
       "0  [7, 11, 12, 48, 50, 51, 61, 64, 76, 84, 90, 98...   \n",
       "1  [9, 19, 65, 83, 87, 93, 99, 103, 105, 106, 118...   \n",
       "\n",
       "                                         spike_times  \\\n",
       "0  [[506, 1419, 2358, 5104, 6785, 7620, 9801, 120...   \n",
       "1  [[458431, 506645, 509846, 545481, 571000, 6011...   \n",
       "\n",
       "                                   neuron_average_fr  \\\n",
       "0  [[2.0, 1.0, 1.0, 2.0, 1.0, 0.0, 3.0, 0.0, 1.0,...   \n",
       "1  [[0.0, 0.0, 0.0, 0.0, 0.0, 0.0, 0.0, 0.0, 0.0,...   \n",
       "\n",
       "                           neuron_average_timestamps  \\\n",
       "0  [0, 2000, 4000, 6000, 8000, 10000, 12000, 1400...   \n",
       "1  [0, 2000, 4000, 6000, 8000, 10000, 12000, 1400...   \n",
       "\n",
       "                                          video_file  \\\n",
       "0  20230618_100636_standard_comp_to_omission_D2_s...   \n",
       "1  20230618_100636_standard_comp_to_omission_D2_s...   \n",
       "\n",
       "                                   trial_time_stamps  \\\n",
       "0  [1099250, 3499256, 5799251, 7599250, 8699250, ...   \n",
       "1  [1099250, 3499256, 5799251, 7599250, 8699250, ...   \n",
       "\n",
       "                                         trial_label  \\\n",
       "0  [1.4, 1.1, 1.1, 1.4, 1.1, 1.4, 1.4, 1.4, 1.1, ...   \n",
       "1  [1.4, 1.1, 1.1, 1.4, 1.1, 1.4, 1.4, 1.4, 1.1, ...   \n",
       "\n",
       "                         trial_competition_closeness  \n",
       "0  [Subj 2 Only, Subj 1 Only, Subj 1 Only, Subj 2...  \n",
       "1  [Subj 2 Only, Subj 1 Only, Subj 1 Only, Subj 2...  \n",
       "\n",
       "[2 rows x 89 columns]"
      ]
     },
     "execution_count": 18,
     "metadata": {},
     "output_type": "execute_result"
    }
   ],
   "source": [
    "VIDEO_TO_FRAME_AND_SUBJECT_DF.head()"
   ]
  },
  {
   "cell_type": "code",
   "execution_count": 19,
   "metadata": {
    "tags": []
   },
   "outputs": [],
   "source": [
    "VIDEO_TO_FRAME_AND_SUBJECT_DF[\"trial_time_stamps\"] = VIDEO_TO_FRAME_AND_SUBJECT_DF[\"trial_time_stamps\"].apply(lambda x: np.array(x))\n",
    "VIDEO_TO_FRAME_AND_SUBJECT_DF[\"trial_label\"] = VIDEO_TO_FRAME_AND_SUBJECT_DF[\"trial_label\"].apply(lambda x: np.array(x))\n",
    "VIDEO_TO_FRAME_AND_SUBJECT_DF[\"trial_competition_closeness\"] = VIDEO_TO_FRAME_AND_SUBJECT_DF[\"trial_competition_closeness\"].apply(lambda x: np.array(x))"
   ]
  },
  {
   "cell_type": "code",
   "execution_count": 20,
   "metadata": {
    "tags": []
   },
   "outputs": [
    {
     "data": {
      "text/plain": [
       "array(['1.4', '1.1', '1.1', '1.4', '1.1', '1.4', '1.4', '1.4', '1.1',\n",
       "       '1.1', '1.1', '1.1', '1.1', '1.1', '1.1', '1.1', '1.1', '1.1',\n",
       "       '1.1', '1.4', 'rewarded', 'rewarded', 'rewarded', 'rewarded',\n",
       "       'rewarded', 'rewarded', 'rewarded', 'omission', 'rewarded',\n",
       "       'rewarded', 'rewarded', 'rewarded', 'rewarded', 'omission',\n",
       "       'rewarded', 'rewarded', 'rewarded', 'omission', 'rewarded',\n",
       "       'rewarded'], dtype='<U32')"
      ]
     },
     "execution_count": 20,
     "metadata": {},
     "output_type": "execute_result"
    }
   ],
   "source": [
    "VIDEO_TO_FRAME_AND_SUBJECT_DF[\"trial_label\"].iloc[0]"
   ]
  },
  {
   "cell_type": "markdown",
   "metadata": {},
   "source": [
    "- Converting the trial label to win or lose based on who won the trial"
   ]
  },
  {
   "cell_type": "code",
   "execution_count": 21,
   "metadata": {
    "tags": []
   },
   "outputs": [
    {
     "data": {
      "text/plain": [
       "Index(['cohort', 'session_dir', 'original_file', 'tone_frames',\n",
       "       'box_1_port_entry_frames', 'box_2_port_entry_frames', 'video_name',\n",
       "       'session_path', 'recording', 'subject', 'all_subjects',\n",
       "       'first_timestamp', 'last_timestamp', 'video_timestamps',\n",
       "       'tone_timestamps', 'box_1_port_entry_timestamps',\n",
       "       'box_2_port_entry_timestamps', 'lfp_timestamps', 'mPFC_lfp_trace',\n",
       "       'MD_lfp_trace', 'LH_lfp_trace', 'BLA_lfp_trace', 'vHPC_lfp_trace',\n",
       "       'mPFC_power_all_frequencies_all_windows',\n",
       "       'MD_power_all_frequencies_all_windows',\n",
       "       'LH_power_all_frequencies_all_windows',\n",
       "       'BLA_power_all_frequencies_all_windows',\n",
       "       'vHPC_power_all_frequencies_all_windows', 'power_timestamps',\n",
       "       'power_calculation_frequencies',\n",
       "       'BLA_LH_coherence_all_frequencies_all_windows',\n",
       "       'BLA_MD_coherence_all_frequencies_all_windows',\n",
       "       'BLA_mPFC_coherence_all_frequencies_all_windows',\n",
       "       'BLA_vHPC_coherence_all_frequencies_all_windows',\n",
       "       'LH_MD_coherence_all_frequencies_all_windows',\n",
       "       'LH_mPFC_coherence_all_frequencies_all_windows',\n",
       "       'LH_vHPC_coherence_all_frequencies_all_windows',\n",
       "       'MD_mPFC_coherence_all_frequencies_all_windows',\n",
       "       'MD_vHPC_coherence_all_frequencies_all_windows',\n",
       "       'mPFC_vHPC_coherence_all_frequencies_all_windows',\n",
       "       'coherence_timestamps', 'coherence_calculation_frequencies',\n",
       "       'BLA_LH_granger_all_frequencies_all_windows',\n",
       "       'LH_BLA_granger_all_frequencies_all_windows',\n",
       "       'BLA_MD_granger_all_frequencies_all_windows',\n",
       "       'MD_BLA_granger_all_frequencies_all_windows',\n",
       "       'BLA_mPFC_granger_all_frequencies_all_windows',\n",
       "       'mPFC_BLA_granger_all_frequencies_all_windows',\n",
       "       'BLA_vHPC_granger_all_frequencies_all_windows',\n",
       "       'vHPC_BLA_granger_all_frequencies_all_windows',\n",
       "       'LH_MD_granger_all_frequencies_all_windows',\n",
       "       'MD_LH_granger_all_frequencies_all_windows',\n",
       "       'LH_mPFC_granger_all_frequencies_all_windows',\n",
       "       'mPFC_LH_granger_all_frequencies_all_windows',\n",
       "       'LH_vHPC_granger_all_frequencies_all_windows',\n",
       "       'vHPC_LH_granger_all_frequencies_all_windows',\n",
       "       'MD_mPFC_granger_all_frequencies_all_windows',\n",
       "       'mPFC_MD_granger_all_frequencies_all_windows',\n",
       "       'MD_vHPC_granger_all_frequencies_all_windows',\n",
       "       'vHPC_MD_granger_all_frequencies_all_windows',\n",
       "       'mPFC_vHPC_granger_all_frequencies_all_windows',\n",
       "       'vHPC_mPFC_granger_all_frequencies_all_windows', 'granger_timestamps',\n",
       "       'granger_calculation_frequencies', 'box_top_left', 'box_top_right',\n",
       "       'reward_port', 'box_bottom_left', 'box_bottom_right', 'agent',\n",
       "       'subject_locations', 'agent_locations', 'file_path', 'tracked_subject',\n",
       "       'in_video_subjects', 'notes', 'sleap_filename', 'sleap_fileroot',\n",
       "       'start_stop_frame', 'start_stop_timestamps', 'recording_name',\n",
       "       'spike_clusters', 'spike_times', 'neuron_average_fr',\n",
       "       'neuron_average_timestamps', 'video_file', 'trial_time_stamps',\n",
       "       'trial_label', 'trial_competition_closeness'],\n",
       "      dtype='object')"
      ]
     },
     "execution_count": 21,
     "metadata": {},
     "output_type": "execute_result"
    }
   ],
   "source": [
    "VIDEO_TO_FRAME_AND_SUBJECT_DF.columns"
   ]
  },
  {
   "cell_type": "code",
   "execution_count": 22,
   "metadata": {
    "tags": []
   },
   "outputs": [],
   "source": [
    "VIDEO_TO_FRAME_AND_SUBJECT_DF[\"trial_label\"] = VIDEO_TO_FRAME_AND_SUBJECT_DF.apply(\n",
    "    lambda x: [\"win\" if str(label).strip() == str(x[\"subject\"]).strip() else \"lose\" if str(label).strip() in x[\"all_subjects\"] else label for label in x[\"trial_label\"]], \n",
    "    axis=1)"
   ]
  },
  {
   "cell_type": "markdown",
   "metadata": {},
   "source": [
    "- Adding the competition closeness as a column"
   ]
  },
  {
   "cell_type": "code",
   "execution_count": 23,
   "metadata": {
    "tags": []
   },
   "outputs": [],
   "source": [
    "all_competition_closeness = np.unique(np.concatenate(VIDEO_TO_FRAME_AND_SUBJECT_DF[\"trial_competition_closeness\"]))"
   ]
  },
  {
   "cell_type": "code",
   "execution_count": 24,
   "metadata": {
    "tags": []
   },
   "outputs": [],
   "source": [
    "# competition_closeness_map = {k: \"non_comp\" if \"only\" in str(k).lower() else \"comp\" if type(k) is str else np.nan for k in VIDEO_TO_FRAME_AND_SUBJECT_DF[\"trial_competition_closeness\"].iloc[0]}\n",
    "competition_closeness_map = {k: \"non_comp\" if \"only\" in str(k).lower() else (\"comp\" if \"subj\" in k.lower() else np.nan) for k in all_competition_closeness}"
   ]
  },
  {
   "cell_type": "code",
   "execution_count": 25,
   "metadata": {
    "tags": []
   },
   "outputs": [
    {
     "data": {
      "text/plain": [
       "{'Subj 1 Only': 'non_comp',\n",
       " 'Subj 1 blocking Subj 2': 'comp',\n",
       " 'Subj 1 then Subj 2': 'comp',\n",
       " 'Subj 2 Only': 'non_comp',\n",
       " 'Subj 2 blocking Subj 1': 'comp',\n",
       " 'Subj 2 then Subj 1': 'comp',\n",
       " 'nan': nan}"
      ]
     },
     "execution_count": 25,
     "metadata": {},
     "output_type": "execute_result"
    }
   ],
   "source": [
    "competition_closeness_map"
   ]
  },
  {
   "cell_type": "code",
   "execution_count": 26,
   "metadata": {},
   "outputs": [],
   "source": [
    "VIDEO_TO_FRAME_AND_SUBJECT_DF[\"trial_competition_closeness\"] = VIDEO_TO_FRAME_AND_SUBJECT_DF[\"trial_competition_closeness\"].apply(lambda x: [competition_closeness_map[label] for label in x])"
   ]
  },
  {
   "cell_type": "code",
   "execution_count": 27,
   "metadata": {
    "tags": []
   },
   "outputs": [
    {
     "data": {
      "text/html": [
       "<div>\n",
       "<style scoped>\n",
       "    .dataframe tbody tr th:only-of-type {\n",
       "        vertical-align: middle;\n",
       "    }\n",
       "\n",
       "    .dataframe tbody tr th {\n",
       "        vertical-align: top;\n",
       "    }\n",
       "\n",
       "    .dataframe thead th {\n",
       "        text-align: right;\n",
       "    }\n",
       "</style>\n",
       "<table border=\"1\" class=\"dataframe\">\n",
       "  <thead>\n",
       "    <tr style=\"text-align: right;\">\n",
       "      <th></th>\n",
       "      <th>cohort</th>\n",
       "      <th>session_dir</th>\n",
       "      <th>original_file</th>\n",
       "      <th>tone_frames</th>\n",
       "      <th>box_1_port_entry_frames</th>\n",
       "      <th>box_2_port_entry_frames</th>\n",
       "      <th>video_name</th>\n",
       "      <th>session_path</th>\n",
       "      <th>recording</th>\n",
       "      <th>subject</th>\n",
       "      <th>...</th>\n",
       "      <th>start_stop_timestamps</th>\n",
       "      <th>recording_name</th>\n",
       "      <th>spike_clusters</th>\n",
       "      <th>spike_times</th>\n",
       "      <th>neuron_average_fr</th>\n",
       "      <th>neuron_average_timestamps</th>\n",
       "      <th>video_file</th>\n",
       "      <th>trial_time_stamps</th>\n",
       "      <th>trial_label</th>\n",
       "      <th>trial_competition_closeness</th>\n",
       "    </tr>\n",
       "  </thead>\n",
       "  <tbody>\n",
       "    <tr>\n",
       "      <th>0</th>\n",
       "      <td>2</td>\n",
       "      <td>20230618_100636_standard_comp_to_omission_D2_s...</td>\n",
       "      <td>20230618_100636_standard_comp_to_omission_D2_s...</td>\n",
       "      <td>[[1098, 1297], [3492, 3693], [5788, 5988], [75...</td>\n",
       "      <td>[[788, 835], [838, 839], [839, 871], [871, 900...</td>\n",
       "      <td>[[33026, 33037], [33038, 33042], [33044, 33049...</td>\n",
       "      <td>20230618_100636_standard_comp_to_omission_D2_s...</td>\n",
       "      <td>/scratch/back_up/reward_competition_extention/...</td>\n",
       "      <td>20230618_100636_standard_comp_to_omission_D2_s...</td>\n",
       "      <td>1.1</td>\n",
       "      <td>...</td>\n",
       "      <td>(1384, 32376683)</td>\n",
       "      <td>20230618_100636_standard_comp_to_omission_D2_s...</td>\n",
       "      <td>[7, 11, 12, 48, 50, 51, 61, 64, 76, 84, 90, 98...</td>\n",
       "      <td>[[506, 1419, 2358, 5104, 6785, 7620, 9801, 120...</td>\n",
       "      <td>[[2.0, 1.0, 1.0, 2.0, 1.0, 0.0, 3.0, 0.0, 1.0,...</td>\n",
       "      <td>[0, 2000, 4000, 6000, 8000, 10000, 12000, 1400...</td>\n",
       "      <td>20230618_100636_standard_comp_to_omission_D2_s...</td>\n",
       "      <td>[1099250, 3499256, 5799251, 7599250, 8699250, ...</td>\n",
       "      <td>[lose, win, win, lose, win, lose, lose, lose, ...</td>\n",
       "      <td>[non_comp, non_comp, non_comp, non_comp, non_c...</td>\n",
       "    </tr>\n",
       "    <tr>\n",
       "      <th>1</th>\n",
       "      <td>2</td>\n",
       "      <td>20230618_100636_standard_comp_to_omission_D2_s...</td>\n",
       "      <td>20230618_100636_standard_comp_to_omission_D2_s...</td>\n",
       "      <td>[[1098, 1297], [3492, 3693], [5788, 5988], [75...</td>\n",
       "      <td>[[788, 835], [838, 839], [839, 871], [871, 900...</td>\n",
       "      <td>[[33026, 33037], [33038, 33042], [33044, 33049...</td>\n",
       "      <td>20230618_100636_standard_comp_to_omission_D2_s...</td>\n",
       "      <td>/scratch/back_up/reward_competition_extention/...</td>\n",
       "      <td>20230618_100636_standard_comp_to_omission_D2_s...</td>\n",
       "      <td>1.4</td>\n",
       "      <td>...</td>\n",
       "      <td>(1384, 32376683)</td>\n",
       "      <td>20230618_100636_standard_comp_to_omission_D2_s...</td>\n",
       "      <td>[9, 19, 65, 83, 87, 93, 99, 103, 105, 106, 118...</td>\n",
       "      <td>[[458431, 506645, 509846, 545481, 571000, 6011...</td>\n",
       "      <td>[[0.0, 0.0, 0.0, 0.0, 0.0, 0.0, 0.0, 0.0, 0.0,...</td>\n",
       "      <td>[0, 2000, 4000, 6000, 8000, 10000, 12000, 1400...</td>\n",
       "      <td>20230618_100636_standard_comp_to_omission_D2_s...</td>\n",
       "      <td>[1099250, 3499256, 5799251, 7599250, 8699250, ...</td>\n",
       "      <td>[win, lose, lose, win, lose, win, win, win, lo...</td>\n",
       "      <td>[non_comp, non_comp, non_comp, non_comp, non_c...</td>\n",
       "    </tr>\n",
       "  </tbody>\n",
       "</table>\n",
       "<p>2 rows × 89 columns</p>\n",
       "</div>"
      ],
      "text/plain": [
       "   cohort                                        session_dir  \\\n",
       "0       2  20230618_100636_standard_comp_to_omission_D2_s...   \n",
       "1       2  20230618_100636_standard_comp_to_omission_D2_s...   \n",
       "\n",
       "                                       original_file  \\\n",
       "0  20230618_100636_standard_comp_to_omission_D2_s...   \n",
       "1  20230618_100636_standard_comp_to_omission_D2_s...   \n",
       "\n",
       "                                         tone_frames  \\\n",
       "0  [[1098, 1297], [3492, 3693], [5788, 5988], [75...   \n",
       "1  [[1098, 1297], [3492, 3693], [5788, 5988], [75...   \n",
       "\n",
       "                             box_1_port_entry_frames  \\\n",
       "0  [[788, 835], [838, 839], [839, 871], [871, 900...   \n",
       "1  [[788, 835], [838, 839], [839, 871], [871, 900...   \n",
       "\n",
       "                             box_2_port_entry_frames  \\\n",
       "0  [[33026, 33037], [33038, 33042], [33044, 33049...   \n",
       "1  [[33026, 33037], [33038, 33042], [33044, 33049...   \n",
       "\n",
       "                                          video_name  \\\n",
       "0  20230618_100636_standard_comp_to_omission_D2_s...   \n",
       "1  20230618_100636_standard_comp_to_omission_D2_s...   \n",
       "\n",
       "                                        session_path  \\\n",
       "0  /scratch/back_up/reward_competition_extention/...   \n",
       "1  /scratch/back_up/reward_competition_extention/...   \n",
       "\n",
       "                                           recording subject  ...  \\\n",
       "0  20230618_100636_standard_comp_to_omission_D2_s...     1.1  ...   \n",
       "1  20230618_100636_standard_comp_to_omission_D2_s...     1.4  ...   \n",
       "\n",
       "  start_stop_timestamps                                     recording_name  \\\n",
       "0      (1384, 32376683)  20230618_100636_standard_comp_to_omission_D2_s...   \n",
       "1      (1384, 32376683)  20230618_100636_standard_comp_to_omission_D2_s...   \n",
       "\n",
       "                                      spike_clusters  \\\n",
       "0  [7, 11, 12, 48, 50, 51, 61, 64, 76, 84, 90, 98...   \n",
       "1  [9, 19, 65, 83, 87, 93, 99, 103, 105, 106, 118...   \n",
       "\n",
       "                                         spike_times  \\\n",
       "0  [[506, 1419, 2358, 5104, 6785, 7620, 9801, 120...   \n",
       "1  [[458431, 506645, 509846, 545481, 571000, 6011...   \n",
       "\n",
       "                                   neuron_average_fr  \\\n",
       "0  [[2.0, 1.0, 1.0, 2.0, 1.0, 0.0, 3.0, 0.0, 1.0,...   \n",
       "1  [[0.0, 0.0, 0.0, 0.0, 0.0, 0.0, 0.0, 0.0, 0.0,...   \n",
       "\n",
       "                           neuron_average_timestamps  \\\n",
       "0  [0, 2000, 4000, 6000, 8000, 10000, 12000, 1400...   \n",
       "1  [0, 2000, 4000, 6000, 8000, 10000, 12000, 1400...   \n",
       "\n",
       "                                          video_file  \\\n",
       "0  20230618_100636_standard_comp_to_omission_D2_s...   \n",
       "1  20230618_100636_standard_comp_to_omission_D2_s...   \n",
       "\n",
       "                                   trial_time_stamps  \\\n",
       "0  [1099250, 3499256, 5799251, 7599250, 8699250, ...   \n",
       "1  [1099250, 3499256, 5799251, 7599250, 8699250, ...   \n",
       "\n",
       "                                         trial_label  \\\n",
       "0  [lose, win, win, lose, win, lose, lose, lose, ...   \n",
       "1  [win, lose, lose, win, lose, win, win, win, lo...   \n",
       "\n",
       "                         trial_competition_closeness  \n",
       "0  [non_comp, non_comp, non_comp, non_comp, non_c...  \n",
       "1  [non_comp, non_comp, non_comp, non_comp, non_c...  \n",
       "\n",
       "[2 rows x 89 columns]"
      ]
     },
     "execution_count": 27,
     "metadata": {},
     "output_type": "execute_result"
    }
   ],
   "source": [
    "VIDEO_TO_FRAME_AND_SUBJECT_DF"
   ]
  },
  {
   "cell_type": "code",
   "execution_count": 28,
   "metadata": {
    "tags": []
   },
   "outputs": [
    {
     "data": {
      "text/html": [
       "<div>\n",
       "<style scoped>\n",
       "    .dataframe tbody tr th:only-of-type {\n",
       "        vertical-align: middle;\n",
       "    }\n",
       "\n",
       "    .dataframe tbody tr th {\n",
       "        vertical-align: top;\n",
       "    }\n",
       "\n",
       "    .dataframe thead th {\n",
       "        text-align: right;\n",
       "    }\n",
       "</style>\n",
       "<table border=\"1\" class=\"dataframe\">\n",
       "  <thead>\n",
       "    <tr style=\"text-align: right;\">\n",
       "      <th></th>\n",
       "      <th>cohort</th>\n",
       "      <th>session_dir</th>\n",
       "      <th>original_file</th>\n",
       "      <th>tone_frames</th>\n",
       "      <th>box_1_port_entry_frames</th>\n",
       "      <th>box_2_port_entry_frames</th>\n",
       "      <th>video_name</th>\n",
       "      <th>session_path</th>\n",
       "      <th>recording</th>\n",
       "      <th>subject</th>\n",
       "      <th>...</th>\n",
       "      <th>start_stop_timestamps</th>\n",
       "      <th>recording_name</th>\n",
       "      <th>spike_clusters</th>\n",
       "      <th>spike_times</th>\n",
       "      <th>neuron_average_fr</th>\n",
       "      <th>neuron_average_timestamps</th>\n",
       "      <th>video_file</th>\n",
       "      <th>trial_time_stamps</th>\n",
       "      <th>trial_label</th>\n",
       "      <th>trial_competition_closeness</th>\n",
       "    </tr>\n",
       "  </thead>\n",
       "  <tbody>\n",
       "    <tr>\n",
       "      <th>0</th>\n",
       "      <td>2</td>\n",
       "      <td>20230618_100636_standard_comp_to_omission_D2_s...</td>\n",
       "      <td>20230618_100636_standard_comp_to_omission_D2_s...</td>\n",
       "      <td>[[1098, 1297], [3492, 3693], [5788, 5988], [75...</td>\n",
       "      <td>[[788, 835], [838, 839], [839, 871], [871, 900...</td>\n",
       "      <td>[[33026, 33037], [33038, 33042], [33044, 33049...</td>\n",
       "      <td>20230618_100636_standard_comp_to_omission_D2_s...</td>\n",
       "      <td>/scratch/back_up/reward_competition_extention/...</td>\n",
       "      <td>20230618_100636_standard_comp_to_omission_D2_s...</td>\n",
       "      <td>1.1</td>\n",
       "      <td>...</td>\n",
       "      <td>(1384, 32376683)</td>\n",
       "      <td>20230618_100636_standard_comp_to_omission_D2_s...</td>\n",
       "      <td>[7, 11, 12, 48, 50, 51, 61, 64, 76, 84, 90, 98...</td>\n",
       "      <td>[[506, 1419, 2358, 5104, 6785, 7620, 9801, 120...</td>\n",
       "      <td>[[2.0, 1.0, 1.0, 2.0, 1.0, 0.0, 3.0, 0.0, 1.0,...</td>\n",
       "      <td>[0, 2000, 4000, 6000, 8000, 10000, 12000, 1400...</td>\n",
       "      <td>20230618_100636_standard_comp_to_omission_D2_s...</td>\n",
       "      <td>[1099250, 3499256, 5799251, 7599250, 8699250, ...</td>\n",
       "      <td>[lose, win, win, lose, win, lose, lose, lose, ...</td>\n",
       "      <td>[non_comp, non_comp, non_comp, non_comp, non_c...</td>\n",
       "    </tr>\n",
       "    <tr>\n",
       "      <th>1</th>\n",
       "      <td>2</td>\n",
       "      <td>20230618_100636_standard_comp_to_omission_D2_s...</td>\n",
       "      <td>20230618_100636_standard_comp_to_omission_D2_s...</td>\n",
       "      <td>[[1098, 1297], [3492, 3693], [5788, 5988], [75...</td>\n",
       "      <td>[[788, 835], [838, 839], [839, 871], [871, 900...</td>\n",
       "      <td>[[33026, 33037], [33038, 33042], [33044, 33049...</td>\n",
       "      <td>20230618_100636_standard_comp_to_omission_D2_s...</td>\n",
       "      <td>/scratch/back_up/reward_competition_extention/...</td>\n",
       "      <td>20230618_100636_standard_comp_to_omission_D2_s...</td>\n",
       "      <td>1.4</td>\n",
       "      <td>...</td>\n",
       "      <td>(1384, 32376683)</td>\n",
       "      <td>20230618_100636_standard_comp_to_omission_D2_s...</td>\n",
       "      <td>[9, 19, 65, 83, 87, 93, 99, 103, 105, 106, 118...</td>\n",
       "      <td>[[458431, 506645, 509846, 545481, 571000, 6011...</td>\n",
       "      <td>[[0.0, 0.0, 0.0, 0.0, 0.0, 0.0, 0.0, 0.0, 0.0,...</td>\n",
       "      <td>[0, 2000, 4000, 6000, 8000, 10000, 12000, 1400...</td>\n",
       "      <td>20230618_100636_standard_comp_to_omission_D2_s...</td>\n",
       "      <td>[1099250, 3499256, 5799251, 7599250, 8699250, ...</td>\n",
       "      <td>[win, lose, lose, win, lose, win, win, win, lo...</td>\n",
       "      <td>[non_comp, non_comp, non_comp, non_comp, non_c...</td>\n",
       "    </tr>\n",
       "  </tbody>\n",
       "</table>\n",
       "<p>2 rows × 89 columns</p>\n",
       "</div>"
      ],
      "text/plain": [
       "   cohort                                        session_dir  \\\n",
       "0       2  20230618_100636_standard_comp_to_omission_D2_s...   \n",
       "1       2  20230618_100636_standard_comp_to_omission_D2_s...   \n",
       "\n",
       "                                       original_file  \\\n",
       "0  20230618_100636_standard_comp_to_omission_D2_s...   \n",
       "1  20230618_100636_standard_comp_to_omission_D2_s...   \n",
       "\n",
       "                                         tone_frames  \\\n",
       "0  [[1098, 1297], [3492, 3693], [5788, 5988], [75...   \n",
       "1  [[1098, 1297], [3492, 3693], [5788, 5988], [75...   \n",
       "\n",
       "                             box_1_port_entry_frames  \\\n",
       "0  [[788, 835], [838, 839], [839, 871], [871, 900...   \n",
       "1  [[788, 835], [838, 839], [839, 871], [871, 900...   \n",
       "\n",
       "                             box_2_port_entry_frames  \\\n",
       "0  [[33026, 33037], [33038, 33042], [33044, 33049...   \n",
       "1  [[33026, 33037], [33038, 33042], [33044, 33049...   \n",
       "\n",
       "                                          video_name  \\\n",
       "0  20230618_100636_standard_comp_to_omission_D2_s...   \n",
       "1  20230618_100636_standard_comp_to_omission_D2_s...   \n",
       "\n",
       "                                        session_path  \\\n",
       "0  /scratch/back_up/reward_competition_extention/...   \n",
       "1  /scratch/back_up/reward_competition_extention/...   \n",
       "\n",
       "                                           recording subject  ...  \\\n",
       "0  20230618_100636_standard_comp_to_omission_D2_s...     1.1  ...   \n",
       "1  20230618_100636_standard_comp_to_omission_D2_s...     1.4  ...   \n",
       "\n",
       "  start_stop_timestamps                                     recording_name  \\\n",
       "0      (1384, 32376683)  20230618_100636_standard_comp_to_omission_D2_s...   \n",
       "1      (1384, 32376683)  20230618_100636_standard_comp_to_omission_D2_s...   \n",
       "\n",
       "                                      spike_clusters  \\\n",
       "0  [7, 11, 12, 48, 50, 51, 61, 64, 76, 84, 90, 98...   \n",
       "1  [9, 19, 65, 83, 87, 93, 99, 103, 105, 106, 118...   \n",
       "\n",
       "                                         spike_times  \\\n",
       "0  [[506, 1419, 2358, 5104, 6785, 7620, 9801, 120...   \n",
       "1  [[458431, 506645, 509846, 545481, 571000, 6011...   \n",
       "\n",
       "                                   neuron_average_fr  \\\n",
       "0  [[2.0, 1.0, 1.0, 2.0, 1.0, 0.0, 3.0, 0.0, 1.0,...   \n",
       "1  [[0.0, 0.0, 0.0, 0.0, 0.0, 0.0, 0.0, 0.0, 0.0,...   \n",
       "\n",
       "                           neuron_average_timestamps  \\\n",
       "0  [0, 2000, 4000, 6000, 8000, 10000, 12000, 1400...   \n",
       "1  [0, 2000, 4000, 6000, 8000, 10000, 12000, 1400...   \n",
       "\n",
       "                                          video_file  \\\n",
       "0  20230618_100636_standard_comp_to_omission_D2_s...   \n",
       "1  20230618_100636_standard_comp_to_omission_D2_s...   \n",
       "\n",
       "                                   trial_time_stamps  \\\n",
       "0  [1099250, 3499256, 5799251, 7599250, 8699250, ...   \n",
       "1  [1099250, 3499256, 5799251, 7599250, 8699250, ...   \n",
       "\n",
       "                                         trial_label  \\\n",
       "0  [lose, win, win, lose, win, lose, lose, lose, ...   \n",
       "1  [win, lose, lose, win, lose, win, win, win, lo...   \n",
       "\n",
       "                         trial_competition_closeness  \n",
       "0  [non_comp, non_comp, non_comp, non_comp, non_c...  \n",
       "1  [non_comp, non_comp, non_comp, non_comp, non_c...  \n",
       "\n",
       "[2 rows x 89 columns]"
      ]
     },
     "execution_count": 28,
     "metadata": {},
     "output_type": "execute_result"
    }
   ],
   "source": [
    "VIDEO_TO_FRAME_AND_SUBJECT_DF"
   ]
  },
  {
   "cell_type": "code",
   "execution_count": 30,
   "metadata": {
    "tags": []
   },
   "outputs": [
    {
     "data": {
      "text/plain": [
       "Index(['cohort', 'session_dir', 'original_file', 'tone_frames',\n",
       "       'box_1_port_entry_frames', 'box_2_port_entry_frames', 'video_name',\n",
       "       'session_path', 'recording', 'subject', 'all_subjects',\n",
       "       'first_timestamp', 'last_timestamp', 'video_timestamps',\n",
       "       'tone_timestamps', 'box_1_port_entry_timestamps',\n",
       "       'box_2_port_entry_timestamps', 'lfp_timestamps', 'mPFC_lfp_trace',\n",
       "       'MD_lfp_trace', 'LH_lfp_trace', 'BLA_lfp_trace', 'vHPC_lfp_trace',\n",
       "       'mPFC_power_all_frequencies_all_windows',\n",
       "       'MD_power_all_frequencies_all_windows',\n",
       "       'LH_power_all_frequencies_all_windows',\n",
       "       'BLA_power_all_frequencies_all_windows',\n",
       "       'vHPC_power_all_frequencies_all_windows', 'power_timestamps',\n",
       "       'power_calculation_frequencies',\n",
       "       'BLA_LH_coherence_all_frequencies_all_windows',\n",
       "       'BLA_MD_coherence_all_frequencies_all_windows',\n",
       "       'BLA_mPFC_coherence_all_frequencies_all_windows',\n",
       "       'BLA_vHPC_coherence_all_frequencies_all_windows',\n",
       "       'LH_MD_coherence_all_frequencies_all_windows',\n",
       "       'LH_mPFC_coherence_all_frequencies_all_windows',\n",
       "       'LH_vHPC_coherence_all_frequencies_all_windows',\n",
       "       'MD_mPFC_coherence_all_frequencies_all_windows',\n",
       "       'MD_vHPC_coherence_all_frequencies_all_windows',\n",
       "       'mPFC_vHPC_coherence_all_frequencies_all_windows',\n",
       "       'coherence_timestamps', 'coherence_calculation_frequencies',\n",
       "       'BLA_LH_granger_all_frequencies_all_windows',\n",
       "       'LH_BLA_granger_all_frequencies_all_windows',\n",
       "       'BLA_MD_granger_all_frequencies_all_windows',\n",
       "       'MD_BLA_granger_all_frequencies_all_windows',\n",
       "       'BLA_mPFC_granger_all_frequencies_all_windows',\n",
       "       'mPFC_BLA_granger_all_frequencies_all_windows',\n",
       "       'BLA_vHPC_granger_all_frequencies_all_windows',\n",
       "       'vHPC_BLA_granger_all_frequencies_all_windows',\n",
       "       'LH_MD_granger_all_frequencies_all_windows',\n",
       "       'MD_LH_granger_all_frequencies_all_windows',\n",
       "       'LH_mPFC_granger_all_frequencies_all_windows',\n",
       "       'mPFC_LH_granger_all_frequencies_all_windows',\n",
       "       'LH_vHPC_granger_all_frequencies_all_windows',\n",
       "       'vHPC_LH_granger_all_frequencies_all_windows',\n",
       "       'MD_mPFC_granger_all_frequencies_all_windows',\n",
       "       'mPFC_MD_granger_all_frequencies_all_windows',\n",
       "       'MD_vHPC_granger_all_frequencies_all_windows',\n",
       "       'vHPC_MD_granger_all_frequencies_all_windows',\n",
       "       'mPFC_vHPC_granger_all_frequencies_all_windows',\n",
       "       'vHPC_mPFC_granger_all_frequencies_all_windows', 'granger_timestamps',\n",
       "       'granger_calculation_frequencies', 'box_top_left', 'box_top_right',\n",
       "       'reward_port', 'box_bottom_left', 'box_bottom_right', 'agent',\n",
       "       'subject_locations', 'agent_locations', 'file_path', 'tracked_subject',\n",
       "       'in_video_subjects', 'notes', 'sleap_filename', 'sleap_fileroot',\n",
       "       'start_stop_frame', 'start_stop_timestamps', 'recording_name',\n",
       "       'spike_clusters', 'spike_times', 'neuron_average_fr',\n",
       "       'neuron_average_timestamps', 'video_file', 'trial_time_stamps',\n",
       "       'trial_label', 'trial_competition_closeness'],\n",
       "      dtype='object')"
      ]
     },
     "execution_count": 30,
     "metadata": {},
     "output_type": "execute_result"
    }
   ],
   "source": [
    "VIDEO_TO_FRAME_AND_SUBJECT_DF.columns"
   ]
  },
  {
   "cell_type": "code",
   "execution_count": 29,
   "metadata": {
    "tags": []
   },
   "outputs": [],
   "source": [
    "VIDEO_TO_FRAME_AND_SUBJECT_DF.to_pickle(\"./proc/rce_pilot_2_05_lfp_spectral_sleap_spikes_labels.pkl\")"
   ]
  },
  {
   "cell_type": "code",
   "execution_count": 39,
   "metadata": {
    "tags": []
   },
   "outputs": [],
   "source": [
    "import os"
   ]
  },
  {
   "cell_type": "code",
   "execution_count": 40,
   "metadata": {
    "tags": []
   },
   "outputs": [
    {
     "name": "stdout",
     "output_type": "stream",
     "text": [
      "/bin/bash: conda: command not found\n"
     ]
    }
   ],
   "source": []
  },
  {
   "cell_type": "code",
   "execution_count": null,
   "metadata": {},
   "outputs": [],
   "source": []
  }
 ],
 "metadata": {
  "deepnote": {},
  "deepnote_execution_queue": [],
  "deepnote_notebook_id": "cf8fe3695d074ee7887fdf6459cbf5ce",
  "kernelspec": {
   "display_name": "spike_interface_0_99_0",
   "language": "python",
   "name": "spike_interface_0_99_0"
  },
  "language_info": {
   "codemirror_mode": {
    "name": "ipython",
    "version": 3
   },
   "file_extension": ".py",
   "mimetype": "text/x-python",
   "name": "python",
   "nbconvert_exporter": "python",
   "pygments_lexer": "ipython3",
   "version": "3.10.13"
  }
 },
 "nbformat": 4,
 "nbformat_minor": 4
}
