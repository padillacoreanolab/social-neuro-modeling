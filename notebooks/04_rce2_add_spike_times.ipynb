{
 "cells": [
  {
   "cell_type": "markdown",
   "metadata": {
    "cell_id": "c3a02adc9e884466bc8c79db549cc3d2",
    "deepnote_cell_type": "text-cell-h1",
    "formattedRanges": [
     {
      "fromCodePoint": 0,
      "marks": {
       "bold": true,
       "underline": true
      },
      "toCodePoint": 17,
      "type": "marks"
     }
    ]
   },
   "source": [
    "# Spike Train Calculation"
   ]
  },
  {
   "cell_type": "markdown",
   "metadata": {
    "cell_id": "4546bee655b14a5dbf393161f1228e60",
    "deepnote_cell_type": "text-cell-p",
    "formattedRanges": []
   },
   "source": [
    "Brief 1-2 sentence description of notebook."
   ]
  },
  {
   "cell_type": "code",
   "execution_count": 1,
   "metadata": {
    "tags": []
   },
   "outputs": [],
   "source": [
    "import os\n",
    "import glob\n",
    "import git\n",
    "import sys\n"
   ]
  },
  {
   "cell_type": "code",
   "execution_count": 2,
   "metadata": {
    "cell_id": "03b495cefa6a4798a44c7f2e4c6a3ea7",
    "deepnote_cell_type": "code",
    "deepnote_to_be_reexecuted": false,
    "execution_millis": 21,
    "execution_start": 1691424003626,
    "source_hash": null,
    "tags": []
   },
   "outputs": [],
   "source": [
    "# Imports of all used packages and libraries\n",
    "import numpy as np\n",
    "import pandas as pd\n",
    "# import seaborn as sns\n",
    "import matplotlib as mpl\n",
    "import matplotlib.pyplot as plt\n",
    "import h5py\n",
    "from scipy.interpolate import interp1d\n",
    "from scipy.signal import savgol_filter\n"
   ]
  },
  {
   "cell_type": "code",
   "execution_count": 3,
   "metadata": {
    "tags": []
   },
   "outputs": [],
   "source": [
    "git_repo = git.Repo(\".\", search_parent_directories=True)\n",
    "git_root = git_repo.git.rev_parse(\"--show-toplevel\")"
   ]
  },
  {
   "cell_type": "code",
   "execution_count": 4,
   "metadata": {
    "tags": []
   },
   "outputs": [
    {
     "data": {
      "text/plain": [
       "'/blue/npadillacoreano/ryoi360/projects/reward_comp/repos/reward_competition_extention'"
      ]
     },
     "execution_count": 4,
     "metadata": {},
     "output_type": "execute_result"
    }
   ],
   "source": [
    "git_root"
   ]
  },
  {
   "cell_type": "code",
   "execution_count": 5,
   "metadata": {
    "tags": []
   },
   "outputs": [],
   "source": [
    "sys.path.insert(0, os.path.join(git_root, 'src'))"
   ]
  },
  {
   "cell_type": "code",
   "execution_count": 6,
   "metadata": {
    "tags": []
   },
   "outputs": [],
   "source": [
    "import neuron.spikes"
   ]
  },
  {
   "cell_type": "code",
   "execution_count": 7,
   "metadata": {
    "tags": []
   },
   "outputs": [],
   "source": [
    "# sns.set('notebook', 'ticks', font_scale=1.2)\n",
    "mpl.rcParams['figure.figsize'] = [15,6]"
   ]
  },
  {
   "cell_type": "markdown",
   "metadata": {},
   "source": [
    "## Functions"
   ]
  },
  {
   "cell_type": "code",
   "execution_count": null,
   "metadata": {},
   "outputs": [],
   "source": []
  },
  {
   "cell_type": "markdown",
   "metadata": {
    "cell_id": "d290bac2c17940bfbc0f9296beaf70e5",
    "deepnote_cell_type": "text-cell-h2",
    "formattedRanges": []
   },
   "source": [
    "## Inputs & Data"
   ]
  },
  {
   "cell_type": "markdown",
   "metadata": {
    "cell_id": "e528ce19c608425292151930d380f49f",
    "deepnote_cell_type": "text-cell-p",
    "formattedRanges": []
   },
   "source": [
    "Explanation of each input and where it comes from."
   ]
  },
  {
   "cell_type": "code",
   "execution_count": 8,
   "metadata": {
    "cell_id": "6cf83a5811054461a718a71673d09aab",
    "deepnote_cell_type": "code",
    "deepnote_to_be_reexecuted": false,
    "execution_millis": 373,
    "execution_start": 1691424003628,
    "source_hash": null,
    "tags": []
   },
   "outputs": [],
   "source": [
    "# Inputs and Required data loading\n",
    "# input varaible names are in all caps snake case\n",
    "# Whenever an input changes or is used for processing \n",
    "# the vairables are all lower in snake case\n",
    "\n",
    "LFP_SPECTRAL_DF = pd.read_pickle(\"/blue/npadillacoreano/ryoi360/projects/reward_comp/repos/reward_competition_extention/results/2024_01_30_rce_2nd_cohort/proc/rce_pilot_2_full_spectral_and_sleap_poses.pkl\")\n",
    "\n",
    "# ALL_PHY_DIR = glob.glob(\"/scratch/back_up/reward_competition_extention/final_proc/phy_curation/*\")\n",
    "ALL_PHY_DIR = glob.glob(\"/blue/npadillacoreano/ryoi360/projects/reward_comp/final_proc/phy_curation/*\")\n",
    "\n",
    "\n",
    "OUTPUT_DIR = r\"./proc\" # where data is saved should always be shown in the inputs\n",
    "\n",
    "SAMPLING_RATE = 20000\n",
    "SPIKE_WINDOW = 2000"
   ]
  },
  {
   "cell_type": "code",
   "execution_count": 9,
   "metadata": {
    "tags": []
   },
   "outputs": [
    {
     "data": {
      "text/html": [
       "<div>\n",
       "<style scoped>\n",
       "    .dataframe tbody tr th:only-of-type {\n",
       "        vertical-align: middle;\n",
       "    }\n",
       "\n",
       "    .dataframe tbody tr th {\n",
       "        vertical-align: top;\n",
       "    }\n",
       "\n",
       "    .dataframe thead th {\n",
       "        text-align: right;\n",
       "    }\n",
       "</style>\n",
       "<table border=\"1\" class=\"dataframe\">\n",
       "  <thead>\n",
       "    <tr style=\"text-align: right;\">\n",
       "      <th></th>\n",
       "      <th>cohort</th>\n",
       "      <th>session_dir</th>\n",
       "      <th>original_file</th>\n",
       "      <th>tone_frames</th>\n",
       "      <th>box_1_port_entry_frames</th>\n",
       "      <th>box_2_port_entry_frames</th>\n",
       "      <th>video_name</th>\n",
       "      <th>session_path</th>\n",
       "      <th>recording</th>\n",
       "      <th>subject</th>\n",
       "      <th>...</th>\n",
       "      <th>subject_locations</th>\n",
       "      <th>agent_locations</th>\n",
       "      <th>file_path</th>\n",
       "      <th>tracked_subject</th>\n",
       "      <th>in_video_subjects</th>\n",
       "      <th>notes</th>\n",
       "      <th>sleap_filename</th>\n",
       "      <th>sleap_fileroot</th>\n",
       "      <th>start_stop_frame</th>\n",
       "      <th>start_stop_timestamps</th>\n",
       "    </tr>\n",
       "  </thead>\n",
       "  <tbody>\n",
       "    <tr>\n",
       "      <th>0</th>\n",
       "      <td>2</td>\n",
       "      <td>20230612_112630_standard_comp_to_training_D1_s...</td>\n",
       "      <td>20230612_112630_standard_comp_to_training_D1_s...</td>\n",
       "      <td>[[1125, 1324], [3519, 3720], [5815, 6014], [76...</td>\n",
       "      <td>[[192, 248], [389, 405], [916, 929], [929, 948...</td>\n",
       "      <td>[[33019, 33020], [33246, 33251], [33253, 33255...</td>\n",
       "      <td>20230612_112630_standard_comp_to_training_D1_s...</td>\n",
       "      <td>/scratch/back_up/reward_competition_extention/...</td>\n",
       "      <td>20230612_112630_standard_comp_to_training_D1_s...</td>\n",
       "      <td>1.1</td>\n",
       "      <td>...</td>\n",
       "      <td>[[[46.68890098287189, 11.495085446056166], [43...</td>\n",
       "      <td>[[[34.36404036584844, 35.615553316175784], [34...</td>\n",
       "      <td>/scratch/back_up/reward_competition_extention/...</td>\n",
       "      <td>[1.1, 1.2]</td>\n",
       "      <td>1.1_1.2</td>\n",
       "      <td>NaN</td>\n",
       "      <td>20230612_112630_standard_comp_to_training_D1_s...</td>\n",
       "      <td>20230612_112630_standard_comp_to_training_D1_s...</td>\n",
       "      <td>(1, 32300)</td>\n",
       "      <td>(2444, 32361438)</td>\n",
       "    </tr>\n",
       "    <tr>\n",
       "      <th>1</th>\n",
       "      <td>2</td>\n",
       "      <td>20230612_112630_standard_comp_to_training_D1_s...</td>\n",
       "      <td>20230612_112630_standard_comp_to_training_D1_s...</td>\n",
       "      <td>[[1125, 1324], [3519, 3720], [5815, 6014], [76...</td>\n",
       "      <td>[[192, 248], [389, 405], [916, 929], [929, 948...</td>\n",
       "      <td>[[33019, 33020], [33246, 33251], [33253, 33255...</td>\n",
       "      <td>20230612_112630_standard_comp_to_training_D1_s...</td>\n",
       "      <td>/scratch/back_up/reward_competition_extention/...</td>\n",
       "      <td>20230612_112630_standard_comp_to_training_D1_s...</td>\n",
       "      <td>1.2</td>\n",
       "      <td>...</td>\n",
       "      <td>[[[34.36404036584844, 35.615553316175784], [34...</td>\n",
       "      <td>[[[46.68890098287189, 11.495085446056166], [43...</td>\n",
       "      <td>/scratch/back_up/reward_competition_extention/...</td>\n",
       "      <td>[1.1, 1.2]</td>\n",
       "      <td>1.1_1.2</td>\n",
       "      <td>NaN</td>\n",
       "      <td>20230612_112630_standard_comp_to_training_D1_s...</td>\n",
       "      <td>20230612_112630_standard_comp_to_training_D1_s...</td>\n",
       "      <td>(1, 32300)</td>\n",
       "      <td>(2444, 32361438)</td>\n",
       "    </tr>\n",
       "    <tr>\n",
       "      <th>2</th>\n",
       "      <td>2</td>\n",
       "      <td>20230613_105657_standard_comp_to_training_D2_s...</td>\n",
       "      <td>20230613_105657_standard_comp_to_training_D2_s...</td>\n",
       "      <td>[[916, 1117], [3312, 3513], [5608, 5808], [740...</td>\n",
       "      <td>[[49, 67], [70, 79], [360, 366], [460, 469], [...</td>\n",
       "      <td>[[33601, 33798], [34108, 34165], [34166, 34179...</td>\n",
       "      <td>20230613_105657_standard_comp_to_training_D2_s...</td>\n",
       "      <td>/scratch/back_up/reward_competition_extention/...</td>\n",
       "      <td>20230613_105657_standard_comp_to_training_D2_s...</td>\n",
       "      <td>1.1</td>\n",
       "      <td>...</td>\n",
       "      <td>[[[46.71964110607613, 36.493379374373234], [44...</td>\n",
       "      <td>[[[50.63276479731981, 10.511614189582007], [51...</td>\n",
       "      <td>/scratch/back_up/reward_competition_extention/...</td>\n",
       "      <td>[1.1, 1.4]</td>\n",
       "      <td>1.1_1.4</td>\n",
       "      <td>NaN</td>\n",
       "      <td>20230613_105657_standard_comp_to_training_D2_s...</td>\n",
       "      <td>20230613_105657_standard_comp_to_training_D2_s...</td>\n",
       "      <td>(1, 33000)</td>\n",
       "      <td>(1384, 33062688)</td>\n",
       "    </tr>\n",
       "    <tr>\n",
       "      <th>3</th>\n",
       "      <td>2</td>\n",
       "      <td>20230613_105657_standard_comp_to_training_D2_s...</td>\n",
       "      <td>20230613_105657_standard_comp_to_training_D2_s...</td>\n",
       "      <td>[[916, 1117], [3312, 3513], [5608, 5808], [740...</td>\n",
       "      <td>[[49, 67], [70, 79], [360, 366], [460, 469], [...</td>\n",
       "      <td>[[33601, 33798], [34108, 34165], [34166, 34179...</td>\n",
       "      <td>20230613_105657_standard_comp_to_training_D2_s...</td>\n",
       "      <td>/scratch/back_up/reward_competition_extention/...</td>\n",
       "      <td>20230613_105657_standard_comp_to_training_D2_s...</td>\n",
       "      <td>1.4</td>\n",
       "      <td>...</td>\n",
       "      <td>[[[50.63276479731981, 10.511614189582007], [51...</td>\n",
       "      <td>[[[46.71964110607613, 36.493379374373234], [44...</td>\n",
       "      <td>/scratch/back_up/reward_competition_extention/...</td>\n",
       "      <td>[1.1, 1.4]</td>\n",
       "      <td>1.1_1.4</td>\n",
       "      <td>NaN</td>\n",
       "      <td>20230613_105657_standard_comp_to_training_D2_s...</td>\n",
       "      <td>20230613_105657_standard_comp_to_training_D2_s...</td>\n",
       "      <td>(1, 33000)</td>\n",
       "      <td>(1384, 33062688)</td>\n",
       "    </tr>\n",
       "    <tr>\n",
       "      <th>4</th>\n",
       "      <td>2</td>\n",
       "      <td>20230616_111904_standard_comp_to_training_D4_s...</td>\n",
       "      <td>20230616_111904_standard_comp_to_training_D4_s...</td>\n",
       "      <td>[[87, 287], [2483, 2683], [4778, 4979], [6575,...</td>\n",
       "      <td>[[338, 339], [341, 385], [385, 482], [696, 703...</td>\n",
       "      <td>[[31729, 31729], [31731, 31732], [31733, 31735...</td>\n",
       "      <td>20230616_111904_standard_comp_to_training_D4_s...</td>\n",
       "      <td>/scratch/back_up/reward_competition_extention/...</td>\n",
       "      <td>20230616_111904_standard_comp_to_training_D4_s...</td>\n",
       "      <td>1.2</td>\n",
       "      <td>...</td>\n",
       "      <td>[[[51.59712734869665, 31.240714372660907], [56...</td>\n",
       "      <td>[[[56.75056981673038, 24.705250867385512], [55...</td>\n",
       "      <td>/scratch/back_up/reward_competition_extention/...</td>\n",
       "      <td>[1.2, 1.4]</td>\n",
       "      <td>1.2_1.4</td>\n",
       "      <td>NaN</td>\n",
       "      <td>20230616_111904_standard_comp_to_training_D4_s...</td>\n",
       "      <td>20230616_111904_standard_comp_to_training_D4_s...</td>\n",
       "      <td>(1, 31100)</td>\n",
       "      <td>(1383, 31159889)</td>\n",
       "    </tr>\n",
       "  </tbody>\n",
       "</table>\n",
       "<p>5 rows × 80 columns</p>\n",
       "</div>"
      ],
      "text/plain": [
       "   cohort                                        session_dir  \\\n",
       "0       2  20230612_112630_standard_comp_to_training_D1_s...   \n",
       "1       2  20230612_112630_standard_comp_to_training_D1_s...   \n",
       "2       2  20230613_105657_standard_comp_to_training_D2_s...   \n",
       "3       2  20230613_105657_standard_comp_to_training_D2_s...   \n",
       "4       2  20230616_111904_standard_comp_to_training_D4_s...   \n",
       "\n",
       "                                       original_file  \\\n",
       "0  20230612_112630_standard_comp_to_training_D1_s...   \n",
       "1  20230612_112630_standard_comp_to_training_D1_s...   \n",
       "2  20230613_105657_standard_comp_to_training_D2_s...   \n",
       "3  20230613_105657_standard_comp_to_training_D2_s...   \n",
       "4  20230616_111904_standard_comp_to_training_D4_s...   \n",
       "\n",
       "                                         tone_frames  \\\n",
       "0  [[1125, 1324], [3519, 3720], [5815, 6014], [76...   \n",
       "1  [[1125, 1324], [3519, 3720], [5815, 6014], [76...   \n",
       "2  [[916, 1117], [3312, 3513], [5608, 5808], [740...   \n",
       "3  [[916, 1117], [3312, 3513], [5608, 5808], [740...   \n",
       "4  [[87, 287], [2483, 2683], [4778, 4979], [6575,...   \n",
       "\n",
       "                             box_1_port_entry_frames  \\\n",
       "0  [[192, 248], [389, 405], [916, 929], [929, 948...   \n",
       "1  [[192, 248], [389, 405], [916, 929], [929, 948...   \n",
       "2  [[49, 67], [70, 79], [360, 366], [460, 469], [...   \n",
       "3  [[49, 67], [70, 79], [360, 366], [460, 469], [...   \n",
       "4  [[338, 339], [341, 385], [385, 482], [696, 703...   \n",
       "\n",
       "                             box_2_port_entry_frames  \\\n",
       "0  [[33019, 33020], [33246, 33251], [33253, 33255...   \n",
       "1  [[33019, 33020], [33246, 33251], [33253, 33255...   \n",
       "2  [[33601, 33798], [34108, 34165], [34166, 34179...   \n",
       "3  [[33601, 33798], [34108, 34165], [34166, 34179...   \n",
       "4  [[31729, 31729], [31731, 31732], [31733, 31735...   \n",
       "\n",
       "                                          video_name  \\\n",
       "0  20230612_112630_standard_comp_to_training_D1_s...   \n",
       "1  20230612_112630_standard_comp_to_training_D1_s...   \n",
       "2  20230613_105657_standard_comp_to_training_D2_s...   \n",
       "3  20230613_105657_standard_comp_to_training_D2_s...   \n",
       "4  20230616_111904_standard_comp_to_training_D4_s...   \n",
       "\n",
       "                                        session_path  \\\n",
       "0  /scratch/back_up/reward_competition_extention/...   \n",
       "1  /scratch/back_up/reward_competition_extention/...   \n",
       "2  /scratch/back_up/reward_competition_extention/...   \n",
       "3  /scratch/back_up/reward_competition_extention/...   \n",
       "4  /scratch/back_up/reward_competition_extention/...   \n",
       "\n",
       "                                           recording subject  ...  \\\n",
       "0  20230612_112630_standard_comp_to_training_D1_s...     1.1  ...   \n",
       "1  20230612_112630_standard_comp_to_training_D1_s...     1.2  ...   \n",
       "2  20230613_105657_standard_comp_to_training_D2_s...     1.1  ...   \n",
       "3  20230613_105657_standard_comp_to_training_D2_s...     1.4  ...   \n",
       "4  20230616_111904_standard_comp_to_training_D4_s...     1.2  ...   \n",
       "\n",
       "                                   subject_locations  \\\n",
       "0  [[[46.68890098287189, 11.495085446056166], [43...   \n",
       "1  [[[34.36404036584844, 35.615553316175784], [34...   \n",
       "2  [[[46.71964110607613, 36.493379374373234], [44...   \n",
       "3  [[[50.63276479731981, 10.511614189582007], [51...   \n",
       "4  [[[51.59712734869665, 31.240714372660907], [56...   \n",
       "\n",
       "                                     agent_locations  \\\n",
       "0  [[[34.36404036584844, 35.615553316175784], [34...   \n",
       "1  [[[46.68890098287189, 11.495085446056166], [43...   \n",
       "2  [[[50.63276479731981, 10.511614189582007], [51...   \n",
       "3  [[[46.71964110607613, 36.493379374373234], [44...   \n",
       "4  [[[56.75056981673038, 24.705250867385512], [55...   \n",
       "\n",
       "                                           file_path tracked_subject  \\\n",
       "0  /scratch/back_up/reward_competition_extention/...      [1.1, 1.2]   \n",
       "1  /scratch/back_up/reward_competition_extention/...      [1.1, 1.2]   \n",
       "2  /scratch/back_up/reward_competition_extention/...      [1.1, 1.4]   \n",
       "3  /scratch/back_up/reward_competition_extention/...      [1.1, 1.4]   \n",
       "4  /scratch/back_up/reward_competition_extention/...      [1.2, 1.4]   \n",
       "\n",
       "  in_video_subjects notes                                     sleap_filename  \\\n",
       "0           1.1_1.2   NaN  20230612_112630_standard_comp_to_training_D1_s...   \n",
       "1           1.1_1.2   NaN  20230612_112630_standard_comp_to_training_D1_s...   \n",
       "2           1.1_1.4   NaN  20230613_105657_standard_comp_to_training_D2_s...   \n",
       "3           1.1_1.4   NaN  20230613_105657_standard_comp_to_training_D2_s...   \n",
       "4           1.2_1.4   NaN  20230616_111904_standard_comp_to_training_D4_s...   \n",
       "\n",
       "                                      sleap_fileroot start_stop_frame  \\\n",
       "0  20230612_112630_standard_comp_to_training_D1_s...       (1, 32300)   \n",
       "1  20230612_112630_standard_comp_to_training_D1_s...       (1, 32300)   \n",
       "2  20230613_105657_standard_comp_to_training_D2_s...       (1, 33000)   \n",
       "3  20230613_105657_standard_comp_to_training_D2_s...       (1, 33000)   \n",
       "4  20230616_111904_standard_comp_to_training_D4_s...       (1, 31100)   \n",
       "\n",
       "  start_stop_timestamps  \n",
       "0      (2444, 32361438)  \n",
       "1      (2444, 32361438)  \n",
       "2      (1384, 33062688)  \n",
       "3      (1384, 33062688)  \n",
       "4      (1383, 31159889)  \n",
       "\n",
       "[5 rows x 80 columns]"
      ]
     },
     "execution_count": 9,
     "metadata": {},
     "output_type": "execute_result"
    }
   ],
   "source": [
    "LFP_SPECTRAL_DF.head()"
   ]
  },
  {
   "cell_type": "markdown",
   "metadata": {
    "cell_id": "e3ee4891d43a4ac287413afc552ca289",
    "deepnote_cell_type": "text-cell-h2",
    "formattedRanges": []
   },
   "source": [
    "## Outputs"
   ]
  },
  {
   "cell_type": "markdown",
   "metadata": {
    "cell_id": "9ccbf6cc70fd4d379fa29317f733771f",
    "deepnote_cell_type": "text-cell-p",
    "formattedRanges": []
   },
   "source": [
    "Describe each output that the notebook creates. "
   ]
  },
  {
   "cell_type": "markdown",
   "metadata": {
    "cell_id": "fc8e8920a6944918a15fac575cdf6e78",
    "deepnote_cell_type": "text-cell-bullet",
    "formattedRanges": []
   },
   "source": [
    "- Is it a plot or is it data?"
   ]
  },
  {
   "cell_type": "markdown",
   "metadata": {
    "cell_id": "1e639d4776a84aa9ac8ded2e14fa57db",
    "deepnote_cell_type": "text-cell-bullet",
    "formattedRanges": []
   },
   "source": [
    "- How valuable is the output and why is it valuable or useful?"
   ]
  },
  {
   "cell_type": "code",
   "execution_count": 10,
   "metadata": {
    "tags": []
   },
   "outputs": [],
   "source": [
    "# Inputs and Required data loading\n",
    "# input varaible names are in all caps snake case\n",
    "# Whenever an input changes or is used for processing \n",
    "# the vairables are all lower in snake case\n",
    "OUTPUT_DIR = r\"./proc/\" # where data is saved should always be shown in the inputs\n",
    "os.makedirs(OUTPUT_DIR, exist_ok=True)\n",
    "OUTPUT_PREFIX = \"rce_pilot_2\""
   ]
  },
  {
   "cell_type": "code",
   "execution_count": 51,
   "metadata": {
    "tags": []
   },
   "outputs": [],
   "source": [
    "FULL_LFP_TRACES_PKL = \"{}_04_lfp_spectral_sleap_spikes.pkl\".format(OUTPUT_PREFIX)"
   ]
  },
  {
   "cell_type": "markdown",
   "metadata": {
    "cell_id": "8999d19b6b7d4d63bc90f0b0bd9ab085",
    "deepnote_cell_type": "text-cell-h2",
    "formattedRanges": []
   },
   "source": [
    "## Processing"
   ]
  },
  {
   "cell_type": "markdown",
   "metadata": {
    "cell_id": "9b36cdf08567463082b005cb0dec684b",
    "deepnote_cell_type": "text-cell-p",
    "formattedRanges": []
   },
   "source": [
    "Describe what is done to the data here and how inputs are manipulated to generate outputs. "
   ]
  },
  {
   "cell_type": "markdown",
   "metadata": {},
   "source": [
    "# Reading in Phy"
   ]
  },
  {
   "cell_type": "markdown",
   "metadata": {},
   "source": [
    "- Reading in a spreadsheet of all the unit classifications\n",
    "    - They are divided up into good units, multi-units, and noise"
   ]
  },
  {
   "cell_type": "code",
   "execution_count": 12,
   "metadata": {
    "tags": []
   },
   "outputs": [
    {
     "data": {
      "text/plain": [
       "['/blue/npadillacoreano/ryoi360/projects/reward_comp/final_proc/phy_curation/20230620_114347_standard_comp_to_omission_D4_subj_1-2_t3b3L_box_1_merged.rec',\n",
       " '/blue/npadillacoreano/ryoi360/projects/reward_comp/final_proc/phy_curation/20230621_111240_standard_comp_to_omission_D5_subj_1-4_t3b3L_box1_merged.rec',\n",
       " '/blue/npadillacoreano/ryoi360/projects/reward_comp/final_proc/phy_curation/20230618_100636_standard_comp_to_omission_D2_subj_1_1_t1b2L_box2_merged.rec',\n",
       " '/blue/npadillacoreano/ryoi360/projects/reward_comp/final_proc/phy_curation/20230617_115521_standard_comp_to_omission_D1_subj_1-1_t1b3L_box1_merged.rec',\n",
       " '/blue/npadillacoreano/ryoi360/projects/reward_comp/final_proc/phy_curation/rce_pilot_2_trodes_metadata.pkl',\n",
       " '/blue/npadillacoreano/ryoi360/projects/reward_comp/final_proc/phy_curation/20230619_115321_standard_comp_to_omission_D3_subj_1-4_t3b3L_box2_merged.rec',\n",
       " '/blue/npadillacoreano/ryoi360/projects/reward_comp/final_proc/phy_curation/20230617_115521_standard_comp_to_omission_D1_subj_1-2_t2b2L_box2_merged.rec',\n",
       " '/blue/npadillacoreano/ryoi360/projects/reward_comp/final_proc/phy_curation/rce_pilot_2_full_lfp_traces_and_video_frames.pkl',\n",
       " '/blue/npadillacoreano/ryoi360/projects/reward_comp/final_proc/phy_curation/rce_pilot_2_full_lfp_traces_and_sleap_poses.pkl',\n",
       " '/blue/npadillacoreano/ryoi360/projects/reward_comp/final_proc/phy_curation/20230618_100636_standard_comp_to_omission_D2_subj_1_4_t4b3L_box1_merged.rec',\n",
       " '/blue/npadillacoreano/ryoi360/projects/reward_comp/final_proc/phy_curation/20230620_114347_standard_comp_to_omission_D4_subj_1-1_t1b2L_box_2_merged.rec']"
      ]
     },
     "execution_count": 12,
     "metadata": {},
     "output_type": "execute_result"
    }
   ],
   "source": [
    "ALL_PHY_DIR"
   ]
  },
  {
   "cell_type": "code",
   "execution_count": 13,
   "metadata": {
    "tags": []
   },
   "outputs": [
    {
     "name": "stdout",
     "output_type": "stream",
     "text": [
      "[Errno 20] Not a directory: '/blue/npadillacoreano/ryoi360/projects/reward_comp/final_proc/phy_curation/rce_pilot_2_trodes_metadata.pkl/phy/cluster_info.tsv'\n",
      "[Errno 20] Not a directory: '/blue/npadillacoreano/ryoi360/projects/reward_comp/final_proc/phy_curation/rce_pilot_2_full_lfp_traces_and_video_frames.pkl/phy/cluster_info.tsv'\n",
      "[Errno 20] Not a directory: '/blue/npadillacoreano/ryoi360/projects/reward_comp/final_proc/phy_curation/rce_pilot_2_full_lfp_traces_and_sleap_poses.pkl/phy/cluster_info.tsv'\n"
     ]
    }
   ],
   "source": [
    "recording_to_cluster_info = {}\n",
    "for recording_dir in ALL_PHY_DIR:\n",
    "    try:\n",
    "        recording_basename = os.path.basename(recording_dir).strip(\".rec\")\n",
    "        file_path = os.path.join(recording_dir, \"phy\", \"cluster_info.tsv\")\n",
    "        recording_to_cluster_info[recording_basename] = pd.read_csv(file_path, sep=\"\\t\")\n",
    "    except Exception as e:\n",
    "        print(e)"
   ]
  },
  {
   "cell_type": "code",
   "execution_count": 14,
   "metadata": {
    "tags": []
   },
   "outputs": [
    {
     "data": {
      "text/html": [
       "<div>\n",
       "<style scoped>\n",
       "    .dataframe tbody tr th:only-of-type {\n",
       "        vertical-align: middle;\n",
       "    }\n",
       "\n",
       "    .dataframe tbody tr th {\n",
       "        vertical-align: top;\n",
       "    }\n",
       "\n",
       "    .dataframe thead th {\n",
       "        text-align: right;\n",
       "    }\n",
       "</style>\n",
       "<table border=\"1\" class=\"dataframe\">\n",
       "  <thead>\n",
       "    <tr style=\"text-align: right;\">\n",
       "      <th></th>\n",
       "      <th>cluster_id</th>\n",
       "      <th>1_5_ms_isi</th>\n",
       "      <th>1ms_isi</th>\n",
       "      <th>2ms_isi</th>\n",
       "      <th>amp</th>\n",
       "      <th>ch</th>\n",
       "      <th>channel_group</th>\n",
       "      <th>depth</th>\n",
       "      <th>fr</th>\n",
       "      <th>group</th>\n",
       "      <th>n_spikes</th>\n",
       "      <th>sh</th>\n",
       "      <th>si_unit_id</th>\n",
       "    </tr>\n",
       "  </thead>\n",
       "  <tbody>\n",
       "    <tr>\n",
       "      <th>0</th>\n",
       "      <td>3</td>\n",
       "      <td>71</td>\n",
       "      <td>22</td>\n",
       "      <td>243</td>\n",
       "      <td>8.729426</td>\n",
       "      <td>1</td>\n",
       "      <td>0</td>\n",
       "      <td>20.0</td>\n",
       "      <td>9.474292</td>\n",
       "      <td>mua</td>\n",
       "      <td>33069</td>\n",
       "      <td>0</td>\n",
       "      <td>5</td>\n",
       "    </tr>\n",
       "    <tr>\n",
       "      <th>1</th>\n",
       "      <td>5</td>\n",
       "      <td>4</td>\n",
       "      <td>0</td>\n",
       "      <td>14</td>\n",
       "      <td>9.769127</td>\n",
       "      <td>2</td>\n",
       "      <td>0</td>\n",
       "      <td>40.0</td>\n",
       "      <td>1.879731</td>\n",
       "      <td>mua</td>\n",
       "      <td>6561</td>\n",
       "      <td>0</td>\n",
       "      <td>7</td>\n",
       "    </tr>\n",
       "    <tr>\n",
       "      <th>2</th>\n",
       "      <td>6</td>\n",
       "      <td>2</td>\n",
       "      <td>0</td>\n",
       "      <td>11</td>\n",
       "      <td>13.532221</td>\n",
       "      <td>2</td>\n",
       "      <td>0</td>\n",
       "      <td>40.0</td>\n",
       "      <td>11.421351</td>\n",
       "      <td>good</td>\n",
       "      <td>39865</td>\n",
       "      <td>0</td>\n",
       "      <td>8</td>\n",
       "    </tr>\n",
       "    <tr>\n",
       "      <th>3</th>\n",
       "      <td>7</td>\n",
       "      <td>58</td>\n",
       "      <td>30</td>\n",
       "      <td>99</td>\n",
       "      <td>9.302568</td>\n",
       "      <td>2</td>\n",
       "      <td>0</td>\n",
       "      <td>40.0</td>\n",
       "      <td>20.851808</td>\n",
       "      <td>good</td>\n",
       "      <td>72781</td>\n",
       "      <td>0</td>\n",
       "      <td>9</td>\n",
       "    </tr>\n",
       "    <tr>\n",
       "      <th>4</th>\n",
       "      <td>8</td>\n",
       "      <td>29</td>\n",
       "      <td>12</td>\n",
       "      <td>94</td>\n",
       "      <td>7.241092</td>\n",
       "      <td>3</td>\n",
       "      <td>0</td>\n",
       "      <td>60.0</td>\n",
       "      <td>4.613521</td>\n",
       "      <td>mua</td>\n",
       "      <td>16103</td>\n",
       "      <td>0</td>\n",
       "      <td>10</td>\n",
       "    </tr>\n",
       "  </tbody>\n",
       "</table>\n",
       "</div>"
      ],
      "text/plain": [
       "   cluster_id  1_5_ms_isi  1ms_isi  2ms_isi        amp  ch  channel_group  \\\n",
       "0           3          71       22      243   8.729426   1              0   \n",
       "1           5           4        0       14   9.769127   2              0   \n",
       "2           6           2        0       11  13.532221   2              0   \n",
       "3           7          58       30       99   9.302568   2              0   \n",
       "4           8          29       12       94   7.241092   3              0   \n",
       "\n",
       "   depth         fr group  n_spikes  sh  si_unit_id  \n",
       "0   20.0   9.474292   mua     33069   0           5  \n",
       "1   40.0   1.879731   mua      6561   0           7  \n",
       "2   40.0  11.421351  good     39865   0           8  \n",
       "3   40.0  20.851808  good     72781   0           9  \n",
       "4   60.0   4.613521   mua     16103   0          10  "
      ]
     },
     "execution_count": 14,
     "metadata": {},
     "output_type": "execute_result"
    }
   ],
   "source": [
    "recording_to_cluster_info[list(recording_to_cluster_info.keys())[1]].head()"
   ]
  },
  {
   "cell_type": "markdown",
   "metadata": {},
   "source": [
    "- Combining all the unit info dataframes and adding the recording name"
   ]
  },
  {
   "cell_type": "code",
   "execution_count": 15,
   "metadata": {
    "tags": []
   },
   "outputs": [],
   "source": [
    "recording_to_cluster_info_df = pd.concat(recording_to_cluster_info, names=['recording_name']).reset_index(level=1, drop=True).reset_index()\n"
   ]
  },
  {
   "cell_type": "code",
   "execution_count": 16,
   "metadata": {
    "tags": []
   },
   "outputs": [
    {
     "data": {
      "text/html": [
       "<div>\n",
       "<style scoped>\n",
       "    .dataframe tbody tr th:only-of-type {\n",
       "        vertical-align: middle;\n",
       "    }\n",
       "\n",
       "    .dataframe tbody tr th {\n",
       "        vertical-align: top;\n",
       "    }\n",
       "\n",
       "    .dataframe thead th {\n",
       "        text-align: right;\n",
       "    }\n",
       "</style>\n",
       "<table border=\"1\" class=\"dataframe\">\n",
       "  <thead>\n",
       "    <tr style=\"text-align: right;\">\n",
       "      <th></th>\n",
       "      <th>recording_name</th>\n",
       "      <th>cluster_id</th>\n",
       "      <th>1_5_ms_isi</th>\n",
       "      <th>1ms_isi</th>\n",
       "      <th>2ms_isi</th>\n",
       "      <th>amp</th>\n",
       "      <th>ch</th>\n",
       "      <th>channel_group</th>\n",
       "      <th>depth</th>\n",
       "      <th>fr</th>\n",
       "      <th>group</th>\n",
       "      <th>n_spikes</th>\n",
       "      <th>sh</th>\n",
       "      <th>si_unit_id</th>\n",
       "    </tr>\n",
       "  </thead>\n",
       "  <tbody>\n",
       "    <tr>\n",
       "      <th>0</th>\n",
       "      <td>20230620_114347_standard_comp_to_omission_D4_s...</td>\n",
       "      <td>0</td>\n",
       "      <td>12</td>\n",
       "      <td>9</td>\n",
       "      <td>45</td>\n",
       "      <td>10.498872</td>\n",
       "      <td>0</td>\n",
       "      <td>0.0</td>\n",
       "      <td>0.0</td>\n",
       "      <td>4.379580</td>\n",
       "      <td>mua</td>\n",
       "      <td>14970</td>\n",
       "      <td>0</td>\n",
       "      <td>1.0</td>\n",
       "    </tr>\n",
       "    <tr>\n",
       "      <th>1</th>\n",
       "      <td>20230620_114347_standard_comp_to_omission_D4_s...</td>\n",
       "      <td>11</td>\n",
       "      <td>0</td>\n",
       "      <td>0</td>\n",
       "      <td>0</td>\n",
       "      <td>10.311028</td>\n",
       "      <td>5</td>\n",
       "      <td>0.0</td>\n",
       "      <td>100.0</td>\n",
       "      <td>0.230828</td>\n",
       "      <td>mua</td>\n",
       "      <td>789</td>\n",
       "      <td>0</td>\n",
       "      <td>12.0</td>\n",
       "    </tr>\n",
       "    <tr>\n",
       "      <th>2</th>\n",
       "      <td>20230620_114347_standard_comp_to_omission_D4_s...</td>\n",
       "      <td>14</td>\n",
       "      <td>4</td>\n",
       "      <td>0</td>\n",
       "      <td>7</td>\n",
       "      <td>8.454960</td>\n",
       "      <td>8</td>\n",
       "      <td>0.0</td>\n",
       "      <td>160.0</td>\n",
       "      <td>1.908058</td>\n",
       "      <td>good</td>\n",
       "      <td>6522</td>\n",
       "      <td>0</td>\n",
       "      <td>15.0</td>\n",
       "    </tr>\n",
       "    <tr>\n",
       "      <th>3</th>\n",
       "      <td>20230620_114347_standard_comp_to_omission_D4_s...</td>\n",
       "      <td>21</td>\n",
       "      <td>148</td>\n",
       "      <td>57</td>\n",
       "      <td>355</td>\n",
       "      <td>9.774931</td>\n",
       "      <td>11</td>\n",
       "      <td>0.0</td>\n",
       "      <td>220.0</td>\n",
       "      <td>10.004284</td>\n",
       "      <td>mua</td>\n",
       "      <td>34196</td>\n",
       "      <td>0</td>\n",
       "      <td>23.0</td>\n",
       "    </tr>\n",
       "    <tr>\n",
       "      <th>4</th>\n",
       "      <td>20230620_114347_standard_comp_to_omission_D4_s...</td>\n",
       "      <td>22</td>\n",
       "      <td>105</td>\n",
       "      <td>26</td>\n",
       "      <td>351</td>\n",
       "      <td>8.435524</td>\n",
       "      <td>12</td>\n",
       "      <td>0.0</td>\n",
       "      <td>240.0</td>\n",
       "      <td>13.887395</td>\n",
       "      <td>mua</td>\n",
       "      <td>47469</td>\n",
       "      <td>0</td>\n",
       "      <td>24.0</td>\n",
       "    </tr>\n",
       "  </tbody>\n",
       "</table>\n",
       "</div>"
      ],
      "text/plain": [
       "                                      recording_name  cluster_id  1_5_ms_isi  \\\n",
       "0  20230620_114347_standard_comp_to_omission_D4_s...           0          12   \n",
       "1  20230620_114347_standard_comp_to_omission_D4_s...          11           0   \n",
       "2  20230620_114347_standard_comp_to_omission_D4_s...          14           4   \n",
       "3  20230620_114347_standard_comp_to_omission_D4_s...          21         148   \n",
       "4  20230620_114347_standard_comp_to_omission_D4_s...          22         105   \n",
       "\n",
       "   1ms_isi  2ms_isi        amp  ch  channel_group  depth         fr group  \\\n",
       "0        9       45  10.498872   0            0.0    0.0   4.379580   mua   \n",
       "1        0        0  10.311028   5            0.0  100.0   0.230828   mua   \n",
       "2        0        7   8.454960   8            0.0  160.0   1.908058  good   \n",
       "3       57      355   9.774931  11            0.0  220.0  10.004284   mua   \n",
       "4       26      351   8.435524  12            0.0  240.0  13.887395   mua   \n",
       "\n",
       "   n_spikes  sh  si_unit_id  \n",
       "0     14970   0         1.0  \n",
       "1       789   0        12.0  \n",
       "2      6522   0        15.0  \n",
       "3     34196   0        23.0  \n",
       "4     47469   0        24.0  "
      ]
     },
     "execution_count": 16,
     "metadata": {},
     "output_type": "execute_result"
    }
   ],
   "source": [
    "recording_to_cluster_info_df.head()"
   ]
  },
  {
   "cell_type": "markdown",
   "metadata": {},
   "source": [
    "- Filtering for the good units"
   ]
  },
  {
   "cell_type": "code",
   "execution_count": 17,
   "metadata": {
    "tags": []
   },
   "outputs": [],
   "source": [
    "good_unit_cluster_info_df = recording_to_cluster_info_df[recording_to_cluster_info_df[\"group\"] == \"good\"].reset_index(drop=True)"
   ]
  },
  {
   "cell_type": "code",
   "execution_count": 18,
   "metadata": {
    "tags": []
   },
   "outputs": [
    {
     "data": {
      "text/html": [
       "<div>\n",
       "<style scoped>\n",
       "    .dataframe tbody tr th:only-of-type {\n",
       "        vertical-align: middle;\n",
       "    }\n",
       "\n",
       "    .dataframe tbody tr th {\n",
       "        vertical-align: top;\n",
       "    }\n",
       "\n",
       "    .dataframe thead th {\n",
       "        text-align: right;\n",
       "    }\n",
       "</style>\n",
       "<table border=\"1\" class=\"dataframe\">\n",
       "  <thead>\n",
       "    <tr style=\"text-align: right;\">\n",
       "      <th></th>\n",
       "      <th>recording_name</th>\n",
       "      <th>cluster_id</th>\n",
       "      <th>1_5_ms_isi</th>\n",
       "      <th>1ms_isi</th>\n",
       "      <th>2ms_isi</th>\n",
       "      <th>amp</th>\n",
       "      <th>ch</th>\n",
       "      <th>channel_group</th>\n",
       "      <th>depth</th>\n",
       "      <th>fr</th>\n",
       "      <th>group</th>\n",
       "      <th>n_spikes</th>\n",
       "      <th>sh</th>\n",
       "      <th>si_unit_id</th>\n",
       "    </tr>\n",
       "  </thead>\n",
       "  <tbody>\n",
       "    <tr>\n",
       "      <th>0</th>\n",
       "      <td>20230620_114347_standard_comp_to_omission_D4_s...</td>\n",
       "      <td>14</td>\n",
       "      <td>4</td>\n",
       "      <td>0</td>\n",
       "      <td>7</td>\n",
       "      <td>8.454960</td>\n",
       "      <td>8</td>\n",
       "      <td>0.0</td>\n",
       "      <td>160.0</td>\n",
       "      <td>1.908058</td>\n",
       "      <td>good</td>\n",
       "      <td>6522</td>\n",
       "      <td>0</td>\n",
       "      <td>15.0</td>\n",
       "    </tr>\n",
       "    <tr>\n",
       "      <th>1</th>\n",
       "      <td>20230620_114347_standard_comp_to_omission_D4_s...</td>\n",
       "      <td>28</td>\n",
       "      <td>2</td>\n",
       "      <td>1</td>\n",
       "      <td>7</td>\n",
       "      <td>8.708598</td>\n",
       "      <td>14</td>\n",
       "      <td>0.0</td>\n",
       "      <td>280.0</td>\n",
       "      <td>1.436163</td>\n",
       "      <td>good</td>\n",
       "      <td>4909</td>\n",
       "      <td>0</td>\n",
       "      <td>30.0</td>\n",
       "    </tr>\n",
       "    <tr>\n",
       "      <th>2</th>\n",
       "      <td>20230620_114347_standard_comp_to_omission_D4_s...</td>\n",
       "      <td>41</td>\n",
       "      <td>2</td>\n",
       "      <td>1</td>\n",
       "      <td>3</td>\n",
       "      <td>10.409801</td>\n",
       "      <td>19</td>\n",
       "      <td>0.0</td>\n",
       "      <td>380.0</td>\n",
       "      <td>1.583319</td>\n",
       "      <td>good</td>\n",
       "      <td>5412</td>\n",
       "      <td>0</td>\n",
       "      <td>43.0</td>\n",
       "    </tr>\n",
       "    <tr>\n",
       "      <th>3</th>\n",
       "      <td>20230620_114347_standard_comp_to_omission_D4_s...</td>\n",
       "      <td>42</td>\n",
       "      <td>6</td>\n",
       "      <td>1</td>\n",
       "      <td>8</td>\n",
       "      <td>11.904501</td>\n",
       "      <td>20</td>\n",
       "      <td>0.0</td>\n",
       "      <td>400.0</td>\n",
       "      <td>12.966718</td>\n",
       "      <td>good</td>\n",
       "      <td>44322</td>\n",
       "      <td>0</td>\n",
       "      <td>44.0</td>\n",
       "    </tr>\n",
       "    <tr>\n",
       "      <th>4</th>\n",
       "      <td>20230620_114347_standard_comp_to_omission_D4_s...</td>\n",
       "      <td>43</td>\n",
       "      <td>1</td>\n",
       "      <td>0</td>\n",
       "      <td>4</td>\n",
       "      <td>7.047093</td>\n",
       "      <td>26</td>\n",
       "      <td>0.0</td>\n",
       "      <td>520.0</td>\n",
       "      <td>1.489701</td>\n",
       "      <td>good</td>\n",
       "      <td>5092</td>\n",
       "      <td>0</td>\n",
       "      <td>45.0</td>\n",
       "    </tr>\n",
       "  </tbody>\n",
       "</table>\n",
       "</div>"
      ],
      "text/plain": [
       "                                      recording_name  cluster_id  1_5_ms_isi  \\\n",
       "0  20230620_114347_standard_comp_to_omission_D4_s...          14           4   \n",
       "1  20230620_114347_standard_comp_to_omission_D4_s...          28           2   \n",
       "2  20230620_114347_standard_comp_to_omission_D4_s...          41           2   \n",
       "3  20230620_114347_standard_comp_to_omission_D4_s...          42           6   \n",
       "4  20230620_114347_standard_comp_to_omission_D4_s...          43           1   \n",
       "\n",
       "   1ms_isi  2ms_isi        amp  ch  channel_group  depth         fr group  \\\n",
       "0        0        7   8.454960   8            0.0  160.0   1.908058  good   \n",
       "1        1        7   8.708598  14            0.0  280.0   1.436163  good   \n",
       "2        1        3  10.409801  19            0.0  380.0   1.583319  good   \n",
       "3        1        8  11.904501  20            0.0  400.0  12.966718  good   \n",
       "4        0        4   7.047093  26            0.0  520.0   1.489701  good   \n",
       "\n",
       "   n_spikes  sh  si_unit_id  \n",
       "0      6522   0        15.0  \n",
       "1      4909   0        30.0  \n",
       "2      5412   0        43.0  \n",
       "3     44322   0        44.0  \n",
       "4      5092   0        45.0  "
      ]
     },
     "execution_count": 18,
     "metadata": {},
     "output_type": "execute_result"
    }
   ],
   "source": [
    "good_unit_cluster_info_df.head()"
   ]
  },
  {
   "cell_type": "code",
   "execution_count": 19,
   "metadata": {
    "tags": []
   },
   "outputs": [],
   "source": [
    "recording_to_good_unit_ids = good_unit_cluster_info_df.groupby('recording_name')['cluster_id'].apply(list).to_dict()"
   ]
  },
  {
   "cell_type": "markdown",
   "metadata": {},
   "source": [
    "- A list of all the unit IDs that each spike came from in order\n",
    "    - First item is first spike, second item is second spike, etc."
   ]
  },
  {
   "cell_type": "code",
   "execution_count": 20,
   "metadata": {
    "tags": []
   },
   "outputs": [
    {
     "name": "stdout",
     "output_type": "stream",
     "text": [
      "[Errno 20] Not a directory: '/blue/npadillacoreano/ryoi360/projects/reward_comp/final_proc/phy_curation/rce_pilot_2_trodes_metadata.pkl/phy/spike_clusters.npy'\n",
      "[Errno 20] Not a directory: '/blue/npadillacoreano/ryoi360/projects/reward_comp/final_proc/phy_curation/rce_pilot_2_full_lfp_traces_and_video_frames.pkl/phy/spike_clusters.npy'\n",
      "[Errno 20] Not a directory: '/blue/npadillacoreano/ryoi360/projects/reward_comp/final_proc/phy_curation/rce_pilot_2_full_lfp_traces_and_sleap_poses.pkl/phy/spike_clusters.npy'\n"
     ]
    }
   ],
   "source": [
    "recording_to_spike_clusters = {}\n",
    "for recording_dir in ALL_PHY_DIR:\n",
    "    try:\n",
    "        recording_basename = os.path.basename(recording_dir).strip(\".rec\")\n",
    "        file_path = os.path.join(recording_dir, \"phy\", \"spike_clusters.npy\")\n",
    "        recording_to_spike_clusters[recording_basename] = np.load(file_path)\n",
    "    except Exception as e:\n",
    "        print(e)"
   ]
  },
  {
   "cell_type": "code",
   "execution_count": 21,
   "metadata": {
    "tags": []
   },
   "outputs": [
    {
     "data": {
      "text/plain": [
       "array([ 42,  42, 207, ...,  22, 229,  68], dtype=int32)"
      ]
     },
     "execution_count": 21,
     "metadata": {},
     "output_type": "execute_result"
    }
   ],
   "source": [
    "recording_to_spike_clusters[list(recording_to_spike_clusters.keys())[0]]"
   ]
  },
  {
   "cell_type": "code",
   "execution_count": 22,
   "metadata": {
    "tags": []
   },
   "outputs": [
    {
     "data": {
      "text/plain": [
       "(903326,)"
      ]
     },
     "execution_count": 22,
     "metadata": {},
     "output_type": "execute_result"
    }
   ],
   "source": [
    "recording_to_spike_clusters[list(recording_to_spike_clusters.keys())[0]].shape"
   ]
  },
  {
   "cell_type": "markdown",
   "metadata": {},
   "source": [
    "- The times that all the spikes happened"
   ]
  },
  {
   "cell_type": "code",
   "execution_count": 23,
   "metadata": {
    "tags": []
   },
   "outputs": [
    {
     "name": "stdout",
     "output_type": "stream",
     "text": [
      "[Errno 20] Not a directory: '/blue/npadillacoreano/ryoi360/projects/reward_comp/final_proc/phy_curation/rce_pilot_2_trodes_metadata.pkl/phy/spike_times.npy'\n",
      "[Errno 20] Not a directory: '/blue/npadillacoreano/ryoi360/projects/reward_comp/final_proc/phy_curation/rce_pilot_2_full_lfp_traces_and_video_frames.pkl/phy/spike_times.npy'\n",
      "[Errno 20] Not a directory: '/blue/npadillacoreano/ryoi360/projects/reward_comp/final_proc/phy_curation/rce_pilot_2_full_lfp_traces_and_sleap_poses.pkl/phy/spike_times.npy'\n"
     ]
    }
   ],
   "source": [
    "recording_to_spike_times = {}\n",
    "for recording_dir in ALL_PHY_DIR:\n",
    "    try:\n",
    "        recording_basename = os.path.basename(recording_dir).strip(\".rec\")\n",
    "        file_path = os.path.join(recording_dir, \"phy\", \"spike_times.npy\")\n",
    "        recording_to_spike_times[recording_basename] = np.load(file_path)\n",
    "    except Exception as e:\n",
    "        print(e)"
   ]
  },
  {
   "cell_type": "code",
   "execution_count": 24,
   "metadata": {
    "tags": []
   },
   "outputs": [
    {
     "data": {
      "text/plain": [
       "array([[     120],\n",
       "       [     262],\n",
       "       [     439],\n",
       "       ...,\n",
       "       [68362487],\n",
       "       [68362524],\n",
       "       [68362610]])"
      ]
     },
     "execution_count": 24,
     "metadata": {},
     "output_type": "execute_result"
    }
   ],
   "source": [
    "recording_to_spike_times[list(recording_to_spike_times.keys())[0]]"
   ]
  },
  {
   "cell_type": "code",
   "execution_count": 25,
   "metadata": {
    "tags": []
   },
   "outputs": [
    {
     "data": {
      "text/plain": [
       "(903326, 1)"
      ]
     },
     "execution_count": 25,
     "metadata": {},
     "output_type": "execute_result"
    }
   ],
   "source": [
    "recording_to_spike_times[list(recording_to_spike_times.keys())[0]].shape"
   ]
  },
  {
   "cell_type": "markdown",
   "metadata": {},
   "source": [
    "### Combining everything into a dataframe"
   ]
  },
  {
   "cell_type": "code",
   "execution_count": 26,
   "metadata": {
    "tags": []
   },
   "outputs": [
    {
     "name": "stdout",
     "output_type": "stream",
     "text": [
      "[Errno 20] Not a directory: '/blue/npadillacoreano/ryoi360/projects/reward_comp/final_proc/phy_curation/rce_pilot_2_trodes_metadata.pkl/phy/cluster_info.tsv'\n",
      "[Errno 20] Not a directory: '/blue/npadillacoreano/ryoi360/projects/reward_comp/final_proc/phy_curation/rce_pilot_2_full_lfp_traces_and_video_frames.pkl/phy/cluster_info.tsv'\n",
      "[Errno 20] Not a directory: '/blue/npadillacoreano/ryoi360/projects/reward_comp/final_proc/phy_curation/rce_pilot_2_full_lfp_traces_and_sleap_poses.pkl/phy/cluster_info.tsv'\n"
     ]
    }
   ],
   "source": [
    "recording_to_spike_df = {}\n",
    "for recording_dir in ALL_PHY_DIR:\n",
    "    try:\n",
    "        recording_basename = os.path.basename(recording_dir).strip(\".rec\")\n",
    "        cluster_info_path = os.path.join(recording_dir, \"phy\", \"cluster_info.tsv\")\n",
    "        cluster_info_df = pd.read_csv(cluster_info_path, sep=\"\\t\")\n",
    "\n",
    "        spike_clusters_path = os.path.join(recording_dir, \"phy\", \"spike_clusters.npy\")\n",
    "        spike_clusters = np.load(spike_clusters_path)\n",
    "        \n",
    "        spike_times_path = os.path.join(recording_dir, \"phy\", \"spike_times.npy\")\n",
    "        spike_times = np.load(spike_times_path)\n",
    "\n",
    "        spike_df = pd.DataFrame({'spike_clusters': spike_clusters, 'spike_times': spike_times.T[0]})\n",
    "\n",
    "        merged_df = spike_df.merge(cluster_info_df, left_on='spike_clusters', right_on='cluster_id', how=\"left\")\n",
    "        merged_df[\"recording_name\"] = recording_basename\n",
    "\n",
    "        merged_df[\"timestamp_isi\"] = merged_df.groupby('spike_clusters')[\"spike_times\"].diff()\n",
    "        merged_df[\"current_isi\"] = merged_df[\"timestamp_isi\"] / SAMPLING_RATE\n",
    "        \n",
    "        if not merged_df.empty:\n",
    "            recording_to_spike_df[recording_basename] = merged_df\n",
    "       \n",
    "    except Exception as e:\n",
    "        print(e)"
   ]
  },
  {
   "cell_type": "code",
   "execution_count": 27,
   "metadata": {
    "tags": []
   },
   "outputs": [
    {
     "data": {
      "text/html": [
       "<div>\n",
       "<style scoped>\n",
       "    .dataframe tbody tr th:only-of-type {\n",
       "        vertical-align: middle;\n",
       "    }\n",
       "\n",
       "    .dataframe tbody tr th {\n",
       "        vertical-align: top;\n",
       "    }\n",
       "\n",
       "    .dataframe thead th {\n",
       "        text-align: right;\n",
       "    }\n",
       "</style>\n",
       "<table border=\"1\" class=\"dataframe\">\n",
       "  <thead>\n",
       "    <tr style=\"text-align: right;\">\n",
       "      <th></th>\n",
       "      <th>cluster_id</th>\n",
       "      <th>1_5_ms_isi</th>\n",
       "      <th>1ms_isi</th>\n",
       "      <th>2ms_isi</th>\n",
       "      <th>amp</th>\n",
       "      <th>ch</th>\n",
       "      <th>channel_group</th>\n",
       "      <th>depth</th>\n",
       "      <th>fr</th>\n",
       "      <th>group</th>\n",
       "      <th>n_spikes</th>\n",
       "      <th>sh</th>\n",
       "      <th>si_unit_id</th>\n",
       "    </tr>\n",
       "  </thead>\n",
       "  <tbody>\n",
       "    <tr>\n",
       "      <th>0</th>\n",
       "      <td>2</td>\n",
       "      <td>0</td>\n",
       "      <td>0</td>\n",
       "      <td>0</td>\n",
       "      <td>24.692951</td>\n",
       "      <td>1</td>\n",
       "      <td>0.0</td>\n",
       "      <td>20.0</td>\n",
       "      <td>1.070175</td>\n",
       "      <td>good</td>\n",
       "      <td>3658</td>\n",
       "      <td>0</td>\n",
       "      <td>3.0</td>\n",
       "    </tr>\n",
       "    <tr>\n",
       "      <th>1</th>\n",
       "      <td>3</td>\n",
       "      <td>235</td>\n",
       "      <td>106</td>\n",
       "      <td>472</td>\n",
       "      <td>10.347874</td>\n",
       "      <td>1</td>\n",
       "      <td>0.0</td>\n",
       "      <td>20.0</td>\n",
       "      <td>14.493880</td>\n",
       "      <td>mua</td>\n",
       "      <td>49542</td>\n",
       "      <td>0</td>\n",
       "      <td>4.0</td>\n",
       "    </tr>\n",
       "    <tr>\n",
       "      <th>2</th>\n",
       "      <td>4</td>\n",
       "      <td>64</td>\n",
       "      <td>25</td>\n",
       "      <td>149</td>\n",
       "      <td>11.953332</td>\n",
       "      <td>4</td>\n",
       "      <td>0.0</td>\n",
       "      <td>80.0</td>\n",
       "      <td>27.163371</td>\n",
       "      <td>mua</td>\n",
       "      <td>92848</td>\n",
       "      <td>0</td>\n",
       "      <td>5.0</td>\n",
       "    </tr>\n",
       "    <tr>\n",
       "      <th>3</th>\n",
       "      <td>10</td>\n",
       "      <td>69</td>\n",
       "      <td>29</td>\n",
       "      <td>194</td>\n",
       "      <td>10.297276</td>\n",
       "      <td>18</td>\n",
       "      <td>0.0</td>\n",
       "      <td>360.0</td>\n",
       "      <td>6.455279</td>\n",
       "      <td>mua</td>\n",
       "      <td>22065</td>\n",
       "      <td>0</td>\n",
       "      <td>12.0</td>\n",
       "    </tr>\n",
       "    <tr>\n",
       "      <th>4</th>\n",
       "      <td>11</td>\n",
       "      <td>619</td>\n",
       "      <td>261</td>\n",
       "      <td>1295</td>\n",
       "      <td>9.638424</td>\n",
       "      <td>19</td>\n",
       "      <td>0.0</td>\n",
       "      <td>380.0</td>\n",
       "      <td>18.195901</td>\n",
       "      <td>mua</td>\n",
       "      <td>62196</td>\n",
       "      <td>0</td>\n",
       "      <td>13.0</td>\n",
       "    </tr>\n",
       "  </tbody>\n",
       "</table>\n",
       "</div>"
      ],
      "text/plain": [
       "   cluster_id  1_5_ms_isi  1ms_isi  2ms_isi        amp  ch  channel_group  \\\n",
       "0           2           0        0        0  24.692951   1            0.0   \n",
       "1           3         235      106      472  10.347874   1            0.0   \n",
       "2           4          64       25      149  11.953332   4            0.0   \n",
       "3          10          69       29      194  10.297276  18            0.0   \n",
       "4          11         619      261     1295   9.638424  19            0.0   \n",
       "\n",
       "   depth         fr group  n_spikes  sh  si_unit_id  \n",
       "0   20.0   1.070175  good      3658   0         3.0  \n",
       "1   20.0  14.493880   mua     49542   0         4.0  \n",
       "2   80.0  27.163371   mua     92848   0         5.0  \n",
       "3  360.0   6.455279   mua     22065   0        12.0  \n",
       "4  380.0  18.195901   mua     62196   0        13.0  "
      ]
     },
     "execution_count": 27,
     "metadata": {},
     "output_type": "execute_result"
    }
   ],
   "source": [
    "cluster_info_df.head()"
   ]
  },
  {
   "cell_type": "code",
   "execution_count": 28,
   "metadata": {
    "tags": []
   },
   "outputs": [
    {
     "data": {
      "text/plain": [
       "array([[     160],\n",
       "       [     483],\n",
       "       [     503],\n",
       "       ...,\n",
       "       [68361973],\n",
       "       [68362204],\n",
       "       [68362381]])"
      ]
     },
     "execution_count": 28,
     "metadata": {},
     "output_type": "execute_result"
    }
   ],
   "source": [
    "spike_times"
   ]
  },
  {
   "cell_type": "code",
   "execution_count": 29,
   "metadata": {
    "tags": []
   },
   "outputs": [
    {
     "data": {
      "text/plain": [
       "array([ 4,  4, 11, ...,  4,  4, 87], dtype=int32)"
      ]
     },
     "execution_count": 29,
     "metadata": {},
     "output_type": "execute_result"
    }
   ],
   "source": [
    "spike_clusters"
   ]
  },
  {
   "cell_type": "markdown",
   "metadata": {},
   "source": [
    "- Combining the spike time df for all recordings"
   ]
  },
  {
   "cell_type": "code",
   "execution_count": 30,
   "metadata": {
    "tags": []
   },
   "outputs": [],
   "source": [
    "all_spike_time_df = pd.concat(recording_to_spike_df.values())"
   ]
  },
  {
   "cell_type": "code",
   "execution_count": 31,
   "metadata": {
    "tags": []
   },
   "outputs": [],
   "source": [
    "all_spike_time_df = all_spike_time_df[all_spike_time_df[\"group\"] == \"good\"].reset_index(drop=True)"
   ]
  },
  {
   "cell_type": "code",
   "execution_count": 32,
   "metadata": {
    "tags": []
   },
   "outputs": [
    {
     "data": {
      "text/html": [
       "<div>\n",
       "<style scoped>\n",
       "    .dataframe tbody tr th:only-of-type {\n",
       "        vertical-align: middle;\n",
       "    }\n",
       "\n",
       "    .dataframe tbody tr th {\n",
       "        vertical-align: top;\n",
       "    }\n",
       "\n",
       "    .dataframe thead th {\n",
       "        text-align: right;\n",
       "    }\n",
       "</style>\n",
       "<table border=\"1\" class=\"dataframe\">\n",
       "  <thead>\n",
       "    <tr style=\"text-align: right;\">\n",
       "      <th></th>\n",
       "      <th>spike_clusters</th>\n",
       "      <th>spike_times</th>\n",
       "      <th>cluster_id</th>\n",
       "      <th>1_5_ms_isi</th>\n",
       "      <th>1ms_isi</th>\n",
       "      <th>2ms_isi</th>\n",
       "      <th>amp</th>\n",
       "      <th>ch</th>\n",
       "      <th>channel_group</th>\n",
       "      <th>depth</th>\n",
       "      <th>fr</th>\n",
       "      <th>group</th>\n",
       "      <th>n_spikes</th>\n",
       "      <th>sh</th>\n",
       "      <th>si_unit_id</th>\n",
       "      <th>recording_name</th>\n",
       "      <th>timestamp_isi</th>\n",
       "      <th>current_isi</th>\n",
       "    </tr>\n",
       "  </thead>\n",
       "  <tbody>\n",
       "    <tr>\n",
       "      <th>0</th>\n",
       "      <td>42</td>\n",
       "      <td>120</td>\n",
       "      <td>42</td>\n",
       "      <td>6</td>\n",
       "      <td>1</td>\n",
       "      <td>8</td>\n",
       "      <td>11.904501</td>\n",
       "      <td>20</td>\n",
       "      <td>0.0</td>\n",
       "      <td>400.0</td>\n",
       "      <td>12.966718</td>\n",
       "      <td>good</td>\n",
       "      <td>44322</td>\n",
       "      <td>0</td>\n",
       "      <td>44.0</td>\n",
       "      <td>20230620_114347_standard_comp_to_omission_D4_s...</td>\n",
       "      <td>NaN</td>\n",
       "      <td>NaN</td>\n",
       "    </tr>\n",
       "    <tr>\n",
       "      <th>1</th>\n",
       "      <td>42</td>\n",
       "      <td>262</td>\n",
       "      <td>42</td>\n",
       "      <td>6</td>\n",
       "      <td>1</td>\n",
       "      <td>8</td>\n",
       "      <td>11.904501</td>\n",
       "      <td>20</td>\n",
       "      <td>0.0</td>\n",
       "      <td>400.0</td>\n",
       "      <td>12.966718</td>\n",
       "      <td>good</td>\n",
       "      <td>44322</td>\n",
       "      <td>0</td>\n",
       "      <td>44.0</td>\n",
       "      <td>20230620_114347_standard_comp_to_omission_D4_s...</td>\n",
       "      <td>142.0</td>\n",
       "      <td>0.00710</td>\n",
       "    </tr>\n",
       "    <tr>\n",
       "      <th>2</th>\n",
       "      <td>207</td>\n",
       "      <td>439</td>\n",
       "      <td>207</td>\n",
       "      <td>1</td>\n",
       "      <td>0</td>\n",
       "      <td>5</td>\n",
       "      <td>16.813625</td>\n",
       "      <td>17</td>\n",
       "      <td>0.0</td>\n",
       "      <td>340.0</td>\n",
       "      <td>4.308197</td>\n",
       "      <td>good</td>\n",
       "      <td>14726</td>\n",
       "      <td>0</td>\n",
       "      <td>36.0</td>\n",
       "      <td>20230620_114347_standard_comp_to_omission_D4_s...</td>\n",
       "      <td>NaN</td>\n",
       "      <td>NaN</td>\n",
       "    </tr>\n",
       "    <tr>\n",
       "      <th>3</th>\n",
       "      <td>207</td>\n",
       "      <td>632</td>\n",
       "      <td>207</td>\n",
       "      <td>1</td>\n",
       "      <td>0</td>\n",
       "      <td>5</td>\n",
       "      <td>16.813625</td>\n",
       "      <td>17</td>\n",
       "      <td>0.0</td>\n",
       "      <td>340.0</td>\n",
       "      <td>4.308197</td>\n",
       "      <td>good</td>\n",
       "      <td>14726</td>\n",
       "      <td>0</td>\n",
       "      <td>36.0</td>\n",
       "      <td>20230620_114347_standard_comp_to_omission_D4_s...</td>\n",
       "      <td>193.0</td>\n",
       "      <td>0.00965</td>\n",
       "    </tr>\n",
       "    <tr>\n",
       "      <th>4</th>\n",
       "      <td>262</td>\n",
       "      <td>723</td>\n",
       "      <td>262</td>\n",
       "      <td>0</td>\n",
       "      <td>0</td>\n",
       "      <td>0</td>\n",
       "      <td>20.012720</td>\n",
       "      <td>19</td>\n",
       "      <td>0.0</td>\n",
       "      <td>380.0</td>\n",
       "      <td>2.037368</td>\n",
       "      <td>good</td>\n",
       "      <td>6964</td>\n",
       "      <td>0</td>\n",
       "      <td>39.0</td>\n",
       "      <td>20230620_114347_standard_comp_to_omission_D4_s...</td>\n",
       "      <td>NaN</td>\n",
       "      <td>NaN</td>\n",
       "    </tr>\n",
       "  </tbody>\n",
       "</table>\n",
       "</div>"
      ],
      "text/plain": [
       "   spike_clusters  spike_times  cluster_id  1_5_ms_isi  1ms_isi  2ms_isi  \\\n",
       "0              42          120          42           6        1        8   \n",
       "1              42          262          42           6        1        8   \n",
       "2             207          439         207           1        0        5   \n",
       "3             207          632         207           1        0        5   \n",
       "4             262          723         262           0        0        0   \n",
       "\n",
       "         amp  ch  channel_group  depth         fr group  n_spikes  sh  \\\n",
       "0  11.904501  20            0.0  400.0  12.966718  good     44322   0   \n",
       "1  11.904501  20            0.0  400.0  12.966718  good     44322   0   \n",
       "2  16.813625  17            0.0  340.0   4.308197  good     14726   0   \n",
       "3  16.813625  17            0.0  340.0   4.308197  good     14726   0   \n",
       "4  20.012720  19            0.0  380.0   2.037368  good      6964   0   \n",
       "\n",
       "   si_unit_id                                     recording_name  \\\n",
       "0        44.0  20230620_114347_standard_comp_to_omission_D4_s...   \n",
       "1        44.0  20230620_114347_standard_comp_to_omission_D4_s...   \n",
       "2        36.0  20230620_114347_standard_comp_to_omission_D4_s...   \n",
       "3        36.0  20230620_114347_standard_comp_to_omission_D4_s...   \n",
       "4        39.0  20230620_114347_standard_comp_to_omission_D4_s...   \n",
       "\n",
       "   timestamp_isi  current_isi  \n",
       "0            NaN          NaN  \n",
       "1          142.0      0.00710  \n",
       "2            NaN          NaN  \n",
       "3          193.0      0.00965  \n",
       "4            NaN          NaN  "
      ]
     },
     "execution_count": 32,
     "metadata": {},
     "output_type": "execute_result"
    }
   ],
   "source": [
    "all_spike_time_df.head()"
   ]
  },
  {
   "cell_type": "code",
   "execution_count": 33,
   "metadata": {
    "tags": []
   },
   "outputs": [
    {
     "data": {
      "text/html": [
       "<div>\n",
       "<style scoped>\n",
       "    .dataframe tbody tr th:only-of-type {\n",
       "        vertical-align: middle;\n",
       "    }\n",
       "\n",
       "    .dataframe tbody tr th {\n",
       "        vertical-align: top;\n",
       "    }\n",
       "\n",
       "    .dataframe thead th {\n",
       "        text-align: right;\n",
       "    }\n",
       "</style>\n",
       "<table border=\"1\" class=\"dataframe\">\n",
       "  <thead>\n",
       "    <tr style=\"text-align: right;\">\n",
       "      <th></th>\n",
       "      <th>spike_clusters</th>\n",
       "      <th>spike_times</th>\n",
       "      <th>cluster_id</th>\n",
       "      <th>1_5_ms_isi</th>\n",
       "      <th>1ms_isi</th>\n",
       "      <th>2ms_isi</th>\n",
       "      <th>amp</th>\n",
       "      <th>ch</th>\n",
       "      <th>channel_group</th>\n",
       "      <th>depth</th>\n",
       "      <th>fr</th>\n",
       "      <th>group</th>\n",
       "      <th>n_spikes</th>\n",
       "      <th>sh</th>\n",
       "      <th>si_unit_id</th>\n",
       "      <th>recording_name</th>\n",
       "      <th>timestamp_isi</th>\n",
       "      <th>current_isi</th>\n",
       "    </tr>\n",
       "  </thead>\n",
       "  <tbody>\n",
       "    <tr>\n",
       "      <th>2017369</th>\n",
       "      <td>64</td>\n",
       "      <td>68356117</td>\n",
       "      <td>64</td>\n",
       "      <td>4</td>\n",
       "      <td>1</td>\n",
       "      <td>12</td>\n",
       "      <td>10.794415</td>\n",
       "      <td>14</td>\n",
       "      <td>0.0</td>\n",
       "      <td>280.0</td>\n",
       "      <td>7.735803</td>\n",
       "      <td>good</td>\n",
       "      <td>26442</td>\n",
       "      <td>0</td>\n",
       "      <td>9.0</td>\n",
       "      <td>20230620_114347_standard_comp_to_omission_D4_s...</td>\n",
       "      <td>392.0</td>\n",
       "      <td>0.0196</td>\n",
       "    </tr>\n",
       "    <tr>\n",
       "      <th>2017370</th>\n",
       "      <td>89</td>\n",
       "      <td>68356258</td>\n",
       "      <td>89</td>\n",
       "      <td>11</td>\n",
       "      <td>11</td>\n",
       "      <td>13</td>\n",
       "      <td>17.238409</td>\n",
       "      <td>26</td>\n",
       "      <td>0.0</td>\n",
       "      <td>520.0</td>\n",
       "      <td>15.528948</td>\n",
       "      <td>good</td>\n",
       "      <td>53080</td>\n",
       "      <td>0</td>\n",
       "      <td>21.0</td>\n",
       "      <td>20230620_114347_standard_comp_to_omission_D4_s...</td>\n",
       "      <td>3360.0</td>\n",
       "      <td>0.1680</td>\n",
       "    </tr>\n",
       "    <tr>\n",
       "      <th>2017371</th>\n",
       "      <td>64</td>\n",
       "      <td>68357205</td>\n",
       "      <td>64</td>\n",
       "      <td>4</td>\n",
       "      <td>1</td>\n",
       "      <td>12</td>\n",
       "      <td>10.794415</td>\n",
       "      <td>14</td>\n",
       "      <td>0.0</td>\n",
       "      <td>280.0</td>\n",
       "      <td>7.735803</td>\n",
       "      <td>good</td>\n",
       "      <td>26442</td>\n",
       "      <td>0</td>\n",
       "      <td>9.0</td>\n",
       "      <td>20230620_114347_standard_comp_to_omission_D4_s...</td>\n",
       "      <td>1088.0</td>\n",
       "      <td>0.0544</td>\n",
       "    </tr>\n",
       "    <tr>\n",
       "      <th>2017372</th>\n",
       "      <td>89</td>\n",
       "      <td>68357578</td>\n",
       "      <td>89</td>\n",
       "      <td>11</td>\n",
       "      <td>11</td>\n",
       "      <td>13</td>\n",
       "      <td>17.238409</td>\n",
       "      <td>26</td>\n",
       "      <td>0.0</td>\n",
       "      <td>520.0</td>\n",
       "      <td>15.528948</td>\n",
       "      <td>good</td>\n",
       "      <td>53080</td>\n",
       "      <td>0</td>\n",
       "      <td>21.0</td>\n",
       "      <td>20230620_114347_standard_comp_to_omission_D4_s...</td>\n",
       "      <td>1320.0</td>\n",
       "      <td>0.0660</td>\n",
       "    </tr>\n",
       "    <tr>\n",
       "      <th>2017373</th>\n",
       "      <td>64</td>\n",
       "      <td>68358945</td>\n",
       "      <td>64</td>\n",
       "      <td>4</td>\n",
       "      <td>1</td>\n",
       "      <td>12</td>\n",
       "      <td>10.794415</td>\n",
       "      <td>14</td>\n",
       "      <td>0.0</td>\n",
       "      <td>280.0</td>\n",
       "      <td>7.735803</td>\n",
       "      <td>good</td>\n",
       "      <td>26442</td>\n",
       "      <td>0</td>\n",
       "      <td>9.0</td>\n",
       "      <td>20230620_114347_standard_comp_to_omission_D4_s...</td>\n",
       "      <td>1740.0</td>\n",
       "      <td>0.0870</td>\n",
       "    </tr>\n",
       "  </tbody>\n",
       "</table>\n",
       "</div>"
      ],
      "text/plain": [
       "         spike_clusters  spike_times  cluster_id  1_5_ms_isi  1ms_isi  \\\n",
       "2017369              64     68356117          64           4        1   \n",
       "2017370              89     68356258          89          11       11   \n",
       "2017371              64     68357205          64           4        1   \n",
       "2017372              89     68357578          89          11       11   \n",
       "2017373              64     68358945          64           4        1   \n",
       "\n",
       "         2ms_isi        amp  ch  channel_group  depth         fr group  \\\n",
       "2017369       12  10.794415  14            0.0  280.0   7.735803  good   \n",
       "2017370       13  17.238409  26            0.0  520.0  15.528948  good   \n",
       "2017371       12  10.794415  14            0.0  280.0   7.735803  good   \n",
       "2017372       13  17.238409  26            0.0  520.0  15.528948  good   \n",
       "2017373       12  10.794415  14            0.0  280.0   7.735803  good   \n",
       "\n",
       "         n_spikes  sh  si_unit_id  \\\n",
       "2017369     26442   0         9.0   \n",
       "2017370     53080   0        21.0   \n",
       "2017371     26442   0         9.0   \n",
       "2017372     53080   0        21.0   \n",
       "2017373     26442   0         9.0   \n",
       "\n",
       "                                            recording_name  timestamp_isi  \\\n",
       "2017369  20230620_114347_standard_comp_to_omission_D4_s...          392.0   \n",
       "2017370  20230620_114347_standard_comp_to_omission_D4_s...         3360.0   \n",
       "2017371  20230620_114347_standard_comp_to_omission_D4_s...         1088.0   \n",
       "2017372  20230620_114347_standard_comp_to_omission_D4_s...         1320.0   \n",
       "2017373  20230620_114347_standard_comp_to_omission_D4_s...         1740.0   \n",
       "\n",
       "         current_isi  \n",
       "2017369       0.0196  \n",
       "2017370       0.1680  \n",
       "2017371       0.0544  \n",
       "2017372       0.0660  \n",
       "2017373       0.0870  "
      ]
     },
     "execution_count": 33,
     "metadata": {},
     "output_type": "execute_result"
    }
   ],
   "source": [
    "all_spike_time_df.tail()"
   ]
  },
  {
   "cell_type": "markdown",
   "metadata": {},
   "source": [
    "## Grouping all the neurons by recording"
   ]
  },
  {
   "cell_type": "code",
   "execution_count": 34,
   "metadata": {
    "tags": []
   },
   "outputs": [],
   "source": [
    "# Grouping all spike times by neuron and recording\n",
    "\n",
    "grouped_df = all_spike_time_df.groupby(['spike_clusters', 'recording_name'])[\"spike_times\"].apply(lambda x: sorted(list(x))).reset_index()\n",
    "grouped_df = grouped_df.sort_values(by=['recording_name', 'spike_clusters']).reset_index(drop=True)\n",
    "grouped_df = grouped_df.groupby('recording_name').agg({'spike_clusters': lambda x: list(x), 'spike_times': lambda x: list(x)}).reset_index()"
   ]
  },
  {
   "cell_type": "code",
   "execution_count": 35,
   "metadata": {
    "tags": []
   },
   "outputs": [
    {
     "data": {
      "text/html": [
       "<div>\n",
       "<style scoped>\n",
       "    .dataframe tbody tr th:only-of-type {\n",
       "        vertical-align: middle;\n",
       "    }\n",
       "\n",
       "    .dataframe tbody tr th {\n",
       "        vertical-align: top;\n",
       "    }\n",
       "\n",
       "    .dataframe thead th {\n",
       "        text-align: right;\n",
       "    }\n",
       "</style>\n",
       "<table border=\"1\" class=\"dataframe\">\n",
       "  <thead>\n",
       "    <tr style=\"text-align: right;\">\n",
       "      <th></th>\n",
       "      <th>recording_name</th>\n",
       "      <th>spike_clusters</th>\n",
       "      <th>spike_times</th>\n",
       "    </tr>\n",
       "  </thead>\n",
       "  <tbody>\n",
       "    <tr>\n",
       "      <th>0</th>\n",
       "      <td>20230617_115521_standard_comp_to_omission_D1_s...</td>\n",
       "      <td>[3, 4, 5, 6, 17, 28, 29, 39, 48, 52, 53, 54, 5...</td>\n",
       "      <td>[[673223, 2367433, 2569212, 3969647, 3973243, ...</td>\n",
       "    </tr>\n",
       "    <tr>\n",
       "      <th>1</th>\n",
       "      <td>20230617_115521_standard_comp_to_omission_D1_s...</td>\n",
       "      <td>[16, 17, 20, 25, 26, 34, 35, 39, 40, 42, 43, 4...</td>\n",
       "      <td>[[958, 5233, 6331, 7475, 8599, 10550, 23459, 2...</td>\n",
       "    </tr>\n",
       "    <tr>\n",
       "      <th>2</th>\n",
       "      <td>20230618_100636_standard_comp_to_omission_D2_s...</td>\n",
       "      <td>[7, 11, 12, 48, 50, 51, 61, 64, 76, 84, 90, 98...</td>\n",
       "      <td>[[506, 1419, 2358, 5104, 6785, 7620, 9801, 120...</td>\n",
       "    </tr>\n",
       "    <tr>\n",
       "      <th>3</th>\n",
       "      <td>20230618_100636_standard_comp_to_omission_D2_s...</td>\n",
       "      <td>[9, 19, 65, 83, 87, 93, 99, 103, 105, 106, 118...</td>\n",
       "      <td>[[458431, 506645, 509846, 545481, 571000, 6011...</td>\n",
       "    </tr>\n",
       "    <tr>\n",
       "      <th>4</th>\n",
       "      <td>20230619_115321_standard_comp_to_omission_D3_s...</td>\n",
       "      <td>[11, 44, 132, 134, 186, 187, 227, 250, 252, 25...</td>\n",
       "      <td>[[17747, 20655, 24011, 34755, 67305, 110220, 1...</td>\n",
       "    </tr>\n",
       "    <tr>\n",
       "      <th>5</th>\n",
       "      <td>20230620_114347_standard_comp_to_omission_D4_s...</td>\n",
       "      <td>[2, 22, 64, 89, 98, 100, 119, 121, 122, 126]</td>\n",
       "      <td>[[264055, 325873, 327931, 330996, 334463, 3590...</td>\n",
       "    </tr>\n",
       "    <tr>\n",
       "      <th>6</th>\n",
       "      <td>20230620_114347_standard_comp_to_omission_D4_s...</td>\n",
       "      <td>[14, 28, 41, 42, 43, 45, 48, 53, 58, 68, 124, ...</td>\n",
       "      <td>[[5884, 7172, 11405, 19311, 19371, 23729, 2627...</td>\n",
       "    </tr>\n",
       "    <tr>\n",
       "      <th>7</th>\n",
       "      <td>20230621_111240_standard_comp_to_omission_D5_s...</td>\n",
       "      <td>[6, 7, 13, 15, 16, 17, 22, 24, 26, 36, 37, 46,...</td>\n",
       "      <td>[[1891, 5872, 8366, 16312, 17233, 24302, 24337...</td>\n",
       "    </tr>\n",
       "  </tbody>\n",
       "</table>\n",
       "</div>"
      ],
      "text/plain": [
       "                                      recording_name  \\\n",
       "0  20230617_115521_standard_comp_to_omission_D1_s...   \n",
       "1  20230617_115521_standard_comp_to_omission_D1_s...   \n",
       "2  20230618_100636_standard_comp_to_omission_D2_s...   \n",
       "3  20230618_100636_standard_comp_to_omission_D2_s...   \n",
       "4  20230619_115321_standard_comp_to_omission_D3_s...   \n",
       "5  20230620_114347_standard_comp_to_omission_D4_s...   \n",
       "6  20230620_114347_standard_comp_to_omission_D4_s...   \n",
       "7  20230621_111240_standard_comp_to_omission_D5_s...   \n",
       "\n",
       "                                      spike_clusters  \\\n",
       "0  [3, 4, 5, 6, 17, 28, 29, 39, 48, 52, 53, 54, 5...   \n",
       "1  [16, 17, 20, 25, 26, 34, 35, 39, 40, 42, 43, 4...   \n",
       "2  [7, 11, 12, 48, 50, 51, 61, 64, 76, 84, 90, 98...   \n",
       "3  [9, 19, 65, 83, 87, 93, 99, 103, 105, 106, 118...   \n",
       "4  [11, 44, 132, 134, 186, 187, 227, 250, 252, 25...   \n",
       "5       [2, 22, 64, 89, 98, 100, 119, 121, 122, 126]   \n",
       "6  [14, 28, 41, 42, 43, 45, 48, 53, 58, 68, 124, ...   \n",
       "7  [6, 7, 13, 15, 16, 17, 22, 24, 26, 36, 37, 46,...   \n",
       "\n",
       "                                         spike_times  \n",
       "0  [[673223, 2367433, 2569212, 3969647, 3973243, ...  \n",
       "1  [[958, 5233, 6331, 7475, 8599, 10550, 23459, 2...  \n",
       "2  [[506, 1419, 2358, 5104, 6785, 7620, 9801, 120...  \n",
       "3  [[458431, 506645, 509846, 545481, 571000, 6011...  \n",
       "4  [[17747, 20655, 24011, 34755, 67305, 110220, 1...  \n",
       "5  [[264055, 325873, 327931, 330996, 334463, 3590...  \n",
       "6  [[5884, 7172, 11405, 19311, 19371, 23729, 2627...  \n",
       "7  [[1891, 5872, 8366, 16312, 17233, 24302, 24337...  "
      ]
     },
     "execution_count": 35,
     "metadata": {},
     "output_type": "execute_result"
    }
   ],
   "source": [
    "grouped_df"
   ]
  },
  {
   "cell_type": "code",
   "execution_count": 36,
   "metadata": {
    "tags": []
   },
   "outputs": [],
   "source": [
    "LFP_SPECTRAL_DF = pd.merge(LFP_SPECTRAL_DF, grouped_df, left_on='recording', right_on=\"recording_name\", how='inner')"
   ]
  },
  {
   "cell_type": "markdown",
   "metadata": {},
   "source": [
    "## Calculating the firing rates"
   ]
  },
  {
   "cell_type": "code",
   "execution_count": 37,
   "metadata": {
    "tags": []
   },
   "outputs": [
    {
     "data": {
      "text/plain": [
       "Index(['cohort', 'session_dir', 'original_file', 'tone_frames',\n",
       "       'box_1_port_entry_frames', 'box_2_port_entry_frames', 'video_name',\n",
       "       'session_path', 'recording', 'subject', 'all_subjects',\n",
       "       'first_timestamp', 'last_timestamp', 'video_timestamps',\n",
       "       'tone_timestamps', 'box_1_port_entry_timestamps',\n",
       "       'box_2_port_entry_timestamps', 'lfp_timestamps', 'mPFC_lfp_trace',\n",
       "       'MD_lfp_trace', 'LH_lfp_trace', 'BLA_lfp_trace', 'vHPC_lfp_trace',\n",
       "       'mPFC_power_all_frequencies_all_windows',\n",
       "       'MD_power_all_frequencies_all_windows',\n",
       "       'LH_power_all_frequencies_all_windows',\n",
       "       'BLA_power_all_frequencies_all_windows',\n",
       "       'vHPC_power_all_frequencies_all_windows', 'power_timestamps',\n",
       "       'power_calculation_frequencies',\n",
       "       'BLA_LH_coherence_all_frequencies_all_windows',\n",
       "       'BLA_MD_coherence_all_frequencies_all_windows',\n",
       "       'BLA_mPFC_coherence_all_frequencies_all_windows',\n",
       "       'BLA_vHPC_coherence_all_frequencies_all_windows',\n",
       "       'LH_MD_coherence_all_frequencies_all_windows',\n",
       "       'LH_mPFC_coherence_all_frequencies_all_windows',\n",
       "       'LH_vHPC_coherence_all_frequencies_all_windows',\n",
       "       'MD_mPFC_coherence_all_frequencies_all_windows',\n",
       "       'MD_vHPC_coherence_all_frequencies_all_windows',\n",
       "       'mPFC_vHPC_coherence_all_frequencies_all_windows',\n",
       "       'coherence_timestamps', 'coherence_calculation_frequencies',\n",
       "       'BLA_LH_granger_all_frequencies_all_windows',\n",
       "       'LH_BLA_granger_all_frequencies_all_windows',\n",
       "       'BLA_MD_granger_all_frequencies_all_windows',\n",
       "       'MD_BLA_granger_all_frequencies_all_windows',\n",
       "       'BLA_mPFC_granger_all_frequencies_all_windows',\n",
       "       'mPFC_BLA_granger_all_frequencies_all_windows',\n",
       "       'BLA_vHPC_granger_all_frequencies_all_windows',\n",
       "       'vHPC_BLA_granger_all_frequencies_all_windows',\n",
       "       'LH_MD_granger_all_frequencies_all_windows',\n",
       "       'MD_LH_granger_all_frequencies_all_windows',\n",
       "       'LH_mPFC_granger_all_frequencies_all_windows',\n",
       "       'mPFC_LH_granger_all_frequencies_all_windows',\n",
       "       'LH_vHPC_granger_all_frequencies_all_windows',\n",
       "       'vHPC_LH_granger_all_frequencies_all_windows',\n",
       "       'MD_mPFC_granger_all_frequencies_all_windows',\n",
       "       'mPFC_MD_granger_all_frequencies_all_windows',\n",
       "       'MD_vHPC_granger_all_frequencies_all_windows',\n",
       "       'vHPC_MD_granger_all_frequencies_all_windows',\n",
       "       'mPFC_vHPC_granger_all_frequencies_all_windows',\n",
       "       'vHPC_mPFC_granger_all_frequencies_all_windows', 'granger_timestamps',\n",
       "       'granger_calculation_frequencies', 'box_top_left', 'box_top_right',\n",
       "       'reward_port', 'box_bottom_left', 'box_bottom_right', 'agent',\n",
       "       'subject_locations', 'agent_locations', 'file_path', 'tracked_subject',\n",
       "       'in_video_subjects', 'notes', 'sleap_filename', 'sleap_fileroot',\n",
       "       'start_stop_frame', 'start_stop_timestamps', 'recording_name',\n",
       "       'spike_clusters', 'spike_times'],\n",
       "      dtype='object')"
      ]
     },
     "execution_count": 37,
     "metadata": {},
     "output_type": "execute_result"
    }
   ],
   "source": [
    "LFP_SPECTRAL_DF.columns"
   ]
  },
  {
   "cell_type": "code",
   "execution_count": 38,
   "metadata": {
    "tags": []
   },
   "outputs": [
    {
     "data": {
      "text/html": [
       "<div>\n",
       "<style scoped>\n",
       "    .dataframe tbody tr th:only-of-type {\n",
       "        vertical-align: middle;\n",
       "    }\n",
       "\n",
       "    .dataframe tbody tr th {\n",
       "        vertical-align: top;\n",
       "    }\n",
       "\n",
       "    .dataframe thead th {\n",
       "        text-align: right;\n",
       "    }\n",
       "</style>\n",
       "<table border=\"1\" class=\"dataframe\">\n",
       "  <thead>\n",
       "    <tr style=\"text-align: right;\">\n",
       "      <th></th>\n",
       "      <th>cohort</th>\n",
       "      <th>session_dir</th>\n",
       "      <th>original_file</th>\n",
       "      <th>tone_frames</th>\n",
       "      <th>box_1_port_entry_frames</th>\n",
       "      <th>box_2_port_entry_frames</th>\n",
       "      <th>video_name</th>\n",
       "      <th>session_path</th>\n",
       "      <th>recording</th>\n",
       "      <th>subject</th>\n",
       "      <th>...</th>\n",
       "      <th>tracked_subject</th>\n",
       "      <th>in_video_subjects</th>\n",
       "      <th>notes</th>\n",
       "      <th>sleap_filename</th>\n",
       "      <th>sleap_fileroot</th>\n",
       "      <th>start_stop_frame</th>\n",
       "      <th>start_stop_timestamps</th>\n",
       "      <th>recording_name</th>\n",
       "      <th>spike_clusters</th>\n",
       "      <th>spike_times</th>\n",
       "    </tr>\n",
       "  </thead>\n",
       "  <tbody>\n",
       "    <tr>\n",
       "      <th>0</th>\n",
       "      <td>2</td>\n",
       "      <td>20230618_100636_standard_comp_to_omission_D2_s...</td>\n",
       "      <td>20230618_100636_standard_comp_to_omission_D2_s...</td>\n",
       "      <td>[[1098, 1297], [3492, 3693], [5788, 5988], [75...</td>\n",
       "      <td>[[788, 835], [838, 839], [839, 871], [871, 900...</td>\n",
       "      <td>[[33026, 33037], [33038, 33042], [33044, 33049...</td>\n",
       "      <td>20230618_100636_standard_comp_to_omission_D2_s...</td>\n",
       "      <td>/scratch/back_up/reward_competition_extention/...</td>\n",
       "      <td>20230618_100636_standard_comp_to_omission_D2_s...</td>\n",
       "      <td>1.1</td>\n",
       "      <td>...</td>\n",
       "      <td>[1.1, 1.4]</td>\n",
       "      <td>1.1_1.4</td>\n",
       "      <td>NaN</td>\n",
       "      <td>20230618_100636_standard_comp_to_omission_D2_s...</td>\n",
       "      <td>20230618_100636_standard_comp_to_omission_D2_s...</td>\n",
       "      <td>(1, 32316)</td>\n",
       "      <td>(1384, 32376683)</td>\n",
       "      <td>20230618_100636_standard_comp_to_omission_D2_s...</td>\n",
       "      <td>[7, 11, 12, 48, 50, 51, 61, 64, 76, 84, 90, 98...</td>\n",
       "      <td>[[506, 1419, 2358, 5104, 6785, 7620, 9801, 120...</td>\n",
       "    </tr>\n",
       "    <tr>\n",
       "      <th>1</th>\n",
       "      <td>2</td>\n",
       "      <td>20230618_100636_standard_comp_to_omission_D2_s...</td>\n",
       "      <td>20230618_100636_standard_comp_to_omission_D2_s...</td>\n",
       "      <td>[[1098, 1297], [3492, 3693], [5788, 5988], [75...</td>\n",
       "      <td>[[788, 835], [838, 839], [839, 871], [871, 900...</td>\n",
       "      <td>[[33026, 33037], [33038, 33042], [33044, 33049...</td>\n",
       "      <td>20230618_100636_standard_comp_to_omission_D2_s...</td>\n",
       "      <td>/scratch/back_up/reward_competition_extention/...</td>\n",
       "      <td>20230618_100636_standard_comp_to_omission_D2_s...</td>\n",
       "      <td>1.4</td>\n",
       "      <td>...</td>\n",
       "      <td>[1.1, 1.4]</td>\n",
       "      <td>1.1_1.4</td>\n",
       "      <td>NaN</td>\n",
       "      <td>20230618_100636_standard_comp_to_omission_D2_s...</td>\n",
       "      <td>20230618_100636_standard_comp_to_omission_D2_s...</td>\n",
       "      <td>(1, 32316)</td>\n",
       "      <td>(1384, 32376683)</td>\n",
       "      <td>20230618_100636_standard_comp_to_omission_D2_s...</td>\n",
       "      <td>[9, 19, 65, 83, 87, 93, 99, 103, 105, 106, 118...</td>\n",
       "      <td>[[458431, 506645, 509846, 545481, 571000, 6011...</td>\n",
       "    </tr>\n",
       "  </tbody>\n",
       "</table>\n",
       "<p>2 rows × 83 columns</p>\n",
       "</div>"
      ],
      "text/plain": [
       "   cohort                                        session_dir  \\\n",
       "0       2  20230618_100636_standard_comp_to_omission_D2_s...   \n",
       "1       2  20230618_100636_standard_comp_to_omission_D2_s...   \n",
       "\n",
       "                                       original_file  \\\n",
       "0  20230618_100636_standard_comp_to_omission_D2_s...   \n",
       "1  20230618_100636_standard_comp_to_omission_D2_s...   \n",
       "\n",
       "                                         tone_frames  \\\n",
       "0  [[1098, 1297], [3492, 3693], [5788, 5988], [75...   \n",
       "1  [[1098, 1297], [3492, 3693], [5788, 5988], [75...   \n",
       "\n",
       "                             box_1_port_entry_frames  \\\n",
       "0  [[788, 835], [838, 839], [839, 871], [871, 900...   \n",
       "1  [[788, 835], [838, 839], [839, 871], [871, 900...   \n",
       "\n",
       "                             box_2_port_entry_frames  \\\n",
       "0  [[33026, 33037], [33038, 33042], [33044, 33049...   \n",
       "1  [[33026, 33037], [33038, 33042], [33044, 33049...   \n",
       "\n",
       "                                          video_name  \\\n",
       "0  20230618_100636_standard_comp_to_omission_D2_s...   \n",
       "1  20230618_100636_standard_comp_to_omission_D2_s...   \n",
       "\n",
       "                                        session_path  \\\n",
       "0  /scratch/back_up/reward_competition_extention/...   \n",
       "1  /scratch/back_up/reward_competition_extention/...   \n",
       "\n",
       "                                           recording subject  ...  \\\n",
       "0  20230618_100636_standard_comp_to_omission_D2_s...     1.1  ...   \n",
       "1  20230618_100636_standard_comp_to_omission_D2_s...     1.4  ...   \n",
       "\n",
       "  tracked_subject  in_video_subjects  notes  \\\n",
       "0      [1.1, 1.4]            1.1_1.4    NaN   \n",
       "1      [1.1, 1.4]            1.1_1.4    NaN   \n",
       "\n",
       "                                      sleap_filename  \\\n",
       "0  20230618_100636_standard_comp_to_omission_D2_s...   \n",
       "1  20230618_100636_standard_comp_to_omission_D2_s...   \n",
       "\n",
       "                                      sleap_fileroot start_stop_frame  \\\n",
       "0  20230618_100636_standard_comp_to_omission_D2_s...       (1, 32316)   \n",
       "1  20230618_100636_standard_comp_to_omission_D2_s...       (1, 32316)   \n",
       "\n",
       "  start_stop_timestamps                                     recording_name  \\\n",
       "0      (1384, 32376683)  20230618_100636_standard_comp_to_omission_D2_s...   \n",
       "1      (1384, 32376683)  20230618_100636_standard_comp_to_omission_D2_s...   \n",
       "\n",
       "                                      spike_clusters  \\\n",
       "0  [7, 11, 12, 48, 50, 51, 61, 64, 76, 84, 90, 98...   \n",
       "1  [9, 19, 65, 83, 87, 93, 99, 103, 105, 106, 118...   \n",
       "\n",
       "                                         spike_times  \n",
       "0  [[506, 1419, 2358, 5104, 6785, 7620, 9801, 120...  \n",
       "1  [[458431, 506645, 509846, 545481, 571000, 6011...  \n",
       "\n",
       "[2 rows x 83 columns]"
      ]
     },
     "execution_count": 38,
     "metadata": {},
     "output_type": "execute_result"
    }
   ],
   "source": [
    "LFP_SPECTRAL_DF.head()"
   ]
  },
  {
   "cell_type": "code",
   "execution_count": 39,
   "metadata": {
    "tags": []
   },
   "outputs": [],
   "source": [
    "LFP_SPECTRAL_DF[\"neuron_average_fr\"] = LFP_SPECTRAL_DF.apply(lambda x: np.array([neuron.spikes.calculate_rolling_avg_firing_rate(np.array(times), stop_time=x[\"last_timestamp\"] - x[\"first_timestamp\"], window_size=SPIKE_WINDOW, slide=SPIKE_WINDOW)[0] for times in x[\"spike_times\"]]), axis=1)"
   ]
  },
  {
   "cell_type": "code",
   "execution_count": null,
   "metadata": {},
   "outputs": [],
   "source": []
  },
  {
   "cell_type": "code",
   "execution_count": 40,
   "metadata": {
    "tags": []
   },
   "outputs": [],
   "source": [
    "LFP_SPECTRAL_DF[\"neuron_average_timestamps\"] = LFP_SPECTRAL_DF.apply(lambda x: neuron.spikes.calculate_rolling_avg_firing_rate(x[\"spike_times\"][0], stop_time=x[\"last_timestamp\"] - x[\"first_timestamp\"], window_size=SPIKE_WINDOW, slide=SPIKE_WINDOW)[1], axis=1)"
   ]
  },
  {
   "cell_type": "code",
   "execution_count": 41,
   "metadata": {
    "tags": []
   },
   "outputs": [],
   "source": [
    "LFP_SPECTRAL_DF[\"neuron_average_fr\"] = LFP_SPECTRAL_DF.apply(lambda x: x[\"neuron_average_fr\"] * SPIKE_WINDOW, axis=1)"
   ]
  },
  {
   "cell_type": "code",
   "execution_count": 42,
   "metadata": {
    "tags": []
   },
   "outputs": [
    {
     "data": {
      "text/html": [
       "<div>\n",
       "<style scoped>\n",
       "    .dataframe tbody tr th:only-of-type {\n",
       "        vertical-align: middle;\n",
       "    }\n",
       "\n",
       "    .dataframe tbody tr th {\n",
       "        vertical-align: top;\n",
       "    }\n",
       "\n",
       "    .dataframe thead th {\n",
       "        text-align: right;\n",
       "    }\n",
       "</style>\n",
       "<table border=\"1\" class=\"dataframe\">\n",
       "  <thead>\n",
       "    <tr style=\"text-align: right;\">\n",
       "      <th></th>\n",
       "      <th>cohort</th>\n",
       "      <th>session_dir</th>\n",
       "      <th>original_file</th>\n",
       "      <th>tone_frames</th>\n",
       "      <th>box_1_port_entry_frames</th>\n",
       "      <th>box_2_port_entry_frames</th>\n",
       "      <th>video_name</th>\n",
       "      <th>session_path</th>\n",
       "      <th>recording</th>\n",
       "      <th>subject</th>\n",
       "    </tr>\n",
       "  </thead>\n",
       "  <tbody>\n",
       "    <tr>\n",
       "      <th>0</th>\n",
       "      <td>2</td>\n",
       "      <td>20230618_100636_standard_comp_to_omission_D2_s...</td>\n",
       "      <td>20230618_100636_standard_comp_to_omission_D2_s...</td>\n",
       "      <td>[[1098, 1297], [3492, 3693], [5788, 5988], [75...</td>\n",
       "      <td>[[788, 835], [838, 839], [839, 871], [871, 900...</td>\n",
       "      <td>[[33026, 33037], [33038, 33042], [33044, 33049...</td>\n",
       "      <td>20230618_100636_standard_comp_to_omission_D2_s...</td>\n",
       "      <td>/scratch/back_up/reward_competition_extention/...</td>\n",
       "      <td>20230618_100636_standard_comp_to_omission_D2_s...</td>\n",
       "      <td>1.1</td>\n",
       "    </tr>\n",
       "    <tr>\n",
       "      <th>1</th>\n",
       "      <td>2</td>\n",
       "      <td>20230618_100636_standard_comp_to_omission_D2_s...</td>\n",
       "      <td>20230618_100636_standard_comp_to_omission_D2_s...</td>\n",
       "      <td>[[1098, 1297], [3492, 3693], [5788, 5988], [75...</td>\n",
       "      <td>[[788, 835], [838, 839], [839, 871], [871, 900...</td>\n",
       "      <td>[[33026, 33037], [33038, 33042], [33044, 33049...</td>\n",
       "      <td>20230618_100636_standard_comp_to_omission_D2_s...</td>\n",
       "      <td>/scratch/back_up/reward_competition_extention/...</td>\n",
       "      <td>20230618_100636_standard_comp_to_omission_D2_s...</td>\n",
       "      <td>1.4</td>\n",
       "    </tr>\n",
       "  </tbody>\n",
       "</table>\n",
       "</div>"
      ],
      "text/plain": [
       "   cohort                                        session_dir  \\\n",
       "0       2  20230618_100636_standard_comp_to_omission_D2_s...   \n",
       "1       2  20230618_100636_standard_comp_to_omission_D2_s...   \n",
       "\n",
       "                                       original_file  \\\n",
       "0  20230618_100636_standard_comp_to_omission_D2_s...   \n",
       "1  20230618_100636_standard_comp_to_omission_D2_s...   \n",
       "\n",
       "                                         tone_frames  \\\n",
       "0  [[1098, 1297], [3492, 3693], [5788, 5988], [75...   \n",
       "1  [[1098, 1297], [3492, 3693], [5788, 5988], [75...   \n",
       "\n",
       "                             box_1_port_entry_frames  \\\n",
       "0  [[788, 835], [838, 839], [839, 871], [871, 900...   \n",
       "1  [[788, 835], [838, 839], [839, 871], [871, 900...   \n",
       "\n",
       "                             box_2_port_entry_frames  \\\n",
       "0  [[33026, 33037], [33038, 33042], [33044, 33049...   \n",
       "1  [[33026, 33037], [33038, 33042], [33044, 33049...   \n",
       "\n",
       "                                          video_name  \\\n",
       "0  20230618_100636_standard_comp_to_omission_D2_s...   \n",
       "1  20230618_100636_standard_comp_to_omission_D2_s...   \n",
       "\n",
       "                                        session_path  \\\n",
       "0  /scratch/back_up/reward_competition_extention/...   \n",
       "1  /scratch/back_up/reward_competition_extention/...   \n",
       "\n",
       "                                           recording subject  \n",
       "0  20230618_100636_standard_comp_to_omission_D2_s...     1.1  \n",
       "1  20230618_100636_standard_comp_to_omission_D2_s...     1.4  "
      ]
     },
     "execution_count": 42,
     "metadata": {},
     "output_type": "execute_result"
    }
   ],
   "source": [
    "LFP_SPECTRAL_DF.iloc[:5,:10]"
   ]
  },
  {
   "cell_type": "code",
   "execution_count": 43,
   "metadata": {
    "tags": []
   },
   "outputs": [
    {
     "data": {
      "text/html": [
       "<div>\n",
       "<style scoped>\n",
       "    .dataframe tbody tr th:only-of-type {\n",
       "        vertical-align: middle;\n",
       "    }\n",
       "\n",
       "    .dataframe tbody tr th {\n",
       "        vertical-align: top;\n",
       "    }\n",
       "\n",
       "    .dataframe thead th {\n",
       "        text-align: right;\n",
       "    }\n",
       "</style>\n",
       "<table border=\"1\" class=\"dataframe\">\n",
       "  <thead>\n",
       "    <tr style=\"text-align: right;\">\n",
       "      <th></th>\n",
       "      <th>all_subjects</th>\n",
       "      <th>first_timestamp</th>\n",
       "      <th>last_timestamp</th>\n",
       "      <th>video_timestamps</th>\n",
       "      <th>tone_timestamps</th>\n",
       "      <th>box_1_port_entry_timestamps</th>\n",
       "      <th>box_2_port_entry_timestamps</th>\n",
       "      <th>lfp_timestamps</th>\n",
       "      <th>mPFC_lfp_trace</th>\n",
       "      <th>MD_lfp_trace</th>\n",
       "    </tr>\n",
       "  </thead>\n",
       "  <tbody>\n",
       "    <tr>\n",
       "      <th>0</th>\n",
       "      <td>[1.1, 1.4]</td>\n",
       "      <td>835680</td>\n",
       "      <td>66439621</td>\n",
       "      <td>[-2, 1384, 2770, 2770, 4155, 5541, 6927, 6927,...</td>\n",
       "      <td>[[1099250, 1299250], [3499256, 3699252], [5799...</td>\n",
       "      <td>[[788852, 836852], [838652, 840050], [840652, ...</td>\n",
       "      <td>[[33057437, 33069437], [33070037, 33075039], [...</td>\n",
       "      <td>[0, 20, 40, 60, 80, 100, 120, 140, 160, 180, 2...</td>\n",
       "      <td>[-0.3154, -0.2812, -0.2698, -0.3381, -0.2261, ...</td>\n",
       "      <td>[0.003227, -0.06616, -0.0742, 0.0565, 0.1743, ...</td>\n",
       "    </tr>\n",
       "    <tr>\n",
       "      <th>1</th>\n",
       "      <td>[1.1, 1.4]</td>\n",
       "      <td>835680</td>\n",
       "      <td>69429292</td>\n",
       "      <td>[-2, 1384, 2770, 2770, 4155, 5541, 6927, 6927,...</td>\n",
       "      <td>[[1099250, 1299250], [3499256, 3699252], [5799...</td>\n",
       "      <td>[[788852, 836852], [838652, 840050], [840652, ...</td>\n",
       "      <td>[[33057437, 33069437], [33070037, 33075039], [...</td>\n",
       "      <td>[0, 20, 40, 60, 80, 100, 120, 140, 160, 180, 2...</td>\n",
       "      <td>[0.0823, 0.0658, -0.1316, -0.7896, -1.333, -1....</td>\n",
       "      <td>[-0.4082, -0.651, -0.852, -0.8345, -0.8223, -0...</td>\n",
       "    </tr>\n",
       "  </tbody>\n",
       "</table>\n",
       "</div>"
      ],
      "text/plain": [
       "  all_subjects  first_timestamp  last_timestamp  \\\n",
       "0   [1.1, 1.4]           835680        66439621   \n",
       "1   [1.1, 1.4]           835680        69429292   \n",
       "\n",
       "                                    video_timestamps  \\\n",
       "0  [-2, 1384, 2770, 2770, 4155, 5541, 6927, 6927,...   \n",
       "1  [-2, 1384, 2770, 2770, 4155, 5541, 6927, 6927,...   \n",
       "\n",
       "                                     tone_timestamps  \\\n",
       "0  [[1099250, 1299250], [3499256, 3699252], [5799...   \n",
       "1  [[1099250, 1299250], [3499256, 3699252], [5799...   \n",
       "\n",
       "                         box_1_port_entry_timestamps  \\\n",
       "0  [[788852, 836852], [838652, 840050], [840652, ...   \n",
       "1  [[788852, 836852], [838652, 840050], [840652, ...   \n",
       "\n",
       "                         box_2_port_entry_timestamps  \\\n",
       "0  [[33057437, 33069437], [33070037, 33075039], [...   \n",
       "1  [[33057437, 33069437], [33070037, 33075039], [...   \n",
       "\n",
       "                                      lfp_timestamps  \\\n",
       "0  [0, 20, 40, 60, 80, 100, 120, 140, 160, 180, 2...   \n",
       "1  [0, 20, 40, 60, 80, 100, 120, 140, 160, 180, 2...   \n",
       "\n",
       "                                      mPFC_lfp_trace  \\\n",
       "0  [-0.3154, -0.2812, -0.2698, -0.3381, -0.2261, ...   \n",
       "1  [0.0823, 0.0658, -0.1316, -0.7896, -1.333, -1....   \n",
       "\n",
       "                                        MD_lfp_trace  \n",
       "0  [0.003227, -0.06616, -0.0742, 0.0565, 0.1743, ...  \n",
       "1  [-0.4082, -0.651, -0.852, -0.8345, -0.8223, -0...  "
      ]
     },
     "execution_count": 43,
     "metadata": {},
     "output_type": "execute_result"
    }
   ],
   "source": [
    "LFP_SPECTRAL_DF.iloc[:5,10:20]"
   ]
  },
  {
   "cell_type": "code",
   "execution_count": 44,
   "metadata": {
    "tags": []
   },
   "outputs": [
    {
     "data": {
      "text/html": [
       "<div>\n",
       "<style scoped>\n",
       "    .dataframe tbody tr th:only-of-type {\n",
       "        vertical-align: middle;\n",
       "    }\n",
       "\n",
       "    .dataframe tbody tr th {\n",
       "        vertical-align: top;\n",
       "    }\n",
       "\n",
       "    .dataframe thead th {\n",
       "        text-align: right;\n",
       "    }\n",
       "</style>\n",
       "<table border=\"1\" class=\"dataframe\">\n",
       "  <thead>\n",
       "    <tr style=\"text-align: right;\">\n",
       "      <th></th>\n",
       "      <th>LH_lfp_trace</th>\n",
       "      <th>BLA_lfp_trace</th>\n",
       "      <th>vHPC_lfp_trace</th>\n",
       "      <th>mPFC_power_all_frequencies_all_windows</th>\n",
       "      <th>MD_power_all_frequencies_all_windows</th>\n",
       "      <th>LH_power_all_frequencies_all_windows</th>\n",
       "      <th>BLA_power_all_frequencies_all_windows</th>\n",
       "      <th>vHPC_power_all_frequencies_all_windows</th>\n",
       "      <th>power_timestamps</th>\n",
       "      <th>power_calculation_frequencies</th>\n",
       "    </tr>\n",
       "  </thead>\n",
       "  <tbody>\n",
       "    <tr>\n",
       "      <th>0</th>\n",
       "      <td>[0.3372, 0.4973, 0.524, 0.3906, 0.4954, 0.56, ...</td>\n",
       "      <td>[0.1832, 0.4846, 0.766, 0.8545, 0.961, 0.7627,...</td>\n",
       "      <td>[0.9727, 1.524, 2.242, 2.426, 2.252, 1.847, 1....</td>\n",
       "      <td>[[0.015305, 0.0223, 0.03632, 0.02211, 0.02168,...</td>\n",
       "      <td>[[0.00202, 0.00401, 0.012985, 0.011696, 0.0151...</td>\n",
       "      <td>[[0.006813, 0.00756, 0.01591, 0.01199, 0.01014...</td>\n",
       "      <td>[[0.01706, 0.02808, 0.02686, 0.01572, 0.02292,...</td>\n",
       "      <td>[[0.01005, 0.01069, 0.01654, 0.0264, 0.02428, ...</td>\n",
       "      <td>[10000, 20000, 30000, 40000, 50000, 60000, 700...</td>\n",
       "      <td>[0.0, 1.0, 2.0, 3.0, 4.0, 5.0, 6.0, 7.0, 8.0, ...</td>\n",
       "    </tr>\n",
       "    <tr>\n",
       "      <th>1</th>\n",
       "      <td>[-0.846, -1.169, -1.349, -1.064, -0.8716, -0.9...</td>\n",
       "      <td>[-0.1432, -0.525, -1.298, -1.044, -0.3499, -1....</td>\n",
       "      <td>[-0.755, -1.41, -2.273, -2.297, -2.133, -2.557...</td>\n",
       "      <td>[[0.02173, 0.01424, 0.01416, 0.00531, 0.03857,...</td>\n",
       "      <td>[[0.004864, 0.004448, 0.0083, 0.009125, 0.0586...</td>\n",
       "      <td>[[0.002157, 0.002275, 0.00783, 0.009575, 0.071...</td>\n",
       "      <td>[[0.0183, 0.00981, 0.02113, 0.01231, 0.0809, 0...</td>\n",
       "      <td>[[0.005535, 0.00698, 0.03174, 0.03128, 0.1538,...</td>\n",
       "      <td>[10000, 20000, 30000, 40000, 50000, 60000, 700...</td>\n",
       "      <td>[0.0, 1.0, 2.0, 3.0, 4.0, 5.0, 6.0, 7.0, 8.0, ...</td>\n",
       "    </tr>\n",
       "  </tbody>\n",
       "</table>\n",
       "</div>"
      ],
      "text/plain": [
       "                                        LH_lfp_trace  \\\n",
       "0  [0.3372, 0.4973, 0.524, 0.3906, 0.4954, 0.56, ...   \n",
       "1  [-0.846, -1.169, -1.349, -1.064, -0.8716, -0.9...   \n",
       "\n",
       "                                       BLA_lfp_trace  \\\n",
       "0  [0.1832, 0.4846, 0.766, 0.8545, 0.961, 0.7627,...   \n",
       "1  [-0.1432, -0.525, -1.298, -1.044, -0.3499, -1....   \n",
       "\n",
       "                                      vHPC_lfp_trace  \\\n",
       "0  [0.9727, 1.524, 2.242, 2.426, 2.252, 1.847, 1....   \n",
       "1  [-0.755, -1.41, -2.273, -2.297, -2.133, -2.557...   \n",
       "\n",
       "              mPFC_power_all_frequencies_all_windows  \\\n",
       "0  [[0.015305, 0.0223, 0.03632, 0.02211, 0.02168,...   \n",
       "1  [[0.02173, 0.01424, 0.01416, 0.00531, 0.03857,...   \n",
       "\n",
       "                MD_power_all_frequencies_all_windows  \\\n",
       "0  [[0.00202, 0.00401, 0.012985, 0.011696, 0.0151...   \n",
       "1  [[0.004864, 0.004448, 0.0083, 0.009125, 0.0586...   \n",
       "\n",
       "                LH_power_all_frequencies_all_windows  \\\n",
       "0  [[0.006813, 0.00756, 0.01591, 0.01199, 0.01014...   \n",
       "1  [[0.002157, 0.002275, 0.00783, 0.009575, 0.071...   \n",
       "\n",
       "               BLA_power_all_frequencies_all_windows  \\\n",
       "0  [[0.01706, 0.02808, 0.02686, 0.01572, 0.02292,...   \n",
       "1  [[0.0183, 0.00981, 0.02113, 0.01231, 0.0809, 0...   \n",
       "\n",
       "              vHPC_power_all_frequencies_all_windows  \\\n",
       "0  [[0.01005, 0.01069, 0.01654, 0.0264, 0.02428, ...   \n",
       "1  [[0.005535, 0.00698, 0.03174, 0.03128, 0.1538,...   \n",
       "\n",
       "                                    power_timestamps  \\\n",
       "0  [10000, 20000, 30000, 40000, 50000, 60000, 700...   \n",
       "1  [10000, 20000, 30000, 40000, 50000, 60000, 700...   \n",
       "\n",
       "                       power_calculation_frequencies  \n",
       "0  [0.0, 1.0, 2.0, 3.0, 4.0, 5.0, 6.0, 7.0, 8.0, ...  \n",
       "1  [0.0, 1.0, 2.0, 3.0, 4.0, 5.0, 6.0, 7.0, 8.0, ...  "
      ]
     },
     "execution_count": 44,
     "metadata": {},
     "output_type": "execute_result"
    }
   ],
   "source": [
    "LFP_SPECTRAL_DF.iloc[:5,20:30]"
   ]
  },
  {
   "cell_type": "code",
   "execution_count": 45,
   "metadata": {
    "tags": []
   },
   "outputs": [
    {
     "data": {
      "text/html": [
       "<div>\n",
       "<style scoped>\n",
       "    .dataframe tbody tr th:only-of-type {\n",
       "        vertical-align: middle;\n",
       "    }\n",
       "\n",
       "    .dataframe tbody tr th {\n",
       "        vertical-align: top;\n",
       "    }\n",
       "\n",
       "    .dataframe thead th {\n",
       "        text-align: right;\n",
       "    }\n",
       "</style>\n",
       "<table border=\"1\" class=\"dataframe\">\n",
       "  <thead>\n",
       "    <tr style=\"text-align: right;\">\n",
       "      <th></th>\n",
       "      <th>BLA_LH_coherence_all_frequencies_all_windows</th>\n",
       "      <th>BLA_MD_coherence_all_frequencies_all_windows</th>\n",
       "      <th>BLA_mPFC_coherence_all_frequencies_all_windows</th>\n",
       "      <th>BLA_vHPC_coherence_all_frequencies_all_windows</th>\n",
       "      <th>LH_MD_coherence_all_frequencies_all_windows</th>\n",
       "      <th>LH_mPFC_coherence_all_frequencies_all_windows</th>\n",
       "      <th>LH_vHPC_coherence_all_frequencies_all_windows</th>\n",
       "      <th>MD_mPFC_coherence_all_frequencies_all_windows</th>\n",
       "      <th>MD_vHPC_coherence_all_frequencies_all_windows</th>\n",
       "      <th>mPFC_vHPC_coherence_all_frequencies_all_windows</th>\n",
       "      <th>...</th>\n",
       "      <th>notes</th>\n",
       "      <th>sleap_filename</th>\n",
       "      <th>sleap_fileroot</th>\n",
       "      <th>start_stop_frame</th>\n",
       "      <th>start_stop_timestamps</th>\n",
       "      <th>recording_name</th>\n",
       "      <th>spike_clusters</th>\n",
       "      <th>spike_times</th>\n",
       "      <th>neuron_average_fr</th>\n",
       "      <th>neuron_average_timestamps</th>\n",
       "    </tr>\n",
       "  </thead>\n",
       "  <tbody>\n",
       "    <tr>\n",
       "      <th>0</th>\n",
       "      <td>[[0.539, 0.8413, 0.714, 0.6323, 0.6743, 0.8394...</td>\n",
       "      <td>[[0.0107, 0.5386, 0.4678, 0.5063, 0.715, 0.814...</td>\n",
       "      <td>[[0.818, 0.9517, 0.8213, 0.7104, 0.537, 0.1165...</td>\n",
       "      <td>[[0.8555, 0.9033, 0.846, 0.6855, 0.4634, 0.003...</td>\n",
       "      <td>[[0.5137, 0.8047, 0.8423, 0.8394, 0.783, 0.743...</td>\n",
       "      <td>[[0.1504, 0.6855, 0.815, 0.9004, 0.836, 0.3022...</td>\n",
       "      <td>[[0.86, 0.8716, 0.9053, 0.695, 0.647, 0.00902,...</td>\n",
       "      <td>[[0.06226, 0.4448, 0.678, 0.85, 0.6284, 0.2715...</td>\n",
       "      <td>[[0.1669, 0.482, 0.66, 0.351, 0.2292, 0.0636, ...</td>\n",
       "      <td>[[0.4548, 0.7715, 0.8076, 0.614, 0.6577, 0.531...</td>\n",
       "      <td>...</td>\n",
       "      <td>NaN</td>\n",
       "      <td>20230618_100636_standard_comp_to_omission_D2_s...</td>\n",
       "      <td>20230618_100636_standard_comp_to_omission_D2_s...</td>\n",
       "      <td>(1, 32316)</td>\n",
       "      <td>(1384, 32376683)</td>\n",
       "      <td>20230618_100636_standard_comp_to_omission_D2_s...</td>\n",
       "      <td>[7, 11, 12, 48, 50, 51, 61, 64, 76, 84, 90, 98...</td>\n",
       "      <td>[[506, 1419, 2358, 5104, 6785, 7620, 9801, 120...</td>\n",
       "      <td>[[2.0, 1.0, 1.0, 2.0, 1.0, 0.0, 3.0, 0.0, 1.0,...</td>\n",
       "      <td>[0, 2000, 4000, 6000, 8000, 10000, 12000, 1400...</td>\n",
       "    </tr>\n",
       "    <tr>\n",
       "      <th>1</th>\n",
       "      <td>[[0.811, 0.2367, 0.7607, 0.7485, 0.913, 0.8623...</td>\n",
       "      <td>[[0.973, 0.3767, 0.662, 0.607, 0.9136, 0.8486,...</td>\n",
       "      <td>[[0.978, 0.9204, 0.6987, 0.4927, 0.811, 0.7563...</td>\n",
       "      <td>[[0.00341, 0.292, 0.4998, 0.866, 0.9854, 0.994...</td>\n",
       "      <td>[[0.6675, 0.9556, 0.927, 0.931, 0.997, 0.9985,...</td>\n",
       "      <td>[[0.91, 0.4858, 0.5474, 0.7476, 0.9727, 0.974,...</td>\n",
       "      <td>[[0.1449, 0.68, 0.7188, 0.783, 0.918, 0.8477, ...</td>\n",
       "      <td>[[0.9062, 0.6196, 0.634, 0.7397, 0.9766, 0.971...</td>\n",
       "      <td>[[0.0485, 0.7505, 0.481, 0.582, 0.9175, 0.8296...</td>\n",
       "      <td>[[0.00795, 0.3496, 0.2861, 0.59, 0.8247, 0.751...</td>\n",
       "      <td>...</td>\n",
       "      <td>NaN</td>\n",
       "      <td>20230618_100636_standard_comp_to_omission_D2_s...</td>\n",
       "      <td>20230618_100636_standard_comp_to_omission_D2_s...</td>\n",
       "      <td>(1, 32316)</td>\n",
       "      <td>(1384, 32376683)</td>\n",
       "      <td>20230618_100636_standard_comp_to_omission_D2_s...</td>\n",
       "      <td>[9, 19, 65, 83, 87, 93, 99, 103, 105, 106, 118...</td>\n",
       "      <td>[[458431, 506645, 509846, 545481, 571000, 6011...</td>\n",
       "      <td>[[0.0, 0.0, 0.0, 0.0, 0.0, 0.0, 0.0, 0.0, 0.0,...</td>\n",
       "      <td>[0, 2000, 4000, 6000, 8000, 10000, 12000, 1400...</td>\n",
       "    </tr>\n",
       "  </tbody>\n",
       "</table>\n",
       "<p>2 rows × 55 columns</p>\n",
       "</div>"
      ],
      "text/plain": [
       "        BLA_LH_coherence_all_frequencies_all_windows  \\\n",
       "0  [[0.539, 0.8413, 0.714, 0.6323, 0.6743, 0.8394...   \n",
       "1  [[0.811, 0.2367, 0.7607, 0.7485, 0.913, 0.8623...   \n",
       "\n",
       "        BLA_MD_coherence_all_frequencies_all_windows  \\\n",
       "0  [[0.0107, 0.5386, 0.4678, 0.5063, 0.715, 0.814...   \n",
       "1  [[0.973, 0.3767, 0.662, 0.607, 0.9136, 0.8486,...   \n",
       "\n",
       "      BLA_mPFC_coherence_all_frequencies_all_windows  \\\n",
       "0  [[0.818, 0.9517, 0.8213, 0.7104, 0.537, 0.1165...   \n",
       "1  [[0.978, 0.9204, 0.6987, 0.4927, 0.811, 0.7563...   \n",
       "\n",
       "      BLA_vHPC_coherence_all_frequencies_all_windows  \\\n",
       "0  [[0.8555, 0.9033, 0.846, 0.6855, 0.4634, 0.003...   \n",
       "1  [[0.00341, 0.292, 0.4998, 0.866, 0.9854, 0.994...   \n",
       "\n",
       "         LH_MD_coherence_all_frequencies_all_windows  \\\n",
       "0  [[0.5137, 0.8047, 0.8423, 0.8394, 0.783, 0.743...   \n",
       "1  [[0.6675, 0.9556, 0.927, 0.931, 0.997, 0.9985,...   \n",
       "\n",
       "       LH_mPFC_coherence_all_frequencies_all_windows  \\\n",
       "0  [[0.1504, 0.6855, 0.815, 0.9004, 0.836, 0.3022...   \n",
       "1  [[0.91, 0.4858, 0.5474, 0.7476, 0.9727, 0.974,...   \n",
       "\n",
       "       LH_vHPC_coherence_all_frequencies_all_windows  \\\n",
       "0  [[0.86, 0.8716, 0.9053, 0.695, 0.647, 0.00902,...   \n",
       "1  [[0.1449, 0.68, 0.7188, 0.783, 0.918, 0.8477, ...   \n",
       "\n",
       "       MD_mPFC_coherence_all_frequencies_all_windows  \\\n",
       "0  [[0.06226, 0.4448, 0.678, 0.85, 0.6284, 0.2715...   \n",
       "1  [[0.9062, 0.6196, 0.634, 0.7397, 0.9766, 0.971...   \n",
       "\n",
       "       MD_vHPC_coherence_all_frequencies_all_windows  \\\n",
       "0  [[0.1669, 0.482, 0.66, 0.351, 0.2292, 0.0636, ...   \n",
       "1  [[0.0485, 0.7505, 0.481, 0.582, 0.9175, 0.8296...   \n",
       "\n",
       "     mPFC_vHPC_coherence_all_frequencies_all_windows  ... notes  \\\n",
       "0  [[0.4548, 0.7715, 0.8076, 0.614, 0.6577, 0.531...  ...   NaN   \n",
       "1  [[0.00795, 0.3496, 0.2861, 0.59, 0.8247, 0.751...  ...   NaN   \n",
       "\n",
       "                                      sleap_filename  \\\n",
       "0  20230618_100636_standard_comp_to_omission_D2_s...   \n",
       "1  20230618_100636_standard_comp_to_omission_D2_s...   \n",
       "\n",
       "                                      sleap_fileroot start_stop_frame  \\\n",
       "0  20230618_100636_standard_comp_to_omission_D2_s...       (1, 32316)   \n",
       "1  20230618_100636_standard_comp_to_omission_D2_s...       (1, 32316)   \n",
       "\n",
       "  start_stop_timestamps                                     recording_name  \\\n",
       "0      (1384, 32376683)  20230618_100636_standard_comp_to_omission_D2_s...   \n",
       "1      (1384, 32376683)  20230618_100636_standard_comp_to_omission_D2_s...   \n",
       "\n",
       "                                      spike_clusters  \\\n",
       "0  [7, 11, 12, 48, 50, 51, 61, 64, 76, 84, 90, 98...   \n",
       "1  [9, 19, 65, 83, 87, 93, 99, 103, 105, 106, 118...   \n",
       "\n",
       "                                         spike_times  \\\n",
       "0  [[506, 1419, 2358, 5104, 6785, 7620, 9801, 120...   \n",
       "1  [[458431, 506645, 509846, 545481, 571000, 6011...   \n",
       "\n",
       "                                   neuron_average_fr  \\\n",
       "0  [[2.0, 1.0, 1.0, 2.0, 1.0, 0.0, 3.0, 0.0, 1.0,...   \n",
       "1  [[0.0, 0.0, 0.0, 0.0, 0.0, 0.0, 0.0, 0.0, 0.0,...   \n",
       "\n",
       "                           neuron_average_timestamps  \n",
       "0  [0, 2000, 4000, 6000, 8000, 10000, 12000, 1400...  \n",
       "1  [0, 2000, 4000, 6000, 8000, 10000, 12000, 1400...  \n",
       "\n",
       "[2 rows x 55 columns]"
      ]
     },
     "execution_count": 45,
     "metadata": {},
     "output_type": "execute_result"
    }
   ],
   "source": [
    "LFP_SPECTRAL_DF.iloc[:5, 30:]"
   ]
  },
  {
   "cell_type": "code",
   "execution_count": 46,
   "metadata": {},
   "outputs": [
    {
     "data": {
      "text/plain": [
       "(32801,)"
      ]
     },
     "execution_count": 46,
     "metadata": {},
     "output_type": "execute_result"
    }
   ],
   "source": [
    "LFP_SPECTRAL_DF[\"neuron_average_timestamps\"].iloc[0].shape"
   ]
  },
  {
   "cell_type": "code",
   "execution_count": 47,
   "metadata": {},
   "outputs": [
    {
     "data": {
      "text/plain": [
       "(21, 32801)"
      ]
     },
     "execution_count": 47,
     "metadata": {},
     "output_type": "execute_result"
    }
   ],
   "source": [
    "LFP_SPECTRAL_DF[\"neuron_average_fr\"].iloc[0].shape"
   ]
  },
  {
   "cell_type": "code",
   "execution_count": 48,
   "metadata": {},
   "outputs": [
    {
     "data": {
      "text/plain": [
       "10.0"
      ]
     },
     "execution_count": 48,
     "metadata": {},
     "output_type": "execute_result"
    }
   ],
   "source": [
    "np.max(LFP_SPECTRAL_DF[\"neuron_average_fr\"].iloc[0])"
   ]
  },
  {
   "cell_type": "code",
   "execution_count": 52,
   "metadata": {},
   "outputs": [],
   "source": [
    "LFP_SPECTRAL_DF.to_pickle(os.path.join(OUTPUT_DIR, FULL_LFP_TRACES_PKL))"
   ]
  },
  {
   "cell_type": "code",
   "execution_count": 50,
   "metadata": {
    "tags": []
   },
   "outputs": [
    {
     "ename": "ValueError",
     "evalue": "",
     "output_type": "error",
     "traceback": [
      "\u001b[0;31m---------------------------------------------------------------------------\u001b[0m",
      "\u001b[0;31mValueError\u001b[0m                                Traceback (most recent call last)",
      "Cell \u001b[0;32mIn[50], line 1\u001b[0m\n\u001b[0;32m----> 1\u001b[0m \u001b[38;5;28;01mraise\u001b[39;00m \u001b[38;5;167;01mValueError\u001b[39;00m(\u001b[38;5;124m\"\u001b[39m\u001b[38;5;124m\"\u001b[39m)\n",
      "\u001b[0;31mValueError\u001b[0m: "
     ]
    }
   ],
   "source": [
    "raise ValueError(\"\")"
   ]
  }
 ],
 "metadata": {
  "deepnote": {},
  "deepnote_execution_queue": [],
  "deepnote_notebook_id": "cf8fe3695d074ee7887fdf6459cbf5ce",
  "kernelspec": {
   "display_name": "spike_interface_0_99_0",
   "language": "python",
   "name": "spike_interface_0_99_0"
  },
  "language_info": {
   "codemirror_mode": {
    "name": "ipython",
    "version": 3
   },
   "file_extension": ".py",
   "mimetype": "text/x-python",
   "name": "python",
   "nbconvert_exporter": "python",
   "pygments_lexer": "ipython3",
   "version": "3.10.13"
  }
 },
 "nbformat": 4,
 "nbformat_minor": 4
}
