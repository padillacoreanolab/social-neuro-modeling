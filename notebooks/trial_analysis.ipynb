{
 "cells": [
  {
   "cell_type": "markdown",
   "metadata": {
    "cell_id": "c3a02adc9e884466bc8c79db549cc3d2",
    "deepnote_cell_type": "text-cell-h1",
    "formattedRanges": [
     {
      "fromCodePoint": 0,
      "marks": {
       "bold": true,
       "underline": true
      },
      "toCodePoint": 17,
      "type": "marks"
     }
    ]
   },
   "source": [
    "# Trial analysis"
   ]
  },
  {
   "cell_type": "markdown",
   "metadata": {
    "cell_id": "4546bee655b14a5dbf393161f1228e60",
    "deepnote_cell_type": "text-cell-p",
    "formattedRanges": []
   },
   "source": [
    "Brief 1-2 sentence description of notebook."
   ]
  },
  {
   "cell_type": "markdown",
   "metadata": {},
   "source": [
    "- This notebook will be filtering for \"trial\" and \"baseline\" portions of all trials in each recording\n",
    "    - `trial` is from the start of the trial tone to 10 seconds after the onset\n",
    "    - `baseline` is from 30 seconds before the trial tone to 20 seconds before the trial tone"
   ]
  },
  {
   "cell_type": "markdown",
   "metadata": {},
   "source": [
    "Relavent columns\n",
    "- `condition`\n",
    "    - original trial label\n",
    "- `competition_closeness`\n",
    "    - how competitive the competitive trials were\n",
    "- `experiment`\n",
    "    - the type of experiment that was being run\n",
    "- `trial_label`\n",
    "    - corrected trial label"
   ]
  },
  {
   "cell_type": "code",
   "execution_count": 1,
   "metadata": {
    "tags": []
   },
   "outputs": [],
   "source": [
    "# Imports of all used packages and libraries\n",
    "import sys\n",
    "import os\n",
    "import git\n",
    "import glob\n",
    "from collections import defaultdict"
   ]
  },
  {
   "cell_type": "code",
   "execution_count": 2,
   "metadata": {
    "tags": []
   },
   "outputs": [],
   "source": [
    "git_repo = git.Repo(\".\", search_parent_directories=True)\n",
    "git_root = git_repo.git.rev_parse(\"--show-toplevel\")"
   ]
  },
  {
   "cell_type": "code",
   "execution_count": 3,
   "metadata": {
    "tags": []
   },
   "outputs": [
    {
     "data": {
      "text/plain": [
       "'/blue/npadillacoreano/ryoi360/projects/reward_comp/repos/social-neuro-modeling'"
      ]
     },
     "execution_count": 3,
     "metadata": {},
     "output_type": "execute_result"
    }
   ],
   "source": [
    "git_root"
   ]
  },
  {
   "cell_type": "code",
   "execution_count": 4,
   "metadata": {
    "tags": []
   },
   "outputs": [],
   "source": [
    "sys.path.insert(0, os.path.join(git_root, 'src'))"
   ]
  },
  {
   "cell_type": "code",
   "execution_count": 5,
   "metadata": {
    "tags": []
   },
   "outputs": [],
   "source": [
    "import warnings\n",
    "warnings.filterwarnings('ignore')"
   ]
  },
  {
   "cell_type": "code",
   "execution_count": 6,
   "metadata": {
    "tags": []
   },
   "outputs": [],
   "source": [
    "import os\n",
    "import collections\n",
    "import itertools\n",
    "from collections import defaultdict\n",
    "from itertools import combinations"
   ]
  },
  {
   "cell_type": "raw",
   "metadata": {},
   "source": [
    "os.environ[\"SPECTRAL_CONNECTIVITY_ENABLE_GPU\"] = \"true\"\n",
    "import cupy as cp"
   ]
  },
  {
   "cell_type": "code",
   "execution_count": 7,
   "metadata": {
    "cell_id": "03b495cefa6a4798a44c7f2e4c6a3ea7",
    "deepnote_cell_type": "code",
    "deepnote_to_be_reexecuted": false,
    "execution_millis": 21,
    "execution_start": 1691424003626,
    "source_hash": null,
    "tags": []
   },
   "outputs": [],
   "source": [
    "# Imports of all used packages and libraries\n",
    "import numpy as np\n",
    "import pandas as pd\n",
    "from scipy import stats\n",
    "from scipy.stats import mannwhitneyu\n"
   ]
  },
  {
   "cell_type": "code",
   "execution_count": 8,
   "metadata": {
    "tags": []
   },
   "outputs": [],
   "source": [
    "import matplotlib\n",
    "import matplotlib.colors as mcolors\n",
    "import matplotlib.pyplot as plt\n",
    "import matplotlib.cm as cm\n",
    "import seaborn as sns\n",
    "import colorsys"
   ]
  },
  {
   "cell_type": "code",
   "execution_count": 9,
   "metadata": {
    "tags": []
   },
   "outputs": [],
   "source": [
    "from sklearn.metrics import confusion_matrix"
   ]
  },
  {
   "cell_type": "code",
   "execution_count": 10,
   "metadata": {
    "tags": []
   },
   "outputs": [],
   "source": [
    "from spectral_connectivity import Multitaper, Connectivity\n",
    "import spectral_connectivity"
   ]
  },
  {
   "cell_type": "code",
   "execution_count": 11,
   "metadata": {
    "tags": []
   },
   "outputs": [],
   "source": [
    "import utilities.helper\n",
    "import trodes.read_exported"
   ]
  },
  {
   "cell_type": "markdown",
   "metadata": {
    "cell_id": "d290bac2c17940bfbc0f9296beaf70e5",
    "deepnote_cell_type": "text-cell-h2",
    "formattedRanges": []
   },
   "source": [
    "## Inputs & Data"
   ]
  },
  {
   "cell_type": "markdown",
   "metadata": {
    "cell_id": "e528ce19c608425292151930d380f49f",
    "deepnote_cell_type": "text-cell-p",
    "formattedRanges": []
   },
   "source": [
    "Explanation of each input and where it comes from."
   ]
  },
  {
   "cell_type": "code",
   "execution_count": 12,
   "metadata": {
    "cell_id": "6cf83a5811054461a718a71673d09aab",
    "deepnote_cell_type": "code",
    "deepnote_to_be_reexecuted": false,
    "execution_millis": 373,
    "execution_start": 1691424003628,
    "source_hash": null,
    "tags": []
   },
   "outputs": [],
   "source": [
    "# Inputs and Required data loading\n",
    "# input varaible names are in all caps snake case\n",
    "# Whenever an input changes or is used for processing \n",
    "# the vairables are all lower in snake case\n",
    "OUTPUT_DIR = r\"./proc/\" # where data is saved should always be shown in the inputs\n",
    "os.makedirs(OUTPUT_DIR, exist_ok=True)\n",
    "OUTPUT_PREFIX = \"rce_pilot_2\""
   ]
  },
  {
   "cell_type": "code",
   "execution_count": 13,
   "metadata": {
    "tags": []
   },
   "outputs": [],
   "source": [
    "TRIAL_LABELS_DF = pd.read_excel(\"../data/rce2_finalized_trial_labels.xlsx\")"
   ]
  },
  {
   "cell_type": "code",
   "execution_count": 14,
   "metadata": {
    "tags": []
   },
   "outputs": [],
   "source": [
    "LFP_SPECTRAL_DF = pd.read_pickle(\"./proc/rce_pilot_2_05_lfp_spectral_sleap_spikes.pkl\")"
   ]
  },
  {
   "cell_type": "code",
   "execution_count": 15,
   "metadata": {
    "tags": []
   },
   "outputs": [],
   "source": [
    "# CHANNEL_MAP_AND_ALL_TRIALS_DF = pd.read_pickle(\"./proc/full_baseline_and_trial_lfp_traces.pkl\")\n",
    "# MERGED_TRIALS_AND_VIDEO = pd.read_pickle(\"./proc/trial_SLEAP_and_metadata.pkl\")"
   ]
  },
  {
   "cell_type": "code",
   "execution_count": 16,
   "metadata": {
    "tags": []
   },
   "outputs": [],
   "source": [
    "GROUPINGS = \"trial_outcome\"\n",
    "# GROUPINGS = \"competition_closeness\""
   ]
  },
  {
   "cell_type": "code",
   "execution_count": 17,
   "metadata": {
    "tags": []
   },
   "outputs": [],
   "source": [
    "FULL_LFP_TRACES_PKL = \"{}_10_per_trial_spectral_sleap_spikes.pkl\".format(OUTPUT_PREFIX)"
   ]
  },
  {
   "cell_type": "markdown",
   "metadata": {
    "cell_id": "e3ee4891d43a4ac287413afc552ca289",
    "deepnote_cell_type": "text-cell-h2",
    "formattedRanges": []
   },
   "source": [
    "## Outputs"
   ]
  },
  {
   "cell_type": "markdown",
   "metadata": {
    "cell_id": "9ccbf6cc70fd4d379fa29317f733771f",
    "deepnote_cell_type": "text-cell-p",
    "formattedRanges": []
   },
   "source": [
    "Describe each output that the notebook creates. "
   ]
  },
  {
   "cell_type": "markdown",
   "metadata": {
    "cell_id": "fc8e8920a6944918a15fac575cdf6e78",
    "deepnote_cell_type": "text-cell-bullet",
    "formattedRanges": []
   },
   "source": [
    "- Is it a plot or is it data?"
   ]
  },
  {
   "cell_type": "markdown",
   "metadata": {
    "cell_id": "1e639d4776a84aa9ac8ded2e14fa57db",
    "deepnote_cell_type": "text-cell-bullet",
    "formattedRanges": []
   },
   "source": [
    "- How valuable is the output and why is it valuable or useful?"
   ]
  },
  {
   "cell_type": "markdown",
   "metadata": {},
   "source": [
    "## Functions "
   ]
  },
  {
   "cell_type": "code",
   "execution_count": 18,
   "metadata": {
    "tags": []
   },
   "outputs": [],
   "source": [
    "def filter_spike_times(arr_2d, start, stop, padding=-1):\n",
    "    \"\"\"\n",
    "    Filters a 2D array based on a start and stop condition and pads shorter arrays to match the length of the longest array.\n",
    "\n",
    "    Parameters:\n",
    "    arr_2d (numpy.ndarray): 2D array to be filtered and padded.\n",
    "    start (int or float): Lower bound of the condition.\n",
    "    stop (int or float): Upper bound of the condition.\n",
    "    padding (int or float): Value to use for padding, defaults to -1.\n",
    "\n",
    "    Returns:\n",
    "    numpy.ndarray: A 2D array where each inner array has been filtered based on the condition and padded to match the length of the longest array.\n",
    "    \"\"\"\n",
    "\n",
    "    # Filter each row in arr_2d based on the condition\n",
    "    masked_data = [row[(row >= start) & (row < stop)] for row in arr_2d]\n",
    "\n",
    "    # Determine the maximum length of arrays in the list\n",
    "    max_length = max(len(arr) for arr in masked_data)\n",
    "\n",
    "    # Pad each array in masked_data with the padding value so they all have the same length (max_length)\n",
    "    padded_arrays = [np.concatenate([x, np.full([max_length - len(x)], padding)]) for x in masked_data]\n",
    "\n",
    "    # Convert the list of arrays to a 2D numpy array\n",
    "    padded_arrays = np.array(padded_arrays)\n",
    "\n",
    "    return padded_arrays"
   ]
  },
  {
   "cell_type": "markdown",
   "metadata": {
    "cell_id": "8999d19b6b7d4d63bc90f0b0bd9ab085",
    "deepnote_cell_type": "text-cell-h2",
    "formattedRanges": []
   },
   "source": [
    "## Processing"
   ]
  },
  {
   "cell_type": "markdown",
   "metadata": {
    "cell_id": "9b36cdf08567463082b005cb0dec684b",
    "deepnote_cell_type": "text-cell-p",
    "formattedRanges": []
   },
   "source": [
    "Describe what is done to the data here and how inputs are manipulated to generate outputs. "
   ]
  },
  {
   "cell_type": "code",
   "execution_count": 19,
   "metadata": {
    "cell_id": "89aaba237c644628b1b37604b75e7cb1",
    "deepnote_cell_type": "code",
    "tags": []
   },
   "outputs": [],
   "source": [
    "# As much code and as many cells as required\n",
    "# includes EDA and playing with data\n",
    "# GO HAM!\n",
    "\n",
    "# Ideally functions are defined here first and then data is processed using the functions\n",
    "\n",
    "# function names are short and in snake case all lowercase\n",
    "# a function name should be unique but does not have to describe the function\n",
    "# doc strings describe functions not function names\n",
    "\n",
    "\n"
   ]
  },
  {
   "cell_type": "code",
   "execution_count": 20,
   "metadata": {
    "tags": []
   },
   "outputs": [
    {
     "data": {
      "text/plain": [
       "Index(['cohort', 'session_dir', 'tone_frames', 'box_1_port_entry_frames',\n",
       "       'box_2_port_entry_frames', 'video_name', 'session_path', 'recording',\n",
       "       'current_subject', 'subject',\n",
       "       ...\n",
       "       'agent_locations', 'subject_thorax_velocity', 'agent_thorax_velocity',\n",
       "       'subject_thorax_to_reward_port', 'agent_thorax_to_reward_port',\n",
       "       'recording_name', 'spike_clusters', 'spike_times', 'neuron_average_fr',\n",
       "       'neuron_average_timestamps'],\n",
       "      dtype='object', length=158)"
      ]
     },
     "execution_count": 20,
     "metadata": {},
     "output_type": "execute_result"
    }
   ],
   "source": [
    "LFP_SPECTRAL_DF.columns"
   ]
  },
  {
   "cell_type": "code",
   "execution_count": 21,
   "metadata": {
    "scrolled": true,
    "tags": []
   },
   "outputs": [
    {
     "data": {
      "text/plain": [
       "Index(['tracked_subject', 'box_number', 'sleap_name', 'video_name',\n",
       "       'current_subject', 'tone_start_frame', 'reward_start_frame',\n",
       "       'tone_stop_frame', 'condition', 'competition_closeness', 'notes',\n",
       "       'experiment', 'session_dir', 'all_subjects', 'tone_start_timestamp',\n",
       "       'tone_stop_timestamp', 'trial_label'],\n",
       "      dtype='object')"
      ]
     },
     "execution_count": 21,
     "metadata": {},
     "output_type": "execute_result"
    }
   ],
   "source": [
    "TRIAL_LABELS_DF.columns"
   ]
  },
  {
   "cell_type": "markdown",
   "metadata": {},
   "source": [
    "## Merging the labels and LFP spectral"
   ]
  },
  {
   "cell_type": "code",
   "execution_count": 22,
   "metadata": {
    "tags": []
   },
   "outputs": [
    {
     "data": {
      "text/html": [
       "<div>\n",
       "<style scoped>\n",
       "    .dataframe tbody tr th:only-of-type {\n",
       "        vertical-align: middle;\n",
       "    }\n",
       "\n",
       "    .dataframe tbody tr th {\n",
       "        vertical-align: top;\n",
       "    }\n",
       "\n",
       "    .dataframe thead th {\n",
       "        text-align: right;\n",
       "    }\n",
       "</style>\n",
       "<table border=\"1\" class=\"dataframe\">\n",
       "  <thead>\n",
       "    <tr style=\"text-align: right;\">\n",
       "      <th></th>\n",
       "      <th>tracked_subject</th>\n",
       "      <th>box_number</th>\n",
       "      <th>sleap_name</th>\n",
       "      <th>video_name</th>\n",
       "      <th>current_subject</th>\n",
       "      <th>tone_start_frame</th>\n",
       "      <th>reward_start_frame</th>\n",
       "      <th>tone_stop_frame</th>\n",
       "      <th>condition</th>\n",
       "      <th>competition_closeness</th>\n",
       "      <th>notes</th>\n",
       "      <th>experiment</th>\n",
       "      <th>session_dir</th>\n",
       "      <th>all_subjects</th>\n",
       "      <th>tone_start_timestamp</th>\n",
       "      <th>tone_stop_timestamp</th>\n",
       "      <th>trial_label</th>\n",
       "    </tr>\n",
       "  </thead>\n",
       "  <tbody>\n",
       "    <tr>\n",
       "      <th>0</th>\n",
       "      <td>1.1_1.2</td>\n",
       "      <td>1</td>\n",
       "      <td>20230612_112630_standard_comp_to_training_D1_s...</td>\n",
       "      <td>20230612_112630_standard_comp_to_training_D1_s...</td>\n",
       "      <td>1.1</td>\n",
       "      <td>1125</td>\n",
       "      <td>1225</td>\n",
       "      <td>1324</td>\n",
       "      <td>1.1</td>\n",
       "      <td>Subj 1 blocking Subj 2</td>\n",
       "      <td>NaN</td>\n",
       "      <td>standard</td>\n",
       "      <td>20230612_112630_standard_comp_to_training_D1_s...</td>\n",
       "      <td>['1.1', '1.2']</td>\n",
       "      <td>1126742</td>\n",
       "      <td>1326741</td>\n",
       "      <td>win</td>\n",
       "    </tr>\n",
       "    <tr>\n",
       "      <th>1</th>\n",
       "      <td>1.1_1.2</td>\n",
       "      <td>1</td>\n",
       "      <td>20230612_112630_standard_comp_to_training_D1_s...</td>\n",
       "      <td>20230612_112630_standard_comp_to_training_D1_s...</td>\n",
       "      <td>1.2</td>\n",
       "      <td>1125</td>\n",
       "      <td>1225</td>\n",
       "      <td>1324</td>\n",
       "      <td>1.1</td>\n",
       "      <td>Subj 1 blocking Subj 2</td>\n",
       "      <td>NaN</td>\n",
       "      <td>standard</td>\n",
       "      <td>20230612_112630_standard_comp_to_training_D1_s...</td>\n",
       "      <td>['1.1', '1.2']</td>\n",
       "      <td>1126742</td>\n",
       "      <td>1326741</td>\n",
       "      <td>lose</td>\n",
       "    </tr>\n",
       "    <tr>\n",
       "      <th>2</th>\n",
       "      <td>1.1_1.2</td>\n",
       "      <td>1</td>\n",
       "      <td>20230612_112630_standard_comp_to_training_D1_s...</td>\n",
       "      <td>20230612_112630_standard_comp_to_training_D1_s...</td>\n",
       "      <td>1.1</td>\n",
       "      <td>3519</td>\n",
       "      <td>3619</td>\n",
       "      <td>3720</td>\n",
       "      <td>1.2</td>\n",
       "      <td>Subj 2 Only</td>\n",
       "      <td>NaN</td>\n",
       "      <td>standard</td>\n",
       "      <td>20230612_112630_standard_comp_to_training_D1_s...</td>\n",
       "      <td>['1.1', '1.2']</td>\n",
       "      <td>3526740</td>\n",
       "      <td>3726740</td>\n",
       "      <td>lose</td>\n",
       "    </tr>\n",
       "    <tr>\n",
       "      <th>3</th>\n",
       "      <td>1.1_1.2</td>\n",
       "      <td>1</td>\n",
       "      <td>20230612_112630_standard_comp_to_training_D1_s...</td>\n",
       "      <td>20230612_112630_standard_comp_to_training_D1_s...</td>\n",
       "      <td>1.2</td>\n",
       "      <td>3519</td>\n",
       "      <td>3619</td>\n",
       "      <td>3720</td>\n",
       "      <td>1.2</td>\n",
       "      <td>Subj 2 Only</td>\n",
       "      <td>NaN</td>\n",
       "      <td>standard</td>\n",
       "      <td>20230612_112630_standard_comp_to_training_D1_s...</td>\n",
       "      <td>['1.1', '1.2']</td>\n",
       "      <td>3526740</td>\n",
       "      <td>3726740</td>\n",
       "      <td>win</td>\n",
       "    </tr>\n",
       "    <tr>\n",
       "      <th>4</th>\n",
       "      <td>1.1_1.2</td>\n",
       "      <td>1</td>\n",
       "      <td>20230612_112630_standard_comp_to_training_D1_s...</td>\n",
       "      <td>20230612_112630_standard_comp_to_training_D1_s...</td>\n",
       "      <td>1.1</td>\n",
       "      <td>5815</td>\n",
       "      <td>5915</td>\n",
       "      <td>6014</td>\n",
       "      <td>1.2</td>\n",
       "      <td>Subj 2 blocking Subj 1</td>\n",
       "      <td>NaN</td>\n",
       "      <td>standard</td>\n",
       "      <td>20230612_112630_standard_comp_to_training_D1_s...</td>\n",
       "      <td>['1.1', '1.2']</td>\n",
       "      <td>5826740</td>\n",
       "      <td>6026737</td>\n",
       "      <td>lose</td>\n",
       "    </tr>\n",
       "  </tbody>\n",
       "</table>\n",
       "</div>"
      ],
      "text/plain": [
       "  tracked_subject  box_number  \\\n",
       "0         1.1_1.2           1   \n",
       "1         1.1_1.2           1   \n",
       "2         1.1_1.2           1   \n",
       "3         1.1_1.2           1   \n",
       "4         1.1_1.2           1   \n",
       "\n",
       "                                          sleap_name  \\\n",
       "0  20230612_112630_standard_comp_to_training_D1_s...   \n",
       "1  20230612_112630_standard_comp_to_training_D1_s...   \n",
       "2  20230612_112630_standard_comp_to_training_D1_s...   \n",
       "3  20230612_112630_standard_comp_to_training_D1_s...   \n",
       "4  20230612_112630_standard_comp_to_training_D1_s...   \n",
       "\n",
       "                                          video_name  current_subject  \\\n",
       "0  20230612_112630_standard_comp_to_training_D1_s...              1.1   \n",
       "1  20230612_112630_standard_comp_to_training_D1_s...              1.2   \n",
       "2  20230612_112630_standard_comp_to_training_D1_s...              1.1   \n",
       "3  20230612_112630_standard_comp_to_training_D1_s...              1.2   \n",
       "4  20230612_112630_standard_comp_to_training_D1_s...              1.1   \n",
       "\n",
       "   tone_start_frame  reward_start_frame  tone_stop_frame condition  \\\n",
       "0              1125                1225             1324       1.1   \n",
       "1              1125                1225             1324       1.1   \n",
       "2              3519                3619             3720       1.2   \n",
       "3              3519                3619             3720       1.2   \n",
       "4              5815                5915             6014       1.2   \n",
       "\n",
       "    competition_closeness notes experiment  \\\n",
       "0  Subj 1 blocking Subj 2   NaN   standard   \n",
       "1  Subj 1 blocking Subj 2   NaN   standard   \n",
       "2             Subj 2 Only   NaN   standard   \n",
       "3             Subj 2 Only   NaN   standard   \n",
       "4  Subj 2 blocking Subj 1   NaN   standard   \n",
       "\n",
       "                                         session_dir    all_subjects  \\\n",
       "0  20230612_112630_standard_comp_to_training_D1_s...  ['1.1', '1.2']   \n",
       "1  20230612_112630_standard_comp_to_training_D1_s...  ['1.1', '1.2']   \n",
       "2  20230612_112630_standard_comp_to_training_D1_s...  ['1.1', '1.2']   \n",
       "3  20230612_112630_standard_comp_to_training_D1_s...  ['1.1', '1.2']   \n",
       "4  20230612_112630_standard_comp_to_training_D1_s...  ['1.1', '1.2']   \n",
       "\n",
       "   tone_start_timestamp  tone_stop_timestamp trial_label  \n",
       "0               1126742              1326741         win  \n",
       "1               1126742              1326741        lose  \n",
       "2               3526740              3726740        lose  \n",
       "3               3526740              3726740         win  \n",
       "4               5826740              6026737        lose  "
      ]
     },
     "execution_count": 22,
     "metadata": {},
     "output_type": "execute_result"
    }
   ],
   "source": [
    "TRIAL_LABELS_DF.head()"
   ]
  },
  {
   "cell_type": "code",
   "execution_count": 23,
   "metadata": {
    "tags": []
   },
   "outputs": [
    {
     "data": {
      "text/html": [
       "<div>\n",
       "<style scoped>\n",
       "    .dataframe tbody tr th:only-of-type {\n",
       "        vertical-align: middle;\n",
       "    }\n",
       "\n",
       "    .dataframe tbody tr th {\n",
       "        vertical-align: top;\n",
       "    }\n",
       "\n",
       "    .dataframe thead th {\n",
       "        text-align: right;\n",
       "    }\n",
       "</style>\n",
       "<table border=\"1\" class=\"dataframe\">\n",
       "  <thead>\n",
       "    <tr style=\"text-align: right;\">\n",
       "      <th></th>\n",
       "      <th>cohort</th>\n",
       "      <th>session_dir</th>\n",
       "      <th>tone_frames</th>\n",
       "      <th>box_1_port_entry_frames</th>\n",
       "      <th>box_2_port_entry_frames</th>\n",
       "      <th>video_name</th>\n",
       "      <th>session_path</th>\n",
       "      <th>recording</th>\n",
       "      <th>current_subject</th>\n",
       "      <th>subject</th>\n",
       "      <th>...</th>\n",
       "      <th>agent_locations</th>\n",
       "      <th>subject_thorax_velocity</th>\n",
       "      <th>agent_thorax_velocity</th>\n",
       "      <th>subject_thorax_to_reward_port</th>\n",
       "      <th>agent_thorax_to_reward_port</th>\n",
       "      <th>recording_name</th>\n",
       "      <th>spike_clusters</th>\n",
       "      <th>spike_times</th>\n",
       "      <th>neuron_average_fr</th>\n",
       "      <th>neuron_average_timestamps</th>\n",
       "    </tr>\n",
       "  </thead>\n",
       "  <tbody>\n",
       "    <tr>\n",
       "      <th>0</th>\n",
       "      <td>2</td>\n",
       "      <td>20230617_115521_standard_comp_to_omission_D1_s...</td>\n",
       "      <td>[[1029, 1229], [3425, 3624], [5721, 5920], [75...</td>\n",
       "      <td>[[102, 105], [110, 148], [193, 199], [200, 202...</td>\n",
       "      <td>[[24984, 31321], [39533, 39547], [39554, 39559...</td>\n",
       "      <td>20230617_115521_standard_comp_to_omission_D1_s...</td>\n",
       "      <td>/scratch/back_up/reward_competition_extention/...</td>\n",
       "      <td>20230617_115521_standard_comp_to_omission_D1_s...</td>\n",
       "      <td>1.1</td>\n",
       "      <td>1.1</td>\n",
       "      <td>...</td>\n",
       "      <td>NaN</td>\n",
       "      <td>[14.84, 13.97, 13.13, 12.32, 11.54, 10.78, 10....</td>\n",
       "      <td>NaN</td>\n",
       "      <td>[25.6, 25.84, 25.86, 25.86, 25.86, 25.86, 25.8...</td>\n",
       "      <td>NaN</td>\n",
       "      <td>20230617_115521_standard_comp_to_omission_D1_s...</td>\n",
       "      <td>[3, 4, 5, 6, 17, 28, 29, 39, 48, 52, 53, 54, 5...</td>\n",
       "      <td>[[673223.0, 2367433.0, 2569212.0, 3969647.0, 3...</td>\n",
       "      <td>[[0.0, 0.0, 0.0, 0.0, 0.0, 0.0, 0.0, 0.0, 0.0,...</td>\n",
       "      <td>[0, 2000, 4000, 6000, 8000, 10000, 12000, 1400...</td>\n",
       "    </tr>\n",
       "    <tr>\n",
       "      <th>1</th>\n",
       "      <td>2</td>\n",
       "      <td>20230617_115521_standard_comp_to_omission_D1_s...</td>\n",
       "      <td>[[1029, 1229], [3425, 3624], [5721, 5920], [75...</td>\n",
       "      <td>[[102, 105], [110, 148], [193, 199], [200, 202...</td>\n",
       "      <td>[[24984, 31321], [39533, 39547], [39554, 39559...</td>\n",
       "      <td>20230617_115521_standard_comp_to_omission_D1_s...</td>\n",
       "      <td>/scratch/back_up/reward_competition_extention/...</td>\n",
       "      <td>20230617_115521_standard_comp_to_omission_D1_s...</td>\n",
       "      <td>1.1</td>\n",
       "      <td>1.1</td>\n",
       "      <td>...</td>\n",
       "      <td>[[[40.039741738777444, 9.47029992556593], [42....</td>\n",
       "      <td>[8.96, 8.195, 7.54, 7.004, 6.605, 6.348, 6.227...</td>\n",
       "      <td>[11.19, 10.55, 9.92, 9.31, 8.734, 8.18, 7.64, ...</td>\n",
       "      <td>[11.19, 11.234, 11.73, 12.34, 12.56, 13.58, 13...</td>\n",
       "      <td>[25.6, 25.84, 25.86, 25.86, 25.86, 25.86, 25.8...</td>\n",
       "      <td>20230617_115521_standard_comp_to_omission_D1_s...</td>\n",
       "      <td>[3, 4, 5, 6, 17, 28, 29, 39, 48, 52, 53, 54, 5...</td>\n",
       "      <td>[[673223.0, 2367433.0, 2569212.0, 3969647.0, 3...</td>\n",
       "      <td>[[0.0, 0.0, 0.0, 0.0, 0.0, 0.0, 0.0, 0.0, 0.0,...</td>\n",
       "      <td>[0, 2000, 4000, 6000, 8000, 10000, 12000, 1400...</td>\n",
       "    </tr>\n",
       "    <tr>\n",
       "      <th>2</th>\n",
       "      <td>2</td>\n",
       "      <td>20230617_115521_standard_comp_to_omission_D1_s...</td>\n",
       "      <td>[[1029, 1229], [3425, 3624], [5721, 5920], [75...</td>\n",
       "      <td>[[102, 105], [110, 148], [193, 199], [200, 202...</td>\n",
       "      <td>[[24984, 31321], [39533, 39547], [39554, 39559...</td>\n",
       "      <td>20230617_115521_standard_comp_to_omission_D1_s...</td>\n",
       "      <td>/scratch/back_up/reward_competition_extention/...</td>\n",
       "      <td>20230617_115521_standard_comp_to_omission_D1_s...</td>\n",
       "      <td>1.2</td>\n",
       "      <td>1.2</td>\n",
       "      <td>...</td>\n",
       "      <td>[[[57.86163468579171, 31.554562356382696], [59...</td>\n",
       "      <td>[11.19, 10.55, 9.92, 9.31, 8.734, 8.18, 7.64, ...</td>\n",
       "      <td>[8.96, 8.195, 7.54, 7.004, 6.605, 6.348, 6.227...</td>\n",
       "      <td>[25.6, 25.84, 25.86, 25.86, 25.86, 25.86, 25.8...</td>\n",
       "      <td>[11.19, 11.234, 11.73, 12.34, 12.56, 13.58, 13...</td>\n",
       "      <td>20230617_115521_standard_comp_to_omission_D1_s...</td>\n",
       "      <td>[16, 17, 20, 25, 26, 34, 35, 39, 40, 42, 43, 4...</td>\n",
       "      <td>[[958.0, 5233.0, 6331.0, 7475.0, 8599.0, 10550...</td>\n",
       "      <td>[[1.0, 0.0, 1.0, 2.0, 1.0, 1.0, 0.0, 0.0, 0.0,...</td>\n",
       "      <td>[0, 2000, 4000, 6000, 8000, 10000, 12000, 1400...</td>\n",
       "    </tr>\n",
       "    <tr>\n",
       "      <th>3</th>\n",
       "      <td>2</td>\n",
       "      <td>20230617_115521_standard_comp_to_omission_D1_s...</td>\n",
       "      <td>[[0, 0], [0, 0], [0, 0], [0, 0], [0, 0], [0, 0...</td>\n",
       "      <td>[[0, 0], [0, 0], [0, 0], [0, 0], [0, 0], [0, 0...</td>\n",
       "      <td>[[0, 0], [0, 0], [0, 0], [0, 5], [12, 13], [13...</td>\n",
       "      <td>20230617_115521_standard_comp_to_omission_D1_s...</td>\n",
       "      <td>/scratch/back_up/reward_competition_extention/...</td>\n",
       "      <td>20230617_115521_standard_comp_to_omission_D1_s...</td>\n",
       "      <td>1.2</td>\n",
       "      <td>1.2</td>\n",
       "      <td>...</td>\n",
       "      <td>NaN</td>\n",
       "      <td>[5.184, 4.777, 4.383, 4.0, 3.629, 3.271, 2.926...</td>\n",
       "      <td>NaN</td>\n",
       "      <td>[6.223, 6.227, 6.234, 6.24, 6.203, 6.2, 6.203,...</td>\n",
       "      <td>NaN</td>\n",
       "      <td>20230617_115521_standard_comp_to_omission_D1_s...</td>\n",
       "      <td>[16, 17, 20, 25, 26, 34, 35, 39, 40, 42, 43, 4...</td>\n",
       "      <td>[[958.0, 5233.0, 6331.0, 7475.0, 8599.0, 10550...</td>\n",
       "      <td>[[1.0, 0.0, 1.0, 2.0, 1.0, 1.0, 0.0, 0.0, 0.0,...</td>\n",
       "      <td>[0, 2000, 4000, 6000, 8000, 10000, 12000, 1400...</td>\n",
       "    </tr>\n",
       "    <tr>\n",
       "      <th>4</th>\n",
       "      <td>2</td>\n",
       "      <td>20230618_100636_standard_comp_to_omission_D2_s...</td>\n",
       "      <td>[[1098, 1297], [3492, 3693], [5788, 5988], [75...</td>\n",
       "      <td>[[788, 835], [838, 839], [839, 871], [871, 900...</td>\n",
       "      <td>[[33026, 33037], [33038, 33042], [33044, 33049...</td>\n",
       "      <td>20230618_100636_standard_comp_to_omission_D2_s...</td>\n",
       "      <td>/scratch/back_up/reward_competition_extention/...</td>\n",
       "      <td>20230618_100636_standard_comp_to_omission_D2_s...</td>\n",
       "      <td>1.1</td>\n",
       "      <td>1.1</td>\n",
       "      <td>...</td>\n",
       "      <td>[[[31.37122566669405, 31.1085619584881], [33.5...</td>\n",
       "      <td>[1.143, 1.143, 1.142, 1.139, 1.135, 1.129, 1.1...</td>\n",
       "      <td>[0.6333, 0.5635, 0.4963, 0.4321, 0.3713, 0.313...</td>\n",
       "      <td>[5.727, 5.91, 5.93, 5.965, 5.99, 5.992, 6.355,...</td>\n",
       "      <td>[13.75, 14.18, 13.734, 13.74, 13.76, 13.84, 13...</td>\n",
       "      <td>20230618_100636_standard_comp_to_omission_D2_s...</td>\n",
       "      <td>[7, 11, 12, 48, 50, 51, 61, 64, 76, 84, 90, 98...</td>\n",
       "      <td>[[506.0, 1419.0, 2358.0, 5104.0, 6785.0, 7620....</td>\n",
       "      <td>[[2.0, 1.0, 1.0, 2.0, 1.0, 0.0, 3.0, 0.0, 1.0,...</td>\n",
       "      <td>[0, 2000, 4000, 6000, 8000, 10000, 12000, 1400...</td>\n",
       "    </tr>\n",
       "  </tbody>\n",
       "</table>\n",
       "<p>5 rows × 158 columns</p>\n",
       "</div>"
      ],
      "text/plain": [
       "   cohort                                        session_dir  \\\n",
       "0       2  20230617_115521_standard_comp_to_omission_D1_s...   \n",
       "1       2  20230617_115521_standard_comp_to_omission_D1_s...   \n",
       "2       2  20230617_115521_standard_comp_to_omission_D1_s...   \n",
       "3       2  20230617_115521_standard_comp_to_omission_D1_s...   \n",
       "4       2  20230618_100636_standard_comp_to_omission_D2_s...   \n",
       "\n",
       "                                         tone_frames  \\\n",
       "0  [[1029, 1229], [3425, 3624], [5721, 5920], [75...   \n",
       "1  [[1029, 1229], [3425, 3624], [5721, 5920], [75...   \n",
       "2  [[1029, 1229], [3425, 3624], [5721, 5920], [75...   \n",
       "3  [[0, 0], [0, 0], [0, 0], [0, 0], [0, 0], [0, 0...   \n",
       "4  [[1098, 1297], [3492, 3693], [5788, 5988], [75...   \n",
       "\n",
       "                             box_1_port_entry_frames  \\\n",
       "0  [[102, 105], [110, 148], [193, 199], [200, 202...   \n",
       "1  [[102, 105], [110, 148], [193, 199], [200, 202...   \n",
       "2  [[102, 105], [110, 148], [193, 199], [200, 202...   \n",
       "3  [[0, 0], [0, 0], [0, 0], [0, 0], [0, 0], [0, 0...   \n",
       "4  [[788, 835], [838, 839], [839, 871], [871, 900...   \n",
       "\n",
       "                             box_2_port_entry_frames  \\\n",
       "0  [[24984, 31321], [39533, 39547], [39554, 39559...   \n",
       "1  [[24984, 31321], [39533, 39547], [39554, 39559...   \n",
       "2  [[24984, 31321], [39533, 39547], [39554, 39559...   \n",
       "3  [[0, 0], [0, 0], [0, 0], [0, 5], [12, 13], [13...   \n",
       "4  [[33026, 33037], [33038, 33042], [33044, 33049...   \n",
       "\n",
       "                                          video_name  \\\n",
       "0  20230617_115521_standard_comp_to_omission_D1_s...   \n",
       "1  20230617_115521_standard_comp_to_omission_D1_s...   \n",
       "2  20230617_115521_standard_comp_to_omission_D1_s...   \n",
       "3  20230617_115521_standard_comp_to_omission_D1_s...   \n",
       "4  20230618_100636_standard_comp_to_omission_D2_s...   \n",
       "\n",
       "                                        session_path  \\\n",
       "0  /scratch/back_up/reward_competition_extention/...   \n",
       "1  /scratch/back_up/reward_competition_extention/...   \n",
       "2  /scratch/back_up/reward_competition_extention/...   \n",
       "3  /scratch/back_up/reward_competition_extention/...   \n",
       "4  /scratch/back_up/reward_competition_extention/...   \n",
       "\n",
       "                                           recording current_subject subject  \\\n",
       "0  20230617_115521_standard_comp_to_omission_D1_s...             1.1     1.1   \n",
       "1  20230617_115521_standard_comp_to_omission_D1_s...             1.1     1.1   \n",
       "2  20230617_115521_standard_comp_to_omission_D1_s...             1.2     1.2   \n",
       "3  20230617_115521_standard_comp_to_omission_D1_s...             1.2     1.2   \n",
       "4  20230618_100636_standard_comp_to_omission_D2_s...             1.1     1.1   \n",
       "\n",
       "   ...                                    agent_locations  \\\n",
       "0  ...                                                NaN   \n",
       "1  ...  [[[40.039741738777444, 9.47029992556593], [42....   \n",
       "2  ...  [[[57.86163468579171, 31.554562356382696], [59...   \n",
       "3  ...                                                NaN   \n",
       "4  ...  [[[31.37122566669405, 31.1085619584881], [33.5...   \n",
       "\n",
       "                             subject_thorax_velocity  \\\n",
       "0  [14.84, 13.97, 13.13, 12.32, 11.54, 10.78, 10....   \n",
       "1  [8.96, 8.195, 7.54, 7.004, 6.605, 6.348, 6.227...   \n",
       "2  [11.19, 10.55, 9.92, 9.31, 8.734, 8.18, 7.64, ...   \n",
       "3  [5.184, 4.777, 4.383, 4.0, 3.629, 3.271, 2.926...   \n",
       "4  [1.143, 1.143, 1.142, 1.139, 1.135, 1.129, 1.1...   \n",
       "\n",
       "                               agent_thorax_velocity  \\\n",
       "0                                                NaN   \n",
       "1  [11.19, 10.55, 9.92, 9.31, 8.734, 8.18, 7.64, ...   \n",
       "2  [8.96, 8.195, 7.54, 7.004, 6.605, 6.348, 6.227...   \n",
       "3                                                NaN   \n",
       "4  [0.6333, 0.5635, 0.4963, 0.4321, 0.3713, 0.313...   \n",
       "\n",
       "                       subject_thorax_to_reward_port  \\\n",
       "0  [25.6, 25.84, 25.86, 25.86, 25.86, 25.86, 25.8...   \n",
       "1  [11.19, 11.234, 11.73, 12.34, 12.56, 13.58, 13...   \n",
       "2  [25.6, 25.84, 25.86, 25.86, 25.86, 25.86, 25.8...   \n",
       "3  [6.223, 6.227, 6.234, 6.24, 6.203, 6.2, 6.203,...   \n",
       "4  [5.727, 5.91, 5.93, 5.965, 5.99, 5.992, 6.355,...   \n",
       "\n",
       "                         agent_thorax_to_reward_port  \\\n",
       "0                                                NaN   \n",
       "1  [25.6, 25.84, 25.86, 25.86, 25.86, 25.86, 25.8...   \n",
       "2  [11.19, 11.234, 11.73, 12.34, 12.56, 13.58, 13...   \n",
       "3                                                NaN   \n",
       "4  [13.75, 14.18, 13.734, 13.74, 13.76, 13.84, 13...   \n",
       "\n",
       "                                      recording_name  \\\n",
       "0  20230617_115521_standard_comp_to_omission_D1_s...   \n",
       "1  20230617_115521_standard_comp_to_omission_D1_s...   \n",
       "2  20230617_115521_standard_comp_to_omission_D1_s...   \n",
       "3  20230617_115521_standard_comp_to_omission_D1_s...   \n",
       "4  20230618_100636_standard_comp_to_omission_D2_s...   \n",
       "\n",
       "                                      spike_clusters  \\\n",
       "0  [3, 4, 5, 6, 17, 28, 29, 39, 48, 52, 53, 54, 5...   \n",
       "1  [3, 4, 5, 6, 17, 28, 29, 39, 48, 52, 53, 54, 5...   \n",
       "2  [16, 17, 20, 25, 26, 34, 35, 39, 40, 42, 43, 4...   \n",
       "3  [16, 17, 20, 25, 26, 34, 35, 39, 40, 42, 43, 4...   \n",
       "4  [7, 11, 12, 48, 50, 51, 61, 64, 76, 84, 90, 98...   \n",
       "\n",
       "                                         spike_times  \\\n",
       "0  [[673223.0, 2367433.0, 2569212.0, 3969647.0, 3...   \n",
       "1  [[673223.0, 2367433.0, 2569212.0, 3969647.0, 3...   \n",
       "2  [[958.0, 5233.0, 6331.0, 7475.0, 8599.0, 10550...   \n",
       "3  [[958.0, 5233.0, 6331.0, 7475.0, 8599.0, 10550...   \n",
       "4  [[506.0, 1419.0, 2358.0, 5104.0, 6785.0, 7620....   \n",
       "\n",
       "                                   neuron_average_fr  \\\n",
       "0  [[0.0, 0.0, 0.0, 0.0, 0.0, 0.0, 0.0, 0.0, 0.0,...   \n",
       "1  [[0.0, 0.0, 0.0, 0.0, 0.0, 0.0, 0.0, 0.0, 0.0,...   \n",
       "2  [[1.0, 0.0, 1.0, 2.0, 1.0, 1.0, 0.0, 0.0, 0.0,...   \n",
       "3  [[1.0, 0.0, 1.0, 2.0, 1.0, 1.0, 0.0, 0.0, 0.0,...   \n",
       "4  [[2.0, 1.0, 1.0, 2.0, 1.0, 0.0, 3.0, 0.0, 1.0,...   \n",
       "\n",
       "                           neuron_average_timestamps  \n",
       "0  [0, 2000, 4000, 6000, 8000, 10000, 12000, 1400...  \n",
       "1  [0, 2000, 4000, 6000, 8000, 10000, 12000, 1400...  \n",
       "2  [0, 2000, 4000, 6000, 8000, 10000, 12000, 1400...  \n",
       "3  [0, 2000, 4000, 6000, 8000, 10000, 12000, 1400...  \n",
       "4  [0, 2000, 4000, 6000, 8000, 10000, 12000, 1400...  \n",
       "\n",
       "[5 rows x 158 columns]"
      ]
     },
     "execution_count": 23,
     "metadata": {},
     "output_type": "execute_result"
    }
   ],
   "source": [
    "LFP_SPECTRAL_DF.head()"
   ]
  },
  {
   "cell_type": "code",
   "execution_count": 24,
   "metadata": {
    "tags": []
   },
   "outputs": [],
   "source": [
    "LFP_SPECTRAL_DF[\"video_name\"] = LFP_SPECTRAL_DF[\"video_name\"].apply(lambda x: x.strip(\".videoTimeStamps.cameraHWSync\"))"
   ]
  },
  {
   "cell_type": "code",
   "execution_count": 25,
   "metadata": {
    "tags": []
   },
   "outputs": [],
   "source": [
    "LFP_SPECTRAL_DF[\"current_subject\"] = LFP_SPECTRAL_DF[\"current_subject\"].astype(str)\n",
    "TRIAL_LABELS_DF[\"current_subject\"] = TRIAL_LABELS_DF[\"current_subject\"].astype(str)"
   ]
  },
  {
   "cell_type": "code",
   "execution_count": 26,
   "metadata": {
    "tags": []
   },
   "outputs": [
    {
     "data": {
      "text/plain": [
       "array(['20230612_112630_standard_comp_to_training_D1_subj_1-2_and_1-1.1',\n",
       "       '20230612_112630_standard_comp_to_training_D1_subj_1-2_and_1-1.2',\n",
       "       '20230613_105657_standard_comp_to_training_D2_subj_1-1_and_1-4.1',\n",
       "       '20230613_105657_standard_comp_to_training_D2_subj_1-1_and_1-4.2',\n",
       "       '20230614_114041_standard_comp_to_training_D3_subj_1-1_and_1-2.1',\n",
       "       '20230614_114041_standard_comp_to_training_D3_subj_1-1_and_1-2.2',\n",
       "       '20230614_114041_standard_comp_to_training_D3_subj_1-1_and_1-2.3',\n",
       "       '20230616_111904_standard_comp_to_training_D4_subj_1-4_and_1-2.1',\n",
       "       '20230616_111904_standard_comp_to_training_D4_subj_1-4_and_1-2.2',\n",
       "       '20230617_115521_standard_comp_to_omission_D1_subj_1-1_and_1-2.1',\n",
       "       '20230618_100636_standard_comp_to_omission_D2_subj_1-4_and_1-1.1',\n",
       "       '20230618_100636_standard_comp_to_omission_D2_subj_1-4_and_1-1.2',\n",
       "       '20230620_114347_standard_comp_to_omission_D4_subj_1-2_and_1-1.1',\n",
       "       '20230620_114347_standard_comp_to_omission_D4_subj_1-2_and_1-1.2',\n",
       "       '20230621_111240_standard_comp_to_omission_D5_subj_1-4_and_1-2.1',\n",
       "       '20230621_111240_standard_comp_to_omission_D5_subj_1-4_and_1-2.2',\n",
       "       '20230622_110832_standard_comp_to_both_rewarded_D1_subj_1-1_and_1-2.1',\n",
       "       '20230624_105855_standard_comp_to_both_rewarded_D3_subj_1-2_and_1-4.1',\n",
       "       '20230625_112913_standard_comp_to_both_rewarded_D4_subj_1-1_and_1-4.1',\n",
       "       '20230628_111202_standard_comp_to_novel_agent_D1_subj_1-1vs2-2and1-2vs2-1.1',\n",
       "       '20230628_111202_standard_comp_to_novel_agent_D1_subj_1-1vs2-2and1-2vs2-1.3',\n",
       "       '20230629_111937_standard_comp_to_novel_agent_D2_subj_1-1vs2-1and1-4vs2-2.1',\n",
       "       '20230629_111937_standard_comp_to_novel_agent_D2_subj_1-1vs2-1and1-4vs2-2.2',\n",
       "       '20230630_115506_standard_comp_to_novel_agent_D3_subj_1-4vs2-1and1-2vs2-2.1',\n",
       "       '20230630_115506_standard_comp_to_novel_agent_D3_subj_1-4vs2-1and1-2vs2-2.2'],\n",
       "      dtype=object)"
      ]
     },
     "execution_count": 26,
     "metadata": {},
     "output_type": "execute_result"
    }
   ],
   "source": [
    "TRIAL_LABELS_DF[\"video_name\"].unique()"
   ]
  },
  {
   "cell_type": "code",
   "execution_count": 27,
   "metadata": {
    "tags": []
   },
   "outputs": [
    {
     "data": {
      "text/plain": [
       "array(['20230617_115521_standard_comp_to_omission_D1_subj_1-1_and_1-2.1',\n",
       "       '20230617_115521_standard_comp_to_omission_D1_subj_1-1_and_1-2.3',\n",
       "       '20230618_100636_standard_comp_to_omission_D2_subj_1-4_and_1-1.1',\n",
       "       '20230618_100636_standard_comp_to_omission_D2_subj_1-4_and_1-1.2',\n",
       "       '20230619_115321_standard_comp_to_omission_D3_subj_1-2_and_1-4.4',\n",
       "       '20230620_114347_standard_comp_to_omission_D4_subj_1-2_and_1-1.1',\n",
       "       '20230620_114347_standard_comp_to_omission_D4_subj_1-2_and_1-1.2',\n",
       "       '20230621_111240_standard_comp_to_omission_D5_subj_1-4_and_1-2.1'],\n",
       "      dtype=object)"
      ]
     },
     "execution_count": 27,
     "metadata": {},
     "output_type": "execute_result"
    }
   ],
   "source": [
    "LFP_SPECTRAL_DF[\"video_name\"].unique()"
   ]
  },
  {
   "cell_type": "code",
   "execution_count": 28,
   "metadata": {
    "tags": []
   },
   "outputs": [],
   "source": [
    "TRIALS_AND_SPECTRAL_DF = pd.merge(TRIAL_LABELS_DF, LFP_SPECTRAL_DF, on=[\"current_subject\", \"video_name\"], how=\"inner\", suffixes=('', '_y'))"
   ]
  },
  {
   "cell_type": "code",
   "execution_count": 29,
   "metadata": {
    "tags": []
   },
   "outputs": [],
   "source": [
    "TRIALS_AND_SPECTRAL_DF = TRIALS_AND_SPECTRAL_DF.drop(columns=[col for col in TRIALS_AND_SPECTRAL_DF.columns if \"trace\" in col], errors=\"ignore\")"
   ]
  },
  {
   "cell_type": "code",
   "execution_count": 30,
   "metadata": {
    "tags": []
   },
   "outputs": [],
   "source": [
    "TRIALS_AND_SPECTRAL_DF = TRIALS_AND_SPECTRAL_DF.drop(columns=[col for col in TRIALS_AND_SPECTRAL_DF.columns if \"_y\" in col], errors=\"ignore\")"
   ]
  },
  {
   "cell_type": "code",
   "execution_count": 31,
   "metadata": {
    "tags": []
   },
   "outputs": [
    {
     "data": {
      "text/html": [
       "<div>\n",
       "<style scoped>\n",
       "    .dataframe tbody tr th:only-of-type {\n",
       "        vertical-align: middle;\n",
       "    }\n",
       "\n",
       "    .dataframe tbody tr th {\n",
       "        vertical-align: top;\n",
       "    }\n",
       "\n",
       "    .dataframe thead th {\n",
       "        text-align: right;\n",
       "    }\n",
       "</style>\n",
       "<table border=\"1\" class=\"dataframe\">\n",
       "  <thead>\n",
       "    <tr style=\"text-align: right;\">\n",
       "      <th></th>\n",
       "      <th>tracked_subject</th>\n",
       "      <th>box_number</th>\n",
       "      <th>sleap_name</th>\n",
       "      <th>video_name</th>\n",
       "      <th>current_subject</th>\n",
       "      <th>tone_start_frame</th>\n",
       "      <th>reward_start_frame</th>\n",
       "      <th>tone_stop_frame</th>\n",
       "      <th>condition</th>\n",
       "      <th>competition_closeness</th>\n",
       "      <th>...</th>\n",
       "      <th>agent_locations</th>\n",
       "      <th>subject_thorax_velocity</th>\n",
       "      <th>agent_thorax_velocity</th>\n",
       "      <th>subject_thorax_to_reward_port</th>\n",
       "      <th>agent_thorax_to_reward_port</th>\n",
       "      <th>recording_name</th>\n",
       "      <th>spike_clusters</th>\n",
       "      <th>spike_times</th>\n",
       "      <th>neuron_average_fr</th>\n",
       "      <th>neuron_average_timestamps</th>\n",
       "    </tr>\n",
       "  </thead>\n",
       "  <tbody>\n",
       "    <tr>\n",
       "      <th>0</th>\n",
       "      <td>1.1_1.2</td>\n",
       "      <td>1</td>\n",
       "      <td>20230617_115521_standard_comp_to_omission_D1_s...</td>\n",
       "      <td>20230617_115521_standard_comp_to_omission_D1_s...</td>\n",
       "      <td>1.1</td>\n",
       "      <td>1029</td>\n",
       "      <td>1129</td>\n",
       "      <td>1229</td>\n",
       "      <td>1.2</td>\n",
       "      <td>Subj 2 blocking Subj 1</td>\n",
       "      <td>...</td>\n",
       "      <td>NaN</td>\n",
       "      <td>[14.84, 13.97, 13.13, 12.32, 11.54, 10.78, 10....</td>\n",
       "      <td>NaN</td>\n",
       "      <td>[25.6, 25.84, 25.86, 25.86, 25.86, 25.86, 25.8...</td>\n",
       "      <td>NaN</td>\n",
       "      <td>20230617_115521_standard_comp_to_omission_D1_s...</td>\n",
       "      <td>[3, 4, 5, 6, 17, 28, 29, 39, 48, 52, 53, 54, 5...</td>\n",
       "      <td>[[673223.0, 2367433.0, 2569212.0, 3969647.0, 3...</td>\n",
       "      <td>[[0.0, 0.0, 0.0, 0.0, 0.0, 0.0, 0.0, 0.0, 0.0,...</td>\n",
       "      <td>[0, 2000, 4000, 6000, 8000, 10000, 12000, 1400...</td>\n",
       "    </tr>\n",
       "    <tr>\n",
       "      <th>1</th>\n",
       "      <td>1.1_1.2</td>\n",
       "      <td>1</td>\n",
       "      <td>20230617_115521_standard_comp_to_omission_D1_s...</td>\n",
       "      <td>20230617_115521_standard_comp_to_omission_D1_s...</td>\n",
       "      <td>1.1</td>\n",
       "      <td>1029</td>\n",
       "      <td>1129</td>\n",
       "      <td>1229</td>\n",
       "      <td>1.2</td>\n",
       "      <td>Subj 2 blocking Subj 1</td>\n",
       "      <td>...</td>\n",
       "      <td>[[[40.039741738777444, 9.47029992556593], [42....</td>\n",
       "      <td>[8.96, 8.195, 7.54, 7.004, 6.605, 6.348, 6.227...</td>\n",
       "      <td>[11.19, 10.55, 9.92, 9.31, 8.734, 8.18, 7.64, ...</td>\n",
       "      <td>[11.19, 11.234, 11.73, 12.34, 12.56, 13.58, 13...</td>\n",
       "      <td>[25.6, 25.84, 25.86, 25.86, 25.86, 25.86, 25.8...</td>\n",
       "      <td>20230617_115521_standard_comp_to_omission_D1_s...</td>\n",
       "      <td>[3, 4, 5, 6, 17, 28, 29, 39, 48, 52, 53, 54, 5...</td>\n",
       "      <td>[[673223.0, 2367433.0, 2569212.0, 3969647.0, 3...</td>\n",
       "      <td>[[0.0, 0.0, 0.0, 0.0, 0.0, 0.0, 0.0, 0.0, 0.0,...</td>\n",
       "      <td>[0, 2000, 4000, 6000, 8000, 10000, 12000, 1400...</td>\n",
       "    </tr>\n",
       "    <tr>\n",
       "      <th>2</th>\n",
       "      <td>1.1_1.2</td>\n",
       "      <td>1</td>\n",
       "      <td>20230617_115521_standard_comp_to_omission_D1_s...</td>\n",
       "      <td>20230617_115521_standard_comp_to_omission_D1_s...</td>\n",
       "      <td>1.1</td>\n",
       "      <td>3425</td>\n",
       "      <td>3525</td>\n",
       "      <td>3624</td>\n",
       "      <td>1.1</td>\n",
       "      <td>Subj 1 blocking Subj 2</td>\n",
       "      <td>...</td>\n",
       "      <td>NaN</td>\n",
       "      <td>[14.84, 13.97, 13.13, 12.32, 11.54, 10.78, 10....</td>\n",
       "      <td>NaN</td>\n",
       "      <td>[25.6, 25.84, 25.86, 25.86, 25.86, 25.86, 25.8...</td>\n",
       "      <td>NaN</td>\n",
       "      <td>20230617_115521_standard_comp_to_omission_D1_s...</td>\n",
       "      <td>[3, 4, 5, 6, 17, 28, 29, 39, 48, 52, 53, 54, 5...</td>\n",
       "      <td>[[673223.0, 2367433.0, 2569212.0, 3969647.0, 3...</td>\n",
       "      <td>[[0.0, 0.0, 0.0, 0.0, 0.0, 0.0, 0.0, 0.0, 0.0,...</td>\n",
       "      <td>[0, 2000, 4000, 6000, 8000, 10000, 12000, 1400...</td>\n",
       "    </tr>\n",
       "    <tr>\n",
       "      <th>3</th>\n",
       "      <td>1.1_1.2</td>\n",
       "      <td>1</td>\n",
       "      <td>20230617_115521_standard_comp_to_omission_D1_s...</td>\n",
       "      <td>20230617_115521_standard_comp_to_omission_D1_s...</td>\n",
       "      <td>1.1</td>\n",
       "      <td>3425</td>\n",
       "      <td>3525</td>\n",
       "      <td>3624</td>\n",
       "      <td>1.1</td>\n",
       "      <td>Subj 1 blocking Subj 2</td>\n",
       "      <td>...</td>\n",
       "      <td>[[[40.039741738777444, 9.47029992556593], [42....</td>\n",
       "      <td>[8.96, 8.195, 7.54, 7.004, 6.605, 6.348, 6.227...</td>\n",
       "      <td>[11.19, 10.55, 9.92, 9.31, 8.734, 8.18, 7.64, ...</td>\n",
       "      <td>[11.19, 11.234, 11.73, 12.34, 12.56, 13.58, 13...</td>\n",
       "      <td>[25.6, 25.84, 25.86, 25.86, 25.86, 25.86, 25.8...</td>\n",
       "      <td>20230617_115521_standard_comp_to_omission_D1_s...</td>\n",
       "      <td>[3, 4, 5, 6, 17, 28, 29, 39, 48, 52, 53, 54, 5...</td>\n",
       "      <td>[[673223.0, 2367433.0, 2569212.0, 3969647.0, 3...</td>\n",
       "      <td>[[0.0, 0.0, 0.0, 0.0, 0.0, 0.0, 0.0, 0.0, 0.0,...</td>\n",
       "      <td>[0, 2000, 4000, 6000, 8000, 10000, 12000, 1400...</td>\n",
       "    </tr>\n",
       "    <tr>\n",
       "      <th>4</th>\n",
       "      <td>1.1_1.2</td>\n",
       "      <td>1</td>\n",
       "      <td>20230617_115521_standard_comp_to_omission_D1_s...</td>\n",
       "      <td>20230617_115521_standard_comp_to_omission_D1_s...</td>\n",
       "      <td>1.1</td>\n",
       "      <td>5721</td>\n",
       "      <td>5821</td>\n",
       "      <td>5920</td>\n",
       "      <td>1.1</td>\n",
       "      <td>Subj 1 blocking Subj 2</td>\n",
       "      <td>...</td>\n",
       "      <td>NaN</td>\n",
       "      <td>[14.84, 13.97, 13.13, 12.32, 11.54, 10.78, 10....</td>\n",
       "      <td>NaN</td>\n",
       "      <td>[25.6, 25.84, 25.86, 25.86, 25.86, 25.86, 25.8...</td>\n",
       "      <td>NaN</td>\n",
       "      <td>20230617_115521_standard_comp_to_omission_D1_s...</td>\n",
       "      <td>[3, 4, 5, 6, 17, 28, 29, 39, 48, 52, 53, 54, 5...</td>\n",
       "      <td>[[673223.0, 2367433.0, 2569212.0, 3969647.0, 3...</td>\n",
       "      <td>[[0.0, 0.0, 0.0, 0.0, 0.0, 0.0, 0.0, 0.0, 0.0,...</td>\n",
       "      <td>[0, 2000, 4000, 6000, 8000, 10000, 12000, 1400...</td>\n",
       "    </tr>\n",
       "  </tbody>\n",
       "</table>\n",
       "<p>5 rows × 163 columns</p>\n",
       "</div>"
      ],
      "text/plain": [
       "  tracked_subject  box_number  \\\n",
       "0         1.1_1.2           1   \n",
       "1         1.1_1.2           1   \n",
       "2         1.1_1.2           1   \n",
       "3         1.1_1.2           1   \n",
       "4         1.1_1.2           1   \n",
       "\n",
       "                                          sleap_name  \\\n",
       "0  20230617_115521_standard_comp_to_omission_D1_s...   \n",
       "1  20230617_115521_standard_comp_to_omission_D1_s...   \n",
       "2  20230617_115521_standard_comp_to_omission_D1_s...   \n",
       "3  20230617_115521_standard_comp_to_omission_D1_s...   \n",
       "4  20230617_115521_standard_comp_to_omission_D1_s...   \n",
       "\n",
       "                                          video_name current_subject  \\\n",
       "0  20230617_115521_standard_comp_to_omission_D1_s...             1.1   \n",
       "1  20230617_115521_standard_comp_to_omission_D1_s...             1.1   \n",
       "2  20230617_115521_standard_comp_to_omission_D1_s...             1.1   \n",
       "3  20230617_115521_standard_comp_to_omission_D1_s...             1.1   \n",
       "4  20230617_115521_standard_comp_to_omission_D1_s...             1.1   \n",
       "\n",
       "   tone_start_frame  reward_start_frame  tone_stop_frame condition  \\\n",
       "0              1029                1129             1229       1.2   \n",
       "1              1029                1129             1229       1.2   \n",
       "2              3425                3525             3624       1.1   \n",
       "3              3425                3525             3624       1.1   \n",
       "4              5721                5821             5920       1.1   \n",
       "\n",
       "    competition_closeness  ...  \\\n",
       "0  Subj 2 blocking Subj 1  ...   \n",
       "1  Subj 2 blocking Subj 1  ...   \n",
       "2  Subj 1 blocking Subj 2  ...   \n",
       "3  Subj 1 blocking Subj 2  ...   \n",
       "4  Subj 1 blocking Subj 2  ...   \n",
       "\n",
       "                                     agent_locations  \\\n",
       "0                                                NaN   \n",
       "1  [[[40.039741738777444, 9.47029992556593], [42....   \n",
       "2                                                NaN   \n",
       "3  [[[40.039741738777444, 9.47029992556593], [42....   \n",
       "4                                                NaN   \n",
       "\n",
       "                             subject_thorax_velocity  \\\n",
       "0  [14.84, 13.97, 13.13, 12.32, 11.54, 10.78, 10....   \n",
       "1  [8.96, 8.195, 7.54, 7.004, 6.605, 6.348, 6.227...   \n",
       "2  [14.84, 13.97, 13.13, 12.32, 11.54, 10.78, 10....   \n",
       "3  [8.96, 8.195, 7.54, 7.004, 6.605, 6.348, 6.227...   \n",
       "4  [14.84, 13.97, 13.13, 12.32, 11.54, 10.78, 10....   \n",
       "\n",
       "                               agent_thorax_velocity  \\\n",
       "0                                                NaN   \n",
       "1  [11.19, 10.55, 9.92, 9.31, 8.734, 8.18, 7.64, ...   \n",
       "2                                                NaN   \n",
       "3  [11.19, 10.55, 9.92, 9.31, 8.734, 8.18, 7.64, ...   \n",
       "4                                                NaN   \n",
       "\n",
       "                       subject_thorax_to_reward_port  \\\n",
       "0  [25.6, 25.84, 25.86, 25.86, 25.86, 25.86, 25.8...   \n",
       "1  [11.19, 11.234, 11.73, 12.34, 12.56, 13.58, 13...   \n",
       "2  [25.6, 25.84, 25.86, 25.86, 25.86, 25.86, 25.8...   \n",
       "3  [11.19, 11.234, 11.73, 12.34, 12.56, 13.58, 13...   \n",
       "4  [25.6, 25.84, 25.86, 25.86, 25.86, 25.86, 25.8...   \n",
       "\n",
       "                         agent_thorax_to_reward_port  \\\n",
       "0                                                NaN   \n",
       "1  [25.6, 25.84, 25.86, 25.86, 25.86, 25.86, 25.8...   \n",
       "2                                                NaN   \n",
       "3  [25.6, 25.84, 25.86, 25.86, 25.86, 25.86, 25.8...   \n",
       "4                                                NaN   \n",
       "\n",
       "                                      recording_name  \\\n",
       "0  20230617_115521_standard_comp_to_omission_D1_s...   \n",
       "1  20230617_115521_standard_comp_to_omission_D1_s...   \n",
       "2  20230617_115521_standard_comp_to_omission_D1_s...   \n",
       "3  20230617_115521_standard_comp_to_omission_D1_s...   \n",
       "4  20230617_115521_standard_comp_to_omission_D1_s...   \n",
       "\n",
       "                                      spike_clusters  \\\n",
       "0  [3, 4, 5, 6, 17, 28, 29, 39, 48, 52, 53, 54, 5...   \n",
       "1  [3, 4, 5, 6, 17, 28, 29, 39, 48, 52, 53, 54, 5...   \n",
       "2  [3, 4, 5, 6, 17, 28, 29, 39, 48, 52, 53, 54, 5...   \n",
       "3  [3, 4, 5, 6, 17, 28, 29, 39, 48, 52, 53, 54, 5...   \n",
       "4  [3, 4, 5, 6, 17, 28, 29, 39, 48, 52, 53, 54, 5...   \n",
       "\n",
       "                                         spike_times  \\\n",
       "0  [[673223.0, 2367433.0, 2569212.0, 3969647.0, 3...   \n",
       "1  [[673223.0, 2367433.0, 2569212.0, 3969647.0, 3...   \n",
       "2  [[673223.0, 2367433.0, 2569212.0, 3969647.0, 3...   \n",
       "3  [[673223.0, 2367433.0, 2569212.0, 3969647.0, 3...   \n",
       "4  [[673223.0, 2367433.0, 2569212.0, 3969647.0, 3...   \n",
       "\n",
       "                                   neuron_average_fr  \\\n",
       "0  [[0.0, 0.0, 0.0, 0.0, 0.0, 0.0, 0.0, 0.0, 0.0,...   \n",
       "1  [[0.0, 0.0, 0.0, 0.0, 0.0, 0.0, 0.0, 0.0, 0.0,...   \n",
       "2  [[0.0, 0.0, 0.0, 0.0, 0.0, 0.0, 0.0, 0.0, 0.0,...   \n",
       "3  [[0.0, 0.0, 0.0, 0.0, 0.0, 0.0, 0.0, 0.0, 0.0,...   \n",
       "4  [[0.0, 0.0, 0.0, 0.0, 0.0, 0.0, 0.0, 0.0, 0.0,...   \n",
       "\n",
       "                           neuron_average_timestamps  \n",
       "0  [0, 2000, 4000, 6000, 8000, 10000, 12000, 1400...  \n",
       "1  [0, 2000, 4000, 6000, 8000, 10000, 12000, 1400...  \n",
       "2  [0, 2000, 4000, 6000, 8000, 10000, 12000, 1400...  \n",
       "3  [0, 2000, 4000, 6000, 8000, 10000, 12000, 1400...  \n",
       "4  [0, 2000, 4000, 6000, 8000, 10000, 12000, 1400...  \n",
       "\n",
       "[5 rows x 163 columns]"
      ]
     },
     "execution_count": 31,
     "metadata": {},
     "output_type": "execute_result"
    }
   ],
   "source": [
    "TRIALS_AND_SPECTRAL_DF.head()"
   ]
  },
  {
   "cell_type": "code",
   "execution_count": 32,
   "metadata": {
    "tags": []
   },
   "outputs": [
    {
     "data": {
      "text/plain": [
       "Index(['tracked_subject', 'box_number', 'sleap_name', 'video_name',\n",
       "       'current_subject', 'tone_start_frame', 'reward_start_frame',\n",
       "       'tone_stop_frame', 'condition', 'competition_closeness',\n",
       "       ...\n",
       "       'agent_locations', 'subject_thorax_velocity', 'agent_thorax_velocity',\n",
       "       'subject_thorax_to_reward_port', 'agent_thorax_to_reward_port',\n",
       "       'recording_name', 'spike_clusters', 'spike_times', 'neuron_average_fr',\n",
       "       'neuron_average_timestamps'],\n",
       "      dtype='object', length=163)"
      ]
     },
     "execution_count": 32,
     "metadata": {},
     "output_type": "execute_result"
    }
   ],
   "source": [
    "TRIALS_AND_SPECTRAL_DF.columns"
   ]
  },
  {
   "cell_type": "markdown",
   "metadata": {},
   "source": [
    "# Calculating the relevant timestamps"
   ]
  },
  {
   "cell_type": "code",
   "execution_count": 33,
   "metadata": {
    "tags": []
   },
   "outputs": [],
   "source": [
    "TRIALS_AND_SPECTRAL_DF[\"baseline_start_timestamp\"] = TRIALS_AND_SPECTRAL_DF[\"tone_start_timestamp\"] - 30 * 20000"
   ]
  },
  {
   "cell_type": "code",
   "execution_count": 34,
   "metadata": {
    "tags": []
   },
   "outputs": [],
   "source": [
    "TRIALS_AND_SPECTRAL_DF[\"baseline_stop_timestamp\"] = TRIALS_AND_SPECTRAL_DF[\"tone_start_timestamp\"] - 20 * 20000"
   ]
  },
  {
   "cell_type": "code",
   "execution_count": 35,
   "metadata": {
    "tags": []
   },
   "outputs": [
    {
     "data": {
      "text/plain": [
       "0     430879\n",
       "1     430879\n",
       "2    2830878\n",
       "3    2830878\n",
       "4    5130880\n",
       "Name: baseline_start_timestamp, dtype: int64"
      ]
     },
     "execution_count": 35,
     "metadata": {},
     "output_type": "execute_result"
    }
   ],
   "source": [
    "TRIALS_AND_SPECTRAL_DF[\"baseline_start_timestamp\"].head()"
   ]
  },
  {
   "cell_type": "code",
   "execution_count": 36,
   "metadata": {
    "tags": []
   },
   "outputs": [
    {
     "data": {
      "text/plain": [
       "0     630879\n",
       "1     630879\n",
       "2    3030878\n",
       "3    3030878\n",
       "4    5330880\n",
       "Name: baseline_stop_timestamp, dtype: int64"
      ]
     },
     "execution_count": 36,
     "metadata": {},
     "output_type": "execute_result"
    }
   ],
   "source": [
    "TRIALS_AND_SPECTRAL_DF[\"baseline_stop_timestamp\"].head()"
   ]
  },
  {
   "cell_type": "code",
   "execution_count": 37,
   "metadata": {
    "tags": []
   },
   "outputs": [
    {
     "data": {
      "text/plain": [
       "0    1030879\n",
       "1    1030879\n",
       "2    3430878\n",
       "3    3430878\n",
       "4    5730880\n",
       "Name: tone_start_timestamp, dtype: int64"
      ]
     },
     "execution_count": 37,
     "metadata": {},
     "output_type": "execute_result"
    }
   ],
   "source": [
    "TRIALS_AND_SPECTRAL_DF[\"tone_start_timestamp\"].head()"
   ]
  },
  {
   "cell_type": "code",
   "execution_count": 38,
   "metadata": {
    "tags": []
   },
   "outputs": [
    {
     "data": {
      "text/plain": [
       "0    1230878\n",
       "1    1230878\n",
       "2    3630878\n",
       "3    3630878\n",
       "4    5930880\n",
       "Name: tone_stop_timestamp, dtype: int64"
      ]
     },
     "execution_count": 38,
     "metadata": {},
     "output_type": "execute_result"
    }
   ],
   "source": [
    "TRIALS_AND_SPECTRAL_DF[\"tone_stop_timestamp\"].head()"
   ]
  },
  {
   "cell_type": "markdown",
   "metadata": {},
   "source": [
    "- Filtering power"
   ]
  },
  {
   "cell_type": "code",
   "execution_count": 39,
   "metadata": {},
   "outputs": [
    {
     "data": {
      "text/html": [
       "<div>\n",
       "<style scoped>\n",
       "    .dataframe tbody tr th:only-of-type {\n",
       "        vertical-align: middle;\n",
       "    }\n",
       "\n",
       "    .dataframe tbody tr th {\n",
       "        vertical-align: top;\n",
       "    }\n",
       "\n",
       "    .dataframe thead th {\n",
       "        text-align: right;\n",
       "    }\n",
       "</style>\n",
       "<table border=\"1\" class=\"dataframe\">\n",
       "  <thead>\n",
       "    <tr style=\"text-align: right;\">\n",
       "      <th></th>\n",
       "      <th>tracked_subject</th>\n",
       "      <th>box_number</th>\n",
       "      <th>sleap_name</th>\n",
       "      <th>video_name</th>\n",
       "      <th>current_subject</th>\n",
       "      <th>tone_start_frame</th>\n",
       "      <th>reward_start_frame</th>\n",
       "      <th>tone_stop_frame</th>\n",
       "      <th>condition</th>\n",
       "      <th>competition_closeness</th>\n",
       "      <th>...</th>\n",
       "      <th>agent_thorax_velocity</th>\n",
       "      <th>subject_thorax_to_reward_port</th>\n",
       "      <th>agent_thorax_to_reward_port</th>\n",
       "      <th>recording_name</th>\n",
       "      <th>spike_clusters</th>\n",
       "      <th>spike_times</th>\n",
       "      <th>neuron_average_fr</th>\n",
       "      <th>neuron_average_timestamps</th>\n",
       "      <th>baseline_start_timestamp</th>\n",
       "      <th>baseline_stop_timestamp</th>\n",
       "    </tr>\n",
       "  </thead>\n",
       "  <tbody>\n",
       "    <tr>\n",
       "      <th>0</th>\n",
       "      <td>1.1_1.2</td>\n",
       "      <td>1</td>\n",
       "      <td>20230617_115521_standard_comp_to_omission_D1_s...</td>\n",
       "      <td>20230617_115521_standard_comp_to_omission_D1_s...</td>\n",
       "      <td>1.1</td>\n",
       "      <td>1029</td>\n",
       "      <td>1129</td>\n",
       "      <td>1229</td>\n",
       "      <td>1.2</td>\n",
       "      <td>Subj 2 blocking Subj 1</td>\n",
       "      <td>...</td>\n",
       "      <td>NaN</td>\n",
       "      <td>[25.6, 25.84, 25.86, 25.86, 25.86, 25.86, 25.8...</td>\n",
       "      <td>NaN</td>\n",
       "      <td>20230617_115521_standard_comp_to_omission_D1_s...</td>\n",
       "      <td>[3, 4, 5, 6, 17, 28, 29, 39, 48, 52, 53, 54, 5...</td>\n",
       "      <td>[[673223.0, 2367433.0, 2569212.0, 3969647.0, 3...</td>\n",
       "      <td>[[0.0, 0.0, 0.0, 0.0, 0.0, 0.0, 0.0, 0.0, 0.0,...</td>\n",
       "      <td>[0, 2000, 4000, 6000, 8000, 10000, 12000, 1400...</td>\n",
       "      <td>430879</td>\n",
       "      <td>630879</td>\n",
       "    </tr>\n",
       "    <tr>\n",
       "      <th>1</th>\n",
       "      <td>1.1_1.2</td>\n",
       "      <td>1</td>\n",
       "      <td>20230617_115521_standard_comp_to_omission_D1_s...</td>\n",
       "      <td>20230617_115521_standard_comp_to_omission_D1_s...</td>\n",
       "      <td>1.1</td>\n",
       "      <td>1029</td>\n",
       "      <td>1129</td>\n",
       "      <td>1229</td>\n",
       "      <td>1.2</td>\n",
       "      <td>Subj 2 blocking Subj 1</td>\n",
       "      <td>...</td>\n",
       "      <td>[11.19, 10.55, 9.92, 9.31, 8.734, 8.18, 7.64, ...</td>\n",
       "      <td>[11.19, 11.234, 11.73, 12.34, 12.56, 13.58, 13...</td>\n",
       "      <td>[25.6, 25.84, 25.86, 25.86, 25.86, 25.86, 25.8...</td>\n",
       "      <td>20230617_115521_standard_comp_to_omission_D1_s...</td>\n",
       "      <td>[3, 4, 5, 6, 17, 28, 29, 39, 48, 52, 53, 54, 5...</td>\n",
       "      <td>[[673223.0, 2367433.0, 2569212.0, 3969647.0, 3...</td>\n",
       "      <td>[[0.0, 0.0, 0.0, 0.0, 0.0, 0.0, 0.0, 0.0, 0.0,...</td>\n",
       "      <td>[0, 2000, 4000, 6000, 8000, 10000, 12000, 1400...</td>\n",
       "      <td>430879</td>\n",
       "      <td>630879</td>\n",
       "    </tr>\n",
       "    <tr>\n",
       "      <th>2</th>\n",
       "      <td>1.1_1.2</td>\n",
       "      <td>1</td>\n",
       "      <td>20230617_115521_standard_comp_to_omission_D1_s...</td>\n",
       "      <td>20230617_115521_standard_comp_to_omission_D1_s...</td>\n",
       "      <td>1.1</td>\n",
       "      <td>3425</td>\n",
       "      <td>3525</td>\n",
       "      <td>3624</td>\n",
       "      <td>1.1</td>\n",
       "      <td>Subj 1 blocking Subj 2</td>\n",
       "      <td>...</td>\n",
       "      <td>NaN</td>\n",
       "      <td>[25.6, 25.84, 25.86, 25.86, 25.86, 25.86, 25.8...</td>\n",
       "      <td>NaN</td>\n",
       "      <td>20230617_115521_standard_comp_to_omission_D1_s...</td>\n",
       "      <td>[3, 4, 5, 6, 17, 28, 29, 39, 48, 52, 53, 54, 5...</td>\n",
       "      <td>[[673223.0, 2367433.0, 2569212.0, 3969647.0, 3...</td>\n",
       "      <td>[[0.0, 0.0, 0.0, 0.0, 0.0, 0.0, 0.0, 0.0, 0.0,...</td>\n",
       "      <td>[0, 2000, 4000, 6000, 8000, 10000, 12000, 1400...</td>\n",
       "      <td>2830878</td>\n",
       "      <td>3030878</td>\n",
       "    </tr>\n",
       "    <tr>\n",
       "      <th>3</th>\n",
       "      <td>1.1_1.2</td>\n",
       "      <td>1</td>\n",
       "      <td>20230617_115521_standard_comp_to_omission_D1_s...</td>\n",
       "      <td>20230617_115521_standard_comp_to_omission_D1_s...</td>\n",
       "      <td>1.1</td>\n",
       "      <td>3425</td>\n",
       "      <td>3525</td>\n",
       "      <td>3624</td>\n",
       "      <td>1.1</td>\n",
       "      <td>Subj 1 blocking Subj 2</td>\n",
       "      <td>...</td>\n",
       "      <td>[11.19, 10.55, 9.92, 9.31, 8.734, 8.18, 7.64, ...</td>\n",
       "      <td>[11.19, 11.234, 11.73, 12.34, 12.56, 13.58, 13...</td>\n",
       "      <td>[25.6, 25.84, 25.86, 25.86, 25.86, 25.86, 25.8...</td>\n",
       "      <td>20230617_115521_standard_comp_to_omission_D1_s...</td>\n",
       "      <td>[3, 4, 5, 6, 17, 28, 29, 39, 48, 52, 53, 54, 5...</td>\n",
       "      <td>[[673223.0, 2367433.0, 2569212.0, 3969647.0, 3...</td>\n",
       "      <td>[[0.0, 0.0, 0.0, 0.0, 0.0, 0.0, 0.0, 0.0, 0.0,...</td>\n",
       "      <td>[0, 2000, 4000, 6000, 8000, 10000, 12000, 1400...</td>\n",
       "      <td>2830878</td>\n",
       "      <td>3030878</td>\n",
       "    </tr>\n",
       "    <tr>\n",
       "      <th>4</th>\n",
       "      <td>1.1_1.2</td>\n",
       "      <td>1</td>\n",
       "      <td>20230617_115521_standard_comp_to_omission_D1_s...</td>\n",
       "      <td>20230617_115521_standard_comp_to_omission_D1_s...</td>\n",
       "      <td>1.1</td>\n",
       "      <td>5721</td>\n",
       "      <td>5821</td>\n",
       "      <td>5920</td>\n",
       "      <td>1.1</td>\n",
       "      <td>Subj 1 blocking Subj 2</td>\n",
       "      <td>...</td>\n",
       "      <td>NaN</td>\n",
       "      <td>[25.6, 25.84, 25.86, 25.86, 25.86, 25.86, 25.8...</td>\n",
       "      <td>NaN</td>\n",
       "      <td>20230617_115521_standard_comp_to_omission_D1_s...</td>\n",
       "      <td>[3, 4, 5, 6, 17, 28, 29, 39, 48, 52, 53, 54, 5...</td>\n",
       "      <td>[[673223.0, 2367433.0, 2569212.0, 3969647.0, 3...</td>\n",
       "      <td>[[0.0, 0.0, 0.0, 0.0, 0.0, 0.0, 0.0, 0.0, 0.0,...</td>\n",
       "      <td>[0, 2000, 4000, 6000, 8000, 10000, 12000, 1400...</td>\n",
       "      <td>5130880</td>\n",
       "      <td>5330880</td>\n",
       "    </tr>\n",
       "  </tbody>\n",
       "</table>\n",
       "<p>5 rows × 165 columns</p>\n",
       "</div>"
      ],
      "text/plain": [
       "  tracked_subject  box_number  \\\n",
       "0         1.1_1.2           1   \n",
       "1         1.1_1.2           1   \n",
       "2         1.1_1.2           1   \n",
       "3         1.1_1.2           1   \n",
       "4         1.1_1.2           1   \n",
       "\n",
       "                                          sleap_name  \\\n",
       "0  20230617_115521_standard_comp_to_omission_D1_s...   \n",
       "1  20230617_115521_standard_comp_to_omission_D1_s...   \n",
       "2  20230617_115521_standard_comp_to_omission_D1_s...   \n",
       "3  20230617_115521_standard_comp_to_omission_D1_s...   \n",
       "4  20230617_115521_standard_comp_to_omission_D1_s...   \n",
       "\n",
       "                                          video_name current_subject  \\\n",
       "0  20230617_115521_standard_comp_to_omission_D1_s...             1.1   \n",
       "1  20230617_115521_standard_comp_to_omission_D1_s...             1.1   \n",
       "2  20230617_115521_standard_comp_to_omission_D1_s...             1.1   \n",
       "3  20230617_115521_standard_comp_to_omission_D1_s...             1.1   \n",
       "4  20230617_115521_standard_comp_to_omission_D1_s...             1.1   \n",
       "\n",
       "   tone_start_frame  reward_start_frame  tone_stop_frame condition  \\\n",
       "0              1029                1129             1229       1.2   \n",
       "1              1029                1129             1229       1.2   \n",
       "2              3425                3525             3624       1.1   \n",
       "3              3425                3525             3624       1.1   \n",
       "4              5721                5821             5920       1.1   \n",
       "\n",
       "    competition_closeness  ...  \\\n",
       "0  Subj 2 blocking Subj 1  ...   \n",
       "1  Subj 2 blocking Subj 1  ...   \n",
       "2  Subj 1 blocking Subj 2  ...   \n",
       "3  Subj 1 blocking Subj 2  ...   \n",
       "4  Subj 1 blocking Subj 2  ...   \n",
       "\n",
       "                               agent_thorax_velocity  \\\n",
       "0                                                NaN   \n",
       "1  [11.19, 10.55, 9.92, 9.31, 8.734, 8.18, 7.64, ...   \n",
       "2                                                NaN   \n",
       "3  [11.19, 10.55, 9.92, 9.31, 8.734, 8.18, 7.64, ...   \n",
       "4                                                NaN   \n",
       "\n",
       "                       subject_thorax_to_reward_port  \\\n",
       "0  [25.6, 25.84, 25.86, 25.86, 25.86, 25.86, 25.8...   \n",
       "1  [11.19, 11.234, 11.73, 12.34, 12.56, 13.58, 13...   \n",
       "2  [25.6, 25.84, 25.86, 25.86, 25.86, 25.86, 25.8...   \n",
       "3  [11.19, 11.234, 11.73, 12.34, 12.56, 13.58, 13...   \n",
       "4  [25.6, 25.84, 25.86, 25.86, 25.86, 25.86, 25.8...   \n",
       "\n",
       "                         agent_thorax_to_reward_port  \\\n",
       "0                                                NaN   \n",
       "1  [25.6, 25.84, 25.86, 25.86, 25.86, 25.86, 25.8...   \n",
       "2                                                NaN   \n",
       "3  [25.6, 25.84, 25.86, 25.86, 25.86, 25.86, 25.8...   \n",
       "4                                                NaN   \n",
       "\n",
       "                                      recording_name  \\\n",
       "0  20230617_115521_standard_comp_to_omission_D1_s...   \n",
       "1  20230617_115521_standard_comp_to_omission_D1_s...   \n",
       "2  20230617_115521_standard_comp_to_omission_D1_s...   \n",
       "3  20230617_115521_standard_comp_to_omission_D1_s...   \n",
       "4  20230617_115521_standard_comp_to_omission_D1_s...   \n",
       "\n",
       "                                      spike_clusters  \\\n",
       "0  [3, 4, 5, 6, 17, 28, 29, 39, 48, 52, 53, 54, 5...   \n",
       "1  [3, 4, 5, 6, 17, 28, 29, 39, 48, 52, 53, 54, 5...   \n",
       "2  [3, 4, 5, 6, 17, 28, 29, 39, 48, 52, 53, 54, 5...   \n",
       "3  [3, 4, 5, 6, 17, 28, 29, 39, 48, 52, 53, 54, 5...   \n",
       "4  [3, 4, 5, 6, 17, 28, 29, 39, 48, 52, 53, 54, 5...   \n",
       "\n",
       "                                         spike_times  \\\n",
       "0  [[673223.0, 2367433.0, 2569212.0, 3969647.0, 3...   \n",
       "1  [[673223.0, 2367433.0, 2569212.0, 3969647.0, 3...   \n",
       "2  [[673223.0, 2367433.0, 2569212.0, 3969647.0, 3...   \n",
       "3  [[673223.0, 2367433.0, 2569212.0, 3969647.0, 3...   \n",
       "4  [[673223.0, 2367433.0, 2569212.0, 3969647.0, 3...   \n",
       "\n",
       "                                   neuron_average_fr  \\\n",
       "0  [[0.0, 0.0, 0.0, 0.0, 0.0, 0.0, 0.0, 0.0, 0.0,...   \n",
       "1  [[0.0, 0.0, 0.0, 0.0, 0.0, 0.0, 0.0, 0.0, 0.0,...   \n",
       "2  [[0.0, 0.0, 0.0, 0.0, 0.0, 0.0, 0.0, 0.0, 0.0,...   \n",
       "3  [[0.0, 0.0, 0.0, 0.0, 0.0, 0.0, 0.0, 0.0, 0.0,...   \n",
       "4  [[0.0, 0.0, 0.0, 0.0, 0.0, 0.0, 0.0, 0.0, 0.0,...   \n",
       "\n",
       "                           neuron_average_timestamps baseline_start_timestamp  \\\n",
       "0  [0, 2000, 4000, 6000, 8000, 10000, 12000, 1400...                   430879   \n",
       "1  [0, 2000, 4000, 6000, 8000, 10000, 12000, 1400...                   430879   \n",
       "2  [0, 2000, 4000, 6000, 8000, 10000, 12000, 1400...                  2830878   \n",
       "3  [0, 2000, 4000, 6000, 8000, 10000, 12000, 1400...                  2830878   \n",
       "4  [0, 2000, 4000, 6000, 8000, 10000, 12000, 1400...                  5130880   \n",
       "\n",
       "  baseline_stop_timestamp  \n",
       "0                  630879  \n",
       "1                  630879  \n",
       "2                 3030878  \n",
       "3                 3030878  \n",
       "4                 5330880  \n",
       "\n",
       "[5 rows x 165 columns]"
      ]
     },
     "execution_count": 39,
     "metadata": {},
     "output_type": "execute_result"
    }
   ],
   "source": [
    "TRIALS_AND_SPECTRAL_DF.head()"
   ]
  },
  {
   "cell_type": "code",
   "execution_count": 40,
   "metadata": {
    "tags": []
   },
   "outputs": [],
   "source": [
    "power_columns = [col for col in TRIALS_AND_SPECTRAL_DF.columns if \"power\" in col and \"timestamps\" not in col and \"calculation\" not in col]"
   ]
  },
  {
   "cell_type": "code",
   "execution_count": 41,
   "metadata": {
    "tags": []
   },
   "outputs": [
    {
     "data": {
      "text/plain": [
       "['mPFC_power_all_frequencies_all_windows',\n",
       " 'MD_power_all_frequencies_all_windows',\n",
       " 'LH_power_all_frequencies_all_windows',\n",
       " 'BLA_power_all_frequencies_all_windows',\n",
       " 'vHPC_power_all_frequencies_all_windows',\n",
       " 'mPFC_power_theta',\n",
       " 'mPFC_power_gamma',\n",
       " 'MD_power_theta',\n",
       " 'MD_power_gamma',\n",
       " 'LH_power_theta',\n",
       " 'LH_power_gamma',\n",
       " 'BLA_power_theta',\n",
       " 'BLA_power_gamma',\n",
       " 'vHPC_power_theta',\n",
       " 'vHPC_power_gamma']"
      ]
     },
     "execution_count": 41,
     "metadata": {},
     "output_type": "execute_result"
    }
   ],
   "source": [
    "power_columns"
   ]
  },
  {
   "cell_type": "code",
   "execution_count": 42,
   "metadata": {
    "tags": []
   },
   "outputs": [
    {
     "name": "stdout",
     "output_type": "stream",
     "text": [
      "mPFC_power_all_frequencies\n",
      "MD_power_all_frequencies\n",
      "LH_power_all_frequencies\n",
      "BLA_power_all_frequencies\n",
      "vHPC_power_all_frequencies\n",
      "mPFC_power_theta\n",
      "mPFC_power_gamma\n",
      "MD_power_theta\n",
      "MD_power_gamma\n",
      "LH_power_theta\n",
      "LH_power_gamma\n",
      "BLA_power_theta\n",
      "BLA_power_gamma\n",
      "vHPC_power_theta\n",
      "vHPC_power_gamma\n"
     ]
    }
   ],
   "source": [
    "for col in power_columns:\n",
    "    brain_region = col.replace(\"all_windows\", \"_\").strip(\"_\")\n",
    "    print(brain_region)\n",
    "    \n",
    "    updated_item_col = \"baseline_{}\".format(brain_region)\n",
    "    updated_timestamp_col = \"baseline_power_timestamps\".format(brain_region)\n",
    "    TRIALS_AND_SPECTRAL_DF[updated_item_col] = TRIALS_AND_SPECTRAL_DF.apply(lambda x: utilities.helper.filter_by_timestamp_range(start=x[\"baseline_start_timestamp\"], stop=x[\"baseline_stop_timestamp\"], timestamps=x[\"power_timestamps\"], items=x[col])[1], axis=1)\n",
    "TRIALS_AND_SPECTRAL_DF[updated_timestamp_col] = TRIALS_AND_SPECTRAL_DF.apply(lambda x: utilities.helper.filter_by_timestamp_range(start=x[\"baseline_start_timestamp\"], stop=x[\"baseline_stop_timestamp\"], timestamps=x[\"power_timestamps\"], items=x[col])[0], axis=1)"
   ]
  },
  {
   "cell_type": "code",
   "execution_count": 43,
   "metadata": {
    "tags": []
   },
   "outputs": [
    {
     "name": "stdout",
     "output_type": "stream",
     "text": [
      "mPFC_power_all_frequencies\n",
      "MD_power_all_frequencies\n",
      "LH_power_all_frequencies\n",
      "BLA_power_all_frequencies\n",
      "vHPC_power_all_frequencies\n",
      "mPFC_power_theta\n",
      "mPFC_power_gamma\n",
      "MD_power_theta\n",
      "MD_power_gamma\n",
      "LH_power_theta\n",
      "LH_power_gamma\n",
      "BLA_power_theta\n",
      "BLA_power_gamma\n",
      "vHPC_power_theta\n",
      "vHPC_power_gamma\n"
     ]
    }
   ],
   "source": [
    "for col in power_columns:\n",
    "    brain_region = col.replace(\"all_windows\", \"_\").strip(\"_\")\n",
    "    print(brain_region)\n",
    "    \n",
    "    updated_item_col = \"trial_{}\".format(brain_region)\n",
    "    updated_timestamp_col = \"trial_power_timestamps\".format(brain_region)\n",
    "    TRIALS_AND_SPECTRAL_DF[updated_item_col] = TRIALS_AND_SPECTRAL_DF.apply(lambda x: utilities.helper.filter_by_timestamp_range(start=x[\"tone_start_timestamp\"], stop=x[\"tone_stop_timestamp\"], timestamps=x[\"power_timestamps\"], items=x[col])[1], axis=1)\n",
    "TRIALS_AND_SPECTRAL_DF[updated_timestamp_col] = TRIALS_AND_SPECTRAL_DF.apply(lambda x: utilities.helper.filter_by_timestamp_range(start=x[\"tone_start_timestamp\"], stop=x[\"tone_stop_timestamp\"], timestamps=x[\"power_timestamps\"], items=x[col])[0], axis=1)"
   ]
  },
  {
   "cell_type": "code",
   "execution_count": 44,
   "metadata": {
    "tags": []
   },
   "outputs": [
    {
     "data": {
      "text/plain": [
       "0      [440000, 450000, 460000, 470000, 480000, 49000...\n",
       "1      [440000, 450000, 460000, 470000, 480000, 49000...\n",
       "2      [2840000, 2850000, 2860000, 2870000, 2880000, ...\n",
       "3      [2840000, 2850000, 2860000, 2870000, 2880000, ...\n",
       "4      [5140000, 5150000, 5160000, 5170000, 5180000, ...\n",
       "                             ...                        \n",
       "363    [64990000, 65000000, 65010000, 65020000, 65030...\n",
       "364    [66890000, 66900000, 66910000, 66920000, 66930...\n",
       "365    [66890000, 66900000, 66910000, 66920000, 66930...\n",
       "366    [67890000, 67900000, 67910000, 67920000, 67930...\n",
       "367    [67890000, 67900000, 67910000, 67920000, 67930...\n",
       "Name: baseline_power_timestamps, Length: 368, dtype: object"
      ]
     },
     "execution_count": 44,
     "metadata": {},
     "output_type": "execute_result"
    }
   ],
   "source": [
    "TRIALS_AND_SPECTRAL_DF[\"baseline_power_timestamps\"]"
   ]
  },
  {
   "cell_type": "code",
   "execution_count": 45,
   "metadata": {
    "tags": []
   },
   "outputs": [],
   "source": [
    "TRIALS_AND_SPECTRAL_DF = TRIALS_AND_SPECTRAL_DF.drop(columns=power_columns + [\"power_timestamps\"], errors=\"ignore\")"
   ]
  },
  {
   "cell_type": "markdown",
   "metadata": {},
   "source": [
    "- Filtering coherence"
   ]
  },
  {
   "cell_type": "code",
   "execution_count": 46,
   "metadata": {
    "tags": []
   },
   "outputs": [],
   "source": [
    "coherence_columns = [col for col in TRIALS_AND_SPECTRAL_DF.columns if \"coherence\" in col and \"timestamps\" not in col and \"calculation\" not in col]"
   ]
  },
  {
   "cell_type": "code",
   "execution_count": 47,
   "metadata": {
    "tags": []
   },
   "outputs": [
    {
     "data": {
      "text/plain": [
       "['BLA_LH_coherence_all_frequencies_all_windows',\n",
       " 'BLA_MD_coherence_all_frequencies_all_windows',\n",
       " 'BLA_mPFC_coherence_all_frequencies_all_windows',\n",
       " 'BLA_vHPC_coherence_all_frequencies_all_windows',\n",
       " 'LH_MD_coherence_all_frequencies_all_windows',\n",
       " 'LH_mPFC_coherence_all_frequencies_all_windows',\n",
       " 'LH_vHPC_coherence_all_frequencies_all_windows',\n",
       " 'MD_mPFC_coherence_all_frequencies_all_windows',\n",
       " 'MD_vHPC_coherence_all_frequencies_all_windows',\n",
       " 'mPFC_vHPC_coherence_all_frequencies_all_windows',\n",
       " 'BLA_LH_coherence_theta',\n",
       " 'BLA_LH_coherence_gamma',\n",
       " 'BLA_MD_coherence_theta',\n",
       " 'BLA_MD_coherence_gamma',\n",
       " 'BLA_mPFC_coherence_theta',\n",
       " 'BLA_mPFC_coherence_gamma',\n",
       " 'BLA_vHPC_coherence_theta',\n",
       " 'BLA_vHPC_coherence_gamma',\n",
       " 'LH_MD_coherence_theta',\n",
       " 'LH_MD_coherence_gamma',\n",
       " 'LH_mPFC_coherence_theta',\n",
       " 'LH_mPFC_coherence_gamma',\n",
       " 'LH_vHPC_coherence_theta',\n",
       " 'LH_vHPC_coherence_gamma',\n",
       " 'MD_mPFC_coherence_theta',\n",
       " 'MD_mPFC_coherence_gamma',\n",
       " 'MD_vHPC_coherence_theta',\n",
       " 'MD_vHPC_coherence_gamma',\n",
       " 'mPFC_vHPC_coherence_theta',\n",
       " 'mPFC_vHPC_coherence_gamma']"
      ]
     },
     "execution_count": 47,
     "metadata": {},
     "output_type": "execute_result"
    }
   ],
   "source": [
    "coherence_columns"
   ]
  },
  {
   "cell_type": "code",
   "execution_count": 48,
   "metadata": {
    "tags": []
   },
   "outputs": [
    {
     "name": "stdout",
     "output_type": "stream",
     "text": [
      "BLA_LH_coherence_all_frequencies\n",
      "BLA_MD_coherence_all_frequencies\n",
      "BLA_mPFC_coherence_all_frequencies\n",
      "BLA_vHPC_coherence_all_frequencies\n",
      "LH_MD_coherence_all_frequencies\n",
      "LH_mPFC_coherence_all_frequencies\n",
      "LH_vHPC_coherence_all_frequencies\n",
      "MD_mPFC_coherence_all_frequencies\n",
      "MD_vHPC_coherence_all_frequencies\n",
      "mPFC_vHPC_coherence_all_frequencies\n",
      "BLA_LH_coherence_theta\n",
      "BLA_LH_coherence_gamma\n",
      "BLA_MD_coherence_theta\n",
      "BLA_MD_coherence_gamma\n",
      "BLA_mPFC_coherence_theta\n",
      "BLA_mPFC_coherence_gamma\n",
      "BLA_vHPC_coherence_theta\n",
      "BLA_vHPC_coherence_gamma\n",
      "LH_MD_coherence_theta\n",
      "LH_MD_coherence_gamma\n",
      "LH_mPFC_coherence_theta\n",
      "LH_mPFC_coherence_gamma\n",
      "LH_vHPC_coherence_theta\n",
      "LH_vHPC_coherence_gamma\n",
      "MD_mPFC_coherence_theta\n",
      "MD_mPFC_coherence_gamma\n",
      "MD_vHPC_coherence_theta\n",
      "MD_vHPC_coherence_gamma\n",
      "mPFC_vHPC_coherence_theta\n",
      "mPFC_vHPC_coherence_gamma\n"
     ]
    }
   ],
   "source": [
    "for col in coherence_columns:\n",
    "    brain_region = col.replace(\"all_windows\", \"_\").strip(\"_\")\n",
    "    print(brain_region)\n",
    "    \n",
    "    updated_item_col = \"baseline_{}\".format(brain_region)\n",
    "    updated_timestamp_col = \"baseline_coherence_timestamps\".format(brain_region)\n",
    "    TRIALS_AND_SPECTRAL_DF[updated_item_col] = TRIALS_AND_SPECTRAL_DF.apply(lambda x: utilities.helper.filter_by_timestamp_range(start=x[\"baseline_start_timestamp\"], stop=x[\"baseline_stop_timestamp\"], timestamps=x[\"coherence_timestamps\"], items=x[col])[1], axis=1)\n",
    "TRIALS_AND_SPECTRAL_DF[updated_timestamp_col] = TRIALS_AND_SPECTRAL_DF.apply(lambda x: utilities.helper.filter_by_timestamp_range(start=x[\"baseline_start_timestamp\"], stop=x[\"baseline_stop_timestamp\"], timestamps=x[\"coherence_timestamps\"], items=x[col])[0], axis=1)"
   ]
  },
  {
   "cell_type": "code",
   "execution_count": 49,
   "metadata": {
    "tags": []
   },
   "outputs": [
    {
     "name": "stdout",
     "output_type": "stream",
     "text": [
      "BLA_LH_coherence_all_frequencies\n",
      "BLA_MD_coherence_all_frequencies\n",
      "BLA_mPFC_coherence_all_frequencies\n",
      "BLA_vHPC_coherence_all_frequencies\n",
      "LH_MD_coherence_all_frequencies\n",
      "LH_mPFC_coherence_all_frequencies\n",
      "LH_vHPC_coherence_all_frequencies\n",
      "MD_mPFC_coherence_all_frequencies\n",
      "MD_vHPC_coherence_all_frequencies\n",
      "mPFC_vHPC_coherence_all_frequencies\n",
      "BLA_LH_coherence_theta\n",
      "BLA_LH_coherence_gamma\n",
      "BLA_MD_coherence_theta\n",
      "BLA_MD_coherence_gamma\n",
      "BLA_mPFC_coherence_theta\n",
      "BLA_mPFC_coherence_gamma\n",
      "BLA_vHPC_coherence_theta\n",
      "BLA_vHPC_coherence_gamma\n",
      "LH_MD_coherence_theta\n",
      "LH_MD_coherence_gamma\n",
      "LH_mPFC_coherence_theta\n",
      "LH_mPFC_coherence_gamma\n",
      "LH_vHPC_coherence_theta\n",
      "LH_vHPC_coherence_gamma\n",
      "MD_mPFC_coherence_theta\n",
      "MD_mPFC_coherence_gamma\n",
      "MD_vHPC_coherence_theta\n",
      "MD_vHPC_coherence_gamma\n",
      "mPFC_vHPC_coherence_theta\n",
      "mPFC_vHPC_coherence_gamma\n"
     ]
    }
   ],
   "source": [
    "for col in coherence_columns:\n",
    "    brain_region = col.replace(\"all_windows\", \"_\").strip(\"_\")\n",
    "    print(brain_region)\n",
    "    \n",
    "    updated_item_col = \"trial_{}\".format(brain_region)\n",
    "    updated_timestamp_col = \"trial_coherence_timestamps\".format(brain_region)\n",
    "    TRIALS_AND_SPECTRAL_DF[updated_item_col] = TRIALS_AND_SPECTRAL_DF.apply(lambda x: utilities.helper.filter_by_timestamp_range(start=x[\"tone_start_timestamp\"], stop=x[\"tone_stop_timestamp\"], timestamps=x[\"coherence_timestamps\"], items=x[col])[1], axis=1)\n",
    "TRIALS_AND_SPECTRAL_DF[updated_timestamp_col] = TRIALS_AND_SPECTRAL_DF.apply(lambda x: utilities.helper.filter_by_timestamp_range(start=x[\"tone_start_timestamp\"], stop=x[\"tone_stop_timestamp\"], timestamps=x[\"coherence_timestamps\"], items=x[col])[0], axis=1)"
   ]
  },
  {
   "cell_type": "code",
   "execution_count": 50,
   "metadata": {
    "tags": []
   },
   "outputs": [],
   "source": [
    "TRIALS_AND_SPECTRAL_DF = TRIALS_AND_SPECTRAL_DF.drop(columns=coherence_columns + [\"coherence_timestamps\"], errors=\"ignore\")"
   ]
  },
  {
   "cell_type": "markdown",
   "metadata": {},
   "source": [
    "- Filtering Grangers"
   ]
  },
  {
   "cell_type": "code",
   "execution_count": 51,
   "metadata": {
    "tags": []
   },
   "outputs": [],
   "source": [
    "granger_columns = [col for col in TRIALS_AND_SPECTRAL_DF.columns if \"granger\" in col and \"timestamps\" not in col and \"calculation\" not in col]"
   ]
  },
  {
   "cell_type": "code",
   "execution_count": 52,
   "metadata": {
    "tags": []
   },
   "outputs": [
    {
     "data": {
      "text/plain": [
       "['BLA_LH_granger_all_frequencies_all_windows',\n",
       " 'LH_BLA_granger_all_frequencies_all_windows',\n",
       " 'BLA_MD_granger_all_frequencies_all_windows',\n",
       " 'MD_BLA_granger_all_frequencies_all_windows',\n",
       " 'BLA_mPFC_granger_all_frequencies_all_windows',\n",
       " 'mPFC_BLA_granger_all_frequencies_all_windows',\n",
       " 'BLA_vHPC_granger_all_frequencies_all_windows',\n",
       " 'vHPC_BLA_granger_all_frequencies_all_windows',\n",
       " 'LH_MD_granger_all_frequencies_all_windows',\n",
       " 'MD_LH_granger_all_frequencies_all_windows',\n",
       " 'LH_mPFC_granger_all_frequencies_all_windows',\n",
       " 'mPFC_LH_granger_all_frequencies_all_windows',\n",
       " 'LH_vHPC_granger_all_frequencies_all_windows',\n",
       " 'vHPC_LH_granger_all_frequencies_all_windows',\n",
       " 'MD_mPFC_granger_all_frequencies_all_windows',\n",
       " 'mPFC_MD_granger_all_frequencies_all_windows',\n",
       " 'MD_vHPC_granger_all_frequencies_all_windows',\n",
       " 'vHPC_MD_granger_all_frequencies_all_windows',\n",
       " 'mPFC_vHPC_granger_all_frequencies_all_windows',\n",
       " 'vHPC_mPFC_granger_all_frequencies_all_windows',\n",
       " 'BLA-to-LH_granger_theta',\n",
       " 'BLA-to-LH_granger_gamma',\n",
       " 'LH-to-BLA_granger_theta',\n",
       " 'LH-to-BLA_granger_gamma',\n",
       " 'BLA-to-MD_granger_theta',\n",
       " 'BLA-to-MD_granger_gamma',\n",
       " 'MD-to-BLA_granger_theta',\n",
       " 'MD-to-BLA_granger_gamma',\n",
       " 'BLA-to-mPFC_granger_theta',\n",
       " 'BLA-to-mPFC_granger_gamma',\n",
       " 'mPFC-to-BLA_granger_theta',\n",
       " 'mPFC-to-BLA_granger_gamma',\n",
       " 'BLA-to-vHPC_granger_theta',\n",
       " 'BLA-to-vHPC_granger_gamma',\n",
       " 'vHPC-to-BLA_granger_theta',\n",
       " 'vHPC-to-BLA_granger_gamma',\n",
       " 'LH-to-MD_granger_theta',\n",
       " 'LH-to-MD_granger_gamma',\n",
       " 'MD-to-LH_granger_theta',\n",
       " 'MD-to-LH_granger_gamma',\n",
       " 'LH-to-mPFC_granger_theta',\n",
       " 'LH-to-mPFC_granger_gamma',\n",
       " 'mPFC-to-LH_granger_theta',\n",
       " 'mPFC-to-LH_granger_gamma',\n",
       " 'LH-to-vHPC_granger_theta',\n",
       " 'LH-to-vHPC_granger_gamma',\n",
       " 'vHPC-to-LH_granger_theta',\n",
       " 'vHPC-to-LH_granger_gamma',\n",
       " 'MD-to-mPFC_granger_theta',\n",
       " 'MD-to-mPFC_granger_gamma',\n",
       " 'mPFC-to-MD_granger_theta',\n",
       " 'mPFC-to-MD_granger_gamma',\n",
       " 'MD-to-vHPC_granger_theta',\n",
       " 'MD-to-vHPC_granger_gamma',\n",
       " 'vHPC-to-MD_granger_theta',\n",
       " 'vHPC-to-MD_granger_gamma',\n",
       " 'mPFC-to-vHPC_granger_theta',\n",
       " 'mPFC-to-vHPC_granger_gamma',\n",
       " 'vHPC-to-mPFC_granger_theta',\n",
       " 'vHPC-to-mPFC_granger_gamma']"
      ]
     },
     "execution_count": 52,
     "metadata": {},
     "output_type": "execute_result"
    }
   ],
   "source": [
    "granger_columns"
   ]
  },
  {
   "cell_type": "markdown",
   "metadata": {
    "tags": []
   },
   "source": [
    "for col in granger_columns:\n",
    "    brain_region = col.replace(\"all_windows\", \"_\").strip(\"_\")\n",
    "    print(brain_region)\n",
    "    \n",
    "    updated_item_col = \"baseline_{}\".format(brain_region)\n",
    "    updated_timestamp_col = \"baseline_granger_timestamps\".format(brain_region)\n",
    "    TRIALS_AND_SPECTRAL_DF[updated_item_col] = TRIALS_AND_SPECTRAL_DF.apply(lambda x: utilities.helper.filter_by_timestamp_range(start=x[\"baseline_start_timestamp\"], stop=x[\"baseline_stop_timestamp\"], timestamps=x[\"granger_timestamps\"], items=x[col])[1], axis=1)\n",
    "TRIALS_AND_SPECTRAL_DF[updated_timestamp_col] = TRIALS_AND_SPECTRAL_DF.apply(lambda x: utilities.helper.filter_by_timestamp_range(start=x[\"baseline_start_timestamp\"], stop=x[\"baseline_stop_timestamp\"], timestamps=x[\"granger_timestamps\"], items=x[col])[0], axis=1)"
   ]
  },
  {
   "cell_type": "code",
   "execution_count": 53,
   "metadata": {
    "tags": []
   },
   "outputs": [
    {
     "name": "stdout",
     "output_type": "stream",
     "text": [
      "BLA_LH_granger_all_frequencies\n",
      "LH_BLA_granger_all_frequencies\n",
      "BLA_MD_granger_all_frequencies\n",
      "MD_BLA_granger_all_frequencies\n",
      "BLA_mPFC_granger_all_frequencies\n",
      "mPFC_BLA_granger_all_frequencies\n",
      "BLA_vHPC_granger_all_frequencies\n",
      "vHPC_BLA_granger_all_frequencies\n",
      "LH_MD_granger_all_frequencies\n",
      "MD_LH_granger_all_frequencies\n",
      "LH_mPFC_granger_all_frequencies\n",
      "mPFC_LH_granger_all_frequencies\n",
      "LH_vHPC_granger_all_frequencies\n",
      "vHPC_LH_granger_all_frequencies\n",
      "MD_mPFC_granger_all_frequencies\n",
      "mPFC_MD_granger_all_frequencies\n",
      "MD_vHPC_granger_all_frequencies\n",
      "vHPC_MD_granger_all_frequencies\n",
      "mPFC_vHPC_granger_all_frequencies\n",
      "vHPC_mPFC_granger_all_frequencies\n",
      "BLA-to-LH_granger_theta\n",
      "BLA-to-LH_granger_gamma\n",
      "LH-to-BLA_granger_theta\n",
      "LH-to-BLA_granger_gamma\n",
      "BLA-to-MD_granger_theta\n",
      "BLA-to-MD_granger_gamma\n",
      "MD-to-BLA_granger_theta\n",
      "MD-to-BLA_granger_gamma\n",
      "BLA-to-mPFC_granger_theta\n",
      "BLA-to-mPFC_granger_gamma\n",
      "mPFC-to-BLA_granger_theta\n",
      "mPFC-to-BLA_granger_gamma\n",
      "BLA-to-vHPC_granger_theta\n",
      "BLA-to-vHPC_granger_gamma\n",
      "vHPC-to-BLA_granger_theta\n",
      "vHPC-to-BLA_granger_gamma\n",
      "LH-to-MD_granger_theta\n",
      "LH-to-MD_granger_gamma\n",
      "MD-to-LH_granger_theta\n",
      "MD-to-LH_granger_gamma\n",
      "LH-to-mPFC_granger_theta\n",
      "LH-to-mPFC_granger_gamma\n",
      "mPFC-to-LH_granger_theta\n",
      "mPFC-to-LH_granger_gamma\n",
      "LH-to-vHPC_granger_theta\n",
      "LH-to-vHPC_granger_gamma\n",
      "vHPC-to-LH_granger_theta\n",
      "vHPC-to-LH_granger_gamma\n",
      "MD-to-mPFC_granger_theta\n",
      "MD-to-mPFC_granger_gamma\n",
      "mPFC-to-MD_granger_theta\n",
      "mPFC-to-MD_granger_gamma\n",
      "MD-to-vHPC_granger_theta\n",
      "MD-to-vHPC_granger_gamma\n",
      "vHPC-to-MD_granger_theta\n",
      "vHPC-to-MD_granger_gamma\n",
      "mPFC-to-vHPC_granger_theta\n",
      "mPFC-to-vHPC_granger_gamma\n",
      "vHPC-to-mPFC_granger_theta\n",
      "vHPC-to-mPFC_granger_gamma\n"
     ]
    }
   ],
   "source": [
    "for col in granger_columns:\n",
    "    brain_region = col.replace(\"all_windows\", \"_\").strip(\"_\")\n",
    "    print(brain_region)\n",
    "    \n",
    "    updated_item_col = \"trial_{}\".format(brain_region)\n",
    "    updated_timestamp_col = \"trial_granger_timestamps\".format(brain_region)\n",
    "    TRIALS_AND_SPECTRAL_DF[updated_item_col] = TRIALS_AND_SPECTRAL_DF.apply(lambda x: utilities.helper.filter_by_timestamp_range(start=x[\"tone_start_timestamp\"], stop=x[\"tone_stop_timestamp\"], timestamps=x[\"granger_timestamps\"], items=x[col])[1], axis=1)\n",
    "TRIALS_AND_SPECTRAL_DF[updated_timestamp_col] = TRIALS_AND_SPECTRAL_DF.apply(lambda x: utilities.helper.filter_by_timestamp_range(start=x[\"tone_start_timestamp\"], stop=x[\"tone_stop_timestamp\"], timestamps=x[\"granger_timestamps\"], items=x[col])[0], axis=1)"
   ]
  },
  {
   "cell_type": "code",
   "execution_count": 54,
   "metadata": {
    "tags": []
   },
   "outputs": [],
   "source": [
    "TRIALS_AND_SPECTRAL_DF = TRIALS_AND_SPECTRAL_DF.drop(columns=granger_columns + [\"granger_timestamps\"], errors=\"ignore\")"
   ]
  },
  {
   "cell_type": "markdown",
   "metadata": {},
   "source": [
    "# Filtering out the SLEAP posed for during trials"
   ]
  },
  {
   "cell_type": "code",
   "execution_count": 55,
   "metadata": {
    "tags": []
   },
   "outputs": [],
   "source": [
    "sleap_columns = [col for col in TRIALS_AND_SPECTRAL_DF.columns if \"locations\" in col or \"velocity\" in col or \"to_reward_port\" in col]"
   ]
  },
  {
   "cell_type": "code",
   "execution_count": 56,
   "metadata": {
    "tags": []
   },
   "outputs": [
    {
     "data": {
      "text/plain": [
       "['subject_locations',\n",
       " 'agent_locations',\n",
       " 'subject_thorax_velocity',\n",
       " 'agent_thorax_velocity',\n",
       " 'subject_thorax_to_reward_port',\n",
       " 'agent_thorax_to_reward_port']"
      ]
     },
     "execution_count": 56,
     "metadata": {},
     "output_type": "execute_result"
    }
   ],
   "source": [
    "sleap_columns"
   ]
  },
  {
   "cell_type": "code",
   "execution_count": 57,
   "metadata": {
    "tags": []
   },
   "outputs": [
    {
     "data": {
      "text/plain": [
       "(79051,)"
      ]
     },
     "execution_count": 57,
     "metadata": {},
     "output_type": "execute_result"
    }
   ],
   "source": [
    "TRIALS_AND_SPECTRAL_DF[\"video_timestamps\"].iloc[0].shape"
   ]
  },
  {
   "cell_type": "code",
   "execution_count": 58,
   "metadata": {
    "tags": []
   },
   "outputs": [
    {
     "data": {
      "text/plain": [
       "(79051,)"
      ]
     },
     "execution_count": 58,
     "metadata": {},
     "output_type": "execute_result"
    }
   ],
   "source": [
    "TRIALS_AND_SPECTRAL_DF[\"subject_thorax_to_reward_port\"].iloc[0].shape"
   ]
  },
  {
   "cell_type": "code",
   "execution_count": 59,
   "metadata": {
    "tags": []
   },
   "outputs": [
    {
     "name": "stdout",
     "output_type": "stream",
     "text": [
      "baseline_agent_locations\n",
      "baseline_agent_thorax_to_reward_port\n",
      "baseline_agent_thorax_velocity\n",
      "baseline_subject_locations\n",
      "baseline_subject_thorax_to_reward_port\n",
      "baseline_subject_thorax_velocity\n"
     ]
    }
   ],
   "source": [
    "for col in sorted(sleap_columns):\n",
    "    updated_item_col = \"baseline_{}\".format(col)\n",
    "    print(updated_item_col)\n",
    "    updated_timestamp_col = \"baseline_video_timestamps\".format(col)\n",
    "    if \"agent\" in col:\n",
    "        TRIALS_AND_SPECTRAL_DF[updated_item_col] = TRIALS_AND_SPECTRAL_DF.apply(lambda x: utilities.helper.filter_by_timestamp_range(start=x[\"baseline_start_timestamp\"], stop=x[\"baseline_stop_timestamp\"], timestamps=x[\"video_timestamps\"], items=x[col])[1] if x[\"agent\"] else np.nan, axis=1)\n",
    "    else:\n",
    "        TRIALS_AND_SPECTRAL_DF[updated_item_col] = TRIALS_AND_SPECTRAL_DF.apply(lambda x: utilities.helper.filter_by_timestamp_range(start=x[\"baseline_start_timestamp\"], stop=x[\"baseline_stop_timestamp\"], timestamps=x[\"video_timestamps\"], items=x[col])[1], axis=1)\n",
    "\n",
    "TRIALS_AND_SPECTRAL_DF[updated_timestamp_col] = TRIALS_AND_SPECTRAL_DF.apply(lambda x: utilities.helper.filter_by_timestamp_range(start=x[\"baseline_start_timestamp\"], stop=x[\"baseline_stop_timestamp\"], timestamps=x[\"video_timestamps\"], items=x[col])[0], axis=1)"
   ]
  },
  {
   "cell_type": "code",
   "execution_count": 60,
   "metadata": {
    "tags": []
   },
   "outputs": [
    {
     "name": "stdout",
     "output_type": "stream",
     "text": [
      "trial_agent_locations\n",
      "trial_agent_thorax_to_reward_port\n",
      "trial_agent_thorax_velocity\n",
      "trial_subject_locations\n",
      "trial_subject_thorax_to_reward_port\n",
      "trial_subject_thorax_velocity\n"
     ]
    }
   ],
   "source": [
    "for col in sorted(sleap_columns):\n",
    "    updated_item_col = \"trial_{}\".format(col)\n",
    "    print(updated_item_col)\n",
    "    updated_timestamp_col = \"trial_video_timestamps\".format(col)\n",
    "    if \"agent\" in col:\n",
    "        TRIALS_AND_SPECTRAL_DF[updated_item_col] = TRIALS_AND_SPECTRAL_DF.apply(lambda x: utilities.helper.filter_by_timestamp_range(start=x[\"tone_start_timestamp\"], stop=x[\"tone_stop_timestamp\"], timestamps=x[\"video_timestamps\"], items=x[col])[1] if x[\"agent\"] else np.nan, axis=1)\n",
    "    else:\n",
    "        TRIALS_AND_SPECTRAL_DF[updated_item_col] = TRIALS_AND_SPECTRAL_DF.apply(lambda x: utilities.helper.filter_by_timestamp_range(start=x[\"tone_start_timestamp\"], stop=x[\"tone_stop_timestamp\"], timestamps=x[\"video_timestamps\"], items=x[col])[1], axis=1)\n",
    "\n",
    "TRIALS_AND_SPECTRAL_DF[updated_timestamp_col] = TRIALS_AND_SPECTRAL_DF.apply(lambda x: utilities.helper.filter_by_timestamp_range(start=x[\"tone_start_timestamp\"], stop=x[\"tone_stop_timestamp\"], timestamps=x[\"video_timestamps\"], items=x[col])[0], axis=1)"
   ]
  },
  {
   "cell_type": "code",
   "execution_count": 61,
   "metadata": {
    "tags": []
   },
   "outputs": [],
   "source": [
    "TRIALS_AND_SPECTRAL_DF = TRIALS_AND_SPECTRAL_DF.drop(columns=sleap_columns + [\"video_timestamps\"], errors=\"ignore\")"
   ]
  },
  {
   "cell_type": "markdown",
   "metadata": {
    "tags": []
   },
   "source": [
    "## Filtering out the Spikes for during and after the trials"
   ]
  },
  {
   "cell_type": "code",
   "execution_count": 62,
   "metadata": {
    "tags": []
   },
   "outputs": [],
   "source": [
    "TRIALS_AND_SPECTRAL_DF[\"baseline_spike_times\"] = TRIALS_AND_SPECTRAL_DF.apply(lambda x: filter_spike_times(x[\"spike_times\"], start=x[\"baseline_start_timestamp\"], stop=x[\"baseline_stop_timestamp\"]).astype(int), axis=1)\n"
   ]
  },
  {
   "cell_type": "code",
   "execution_count": 63,
   "metadata": {
    "tags": []
   },
   "outputs": [],
   "source": [
    "TRIALS_AND_SPECTRAL_DF[\"trial_spike_times\"] = TRIALS_AND_SPECTRAL_DF.apply(lambda x: filter_spike_times(x[\"spike_times\"], start=x[\"tone_start_timestamp\"], stop=x[\"tone_stop_timestamp\"]).astype(int), axis=1)\n"
   ]
  },
  {
   "cell_type": "code",
   "execution_count": 64,
   "metadata": {
    "tags": []
   },
   "outputs": [
    {
     "data": {
      "text/plain": [
       "array([[    -1,     -1,     -1, ...,     -1,     -1,     -1],\n",
       "       [433305, 433651, 434639, ...,     -1,     -1,     -1],\n",
       "       [458627, 470686, 481902, ...,     -1,     -1,     -1],\n",
       "       ...,\n",
       "       [477061, 507039, 532810, ...,     -1,     -1,     -1],\n",
       "       [    -1,     -1,     -1, ...,     -1,     -1,     -1],\n",
       "       [    -1,     -1,     -1, ...,     -1,     -1,     -1]])"
      ]
     },
     "execution_count": 64,
     "metadata": {},
     "output_type": "execute_result"
    }
   ],
   "source": [
    "TRIALS_AND_SPECTRAL_DF[\"baseline_spike_times\"].iloc[0]"
   ]
  },
  {
   "cell_type": "code",
   "execution_count": 65,
   "metadata": {
    "tags": []
   },
   "outputs": [],
   "source": [
    "TRIALS_AND_SPECTRAL_DF[\"baseline_neuron_average_fr\"] = TRIALS_AND_SPECTRAL_DF.apply(lambda x: utilities.helper.filter_by_timestamp_range(start=x[\"baseline_start_timestamp\"], stop=x[\"baseline_stop_timestamp\"], timestamps=x[\"neuron_average_timestamps\"], items=x[\"neuron_average_fr\"].T)[1], axis=1)\n",
    "TRIALS_AND_SPECTRAL_DF[\"baseline_neuron_average_timestamp\"] = TRIALS_AND_SPECTRAL_DF.apply(lambda x: utilities.helper.filter_by_timestamp_range(start=x[\"baseline_start_timestamp\"], stop=x[\"baseline_stop_timestamp\"], timestamps=x[\"neuron_average_timestamps\"], items=x[\"neuron_average_fr\"].T)[0], axis=1)"
   ]
  },
  {
   "cell_type": "code",
   "execution_count": 66,
   "metadata": {
    "tags": []
   },
   "outputs": [],
   "source": [
    "TRIALS_AND_SPECTRAL_DF[\"trial_neuron_average_fr\"] = TRIALS_AND_SPECTRAL_DF.apply(lambda x: utilities.helper.filter_by_timestamp_range(start=x[\"tone_start_timestamp\"], stop=x[\"tone_stop_timestamp\"], timestamps=x[\"neuron_average_timestamps\"], items=x[\"neuron_average_fr\"].T)[1].T, axis=1)\n",
    "TRIALS_AND_SPECTRAL_DF[\"trial_neuron_average_timestamp\"] = TRIALS_AND_SPECTRAL_DF.apply(lambda x: utilities.helper.filter_by_timestamp_range(start=x[\"tone_start_timestamp\"], stop=x[\"tone_stop_timestamp\"], timestamps=x[\"neuron_average_timestamps\"], items=x[\"neuron_average_fr\"].T)[0], axis=1)"
   ]
  },
  {
   "cell_type": "code",
   "execution_count": 67,
   "metadata": {
    "tags": []
   },
   "outputs": [],
   "source": [
    "TRIALS_AND_SPECTRAL_DF = TRIALS_AND_SPECTRAL_DF.drop(columns=[\"spike_clusters\", \"spike_times\", \"neuron_average_fr\", \"neuron_average_timestamps\",], errors=\"ignore\")"
   ]
  },
  {
   "cell_type": "code",
   "execution_count": 68,
   "metadata": {
    "tags": []
   },
   "outputs": [
    {
     "data": {
      "text/plain": [
       "(18, 100)"
      ]
     },
     "execution_count": 68,
     "metadata": {},
     "output_type": "execute_result"
    }
   ],
   "source": [
    "TRIALS_AND_SPECTRAL_DF[\"trial_neuron_average_fr\"].iloc[0].shape"
   ]
  },
  {
   "cell_type": "code",
   "execution_count": 69,
   "metadata": {
    "tags": []
   },
   "outputs": [
    {
     "data": {
      "text/plain": [
       "(100,)"
      ]
     },
     "execution_count": 69,
     "metadata": {},
     "output_type": "execute_result"
    }
   ],
   "source": [
    "TRIALS_AND_SPECTRAL_DF[\"trial_neuron_average_timestamp\"].iloc[0].shape"
   ]
  },
  {
   "cell_type": "code",
   "execution_count": 70,
   "metadata": {},
   "outputs": [
    {
     "name": "stdout",
     "output_type": "stream",
     "text": [
      "tracked_subject\n",
      "box_number\n",
      "sleap_name\n",
      "video_name\n",
      "current_subject\n",
      "tone_start_frame\n",
      "reward_start_frame\n",
      "tone_stop_frame\n",
      "condition\n",
      "competition_closeness\n",
      "notes\n",
      "experiment\n",
      "session_dir\n",
      "all_subjects\n",
      "tone_start_timestamp\n",
      "tone_stop_timestamp\n",
      "trial_label\n",
      "cohort\n",
      "tone_frames\n",
      "box_1_port_entry_frames\n",
      "box_2_port_entry_frames\n",
      "session_path\n",
      "recording\n",
      "subject\n",
      "first_timestamp\n",
      "last_timestamp\n",
      "tone_timestamps\n",
      "box_1_port_entry_timestamps\n",
      "box_2_port_entry_timestamps\n",
      "lfp_timestamps\n",
      "power_calculation_frequencies\n",
      "coherence_calculation_frequencies\n",
      "granger_calculation_frequencies\n",
      "start_frame\n",
      "stop_frame\n",
      "in_video_subjects\n",
      "body_parts\n",
      "box_top_left\n",
      "box_top_right\n",
      "reward_port\n",
      "box_bottom_left\n",
      "box_bottom_right\n",
      "agent\n",
      "recording_name\n",
      "baseline_start_timestamp\n",
      "baseline_stop_timestamp\n",
      "baseline_mPFC_power_all_frequencies\n",
      "baseline_MD_power_all_frequencies\n",
      "baseline_LH_power_all_frequencies\n",
      "baseline_BLA_power_all_frequencies\n",
      "baseline_vHPC_power_all_frequencies\n",
      "baseline_mPFC_power_theta\n",
      "baseline_mPFC_power_gamma\n",
      "baseline_MD_power_theta\n",
      "baseline_MD_power_gamma\n",
      "baseline_LH_power_theta\n",
      "baseline_LH_power_gamma\n",
      "baseline_BLA_power_theta\n",
      "baseline_BLA_power_gamma\n",
      "baseline_vHPC_power_theta\n",
      "baseline_vHPC_power_gamma\n",
      "baseline_power_timestamps\n",
      "trial_mPFC_power_all_frequencies\n",
      "trial_MD_power_all_frequencies\n",
      "trial_LH_power_all_frequencies\n",
      "trial_BLA_power_all_frequencies\n",
      "trial_vHPC_power_all_frequencies\n",
      "trial_mPFC_power_theta\n",
      "trial_mPFC_power_gamma\n",
      "trial_MD_power_theta\n",
      "trial_MD_power_gamma\n",
      "trial_LH_power_theta\n",
      "trial_LH_power_gamma\n",
      "trial_BLA_power_theta\n",
      "trial_BLA_power_gamma\n",
      "trial_vHPC_power_theta\n",
      "trial_vHPC_power_gamma\n",
      "trial_power_timestamps\n",
      "baseline_BLA_LH_coherence_all_frequencies\n",
      "baseline_BLA_MD_coherence_all_frequencies\n",
      "baseline_BLA_mPFC_coherence_all_frequencies\n",
      "baseline_BLA_vHPC_coherence_all_frequencies\n",
      "baseline_LH_MD_coherence_all_frequencies\n",
      "baseline_LH_mPFC_coherence_all_frequencies\n",
      "baseline_LH_vHPC_coherence_all_frequencies\n",
      "baseline_MD_mPFC_coherence_all_frequencies\n",
      "baseline_MD_vHPC_coherence_all_frequencies\n",
      "baseline_mPFC_vHPC_coherence_all_frequencies\n",
      "baseline_BLA_LH_coherence_theta\n",
      "baseline_BLA_LH_coherence_gamma\n",
      "baseline_BLA_MD_coherence_theta\n",
      "baseline_BLA_MD_coherence_gamma\n",
      "baseline_BLA_mPFC_coherence_theta\n",
      "baseline_BLA_mPFC_coherence_gamma\n",
      "baseline_BLA_vHPC_coherence_theta\n",
      "baseline_BLA_vHPC_coherence_gamma\n",
      "baseline_LH_MD_coherence_theta\n",
      "baseline_LH_MD_coherence_gamma\n",
      "baseline_LH_mPFC_coherence_theta\n",
      "baseline_LH_mPFC_coherence_gamma\n",
      "baseline_LH_vHPC_coherence_theta\n",
      "baseline_LH_vHPC_coherence_gamma\n",
      "baseline_MD_mPFC_coherence_theta\n",
      "baseline_MD_mPFC_coherence_gamma\n",
      "baseline_MD_vHPC_coherence_theta\n",
      "baseline_MD_vHPC_coherence_gamma\n",
      "baseline_mPFC_vHPC_coherence_theta\n",
      "baseline_mPFC_vHPC_coherence_gamma\n",
      "baseline_coherence_timestamps\n",
      "trial_BLA_LH_coherence_all_frequencies\n",
      "trial_BLA_MD_coherence_all_frequencies\n",
      "trial_BLA_mPFC_coherence_all_frequencies\n",
      "trial_BLA_vHPC_coherence_all_frequencies\n",
      "trial_LH_MD_coherence_all_frequencies\n",
      "trial_LH_mPFC_coherence_all_frequencies\n",
      "trial_LH_vHPC_coherence_all_frequencies\n",
      "trial_MD_mPFC_coherence_all_frequencies\n",
      "trial_MD_vHPC_coherence_all_frequencies\n",
      "trial_mPFC_vHPC_coherence_all_frequencies\n",
      "trial_BLA_LH_coherence_theta\n",
      "trial_BLA_LH_coherence_gamma\n",
      "trial_BLA_MD_coherence_theta\n",
      "trial_BLA_MD_coherence_gamma\n",
      "trial_BLA_mPFC_coherence_theta\n",
      "trial_BLA_mPFC_coherence_gamma\n",
      "trial_BLA_vHPC_coherence_theta\n",
      "trial_BLA_vHPC_coherence_gamma\n",
      "trial_LH_MD_coherence_theta\n",
      "trial_LH_MD_coherence_gamma\n",
      "trial_LH_mPFC_coherence_theta\n",
      "trial_LH_mPFC_coherence_gamma\n",
      "trial_LH_vHPC_coherence_theta\n",
      "trial_LH_vHPC_coherence_gamma\n",
      "trial_MD_mPFC_coherence_theta\n",
      "trial_MD_mPFC_coherence_gamma\n",
      "trial_MD_vHPC_coherence_theta\n",
      "trial_MD_vHPC_coherence_gamma\n",
      "trial_mPFC_vHPC_coherence_theta\n",
      "trial_mPFC_vHPC_coherence_gamma\n",
      "trial_coherence_timestamps\n",
      "trial_BLA_LH_granger_all_frequencies\n",
      "trial_LH_BLA_granger_all_frequencies\n",
      "trial_BLA_MD_granger_all_frequencies\n",
      "trial_MD_BLA_granger_all_frequencies\n",
      "trial_BLA_mPFC_granger_all_frequencies\n",
      "trial_mPFC_BLA_granger_all_frequencies\n",
      "trial_BLA_vHPC_granger_all_frequencies\n",
      "trial_vHPC_BLA_granger_all_frequencies\n",
      "trial_LH_MD_granger_all_frequencies\n",
      "trial_MD_LH_granger_all_frequencies\n",
      "trial_LH_mPFC_granger_all_frequencies\n",
      "trial_mPFC_LH_granger_all_frequencies\n",
      "trial_LH_vHPC_granger_all_frequencies\n",
      "trial_vHPC_LH_granger_all_frequencies\n",
      "trial_MD_mPFC_granger_all_frequencies\n",
      "trial_mPFC_MD_granger_all_frequencies\n",
      "trial_MD_vHPC_granger_all_frequencies\n",
      "trial_vHPC_MD_granger_all_frequencies\n",
      "trial_mPFC_vHPC_granger_all_frequencies\n",
      "trial_vHPC_mPFC_granger_all_frequencies\n",
      "trial_BLA-to-LH_granger_theta\n",
      "trial_BLA-to-LH_granger_gamma\n",
      "trial_LH-to-BLA_granger_theta\n",
      "trial_LH-to-BLA_granger_gamma\n",
      "trial_BLA-to-MD_granger_theta\n",
      "trial_BLA-to-MD_granger_gamma\n",
      "trial_MD-to-BLA_granger_theta\n",
      "trial_MD-to-BLA_granger_gamma\n",
      "trial_BLA-to-mPFC_granger_theta\n",
      "trial_BLA-to-mPFC_granger_gamma\n",
      "trial_mPFC-to-BLA_granger_theta\n",
      "trial_mPFC-to-BLA_granger_gamma\n",
      "trial_BLA-to-vHPC_granger_theta\n",
      "trial_BLA-to-vHPC_granger_gamma\n",
      "trial_vHPC-to-BLA_granger_theta\n",
      "trial_vHPC-to-BLA_granger_gamma\n",
      "trial_LH-to-MD_granger_theta\n",
      "trial_LH-to-MD_granger_gamma\n",
      "trial_MD-to-LH_granger_theta\n",
      "trial_MD-to-LH_granger_gamma\n",
      "trial_LH-to-mPFC_granger_theta\n",
      "trial_LH-to-mPFC_granger_gamma\n",
      "trial_mPFC-to-LH_granger_theta\n",
      "trial_mPFC-to-LH_granger_gamma\n",
      "trial_LH-to-vHPC_granger_theta\n",
      "trial_LH-to-vHPC_granger_gamma\n",
      "trial_vHPC-to-LH_granger_theta\n",
      "trial_vHPC-to-LH_granger_gamma\n",
      "trial_MD-to-mPFC_granger_theta\n",
      "trial_MD-to-mPFC_granger_gamma\n",
      "trial_mPFC-to-MD_granger_theta\n",
      "trial_mPFC-to-MD_granger_gamma\n",
      "trial_MD-to-vHPC_granger_theta\n",
      "trial_MD-to-vHPC_granger_gamma\n",
      "trial_vHPC-to-MD_granger_theta\n",
      "trial_vHPC-to-MD_granger_gamma\n",
      "trial_mPFC-to-vHPC_granger_theta\n",
      "trial_mPFC-to-vHPC_granger_gamma\n",
      "trial_vHPC-to-mPFC_granger_theta\n",
      "trial_vHPC-to-mPFC_granger_gamma\n",
      "trial_granger_timestamps\n",
      "baseline_agent_locations\n",
      "baseline_agent_thorax_to_reward_port\n",
      "baseline_agent_thorax_velocity\n",
      "baseline_subject_locations\n",
      "baseline_subject_thorax_to_reward_port\n",
      "baseline_subject_thorax_velocity\n",
      "baseline_video_timestamps\n",
      "trial_agent_locations\n",
      "trial_agent_thorax_to_reward_port\n",
      "trial_agent_thorax_velocity\n",
      "trial_subject_locations\n",
      "trial_subject_thorax_to_reward_port\n",
      "trial_subject_thorax_velocity\n",
      "trial_video_timestamps\n",
      "baseline_spike_times\n",
      "trial_spike_times\n",
      "baseline_neuron_average_fr\n",
      "baseline_neuron_average_timestamp\n",
      "trial_neuron_average_fr\n",
      "trial_neuron_average_timestamp\n"
     ]
    }
   ],
   "source": [
    "for col in TRIALS_AND_SPECTRAL_DF.columns:\n",
    "    print(col)"
   ]
  },
  {
   "cell_type": "code",
   "execution_count": 71,
   "metadata": {
    "tags": []
   },
   "outputs": [
    {
     "data": {
      "text/html": [
       "<div>\n",
       "<style scoped>\n",
       "    .dataframe tbody tr th:only-of-type {\n",
       "        vertical-align: middle;\n",
       "    }\n",
       "\n",
       "    .dataframe tbody tr th {\n",
       "        vertical-align: top;\n",
       "    }\n",
       "\n",
       "    .dataframe thead th {\n",
       "        text-align: right;\n",
       "    }\n",
       "</style>\n",
       "<table border=\"1\" class=\"dataframe\">\n",
       "  <thead>\n",
       "    <tr style=\"text-align: right;\">\n",
       "      <th></th>\n",
       "      <th>tracked_subject</th>\n",
       "      <th>box_number</th>\n",
       "      <th>sleap_name</th>\n",
       "      <th>video_name</th>\n",
       "      <th>current_subject</th>\n",
       "      <th>tone_start_frame</th>\n",
       "      <th>reward_start_frame</th>\n",
       "      <th>tone_stop_frame</th>\n",
       "      <th>condition</th>\n",
       "      <th>competition_closeness</th>\n",
       "      <th>...</th>\n",
       "      <th>trial_subject_locations</th>\n",
       "      <th>trial_subject_thorax_to_reward_port</th>\n",
       "      <th>trial_subject_thorax_velocity</th>\n",
       "      <th>trial_video_timestamps</th>\n",
       "      <th>baseline_spike_times</th>\n",
       "      <th>trial_spike_times</th>\n",
       "      <th>baseline_neuron_average_fr</th>\n",
       "      <th>baseline_neuron_average_timestamp</th>\n",
       "      <th>trial_neuron_average_fr</th>\n",
       "      <th>trial_neuron_average_timestamp</th>\n",
       "    </tr>\n",
       "  </thead>\n",
       "  <tbody>\n",
       "    <tr>\n",
       "      <th>0</th>\n",
       "      <td>1.1_1.2</td>\n",
       "      <td>1</td>\n",
       "      <td>20230617_115521_standard_comp_to_omission_D1_s...</td>\n",
       "      <td>20230617_115521_standard_comp_to_omission_D1_s...</td>\n",
       "      <td>1.1</td>\n",
       "      <td>1029</td>\n",
       "      <td>1129</td>\n",
       "      <td>1229</td>\n",
       "      <td>1.2</td>\n",
       "      <td>Subj 2 blocking Subj 1</td>\n",
       "      <td>...</td>\n",
       "      <td>[[[47.29289683518595, 35.536936745195085], [44...</td>\n",
       "      <td>[4.758, 4.742, 4.727, 4.707, 4.69, 4.71, 4.71,...</td>\n",
       "      <td>[0.2273, 0.2103, 0.1915, 0.172, 0.1503, 0.1307...</td>\n",
       "      <td>[1031085, 1032471, 1032471, 1033857, 1035243, ...</td>\n",
       "      <td>[[-1, -1, -1, -1, -1, -1, -1, -1, -1, -1, -1, ...</td>\n",
       "      <td>[[-1, -1, -1, -1, -1, -1, -1, -1, -1, -1, -1, ...</td>\n",
       "      <td>[[0.0, 2.0, 0.0, 1.0, 0.0, 2.0, 0.0, 0.0, 1.0,...</td>\n",
       "      <td>[432000, 434000, 436000, 438000, 440000, 44200...</td>\n",
       "      <td>[[0.0, 0.0, 0.0, 0.0, 0.0, 0.0, 0.0, 0.0, 0.0,...</td>\n",
       "      <td>[1032000, 1034000, 1036000, 1038000, 1040000, ...</td>\n",
       "    </tr>\n",
       "    <tr>\n",
       "      <th>1</th>\n",
       "      <td>1.1_1.2</td>\n",
       "      <td>1</td>\n",
       "      <td>20230617_115521_standard_comp_to_omission_D1_s...</td>\n",
       "      <td>20230617_115521_standard_comp_to_omission_D1_s...</td>\n",
       "      <td>1.1</td>\n",
       "      <td>1029</td>\n",
       "      <td>1129</td>\n",
       "      <td>1229</td>\n",
       "      <td>1.2</td>\n",
       "      <td>Subj 2 blocking Subj 1</td>\n",
       "      <td>...</td>\n",
       "      <td>[[[56.68453788769244, 26.822327670799705], [58...</td>\n",
       "      <td>[15.164, 15.17, 15.04, 15.28, 15.09, 14.89, 14...</td>\n",
       "      <td>[8.51, 7.824, 7.152, 6.496, 5.87, 5.273, 4.727...</td>\n",
       "      <td>[1031085, 1032471, 1032471, 1033857, 1035243, ...</td>\n",
       "      <td>[[-1, -1, -1, -1, -1, -1, -1, -1, -1, -1, -1, ...</td>\n",
       "      <td>[[-1, -1, -1, -1, -1, -1, -1, -1, -1, -1, -1, ...</td>\n",
       "      <td>[[0.0, 2.0, 0.0, 1.0, 0.0, 2.0, 0.0, 0.0, 1.0,...</td>\n",
       "      <td>[432000, 434000, 436000, 438000, 440000, 44200...</td>\n",
       "      <td>[[0.0, 0.0, 0.0, 0.0, 0.0, 0.0, 0.0, 0.0, 0.0,...</td>\n",
       "      <td>[1032000, 1034000, 1036000, 1038000, 1040000, ...</td>\n",
       "    </tr>\n",
       "    <tr>\n",
       "      <th>2</th>\n",
       "      <td>1.1_1.2</td>\n",
       "      <td>1</td>\n",
       "      <td>20230617_115521_standard_comp_to_omission_D1_s...</td>\n",
       "      <td>20230617_115521_standard_comp_to_omission_D1_s...</td>\n",
       "      <td>1.1</td>\n",
       "      <td>3425</td>\n",
       "      <td>3525</td>\n",
       "      <td>3624</td>\n",
       "      <td>1.1</td>\n",
       "      <td>Subj 1 blocking Subj 2</td>\n",
       "      <td>...</td>\n",
       "      <td>[[[29.45534799605627, 10.86561095635252], [30....</td>\n",
       "      <td>[28.28, 28.25, 27.97, 27.95, 27.81, 2.84, 2.83...</td>\n",
       "      <td>[15.42, 14.43, 13.3, 12.07, 10.734, 9.305, 7.8...</td>\n",
       "      <td>[3431411, 3432797, 3434183, 3434183, 3435569, ...</td>\n",
       "      <td>[[-1, -1, -1, -1, -1, -1, -1, -1, -1, -1, -1, ...</td>\n",
       "      <td>[[-1, -1, -1, -1, -1, -1, -1, -1, -1, -1, -1, ...</td>\n",
       "      <td>[[0.0, 0.0, 0.0, 0.0, 0.0, 0.0, 0.0, 0.0, 0.0,...</td>\n",
       "      <td>[2832000, 2834000, 2836000, 2838000, 2840000, ...</td>\n",
       "      <td>[[0.0, 0.0, 0.0, 0.0, 0.0, 0.0, 0.0, 0.0, 0.0,...</td>\n",
       "      <td>[3432000, 3434000, 3436000, 3438000, 3440000, ...</td>\n",
       "    </tr>\n",
       "    <tr>\n",
       "      <th>3</th>\n",
       "      <td>1.1_1.2</td>\n",
       "      <td>1</td>\n",
       "      <td>20230617_115521_standard_comp_to_omission_D1_s...</td>\n",
       "      <td>20230617_115521_standard_comp_to_omission_D1_s...</td>\n",
       "      <td>1.1</td>\n",
       "      <td>3425</td>\n",
       "      <td>3525</td>\n",
       "      <td>3624</td>\n",
       "      <td>1.1</td>\n",
       "      <td>Subj 1 blocking Subj 2</td>\n",
       "      <td>...</td>\n",
       "      <td>[[[29.45534799605627, 10.86561095635252], [30....</td>\n",
       "      <td>[28.28, 28.25, 27.97, 27.95, 27.81, 27.94, 28....</td>\n",
       "      <td>[0.2578, 0.3298, 0.4297, 0.573, 0.723, 0.8687,...</td>\n",
       "      <td>[3431411, 3432797, 3434183, 3434183, 3435569, ...</td>\n",
       "      <td>[[-1, -1, -1, -1, -1, -1, -1, -1, -1, -1, -1, ...</td>\n",
       "      <td>[[-1, -1, -1, -1, -1, -1, -1, -1, -1, -1, -1, ...</td>\n",
       "      <td>[[0.0, 0.0, 0.0, 0.0, 0.0, 0.0, 0.0, 0.0, 0.0,...</td>\n",
       "      <td>[2832000, 2834000, 2836000, 2838000, 2840000, ...</td>\n",
       "      <td>[[0.0, 0.0, 0.0, 0.0, 0.0, 0.0, 0.0, 0.0, 0.0,...</td>\n",
       "      <td>[3432000, 3434000, 3436000, 3438000, 3440000, ...</td>\n",
       "    </tr>\n",
       "    <tr>\n",
       "      <th>4</th>\n",
       "      <td>1.1_1.2</td>\n",
       "      <td>1</td>\n",
       "      <td>20230617_115521_standard_comp_to_omission_D1_s...</td>\n",
       "      <td>20230617_115521_standard_comp_to_omission_D1_s...</td>\n",
       "      <td>1.1</td>\n",
       "      <td>5721</td>\n",
       "      <td>5821</td>\n",
       "      <td>5920</td>\n",
       "      <td>1.1</td>\n",
       "      <td>Subj 1 blocking Subj 2</td>\n",
       "      <td>...</td>\n",
       "      <td>[[[46.066550401637926, 35.52155077113318], [42...</td>\n",
       "      <td>[4.33, 4.293, 4.305, 4.332, 4.355, 4.582, 4.70...</td>\n",
       "      <td>[5.25, 4.113, 3.02, 2.074, 1.426, 1.412, 1.923...</td>\n",
       "      <td>[5731955, 5733341, 5734180, 5734726, 5736112, ...</td>\n",
       "      <td>[[5231338, 5280937, 5281635, 5283360, 5285622,...</td>\n",
       "      <td>[[5733394, 5739240, -1, -1, -1, -1, -1, -1, -1...</td>\n",
       "      <td>[[0.0, 0.0, 0.0, 2.0, 0.0, 0.0, 0.0, 0.0, 3.0,...</td>\n",
       "      <td>[5132000, 5134000, 5136000, 5138000, 5140000, ...</td>\n",
       "      <td>[[1.0, 0.0, 0.0, 1.0, 0.0, 0.0, 0.0, 0.0, 0.0,...</td>\n",
       "      <td>[5732000, 5734000, 5736000, 5738000, 5740000, ...</td>\n",
       "    </tr>\n",
       "  </tbody>\n",
       "</table>\n",
       "<p>5 rows × 221 columns</p>\n",
       "</div>"
      ],
      "text/plain": [
       "  tracked_subject  box_number  \\\n",
       "0         1.1_1.2           1   \n",
       "1         1.1_1.2           1   \n",
       "2         1.1_1.2           1   \n",
       "3         1.1_1.2           1   \n",
       "4         1.1_1.2           1   \n",
       "\n",
       "                                          sleap_name  \\\n",
       "0  20230617_115521_standard_comp_to_omission_D1_s...   \n",
       "1  20230617_115521_standard_comp_to_omission_D1_s...   \n",
       "2  20230617_115521_standard_comp_to_omission_D1_s...   \n",
       "3  20230617_115521_standard_comp_to_omission_D1_s...   \n",
       "4  20230617_115521_standard_comp_to_omission_D1_s...   \n",
       "\n",
       "                                          video_name current_subject  \\\n",
       "0  20230617_115521_standard_comp_to_omission_D1_s...             1.1   \n",
       "1  20230617_115521_standard_comp_to_omission_D1_s...             1.1   \n",
       "2  20230617_115521_standard_comp_to_omission_D1_s...             1.1   \n",
       "3  20230617_115521_standard_comp_to_omission_D1_s...             1.1   \n",
       "4  20230617_115521_standard_comp_to_omission_D1_s...             1.1   \n",
       "\n",
       "   tone_start_frame  reward_start_frame  tone_stop_frame condition  \\\n",
       "0              1029                1129             1229       1.2   \n",
       "1              1029                1129             1229       1.2   \n",
       "2              3425                3525             3624       1.1   \n",
       "3              3425                3525             3624       1.1   \n",
       "4              5721                5821             5920       1.1   \n",
       "\n",
       "    competition_closeness  ...  \\\n",
       "0  Subj 2 blocking Subj 1  ...   \n",
       "1  Subj 2 blocking Subj 1  ...   \n",
       "2  Subj 1 blocking Subj 2  ...   \n",
       "3  Subj 1 blocking Subj 2  ...   \n",
       "4  Subj 1 blocking Subj 2  ...   \n",
       "\n",
       "                             trial_subject_locations  \\\n",
       "0  [[[47.29289683518595, 35.536936745195085], [44...   \n",
       "1  [[[56.68453788769244, 26.822327670799705], [58...   \n",
       "2  [[[29.45534799605627, 10.86561095635252], [30....   \n",
       "3  [[[29.45534799605627, 10.86561095635252], [30....   \n",
       "4  [[[46.066550401637926, 35.52155077113318], [42...   \n",
       "\n",
       "                 trial_subject_thorax_to_reward_port  \\\n",
       "0  [4.758, 4.742, 4.727, 4.707, 4.69, 4.71, 4.71,...   \n",
       "1  [15.164, 15.17, 15.04, 15.28, 15.09, 14.89, 14...   \n",
       "2  [28.28, 28.25, 27.97, 27.95, 27.81, 2.84, 2.83...   \n",
       "3  [28.28, 28.25, 27.97, 27.95, 27.81, 27.94, 28....   \n",
       "4  [4.33, 4.293, 4.305, 4.332, 4.355, 4.582, 4.70...   \n",
       "\n",
       "                       trial_subject_thorax_velocity  \\\n",
       "0  [0.2273, 0.2103, 0.1915, 0.172, 0.1503, 0.1307...   \n",
       "1  [8.51, 7.824, 7.152, 6.496, 5.87, 5.273, 4.727...   \n",
       "2  [15.42, 14.43, 13.3, 12.07, 10.734, 9.305, 7.8...   \n",
       "3  [0.2578, 0.3298, 0.4297, 0.573, 0.723, 0.8687,...   \n",
       "4  [5.25, 4.113, 3.02, 2.074, 1.426, 1.412, 1.923...   \n",
       "\n",
       "                              trial_video_timestamps  \\\n",
       "0  [1031085, 1032471, 1032471, 1033857, 1035243, ...   \n",
       "1  [1031085, 1032471, 1032471, 1033857, 1035243, ...   \n",
       "2  [3431411, 3432797, 3434183, 3434183, 3435569, ...   \n",
       "3  [3431411, 3432797, 3434183, 3434183, 3435569, ...   \n",
       "4  [5731955, 5733341, 5734180, 5734726, 5736112, ...   \n",
       "\n",
       "                                baseline_spike_times  \\\n",
       "0  [[-1, -1, -1, -1, -1, -1, -1, -1, -1, -1, -1, ...   \n",
       "1  [[-1, -1, -1, -1, -1, -1, -1, -1, -1, -1, -1, ...   \n",
       "2  [[-1, -1, -1, -1, -1, -1, -1, -1, -1, -1, -1, ...   \n",
       "3  [[-1, -1, -1, -1, -1, -1, -1, -1, -1, -1, -1, ...   \n",
       "4  [[5231338, 5280937, 5281635, 5283360, 5285622,...   \n",
       "\n",
       "                                   trial_spike_times  \\\n",
       "0  [[-1, -1, -1, -1, -1, -1, -1, -1, -1, -1, -1, ...   \n",
       "1  [[-1, -1, -1, -1, -1, -1, -1, -1, -1, -1, -1, ...   \n",
       "2  [[-1, -1, -1, -1, -1, -1, -1, -1, -1, -1, -1, ...   \n",
       "3  [[-1, -1, -1, -1, -1, -1, -1, -1, -1, -1, -1, ...   \n",
       "4  [[5733394, 5739240, -1, -1, -1, -1, -1, -1, -1...   \n",
       "\n",
       "                          baseline_neuron_average_fr  \\\n",
       "0  [[0.0, 2.0, 0.0, 1.0, 0.0, 2.0, 0.0, 0.0, 1.0,...   \n",
       "1  [[0.0, 2.0, 0.0, 1.0, 0.0, 2.0, 0.0, 0.0, 1.0,...   \n",
       "2  [[0.0, 0.0, 0.0, 0.0, 0.0, 0.0, 0.0, 0.0, 0.0,...   \n",
       "3  [[0.0, 0.0, 0.0, 0.0, 0.0, 0.0, 0.0, 0.0, 0.0,...   \n",
       "4  [[0.0, 0.0, 0.0, 2.0, 0.0, 0.0, 0.0, 0.0, 3.0,...   \n",
       "\n",
       "                   baseline_neuron_average_timestamp  \\\n",
       "0  [432000, 434000, 436000, 438000, 440000, 44200...   \n",
       "1  [432000, 434000, 436000, 438000, 440000, 44200...   \n",
       "2  [2832000, 2834000, 2836000, 2838000, 2840000, ...   \n",
       "3  [2832000, 2834000, 2836000, 2838000, 2840000, ...   \n",
       "4  [5132000, 5134000, 5136000, 5138000, 5140000, ...   \n",
       "\n",
       "                             trial_neuron_average_fr  \\\n",
       "0  [[0.0, 0.0, 0.0, 0.0, 0.0, 0.0, 0.0, 0.0, 0.0,...   \n",
       "1  [[0.0, 0.0, 0.0, 0.0, 0.0, 0.0, 0.0, 0.0, 0.0,...   \n",
       "2  [[0.0, 0.0, 0.0, 0.0, 0.0, 0.0, 0.0, 0.0, 0.0,...   \n",
       "3  [[0.0, 0.0, 0.0, 0.0, 0.0, 0.0, 0.0, 0.0, 0.0,...   \n",
       "4  [[1.0, 0.0, 0.0, 1.0, 0.0, 0.0, 0.0, 0.0, 0.0,...   \n",
       "\n",
       "                      trial_neuron_average_timestamp  \n",
       "0  [1032000, 1034000, 1036000, 1038000, 1040000, ...  \n",
       "1  [1032000, 1034000, 1036000, 1038000, 1040000, ...  \n",
       "2  [3432000, 3434000, 3436000, 3438000, 3440000, ...  \n",
       "3  [3432000, 3434000, 3436000, 3438000, 3440000, ...  \n",
       "4  [5732000, 5734000, 5736000, 5738000, 5740000, ...  \n",
       "\n",
       "[5 rows x 221 columns]"
      ]
     },
     "execution_count": 71,
     "metadata": {},
     "output_type": "execute_result"
    }
   ],
   "source": [
    "TRIALS_AND_SPECTRAL_DF.head()"
   ]
  },
  {
   "cell_type": "code",
   "execution_count": 74,
   "metadata": {
    "tags": []
   },
   "outputs": [
    {
     "data": {
      "text/plain": [
       "0      standard\n",
       "1      standard\n",
       "2      standard\n",
       "3      standard\n",
       "4      standard\n",
       "         ...   \n",
       "363    omission\n",
       "364    omission\n",
       "365    omission\n",
       "366    omission\n",
       "367    omission\n",
       "Name: experiment, Length: 368, dtype: object"
      ]
     },
     "execution_count": 74,
     "metadata": {},
     "output_type": "execute_result"
    }
   ],
   "source": []
  },
  {
   "cell_type": "code",
   "execution_count": 72,
   "metadata": {
    "tags": []
   },
   "outputs": [],
   "source": [
    "TRIALS_AND_SPECTRAL_DF.to_pickle(os.path.join(OUTPUT_DIR, FULL_LFP_TRACES_PKL))"
   ]
  }
 ],
 "metadata": {
  "deepnote": {},
  "deepnote_execution_queue": [],
  "deepnote_notebook_id": "cf8fe3695d074ee7887fdf6459cbf5ce",
  "kernelspec": {
   "display_name": "spike_interface_0_99_0",
   "language": "python",
   "name": "spike_interface_0_99_0"
  },
  "language_info": {
   "codemirror_mode": {
    "name": "ipython",
    "version": 3
   },
   "file_extension": ".py",
   "mimetype": "text/x-python",
   "name": "python",
   "nbconvert_exporter": "python",
   "pygments_lexer": "ipython3",
   "version": "3.10.13"
  }
 },
 "nbformat": 4,
 "nbformat_minor": 4
}
