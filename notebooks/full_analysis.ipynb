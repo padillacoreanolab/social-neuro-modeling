{
 "cells": [
  {
   "cell_type": "markdown",
   "metadata": {
    "cell_id": "c3a02adc9e884466bc8c79db549cc3d2",
    "deepnote_cell_type": "text-cell-h1",
    "formattedRanges": [
     {
      "fromCodePoint": 0,
      "marks": {
       "bold": true,
       "underline": true
      },
      "toCodePoint": 17,
      "type": "marks"
     }
    ]
   },
   "source": [
    "# Add trial labels"
   ]
  },
  {
   "cell_type": "markdown",
   "metadata": {
    "cell_id": "4546bee655b14a5dbf393161f1228e60",
    "deepnote_cell_type": "text-cell-p",
    "formattedRanges": []
   },
   "source": [
    "Brief 1-2 sentence description of notebook."
   ]
  },
  {
   "cell_type": "code",
   "execution_count": 1,
   "metadata": {
    "tags": []
   },
   "outputs": [],
   "source": [
    "import os\n",
    "import glob\n",
    "import git\n",
    "import sys\n"
   ]
  },
  {
   "cell_type": "code",
   "execution_count": 2,
   "metadata": {
    "cell_id": "03b495cefa6a4798a44c7f2e4c6a3ea7",
    "deepnote_cell_type": "code",
    "deepnote_to_be_reexecuted": false,
    "execution_millis": 21,
    "execution_start": 1691424003626,
    "source_hash": null,
    "tags": []
   },
   "outputs": [],
   "source": [
    "# Imports of all used packages and libraries\n",
    "import numpy as np\n",
    "import pandas as pd\n",
    "# import seaborn as sns\n",
    "import matplotlib as mpl\n",
    "import matplotlib.pyplot as plt\n",
    "import h5py\n",
    "from scipy.interpolate import interp1d\n",
    "from scipy.signal import savgol_filter\n"
   ]
  },
  {
   "cell_type": "code",
   "execution_count": 3,
   "metadata": {
    "tags": []
   },
   "outputs": [],
   "source": [
    "git_repo = git.Repo(\".\", search_parent_directories=True)\n",
    "git_root = git_repo.git.rev_parse(\"--show-toplevel\")"
   ]
  },
  {
   "cell_type": "code",
   "execution_count": 4,
   "metadata": {
    "tags": []
   },
   "outputs": [
    {
     "data": {
      "text/plain": [
       "'/blue/npadillacoreano/ryoi360/projects/reward_comp/repos/social-neuro-modeling'"
      ]
     },
     "execution_count": 4,
     "metadata": {},
     "output_type": "execute_result"
    }
   ],
   "source": [
    "git_root"
   ]
  },
  {
   "cell_type": "code",
   "execution_count": 5,
   "metadata": {
    "tags": []
   },
   "outputs": [],
   "source": [
    "sys.path.insert(0, os.path.join(git_root, 'src'))"
   ]
  },
  {
   "cell_type": "code",
   "execution_count": 6,
   "metadata": {
    "tags": []
   },
   "outputs": [],
   "source": [
    "# sns.set('notebook', 'ticks', font_scale=1.2)\n",
    "mpl.rcParams['figure.figsize'] = [15,6]"
   ]
  },
  {
   "cell_type": "code",
   "execution_count": 17,
   "metadata": {
    "tags": []
   },
   "outputs": [],
   "source": [
    "from utilities import helper"
   ]
  },
  {
   "cell_type": "markdown",
   "metadata": {},
   "source": [
    "## Functions"
   ]
  },
  {
   "cell_type": "code",
   "execution_count": null,
   "metadata": {},
   "outputs": [],
   "source": []
  },
  {
   "cell_type": "markdown",
   "metadata": {
    "cell_id": "d290bac2c17940bfbc0f9296beaf70e5",
    "deepnote_cell_type": "text-cell-h2",
    "formattedRanges": []
   },
   "source": [
    "## Inputs & Data"
   ]
  },
  {
   "cell_type": "markdown",
   "metadata": {
    "cell_id": "e528ce19c608425292151930d380f49f",
    "deepnote_cell_type": "text-cell-p",
    "formattedRanges": []
   },
   "source": [
    "Explanation of each input and where it comes from."
   ]
  },
  {
   "cell_type": "code",
   "execution_count": 8,
   "metadata": {
    "cell_id": "6cf83a5811054461a718a71673d09aab",
    "deepnote_cell_type": "code",
    "deepnote_to_be_reexecuted": false,
    "execution_millis": 373,
    "execution_start": 1691424003628,
    "source_hash": null,
    "tags": []
   },
   "outputs": [],
   "source": [
    "# Inputs and Required data loading\n",
    "# input varaible names are in all caps snake case\n",
    "# Whenever an input changes or is used for processing \n",
    "# the vairables are all lower in snake case\n",
    "\n",
    "VIDEO_TO_FRAME_AND_SUBJECT_DF = pd.read_pickle(\"./proc/rce_pilot_2_05_lfp_spectral_sleap_spikes_labels.pkl\")\n",
    "\n",
    "OUTPUT_DIR = r\"./proc\" # where data is saved should always be shown in the inputs\n",
    "\n"
   ]
  },
  {
   "cell_type": "code",
   "execution_count": 9,
   "metadata": {
    "tags": []
   },
   "outputs": [
    {
     "data": {
      "text/html": [
       "<div>\n",
       "<style scoped>\n",
       "    .dataframe tbody tr th:only-of-type {\n",
       "        vertical-align: middle;\n",
       "    }\n",
       "\n",
       "    .dataframe tbody tr th {\n",
       "        vertical-align: top;\n",
       "    }\n",
       "\n",
       "    .dataframe thead th {\n",
       "        text-align: right;\n",
       "    }\n",
       "</style>\n",
       "<table border=\"1\" class=\"dataframe\">\n",
       "  <thead>\n",
       "    <tr style=\"text-align: right;\">\n",
       "      <th></th>\n",
       "      <th>cohort</th>\n",
       "      <th>session_dir</th>\n",
       "      <th>original_file</th>\n",
       "      <th>tone_frames</th>\n",
       "      <th>box_1_port_entry_frames</th>\n",
       "      <th>box_2_port_entry_frames</th>\n",
       "      <th>video_name</th>\n",
       "      <th>session_path</th>\n",
       "      <th>recording</th>\n",
       "      <th>subject</th>\n",
       "      <th>...</th>\n",
       "      <th>start_stop_timestamps</th>\n",
       "      <th>recording_name</th>\n",
       "      <th>spike_clusters</th>\n",
       "      <th>spike_times</th>\n",
       "      <th>neuron_average_fr</th>\n",
       "      <th>neuron_average_timestamps</th>\n",
       "      <th>video_file</th>\n",
       "      <th>trial_time_stamps</th>\n",
       "      <th>trial_label</th>\n",
       "      <th>trial_competition_closeness</th>\n",
       "    </tr>\n",
       "  </thead>\n",
       "  <tbody>\n",
       "    <tr>\n",
       "      <th>0</th>\n",
       "      <td>2</td>\n",
       "      <td>20230618_100636_standard_comp_to_omission_D2_s...</td>\n",
       "      <td>20230618_100636_standard_comp_to_omission_D2_s...</td>\n",
       "      <td>[[1098, 1297], [3492, 3693], [5788, 5988], [75...</td>\n",
       "      <td>[[788, 835], [838, 839], [839, 871], [871, 900...</td>\n",
       "      <td>[[33026, 33037], [33038, 33042], [33044, 33049...</td>\n",
       "      <td>20230618_100636_standard_comp_to_omission_D2_s...</td>\n",
       "      <td>/scratch/back_up/reward_competition_extention/...</td>\n",
       "      <td>20230618_100636_standard_comp_to_omission_D2_s...</td>\n",
       "      <td>1.1</td>\n",
       "      <td>...</td>\n",
       "      <td>(1384, 32376683)</td>\n",
       "      <td>20230618_100636_standard_comp_to_omission_D2_s...</td>\n",
       "      <td>[7, 11, 12, 48, 50, 51, 61, 64, 76, 84, 90, 98...</td>\n",
       "      <td>[[506, 1419, 2358, 5104, 6785, 7620, 9801, 120...</td>\n",
       "      <td>[[2.0, 1.0, 1.0, 2.0, 1.0, 0.0, 3.0, 0.0, 1.0,...</td>\n",
       "      <td>[0, 2000, 4000, 6000, 8000, 10000, 12000, 1400...</td>\n",
       "      <td>20230618_100636_standard_comp_to_omission_D2_s...</td>\n",
       "      <td>[1099250, 3499256, 5799251, 7599250, 8699250, ...</td>\n",
       "      <td>[lose, win, win, lose, win, lose, lose, lose, ...</td>\n",
       "      <td>[non_comp, non_comp, non_comp, non_comp, non_c...</td>\n",
       "    </tr>\n",
       "    <tr>\n",
       "      <th>1</th>\n",
       "      <td>2</td>\n",
       "      <td>20230618_100636_standard_comp_to_omission_D2_s...</td>\n",
       "      <td>20230618_100636_standard_comp_to_omission_D2_s...</td>\n",
       "      <td>[[1098, 1297], [3492, 3693], [5788, 5988], [75...</td>\n",
       "      <td>[[788, 835], [838, 839], [839, 871], [871, 900...</td>\n",
       "      <td>[[33026, 33037], [33038, 33042], [33044, 33049...</td>\n",
       "      <td>20230618_100636_standard_comp_to_omission_D2_s...</td>\n",
       "      <td>/scratch/back_up/reward_competition_extention/...</td>\n",
       "      <td>20230618_100636_standard_comp_to_omission_D2_s...</td>\n",
       "      <td>1.4</td>\n",
       "      <td>...</td>\n",
       "      <td>(1384, 32376683)</td>\n",
       "      <td>20230618_100636_standard_comp_to_omission_D2_s...</td>\n",
       "      <td>[9, 19, 65, 83, 87, 93, 99, 103, 105, 106, 118...</td>\n",
       "      <td>[[458431, 506645, 509846, 545481, 571000, 6011...</td>\n",
       "      <td>[[0.0, 0.0, 0.0, 0.0, 0.0, 0.0, 0.0, 0.0, 0.0,...</td>\n",
       "      <td>[0, 2000, 4000, 6000, 8000, 10000, 12000, 1400...</td>\n",
       "      <td>20230618_100636_standard_comp_to_omission_D2_s...</td>\n",
       "      <td>[1099250, 3499256, 5799251, 7599250, 8699250, ...</td>\n",
       "      <td>[win, lose, lose, win, lose, win, win, win, lo...</td>\n",
       "      <td>[non_comp, non_comp, non_comp, non_comp, non_c...</td>\n",
       "    </tr>\n",
       "  </tbody>\n",
       "</table>\n",
       "<p>2 rows × 89 columns</p>\n",
       "</div>"
      ],
      "text/plain": [
       "   cohort                                        session_dir  \\\n",
       "0       2  20230618_100636_standard_comp_to_omission_D2_s...   \n",
       "1       2  20230618_100636_standard_comp_to_omission_D2_s...   \n",
       "\n",
       "                                       original_file  \\\n",
       "0  20230618_100636_standard_comp_to_omission_D2_s...   \n",
       "1  20230618_100636_standard_comp_to_omission_D2_s...   \n",
       "\n",
       "                                         tone_frames  \\\n",
       "0  [[1098, 1297], [3492, 3693], [5788, 5988], [75...   \n",
       "1  [[1098, 1297], [3492, 3693], [5788, 5988], [75...   \n",
       "\n",
       "                             box_1_port_entry_frames  \\\n",
       "0  [[788, 835], [838, 839], [839, 871], [871, 900...   \n",
       "1  [[788, 835], [838, 839], [839, 871], [871, 900...   \n",
       "\n",
       "                             box_2_port_entry_frames  \\\n",
       "0  [[33026, 33037], [33038, 33042], [33044, 33049...   \n",
       "1  [[33026, 33037], [33038, 33042], [33044, 33049...   \n",
       "\n",
       "                                          video_name  \\\n",
       "0  20230618_100636_standard_comp_to_omission_D2_s...   \n",
       "1  20230618_100636_standard_comp_to_omission_D2_s...   \n",
       "\n",
       "                                        session_path  \\\n",
       "0  /scratch/back_up/reward_competition_extention/...   \n",
       "1  /scratch/back_up/reward_competition_extention/...   \n",
       "\n",
       "                                           recording subject  ...  \\\n",
       "0  20230618_100636_standard_comp_to_omission_D2_s...     1.1  ...   \n",
       "1  20230618_100636_standard_comp_to_omission_D2_s...     1.4  ...   \n",
       "\n",
       "  start_stop_timestamps                                     recording_name  \\\n",
       "0      (1384, 32376683)  20230618_100636_standard_comp_to_omission_D2_s...   \n",
       "1      (1384, 32376683)  20230618_100636_standard_comp_to_omission_D2_s...   \n",
       "\n",
       "                                      spike_clusters  \\\n",
       "0  [7, 11, 12, 48, 50, 51, 61, 64, 76, 84, 90, 98...   \n",
       "1  [9, 19, 65, 83, 87, 93, 99, 103, 105, 106, 118...   \n",
       "\n",
       "                                         spike_times  \\\n",
       "0  [[506, 1419, 2358, 5104, 6785, 7620, 9801, 120...   \n",
       "1  [[458431, 506645, 509846, 545481, 571000, 6011...   \n",
       "\n",
       "                                   neuron_average_fr  \\\n",
       "0  [[2.0, 1.0, 1.0, 2.0, 1.0, 0.0, 3.0, 0.0, 1.0,...   \n",
       "1  [[0.0, 0.0, 0.0, 0.0, 0.0, 0.0, 0.0, 0.0, 0.0,...   \n",
       "\n",
       "                           neuron_average_timestamps  \\\n",
       "0  [0, 2000, 4000, 6000, 8000, 10000, 12000, 1400...   \n",
       "1  [0, 2000, 4000, 6000, 8000, 10000, 12000, 1400...   \n",
       "\n",
       "                                          video_file  \\\n",
       "0  20230618_100636_standard_comp_to_omission_D2_s...   \n",
       "1  20230618_100636_standard_comp_to_omission_D2_s...   \n",
       "\n",
       "                                   trial_time_stamps  \\\n",
       "0  [1099250, 3499256, 5799251, 7599250, 8699250, ...   \n",
       "1  [1099250, 3499256, 5799251, 7599250, 8699250, ...   \n",
       "\n",
       "                                         trial_label  \\\n",
       "0  [lose, win, win, lose, win, lose, lose, lose, ...   \n",
       "1  [win, lose, lose, win, lose, win, win, win, lo...   \n",
       "\n",
       "                         trial_competition_closeness  \n",
       "0  [non_comp, non_comp, non_comp, non_comp, non_c...  \n",
       "1  [non_comp, non_comp, non_comp, non_comp, non_c...  \n",
       "\n",
       "[2 rows x 89 columns]"
      ]
     },
     "execution_count": 9,
     "metadata": {},
     "output_type": "execute_result"
    }
   ],
   "source": [
    "VIDEO_TO_FRAME_AND_SUBJECT_DF"
   ]
  },
  {
   "cell_type": "markdown",
   "metadata": {
    "cell_id": "e3ee4891d43a4ac287413afc552ca289",
    "deepnote_cell_type": "text-cell-h2",
    "formattedRanges": []
   },
   "source": [
    "## Outputs"
   ]
  },
  {
   "cell_type": "markdown",
   "metadata": {
    "cell_id": "9ccbf6cc70fd4d379fa29317f733771f",
    "deepnote_cell_type": "text-cell-p",
    "formattedRanges": []
   },
   "source": [
    "Describe each output that the notebook creates. "
   ]
  },
  {
   "cell_type": "markdown",
   "metadata": {
    "cell_id": "fc8e8920a6944918a15fac575cdf6e78",
    "deepnote_cell_type": "text-cell-bullet",
    "formattedRanges": []
   },
   "source": [
    "- Is it a plot or is it data?"
   ]
  },
  {
   "cell_type": "markdown",
   "metadata": {
    "cell_id": "1e639d4776a84aa9ac8ded2e14fa57db",
    "deepnote_cell_type": "text-cell-bullet",
    "formattedRanges": []
   },
   "source": [
    "- How valuable is the output and why is it valuable or useful?"
   ]
  },
  {
   "cell_type": "code",
   "execution_count": 11,
   "metadata": {
    "tags": []
   },
   "outputs": [],
   "source": [
    "# Inputs and Required data loading\n",
    "# input varaible names are in all caps snake case\n",
    "# Whenever an input changes or is used for processing \n",
    "# the vairables are all lower in snake case\n",
    "OUTPUT_DIR = r\"./proc/\" # where data is saved should always be shown in the inputs\n",
    "os.makedirs(OUTPUT_DIR, exist_ok=True)\n",
    "OUTPUT_PREFIX = \"rce_pilot_2\""
   ]
  },
  {
   "cell_type": "markdown",
   "metadata": {},
   "source": [
    "# Documentation"
   ]
  },
  {
   "cell_type": "markdown",
   "metadata": {},
   "source": [
    "- cohort\n",
    "- session_dir\n",
    "- original_file\n",
    "- tone_frames\n",
    "- box_1_port_entry_frames\n",
    "- box_2_port_entry_frames\n",
    "- video_name\n",
    "- session_path\n",
    "- recording\n",
    "- subject\n",
    "- all_subjects\n",
    "- first_timestamp\n",
    "- last_timestamp\n",
    "- video_timestamps\n",
    "    - box_top_left\n",
    "- box_top_right\n",
    "- reward_port\n",
    "- box_bottom_left\n",
    "- box_bottom_right\n",
    "- agent\n",
    "- subject_locations\n",
    "- agent_locations\n",
    "- file_path\n",
    "- tracked_subject\n",
    "- in_video_subjects\n",
    "- notes\n",
    "- sleap_filename\n",
    "- sleap_fileroot\n",
    "- start_stop_frame\n",
    "- start_stop_timestamps\n",
    "\n",
    "- tone_timestamps\n",
    "- box_1_port_entry_timestamps\n",
    "- box_2_port_entry_timestamps\n",
    "\n",
    "- lfp_timestamps\n",
    "    - mPFC_lfp_trace\n",
    "    - MD_lfp_trace\n",
    "    - LH_lfp_trace\n",
    "    - BLA_lfp_trace\n",
    "    - vHPC_lfp_trace\n",
    "- power_timestamps\n",
    "    - mPFC_power_all_frequencies_all_windows\n",
    "    - MD_power_all_frequencies_all_windows\n",
    "    - LH_power_all_frequencies_all_windows\n",
    "    - BLA_power_all_frequencies_all_windows\n",
    "    - vHPC_power_all_frequencies_all_windows\n",
    "    - power_calculation_frequencies\n",
    "- coherence_timestamps\n",
    "    - BLA_LH_coherence_all_frequencies_all_windows\n",
    "    - BLA_MD_coherence_all_frequencies_all_windows\n",
    "    - BLA_mPFC_coherence_all_frequencies_all_windows\n",
    "    - BLA_vHPC_coherence_all_frequencies_all_windows\n",
    "    - LH_MD_coherence_all_frequencies_all_windows\n",
    "    - LH_mPFC_coherence_all_frequencies_all_windows\n",
    "    - LH_vHPC_coherence_all_frequencies_all_windows\n",
    "    - MD_mPFC_coherence_all_frequencies_all_windows\n",
    "    - MD_vHPC_coherence_all_frequencies_all_windows\n",
    "    - mPFC_vHPC_coherence_all_frequencies_all_windows\n",
    "    - coherence_calculation_frequencies\n",
    "- granger_timestamps\n",
    "    - BLA_LH_granger_all_frequencies_all_windows\n",
    "    - LH_BLA_granger_all_frequencies_all_windows\n",
    "    - BLA_MD_granger_all_frequencies_all_windows\n",
    "    - MD_BLA_granger_all_frequencies_all_windows\n",
    "    - BLA_mPFC_granger_all_frequencies_all_windows\n",
    "    - mPFC_BLA_granger_all_frequencies_all_windows\n",
    "    - BLA_vHPC_granger_all_frequencies_all_windows\n",
    "    - vHPC_BLA_granger_all_frequencies_all_windows\n",
    "    - LH_MD_granger_all_frequencies_all_windows\n",
    "    - MD_LH_granger_all_frequencies_all_windows\n",
    "    - LH_mPFC_granger_all_frequencies_all_windows\n",
    "    - mPFC_LH_granger_all_frequencies_all_windows\n",
    "    - LH_vHPC_granger_all_frequencies_all_windows\n",
    "    - vHPC_LH_granger_all_frequencies_all_windows\n",
    "    - MD_mPFC_granger_all_frequencies_all_windows\n",
    "    - mPFC_MD_granger_all_frequencies_all_windows\n",
    "    - MD_vHPC_granger_all_frequencies_all_windows\n",
    "    - vHPC_MD_granger_all_frequencies_all_windows\n",
    "    - mPFC_vHPC_granger_all_frequencies_all_windows\n",
    "    - vHPC_mPFC_granger_all_frequencies_all_windows\n",
    "    - granger_calculation_frequencies\n",
    "\n",
    "- recording_name\n",
    "- spike_clusters\n",
    "- spike_times\n",
    "- neuron_average_timestamps\n",
    "    - neuron_average_fr\n",
    "- video_file\n",
    "- trial_time_stamps\n",
    "    - trial_label\n",
    "    - trial_competition_closeness"
   ]
  },
  {
   "cell_type": "markdown",
   "metadata": {
    "cell_id": "8999d19b6b7d4d63bc90f0b0bd9ab085",
    "deepnote_cell_type": "text-cell-h2",
    "formattedRanges": []
   },
   "source": [
    "## Processing"
   ]
  },
  {
   "cell_type": "markdown",
   "metadata": {
    "cell_id": "9b36cdf08567463082b005cb0dec684b",
    "deepnote_cell_type": "text-cell-p",
    "formattedRanges": []
   },
   "source": [
    "Describe what is done to the data here and how inputs are manipulated to generate outputs. "
   ]
  },
  {
   "cell_type": "code",
   "execution_count": 10,
   "metadata": {
    "tags": []
   },
   "outputs": [
    {
     "data": {
      "text/html": [
       "<div>\n",
       "<style scoped>\n",
       "    .dataframe tbody tr th:only-of-type {\n",
       "        vertical-align: middle;\n",
       "    }\n",
       "\n",
       "    .dataframe tbody tr th {\n",
       "        vertical-align: top;\n",
       "    }\n",
       "\n",
       "    .dataframe thead th {\n",
       "        text-align: right;\n",
       "    }\n",
       "</style>\n",
       "<table border=\"1\" class=\"dataframe\">\n",
       "  <thead>\n",
       "    <tr style=\"text-align: right;\">\n",
       "      <th></th>\n",
       "      <th>cohort</th>\n",
       "      <th>session_dir</th>\n",
       "      <th>original_file</th>\n",
       "      <th>tone_frames</th>\n",
       "      <th>box_1_port_entry_frames</th>\n",
       "      <th>box_2_port_entry_frames</th>\n",
       "      <th>video_name</th>\n",
       "      <th>session_path</th>\n",
       "      <th>recording</th>\n",
       "      <th>subject</th>\n",
       "      <th>...</th>\n",
       "      <th>start_stop_timestamps</th>\n",
       "      <th>recording_name</th>\n",
       "      <th>spike_clusters</th>\n",
       "      <th>spike_times</th>\n",
       "      <th>neuron_average_fr</th>\n",
       "      <th>neuron_average_timestamps</th>\n",
       "      <th>video_file</th>\n",
       "      <th>trial_time_stamps</th>\n",
       "      <th>trial_label</th>\n",
       "      <th>trial_competition_closeness</th>\n",
       "    </tr>\n",
       "  </thead>\n",
       "  <tbody>\n",
       "    <tr>\n",
       "      <th>0</th>\n",
       "      <td>2</td>\n",
       "      <td>20230618_100636_standard_comp_to_omission_D2_s...</td>\n",
       "      <td>20230618_100636_standard_comp_to_omission_D2_s...</td>\n",
       "      <td>[[1098, 1297], [3492, 3693], [5788, 5988], [75...</td>\n",
       "      <td>[[788, 835], [838, 839], [839, 871], [871, 900...</td>\n",
       "      <td>[[33026, 33037], [33038, 33042], [33044, 33049...</td>\n",
       "      <td>20230618_100636_standard_comp_to_omission_D2_s...</td>\n",
       "      <td>/scratch/back_up/reward_competition_extention/...</td>\n",
       "      <td>20230618_100636_standard_comp_to_omission_D2_s...</td>\n",
       "      <td>1.1</td>\n",
       "      <td>...</td>\n",
       "      <td>(1384, 32376683)</td>\n",
       "      <td>20230618_100636_standard_comp_to_omission_D2_s...</td>\n",
       "      <td>[7, 11, 12, 48, 50, 51, 61, 64, 76, 84, 90, 98...</td>\n",
       "      <td>[[506, 1419, 2358, 5104, 6785, 7620, 9801, 120...</td>\n",
       "      <td>[[2.0, 1.0, 1.0, 2.0, 1.0, 0.0, 3.0, 0.0, 1.0,...</td>\n",
       "      <td>[0, 2000, 4000, 6000, 8000, 10000, 12000, 1400...</td>\n",
       "      <td>20230618_100636_standard_comp_to_omission_D2_s...</td>\n",
       "      <td>[1099250, 3499256, 5799251, 7599250, 8699250, ...</td>\n",
       "      <td>[lose, win, win, lose, win, lose, lose, lose, ...</td>\n",
       "      <td>[non_comp, non_comp, non_comp, non_comp, non_c...</td>\n",
       "    </tr>\n",
       "    <tr>\n",
       "      <th>1</th>\n",
       "      <td>2</td>\n",
       "      <td>20230618_100636_standard_comp_to_omission_D2_s...</td>\n",
       "      <td>20230618_100636_standard_comp_to_omission_D2_s...</td>\n",
       "      <td>[[1098, 1297], [3492, 3693], [5788, 5988], [75...</td>\n",
       "      <td>[[788, 835], [838, 839], [839, 871], [871, 900...</td>\n",
       "      <td>[[33026, 33037], [33038, 33042], [33044, 33049...</td>\n",
       "      <td>20230618_100636_standard_comp_to_omission_D2_s...</td>\n",
       "      <td>/scratch/back_up/reward_competition_extention/...</td>\n",
       "      <td>20230618_100636_standard_comp_to_omission_D2_s...</td>\n",
       "      <td>1.4</td>\n",
       "      <td>...</td>\n",
       "      <td>(1384, 32376683)</td>\n",
       "      <td>20230618_100636_standard_comp_to_omission_D2_s...</td>\n",
       "      <td>[9, 19, 65, 83, 87, 93, 99, 103, 105, 106, 118...</td>\n",
       "      <td>[[458431, 506645, 509846, 545481, 571000, 6011...</td>\n",
       "      <td>[[0.0, 0.0, 0.0, 0.0, 0.0, 0.0, 0.0, 0.0, 0.0,...</td>\n",
       "      <td>[0, 2000, 4000, 6000, 8000, 10000, 12000, 1400...</td>\n",
       "      <td>20230618_100636_standard_comp_to_omission_D2_s...</td>\n",
       "      <td>[1099250, 3499256, 5799251, 7599250, 8699250, ...</td>\n",
       "      <td>[win, lose, lose, win, lose, win, win, win, lo...</td>\n",
       "      <td>[non_comp, non_comp, non_comp, non_comp, non_c...</td>\n",
       "    </tr>\n",
       "  </tbody>\n",
       "</table>\n",
       "<p>2 rows × 89 columns</p>\n",
       "</div>"
      ],
      "text/plain": [
       "   cohort                                        session_dir  \\\n",
       "0       2  20230618_100636_standard_comp_to_omission_D2_s...   \n",
       "1       2  20230618_100636_standard_comp_to_omission_D2_s...   \n",
       "\n",
       "                                       original_file  \\\n",
       "0  20230618_100636_standard_comp_to_omission_D2_s...   \n",
       "1  20230618_100636_standard_comp_to_omission_D2_s...   \n",
       "\n",
       "                                         tone_frames  \\\n",
       "0  [[1098, 1297], [3492, 3693], [5788, 5988], [75...   \n",
       "1  [[1098, 1297], [3492, 3693], [5788, 5988], [75...   \n",
       "\n",
       "                             box_1_port_entry_frames  \\\n",
       "0  [[788, 835], [838, 839], [839, 871], [871, 900...   \n",
       "1  [[788, 835], [838, 839], [839, 871], [871, 900...   \n",
       "\n",
       "                             box_2_port_entry_frames  \\\n",
       "0  [[33026, 33037], [33038, 33042], [33044, 33049...   \n",
       "1  [[33026, 33037], [33038, 33042], [33044, 33049...   \n",
       "\n",
       "                                          video_name  \\\n",
       "0  20230618_100636_standard_comp_to_omission_D2_s...   \n",
       "1  20230618_100636_standard_comp_to_omission_D2_s...   \n",
       "\n",
       "                                        session_path  \\\n",
       "0  /scratch/back_up/reward_competition_extention/...   \n",
       "1  /scratch/back_up/reward_competition_extention/...   \n",
       "\n",
       "                                           recording subject  ...  \\\n",
       "0  20230618_100636_standard_comp_to_omission_D2_s...     1.1  ...   \n",
       "1  20230618_100636_standard_comp_to_omission_D2_s...     1.4  ...   \n",
       "\n",
       "  start_stop_timestamps                                     recording_name  \\\n",
       "0      (1384, 32376683)  20230618_100636_standard_comp_to_omission_D2_s...   \n",
       "1      (1384, 32376683)  20230618_100636_standard_comp_to_omission_D2_s...   \n",
       "\n",
       "                                      spike_clusters  \\\n",
       "0  [7, 11, 12, 48, 50, 51, 61, 64, 76, 84, 90, 98...   \n",
       "1  [9, 19, 65, 83, 87, 93, 99, 103, 105, 106, 118...   \n",
       "\n",
       "                                         spike_times  \\\n",
       "0  [[506, 1419, 2358, 5104, 6785, 7620, 9801, 120...   \n",
       "1  [[458431, 506645, 509846, 545481, 571000, 6011...   \n",
       "\n",
       "                                   neuron_average_fr  \\\n",
       "0  [[2.0, 1.0, 1.0, 2.0, 1.0, 0.0, 3.0, 0.0, 1.0,...   \n",
       "1  [[0.0, 0.0, 0.0, 0.0, 0.0, 0.0, 0.0, 0.0, 0.0,...   \n",
       "\n",
       "                           neuron_average_timestamps  \\\n",
       "0  [0, 2000, 4000, 6000, 8000, 10000, 12000, 1400...   \n",
       "1  [0, 2000, 4000, 6000, 8000, 10000, 12000, 1400...   \n",
       "\n",
       "                                          video_file  \\\n",
       "0  20230618_100636_standard_comp_to_omission_D2_s...   \n",
       "1  20230618_100636_standard_comp_to_omission_D2_s...   \n",
       "\n",
       "                                   trial_time_stamps  \\\n",
       "0  [1099250, 3499256, 5799251, 7599250, 8699250, ...   \n",
       "1  [1099250, 3499256, 5799251, 7599250, 8699250, ...   \n",
       "\n",
       "                                         trial_label  \\\n",
       "0  [lose, win, win, lose, win, lose, lose, lose, ...   \n",
       "1  [win, lose, lose, win, lose, win, win, win, lo...   \n",
       "\n",
       "                         trial_competition_closeness  \n",
       "0  [non_comp, non_comp, non_comp, non_comp, non_c...  \n",
       "1  [non_comp, non_comp, non_comp, non_comp, non_c...  \n",
       "\n",
       "[2 rows x 89 columns]"
      ]
     },
     "execution_count": 10,
     "metadata": {},
     "output_type": "execute_result"
    }
   ],
   "source": [
    "VIDEO_TO_FRAME_AND_SUBJECT_DF.head()"
   ]
  },
  {
   "cell_type": "code",
   "execution_count": 14,
   "metadata": {
    "tags": []
   },
   "outputs": [
    {
     "name": "stdout",
     "output_type": "stream",
     "text": [
      "`cohort`:\n",
      "`session_dir`:\n",
      "`original_file`:\n",
      "`tone_frames`:\n",
      "`box_1_port_entry_frames`:\n",
      "`box_2_port_entry_frames`:\n",
      "`video_name`:\n",
      "`session_path`:\n",
      "`recording`:\n",
      "`subject`:\n",
      "`all_subjects`:\n",
      "`first_timestamp`:\n",
      "`last_timestamp`:\n",
      "`video_timestamps`:\n",
      "`tone_timestamps`:\n",
      "`box_1_port_entry_timestamps`:\n",
      "`box_2_port_entry_timestamps`:\n",
      "`lfp_timestamps`:\n",
      "`mPFC_lfp_trace`:\n",
      "`MD_lfp_trace`:\n",
      "`LH_lfp_trace`:\n",
      "`BLA_lfp_trace`:\n",
      "`vHPC_lfp_trace`:\n",
      "`mPFC_power_all_frequencies_all_windows`:\n",
      "`MD_power_all_frequencies_all_windows`:\n",
      "`LH_power_all_frequencies_all_windows`:\n",
      "`BLA_power_all_frequencies_all_windows`:\n",
      "`vHPC_power_all_frequencies_all_windows`:\n",
      "`power_timestamps`:\n",
      "`power_calculation_frequencies`:\n",
      "`BLA_LH_coherence_all_frequencies_all_windows`:\n",
      "`BLA_MD_coherence_all_frequencies_all_windows`:\n",
      "`BLA_mPFC_coherence_all_frequencies_all_windows`:\n",
      "`BLA_vHPC_coherence_all_frequencies_all_windows`:\n",
      "`LH_MD_coherence_all_frequencies_all_windows`:\n",
      "`LH_mPFC_coherence_all_frequencies_all_windows`:\n",
      "`LH_vHPC_coherence_all_frequencies_all_windows`:\n",
      "`MD_mPFC_coherence_all_frequencies_all_windows`:\n",
      "`MD_vHPC_coherence_all_frequencies_all_windows`:\n",
      "`mPFC_vHPC_coherence_all_frequencies_all_windows`:\n",
      "`coherence_timestamps`:\n",
      "`coherence_calculation_frequencies`:\n",
      "`BLA_LH_granger_all_frequencies_all_windows`:\n",
      "`LH_BLA_granger_all_frequencies_all_windows`:\n",
      "`BLA_MD_granger_all_frequencies_all_windows`:\n",
      "`MD_BLA_granger_all_frequencies_all_windows`:\n",
      "`BLA_mPFC_granger_all_frequencies_all_windows`:\n",
      "`mPFC_BLA_granger_all_frequencies_all_windows`:\n",
      "`BLA_vHPC_granger_all_frequencies_all_windows`:\n",
      "`vHPC_BLA_granger_all_frequencies_all_windows`:\n",
      "`LH_MD_granger_all_frequencies_all_windows`:\n",
      "`MD_LH_granger_all_frequencies_all_windows`:\n",
      "`LH_mPFC_granger_all_frequencies_all_windows`:\n",
      "`mPFC_LH_granger_all_frequencies_all_windows`:\n",
      "`LH_vHPC_granger_all_frequencies_all_windows`:\n",
      "`vHPC_LH_granger_all_frequencies_all_windows`:\n",
      "`MD_mPFC_granger_all_frequencies_all_windows`:\n",
      "`mPFC_MD_granger_all_frequencies_all_windows`:\n",
      "`MD_vHPC_granger_all_frequencies_all_windows`:\n",
      "`vHPC_MD_granger_all_frequencies_all_windows`:\n",
      "`mPFC_vHPC_granger_all_frequencies_all_windows`:\n",
      "`vHPC_mPFC_granger_all_frequencies_all_windows`:\n",
      "`granger_timestamps`:\n",
      "`granger_calculation_frequencies`:\n",
      "`box_top_left`:\n",
      "`box_top_right`:\n",
      "`reward_port`:\n",
      "`box_bottom_left`:\n",
      "`box_bottom_right`:\n",
      "`agent`:\n",
      "`subject_locations`:\n",
      "`agent_locations`:\n",
      "`file_path`:\n",
      "`tracked_subject`:\n",
      "`in_video_subjects`:\n",
      "`notes`:\n",
      "`sleap_filename`:\n",
      "`sleap_fileroot`:\n",
      "`start_stop_frame`:\n",
      "`start_stop_timestamps`:\n",
      "`recording_name`:\n",
      "`spike_clusters`:\n",
      "`spike_times`:\n",
      "`neuron_average_fr`:\n",
      "`neuron_average_timestamps`:\n",
      "`video_file`:\n",
      "`trial_time_stamps`:\n",
      "`trial_label`:\n",
      "`trial_competition_closeness`:\n"
     ]
    }
   ],
   "source": [
    "for col in VIDEO_TO_FRAME_AND_SUBJECT_DF.columns:\n",
    "    print(\"`{}`:\".format(col))"
   ]
  },
  {
   "cell_type": "code",
   "execution_count": null,
   "metadata": {},
   "outputs": [],
   "source": []
  },
  {
   "cell_type": "code",
   "execution_count": 19,
   "metadata": {
    "tags": []
   },
   "outputs": [],
   "source": [
    "example_tone_timestamp_range = VIDEO_TO_FRAME_AND_SUBJECT_DF[\"tone_timestamps\"].iloc[0][0]"
   ]
  },
  {
   "cell_type": "code",
   "execution_count": 20,
   "metadata": {
    "tags": []
   },
   "outputs": [
    {
     "data": {
      "text/plain": [
       "array([1099250, 1299250], dtype=int32)"
      ]
     },
     "execution_count": 20,
     "metadata": {},
     "output_type": "execute_result"
    }
   ],
   "source": [
    "example_tone_timestamp_range"
   ]
  },
  {
   "cell_type": "code",
   "execution_count": 24,
   "metadata": {
    "tags": []
   },
   "outputs": [],
   "source": [
    "example_timestamps = VIDEO_TO_FRAME_AND_SUBJECT_DF[\"video_timestamps\"].iloc[0]"
   ]
  },
  {
   "cell_type": "code",
   "execution_count": 31,
   "metadata": {
    "tags": []
   },
   "outputs": [
    {
     "data": {
      "text/plain": [
       "(68495,)"
      ]
     },
     "execution_count": 31,
     "metadata": {},
     "output_type": "execute_result"
    }
   ],
   "source": [
    "example_timestamps.shape"
   ]
  },
  {
   "cell_type": "code",
   "execution_count": 25,
   "metadata": {
    "tags": []
   },
   "outputs": [
    {
     "data": {
      "text/plain": [
       "array([      -2,     1384,     2770, ..., 68590840, 68592226, 68593612],\n",
       "      dtype=int32)"
      ]
     },
     "execution_count": 25,
     "metadata": {},
     "output_type": "execute_result"
    }
   ],
   "source": [
    "example_timestamps"
   ]
  },
  {
   "cell_type": "code",
   "execution_count": 29,
   "metadata": {
    "tags": []
   },
   "outputs": [],
   "source": [
    "example_poses = VIDEO_TO_FRAME_AND_SUBJECT_DF[\"subject_locations\"].iloc[0]"
   ]
  },
  {
   "cell_type": "code",
   "execution_count": 30,
   "metadata": {
    "tags": []
   },
   "outputs": [
    {
     "data": {
      "text/plain": [
       "(68495, 6, 2)"
      ]
     },
     "execution_count": 30,
     "metadata": {},
     "output_type": "execute_result"
    }
   ],
   "source": [
    "example_poses.shape"
   ]
  },
  {
   "cell_type": "code",
   "execution_count": 34,
   "metadata": {
    "tags": []
   },
   "outputs": [],
   "source": [
    "filtered_timestamps, filtered_items = helper.filter_by_timestamp_range(start=example_tone_timestamp_range[0], \n",
    "                                 stop=example_tone_timestamp_range[1],\n",
    "                                timestamps=example_timestamps,\n",
    "                                items=example_poses)"
   ]
  },
  {
   "cell_type": "code",
   "execution_count": 35,
   "metadata": {
    "tags": []
   },
   "outputs": [
    {
     "data": {
      "text/plain": [
       "array([1100378, 1101764, 1101764, 1103150, 1104536, 1105922, 1105922,\n",
       "       1107308, 1108694, 1108694, 1110079, 1111465, 1112851, 1112851,\n",
       "       1114237, 1115623, 1116387, 1117009, 1118395, 1119780, 1120733,\n",
       "       1121166, 1122552, 1123938, 1123938, 1125324, 1126710, 1128096,\n",
       "       1128096, 1129482, 1130867, 1130867, 1132253, 1133639, 1133639,\n",
       "       1135025, 1136411, 1137797, 1137797, 1139183, 1140569, 1141477,\n",
       "       1141954, 1143340, 1144726, 1146112, 1146112, 1147498, 1148884,\n",
       "       1148884, 1150270, 1151655, 1153041, 1153041, 1154427, 1155813,\n",
       "       1155813, 1157199, 1158585, 1159971, 1159971, 1161357, 1162742,\n",
       "       1162742, 1164128, 1165514, 1166900, 1166900, 1168286, 1169672,\n",
       "       1171058, 1171058, 1172444, 1173829, 1175215, 1175215, 1176601,\n",
       "       1177987, 1177987, 1179373, 1180759, 1182145, 1182145, 1183530,\n",
       "       1184916, 1184916, 1186302, 1187688, 1187688, 1189074, 1190460,\n",
       "       1191846, 1192326, 1193232, 1194617, 1196003, 1196071, 1197389,\n",
       "       1198775, 1200161, 1200161, 1201547, 1202933, 1202933, 1204319,\n",
       "       1205704, 1207090, 1207090, 1208476, 1209862, 1209862, 1211248,\n",
       "       1212634, 1214020, 1214020, 1215405, 1216791, 1216791, 1218177,\n",
       "       1219563, 1220949, 1220949, 1222335, 1223721, 1225107, 1225107,\n",
       "       1226492, 1227878, 1229264, 1229264, 1230650, 1232036, 1232036,\n",
       "       1233422, 1234808, 1236194, 1236194, 1237579, 1238965, 1238965,\n",
       "       1240351, 1241737, 1243123, 1243123, 1244509, 1245895, 1246311,\n",
       "       1247280, 1248666, 1250052, 1250531, 1251438, 1252824, 1254210,\n",
       "       1254210, 1255596, 1256982, 1258367, 1258367, 1259753, 1261139,\n",
       "       1261139, 1262525, 1263911, 1263911, 1265297, 1266683, 1268069,\n",
       "       1268069, 1269454, 1270840, 1271010, 1272226, 1273612, 1274998,\n",
       "       1275785, 1276384, 1277770, 1279155, 1279155, 1280541, 1281927,\n",
       "       1283313, 1283313, 1284699, 1286085, 1286085, 1287471, 1288857,\n",
       "       1290242, 1290242, 1291628, 1293014, 1293014, 1294400, 1295786,\n",
       "       1297172, 1297172, 1298558], dtype=int32)"
      ]
     },
     "execution_count": 35,
     "metadata": {},
     "output_type": "execute_result"
    }
   ],
   "source": [
    "filtered_timestamps"
   ]
  },
  {
   "cell_type": "code",
   "execution_count": 36,
   "metadata": {
    "tags": []
   },
   "outputs": [
    {
     "data": {
      "text/plain": [
       "array([[[52.83974324, 10.03478168],\n",
       "        [55.63376198, 10.75414115],\n",
       "        [40.25656128, 26.33319168],\n",
       "        [50.77391002, 15.3571852 ],\n",
       "        [48.14345461, 16.21076701],\n",
       "        [54.97021435,  9.96474175]],\n",
       "\n",
       "       [[52.83940773, 10.04831234],\n",
       "        [55.68484512, 10.78680199],\n",
       "        [40.82821373, 25.59292134],\n",
       "        [55.58025624, 10.72666922],\n",
       "        [53.37350259, 11.88241165],\n",
       "        [55.08428404,  9.96375601]],\n",
       "\n",
       "       [[52.83907221, 10.061843  ],\n",
       "        [55.73592825, 10.81946283],\n",
       "        [41.39986618, 24.85265101],\n",
       "        [55.57263471, 10.3599931 ],\n",
       "        [53.4308987 , 11.65536706],\n",
       "        [55.19835372,  9.96277027]],\n",
       "\n",
       "       ...,\n",
       "\n",
       "       [[49.0356057 , 30.62167685],\n",
       "        [46.28717836, 29.25648251],\n",
       "        [46.77093545, 31.41282742],\n",
       "        [50.64554161, 23.62344011],\n",
       "        [50.15950349, 26.98621861],\n",
       "        [47.37058033, 30.6799566 ]],\n",
       "\n",
       "       [[48.48907588, 30.62111829],\n",
       "        [45.76774378, 29.21766508],\n",
       "        [45.73793902, 31.38854113],\n",
       "        [50.65590502, 23.64462044],\n",
       "        [50.10143567, 27.01936858],\n",
       "        [46.79716532, 30.66251132]],\n",
       "\n",
       "       [[47.85199336, 30.65102125],\n",
       "        [45.17511006, 29.2112839 ],\n",
       "        [44.67321387, 31.40885258],\n",
       "        [50.68036214, 23.71243669],\n",
       "        [49.55681722, 27.38142575],\n",
       "        [45.74851247, 30.66450862]]])"
      ]
     },
     "execution_count": 36,
     "metadata": {},
     "output_type": "execute_result"
    }
   ],
   "source": [
    "filtered_items"
   ]
  },
  {
   "cell_type": "code",
   "execution_count": null,
   "metadata": {},
   "outputs": [],
   "source": []
  }
 ],
 "metadata": {
  "deepnote": {},
  "deepnote_execution_queue": [],
  "deepnote_notebook_id": "cf8fe3695d074ee7887fdf6459cbf5ce",
  "kernelspec": {
   "display_name": "spike_interface_0_99_0",
   "language": "python",
   "name": "spike_interface_0_99_0"
  },
  "language_info": {
   "codemirror_mode": {
    "name": "ipython",
    "version": 3
   },
   "file_extension": ".py",
   "mimetype": "text/x-python",
   "name": "python",
   "nbconvert_exporter": "python",
   "pygments_lexer": "ipython3",
   "version": "3.10.13"
  }
 },
 "nbformat": 4,
 "nbformat_minor": 4
}
