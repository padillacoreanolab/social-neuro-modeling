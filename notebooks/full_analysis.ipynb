{
 "cells": [
  {
   "cell_type": "markdown",
   "metadata": {
    "cell_id": "c3a02adc9e884466bc8c79db549cc3d2",
    "deepnote_cell_type": "text-cell-h1",
    "formattedRanges": [
     {
      "fromCodePoint": 0,
      "marks": {
       "bold": true,
       "underline": true
      },
      "toCodePoint": 17,
      "type": "marks"
     }
    ]
   },
   "source": [
    "# "
   ]
  },
  {
   "cell_type": "markdown",
   "metadata": {
    "cell_id": "4546bee655b14a5dbf393161f1228e60",
    "deepnote_cell_type": "text-cell-p",
    "formattedRanges": []
   },
   "source": [
    "Brief 1-2 sentence description of notebook."
   ]
  },
  {
   "cell_type": "code",
   "execution_count": 1,
   "metadata": {
    "tags": []
   },
   "outputs": [],
   "source": [
    "import os\n",
    "import glob\n",
    "import git\n",
    "import sys\n"
   ]
  },
  {
   "cell_type": "code",
   "execution_count": 2,
   "metadata": {
    "cell_id": "03b495cefa6a4798a44c7f2e4c6a3ea7",
    "deepnote_cell_type": "code",
    "deepnote_to_be_reexecuted": false,
    "execution_millis": 21,
    "execution_start": 1691424003626,
    "source_hash": null,
    "tags": []
   },
   "outputs": [],
   "source": [
    "# Imports of all used packages and libraries\n",
    "import numpy as np\n",
    "import pandas as pd\n",
    "# import seaborn as sns\n",
    "import matplotlib as mpl\n",
    "import matplotlib.pyplot as plt\n",
    "import h5py\n",
    "from scipy.interpolate import interp1d\n",
    "from scipy.signal import savgol_filter\n"
   ]
  },
  {
   "cell_type": "code",
   "execution_count": 3,
   "metadata": {
    "tags": []
   },
   "outputs": [],
   "source": [
    "git_repo = git.Repo(\".\", search_parent_directories=True)\n",
    "git_root = git_repo.git.rev_parse(\"--show-toplevel\")"
   ]
  },
  {
   "cell_type": "code",
   "execution_count": 4,
   "metadata": {
    "tags": []
   },
   "outputs": [
    {
     "data": {
      "text/plain": [
       "'/blue/npadillacoreano/ryoi360/projects/reward_comp/repos/social-neuro-modeling'"
      ]
     },
     "execution_count": 4,
     "metadata": {},
     "output_type": "execute_result"
    }
   ],
   "source": [
    "git_root"
   ]
  },
  {
   "cell_type": "code",
   "execution_count": 5,
   "metadata": {
    "tags": []
   },
   "outputs": [],
   "source": [
    "sys.path.insert(0, os.path.join(git_root, 'src'))"
   ]
  },
  {
   "cell_type": "code",
   "execution_count": 6,
   "metadata": {
    "tags": []
   },
   "outputs": [],
   "source": [
    "# sns.set('notebook', 'ticks', font_scale=1.2)\n",
    "mpl.rcParams['figure.figsize'] = [15,6]"
   ]
  },
  {
   "cell_type": "code",
   "execution_count": 7,
   "metadata": {
    "tags": []
   },
   "outputs": [],
   "source": [
    "from utilities import helper"
   ]
  },
  {
   "cell_type": "markdown",
   "metadata": {},
   "source": [
    "## Functions"
   ]
  },
  {
   "cell_type": "code",
   "execution_count": 8,
   "metadata": {},
   "outputs": [],
   "source": [
    "def filter_spike_times(arr_2d, start, stop, padding=-1):\n",
    "    \"\"\"\n",
    "    Filters a 2D array based on a start and stop condition and pads shorter arrays to match the length of the longest array.\n",
    "\n",
    "    Parameters:\n",
    "    arr_2d (numpy.ndarray): 2D array to be filtered and padded.\n",
    "    start (int or float): Lower bound of the condition.\n",
    "    stop (int or float): Upper bound of the condition.\n",
    "    padding (int or float): Value to use for padding, defaults to -1.\n",
    "\n",
    "    Returns:\n",
    "    numpy.ndarray: A 2D array where each inner array has been filtered based on the condition and padded to match the length of the longest array.\n",
    "    \"\"\"\n",
    "\n",
    "    # Filter each row in arr_2d based on the condition\n",
    "    masked_data = [row[(row >= start) & (row < stop)] for row in arr_2d]\n",
    "\n",
    "    # Determine the maximum length of arrays in the list\n",
    "    max_length = max(len(arr) for arr in masked_data)\n",
    "\n",
    "    # Pad each array in masked_data with the padding value so they all have the same length (max_length)\n",
    "    padded_arrays = [np.concatenate([x, np.full([max_length - len(x)], padding)]) for x in masked_data]\n",
    "\n",
    "    # Convert the list of arrays to a 2D numpy array\n",
    "    padded_arrays = np.array(padded_arrays)\n",
    "\n",
    "    return padded_arrays"
   ]
  },
  {
   "cell_type": "markdown",
   "metadata": {
    "cell_id": "d290bac2c17940bfbc0f9296beaf70e5",
    "deepnote_cell_type": "text-cell-h2",
    "formattedRanges": []
   },
   "source": [
    "## Inputs & Data"
   ]
  },
  {
   "cell_type": "markdown",
   "metadata": {
    "cell_id": "e528ce19c608425292151930d380f49f",
    "deepnote_cell_type": "text-cell-p",
    "formattedRanges": []
   },
   "source": [
    "Explanation of each input and where it comes from."
   ]
  },
  {
   "cell_type": "code",
   "execution_count": 9,
   "metadata": {
    "cell_id": "6cf83a5811054461a718a71673d09aab",
    "deepnote_cell_type": "code",
    "deepnote_to_be_reexecuted": false,
    "execution_millis": 373,
    "execution_start": 1691424003628,
    "source_hash": null,
    "tags": []
   },
   "outputs": [],
   "source": [
    "# Inputs and Required data loading\n",
    "# input varaible names are in all caps snake case\n",
    "# Whenever an input changes or is used for processing \n",
    "# the vairables are all lower in snake case\n",
    "\n",
    "LFP_SPECTRAL_SLEAP_SPIKE_DF = pd.read_pickle(\"./proc/rce_pilot_2_05_lfp_spectral_sleap_spikes.pkl\")\n"
   ]
  },
  {
   "cell_type": "code",
   "execution_count": 10,
   "metadata": {
    "tags": []
   },
   "outputs": [
    {
     "data": {
      "text/html": [
       "<div>\n",
       "<style scoped>\n",
       "    .dataframe tbody tr th:only-of-type {\n",
       "        vertical-align: middle;\n",
       "    }\n",
       "\n",
       "    .dataframe tbody tr th {\n",
       "        vertical-align: top;\n",
       "    }\n",
       "\n",
       "    .dataframe thead th {\n",
       "        text-align: right;\n",
       "    }\n",
       "</style>\n",
       "<table border=\"1\" class=\"dataframe\">\n",
       "  <thead>\n",
       "    <tr style=\"text-align: right;\">\n",
       "      <th></th>\n",
       "      <th>cohort</th>\n",
       "      <th>session_dir</th>\n",
       "      <th>tone_frames</th>\n",
       "      <th>box_1_port_entry_frames</th>\n",
       "      <th>box_2_port_entry_frames</th>\n",
       "      <th>video_name</th>\n",
       "      <th>session_path</th>\n",
       "      <th>recording</th>\n",
       "      <th>current_subject</th>\n",
       "      <th>subject</th>\n",
       "      <th>...</th>\n",
       "      <th>agent_locations</th>\n",
       "      <th>subject_thorax_velocity</th>\n",
       "      <th>agent_thorax_velocity</th>\n",
       "      <th>subject_thorax_to_reward_port</th>\n",
       "      <th>agent_thorax_to_reward_port</th>\n",
       "      <th>recording_name</th>\n",
       "      <th>spike_clusters</th>\n",
       "      <th>spike_times</th>\n",
       "      <th>neuron_average_fr</th>\n",
       "      <th>neuron_average_timestamps</th>\n",
       "    </tr>\n",
       "  </thead>\n",
       "  <tbody>\n",
       "    <tr>\n",
       "      <th>0</th>\n",
       "      <td>2</td>\n",
       "      <td>20230617_115521_standard_comp_to_omission_D1_s...</td>\n",
       "      <td>[[1029, 1229], [3425, 3624], [5721, 5920], [75...</td>\n",
       "      <td>[[102, 105], [110, 148], [193, 199], [200, 202...</td>\n",
       "      <td>[[24984, 31321], [39533, 39547], [39554, 39559...</td>\n",
       "      <td>20230617_115521_standard_comp_to_omission_D1_s...</td>\n",
       "      <td>/scratch/back_up/reward_competition_extention/...</td>\n",
       "      <td>20230617_115521_standard_comp_to_omission_D1_s...</td>\n",
       "      <td>1.1</td>\n",
       "      <td>1.1</td>\n",
       "      <td>...</td>\n",
       "      <td>NaN</td>\n",
       "      <td>[14.84, 13.97, 13.13, 12.32, 11.54, 10.78, 10....</td>\n",
       "      <td>NaN</td>\n",
       "      <td>[25.6, 25.84, 25.86, 25.86, 25.86, 25.86, 25.8...</td>\n",
       "      <td>NaN</td>\n",
       "      <td>20230617_115521_standard_comp_to_omission_D1_s...</td>\n",
       "      <td>[3, 4, 5, 6, 17, 28, 29, 39, 48, 52, 53, 54, 5...</td>\n",
       "      <td>[[673223.0, 2367433.0, 2569212.0, 3969647.0, 3...</td>\n",
       "      <td>[[0.0, 0.0, 0.0, 0.0, 0.0, 0.0, 0.0, 0.0, 0.0,...</td>\n",
       "      <td>[0, 2000, 4000, 6000, 8000, 10000, 12000, 1400...</td>\n",
       "    </tr>\n",
       "    <tr>\n",
       "      <th>1</th>\n",
       "      <td>2</td>\n",
       "      <td>20230617_115521_standard_comp_to_omission_D1_s...</td>\n",
       "      <td>[[1029, 1229], [3425, 3624], [5721, 5920], [75...</td>\n",
       "      <td>[[102, 105], [110, 148], [193, 199], [200, 202...</td>\n",
       "      <td>[[24984, 31321], [39533, 39547], [39554, 39559...</td>\n",
       "      <td>20230617_115521_standard_comp_to_omission_D1_s...</td>\n",
       "      <td>/scratch/back_up/reward_competition_extention/...</td>\n",
       "      <td>20230617_115521_standard_comp_to_omission_D1_s...</td>\n",
       "      <td>1.1</td>\n",
       "      <td>1.1</td>\n",
       "      <td>...</td>\n",
       "      <td>[[[40.039741738777444, 9.47029992556593], [42....</td>\n",
       "      <td>[8.96, 8.195, 7.54, 7.004, 6.605, 6.348, 6.227...</td>\n",
       "      <td>[11.19, 10.55, 9.92, 9.31, 8.734, 8.18, 7.64, ...</td>\n",
       "      <td>[11.19, 11.234, 11.73, 12.34, 12.56, 13.58, 13...</td>\n",
       "      <td>[25.6, 25.84, 25.86, 25.86, 25.86, 25.86, 25.8...</td>\n",
       "      <td>20230617_115521_standard_comp_to_omission_D1_s...</td>\n",
       "      <td>[3, 4, 5, 6, 17, 28, 29, 39, 48, 52, 53, 54, 5...</td>\n",
       "      <td>[[673223.0, 2367433.0, 2569212.0, 3969647.0, 3...</td>\n",
       "      <td>[[0.0, 0.0, 0.0, 0.0, 0.0, 0.0, 0.0, 0.0, 0.0,...</td>\n",
       "      <td>[0, 2000, 4000, 6000, 8000, 10000, 12000, 1400...</td>\n",
       "    </tr>\n",
       "    <tr>\n",
       "      <th>2</th>\n",
       "      <td>2</td>\n",
       "      <td>20230617_115521_standard_comp_to_omission_D1_s...</td>\n",
       "      <td>[[1029, 1229], [3425, 3624], [5721, 5920], [75...</td>\n",
       "      <td>[[102, 105], [110, 148], [193, 199], [200, 202...</td>\n",
       "      <td>[[24984, 31321], [39533, 39547], [39554, 39559...</td>\n",
       "      <td>20230617_115521_standard_comp_to_omission_D1_s...</td>\n",
       "      <td>/scratch/back_up/reward_competition_extention/...</td>\n",
       "      <td>20230617_115521_standard_comp_to_omission_D1_s...</td>\n",
       "      <td>1.2</td>\n",
       "      <td>1.2</td>\n",
       "      <td>...</td>\n",
       "      <td>[[[57.86163468579171, 31.554562356382696], [59...</td>\n",
       "      <td>[11.19, 10.55, 9.92, 9.31, 8.734, 8.18, 7.64, ...</td>\n",
       "      <td>[8.96, 8.195, 7.54, 7.004, 6.605, 6.348, 6.227...</td>\n",
       "      <td>[25.6, 25.84, 25.86, 25.86, 25.86, 25.86, 25.8...</td>\n",
       "      <td>[11.19, 11.234, 11.73, 12.34, 12.56, 13.58, 13...</td>\n",
       "      <td>20230617_115521_standard_comp_to_omission_D1_s...</td>\n",
       "      <td>[16, 17, 20, 25, 26, 34, 35, 39, 40, 42, 43, 4...</td>\n",
       "      <td>[[958.0, 5233.0, 6331.0, 7475.0, 8599.0, 10550...</td>\n",
       "      <td>[[1.0, 0.0, 1.0, 2.0, 1.0, 1.0, 0.0, 0.0, 0.0,...</td>\n",
       "      <td>[0, 2000, 4000, 6000, 8000, 10000, 12000, 1400...</td>\n",
       "    </tr>\n",
       "    <tr>\n",
       "      <th>3</th>\n",
       "      <td>2</td>\n",
       "      <td>20230617_115521_standard_comp_to_omission_D1_s...</td>\n",
       "      <td>[[0, 0], [0, 0], [0, 0], [0, 0], [0, 0], [0, 0...</td>\n",
       "      <td>[[0, 0], [0, 0], [0, 0], [0, 0], [0, 0], [0, 0...</td>\n",
       "      <td>[[0, 0], [0, 0], [0, 0], [0, 5], [12, 13], [13...</td>\n",
       "      <td>20230617_115521_standard_comp_to_omission_D1_s...</td>\n",
       "      <td>/scratch/back_up/reward_competition_extention/...</td>\n",
       "      <td>20230617_115521_standard_comp_to_omission_D1_s...</td>\n",
       "      <td>1.2</td>\n",
       "      <td>1.2</td>\n",
       "      <td>...</td>\n",
       "      <td>NaN</td>\n",
       "      <td>[5.184, 4.777, 4.383, 4.0, 3.629, 3.271, 2.926...</td>\n",
       "      <td>NaN</td>\n",
       "      <td>[6.223, 6.227, 6.234, 6.24, 6.203, 6.2, 6.203,...</td>\n",
       "      <td>NaN</td>\n",
       "      <td>20230617_115521_standard_comp_to_omission_D1_s...</td>\n",
       "      <td>[16, 17, 20, 25, 26, 34, 35, 39, 40, 42, 43, 4...</td>\n",
       "      <td>[[958.0, 5233.0, 6331.0, 7475.0, 8599.0, 10550...</td>\n",
       "      <td>[[1.0, 0.0, 1.0, 2.0, 1.0, 1.0, 0.0, 0.0, 0.0,...</td>\n",
       "      <td>[0, 2000, 4000, 6000, 8000, 10000, 12000, 1400...</td>\n",
       "    </tr>\n",
       "    <tr>\n",
       "      <th>4</th>\n",
       "      <td>2</td>\n",
       "      <td>20230618_100636_standard_comp_to_omission_D2_s...</td>\n",
       "      <td>[[1098, 1297], [3492, 3693], [5788, 5988], [75...</td>\n",
       "      <td>[[788, 835], [838, 839], [839, 871], [871, 900...</td>\n",
       "      <td>[[33026, 33037], [33038, 33042], [33044, 33049...</td>\n",
       "      <td>20230618_100636_standard_comp_to_omission_D2_s...</td>\n",
       "      <td>/scratch/back_up/reward_competition_extention/...</td>\n",
       "      <td>20230618_100636_standard_comp_to_omission_D2_s...</td>\n",
       "      <td>1.1</td>\n",
       "      <td>1.1</td>\n",
       "      <td>...</td>\n",
       "      <td>[[[31.37122566669405, 31.1085619584881], [33.5...</td>\n",
       "      <td>[1.143, 1.143, 1.142, 1.139, 1.135, 1.129, 1.1...</td>\n",
       "      <td>[0.6333, 0.5635, 0.4963, 0.4321, 0.3713, 0.313...</td>\n",
       "      <td>[5.727, 5.91, 5.93, 5.965, 5.99, 5.992, 6.355,...</td>\n",
       "      <td>[13.75, 14.18, 13.734, 13.74, 13.76, 13.84, 13...</td>\n",
       "      <td>20230618_100636_standard_comp_to_omission_D2_s...</td>\n",
       "      <td>[7, 11, 12, 48, 50, 51, 61, 64, 76, 84, 90, 98...</td>\n",
       "      <td>[[506.0, 1419.0, 2358.0, 5104.0, 6785.0, 7620....</td>\n",
       "      <td>[[2.0, 1.0, 1.0, 2.0, 1.0, 0.0, 3.0, 0.0, 1.0,...</td>\n",
       "      <td>[0, 2000, 4000, 6000, 8000, 10000, 12000, 1400...</td>\n",
       "    </tr>\n",
       "  </tbody>\n",
       "</table>\n",
       "<p>5 rows × 158 columns</p>\n",
       "</div>"
      ],
      "text/plain": [
       "   cohort                                        session_dir  \\\n",
       "0       2  20230617_115521_standard_comp_to_omission_D1_s...   \n",
       "1       2  20230617_115521_standard_comp_to_omission_D1_s...   \n",
       "2       2  20230617_115521_standard_comp_to_omission_D1_s...   \n",
       "3       2  20230617_115521_standard_comp_to_omission_D1_s...   \n",
       "4       2  20230618_100636_standard_comp_to_omission_D2_s...   \n",
       "\n",
       "                                         tone_frames  \\\n",
       "0  [[1029, 1229], [3425, 3624], [5721, 5920], [75...   \n",
       "1  [[1029, 1229], [3425, 3624], [5721, 5920], [75...   \n",
       "2  [[1029, 1229], [3425, 3624], [5721, 5920], [75...   \n",
       "3  [[0, 0], [0, 0], [0, 0], [0, 0], [0, 0], [0, 0...   \n",
       "4  [[1098, 1297], [3492, 3693], [5788, 5988], [75...   \n",
       "\n",
       "                             box_1_port_entry_frames  \\\n",
       "0  [[102, 105], [110, 148], [193, 199], [200, 202...   \n",
       "1  [[102, 105], [110, 148], [193, 199], [200, 202...   \n",
       "2  [[102, 105], [110, 148], [193, 199], [200, 202...   \n",
       "3  [[0, 0], [0, 0], [0, 0], [0, 0], [0, 0], [0, 0...   \n",
       "4  [[788, 835], [838, 839], [839, 871], [871, 900...   \n",
       "\n",
       "                             box_2_port_entry_frames  \\\n",
       "0  [[24984, 31321], [39533, 39547], [39554, 39559...   \n",
       "1  [[24984, 31321], [39533, 39547], [39554, 39559...   \n",
       "2  [[24984, 31321], [39533, 39547], [39554, 39559...   \n",
       "3  [[0, 0], [0, 0], [0, 0], [0, 5], [12, 13], [13...   \n",
       "4  [[33026, 33037], [33038, 33042], [33044, 33049...   \n",
       "\n",
       "                                          video_name  \\\n",
       "0  20230617_115521_standard_comp_to_omission_D1_s...   \n",
       "1  20230617_115521_standard_comp_to_omission_D1_s...   \n",
       "2  20230617_115521_standard_comp_to_omission_D1_s...   \n",
       "3  20230617_115521_standard_comp_to_omission_D1_s...   \n",
       "4  20230618_100636_standard_comp_to_omission_D2_s...   \n",
       "\n",
       "                                        session_path  \\\n",
       "0  /scratch/back_up/reward_competition_extention/...   \n",
       "1  /scratch/back_up/reward_competition_extention/...   \n",
       "2  /scratch/back_up/reward_competition_extention/...   \n",
       "3  /scratch/back_up/reward_competition_extention/...   \n",
       "4  /scratch/back_up/reward_competition_extention/...   \n",
       "\n",
       "                                           recording current_subject subject  \\\n",
       "0  20230617_115521_standard_comp_to_omission_D1_s...             1.1     1.1   \n",
       "1  20230617_115521_standard_comp_to_omission_D1_s...             1.1     1.1   \n",
       "2  20230617_115521_standard_comp_to_omission_D1_s...             1.2     1.2   \n",
       "3  20230617_115521_standard_comp_to_omission_D1_s...             1.2     1.2   \n",
       "4  20230618_100636_standard_comp_to_omission_D2_s...             1.1     1.1   \n",
       "\n",
       "   ...                                    agent_locations  \\\n",
       "0  ...                                                NaN   \n",
       "1  ...  [[[40.039741738777444, 9.47029992556593], [42....   \n",
       "2  ...  [[[57.86163468579171, 31.554562356382696], [59...   \n",
       "3  ...                                                NaN   \n",
       "4  ...  [[[31.37122566669405, 31.1085619584881], [33.5...   \n",
       "\n",
       "                             subject_thorax_velocity  \\\n",
       "0  [14.84, 13.97, 13.13, 12.32, 11.54, 10.78, 10....   \n",
       "1  [8.96, 8.195, 7.54, 7.004, 6.605, 6.348, 6.227...   \n",
       "2  [11.19, 10.55, 9.92, 9.31, 8.734, 8.18, 7.64, ...   \n",
       "3  [5.184, 4.777, 4.383, 4.0, 3.629, 3.271, 2.926...   \n",
       "4  [1.143, 1.143, 1.142, 1.139, 1.135, 1.129, 1.1...   \n",
       "\n",
       "                               agent_thorax_velocity  \\\n",
       "0                                                NaN   \n",
       "1  [11.19, 10.55, 9.92, 9.31, 8.734, 8.18, 7.64, ...   \n",
       "2  [8.96, 8.195, 7.54, 7.004, 6.605, 6.348, 6.227...   \n",
       "3                                                NaN   \n",
       "4  [0.6333, 0.5635, 0.4963, 0.4321, 0.3713, 0.313...   \n",
       "\n",
       "                       subject_thorax_to_reward_port  \\\n",
       "0  [25.6, 25.84, 25.86, 25.86, 25.86, 25.86, 25.8...   \n",
       "1  [11.19, 11.234, 11.73, 12.34, 12.56, 13.58, 13...   \n",
       "2  [25.6, 25.84, 25.86, 25.86, 25.86, 25.86, 25.8...   \n",
       "3  [6.223, 6.227, 6.234, 6.24, 6.203, 6.2, 6.203,...   \n",
       "4  [5.727, 5.91, 5.93, 5.965, 5.99, 5.992, 6.355,...   \n",
       "\n",
       "                         agent_thorax_to_reward_port  \\\n",
       "0                                                NaN   \n",
       "1  [25.6, 25.84, 25.86, 25.86, 25.86, 25.86, 25.8...   \n",
       "2  [11.19, 11.234, 11.73, 12.34, 12.56, 13.58, 13...   \n",
       "3                                                NaN   \n",
       "4  [13.75, 14.18, 13.734, 13.74, 13.76, 13.84, 13...   \n",
       "\n",
       "                                      recording_name  \\\n",
       "0  20230617_115521_standard_comp_to_omission_D1_s...   \n",
       "1  20230617_115521_standard_comp_to_omission_D1_s...   \n",
       "2  20230617_115521_standard_comp_to_omission_D1_s...   \n",
       "3  20230617_115521_standard_comp_to_omission_D1_s...   \n",
       "4  20230618_100636_standard_comp_to_omission_D2_s...   \n",
       "\n",
       "                                      spike_clusters  \\\n",
       "0  [3, 4, 5, 6, 17, 28, 29, 39, 48, 52, 53, 54, 5...   \n",
       "1  [3, 4, 5, 6, 17, 28, 29, 39, 48, 52, 53, 54, 5...   \n",
       "2  [16, 17, 20, 25, 26, 34, 35, 39, 40, 42, 43, 4...   \n",
       "3  [16, 17, 20, 25, 26, 34, 35, 39, 40, 42, 43, 4...   \n",
       "4  [7, 11, 12, 48, 50, 51, 61, 64, 76, 84, 90, 98...   \n",
       "\n",
       "                                         spike_times  \\\n",
       "0  [[673223.0, 2367433.0, 2569212.0, 3969647.0, 3...   \n",
       "1  [[673223.0, 2367433.0, 2569212.0, 3969647.0, 3...   \n",
       "2  [[958.0, 5233.0, 6331.0, 7475.0, 8599.0, 10550...   \n",
       "3  [[958.0, 5233.0, 6331.0, 7475.0, 8599.0, 10550...   \n",
       "4  [[506.0, 1419.0, 2358.0, 5104.0, 6785.0, 7620....   \n",
       "\n",
       "                                   neuron_average_fr  \\\n",
       "0  [[0.0, 0.0, 0.0, 0.0, 0.0, 0.0, 0.0, 0.0, 0.0,...   \n",
       "1  [[0.0, 0.0, 0.0, 0.0, 0.0, 0.0, 0.0, 0.0, 0.0,...   \n",
       "2  [[1.0, 0.0, 1.0, 2.0, 1.0, 1.0, 0.0, 0.0, 0.0,...   \n",
       "3  [[1.0, 0.0, 1.0, 2.0, 1.0, 1.0, 0.0, 0.0, 0.0,...   \n",
       "4  [[2.0, 1.0, 1.0, 2.0, 1.0, 0.0, 3.0, 0.0, 1.0,...   \n",
       "\n",
       "                           neuron_average_timestamps  \n",
       "0  [0, 2000, 4000, 6000, 8000, 10000, 12000, 1400...  \n",
       "1  [0, 2000, 4000, 6000, 8000, 10000, 12000, 1400...  \n",
       "2  [0, 2000, 4000, 6000, 8000, 10000, 12000, 1400...  \n",
       "3  [0, 2000, 4000, 6000, 8000, 10000, 12000, 1400...  \n",
       "4  [0, 2000, 4000, 6000, 8000, 10000, 12000, 1400...  \n",
       "\n",
       "[5 rows x 158 columns]"
      ]
     },
     "execution_count": 10,
     "metadata": {},
     "output_type": "execute_result"
    }
   ],
   "source": [
    "LFP_SPECTRAL_SLEAP_SPIKE_DF.head()"
   ]
  },
  {
   "cell_type": "markdown",
   "metadata": {
    "cell_id": "e3ee4891d43a4ac287413afc552ca289",
    "deepnote_cell_type": "text-cell-h2",
    "formattedRanges": [],
    "tags": []
   },
   "source": [
    "## Outputs"
   ]
  },
  {
   "cell_type": "markdown",
   "metadata": {
    "cell_id": "9ccbf6cc70fd4d379fa29317f733771f",
    "deepnote_cell_type": "text-cell-p",
    "formattedRanges": []
   },
   "source": [
    "Describe each output that the notebook creates. "
   ]
  },
  {
   "cell_type": "markdown",
   "metadata": {
    "cell_id": "fc8e8920a6944918a15fac575cdf6e78",
    "deepnote_cell_type": "text-cell-bullet",
    "formattedRanges": []
   },
   "source": [
    "- Is it a plot or is it data?"
   ]
  },
  {
   "cell_type": "markdown",
   "metadata": {
    "cell_id": "1e639d4776a84aa9ac8ded2e14fa57db",
    "deepnote_cell_type": "text-cell-bullet",
    "formattedRanges": []
   },
   "source": [
    "- How valuable is the output and why is it valuable or useful?"
   ]
  },
  {
   "cell_type": "code",
   "execution_count": 11,
   "metadata": {
    "tags": []
   },
   "outputs": [],
   "source": [
    "# Inputs and Required data loading\n",
    "# input varaible names are in all caps snake case\n",
    "# Whenever an input changes or is used for processing \n",
    "# the vairables are all lower in snake case\n",
    "OUTPUT_DIR = r\"./proc/\" # where data is saved should always be shown in the inputs\n",
    "os.makedirs(OUTPUT_DIR, exist_ok=True)\n",
    "OUTPUT_PREFIX = \"rce_pilot_2\""
   ]
  },
  {
   "cell_type": "markdown",
   "metadata": {},
   "source": [
    "# Documentation"
   ]
  },
  {
   "cell_type": "markdown",
   "metadata": {
    "cell_id": "8999d19b6b7d4d63bc90f0b0bd9ab085",
    "deepnote_cell_type": "text-cell-h2",
    "formattedRanges": []
   },
   "source": [
    "## Processing"
   ]
  },
  {
   "cell_type": "markdown",
   "metadata": {
    "cell_id": "9b36cdf08567463082b005cb0dec684b",
    "deepnote_cell_type": "text-cell-p",
    "formattedRanges": []
   },
   "source": [
    "Describe what is done to the data here and how inputs are manipulated to generate outputs. "
   ]
  },
  {
   "cell_type": "code",
   "execution_count": 12,
   "metadata": {
    "tags": []
   },
   "outputs": [
    {
     "data": {
      "text/html": [
       "<div>\n",
       "<style scoped>\n",
       "    .dataframe tbody tr th:only-of-type {\n",
       "        vertical-align: middle;\n",
       "    }\n",
       "\n",
       "    .dataframe tbody tr th {\n",
       "        vertical-align: top;\n",
       "    }\n",
       "\n",
       "    .dataframe thead th {\n",
       "        text-align: right;\n",
       "    }\n",
       "</style>\n",
       "<table border=\"1\" class=\"dataframe\">\n",
       "  <thead>\n",
       "    <tr style=\"text-align: right;\">\n",
       "      <th></th>\n",
       "      <th>cohort</th>\n",
       "      <th>session_dir</th>\n",
       "      <th>tone_frames</th>\n",
       "      <th>box_1_port_entry_frames</th>\n",
       "      <th>box_2_port_entry_frames</th>\n",
       "      <th>video_name</th>\n",
       "      <th>session_path</th>\n",
       "      <th>recording</th>\n",
       "      <th>current_subject</th>\n",
       "      <th>subject</th>\n",
       "      <th>...</th>\n",
       "      <th>agent_locations</th>\n",
       "      <th>subject_thorax_velocity</th>\n",
       "      <th>agent_thorax_velocity</th>\n",
       "      <th>subject_thorax_to_reward_port</th>\n",
       "      <th>agent_thorax_to_reward_port</th>\n",
       "      <th>recording_name</th>\n",
       "      <th>spike_clusters</th>\n",
       "      <th>spike_times</th>\n",
       "      <th>neuron_average_fr</th>\n",
       "      <th>neuron_average_timestamps</th>\n",
       "    </tr>\n",
       "  </thead>\n",
       "  <tbody>\n",
       "    <tr>\n",
       "      <th>0</th>\n",
       "      <td>2</td>\n",
       "      <td>20230617_115521_standard_comp_to_omission_D1_s...</td>\n",
       "      <td>[[1029, 1229], [3425, 3624], [5721, 5920], [75...</td>\n",
       "      <td>[[102, 105], [110, 148], [193, 199], [200, 202...</td>\n",
       "      <td>[[24984, 31321], [39533, 39547], [39554, 39559...</td>\n",
       "      <td>20230617_115521_standard_comp_to_omission_D1_s...</td>\n",
       "      <td>/scratch/back_up/reward_competition_extention/...</td>\n",
       "      <td>20230617_115521_standard_comp_to_omission_D1_s...</td>\n",
       "      <td>1.1</td>\n",
       "      <td>1.1</td>\n",
       "      <td>...</td>\n",
       "      <td>NaN</td>\n",
       "      <td>[14.84, 13.97, 13.13, 12.32, 11.54, 10.78, 10....</td>\n",
       "      <td>NaN</td>\n",
       "      <td>[25.6, 25.84, 25.86, 25.86, 25.86, 25.86, 25.8...</td>\n",
       "      <td>NaN</td>\n",
       "      <td>20230617_115521_standard_comp_to_omission_D1_s...</td>\n",
       "      <td>[3, 4, 5, 6, 17, 28, 29, 39, 48, 52, 53, 54, 5...</td>\n",
       "      <td>[[673223.0, 2367433.0, 2569212.0, 3969647.0, 3...</td>\n",
       "      <td>[[0.0, 0.0, 0.0, 0.0, 0.0, 0.0, 0.0, 0.0, 0.0,...</td>\n",
       "      <td>[0, 2000, 4000, 6000, 8000, 10000, 12000, 1400...</td>\n",
       "    </tr>\n",
       "    <tr>\n",
       "      <th>1</th>\n",
       "      <td>2</td>\n",
       "      <td>20230617_115521_standard_comp_to_omission_D1_s...</td>\n",
       "      <td>[[1029, 1229], [3425, 3624], [5721, 5920], [75...</td>\n",
       "      <td>[[102, 105], [110, 148], [193, 199], [200, 202...</td>\n",
       "      <td>[[24984, 31321], [39533, 39547], [39554, 39559...</td>\n",
       "      <td>20230617_115521_standard_comp_to_omission_D1_s...</td>\n",
       "      <td>/scratch/back_up/reward_competition_extention/...</td>\n",
       "      <td>20230617_115521_standard_comp_to_omission_D1_s...</td>\n",
       "      <td>1.1</td>\n",
       "      <td>1.1</td>\n",
       "      <td>...</td>\n",
       "      <td>[[[40.039741738777444, 9.47029992556593], [42....</td>\n",
       "      <td>[8.96, 8.195, 7.54, 7.004, 6.605, 6.348, 6.227...</td>\n",
       "      <td>[11.19, 10.55, 9.92, 9.31, 8.734, 8.18, 7.64, ...</td>\n",
       "      <td>[11.19, 11.234, 11.73, 12.34, 12.56, 13.58, 13...</td>\n",
       "      <td>[25.6, 25.84, 25.86, 25.86, 25.86, 25.86, 25.8...</td>\n",
       "      <td>20230617_115521_standard_comp_to_omission_D1_s...</td>\n",
       "      <td>[3, 4, 5, 6, 17, 28, 29, 39, 48, 52, 53, 54, 5...</td>\n",
       "      <td>[[673223.0, 2367433.0, 2569212.0, 3969647.0, 3...</td>\n",
       "      <td>[[0.0, 0.0, 0.0, 0.0, 0.0, 0.0, 0.0, 0.0, 0.0,...</td>\n",
       "      <td>[0, 2000, 4000, 6000, 8000, 10000, 12000, 1400...</td>\n",
       "    </tr>\n",
       "    <tr>\n",
       "      <th>2</th>\n",
       "      <td>2</td>\n",
       "      <td>20230617_115521_standard_comp_to_omission_D1_s...</td>\n",
       "      <td>[[1029, 1229], [3425, 3624], [5721, 5920], [75...</td>\n",
       "      <td>[[102, 105], [110, 148], [193, 199], [200, 202...</td>\n",
       "      <td>[[24984, 31321], [39533, 39547], [39554, 39559...</td>\n",
       "      <td>20230617_115521_standard_comp_to_omission_D1_s...</td>\n",
       "      <td>/scratch/back_up/reward_competition_extention/...</td>\n",
       "      <td>20230617_115521_standard_comp_to_omission_D1_s...</td>\n",
       "      <td>1.2</td>\n",
       "      <td>1.2</td>\n",
       "      <td>...</td>\n",
       "      <td>[[[57.86163468579171, 31.554562356382696], [59...</td>\n",
       "      <td>[11.19, 10.55, 9.92, 9.31, 8.734, 8.18, 7.64, ...</td>\n",
       "      <td>[8.96, 8.195, 7.54, 7.004, 6.605, 6.348, 6.227...</td>\n",
       "      <td>[25.6, 25.84, 25.86, 25.86, 25.86, 25.86, 25.8...</td>\n",
       "      <td>[11.19, 11.234, 11.73, 12.34, 12.56, 13.58, 13...</td>\n",
       "      <td>20230617_115521_standard_comp_to_omission_D1_s...</td>\n",
       "      <td>[16, 17, 20, 25, 26, 34, 35, 39, 40, 42, 43, 4...</td>\n",
       "      <td>[[958.0, 5233.0, 6331.0, 7475.0, 8599.0, 10550...</td>\n",
       "      <td>[[1.0, 0.0, 1.0, 2.0, 1.0, 1.0, 0.0, 0.0, 0.0,...</td>\n",
       "      <td>[0, 2000, 4000, 6000, 8000, 10000, 12000, 1400...</td>\n",
       "    </tr>\n",
       "    <tr>\n",
       "      <th>3</th>\n",
       "      <td>2</td>\n",
       "      <td>20230617_115521_standard_comp_to_omission_D1_s...</td>\n",
       "      <td>[[0, 0], [0, 0], [0, 0], [0, 0], [0, 0], [0, 0...</td>\n",
       "      <td>[[0, 0], [0, 0], [0, 0], [0, 0], [0, 0], [0, 0...</td>\n",
       "      <td>[[0, 0], [0, 0], [0, 0], [0, 5], [12, 13], [13...</td>\n",
       "      <td>20230617_115521_standard_comp_to_omission_D1_s...</td>\n",
       "      <td>/scratch/back_up/reward_competition_extention/...</td>\n",
       "      <td>20230617_115521_standard_comp_to_omission_D1_s...</td>\n",
       "      <td>1.2</td>\n",
       "      <td>1.2</td>\n",
       "      <td>...</td>\n",
       "      <td>NaN</td>\n",
       "      <td>[5.184, 4.777, 4.383, 4.0, 3.629, 3.271, 2.926...</td>\n",
       "      <td>NaN</td>\n",
       "      <td>[6.223, 6.227, 6.234, 6.24, 6.203, 6.2, 6.203,...</td>\n",
       "      <td>NaN</td>\n",
       "      <td>20230617_115521_standard_comp_to_omission_D1_s...</td>\n",
       "      <td>[16, 17, 20, 25, 26, 34, 35, 39, 40, 42, 43, 4...</td>\n",
       "      <td>[[958.0, 5233.0, 6331.0, 7475.0, 8599.0, 10550...</td>\n",
       "      <td>[[1.0, 0.0, 1.0, 2.0, 1.0, 1.0, 0.0, 0.0, 0.0,...</td>\n",
       "      <td>[0, 2000, 4000, 6000, 8000, 10000, 12000, 1400...</td>\n",
       "    </tr>\n",
       "    <tr>\n",
       "      <th>4</th>\n",
       "      <td>2</td>\n",
       "      <td>20230618_100636_standard_comp_to_omission_D2_s...</td>\n",
       "      <td>[[1098, 1297], [3492, 3693], [5788, 5988], [75...</td>\n",
       "      <td>[[788, 835], [838, 839], [839, 871], [871, 900...</td>\n",
       "      <td>[[33026, 33037], [33038, 33042], [33044, 33049...</td>\n",
       "      <td>20230618_100636_standard_comp_to_omission_D2_s...</td>\n",
       "      <td>/scratch/back_up/reward_competition_extention/...</td>\n",
       "      <td>20230618_100636_standard_comp_to_omission_D2_s...</td>\n",
       "      <td>1.1</td>\n",
       "      <td>1.1</td>\n",
       "      <td>...</td>\n",
       "      <td>[[[31.37122566669405, 31.1085619584881], [33.5...</td>\n",
       "      <td>[1.143, 1.143, 1.142, 1.139, 1.135, 1.129, 1.1...</td>\n",
       "      <td>[0.6333, 0.5635, 0.4963, 0.4321, 0.3713, 0.313...</td>\n",
       "      <td>[5.727, 5.91, 5.93, 5.965, 5.99, 5.992, 6.355,...</td>\n",
       "      <td>[13.75, 14.18, 13.734, 13.74, 13.76, 13.84, 13...</td>\n",
       "      <td>20230618_100636_standard_comp_to_omission_D2_s...</td>\n",
       "      <td>[7, 11, 12, 48, 50, 51, 61, 64, 76, 84, 90, 98...</td>\n",
       "      <td>[[506.0, 1419.0, 2358.0, 5104.0, 6785.0, 7620....</td>\n",
       "      <td>[[2.0, 1.0, 1.0, 2.0, 1.0, 0.0, 3.0, 0.0, 1.0,...</td>\n",
       "      <td>[0, 2000, 4000, 6000, 8000, 10000, 12000, 1400...</td>\n",
       "    </tr>\n",
       "  </tbody>\n",
       "</table>\n",
       "<p>5 rows × 158 columns</p>\n",
       "</div>"
      ],
      "text/plain": [
       "   cohort                                        session_dir  \\\n",
       "0       2  20230617_115521_standard_comp_to_omission_D1_s...   \n",
       "1       2  20230617_115521_standard_comp_to_omission_D1_s...   \n",
       "2       2  20230617_115521_standard_comp_to_omission_D1_s...   \n",
       "3       2  20230617_115521_standard_comp_to_omission_D1_s...   \n",
       "4       2  20230618_100636_standard_comp_to_omission_D2_s...   \n",
       "\n",
       "                                         tone_frames  \\\n",
       "0  [[1029, 1229], [3425, 3624], [5721, 5920], [75...   \n",
       "1  [[1029, 1229], [3425, 3624], [5721, 5920], [75...   \n",
       "2  [[1029, 1229], [3425, 3624], [5721, 5920], [75...   \n",
       "3  [[0, 0], [0, 0], [0, 0], [0, 0], [0, 0], [0, 0...   \n",
       "4  [[1098, 1297], [3492, 3693], [5788, 5988], [75...   \n",
       "\n",
       "                             box_1_port_entry_frames  \\\n",
       "0  [[102, 105], [110, 148], [193, 199], [200, 202...   \n",
       "1  [[102, 105], [110, 148], [193, 199], [200, 202...   \n",
       "2  [[102, 105], [110, 148], [193, 199], [200, 202...   \n",
       "3  [[0, 0], [0, 0], [0, 0], [0, 0], [0, 0], [0, 0...   \n",
       "4  [[788, 835], [838, 839], [839, 871], [871, 900...   \n",
       "\n",
       "                             box_2_port_entry_frames  \\\n",
       "0  [[24984, 31321], [39533, 39547], [39554, 39559...   \n",
       "1  [[24984, 31321], [39533, 39547], [39554, 39559...   \n",
       "2  [[24984, 31321], [39533, 39547], [39554, 39559...   \n",
       "3  [[0, 0], [0, 0], [0, 0], [0, 5], [12, 13], [13...   \n",
       "4  [[33026, 33037], [33038, 33042], [33044, 33049...   \n",
       "\n",
       "                                          video_name  \\\n",
       "0  20230617_115521_standard_comp_to_omission_D1_s...   \n",
       "1  20230617_115521_standard_comp_to_omission_D1_s...   \n",
       "2  20230617_115521_standard_comp_to_omission_D1_s...   \n",
       "3  20230617_115521_standard_comp_to_omission_D1_s...   \n",
       "4  20230618_100636_standard_comp_to_omission_D2_s...   \n",
       "\n",
       "                                        session_path  \\\n",
       "0  /scratch/back_up/reward_competition_extention/...   \n",
       "1  /scratch/back_up/reward_competition_extention/...   \n",
       "2  /scratch/back_up/reward_competition_extention/...   \n",
       "3  /scratch/back_up/reward_competition_extention/...   \n",
       "4  /scratch/back_up/reward_competition_extention/...   \n",
       "\n",
       "                                           recording current_subject subject  \\\n",
       "0  20230617_115521_standard_comp_to_omission_D1_s...             1.1     1.1   \n",
       "1  20230617_115521_standard_comp_to_omission_D1_s...             1.1     1.1   \n",
       "2  20230617_115521_standard_comp_to_omission_D1_s...             1.2     1.2   \n",
       "3  20230617_115521_standard_comp_to_omission_D1_s...             1.2     1.2   \n",
       "4  20230618_100636_standard_comp_to_omission_D2_s...             1.1     1.1   \n",
       "\n",
       "   ...                                    agent_locations  \\\n",
       "0  ...                                                NaN   \n",
       "1  ...  [[[40.039741738777444, 9.47029992556593], [42....   \n",
       "2  ...  [[[57.86163468579171, 31.554562356382696], [59...   \n",
       "3  ...                                                NaN   \n",
       "4  ...  [[[31.37122566669405, 31.1085619584881], [33.5...   \n",
       "\n",
       "                             subject_thorax_velocity  \\\n",
       "0  [14.84, 13.97, 13.13, 12.32, 11.54, 10.78, 10....   \n",
       "1  [8.96, 8.195, 7.54, 7.004, 6.605, 6.348, 6.227...   \n",
       "2  [11.19, 10.55, 9.92, 9.31, 8.734, 8.18, 7.64, ...   \n",
       "3  [5.184, 4.777, 4.383, 4.0, 3.629, 3.271, 2.926...   \n",
       "4  [1.143, 1.143, 1.142, 1.139, 1.135, 1.129, 1.1...   \n",
       "\n",
       "                               agent_thorax_velocity  \\\n",
       "0                                                NaN   \n",
       "1  [11.19, 10.55, 9.92, 9.31, 8.734, 8.18, 7.64, ...   \n",
       "2  [8.96, 8.195, 7.54, 7.004, 6.605, 6.348, 6.227...   \n",
       "3                                                NaN   \n",
       "4  [0.6333, 0.5635, 0.4963, 0.4321, 0.3713, 0.313...   \n",
       "\n",
       "                       subject_thorax_to_reward_port  \\\n",
       "0  [25.6, 25.84, 25.86, 25.86, 25.86, 25.86, 25.8...   \n",
       "1  [11.19, 11.234, 11.73, 12.34, 12.56, 13.58, 13...   \n",
       "2  [25.6, 25.84, 25.86, 25.86, 25.86, 25.86, 25.8...   \n",
       "3  [6.223, 6.227, 6.234, 6.24, 6.203, 6.2, 6.203,...   \n",
       "4  [5.727, 5.91, 5.93, 5.965, 5.99, 5.992, 6.355,...   \n",
       "\n",
       "                         agent_thorax_to_reward_port  \\\n",
       "0                                                NaN   \n",
       "1  [25.6, 25.84, 25.86, 25.86, 25.86, 25.86, 25.8...   \n",
       "2  [11.19, 11.234, 11.73, 12.34, 12.56, 13.58, 13...   \n",
       "3                                                NaN   \n",
       "4  [13.75, 14.18, 13.734, 13.74, 13.76, 13.84, 13...   \n",
       "\n",
       "                                      recording_name  \\\n",
       "0  20230617_115521_standard_comp_to_omission_D1_s...   \n",
       "1  20230617_115521_standard_comp_to_omission_D1_s...   \n",
       "2  20230617_115521_standard_comp_to_omission_D1_s...   \n",
       "3  20230617_115521_standard_comp_to_omission_D1_s...   \n",
       "4  20230618_100636_standard_comp_to_omission_D2_s...   \n",
       "\n",
       "                                      spike_clusters  \\\n",
       "0  [3, 4, 5, 6, 17, 28, 29, 39, 48, 52, 53, 54, 5...   \n",
       "1  [3, 4, 5, 6, 17, 28, 29, 39, 48, 52, 53, 54, 5...   \n",
       "2  [16, 17, 20, 25, 26, 34, 35, 39, 40, 42, 43, 4...   \n",
       "3  [16, 17, 20, 25, 26, 34, 35, 39, 40, 42, 43, 4...   \n",
       "4  [7, 11, 12, 48, 50, 51, 61, 64, 76, 84, 90, 98...   \n",
       "\n",
       "                                         spike_times  \\\n",
       "0  [[673223.0, 2367433.0, 2569212.0, 3969647.0, 3...   \n",
       "1  [[673223.0, 2367433.0, 2569212.0, 3969647.0, 3...   \n",
       "2  [[958.0, 5233.0, 6331.0, 7475.0, 8599.0, 10550...   \n",
       "3  [[958.0, 5233.0, 6331.0, 7475.0, 8599.0, 10550...   \n",
       "4  [[506.0, 1419.0, 2358.0, 5104.0, 6785.0, 7620....   \n",
       "\n",
       "                                   neuron_average_fr  \\\n",
       "0  [[0.0, 0.0, 0.0, 0.0, 0.0, 0.0, 0.0, 0.0, 0.0,...   \n",
       "1  [[0.0, 0.0, 0.0, 0.0, 0.0, 0.0, 0.0, 0.0, 0.0,...   \n",
       "2  [[1.0, 0.0, 1.0, 2.0, 1.0, 1.0, 0.0, 0.0, 0.0,...   \n",
       "3  [[1.0, 0.0, 1.0, 2.0, 1.0, 1.0, 0.0, 0.0, 0.0,...   \n",
       "4  [[2.0, 1.0, 1.0, 2.0, 1.0, 0.0, 3.0, 0.0, 1.0,...   \n",
       "\n",
       "                           neuron_average_timestamps  \n",
       "0  [0, 2000, 4000, 6000, 8000, 10000, 12000, 1400...  \n",
       "1  [0, 2000, 4000, 6000, 8000, 10000, 12000, 1400...  \n",
       "2  [0, 2000, 4000, 6000, 8000, 10000, 12000, 1400...  \n",
       "3  [0, 2000, 4000, 6000, 8000, 10000, 12000, 1400...  \n",
       "4  [0, 2000, 4000, 6000, 8000, 10000, 12000, 1400...  \n",
       "\n",
       "[5 rows x 158 columns]"
      ]
     },
     "execution_count": 12,
     "metadata": {},
     "output_type": "execute_result"
    }
   ],
   "source": [
    "LFP_SPECTRAL_SLEAP_SPIKE_DF.head()"
   ]
  },
  {
   "cell_type": "markdown",
   "metadata": {},
   "source": [
    "## General"
   ]
  },
  {
   "cell_type": "markdown",
   "metadata": {},
   "source": [
    "- Overall sampling rate is 20000Hz for ephys recording\n",
    "    - Every data point has a corresponding \"timestamps\".\n",
    "- Videos are recorded at around 30Hz\n",
    "    - Each data point also has a corresponding \"frame\" that is determined by the frame that has the closest timestamp to to timestamp of the data point \n",
    "- Experiments are done in two operant chambers, \"box_1\" and \"box_2\"\n",
    "    - Most competitions are done in box 1, and then one mice is separated out to box_2"
   ]
  },
  {
   "cell_type": "code",
   "execution_count": 13,
   "metadata": {
    "tags": []
   },
   "outputs": [
    {
     "data": {
      "text/html": [
       "<div>\n",
       "<style scoped>\n",
       "    .dataframe tbody tr th:only-of-type {\n",
       "        vertical-align: middle;\n",
       "    }\n",
       "\n",
       "    .dataframe tbody tr th {\n",
       "        vertical-align: top;\n",
       "    }\n",
       "\n",
       "    .dataframe thead th {\n",
       "        text-align: right;\n",
       "    }\n",
       "</style>\n",
       "<table border=\"1\" class=\"dataframe\">\n",
       "  <thead>\n",
       "    <tr style=\"text-align: right;\">\n",
       "      <th></th>\n",
       "      <th>cohort</th>\n",
       "      <th>session_dir</th>\n",
       "      <th>tone_frames</th>\n",
       "      <th>box_1_port_entry_frames</th>\n",
       "      <th>box_2_port_entry_frames</th>\n",
       "      <th>video_name</th>\n",
       "      <th>session_path</th>\n",
       "      <th>recording</th>\n",
       "      <th>current_subject</th>\n",
       "      <th>subject</th>\n",
       "      <th>...</th>\n",
       "      <th>agent_locations</th>\n",
       "      <th>subject_thorax_velocity</th>\n",
       "      <th>agent_thorax_velocity</th>\n",
       "      <th>subject_thorax_to_reward_port</th>\n",
       "      <th>agent_thorax_to_reward_port</th>\n",
       "      <th>recording_name</th>\n",
       "      <th>spike_clusters</th>\n",
       "      <th>spike_times</th>\n",
       "      <th>neuron_average_fr</th>\n",
       "      <th>neuron_average_timestamps</th>\n",
       "    </tr>\n",
       "  </thead>\n",
       "  <tbody>\n",
       "    <tr>\n",
       "      <th>0</th>\n",
       "      <td>2</td>\n",
       "      <td>20230617_115521_standard_comp_to_omission_D1_s...</td>\n",
       "      <td>[[1029, 1229], [3425, 3624], [5721, 5920], [75...</td>\n",
       "      <td>[[102, 105], [110, 148], [193, 199], [200, 202...</td>\n",
       "      <td>[[24984, 31321], [39533, 39547], [39554, 39559...</td>\n",
       "      <td>20230617_115521_standard_comp_to_omission_D1_s...</td>\n",
       "      <td>/scratch/back_up/reward_competition_extention/...</td>\n",
       "      <td>20230617_115521_standard_comp_to_omission_D1_s...</td>\n",
       "      <td>1.1</td>\n",
       "      <td>1.1</td>\n",
       "      <td>...</td>\n",
       "      <td>NaN</td>\n",
       "      <td>[14.84, 13.97, 13.13, 12.32, 11.54, 10.78, 10....</td>\n",
       "      <td>NaN</td>\n",
       "      <td>[25.6, 25.84, 25.86, 25.86, 25.86, 25.86, 25.8...</td>\n",
       "      <td>NaN</td>\n",
       "      <td>20230617_115521_standard_comp_to_omission_D1_s...</td>\n",
       "      <td>[3, 4, 5, 6, 17, 28, 29, 39, 48, 52, 53, 54, 5...</td>\n",
       "      <td>[[673223.0, 2367433.0, 2569212.0, 3969647.0, 3...</td>\n",
       "      <td>[[0.0, 0.0, 0.0, 0.0, 0.0, 0.0, 0.0, 0.0, 0.0,...</td>\n",
       "      <td>[0, 2000, 4000, 6000, 8000, 10000, 12000, 1400...</td>\n",
       "    </tr>\n",
       "    <tr>\n",
       "      <th>1</th>\n",
       "      <td>2</td>\n",
       "      <td>20230617_115521_standard_comp_to_omission_D1_s...</td>\n",
       "      <td>[[1029, 1229], [3425, 3624], [5721, 5920], [75...</td>\n",
       "      <td>[[102, 105], [110, 148], [193, 199], [200, 202...</td>\n",
       "      <td>[[24984, 31321], [39533, 39547], [39554, 39559...</td>\n",
       "      <td>20230617_115521_standard_comp_to_omission_D1_s...</td>\n",
       "      <td>/scratch/back_up/reward_competition_extention/...</td>\n",
       "      <td>20230617_115521_standard_comp_to_omission_D1_s...</td>\n",
       "      <td>1.1</td>\n",
       "      <td>1.1</td>\n",
       "      <td>...</td>\n",
       "      <td>[[[40.039741738777444, 9.47029992556593], [42....</td>\n",
       "      <td>[8.96, 8.195, 7.54, 7.004, 6.605, 6.348, 6.227...</td>\n",
       "      <td>[11.19, 10.55, 9.92, 9.31, 8.734, 8.18, 7.64, ...</td>\n",
       "      <td>[11.19, 11.234, 11.73, 12.34, 12.56, 13.58, 13...</td>\n",
       "      <td>[25.6, 25.84, 25.86, 25.86, 25.86, 25.86, 25.8...</td>\n",
       "      <td>20230617_115521_standard_comp_to_omission_D1_s...</td>\n",
       "      <td>[3, 4, 5, 6, 17, 28, 29, 39, 48, 52, 53, 54, 5...</td>\n",
       "      <td>[[673223.0, 2367433.0, 2569212.0, 3969647.0, 3...</td>\n",
       "      <td>[[0.0, 0.0, 0.0, 0.0, 0.0, 0.0, 0.0, 0.0, 0.0,...</td>\n",
       "      <td>[0, 2000, 4000, 6000, 8000, 10000, 12000, 1400...</td>\n",
       "    </tr>\n",
       "    <tr>\n",
       "      <th>2</th>\n",
       "      <td>2</td>\n",
       "      <td>20230617_115521_standard_comp_to_omission_D1_s...</td>\n",
       "      <td>[[1029, 1229], [3425, 3624], [5721, 5920], [75...</td>\n",
       "      <td>[[102, 105], [110, 148], [193, 199], [200, 202...</td>\n",
       "      <td>[[24984, 31321], [39533, 39547], [39554, 39559...</td>\n",
       "      <td>20230617_115521_standard_comp_to_omission_D1_s...</td>\n",
       "      <td>/scratch/back_up/reward_competition_extention/...</td>\n",
       "      <td>20230617_115521_standard_comp_to_omission_D1_s...</td>\n",
       "      <td>1.2</td>\n",
       "      <td>1.2</td>\n",
       "      <td>...</td>\n",
       "      <td>[[[57.86163468579171, 31.554562356382696], [59...</td>\n",
       "      <td>[11.19, 10.55, 9.92, 9.31, 8.734, 8.18, 7.64, ...</td>\n",
       "      <td>[8.96, 8.195, 7.54, 7.004, 6.605, 6.348, 6.227...</td>\n",
       "      <td>[25.6, 25.84, 25.86, 25.86, 25.86, 25.86, 25.8...</td>\n",
       "      <td>[11.19, 11.234, 11.73, 12.34, 12.56, 13.58, 13...</td>\n",
       "      <td>20230617_115521_standard_comp_to_omission_D1_s...</td>\n",
       "      <td>[16, 17, 20, 25, 26, 34, 35, 39, 40, 42, 43, 4...</td>\n",
       "      <td>[[958.0, 5233.0, 6331.0, 7475.0, 8599.0, 10550...</td>\n",
       "      <td>[[1.0, 0.0, 1.0, 2.0, 1.0, 1.0, 0.0, 0.0, 0.0,...</td>\n",
       "      <td>[0, 2000, 4000, 6000, 8000, 10000, 12000, 1400...</td>\n",
       "    </tr>\n",
       "    <tr>\n",
       "      <th>3</th>\n",
       "      <td>2</td>\n",
       "      <td>20230617_115521_standard_comp_to_omission_D1_s...</td>\n",
       "      <td>[[0, 0], [0, 0], [0, 0], [0, 0], [0, 0], [0, 0...</td>\n",
       "      <td>[[0, 0], [0, 0], [0, 0], [0, 0], [0, 0], [0, 0...</td>\n",
       "      <td>[[0, 0], [0, 0], [0, 0], [0, 5], [12, 13], [13...</td>\n",
       "      <td>20230617_115521_standard_comp_to_omission_D1_s...</td>\n",
       "      <td>/scratch/back_up/reward_competition_extention/...</td>\n",
       "      <td>20230617_115521_standard_comp_to_omission_D1_s...</td>\n",
       "      <td>1.2</td>\n",
       "      <td>1.2</td>\n",
       "      <td>...</td>\n",
       "      <td>NaN</td>\n",
       "      <td>[5.184, 4.777, 4.383, 4.0, 3.629, 3.271, 2.926...</td>\n",
       "      <td>NaN</td>\n",
       "      <td>[6.223, 6.227, 6.234, 6.24, 6.203, 6.2, 6.203,...</td>\n",
       "      <td>NaN</td>\n",
       "      <td>20230617_115521_standard_comp_to_omission_D1_s...</td>\n",
       "      <td>[16, 17, 20, 25, 26, 34, 35, 39, 40, 42, 43, 4...</td>\n",
       "      <td>[[958.0, 5233.0, 6331.0, 7475.0, 8599.0, 10550...</td>\n",
       "      <td>[[1.0, 0.0, 1.0, 2.0, 1.0, 1.0, 0.0, 0.0, 0.0,...</td>\n",
       "      <td>[0, 2000, 4000, 6000, 8000, 10000, 12000, 1400...</td>\n",
       "    </tr>\n",
       "    <tr>\n",
       "      <th>4</th>\n",
       "      <td>2</td>\n",
       "      <td>20230618_100636_standard_comp_to_omission_D2_s...</td>\n",
       "      <td>[[1098, 1297], [3492, 3693], [5788, 5988], [75...</td>\n",
       "      <td>[[788, 835], [838, 839], [839, 871], [871, 900...</td>\n",
       "      <td>[[33026, 33037], [33038, 33042], [33044, 33049...</td>\n",
       "      <td>20230618_100636_standard_comp_to_omission_D2_s...</td>\n",
       "      <td>/scratch/back_up/reward_competition_extention/...</td>\n",
       "      <td>20230618_100636_standard_comp_to_omission_D2_s...</td>\n",
       "      <td>1.1</td>\n",
       "      <td>1.1</td>\n",
       "      <td>...</td>\n",
       "      <td>[[[31.37122566669405, 31.1085619584881], [33.5...</td>\n",
       "      <td>[1.143, 1.143, 1.142, 1.139, 1.135, 1.129, 1.1...</td>\n",
       "      <td>[0.6333, 0.5635, 0.4963, 0.4321, 0.3713, 0.313...</td>\n",
       "      <td>[5.727, 5.91, 5.93, 5.965, 5.99, 5.992, 6.355,...</td>\n",
       "      <td>[13.75, 14.18, 13.734, 13.74, 13.76, 13.84, 13...</td>\n",
       "      <td>20230618_100636_standard_comp_to_omission_D2_s...</td>\n",
       "      <td>[7, 11, 12, 48, 50, 51, 61, 64, 76, 84, 90, 98...</td>\n",
       "      <td>[[506.0, 1419.0, 2358.0, 5104.0, 6785.0, 7620....</td>\n",
       "      <td>[[2.0, 1.0, 1.0, 2.0, 1.0, 0.0, 3.0, 0.0, 1.0,...</td>\n",
       "      <td>[0, 2000, 4000, 6000, 8000, 10000, 12000, 1400...</td>\n",
       "    </tr>\n",
       "  </tbody>\n",
       "</table>\n",
       "<p>5 rows × 158 columns</p>\n",
       "</div>"
      ],
      "text/plain": [
       "   cohort                                        session_dir  \\\n",
       "0       2  20230617_115521_standard_comp_to_omission_D1_s...   \n",
       "1       2  20230617_115521_standard_comp_to_omission_D1_s...   \n",
       "2       2  20230617_115521_standard_comp_to_omission_D1_s...   \n",
       "3       2  20230617_115521_standard_comp_to_omission_D1_s...   \n",
       "4       2  20230618_100636_standard_comp_to_omission_D2_s...   \n",
       "\n",
       "                                         tone_frames  \\\n",
       "0  [[1029, 1229], [3425, 3624], [5721, 5920], [75...   \n",
       "1  [[1029, 1229], [3425, 3624], [5721, 5920], [75...   \n",
       "2  [[1029, 1229], [3425, 3624], [5721, 5920], [75...   \n",
       "3  [[0, 0], [0, 0], [0, 0], [0, 0], [0, 0], [0, 0...   \n",
       "4  [[1098, 1297], [3492, 3693], [5788, 5988], [75...   \n",
       "\n",
       "                             box_1_port_entry_frames  \\\n",
       "0  [[102, 105], [110, 148], [193, 199], [200, 202...   \n",
       "1  [[102, 105], [110, 148], [193, 199], [200, 202...   \n",
       "2  [[102, 105], [110, 148], [193, 199], [200, 202...   \n",
       "3  [[0, 0], [0, 0], [0, 0], [0, 0], [0, 0], [0, 0...   \n",
       "4  [[788, 835], [838, 839], [839, 871], [871, 900...   \n",
       "\n",
       "                             box_2_port_entry_frames  \\\n",
       "0  [[24984, 31321], [39533, 39547], [39554, 39559...   \n",
       "1  [[24984, 31321], [39533, 39547], [39554, 39559...   \n",
       "2  [[24984, 31321], [39533, 39547], [39554, 39559...   \n",
       "3  [[0, 0], [0, 0], [0, 0], [0, 5], [12, 13], [13...   \n",
       "4  [[33026, 33037], [33038, 33042], [33044, 33049...   \n",
       "\n",
       "                                          video_name  \\\n",
       "0  20230617_115521_standard_comp_to_omission_D1_s...   \n",
       "1  20230617_115521_standard_comp_to_omission_D1_s...   \n",
       "2  20230617_115521_standard_comp_to_omission_D1_s...   \n",
       "3  20230617_115521_standard_comp_to_omission_D1_s...   \n",
       "4  20230618_100636_standard_comp_to_omission_D2_s...   \n",
       "\n",
       "                                        session_path  \\\n",
       "0  /scratch/back_up/reward_competition_extention/...   \n",
       "1  /scratch/back_up/reward_competition_extention/...   \n",
       "2  /scratch/back_up/reward_competition_extention/...   \n",
       "3  /scratch/back_up/reward_competition_extention/...   \n",
       "4  /scratch/back_up/reward_competition_extention/...   \n",
       "\n",
       "                                           recording current_subject subject  \\\n",
       "0  20230617_115521_standard_comp_to_omission_D1_s...             1.1     1.1   \n",
       "1  20230617_115521_standard_comp_to_omission_D1_s...             1.1     1.1   \n",
       "2  20230617_115521_standard_comp_to_omission_D1_s...             1.2     1.2   \n",
       "3  20230617_115521_standard_comp_to_omission_D1_s...             1.2     1.2   \n",
       "4  20230618_100636_standard_comp_to_omission_D2_s...             1.1     1.1   \n",
       "\n",
       "   ...                                    agent_locations  \\\n",
       "0  ...                                                NaN   \n",
       "1  ...  [[[40.039741738777444, 9.47029992556593], [42....   \n",
       "2  ...  [[[57.86163468579171, 31.554562356382696], [59...   \n",
       "3  ...                                                NaN   \n",
       "4  ...  [[[31.37122566669405, 31.1085619584881], [33.5...   \n",
       "\n",
       "                             subject_thorax_velocity  \\\n",
       "0  [14.84, 13.97, 13.13, 12.32, 11.54, 10.78, 10....   \n",
       "1  [8.96, 8.195, 7.54, 7.004, 6.605, 6.348, 6.227...   \n",
       "2  [11.19, 10.55, 9.92, 9.31, 8.734, 8.18, 7.64, ...   \n",
       "3  [5.184, 4.777, 4.383, 4.0, 3.629, 3.271, 2.926...   \n",
       "4  [1.143, 1.143, 1.142, 1.139, 1.135, 1.129, 1.1...   \n",
       "\n",
       "                               agent_thorax_velocity  \\\n",
       "0                                                NaN   \n",
       "1  [11.19, 10.55, 9.92, 9.31, 8.734, 8.18, 7.64, ...   \n",
       "2  [8.96, 8.195, 7.54, 7.004, 6.605, 6.348, 6.227...   \n",
       "3                                                NaN   \n",
       "4  [0.6333, 0.5635, 0.4963, 0.4321, 0.3713, 0.313...   \n",
       "\n",
       "                       subject_thorax_to_reward_port  \\\n",
       "0  [25.6, 25.84, 25.86, 25.86, 25.86, 25.86, 25.8...   \n",
       "1  [11.19, 11.234, 11.73, 12.34, 12.56, 13.58, 13...   \n",
       "2  [25.6, 25.84, 25.86, 25.86, 25.86, 25.86, 25.8...   \n",
       "3  [6.223, 6.227, 6.234, 6.24, 6.203, 6.2, 6.203,...   \n",
       "4  [5.727, 5.91, 5.93, 5.965, 5.99, 5.992, 6.355,...   \n",
       "\n",
       "                         agent_thorax_to_reward_port  \\\n",
       "0                                                NaN   \n",
       "1  [25.6, 25.84, 25.86, 25.86, 25.86, 25.86, 25.8...   \n",
       "2  [11.19, 11.234, 11.73, 12.34, 12.56, 13.58, 13...   \n",
       "3                                                NaN   \n",
       "4  [13.75, 14.18, 13.734, 13.74, 13.76, 13.84, 13...   \n",
       "\n",
       "                                      recording_name  \\\n",
       "0  20230617_115521_standard_comp_to_omission_D1_s...   \n",
       "1  20230617_115521_standard_comp_to_omission_D1_s...   \n",
       "2  20230617_115521_standard_comp_to_omission_D1_s...   \n",
       "3  20230617_115521_standard_comp_to_omission_D1_s...   \n",
       "4  20230618_100636_standard_comp_to_omission_D2_s...   \n",
       "\n",
       "                                      spike_clusters  \\\n",
       "0  [3, 4, 5, 6, 17, 28, 29, 39, 48, 52, 53, 54, 5...   \n",
       "1  [3, 4, 5, 6, 17, 28, 29, 39, 48, 52, 53, 54, 5...   \n",
       "2  [16, 17, 20, 25, 26, 34, 35, 39, 40, 42, 43, 4...   \n",
       "3  [16, 17, 20, 25, 26, 34, 35, 39, 40, 42, 43, 4...   \n",
       "4  [7, 11, 12, 48, 50, 51, 61, 64, 76, 84, 90, 98...   \n",
       "\n",
       "                                         spike_times  \\\n",
       "0  [[673223.0, 2367433.0, 2569212.0, 3969647.0, 3...   \n",
       "1  [[673223.0, 2367433.0, 2569212.0, 3969647.0, 3...   \n",
       "2  [[958.0, 5233.0, 6331.0, 7475.0, 8599.0, 10550...   \n",
       "3  [[958.0, 5233.0, 6331.0, 7475.0, 8599.0, 10550...   \n",
       "4  [[506.0, 1419.0, 2358.0, 5104.0, 6785.0, 7620....   \n",
       "\n",
       "                                   neuron_average_fr  \\\n",
       "0  [[0.0, 0.0, 0.0, 0.0, 0.0, 0.0, 0.0, 0.0, 0.0,...   \n",
       "1  [[0.0, 0.0, 0.0, 0.0, 0.0, 0.0, 0.0, 0.0, 0.0,...   \n",
       "2  [[1.0, 0.0, 1.0, 2.0, 1.0, 1.0, 0.0, 0.0, 0.0,...   \n",
       "3  [[1.0, 0.0, 1.0, 2.0, 1.0, 1.0, 0.0, 0.0, 0.0,...   \n",
       "4  [[2.0, 1.0, 1.0, 2.0, 1.0, 0.0, 3.0, 0.0, 1.0,...   \n",
       "\n",
       "                           neuron_average_timestamps  \n",
       "0  [0, 2000, 4000, 6000, 8000, 10000, 12000, 1400...  \n",
       "1  [0, 2000, 4000, 6000, 8000, 10000, 12000, 1400...  \n",
       "2  [0, 2000, 4000, 6000, 8000, 10000, 12000, 1400...  \n",
       "3  [0, 2000, 4000, 6000, 8000, 10000, 12000, 1400...  \n",
       "4  [0, 2000, 4000, 6000, 8000, 10000, 12000, 1400...  \n",
       "\n",
       "[5 rows x 158 columns]"
      ]
     },
     "execution_count": 13,
     "metadata": {},
     "output_type": "execute_result"
    }
   ],
   "source": [
    "LFP_SPECTRAL_SLEAP_SPIKE_DF.head()"
   ]
  },
  {
   "cell_type": "markdown",
   "metadata": {},
   "source": [
    "## Metadata"
   ]
  },
  {
   "cell_type": "markdown",
   "metadata": {},
   "source": [
    "- `cohort`:\n",
    "- `session_dir`:\n",
    "- `tone_frames`:\n",
    "- `box_1_port_entry_frames`:\n",
    "- `box_2_port_entry_frames`:\n",
    "- `video_name`:\n",
    "- `session_path`:\n",
    "- `recording`:\n",
    "- `current_subject`:\n",
    "- `subject`:\n",
    "- `all_subjects`:\n",
    "- `first_timestamp`:\n",
    "- `last_timestamp`:\n",
    "- `video_timestamps`:\n",
    "- `tone_timestamps`:\n",
    "- `box_1_port_entry_timestamps`:\n",
    "- `box_2_port_entry_timestamps`:"
   ]
  },
  {
   "cell_type": "markdown",
   "metadata": {},
   "source": [
    "## Z-scored local field potential values at 1000Hz\n",
    "- http://www.scholarpedia.org/article/Local_field_potential\n",
    "- `lfp_timestamps`:\n",
    "- `mPFC_lfp_trace`:\n",
    "- `MD_lfp_trace`:\n",
    "- `LH_lfp_trace`:\n",
    "- `BLA_lfp_trace`:\n",
    "- `vHPC_lfp_trace`:"
   ]
  },
  {
   "cell_type": "code",
   "execution_count": 14,
   "metadata": {
    "tags": []
   },
   "outputs": [
    {
     "data": {
      "text/plain": [
       "array([0.07367, 0.1105 , 0.19   , ..., 0.1163 , 0.3489 , 0.2732 ],\n",
       "      dtype=float16)"
      ]
     },
     "execution_count": 14,
     "metadata": {},
     "output_type": "execute_result"
    }
   ],
   "source": [
    "LFP_SPECTRAL_SLEAP_SPIKE_DF[\"mPFC_lfp_trace\"].iloc[0]"
   ]
  },
  {
   "cell_type": "code",
   "execution_count": 15,
   "metadata": {
    "tags": []
   },
   "outputs": [
    {
     "data": {
      "text/plain": [
       "array([       0,       20,       40, ..., 79697440, 79697460, 79697480],\n",
       "      dtype=int32)"
      ]
     },
     "execution_count": 15,
     "metadata": {},
     "output_type": "execute_result"
    }
   ],
   "source": [
    "LFP_SPECTRAL_SLEAP_SPIKE_DF[\"lfp_timestamps\"].iloc[0]"
   ]
  },
  {
   "cell_type": "code",
   "execution_count": 16,
   "metadata": {
    "tags": []
   },
   "outputs": [
    {
     "data": {
      "text/plain": [
       "(3984875,)"
      ]
     },
     "execution_count": 16,
     "metadata": {},
     "output_type": "execute_result"
    }
   ],
   "source": [
    "LFP_SPECTRAL_SLEAP_SPIKE_DF[\"mPFC_lfp_trace\"].iloc[0].shape"
   ]
  },
  {
   "cell_type": "markdown",
   "metadata": {
    "tags": []
   },
   "source": [
    "## Power spectra \n",
    "- Calculated with: https://spectral-connectivity.readthedocs.io/en/latest/examples/Intro_tutorial.html\n",
    "- https://www.youtube.com/watch?v=Gka11q5VfFI\n",
    "- 1 second window with 0.5 second window slides\n",
    "- 1 Hz resolution(0 to 500Hz)\n",
    "- `mPFC_power_all_frequencies_all_windows`:\n",
    "- `MD_power_all_frequencies_all_windows`:\n",
    "- `LH_power_all_frequencies_all_windows`:\n",
    "- `BLA_power_all_frequencies_all_windows`:\n",
    "- `vHPC_power_all_frequencies_all_windows`:\n",
    "- `power_timestamps`:\n",
    "- `power_calculation_frequencies`:"
   ]
  },
  {
   "cell_type": "code",
   "execution_count": 17,
   "metadata": {
    "tags": []
   },
   "outputs": [
    {
     "data": {
      "text/plain": [
       "array([[2.3697e-02, 1.2840e-02, 2.6825e-02, ..., 0.0000e+00, 0.0000e+00,\n",
       "        0.0000e+00],\n",
       "       [6.6605e-03, 1.1192e-02, 3.7811e-02, ..., 1.7881e-07, 1.7881e-07,\n",
       "        1.7881e-07],\n",
       "       [2.3636e-02, 1.2474e-02, 1.3771e-02, ..., 0.0000e+00, 0.0000e+00,\n",
       "        0.0000e+00],\n",
       "       ...,\n",
       "       [5.7404e-02, 3.0060e-02, 4.3427e-02, ..., 5.9605e-08, 5.9605e-08,\n",
       "        5.9605e-08],\n",
       "       [1.6953e-02, 1.7670e-02, 2.6306e-02, ..., 0.0000e+00, 0.0000e+00,\n",
       "        0.0000e+00],\n",
       "       [5.0011e-03, 1.8860e-02, 2.3788e-02, ..., 0.0000e+00, 0.0000e+00,\n",
       "        0.0000e+00]], dtype=float16)"
      ]
     },
     "execution_count": 17,
     "metadata": {},
     "output_type": "execute_result"
    }
   ],
   "source": [
    "LFP_SPECTRAL_SLEAP_SPIKE_DF[\"mPFC_power_all_frequencies_all_windows\"].iloc[0]"
   ]
  },
  {
   "cell_type": "code",
   "execution_count": 18,
   "metadata": {
    "tags": []
   },
   "outputs": [
    {
     "data": {
      "text/plain": [
       "(7968, 500)"
      ]
     },
     "execution_count": 18,
     "metadata": {},
     "output_type": "execute_result"
    }
   ],
   "source": [
    "LFP_SPECTRAL_SLEAP_SPIKE_DF[\"mPFC_power_all_frequencies_all_windows\"].iloc[0].shape"
   ]
  },
  {
   "cell_type": "code",
   "execution_count": 19,
   "metadata": {
    "tags": []
   },
   "outputs": [
    {
     "data": {
      "text/plain": [
       "array([  0.,   1.,   2.,   3.,   4.,   5.,   6.,   7.,   8.,   9.,  10.,\n",
       "        11.,  12.,  13.,  14.,  15.,  16.,  17.,  18.,  19.,  20.,  21.,\n",
       "        22.,  23.,  24.,  25.,  26.,  27.,  28.,  29.,  30.,  31.,  32.,\n",
       "        33.,  34.,  35.,  36.,  37.,  38.,  39.,  40.,  41.,  42.,  43.,\n",
       "        44.,  45.,  46.,  47.,  48.,  49.,  50.,  51.,  52.,  53.,  54.,\n",
       "        55.,  56.,  57.,  58.,  59.,  60.,  61.,  62.,  63.,  64.,  65.,\n",
       "        66.,  67.,  68.,  69.,  70.,  71.,  72.,  73.,  74.,  75.,  76.,\n",
       "        77.,  78.,  79.,  80.,  81.,  82.,  83.,  84.,  85.,  86.,  87.,\n",
       "        88.,  89.,  90.,  91.,  92.,  93.,  94.,  95.,  96.,  97.,  98.,\n",
       "        99., 100., 101., 102., 103., 104., 105., 106., 107., 108., 109.,\n",
       "       110., 111., 112., 113., 114., 115., 116., 117., 118., 119., 120.,\n",
       "       121., 122., 123., 124., 125., 126., 127., 128., 129., 130., 131.,\n",
       "       132., 133., 134., 135., 136., 137., 138., 139., 140., 141., 142.,\n",
       "       143., 144., 145., 146., 147., 148., 149., 150., 151., 152., 153.,\n",
       "       154., 155., 156., 157., 158., 159., 160., 161., 162., 163., 164.,\n",
       "       165., 166., 167., 168., 169., 170., 171., 172., 173., 174., 175.,\n",
       "       176., 177., 178., 179., 180., 181., 182., 183., 184., 185., 186.,\n",
       "       187., 188., 189., 190., 191., 192., 193., 194., 195., 196., 197.,\n",
       "       198., 199., 200., 201., 202., 203., 204., 205., 206., 207., 208.,\n",
       "       209., 210., 211., 212., 213., 214., 215., 216., 217., 218., 219.,\n",
       "       220., 221., 222., 223., 224., 225., 226., 227., 228., 229., 230.,\n",
       "       231., 232., 233., 234., 235., 236., 237., 238., 239., 240., 241.,\n",
       "       242., 243., 244., 245., 246., 247., 248., 249., 250., 251., 252.,\n",
       "       253., 254., 255., 256., 257., 258., 259., 260., 261., 262., 263.,\n",
       "       264., 265., 266., 267., 268., 269., 270., 271., 272., 273., 274.,\n",
       "       275., 276., 277., 278., 279., 280., 281., 282., 283., 284., 285.,\n",
       "       286., 287., 288., 289., 290., 291., 292., 293., 294., 295., 296.,\n",
       "       297., 298., 299., 300., 301., 302., 303., 304., 305., 306., 307.,\n",
       "       308., 309., 310., 311., 312., 313., 314., 315., 316., 317., 318.,\n",
       "       319., 320., 321., 322., 323., 324., 325., 326., 327., 328., 329.,\n",
       "       330., 331., 332., 333., 334., 335., 336., 337., 338., 339., 340.,\n",
       "       341., 342., 343., 344., 345., 346., 347., 348., 349., 350., 351.,\n",
       "       352., 353., 354., 355., 356., 357., 358., 359., 360., 361., 362.,\n",
       "       363., 364., 365., 366., 367., 368., 369., 370., 371., 372., 373.,\n",
       "       374., 375., 376., 377., 378., 379., 380., 381., 382., 383., 384.,\n",
       "       385., 386., 387., 388., 389., 390., 391., 392., 393., 394., 395.,\n",
       "       396., 397., 398., 399., 400., 401., 402., 403., 404., 405., 406.,\n",
       "       407., 408., 409., 410., 411., 412., 413., 414., 415., 416., 417.,\n",
       "       418., 419., 420., 421., 422., 423., 424., 425., 426., 427., 428.,\n",
       "       429., 430., 431., 432., 433., 434., 435., 436., 437., 438., 439.,\n",
       "       440., 441., 442., 443., 444., 445., 446., 447., 448., 449., 450.,\n",
       "       451., 452., 453., 454., 455., 456., 457., 458., 459., 460., 461.,\n",
       "       462., 463., 464., 465., 466., 467., 468., 469., 470., 471., 472.,\n",
       "       473., 474., 475., 476., 477., 478., 479., 480., 481., 482., 483.,\n",
       "       484., 485., 486., 487., 488., 489., 490., 491., 492., 493., 494.,\n",
       "       495., 496., 497., 498., 499.])"
      ]
     },
     "execution_count": 19,
     "metadata": {},
     "output_type": "execute_result"
    }
   ],
   "source": [
    "LFP_SPECTRAL_SLEAP_SPIKE_DF[\"power_calculation_frequencies\"].iloc[0]"
   ]
  },
  {
   "cell_type": "code",
   "execution_count": 20,
   "metadata": {
    "tags": []
   },
   "outputs": [
    {
     "data": {
      "text/plain": [
       "array([   10000,    20000,    30000, ..., 79660000, 79670000, 79680000],\n",
       "      dtype=int32)"
      ]
     },
     "execution_count": 20,
     "metadata": {},
     "output_type": "execute_result"
    }
   ],
   "source": [
    "LFP_SPECTRAL_SLEAP_SPIKE_DF[\"power_timestamps\"].iloc[0]"
   ]
  },
  {
   "cell_type": "markdown",
   "metadata": {
    "tags": []
   },
   "source": [
    "## Coherence\n",
    "- Calculated with: https://spectral-connectivity.readthedocs.io/en/latest/examples/Intro_tutorial.html\n",
    "- https://www.youtube.com/watch?v=Gka11q5VfFI\n",
    "- 1 second window with 0.5 second window slides\n",
    "- 1 Hz resolution\n",
    "- `BLA_LH_coherence_all_frequencies_all_windows`:\n",
    "- `BLA_MD_coherence_all_frequencies_all_windows`:\n",
    "- `BLA_mPFC_coherence_all_frequencies_all_windows`:\n",
    "- `BLA_vHPC_coherence_all_frequencies_all_windows`:\n",
    "- `LH_MD_coherence_all_frequencies_all_windows`:\n",
    "- `LH_mPFC_coherence_all_frequencies_all_windows`:\n",
    "- `LH_vHPC_coherence_all_frequencies_all_windows`:\n",
    "- `MD_mPFC_coherence_all_frequencies_all_windows`:\n",
    "- `MD_vHPC_coherence_all_frequencies_all_windows`:\n",
    "- `mPFC_vHPC_coherence_all_frequencies_all_windows`:\n",
    "- `coherence_timestamps`:\n",
    "- `coherence_calculation_frequencies`:"
   ]
  },
  {
   "cell_type": "code",
   "execution_count": 21,
   "metadata": {
    "tags": []
   },
   "outputs": [
    {
     "data": {
      "text/plain": [
       "array([[0.116   , 0.34    , 0.4612  , ..., 0.8477  , 0.08636 , 0.496   ],\n",
       "       [0.014435, 0.7935  , 0.866   , ..., 0.998   , 0.996   , 0.9927  ],\n",
       "       [0.8755  , 0.827   , 0.888   , ..., 0.9795  , 0.995   , 0.9683  ],\n",
       "       ...,\n",
       "       [0.771   , 0.5415  , 0.6123  , ..., 0.9644  , 0.9336  , 0.966   ],\n",
       "       [0.01491 , 0.9106  , 0.54    , ..., 0.8267  , 0.8633  , 0.907   ],\n",
       "       [0.6284  , 0.8496  , 0.783   , ..., 0.955   , 0.951   , 0.9497  ]],\n",
       "      dtype=float16)"
      ]
     },
     "execution_count": 21,
     "metadata": {},
     "output_type": "execute_result"
    }
   ],
   "source": [
    "LFP_SPECTRAL_SLEAP_SPIKE_DF[\"BLA_LH_coherence_all_frequencies_all_windows\"].iloc[0]"
   ]
  },
  {
   "cell_type": "code",
   "execution_count": 22,
   "metadata": {
    "tags": []
   },
   "outputs": [
    {
     "data": {
      "text/plain": [
       "(7968, 500)"
      ]
     },
     "execution_count": 22,
     "metadata": {},
     "output_type": "execute_result"
    }
   ],
   "source": [
    "LFP_SPECTRAL_SLEAP_SPIKE_DF[\"BLA_LH_coherence_all_frequencies_all_windows\"].iloc[0].shape"
   ]
  },
  {
   "cell_type": "code",
   "execution_count": 23,
   "metadata": {
    "tags": []
   },
   "outputs": [
    {
     "data": {
      "text/plain": [
       "array([  0.,   1.,   2.,   3.,   4.,   5.,   6.,   7.,   8.,   9.,  10.,\n",
       "        11.,  12.,  13.,  14.,  15.,  16.,  17.,  18.,  19.,  20.,  21.,\n",
       "        22.,  23.,  24.,  25.,  26.,  27.,  28.,  29.,  30.,  31.,  32.,\n",
       "        33.,  34.,  35.,  36.,  37.,  38.,  39.,  40.,  41.,  42.,  43.,\n",
       "        44.,  45.,  46.,  47.,  48.,  49.,  50.,  51.,  52.,  53.,  54.,\n",
       "        55.,  56.,  57.,  58.,  59.,  60.,  61.,  62.,  63.,  64.,  65.,\n",
       "        66.,  67.,  68.,  69.,  70.,  71.,  72.,  73.,  74.,  75.,  76.,\n",
       "        77.,  78.,  79.,  80.,  81.,  82.,  83.,  84.,  85.,  86.,  87.,\n",
       "        88.,  89.,  90.,  91.,  92.,  93.,  94.,  95.,  96.,  97.,  98.,\n",
       "        99., 100., 101., 102., 103., 104., 105., 106., 107., 108., 109.,\n",
       "       110., 111., 112., 113., 114., 115., 116., 117., 118., 119., 120.,\n",
       "       121., 122., 123., 124., 125., 126., 127., 128., 129., 130., 131.,\n",
       "       132., 133., 134., 135., 136., 137., 138., 139., 140., 141., 142.,\n",
       "       143., 144., 145., 146., 147., 148., 149., 150., 151., 152., 153.,\n",
       "       154., 155., 156., 157., 158., 159., 160., 161., 162., 163., 164.,\n",
       "       165., 166., 167., 168., 169., 170., 171., 172., 173., 174., 175.,\n",
       "       176., 177., 178., 179., 180., 181., 182., 183., 184., 185., 186.,\n",
       "       187., 188., 189., 190., 191., 192., 193., 194., 195., 196., 197.,\n",
       "       198., 199., 200., 201., 202., 203., 204., 205., 206., 207., 208.,\n",
       "       209., 210., 211., 212., 213., 214., 215., 216., 217., 218., 219.,\n",
       "       220., 221., 222., 223., 224., 225., 226., 227., 228., 229., 230.,\n",
       "       231., 232., 233., 234., 235., 236., 237., 238., 239., 240., 241.,\n",
       "       242., 243., 244., 245., 246., 247., 248., 249., 250., 251., 252.,\n",
       "       253., 254., 255., 256., 257., 258., 259., 260., 261., 262., 263.,\n",
       "       264., 265., 266., 267., 268., 269., 270., 271., 272., 273., 274.,\n",
       "       275., 276., 277., 278., 279., 280., 281., 282., 283., 284., 285.,\n",
       "       286., 287., 288., 289., 290., 291., 292., 293., 294., 295., 296.,\n",
       "       297., 298., 299., 300., 301., 302., 303., 304., 305., 306., 307.,\n",
       "       308., 309., 310., 311., 312., 313., 314., 315., 316., 317., 318.,\n",
       "       319., 320., 321., 322., 323., 324., 325., 326., 327., 328., 329.,\n",
       "       330., 331., 332., 333., 334., 335., 336., 337., 338., 339., 340.,\n",
       "       341., 342., 343., 344., 345., 346., 347., 348., 349., 350., 351.,\n",
       "       352., 353., 354., 355., 356., 357., 358., 359., 360., 361., 362.,\n",
       "       363., 364., 365., 366., 367., 368., 369., 370., 371., 372., 373.,\n",
       "       374., 375., 376., 377., 378., 379., 380., 381., 382., 383., 384.,\n",
       "       385., 386., 387., 388., 389., 390., 391., 392., 393., 394., 395.,\n",
       "       396., 397., 398., 399., 400., 401., 402., 403., 404., 405., 406.,\n",
       "       407., 408., 409., 410., 411., 412., 413., 414., 415., 416., 417.,\n",
       "       418., 419., 420., 421., 422., 423., 424., 425., 426., 427., 428.,\n",
       "       429., 430., 431., 432., 433., 434., 435., 436., 437., 438., 439.,\n",
       "       440., 441., 442., 443., 444., 445., 446., 447., 448., 449., 450.,\n",
       "       451., 452., 453., 454., 455., 456., 457., 458., 459., 460., 461.,\n",
       "       462., 463., 464., 465., 466., 467., 468., 469., 470., 471., 472.,\n",
       "       473., 474., 475., 476., 477., 478., 479., 480., 481., 482., 483.,\n",
       "       484., 485., 486., 487., 488., 489., 490., 491., 492., 493., 494.,\n",
       "       495., 496., 497., 498., 499.])"
      ]
     },
     "execution_count": 23,
     "metadata": {},
     "output_type": "execute_result"
    }
   ],
   "source": [
    "LFP_SPECTRAL_SLEAP_SPIKE_DF[\"coherence_calculation_frequencies\"].iloc[0]"
   ]
  },
  {
   "cell_type": "code",
   "execution_count": 24,
   "metadata": {
    "tags": []
   },
   "outputs": [
    {
     "data": {
      "text/plain": [
       "array([   10000,    20000,    30000, ..., 79660000, 79670000, 79680000],\n",
       "      dtype=int32)"
      ]
     },
     "execution_count": 24,
     "metadata": {},
     "output_type": "execute_result"
    }
   ],
   "source": [
    "LFP_SPECTRAL_SLEAP_SPIKE_DF[\"coherence_timestamps\"].iloc[0]"
   ]
  },
  {
   "cell_type": "markdown",
   "metadata": {},
   "source": [
    "Granger's causality\n",
    "- Calculated with: https://spectral-connectivity.readthedocs.io/en/latest/examples/Intro_tutorial.html\n",
    "- https://www.youtube.com/watch?v=Gka11q5VfFI\n",
    "- 1 second window with 0.5 second window slides\n",
    "- 1 Hz resolution\n",
    "- `BLA_LH_granger_all_frequencies_all_windows`:\n",
    "- `LH_BLA_granger_all_frequencies_all_windows`:\n",
    "- `BLA_MD_granger_all_frequencies_all_windows`:\n",
    "- `MD_BLA_granger_all_frequencies_all_windows`:\n",
    "- `BLA_mPFC_granger_all_frequencies_all_windows`:\n",
    "- `mPFC_BLA_granger_all_frequencies_all_windows`:\n",
    "- `BLA_vHPC_granger_all_frequencies_all_windows`:\n",
    "- `vHPC_BLA_granger_all_frequencies_all_windows`:\n",
    "- `LH_MD_granger_all_frequencies_all_windows`:\n",
    "- `MD_LH_granger_all_frequencies_all_windows`:\n",
    "- `LH_mPFC_granger_all_frequencies_all_windows`:\n",
    "- `mPFC_LH_granger_all_frequencies_all_windows`:\n",
    "- `LH_vHPC_granger_all_frequencies_all_windows`:\n",
    "- `vHPC_LH_granger_all_frequencies_all_windows`:\n",
    "- `MD_mPFC_granger_all_frequencies_all_windows`:\n",
    "- `mPFC_MD_granger_all_frequencies_all_windows`:\n",
    "- `MD_vHPC_granger_all_frequencies_all_windows`:\n",
    "- `vHPC_MD_granger_all_frequencies_all_windows`:\n",
    "- `mPFC_vHPC_granger_all_frequencies_all_windows`:\n",
    "- `vHPC_mPFC_granger_all_frequencies_all_windows`:\n",
    "- `granger_timestamps`:\n",
    "- `granger_calculation_frequencies`:\n",
    "\n"
   ]
  },
  {
   "cell_type": "code",
   "execution_count": 25,
   "metadata": {
    "tags": []
   },
   "outputs": [
    {
     "data": {
      "text/plain": [
       "array([[0.116   , 0.34    , 0.4612  , ..., 0.8477  , 0.08636 , 0.496   ],\n",
       "       [0.014435, 0.7935  , 0.866   , ..., 0.998   , 0.996   , 0.9927  ],\n",
       "       [0.8755  , 0.827   , 0.888   , ..., 0.9795  , 0.995   , 0.9683  ],\n",
       "       ...,\n",
       "       [0.771   , 0.5415  , 0.6123  , ..., 0.9644  , 0.9336  , 0.966   ],\n",
       "       [0.01491 , 0.9106  , 0.54    , ..., 0.8267  , 0.8633  , 0.907   ],\n",
       "       [0.6284  , 0.8496  , 0.783   , ..., 0.955   , 0.951   , 0.9497  ]],\n",
       "      dtype=float16)"
      ]
     },
     "execution_count": 25,
     "metadata": {},
     "output_type": "execute_result"
    }
   ],
   "source": [
    "LFP_SPECTRAL_SLEAP_SPIKE_DF[\"BLA_LH_coherence_all_frequencies_all_windows\"].iloc[0]"
   ]
  },
  {
   "cell_type": "code",
   "execution_count": 26,
   "metadata": {
    "tags": []
   },
   "outputs": [
    {
     "data": {
      "text/plain": [
       "(7968, 500)"
      ]
     },
     "execution_count": 26,
     "metadata": {},
     "output_type": "execute_result"
    }
   ],
   "source": [
    "LFP_SPECTRAL_SLEAP_SPIKE_DF[\"BLA_LH_coherence_all_frequencies_all_windows\"].iloc[0].shape"
   ]
  },
  {
   "cell_type": "code",
   "execution_count": 27,
   "metadata": {
    "tags": []
   },
   "outputs": [
    {
     "data": {
      "text/plain": [
       "array([  0.,   1.,   2.,   3.,   4.,   5.,   6.,   7.,   8.,   9.,  10.,\n",
       "        11.,  12.,  13.,  14.,  15.,  16.,  17.,  18.,  19.,  20.,  21.,\n",
       "        22.,  23.,  24.,  25.,  26.,  27.,  28.,  29.,  30.,  31.,  32.,\n",
       "        33.,  34.,  35.,  36.,  37.,  38.,  39.,  40.,  41.,  42.,  43.,\n",
       "        44.,  45.,  46.,  47.,  48.,  49.,  50.,  51.,  52.,  53.,  54.,\n",
       "        55.,  56.,  57.,  58.,  59.,  60.,  61.,  62.,  63.,  64.,  65.,\n",
       "        66.,  67.,  68.,  69.,  70.,  71.,  72.,  73.,  74.,  75.,  76.,\n",
       "        77.,  78.,  79.,  80.,  81.,  82.,  83.,  84.,  85.,  86.,  87.,\n",
       "        88.,  89.,  90.,  91.,  92.,  93.,  94.,  95.,  96.,  97.,  98.,\n",
       "        99., 100., 101., 102., 103., 104., 105., 106., 107., 108., 109.,\n",
       "       110., 111., 112., 113., 114., 115., 116., 117., 118., 119., 120.,\n",
       "       121., 122., 123., 124., 125., 126., 127., 128., 129., 130., 131.,\n",
       "       132., 133., 134., 135., 136., 137., 138., 139., 140., 141., 142.,\n",
       "       143., 144., 145., 146., 147., 148., 149., 150., 151., 152., 153.,\n",
       "       154., 155., 156., 157., 158., 159., 160., 161., 162., 163., 164.,\n",
       "       165., 166., 167., 168., 169., 170., 171., 172., 173., 174., 175.,\n",
       "       176., 177., 178., 179., 180., 181., 182., 183., 184., 185., 186.,\n",
       "       187., 188., 189., 190., 191., 192., 193., 194., 195., 196., 197.,\n",
       "       198., 199., 200., 201., 202., 203., 204., 205., 206., 207., 208.,\n",
       "       209., 210., 211., 212., 213., 214., 215., 216., 217., 218., 219.,\n",
       "       220., 221., 222., 223., 224., 225., 226., 227., 228., 229., 230.,\n",
       "       231., 232., 233., 234., 235., 236., 237., 238., 239., 240., 241.,\n",
       "       242., 243., 244., 245., 246., 247., 248., 249., 250., 251., 252.,\n",
       "       253., 254., 255., 256., 257., 258., 259., 260., 261., 262., 263.,\n",
       "       264., 265., 266., 267., 268., 269., 270., 271., 272., 273., 274.,\n",
       "       275., 276., 277., 278., 279., 280., 281., 282., 283., 284., 285.,\n",
       "       286., 287., 288., 289., 290., 291., 292., 293., 294., 295., 296.,\n",
       "       297., 298., 299., 300., 301., 302., 303., 304., 305., 306., 307.,\n",
       "       308., 309., 310., 311., 312., 313., 314., 315., 316., 317., 318.,\n",
       "       319., 320., 321., 322., 323., 324., 325., 326., 327., 328., 329.,\n",
       "       330., 331., 332., 333., 334., 335., 336., 337., 338., 339., 340.,\n",
       "       341., 342., 343., 344., 345., 346., 347., 348., 349., 350., 351.,\n",
       "       352., 353., 354., 355., 356., 357., 358., 359., 360., 361., 362.,\n",
       "       363., 364., 365., 366., 367., 368., 369., 370., 371., 372., 373.,\n",
       "       374., 375., 376., 377., 378., 379., 380., 381., 382., 383., 384.,\n",
       "       385., 386., 387., 388., 389., 390., 391., 392., 393., 394., 395.,\n",
       "       396., 397., 398., 399., 400., 401., 402., 403., 404., 405., 406.,\n",
       "       407., 408., 409., 410., 411., 412., 413., 414., 415., 416., 417.,\n",
       "       418., 419., 420., 421., 422., 423., 424., 425., 426., 427., 428.,\n",
       "       429., 430., 431., 432., 433., 434., 435., 436., 437., 438., 439.,\n",
       "       440., 441., 442., 443., 444., 445., 446., 447., 448., 449., 450.,\n",
       "       451., 452., 453., 454., 455., 456., 457., 458., 459., 460., 461.,\n",
       "       462., 463., 464., 465., 466., 467., 468., 469., 470., 471., 472.,\n",
       "       473., 474., 475., 476., 477., 478., 479., 480., 481., 482., 483.,\n",
       "       484., 485., 486., 487., 488., 489., 490., 491., 492., 493., 494.,\n",
       "       495., 496., 497., 498., 499.])"
      ]
     },
     "execution_count": 27,
     "metadata": {},
     "output_type": "execute_result"
    }
   ],
   "source": [
    "LFP_SPECTRAL_SLEAP_SPIKE_DF[\"granger_calculation_frequencies\"].iloc[0]"
   ]
  },
  {
   "cell_type": "code",
   "execution_count": 28,
   "metadata": {
    "tags": []
   },
   "outputs": [
    {
     "data": {
      "text/plain": [
       "array([   10000,    20000,    30000, ..., 79660000, 79670000, 79680000],\n",
       "      dtype=int32)"
      ]
     },
     "execution_count": 28,
     "metadata": {},
     "output_type": "execute_result"
    }
   ],
   "source": [
    "LFP_SPECTRAL_SLEAP_SPIKE_DF[\"granger_timestamps\"].iloc[0]"
   ]
  },
  {
   "cell_type": "markdown",
   "metadata": {
    "tags": []
   },
   "source": [
    "## Theta and Gamma filtered power, cohernce, and Granger's causality\n",
    "- Similar to power, coherence, and Granger's as before but all values in Theta band (4~12Hz) and Gamma (30~50Hz) band have been filtered out and averaged. \n",
    "- `mPFC_power_theta`:\n",
    "- `mPFC_power_gamma`:\n",
    "- `MD_power_theta`:\n",
    "- `MD_power_gamma`:\n",
    "- `LH_power_theta`:\n",
    "- `LH_power_gamma`:\n",
    "- `BLA_power_theta`:\n",
    "- `BLA_power_gamma`:\n",
    "- `vHPC_power_theta`:\n",
    "- `vHPC_power_gamma`:\n",
    "- `BLA_LH_coherence_theta`:\n",
    "- `BLA_LH_coherence_gamma`:\n",
    "- `BLA_MD_coherence_theta`:\n",
    "- `BLA_MD_coherence_gamma`:\n",
    "- `BLA_mPFC_coherence_theta`:\n",
    "- `BLA_mPFC_coherence_gamma`:\n",
    "- `BLA_vHPC_coherence_theta`:\n",
    "- `BLA_vHPC_coherence_gamma`:\n",
    "- `LH_MD_coherence_theta`:\n",
    "- `LH_MD_coherence_gamma`:\n",
    "- `LH_mPFC_coherence_theta`:\n",
    "- `LH_mPFC_coherence_gamma`:\n",
    "- `LH_vHPC_coherence_theta`:\n",
    "- `LH_vHPC_coherence_gamma`:\n",
    "- `MD_mPFC_coherence_theta`:\n",
    "- `MD_mPFC_coherence_gamma`:\n",
    "- `MD_vHPC_coherence_theta`:\n",
    "- `MD_vHPC_coherence_gamma`:\n",
    "- `mPFC_vHPC_coherence_theta`:\n",
    "- `mPFC_vHPC_coherence_gamma`:\n",
    "- `BLA-to-LH_granger_theta`:\n",
    "- `BLA-to-LH_granger_gamma`:\n",
    "- `LH-to-BLA_granger_theta`:\n",
    "- `LH-to-BLA_granger_gamma`:\n",
    "- `BLA-to-MD_granger_theta`:\n",
    "- `BLA-to-MD_granger_gamma`:\n",
    "- `MD-to-BLA_granger_theta`:\n",
    "- `MD-to-BLA_granger_gamma`:\n",
    "- `BLA-to-mPFC_granger_theta`:\n",
    "- `BLA-to-mPFC_granger_gamma`:\n",
    "- `mPFC-to-BLA_granger_theta`:\n",
    "- `mPFC-to-BLA_granger_gamma`:\n",
    "- `BLA-to-vHPC_granger_theta`:\n",
    "- `BLA-to-vHPC_granger_gamma`:\n",
    "- `vHPC-to-BLA_granger_theta`:\n",
    "- `vHPC-to-BLA_granger_gamma`:\n",
    "- `LH-to-MD_granger_theta`:\n",
    "- `LH-to-MD_granger_gamma`:\n",
    "- `MD-to-LH_granger_theta`:\n",
    "- `MD-to-LH_granger_gamma`:\n",
    "- `LH-to-mPFC_granger_theta`:\n",
    "- `LH-to-mPFC_granger_gamma`:\n",
    "- `mPFC-to-LH_granger_theta`:\n",
    "- `mPFC-to-LH_granger_gamma`:\n",
    "- `LH-to-vHPC_granger_theta`:\n",
    "- `LH-to-vHPC_granger_gamma`:\n",
    "- `vHPC-to-LH_granger_theta`:\n",
    "- `vHPC-to-LH_granger_gamma`:\n",
    "- `MD-to-mPFC_granger_theta`:\n",
    "- `MD-to-mPFC_granger_gamma`:\n",
    "- `mPFC-to-MD_granger_theta`:\n",
    "- `mPFC-to-MD_granger_gamma`:\n",
    "- `MD-to-vHPC_granger_theta`:\n",
    "- `MD-to-vHPC_granger_gamma`:\n",
    "- `vHPC-to-MD_granger_theta`:\n",
    "- `vHPC-to-MD_granger_gamma`:\n",
    "- `mPFC-to-vHPC_granger_theta`:\n",
    "- `mPFC-to-vHPC_granger_gamma`:\n",
    "- `vHPC-to-mPFC_granger_theta`:\n",
    "- `vHPC-to-mPFC_granger_gamma`:\n"
   ]
  },
  {
   "cell_type": "code",
   "execution_count": 29,
   "metadata": {
    "tags": []
   },
   "outputs": [
    {
     "data": {
      "text/plain": [
       "array([0.06213 , 0.05728 , 0.04642 , ..., 0.03845 , 0.01386 , 0.007584],\n",
       "      dtype=float16)"
      ]
     },
     "execution_count": 29,
     "metadata": {},
     "output_type": "execute_result"
    }
   ],
   "source": [
    "LFP_SPECTRAL_SLEAP_SPIKE_DF[\"mPFC_power_theta\"].iloc[0]"
   ]
  },
  {
   "cell_type": "code",
   "execution_count": 30,
   "metadata": {
    "tags": []
   },
   "outputs": [
    {
     "data": {
      "text/plain": [
       "(7968,)"
      ]
     },
     "execution_count": 30,
     "metadata": {},
     "output_type": "execute_result"
    }
   ],
   "source": [
    "LFP_SPECTRAL_SLEAP_SPIKE_DF[\"mPFC_power_theta\"].iloc[0].shape"
   ]
  },
  {
   "cell_type": "markdown",
   "metadata": {
    "tags": []
   },
   "source": [
    "## SLEAP pose tracking\n",
    "- Start and stop frame of the video where the subject is in the video\n",
    "    - `start_frame`:\n",
    "    - `stop_frame`:\n",
    "- Subjects that are being pose tracked\n",
    "    - `tracked_subject`:\n",
    "- All subjects in the video\n",
    "    - `in_video_subjects`:\n",
    "- The number of the box that the video was being taken from\n",
    "    - `box_number`:\n",
    "- Name of the sleap file    \n",
    "    - `sleap_name`:\n",
    "- The order of the body parts that are being tracked\n",
    "    - `body_parts`:\n",
    "- Coordinates of the boxes\n",
    "    - `box_top_left`:\n",
    "    - `box_top_right`:\n",
    "    - `reward_port`:\n",
    "    - `box_bottom_left`:\n",
    "    - `box_bottom_right`:\n",
    "- The ID of the agent if there is any\n",
    "    - `agent`:\n",
    "- The pose tracking of the subject and agent. With shapes: `(Frame number, body part, x and y coordinate)`\n",
    "    - `subject_locations`:\n",
    "    - `agent_locations`:\n",
    "- The velocity of the thorax\n",
    "    - `subject_thorax_velocity`:\n",
    "    - `agent_thorax_velocity`:\n",
    "- The distance of the mice from the reward port\n",
    "    - `subject_thorax_to_reward_port`:\n",
    "    - `agent_thorax_to_reward_port`:\n",
    "    - `recording_name`:\n"
   ]
  },
  {
   "cell_type": "code",
   "execution_count": 31,
   "metadata": {
    "tags": []
   },
   "outputs": [
    {
     "data": {
      "text/plain": [
       "['left_ear', 'right_ear', 'nose', 'tail_base', 'thorax', 'forehead']"
      ]
     },
     "execution_count": 31,
     "metadata": {},
     "output_type": "execute_result"
    }
   ],
   "source": [
    "LFP_SPECTRAL_SLEAP_SPIKE_DF[\"body_parts\"].iloc[0]"
   ]
  },
  {
   "cell_type": "code",
   "execution_count": 32,
   "metadata": {
    "tags": []
   },
   "outputs": [
    {
     "data": {
      "text/plain": [
       "(79051, 6, 2)"
      ]
     },
     "execution_count": 32,
     "metadata": {},
     "output_type": "execute_result"
    }
   ],
   "source": [
    "LFP_SPECTRAL_SLEAP_SPIKE_DF[\"subject_locations\"].iloc[0].shape"
   ]
  },
  {
   "cell_type": "code",
   "execution_count": 33,
   "metadata": {
    "tags": []
   },
   "outputs": [
    {
     "data": {
      "text/plain": [
       "array([[[40.03974174,  9.47029993],\n",
       "        [42.2344355 , 11.20484943],\n",
       "        [43.33928086, 10.15233036],\n",
       "        [35.02387486, 14.44690443],\n",
       "        [37.69112909, 11.92069805],\n",
       "        [42.23403293, 10.15560326]],\n",
       "\n",
       "       [[40.05277666,  9.44590655],\n",
       "        [42.26265383, 11.18930935],\n",
       "        [43.33545005, 10.11239413],\n",
       "        [35.00913006, 14.1712644 ],\n",
       "        [37.71427922, 11.64648991],\n",
       "        [42.22566787, 10.13336395]],\n",
       "\n",
       "       [[40.0431276 ,  9.43675057],\n",
       "        [42.25591601, 11.18617742],\n",
       "        [43.33997583, 10.12077335],\n",
       "        [35.00047895, 14.16977998],\n",
       "        [37.71065605, 11.63882733],\n",
       "        [42.23404141, 10.12650094]],\n",
       "\n",
       "       [[40.03724154,  9.44154797],\n",
       "        [42.24636441, 11.18527143],\n",
       "        [43.31990222, 10.11965728],\n",
       "        [35.01566659, 14.17604522],\n",
       "        [37.70388009, 11.6418321 ],\n",
       "        [42.21804862, 10.12763498]],\n",
       "\n",
       "       [[40.05512007,  9.45033354],\n",
       "        [42.2531785 , 11.20581486],\n",
       "        [43.37004175, 10.15311541],\n",
       "        [35.01666031, 14.17392226],\n",
       "        [37.68245892, 11.64553209],\n",
       "        [42.26314539, 10.13926016]]])"
      ]
     },
     "execution_count": 33,
     "metadata": {},
     "output_type": "execute_result"
    }
   ],
   "source": [
    "LFP_SPECTRAL_SLEAP_SPIKE_DF[\"subject_locations\"].iloc[0][:5]"
   ]
  },
  {
   "cell_type": "markdown",
   "metadata": {},
   "source": [
    "## Spikes\n",
    "- The ID of each unit/neuron\n",
    "    - `spike_clusters`:\n",
    "- The times that each spike fired for each neuron. Each row is a neuron and a `-1` timestamp is to pad the Numpy array and is not a spike time.\n",
    "    - `spike_times`:\n",
    "- The firing rate averaged\n",
    "    - `neuron_average_fr`:\n",
    "- The timestamps of the neuron firing rate averages \n",
    "    - `neuron_average_timestamps`:"
   ]
  },
  {
   "cell_type": "code",
   "execution_count": 34,
   "metadata": {
    "tags": []
   },
   "outputs": [
    {
     "data": {
      "text/plain": [
       "[3, 4, 5, 6, 17, 28, 29, 39, 48, 52, 53, 54, 59, 60, 74, 78, 79, 80]"
      ]
     },
     "execution_count": 34,
     "metadata": {},
     "output_type": "execute_result"
    }
   ],
   "source": [
    "LFP_SPECTRAL_SLEAP_SPIKE_DF[\"spike_clusters\"].iloc[0]"
   ]
  },
  {
   "cell_type": "code",
   "execution_count": 35,
   "metadata": {
    "tags": []
   },
   "outputs": [
    {
     "data": {
      "text/plain": [
       "18"
      ]
     },
     "execution_count": 35,
     "metadata": {},
     "output_type": "execute_result"
    }
   ],
   "source": [
    "len(LFP_SPECTRAL_SLEAP_SPIKE_DF[\"spike_clusters\"].iloc[0])"
   ]
  },
  {
   "cell_type": "code",
   "execution_count": 36,
   "metadata": {
    "tags": []
   },
   "outputs": [
    {
     "data": {
      "text/plain": [
       "array([[0., 0., 0., ..., 0., 1., 1.],\n",
       "       [1., 1., 1., ..., 0., 0., 0.],\n",
       "       [0., 0., 0., ..., 0., 0., 0.],\n",
       "       ...,\n",
       "       [0., 0., 0., ..., 0., 0., 0.],\n",
       "       [0., 1., 0., ..., 0., 0., 0.],\n",
       "       [0., 0., 0., ..., 0., 0., 0.]])"
      ]
     },
     "execution_count": 36,
     "metadata": {},
     "output_type": "execute_result"
    }
   ],
   "source": [
    "LFP_SPECTRAL_SLEAP_SPIKE_DF[\"neuron_average_fr\"].iloc[0]"
   ]
  },
  {
   "cell_type": "code",
   "execution_count": 37,
   "metadata": {
    "tags": []
   },
   "outputs": [
    {
     "data": {
      "text/plain": [
       "(array([3.1571e+04, 6.4470e+03, 1.3690e+03, 0.0000e+00, 3.1000e+02,\n",
       "        1.1000e+02, 0.0000e+00, 3.2000e+01, 8.0000e+00, 2.0000e+00]),\n",
       " array([0. , 0.7, 1.4, 2.1, 2.8, 3.5, 4.2, 4.9, 5.6, 6.3, 7. ]),\n",
       " <BarContainer object of 10 artists>)"
      ]
     },
     "execution_count": 37,
     "metadata": {},
     "output_type": "execute_result"
    },
    {
     "data": {
      "image/png": "[encoded data removed]",
      "text/plain": [
       "<Figure size 1500x600 with 1 Axes>"
      ]
     },
     "metadata": {},
     "output_type": "display_data"
    }
   ],
   "source": [
    "plt.hist(LFP_SPECTRAL_SLEAP_SPIKE_DF[\"neuron_average_fr\"].iloc[0][0])"
   ]
  },
  {
   "cell_type": "code",
   "execution_count": 38,
   "metadata": {
    "tags": []
   },
   "outputs": [
    {
     "data": {
      "text/plain": [
       "(18, 39849)"
      ]
     },
     "execution_count": 38,
     "metadata": {},
     "output_type": "execute_result"
    }
   ],
   "source": [
    "LFP_SPECTRAL_SLEAP_SPIKE_DF[\"neuron_average_fr\"].iloc[0].shape"
   ]
  },
  {
   "cell_type": "code",
   "execution_count": 39,
   "metadata": {
    "tags": []
   },
   "outputs": [
    {
     "data": {
      "text/plain": [
       "(39849,)"
      ]
     },
     "execution_count": 39,
     "metadata": {},
     "output_type": "execute_result"
    }
   ],
   "source": [
    "LFP_SPECTRAL_SLEAP_SPIKE_DF[\"neuron_average_timestamps\"].iloc[0].shape"
   ]
  },
  {
   "cell_type": "markdown",
   "metadata": {},
   "source": [
    "## Example filtering"
   ]
  },
  {
   "cell_type": "markdown",
   "metadata": {},
   "source": [
    "- Get a range of timestamps or frames"
   ]
  },
  {
   "cell_type": "code",
   "execution_count": 40,
   "metadata": {
    "tags": []
   },
   "outputs": [],
   "source": [
    "example_tone_timestamp_range = LFP_SPECTRAL_SLEAP_SPIKE_DF[\"tone_timestamps\"].iloc[0][0]"
   ]
  },
  {
   "cell_type": "code",
   "execution_count": 41,
   "metadata": {
    "tags": []
   },
   "outputs": [
    {
     "data": {
      "text/plain": [
       "array([1030879, 1230878], dtype=int32)"
      ]
     },
     "execution_count": 41,
     "metadata": {},
     "output_type": "execute_result"
    }
   ],
   "source": [
    "example_tone_timestamp_range"
   ]
  },
  {
   "cell_type": "markdown",
   "metadata": {},
   "source": [
    "- Get a list of the timestamps of the data"
   ]
  },
  {
   "cell_type": "code",
   "execution_count": 42,
   "metadata": {
    "tags": []
   },
   "outputs": [],
   "source": [
    "example_timestamps = LFP_SPECTRAL_SLEAP_SPIKE_DF[\"video_timestamps\"].iloc[0]"
   ]
  },
  {
   "cell_type": "code",
   "execution_count": 43,
   "metadata": {
    "tags": []
   },
   "outputs": [
    {
     "data": {
      "text/plain": [
       "(79051,)"
      ]
     },
     "execution_count": 43,
     "metadata": {},
     "output_type": "execute_result"
    }
   ],
   "source": [
    "example_timestamps.shape"
   ]
  },
  {
   "cell_type": "code",
   "execution_count": 44,
   "metadata": {
    "tags": []
   },
   "outputs": [
    {
     "data": {
      "text/plain": [
       "array([      -2,     1384,     1500, ..., 79697199, 79698585, 79699971],\n",
       "      dtype=int32)"
      ]
     },
     "execution_count": 44,
     "metadata": {},
     "output_type": "execute_result"
    }
   ],
   "source": [
    "example_timestamps"
   ]
  },
  {
   "cell_type": "markdown",
   "metadata": {},
   "source": [
    "- Get the data"
   ]
  },
  {
   "cell_type": "code",
   "execution_count": 45,
   "metadata": {
    "tags": []
   },
   "outputs": [],
   "source": [
    "example_poses = LFP_SPECTRAL_SLEAP_SPIKE_DF[\"subject_locations\"].iloc[0]"
   ]
  },
  {
   "cell_type": "code",
   "execution_count": 46,
   "metadata": {
    "tags": []
   },
   "outputs": [
    {
     "data": {
      "text/plain": [
       "(79051, 6, 2)"
      ]
     },
     "execution_count": 46,
     "metadata": {},
     "output_type": "execute_result"
    }
   ],
   "source": [
    "example_poses.shape"
   ]
  },
  {
   "cell_type": "markdown",
   "metadata": {},
   "source": [
    "- Filter with function"
   ]
  },
  {
   "cell_type": "code",
   "execution_count": 47,
   "metadata": {
    "tags": []
   },
   "outputs": [],
   "source": [
    "filtered_timestamps, filtered_items = helper.filter_by_timestamp_range(start=example_tone_timestamp_range[0], \n",
    "                                 stop=example_tone_timestamp_range[1],\n",
    "                                timestamps=example_timestamps,\n",
    "                                items=example_poses)"
   ]
  },
  {
   "cell_type": "markdown",
   "metadata": {},
   "source": [
    "- Timestamps that are within the specified range"
   ]
  },
  {
   "cell_type": "code",
   "execution_count": 48,
   "metadata": {
    "tags": []
   },
   "outputs": [
    {
     "data": {
      "text/plain": [
       "(200,)"
      ]
     },
     "execution_count": 48,
     "metadata": {},
     "output_type": "execute_result"
    }
   ],
   "source": [
    "filtered_timestamps.shape"
   ]
  },
  {
   "cell_type": "code",
   "execution_count": 49,
   "metadata": {
    "tags": []
   },
   "outputs": [
    {
     "data": {
      "text/plain": [
       "(200, 6, 2)"
      ]
     },
     "execution_count": 49,
     "metadata": {},
     "output_type": "execute_result"
    }
   ],
   "source": [
    "filtered_items.shape"
   ]
  },
  {
   "cell_type": "code",
   "execution_count": 50,
   "metadata": {
    "tags": []
   },
   "outputs": [
    {
     "data": {
      "text/plain": [
       "array([1031085, 1032471, 1032471, 1033857, 1035243, 1036629, 1036629,\n",
       "       1038014, 1039400, 1040786, 1040786, 1042172, 1043558, 1044944,\n",
       "       1044944, 1046330, 1047716, 1047716, 1049101, 1050487, 1050487,\n",
       "       1051873, 1053259, 1054645, 1054645, 1056031, 1057417, 1057417,\n",
       "       1058802, 1060188, 1061574, 1061574, 1062960, 1064346, 1065732,\n",
       "       1065732, 1067118, 1068504, 1069889, 1069889, 1071275, 1072661,\n",
       "       1072661, 1074047, 1075433, 1076819, 1076819, 1078205, 1079591,\n",
       "       1079591, 1080976, 1082362, 1083748, 1083748, 1085134, 1086520,\n",
       "       1086643, 1087906, 1089292, 1090677, 1091384, 1092063, 1093449,\n",
       "       1094835, 1094835, 1096221, 1097607, 1098993, 1098993, 1100379,\n",
       "       1101764, 1101764, 1103150, 1104536, 1105922, 1105922, 1107308,\n",
       "       1108694, 1108694, 1110080, 1111466, 1112262, 1112851, 1114237,\n",
       "       1115623, 1116321, 1117009, 1118395, 1119781, 1119781, 1121167,\n",
       "       1122552, 1123938, 1123938, 1125324, 1126710, 1126710, 1128096,\n",
       "       1129482, 1130868, 1130868, 1132254, 1133639, 1133639, 1135025,\n",
       "       1136411, 1137797, 1137797, 1139183, 1140569, 1141485, 1141955,\n",
       "       1143341, 1144726, 1145963, 1146112, 1147498, 1148884, 1148884,\n",
       "       1150270, 1151656, 1153042, 1153042, 1154427, 1155813, 1155813,\n",
       "       1157199, 1158585, 1159971, 1159971, 1161357, 1162743, 1162743,\n",
       "       1164129, 1165514, 1166550, 1166900, 1168286, 1169672, 1170976,\n",
       "       1171058, 1172444, 1173830, 1174747, 1175216, 1176601, 1177987,\n",
       "       1177987, 1179373, 1180759, 1180759, 1182145, 1183531, 1184917,\n",
       "       1184917, 1186302, 1187688, 1187767, 1189074, 1190460, 1191846,\n",
       "       1191846, 1193232, 1194618, 1196004, 1196004, 1197389, 1198775,\n",
       "       1200161, 1200161, 1201547, 1202933, 1202933, 1204319, 1205705,\n",
       "       1207091, 1207091, 1208476, 1209862, 1209862, 1211248, 1212634,\n",
       "       1214020, 1214020, 1215406, 1216792, 1216792, 1218177, 1219563,\n",
       "       1220949, 1220949, 1222335, 1223721, 1225107, 1225107, 1226493,\n",
       "       1227879, 1229264, 1229264, 1230650], dtype=int32)"
      ]
     },
     "execution_count": 50,
     "metadata": {},
     "output_type": "execute_result"
    }
   ],
   "source": [
    "filtered_timestamps"
   ]
  },
  {
   "cell_type": "code",
   "execution_count": 51,
   "metadata": {
    "tags": []
   },
   "outputs": [
    {
     "data": {
      "text/plain": [
       "array([[[47.29289684, 35.53693675],\n",
       "        [44.93394439, 34.46108232],\n",
       "        [44.98054127, 36.94402084],\n",
       "        [52.7640135 , 32.21176127],\n",
       "        [48.93075444, 33.30786957],\n",
       "        [45.49551397, 35.91997452]],\n",
       "\n",
       "       [[47.19059642, 35.52335308],\n",
       "        [44.48753217, 34.73537891],\n",
       "        [44.94423333, 36.95460526],\n",
       "        [52.74707149, 32.21894287],\n",
       "        [48.9127615 , 33.30526009],\n",
       "        [45.01937907, 36.20157157]],\n",
       "\n",
       "       [[47.15187303, 35.52160882],\n",
       "        [44.46342858, 34.74615683],\n",
       "        [44.92953726, 36.96004536],\n",
       "        [52.7418804 , 32.22663309],\n",
       "        [48.89181494, 33.30638791],\n",
       "        [44.99336855, 36.20372494]],\n",
       "\n",
       "       ...,\n",
       "\n",
       "       [[51.61980064, 36.95611179],\n",
       "        [51.05446805, 35.16747158],\n",
       "        [48.33860618, 35.87138956],\n",
       "        [58.24330029, 32.9066456 ],\n",
       "        [55.57545915, 34.82275499],\n",
       "        [49.45220223, 35.89884438]],\n",
       "\n",
       "       [[51.62592824, 36.95395842],\n",
       "        [51.0571886 , 35.16309296],\n",
       "        [48.34398796, 35.87054369],\n",
       "        [57.80276141, 32.65721646],\n",
       "        [55.55600847, 34.81537713],\n",
       "        [49.45901208, 35.89612709]],\n",
       "\n",
       "       [[51.60055336, 36.94765586],\n",
       "        [51.0649943 , 35.1630432 ],\n",
       "        [48.29486122, 35.87317529],\n",
       "        [57.7961592 , 32.66048384],\n",
       "        [55.5314345 , 34.82538106],\n",
       "        [49.43902746, 35.90895058]]])"
      ]
     },
     "execution_count": 51,
     "metadata": {},
     "output_type": "execute_result"
    }
   ],
   "source": [
    "filtered_items"
   ]
  }
 ],
 "metadata": {
  "deepnote": {},
  "deepnote_execution_queue": [],
  "deepnote_notebook_id": "cf8fe3695d074ee7887fdf6459cbf5ce",
  "kernelspec": {
   "display_name": "spike_interface_0_99_0",
   "language": "python",
   "name": "spike_interface_0_99_0"
  },
  "language_info": {
   "codemirror_mode": {
    "name": "ipython",
    "version": 3
   },
   "file_extension": ".py",
   "mimetype": "text/x-python",
   "name": "python",
   "nbconvert_exporter": "python",
   "pygments_lexer": "ipython3",
   "version": "3.10.13"
  }
 },
 "nbformat": 4,
 "nbformat_minor": 4
}
